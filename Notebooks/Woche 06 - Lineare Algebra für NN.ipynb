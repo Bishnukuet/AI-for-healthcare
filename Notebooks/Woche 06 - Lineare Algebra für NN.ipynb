{
 "cells": [
  {
   "cell_type": "markdown",
   "id": "84bb42a8",
   "metadata": {},
   "source": [
    "# Lineare Algebra\n",
    "\n",
    "Heute werden wir die essentiellen mathematische Grundlagen für Neuronale Netzwerke erklären.\n",
    "\n",
    "Das erste mathematische Konzept notwenig ist der **Vektor**\n",
    "Ein Vektor ist Sammlung von mehrer Werte, und wird wie folgt definiert\n",
    "\n",
    "$$\\begin{bmatrix}3 & 4 & 0.5\\end{bmatrix}$$ \n",
    "Dieser Vektor enthält genau drei Werte. Mit Vektoren können wir einzelne Datenpunkt beschrieben. Zum Beispiel könnten wir die Daten eines Hauses in diesem Vektor speichern. Der erste Werte gibt an viele Bäder das Haus hatz, der zweite wie viele Schlafzimmer, und der dritte Wert gibt das Alter der Heizung in Jahren an.\n",
    "\n",
    "Ihnen ist bestimmt aufgefallen, dass ein Vektor erstaunlich Ähnlichkeiten zum einem 1-dimensionalen `array` hat.\n",
    "`array([3,4,0.5])`. Tatsächlich, sollen `np.arrays` die gleiche Funktionen wie Vektoren haben. Die mathematischen Regeln die für Vektoren gelten, gelten auch für die `arrays`.\n",
    "\n",
    "\n",
    "\n",
    "Wir können zum Beispiel einen Vektor mit einer Zahl multiplizieren:\n",
    "*Für bessere Übersicht schreiben wir den Vektor untereinander*\n",
    "$$3\\cdot\\begin{bmatrix}3 \\\\ 4 \\\\ 0.5\\end{bmatrix}= \\begin{bmatrix}3\\cdot 3 \\\\ 4 \\cdot 3 \\\\ 0.5 \\cdot 3\\end{bmatrix}= \\begin{bmatrix}9 \\\\ 12 \\\\ 1.5\\end{bmatrix} $$ "
   ]
  },
  {
   "cell_type": "code",
   "execution_count": 4,
   "id": "bade34bb",
   "metadata": {},
   "outputs": [
    {
     "data": {
      "text/plain": [
       "array([ 9. , 12. ,  1.5])"
      ]
     },
     "execution_count": 4,
     "metadata": {},
     "output_type": "execute_result"
    }
   ],
   "source": [
    "import numpy as np\n",
    "np.array([3,4,0.5])*3"
   ]
  },
  {
   "cell_type": "markdown",
   "id": "47439371",
   "metadata": {},
   "source": [
    "Gleiches gilt auch für Addition und Substraktion:\n",
    "$$3+\\begin{bmatrix}3 \\\\ 4 \\\\ 0.5\\end{bmatrix}= \\begin{bmatrix}3+3 \\\\ 4+3 \\\\ 0.5 + 3\\end{bmatrix}= \\begin{bmatrix}6 \\\\ 7 \\\\ 3.5\\end{bmatrix} $$ "
   ]
  },
  {
   "cell_type": "code",
   "execution_count": 10,
   "id": "5d3338b7",
   "metadata": {},
   "outputs": [
    {
     "data": {
      "text/plain": [
       "array([6. , 7. , 3.5])"
      ]
     },
     "execution_count": 10,
     "metadata": {},
     "output_type": "execute_result"
    }
   ],
   "source": [
    "3+np.array([3,4,0.5])"
   ]
  },
  {
   "cell_type": "markdown",
   "id": "6dde4019",
   "metadata": {},
   "source": [
    "Interessant werden Vektoren erst, wenn wir mehrere miteinander multiplizieren:\n",
    "\n",
    "$$\\begin{bmatrix}3 \\\\ 4 \\\\ 0.5\\end{bmatrix} \\cdot \\begin{bmatrix}0.3 \\\\ -2 \\\\ 0\\end{bmatrix} $$\n",
    "\n",
    "Das wird das Skalarprodukt genannt uind wir wie folgt berechnet.\n",
    "$$\\begin{bmatrix}3 \\\\ 4 \\\\ 0.5\\end{bmatrix} \\cdot \\begin{bmatrix}0.3 \\\\ -2 \\\\ 0\\end{bmatrix} = \\begin{bmatrix}3 \\cdot 0.3 \\\\ 4 \\cdot -2 \\\\ 0.5 \\cdot 0\\end{bmatrix} = \\begin{bmatrix}0.89 \\\\ -8 \\\\ 0\\end{bmatrix} $$\n"
   ]
  },
  {
   "cell_type": "code",
   "execution_count": 1,
   "id": "fc391937",
   "metadata": {},
   "outputs": [
    {
     "ename": "NameError",
     "evalue": "name 'np' is not defined",
     "output_type": "error",
     "traceback": [
      "\u001b[0;31m---------------------------------------------------------------------------\u001b[0m",
      "\u001b[0;31mNameError\u001b[0m                                 Traceback (most recent call last)",
      "\u001b[0;32m/tmp/ipykernel_2344102/2741008983.py\u001b[0m in \u001b[0;36m<module>\u001b[0;34m\u001b[0m\n\u001b[0;32m----> 1\u001b[0;31m \u001b[0mnp\u001b[0m\u001b[0;34m.\u001b[0m\u001b[0marray\u001b[0m\u001b[0;34m(\u001b[0m\u001b[0;34m[\u001b[0m\u001b[0;36m3\u001b[0m\u001b[0;34m,\u001b[0m\u001b[0;36m4\u001b[0m\u001b[0;34m,\u001b[0m\u001b[0;36m0.5\u001b[0m\u001b[0;34m]\u001b[0m\u001b[0;34m)\u001b[0m\u001b[0;34m*\u001b[0m \u001b[0mnp\u001b[0m\u001b[0;34m.\u001b[0m\u001b[0marray\u001b[0m\u001b[0;34m(\u001b[0m\u001b[0;34m[\u001b[0m\u001b[0;36m0.3\u001b[0m\u001b[0;34m,\u001b[0m\u001b[0;34m-\u001b[0m\u001b[0;36m2\u001b[0m\u001b[0;34m,\u001b[0m\u001b[0;36m0\u001b[0m\u001b[0;34m]\u001b[0m\u001b[0;34m)\u001b[0m\u001b[0;34m\u001b[0m\u001b[0;34m\u001b[0m\u001b[0m\n\u001b[0m",
      "\u001b[0;31mNameError\u001b[0m: name 'np' is not defined"
     ]
    }
   ],
   "source": [
    "np.array([3,4,0.5])* np.array([0.3,-2,0])"
   ]
  },
  {
   "cell_type": "markdown",
   "id": "8d4fa878",
   "metadata": {},
   "source": [
    "Wie Ihnen vielleicht schon aufgefallen ist, ähneln diese Vektormultiplikationen einer linaren Regression:"
   ]
  },
  {
   "cell_type": "code",
   "execution_count": 4,
   "id": "1d89a637",
   "metadata": {},
   "outputs": [
    {
     "data": {
      "text/plain": [
       "array([ 0.9, -8. ,  0. ])"
      ]
     },
     "execution_count": 4,
     "metadata": {},
     "output_type": "execute_result"
    }
   ],
   "source": [
    "x    = np.array([3,4,0.5])\n",
    "beta = np.array([0.3,-2,0])\n",
    "x*beta"
   ]
  },
  {
   "cell_type": "code",
   "execution_count": null,
   "id": "0dda826c",
   "metadata": {},
   "outputs": [],
   "source": []
  },
  {
   "cell_type": "markdown",
   "id": "debd3ad6",
   "metadata": {},
   "source": [
    "### Matrizenmultiplikation"
   ]
  },
  {
   "cell_type": "code",
   "execution_count": 12,
   "id": "3952962d",
   "metadata": {},
   "outputs": [
    {
     "data": {
      "text/plain": [
       "0.8999999999999999"
      ]
     },
     "execution_count": 12,
     "metadata": {},
     "output_type": "execute_result"
    }
   ],
   "source": [
    "3*0.3"
   ]
  },
  {
   "cell_type": "code",
   "execution_count": 2,
   "id": "f3951131",
   "metadata": {},
   "outputs": [
    {
     "data": {
      "text/plain": [
       "array([[ 1,  3, -5],\n",
       "       [ 2,  0,  1]])"
      ]
     },
     "execution_count": 2,
     "metadata": {},
     "output_type": "execute_result"
    }
   ],
   "source": [
    "import numpy as np\n",
    "X = np.array([[1,3,-5],\n",
    "              [2,0,1]])\n",
    "\n",
    "W = np.array([[4,-2,-1],\n",
    "              [6,0,-2],\n",
    "              [1,0,3],\n",
    "              [0,0,-1],\n",
    "              [1,2,-1]])\n",
    "X"
   ]
  },
  {
   "cell_type": "markdown",
   "id": "7e3e4e71",
   "metadata": {},
   "source": [
    "Die Multiplikation der beiden Matrizen funktioniert nicht. In der Error Nachricht können Sie sehen, dass die erste Matrix eine `(2,3)` Matrix ist: Also 2 Reihen und 3 Spalten hat. Die zweite Matrix ist eine `(5,3)` Matrix. <br>\n",
    "**Um zwei Matrizen zu multiplizieren, müssen die Anzahl der Spalten der ersten Matrix mit der Anzahl der Reihen der zweiten Matrix übereinstimmen.** <br>\n",
    "Sie können `.transpose()` am Ende des Arrays benutzen um das Transpose von `W` zu bekommen, dabei werden Reihen und Spalten vertauscht, beziehungsweise an der Diagonalen gespiegelt:"
   ]
  },
  {
   "cell_type": "code",
   "execution_count": null,
   "id": "6117c471",
   "metadata": {},
   "outputs": [],
   "source": [
    "X*W.transpose()"
   ]
  },
  {
   "cell_type": "markdown",
   "id": "6b83551b",
   "metadata": {},
   "source": [
    "**Funktioniert immer noch nicht ob wohl jetzt die Spalten und Reihen übereinstimmen.**\n",
    "\n",
    "Das Problem ist das `*` in Numpy nicht für Matrixmultiplikation benutzt werden kann. `*` wird benutzt um das Hadamard-Produkt/komponentenweises Produkt zweier Matrizen auszurechnen, bei dem beide Matrizen gleich groß sein müssen.<br>\n",
    "<center><img src=\"https://3.bp.blogspot.com/-CL15QzGDtMQ/WywZSeYQJ-I/AAAAAAAASug/EmriaQF57yIBJ9STd7FAnep-fxgKjhl1QCLcBGAs/s640/Hadamard_0.png\" style=\"width: 800px;\"></center>\n",
    "<h8><center>Fig. 5: HodentekHelp.com </center></h8>\n",
    "\n",
    "\n",
    "Um eine klassische Matrixmultiplikation zu benutzen wir `np.matmul(X,W.transpose())`.  "
   ]
  },
  {
   "cell_type": "code",
   "execution_count": null,
   "id": "f8523366",
   "metadata": {},
   "outputs": [],
   "source": [
    "np.matmul(X,W.transpose())"
   ]
  },
  {
   "cell_type": "markdown",
   "id": "0f5ff267",
   "metadata": {},
   "source": [
    "So funktionert endlich die Matrixmultiplikation mit Numpy:\n",
    "\n",
    "Sie können auch einen Vektor `b` erstellen, den wir nach der Multiplikation addieren. Hierbei müssen Sie auf nichts besonderes achten. Damit haben Sie schon die lineare Transformation in einem Neuronalen Netzwerk. "
   ]
  },
  {
   "cell_type": "code",
   "execution_count": null,
   "id": "47132df2",
   "metadata": {},
   "outputs": [],
   "source": [
    "b = np.array([1,2,0,3,-1])\n",
    "np.matmul(X,W.transpose()) + b"
   ]
  }
 ],
 "metadata": {
  "kernelspec": {
   "display_name": "Python 3 (ipykernel)",
   "language": "python",
   "name": "python3"
  },
  "language_info": {
   "codemirror_mode": {
    "name": "ipython",
    "version": 3
   },
   "file_extension": ".py",
   "mimetype": "text/x-python",
   "name": "python",
   "nbconvert_exporter": "python",
   "pygments_lexer": "ipython3",
   "version": "3.7.11"
  }
 },
 "nbformat": 4,
 "nbformat_minor": 5
}
