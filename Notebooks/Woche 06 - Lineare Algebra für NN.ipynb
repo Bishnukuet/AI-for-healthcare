{
 "cells": [
  {
   "cell_type": "markdown",
   "id": "debd3ad6",
   "metadata": {},
   "source": [
    "### Matrizenmultiplikation"
   ]
  },
  {
   "cell_type": "code",
   "execution_count": null,
   "id": "f3951131",
   "metadata": {},
   "outputs": [],
   "source": [
    "X = np.array([[1,3,-5],\n",
    "              [2,0,1]])\n",
    "\n",
    "W = np.array([[4,-2,-1],\n",
    "              [6,0,-2],\n",
    "              [1,0,3],\n",
    "              [0,0,-1],\n",
    "              [1,2,-1]])\n",
    "X*W"
   ]
  },
  {
   "cell_type": "markdown",
   "id": "7e3e4e71",
   "metadata": {},
   "source": [
    "Die Multiplikation der beiden Matrizen funktioniert nicht. In der Error Nachricht können Sie sehen, dass die erste Matrix eine `(2,3)` Matrix ist: Also 2 Reihen und 3 Spalten hat. Die zweite Matrix ist eine `(5,3)` Matrix. <br>\n",
    "**Um zwei Matrizen zu multiplizieren, müssen die Anzahl der Spalten der ersten Matrix mit der Anzahl der Reihen der zweiten Matrix übereinstimmen.** <br>\n",
    "Sie können `.transpose()` am Ende des Arrays benutzen um das Transpose von `W` zu bekommen, dabei werden Reihen und Spalten vertauscht, beziehungsweise an der Diagonalen gespiegelt:"
   ]
  },
  {
   "cell_type": "code",
   "execution_count": null,
   "id": "6117c471",
   "metadata": {},
   "outputs": [],
   "source": [
    "X*W.transpose()"
   ]
  },
  {
   "cell_type": "markdown",
   "id": "6b83551b",
   "metadata": {},
   "source": [
    "**Funktioniert immer noch nicht ob wohl jetzt die Spalten und Reihen übereinstimmen.**\n",
    "\n",
    "Das Problem ist das `*` in Numpy nicht für Matrixmultiplikation benutzt werden kann. `*` wird benutzt um das Hadamard-Produkt/komponentenweises Produkt zweier Matrizen auszurechnen, bei dem beide Matrizen gleich groß sein müssen.<br>\n",
    "<center><img src=\"https://3.bp.blogspot.com/-CL15QzGDtMQ/WywZSeYQJ-I/AAAAAAAASug/EmriaQF57yIBJ9STd7FAnep-fxgKjhl1QCLcBGAs/s640/Hadamard_0.png\" style=\"width: 800px;\"></center>\n",
    "<h8><center>Fig. 5: HodentekHelp.com </center></h8>\n",
    "\n",
    "\n",
    "Um eine klassische Matrixmultiplikation zu benutzen wir `np.matmul(X,W.transpose())`.  "
   ]
  },
  {
   "cell_type": "code",
   "execution_count": null,
   "id": "f8523366",
   "metadata": {},
   "outputs": [],
   "source": [
    "np.matmul(X,W.transpose())"
   ]
  },
  {
   "cell_type": "markdown",
   "id": "0f5ff267",
   "metadata": {},
   "source": [
    "So funktionert endlich die Matrixmultiplikation mit Numpy:\n",
    "\n",
    "Sie können auch einen Vektor `b` erstellen, den wir nach der Multiplikation addieren. Hierbei müssen Sie auf nichts besonderes achten. Damit haben Sie schon die lineare Transformation in einem Neuronalen Netzwerk. "
   ]
  },
  {
   "cell_type": "code",
   "execution_count": null,
   "id": "47132df2",
   "metadata": {},
   "outputs": [],
   "source": [
    "b = np.array([1,2,0,3,-1])\n",
    "np.matmul(X,W.transpose()) + b"
   ]
  }
 ],
 "metadata": {
  "kernelspec": {
   "display_name": "Python 3 (ipykernel)",
   "language": "python",
   "name": "python3"
  },
  "language_info": {
   "codemirror_mode": {
    "name": "ipython",
    "version": 3
   },
   "file_extension": ".py",
   "mimetype": "text/x-python",
   "name": "python",
   "nbconvert_exporter": "python",
   "pygments_lexer": "ipython3",
   "version": "3.7.11"
  }
 },
 "nbformat": 4,
 "nbformat_minor": 5
}
