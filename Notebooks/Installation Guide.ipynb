{
 "cells": [
  {
   "cell_type": "markdown",
   "id": "e119903d",
   "metadata": {},
   "source": [
    "# Installationsanleitung\n",
    "\n",
    "Um an den praktischen Anteilen des Seminars teilzunehmen, müssen Sie Jupyter Notebooks\n",
    "benutzen. Die WWU stellt Server zur Verfügung auf den man über das Internet Jupyter Notebooks\n",
    "bedienen kann. Doch die Server der WWU werden die Menge an Studenten, die an diesem\n",
    "Seminar teilnehmen, vermutlich nicht tragen können. Daher ist es zu empfehlen, dass Sie Jupyter\n",
    "Notebook lokal auf ihrem Computer installieren.\n",
    "\n",
    "\n",
    "#### Im Folgenden werden wir dafür eine Anleitung geben.\n",
    "Zu Beginn muss Anaconda installiert werden. Anaconda ist ein viel benutztes Programm, welches\n",
    "verschiedene wichtige Tools zum Programmieren von künstlicher Intelligenz verbindet unter\n",
    "anderem auch Jupyter Notebook.\n",
    "\n",
    "### Anaconda Installieren:\n",
    "1. Unter dem Link: https://www.anaconda.com/products/individual#Downloads\n",
    "    kann Anaconda heruntergeladen werden. \n",
    "    \n",
    "    ![](Img/instal1.png)\n",
    "    Wählen Sie einfach den Installer der zu ihrem Betriebssystem passt, und achten Sie darauf,\n",
    "    dass Sie den Graphical Installer benutzen.\n",
    "    Für Windows Nutzer: falls Sie nicht wissen ob Sie ein 64- oder 32-Bit Betriebssystem haben können Sie es mit dem diesem [Link](https://support.microsoft.com/en-us/office/determine-whether-your-computer-is-running-a-32-bit-version-or-64-bit-version-of-the-windows-operating-system-aac162a1-0cb3-46f2-888f-2f22897396ce) heraus finden. \n",
    "    Grundsätzlich sollten alle Windows 10 Nutzer eine x64-bit Version installiert haben.\n",
    "\n",
    "2. Nach dem Download folgen Sie bitte der Anleitung:\n",
    "    - [Windows](https://docs.anaconda.com/anaconda/install/windows)\n",
    "    - [MacOs](https://docs.anaconda.com/anaconda/install/mac-os)\n",
    "    - [Linux](https://docs.anaconda.com/anaconda/install/linux)\n",
    "    \n",
    "   Hierbei kann Schritt 2: “Verify data integrity with SHA-256“ überspringen werden.\n",
    "   Während der Installation sollten die Default Einstellung am besten nicht verändert werden.\n",
    "\n",
    "3. Öffnen Sie nun den “Anaconda Navigator”. In Windows können Sie zum Beispiel einfach\n",
    "   Anaconda in die Suchleiste tippen.\n",
    "\n",
    "    ![](Img/instal2.png)\n"
   ]
  },
  {
   "cell_type": "code",
   "execution_count": null,
   "id": "b0f4ff08",
   "metadata": {},
   "outputs": [],
   "source": [
    "Zusätzlich werden wir mit Anaconda auch PyTorch installieren.\n",
    "PyTorch wurde von Facebook entwickelt und erweitert die Möglichkeiten von Python. Es ist eine\n",
    "wichtige Grundlage für die Anwendung von Maschinellem Lernen in Python.\n",
    "Falls Sie Anaconda nicht installieren wollen oder können, so gibt es auch die Möglichkeit Google\n",
    "Colab zu benutzen: https://colab.research.google.com\n",
    "Ähnlich wie bei den WWU Servern wird hier Jupyter Notebook über das Internet bedient. Google\n",
    "Collab ist kostenlos und hat schon alle wichtigen Add-Ons vorinstalliert. Allerdings benötigen sie\n",
    "ein Google-Konto/Gmail.\n"
   ]
  }
 ],
 "metadata": {
  "kernelspec": {
   "display_name": "Python 3",
   "language": "python",
   "name": "python3"
  },
  "language_info": {
   "codemirror_mode": {
    "name": "ipython",
    "version": 3
   },
   "file_extension": ".py",
   "mimetype": "text/x-python",
   "name": "python",
   "nbconvert_exporter": "python",
   "pygments_lexer": "ipython3",
   "version": "3.7.11"
  }
 },
 "nbformat": 4,
 "nbformat_minor": 5
}
