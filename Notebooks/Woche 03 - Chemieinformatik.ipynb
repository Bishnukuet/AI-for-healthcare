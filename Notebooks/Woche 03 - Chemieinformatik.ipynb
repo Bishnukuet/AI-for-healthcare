{
 "cells": [
  {
   "cell_type": "markdown",
   "metadata": {},
   "source": [
    "# Einführung in die Chemieinformatik\n",
    "\n",
    "Im heutigen Notebook wird es um die Benutzung von Python für die Chemieinformatik gehen. \n",
    "Als Fallbeispiel werden Sie eine Alternative zu **Sorafenib** suchen. [Sorafenib](https://de.wikipedia.org/wiki/Sorafenib) ist ein Kinaseinhibitor, der vor allem bei fortgeschrittenen Nierenkrebs verwendet wird.\n",
    "\n",
    "Wie Sie in der Vorlesung gelernt haben, ist die erste Hürde in der Chemieinformatik ein adäquates Format zum Speichern von Molekülstrukturen zu finden. Um Moleküle in Python einzulesen, bietet es sich vor allem an, *SMILES* zu benutzen. Diese können auch ohne extra Libraries in Python gelesen und manipuliert werden. \n",
    "\n",
    "Für viele beschriebene Strukturen können sie auf [PubChem](https://pubchem.ncbi.nlm.nih.gov/) die Strukturen in verschiedenen Formaten erhalten. \n",
    "Finden Sie  auf PubChem den SMILES für Sorafenib und kopieren Sie diesen in die Zelle hier drunter.\n",
    "\n",
    "\n",
    "<br>\n",
    "\n",
    "<details>\n",
    "<summary><strong>Falls kein Internet vorhanden. HIER klicken</strong></summary>\n",
    "\n",
    "```python\n",
    "    sorafenib = \"CNC(=O)C1=NC=CC(=C1)OC2=CC=C(C=C2)NC(=O)NC3=CC(=C(C=C3)Cl)C(F)(F)F\"\n",
    "```\n",
    "</details>"
   ]
  },
  {
   "cell_type": "code",
   "execution_count": null,
   "metadata": {},
   "outputs": [],
   "source": [
    "sorafenib = \" \" # Den Smiles in \" \" schreiben da sonst dieser nicht richig erkannt wird\n",
    "print(sorafenib)\n",
    "type(sorafenib)"
   ]
  },
  {
   "cell_type": "markdown",
   "metadata": {},
   "source": [
    "Wie Sie sehen können wird der SMILES als `str` gespeichert. Wir können zwar den String manipulieren und auch Funktionen anwenden. Das Problem ist noch, dass Python den SMILES nicht von einem normalen String unterscheidet. Wir haben keine Möglichkeiten Information über diese Moleküle zu erhalten. Zwar kann Ihnen `len(sorafenib)` die Länge des String nennen, aber, zum Beispiel, nicht aus wie vielen Atomen dieses Molekül besteht.\n",
    "\n",
    "Hierfür brauchen sie externe Libraries. Eine der meistbenutzten Chemie Libraries ist RDKit. \n",
    "Die wichtigsten Funktionalitäten können mit `from rdkit.Chem import AllChem as Chem` geladen werden. Mit RDKit können Sie nicht nur Moleküle einlesen und darstellen, Sie können diese auch manipulieren und Eigenschaften berechnen lassen. \n",
    "Um einen SMILES als Molekül zu interpretieren, benutzen sie `Chem.MolFromSmiles(SMILES)`."
   ]
  },
  {
   "cell_type": "code",
   "execution_count": null,
   "metadata": {},
   "outputs": [],
   "source": [
    "from rdkit.Chem import AllChem as Chem\n",
    "sorafenib = Chem.MolFromSmiles(sorafenib)\n",
    "sorafenib"
   ]
  },
  {
   "cell_type": "markdown",
   "metadata": {},
   "source": [
    "Mit der Hilfe von RDKit können SMILES als valides Molekül eingelesen und dargestellt werden.\n",
    "Der `type(sorafenib)` ist jetzt:"
   ]
  },
  {
   "cell_type": "code",
   "execution_count": null,
   "metadata": {},
   "outputs": [],
   "source": [
    "type(sorafenib)"
   ]
  },
  {
   "cell_type": "markdown",
   "metadata": {},
   "source": [
    "Die Funktion `Chem.MolFromSmiles` konvertiert den SMILES `string` in einen neuen Variablen Typ, und zwar den RDKit `Mol`. Solange ein Molekül als `rdkit.Chem.rdchem.Mol`existiert können Sie alle Funktionalitäten von `rdkit` auf dieses anwenden. Sie können sich mit `Chem.MolToSmiles(mol)` das Molekül auch wieder als SMILES ausgeben lassen:"
   ]
  },
  {
   "cell_type": "code",
   "execution_count": null,
   "metadata": {},
   "outputs": [],
   "source": [
    "Chem.MolToSmiles(sorafenib)"
   ]
  },
  {
   "cell_type": "markdown",
   "metadata": {},
   "source": [
    "Der SMILES `string` von Sorafenib sieht jetzt anders aus, als der den Sie eingelesen haben. Der Unterschied liegt in der Darstellung der aromatischen Ringe. Im originalen String, wurden explizit Doppelbindung `=` benutzt, jetzt aber kleine `c`. RDKit kanonisiert automatisch die SMILES nach einem bestimmten Schema. PubChem benutzt eine andere Strategie zum Kanonisieren. Sie können SMILES in unterschiedlicher Form einlesen, aber `RDKit` wird immer dieselbe Form ausgeben.\n",
    "\n",
    "Falls ein SMILES eingelesen werden soll, der kein valides Molekül abbildet, gibt RDKit einen Fehler aus.\n"
   ]
  },
  {
   "cell_type": "code",
   "execution_count": null,
   "metadata": {},
   "outputs": [],
   "source": [
    "Chem.MolFromSmiles('CNC(=[O-])c1cc(Oc2ccc(NC(=O)Nc3ccc(Cl)c(C(F)(F)F)c3)cc2)ccn1') # (=[O-]) anstatt (=O)"
   ]
  },
  {
   "cell_type": "markdown",
   "metadata": {},
   "source": [
    "### RDKit\n",
    "Jetzt wo Sie Sorafenib im richtigen Format haben können Sie sich auch Informationen ausgeben:"
   ]
  },
  {
   "cell_type": "code",
   "execution_count": null,
   "metadata": {},
   "outputs": [],
   "source": [
    "sorafenib.GetNumAtoms() # Aus wie vielen Atomen besteht Sorafenib"
   ]
  },
  {
   "cell_type": "markdown",
   "metadata": {},
   "source": [
    "Es bestehen verschieden Funktionen, mit denen Sie Informationen über Moleküle erhalten können.`rdkit` schreibt jedem Atom und jeder Bindung einen Index zu. Über diesen Index können Sie einzelne Atome oder auch Bindungen auswählen. Welches Atom welchen Index hat, können Sie sehen, indem wir die `Draw` Optionen wie folgt ändern:"
   ]
  },
  {
   "cell_type": "code",
   "execution_count": null,
   "metadata": {},
   "outputs": [],
   "source": [
    "from rdkit.Chem import Draw # Draw sublibrary ist für die visuelle Darstellung von Molekülen zuständig\n",
    "from rdkit.Chem.Draw import IPythonConsole\n",
    "IPythonConsole.drawOptions.addAtomIndices = True \n",
    "IPythonConsole.drawOptions.addBondIndices = False\n",
    "IPythonConsole.molSize = (500, 500) "
   ]
  },
  {
   "cell_type": "code",
   "execution_count": null,
   "metadata": {},
   "outputs": [],
   "source": [
    "sorafenib"
   ]
  },
  {
   "cell_type": "markdown",
   "metadata": {},
   "source": [
    "Sie können jetzt einzelne Atome anhand der Indices mit `.GetAtomWithIdx()` auswählen. Mit weiteren Funktionen können Sie sich dann Informationen zu diesem Atom ausgeben lassen:"
   ]
  },
  {
   "cell_type": "code",
   "execution_count": null,
   "metadata": {},
   "outputs": [],
   "source": [
    "print(\"Symbol vom Atom mit Index 3\")\n",
    "print(sorafenib.GetAtomWithIdx(3).GetSymbol())\n",
    "\n",
    "print(\"\\nMasse vom Atom mit dem Index 3\")\n",
    "print(sorafenib.GetAtomWithIdx(3).GetMass())\n",
    "\n",
    "print(\"\\nHybridisierung vom Atom mit dem Index 3\")\n",
    "print(sorafenib.GetAtomWithIdx(3).GetHybridization())\n"
   ]
  },
  {
   "cell_type": "markdown",
   "metadata": {},
   "source": [
    "Mit der Funktion `.SetAtomicNum()` können Sie auch einzelne Atome ändern und zum Beispiel aus dem Keton ein Imin machen."
   ]
  },
  {
   "cell_type": "code",
   "execution_count": null,
   "metadata": {},
   "outputs": [],
   "source": [
    "sorafenib.GetAtomWithIdx(3).SetAtomicNum(7)\n",
    "display(sorafenib)\n",
    "print(Chem.MolToSmiles(sorafenib))\n",
    "sorafenib.GetAtomWithIdx(3).SetAtomicNum(8)# Veränderung wird wieder Rückgängig gemacht  "
   ]
  },
  {
   "cell_type": "markdown",
   "metadata": {},
   "source": [
    "Können Sie eines der Fluoratome in einen Kohlenstoff ändern?"
   ]
  },
  {
   "cell_type": "code",
   "execution_count": null,
   "metadata": {},
   "outputs": [],
   "source": [
    "sorafenib._____.______ # schreiben Sie hier Ihre Lösung\n",
    "\n",
    "display(sorafenib)\n",
    "print(Chem.MolToSmiles(sorafenib))\n",
    "sorafenib = Chem.MolFromSmiles(\"CNC(=O)C1=NC=CC(=C1)OC2=CC=C(C=C2)NC(=O)NC3=CC(=C(C=C3)Cl)C(F)(F)F\")"
   ]
  },
  {
   "cell_type": "markdown",
   "metadata": {},
   "source": [
    "\n",
    "<details>\n",
    "<summary><strong>Lösung:</strong></summary>\n",
    "\n",
    "```python\n",
    "    sorafenib.GetAtomWithIdx(31).SetAtomicNum(6)\n",
    "```\n",
    "</details>"
   ]
  },
  {
   "cell_type": "markdown",
   "metadata": {},
   "source": [
    "Dasselbe funktioniert auch für Bindungen."
   ]
  },
  {
   "cell_type": "code",
   "execution_count": null,
   "metadata": {},
   "outputs": [],
   "source": [
    "IPythonConsole.drawOptions.addAtomIndices = False # Keine Atom Indizes zeigen\n",
    "IPythonConsole.drawOptions.addBondIndices = True # Bindungs Indizes zeigen\n",
    "\n",
    "sorafenib"
   ]
  },
  {
   "cell_type": "code",
   "execution_count": null,
   "metadata": {},
   "outputs": [],
   "source": [
    "print(\"Welche Art von Bindung ist Bindung 4\")\n",
    "print(sorafenib.GetBondWithIdx(4).GetBondType())\n",
    "\n",
    "print(\"\\nIst Bindung 4 in einem Ring von Größe 7\")\n",
    "print(sorafenib.GetBondWithIdx(4).IsInRingSize(7))\n",
    "\n",
    "print(\"\\nIst Bindung 4 in einem Ring von Größe 6\")\n",
    "print(sorafenib.GetBondWithIdx(4).IsInRingSize(6))\n",
    "\n",
    "IPythonConsole.drawOptions.addBondIndices = False"
   ]
  },
  {
   "cell_type": "markdown",
   "metadata": {},
   "source": [
    "### Deskriptoren\n",
    "\n",
    "Hilfreicher als Informationen über einzelne Atome sind Deskriptoren, die für ein ganzes Molekül berechnet werden können. Verschiedene Submodule in `rdkit` erlaubt es Ihnen verschiedene Eigenschaften von Molekülen zu berechnen: Dasselbe funktioniert auch für Bindungen."
   ]
  },
  {
   "cell_type": "code",
   "execution_count": null,
   "metadata": {},
   "outputs": [],
   "source": [
    "from rdkit.Chem.Descriptors import MolWt\n",
    "from rdkit.Chem.Crippen import MolLogP\n",
    "\n",
    "print(\"LogP\",MolLogP(sorafenib))\n",
    "print(\"Molecular Weight\",MolWt(sorafenib))"
   ]
  },
  {
   "cell_type": "markdown",
   "metadata": {},
   "source": [
    "## Sorafenib Alternativen\n",
    "\n",
    "Das Ziel ist es alternative Moleküle für Sorafenib zu identifizieren. Eine Vorauswahl wurde schon getroffen. Die SMILES finden sich in der Liste `smiles`."
   ]
  },
  {
   "cell_type": "code",
   "execution_count": null,
   "metadata": {},
   "outputs": [],
   "source": [
    "smiles = [\n",
    "\"CNC(=O)c1cc(Oc2ccc(NC(=S)Nc3ccc(Cl)c(C(F)(F)F)c3)cc2)ccn1\",\n",
    "\"C[C@@H](NC(=O)c1cc(Oc2ccc(NC(=O)Nc3ccc(Cl)c(C(F)(F)F)c3)cc2)ccn1)C(=O)NO\",\n",
    "\"CNC(=O)c1cc(Oc2ccc(NC(=S)Nc3cc(C(F)(F)F)cc(C(F)(F)F)c3)cc2)ccn1\",\n",
    "\"N#Cc1cc(Oc2ccc(NC(=O)Nc3ccc(Cl)c(C(F)(F)F)c3)cc2)ccn1\",\n",
    "\"CN(C)c1ccc(NC(=O)c2cc(Oc3ccc(NC(=O)Nc4ccc(Cl)c(C(F)(F)F)c4)cc3)ccn2)cc1\", \n",
    "\"CNC(=O)c1cc(Oc2ccc(NC(=O)Nc3ccc(Br)c(C(F)(F)F)c3)cc2)ccn1\",\n",
    "\"CNC(=O)c1cc(Oc2ccc(NC(=O)Nc3ccc(OC(F)(F)F)cc3)cc2)ccn1\",\n",
    "\"CCNC(=O)c1cc(Oc2ccc(NC(=O)Nc3ccc(Cl)c(C(F)(F)F)c3)cc2)ccn1\",\n",
    "\"CNC(=O)c1cc(Oc2ccc(NC(=O)Nc3cccc(C(F)(F)F)c3)cc2)ccn1\"]"
   ]
  },
  {
   "cell_type": "markdown",
   "metadata": {},
   "source": [
    "Damit Sie nicht jeden SMILES einzeln in ein `mol` Objekt konvertieren müssen, schreiben Sie einen `for loop`.\n",
    "\n",
    "Sie können mehrere Moleküle nebeneinander mit der Funktion `Draw.MolsToGridImage(mols)` betrachten."
   ]
  },
  {
   "cell_type": "code",
   "execution_count": null,
   "metadata": {},
   "outputs": [],
   "source": [
    "mols = [ _____ for x in ______] #passen Sie diesen for-loop an\n",
    "Draw.MolsToGridImage(mols,subImgSize=(300, 300)) #subImgSize erlaub es uns die Moleküle größer zu `drucken`"
   ]
  },
  {
   "cell_type": "markdown",
   "metadata": {},
   "source": [
    "<details>\n",
    "<summary><strong>Lösung:</strong></summary>\n",
    "\n",
    "```python\n",
    "mols = [Chem.MolFromSmiles(x) for x in smiles]\n",
    "Draw.MolsToGridImage(mols,subImgSize=(300, 300))\n",
    "```\n",
    "</details>"
   ]
  },
  {
   "cell_type": "markdown",
   "metadata": {},
   "source": [
    "Damit Sie unnötige Kosten vermeiden, sollen Sie nur die vielversprechendsten Moleküle auswählen. Hierfür können Sie das bisher gelernte anwenden. \n",
    "Eine simple aber wichtige Faustformel die im Drugdesign benutzt wird ist [\"Lipinskis Rule of Five\"](https://flexikon.doccheck.com/de/Lipinski%27s_rule_of_five). Sie besagt, dass Moleküle vier Eigenschaften haben müssen, um als Arzneistoff wirksam zu sein:\n",
    "\n",
    "#### Lipinskis Rule of Five\n",
    "\n",
    ">- Nicht mehr als 5 Wasserstoffbrückendonoren (vor allem Stickstoff-Wasserstoff- und Sauerstoff-Wasserstoff-Bindungen)\n",
    ">- Nicht mehr als 10 Wasserstoffbrückenakzeptoren (vor allem Sauerstoff- und Stickstoffatome)\n",
    ">- Ein Molekulargewicht von weniger als 500 g/mol\n",
    ">- Ein [logP](https://de.wikipedia.org/wiki/Octanol-Wasser-Verteilungskoeffizient)-Wert von unter 5\n"
   ]
  },
  {
   "cell_type": "markdown",
   "metadata": {},
   "source": [
    "Sie haben gerade schon die Funktion für den LogP und Molekulargewicht mit `rdkit`-Funktionen berechnet.\n",
    "Das Submodul `Lipinski` in RDKit bietet noch weitere Funktionen um die Anzahl der Wasserstoffbrückendonoren und -akzeptoren zu berechnen. \n",
    "\n",
    "Berechnen Sie zunächst die Anzahl der Hydrogen Donors (`NumHDonors`): "
   ]
  },
  {
   "cell_type": "code",
   "execution_count": null,
   "metadata": {},
   "outputs": [],
   "source": [
    "from rdkit.Chem.Lipinski import NumHAcceptors, NumHDonors\n",
    "\n",
    "NumDonors = [______(x) for x in ______] # passen Sie diesen for-loop an"
   ]
  },
  {
   "cell_type": "markdown",
   "metadata": {},
   "source": [
    "<details>\n",
    "<summary><strong>Lösung:</strong></summary>\n",
    "\n",
    "```python\n",
    "NumDonors = [NumHDonors(x) for x in mols]\n",
    "```\n",
    "</details>"
   ]
  },
  {
   "cell_type": "markdown",
   "metadata": {},
   "source": [
    "Um die Anzahl der Donoren zusammen mit den Molekülen anzusehen, können Sie die Funktion `MolsToGridImage()` benutzen. Hier müssen Sie einfach dem Input Parameter `legends` die `NumDonors` geben. Das Problem ist, dass die Funktion immer nur `strings` erwartet. Also keine `integers`. Deshalb benutzen wir einen weiteren `for loop`, um die `int` in `NumDonors` zu `str` zu konvertieren."
   ]
  },
  {
   "cell_type": "code",
   "execution_count": null,
   "metadata": {},
   "outputs": [],
   "source": [
    "NumDonors = [str(x) for x in NumDonors]# Sie konvertieren die Anzahl der Donoren zum str damit wir sie als Legende benutzen können\n",
    "Draw.MolsToGridImage(mols, legends = NumDonors,subImgSize = (300,300))"
   ]
  },
  {
   "cell_type": "markdown",
   "metadata": {},
   "source": [
    "In der Bildunterschrift sehen Sie die Anzahl der Wasserstoffbrückendonoren. Alle identifizierten Moleküle haben weniger Donoren als die von Lipinski genannte Obergrenze. Wir können dasselbe für die Akzeptoren machen.\n",
    "Diesmal aber schreiben Sie den `for loop` aber so, dass die `integers` sofort in `strings` umgewandelt werden. So sparen Sie sich einen `for loop`."
   ]
  },
  {
   "cell_type": "code",
   "execution_count": null,
   "metadata": {},
   "outputs": [],
   "source": [
    "NumAcceptors = [str(________) for x in ________]# passen Sie diesen for-loop an\n",
    "Draw.MolsToGridImage(mols, legends = NumAcceptors, subImgSize= (300,300))"
   ]
  },
  {
   "cell_type": "markdown",
   "metadata": {},
   "source": [
    "<details>\n",
    "<summary><strong>Lösung:</strong></summary>\n",
    "\n",
    "```python\n",
    "NumAcceptors = [str(NumHAcceptors(x)) for x in mols]\n",
    "Draw.MolsToGridImage(mols, legends = NumAcceptors, subImgSize= (300,300))\n",
    "```\n",
    "</details>"
   ]
  },
  {
   "cell_type": "markdown",
   "metadata": {},
   "source": [
    "Auch hier bricht keines der Moleküle mit Lipinskis Regel.\n",
    "Als Nächstes berechnen Sie die das molekulare Gewicht (`MolWt()`) für die alternativen Moleküle."
   ]
  },
  {
   "cell_type": "code",
   "execution_count": null,
   "metadata": {
    "scrolled": false
   },
   "outputs": [],
   "source": [
    "molWeight = [str(_________) for __ in _______] # passen Sie diesen for-loop an\n",
    "Draw.MolsToGridImage(mols, legends = molWeight, subImgSize=(300, 300))"
   ]
  },
  {
   "cell_type": "markdown",
   "metadata": {},
   "source": [
    "<details>\n",
    "<summary><strong>Lösung:</strong></summary>\n",
    "\n",
    "```python\n",
    "molWeight = [str(MolWt(x)) for x in mols]\n",
    "Draw.MolsToGridImage(mols, legends = molWeight, subImgSize=(300, 300))\n",
    "```\n",
    "</details>"
   ]
  },
  {
   "cell_type": "markdown",
   "metadata": {},
   "source": [
    "Einige Moleküle sind tatsächlich schwerer als Lipinskis Rule of Five erlaubt.\n",
    "\n",
    "Als Letztes berechnen Sie noch den LogP (`MolLogP()`)."
   ]
  },
  {
   "cell_type": "code",
   "execution_count": null,
   "metadata": {},
   "outputs": [],
   "source": [
    "logP = [_______ for ____ in _____] # passen Sie diesen for-loop an. Achten Sie auch auf die str() Funktion\n",
    "Draw.MolsToGridImage(mols, legends = logP,subImgSize=(300, 300))"
   ]
  },
  {
   "cell_type": "markdown",
   "metadata": {},
   "source": [
    "<details>\n",
    "<summary><strong>Lösung:</strong></summary>\n",
    "\n",
    "```python\n",
    "logP = [str(MolLogP(x)) for x in mols]\n",
    "Draw.MolsToGridImage(mols, legends = logP,subImgSize=(300, 300))\n",
    "```\n",
    "</details>"
   ]
  },
  {
   "cell_type": "markdown",
   "metadata": {},
   "source": [
    "Tatsächlich überschreiten die meisten Moleküle Lipinskis LogP Wert. Nur drei Moleküle haben einen Wert geringer als fünf. Diese beiden letzten Moleküle sind die einzigen Moleküle, die allen vier Regeln von Lipinski entsprechen. Deshalb sind sie besonders geeignet als Arzneistoff. Doch sollten Sie nicht alleine aufgrund eines zu hohen LogP Wertes alle andere Moleküle verwerfen. \n",
    "\n",
    "Sorafenib hat nämlich selber einen LogP Wert der größer als 5 ist. Deswegen entfernen wir nur Moleküle die sowohl ein zu hohen LogP und ein zu hohes Gewicht haben. Sie können `booleans` benutzen, um die richtigen Moleküle auszuwählen, z.B. `logP < 5`. Allerdings haben wir vorhin die Werte als `str` gespeichert, um sie unter den Molekülen auszugeben. Deshalb berechnen wir die Werte noch einmal, ohne diese zu einem `str` zu konvertieren. Zusätzlich müssen Sie auch die Listen in einen `array` konvertieren, da Sie sonst keine Werte vergleichen können."
   ]
  },
  {
   "cell_type": "code",
   "execution_count": null,
   "metadata": {},
   "outputs": [],
   "source": [
    "import numpy as np\n",
    "logP = [MolLogP(x) for x in mols]\n",
    "logP = np.array(logP) # die Liste muss erst noch in einen Array konvertiert werden\n",
    "logP < 5.0"
   ]
  },
  {
   "cell_type": "markdown",
   "metadata": {},
   "source": [
    "Machen Sie nun dasselbe für das Gewicht (`MolWt()`)."
   ]
  },
  {
   "cell_type": "code",
   "execution_count": null,
   "metadata": {},
   "outputs": [],
   "source": [
    "molWeight = [____() ___ ____ ___ ___] #passen Sie diesen for-loop an\n",
    "molWeight = ______________ # konvertieren Sie die Liste in ein Array\n",
    "molWeight < 500"
   ]
  },
  {
   "cell_type": "markdown",
   "metadata": {},
   "source": [
    "<details>\n",
    "<summary><strong>Lösung:</strong></summary>\n",
    "\n",
    "```python\n",
    "molWeight = [MolWt(x) for x in mols]\n",
    "molWeight = np.array(molWeight)\n",
    "molWeight < 500\n",
    "```\n",
    "</details>"
   ]
  },
  {
   "cell_type": "markdown",
   "metadata": {},
   "source": [
    "Um die Moleküle auszuwählen die entweder ein Gewicht unter 500 oder einen logP von unter fünf haben können Sie das Symbol `|` benutzen. Das `|` steht für \"oder\". Das Statement `(logP < 5) | (molWeight<500)` gibt `True` aus für Elemente, die mindestens eine der beiden Konditionen erfüllt. `False` wird ausgegeben, wenn ein Element keine der beiden Konditionen erfüllt. Es liest sich also als entweder einen logP kleiner als fünf oder ein Gewicht unter 500 g/mol.\n"
   ]
  },
  {
   "cell_type": "code",
   "execution_count": null,
   "metadata": {},
   "outputs": [],
   "source": [
    "(logP < 5) | (molWeight<500)"
   ]
  },
  {
   "cell_type": "markdown",
   "metadata": {},
   "source": [
    "Mit diesem `bool` array können wir jetzt die Moleküle auswählen die noch übrig bleiben."
   ]
  },
  {
   "cell_type": "code",
   "execution_count": null,
   "metadata": {},
   "outputs": [],
   "source": [
    "mols=np.array(mols)\n",
    "mols_subset=mols[(logP < 5) | (molWeight<500)] #wir konvertieren die `mol` Liste auch zu einem array\n",
    "Draw.MolsToGridImage(mols_subset,subImgSize=(300, 300))"
   ]
  },
  {
   "cell_type": "markdown",
   "metadata": {},
   "source": [
    "Mit dem Berechnen von Deskriptoren konnten Sie die Anzahl der infrage kommenden Moleküle reduzieren. Im nächsten Schritt lernen Sie wie mit einer Similarity Search die Auswahl noch weiter reduziert werden kann"
   ]
  },
  {
   "cell_type": "markdown",
   "metadata": {},
   "source": [
    "## Fingerprints & Similarity Search\n",
    "\n",
    "RDKit kann auch verschiedene *Molecular Fingerprints* berechnen. Unter anderem auch den *Extended Connectivty Fingerprint* (ECFP) ursprünglich entwickelt von [Hahn et al.](https://pubs.acs.org/doi/10.1021/ci100050t) 2010. \n",
    "RDKit hat eine abgewandelte Version, den sie den *Morgan Fingerprint* nennen.\n",
    "Sie können die Funktion `Chem.GetMorganFingerprint(mol,radius)` benutzen, um einen den ECFP zu berechnen. Um die Ähnlichkeit von Fingerprints bewerten stellt RDKit auch Funktion zur Verfügung. Mit `DataStructs.TanimotoSimilarity(fp1,fp2)`  lässt sich zum Beispiel die Tanimoto Similarity berechnen."
   ]
  },
  {
   "cell_type": "code",
   "execution_count": null,
   "metadata": {},
   "outputs": [],
   "source": [
    "from rdkit import DataStructs\n",
    "fp_sorafenib = Chem.GetMorganFingerprint(sorafenib,radius=2)\n",
    "fp_sorafenib"
   ]
  },
  {
   "cell_type": "markdown",
   "metadata": {},
   "source": [
    "Der Morganfingerprint wird nicht als normales `np.array` gespeichert. In den nächsten Wochen werden Sie aber lernen, wie Sie auch die *normalen* Vektoren der Fingerprints erhalten können.\n",
    "\n",
    "Sie haben den Fingerprint für Sorafenib berechnet, aber um die Similarity zu berechnen brauchen Sie auch die Fingerprints der anderen Moleküle.\n",
    "\n",
    "*Schreiben Sie einen `for-loop` der für alle Moleküle in `mols_subset` den Fingerprint berechnet und diese als Liste in `fp_mols` speichert*"
   ]
  },
  {
   "cell_type": "code",
   "execution_count": null,
   "metadata": {},
   "outputs": [],
   "source": [
    "fp_mols = [Chem.GetMorganFingerprint( ___ ,radius = 2) for __ in ___ ]"
   ]
  },
  {
   "cell_type": "markdown",
   "metadata": {},
   "source": [
    "<details>\n",
    "<summary><strong>Lösung. HIER klicken</strong></summary>\n",
    "\n",
    "```python\n",
    "    fp_mols = [Chem.GetMorganFingerprint( x ,radius = 2) for x in mols_subset]\n",
    "```\n",
    "</details>\n",
    "<br>\n",
    "Um die Similarity zu berechnen benutzen Sie die oben beschriebene Funktion `TanimotoSimilarity(fp1, fp2)`\n",
    "\n",
    "\n",
    "\n"
   ]
  },
  {
   "cell_type": "code",
   "execution_count": null,
   "metadata": {},
   "outputs": [],
   "source": [
    "DataStructs.TanimotoSimilarity(fp_sorafenib,fp_mols[5])"
   ]
  },
  {
   "cell_type": "markdown",
   "metadata": {},
   "source": [
    "Schreiben Sie einen `for-loop` der für jedes Moleküle in `fp_mols` die Similarity zu Sorafenib berechnet."
   ]
  },
  {
   "cell_type": "code",
   "execution_count": null,
   "metadata": {},
   "outputs": [],
   "source": [
    "sorafenib_similarity = [DataStructs.TanimotoSimilarity(___ , ___ ) for x in ____]\n",
    "sorafenib_similarity"
   ]
  },
  {
   "cell_type": "markdown",
   "metadata": {},
   "source": [
    "<details>\n",
    "<summary><strong>Lösung. HIER klicken</strong></summary>\n",
    "\n",
    "```python\n",
    "    sorafenib_similarity=[DataStructs.TanimotoSimilarity(fp_sorafenib, x) for x in fp_mols]\n",
    "```\n",
    "</details>\n",
    "<br>\n"
   ]
  },
  {
   "cell_type": "code",
   "execution_count": null,
   "metadata": {},
   "outputs": [],
   "source": [
    "Draw.MolsToGridImage(mols_subset,legends = [str(x) for x in sorafenib_similarity],subImgSize=(300, 300))"
   ]
  },
  {
   "cell_type": "markdown",
   "metadata": {},
   "source": [
    "Hier drüber sehen Sie die Similarity der einzelnen Moleküle zu Sorafenib. Ein Molekül hat eine Similarity von 0.80. Eine oft benutzte Faustregel ist, dass ab einer Similarity von 0.8 die Moleküle ähnlich genug sind, um als relevante Alternative zu gelten. Das heißt in unserem Fall, dass wir nur ein Molekül testen würde. Das Molekül mit einer Similarity von `0.7979...` würde man wahrscheinlich auch noch als relevant betrachten.\n",
    "Grundsätzlich wird eine Similarity Search auch oft nur benutzt, um den Raum der relevanten Moleküle einzugrenzen.\n",
    "\n",
    "Aus neun Molekülen die relevantesten herauszusuchen könnte ein medizinischer Chemiker wahrscheinlich auch ohne Computer. Der eigentliche Vorteil vom Computer wird erst ersichtlich, wenn Sie einen Pool aus mehreren Millionen Molekülen haben. Der Code würde genau so funktionieren, Sie müssten nur die extra SMILES am Anfang des Notebooks einlesen.\n"
   ]
  },
  {
   "cell_type": "markdown",
   "metadata": {},
   "source": [
    "## Übungsaufgabe: Alternativen zum Norfloxacin Antibiotikum\n",
    "\n",
    "**Zur Benotung einreichen!**\n",
    "\n",
    "Als etwas anspruchsvollere Aufgabe sollen Sie nun das bis jetzt Gelernte noch einmal selbstständig anwenden. \n",
    "Grundsätzlich sind ist die Aufgabe sehr ähnlich zu den bisherigen, Sie erhalten aber weniger Hilfestellungen.\n",
    "Suchen Sie zuerst den SMILES `string` für Norfloxacin bei [PubChem](https://pubchem.ncbi.nlm.nih.gov/) heraus. Anschließend konvertieren Sie den String zum mol Format und lassen sich das Molekül anzeigen."
   ]
  },
  {
   "cell_type": "code",
   "execution_count": null,
   "metadata": {},
   "outputs": [],
   "source": [
    "# Falls Sie diese Aufgabe zu einem späteren Zeitpunkt erledigen, können Sie mit dieser Zelle\n",
    "# die benötigten Libraries auf ein Mal neu importieren\n",
    "from rdkit.Chem import AllChem as Chem\n",
    "from rdkit.Chem import Draw\n",
    "from rdkit.Chem.Descriptors import MolWt \n",
    "from rdkit.Chem.Crippen import MolLogP\n",
    "from rdkit.Chem.Lipinski import NumHAcceptors, NumHDonors\n",
    "from rdkit import DataStructs"
   ]
  },
  {
   "cell_type": "code",
   "execution_count": null,
   "metadata": {},
   "outputs": [],
   "source": [
    "norfloxacin = \"CCN1C=C(C(=O)C2=CC(=C(C=C21)N3CCNCC3)F)C(=O)O\"\n",
    "# konvertieren Sie den string zum mol Format\n",
    "norfloxacin = \n",
    "# lassen Sie sich das Molekül anzeigen\n",
    "norfloxacin"
   ]
  },
  {
   "cell_type": "markdown",
   "metadata": {},
   "source": [
    "Berechnen Sie als Nächstes die für *Lipinskis Rule of Five* wichtigen Deskriptoren für Norfloxacin."
   ]
  },
  {
   "cell_type": "code",
   "execution_count": null,
   "metadata": {},
   "outputs": [],
   "source": [
    "# Berechnen Sie MW\n",
    "MW_norfloxacin = \n",
    "\n",
    "# Berechnen Sie die Anzahl an H-Brücken Akzeptoren\n",
    "NumHAcceptors_norfloxacin = \n",
    "\n",
    "# Berechnen Sie die Anzahl an H-Brücken Donoren\n",
    "NumHDonors_norfloxacin = \n",
    "\n",
    "# Berechen Sie logP\n",
    "logP_norfloxacin = "
   ]
  },
  {
   "cell_type": "markdown",
   "metadata": {},
   "source": [
    "Die nächste Zelle gibt ihnen die berechneten Deskriptoren aus:"
   ]
  },
  {
   "cell_type": "code",
   "execution_count": 1,
   "metadata": {},
   "outputs": [
    {
     "ename": "NameError",
     "evalue": "name 'MW_norfloxacin' is not defined",
     "output_type": "error",
     "traceback": [
      "\u001b[0;31m---------------------------------------------------------------------------\u001b[0m",
      "\u001b[0;31mNameError\u001b[0m                                 Traceback (most recent call last)",
      "\u001b[0;32m/tmp/ipykernel_1071766/3957658132.py\u001b[0m in \u001b[0;36m<module>\u001b[0;34m\u001b[0m\n\u001b[0;32m----> 1\u001b[0;31m \u001b[0mprint\u001b[0m\u001b[0;34m(\u001b[0m\u001b[0;34m\"MW:\"\u001b[0m\u001b[0;34m,\u001b[0m \u001b[0mMW_norfloxacin\u001b[0m\u001b[0;34m)\u001b[0m\u001b[0;34m\u001b[0m\u001b[0;34m\u001b[0m\u001b[0m\n\u001b[0m\u001b[1;32m      2\u001b[0m \u001b[0mprint\u001b[0m\u001b[0;34m(\u001b[0m\u001b[0;34m\"NumHAcceptors\"\u001b[0m\u001b[0;34m,\u001b[0m \u001b[0mNumHAcceptors_norfloxacin\u001b[0m\u001b[0;34m)\u001b[0m\u001b[0;34m\u001b[0m\u001b[0;34m\u001b[0m\u001b[0m\n\u001b[1;32m      3\u001b[0m \u001b[0mprint\u001b[0m\u001b[0;34m(\u001b[0m\u001b[0;34m\"NumHDonors\"\u001b[0m\u001b[0;34m,\u001b[0m \u001b[0mNumHDonors_norfloxacin\u001b[0m\u001b[0;34m)\u001b[0m\u001b[0;34m\u001b[0m\u001b[0;34m\u001b[0m\u001b[0m\n\u001b[1;32m      4\u001b[0m \u001b[0mprint\u001b[0m\u001b[0;34m(\u001b[0m\u001b[0;34m\"LogP\"\u001b[0m\u001b[0;34m,\u001b[0m\u001b[0mlogP_norfloxacin\u001b[0m\u001b[0;34m)\u001b[0m\u001b[0;34m\u001b[0m\u001b[0;34m\u001b[0m\u001b[0m\n",
      "\u001b[0;31mNameError\u001b[0m: name 'MW_norfloxacin' is not defined"
     ]
    }
   ],
   "source": [
    "print(\"MW:\", MW_norfloxacin)\n",
    "print(\"NumHAcceptors\", NumHAcceptors_norfloxacin)\n",
    "print(\"NumHDonors\", NumHDonors_norfloxacin)\n",
    "print(\"LogP\",logP_norfloxacin)"
   ]
  },
  {
   "cell_type": "markdown",
   "metadata": {},
   "source": [
    "Eine Vorauswahl an möglichen Norfloxacin Alternativen ist in der nächsten Zelle aufgelistet. Konvertieren Sie die SMILES ins mol Format und berechnen Sie im Anschluss die Deskriptoren. Am einfachsten geht dies mit der oben mehrfach verwendeten Schreibweise `Liste = [Funktion(x) for x in AndereListe]`."
   ]
  },
  {
   "cell_type": "code",
   "execution_count": null,
   "metadata": {},
   "outputs": [],
   "source": [
    "# Vergessen Sie nicht, zuerst diese Zelle auszuführen.\n",
    "quinolones = [\"C1CC1N2C=C(C(=O)C3=CC(=C(C=C32)N4CCNCC4)F)C(=O)O\",\n",
    "             \"CN1CCN(CC1)C2=C(C=C3C(=C2F)N(C=C(C3=O)C(=O)O)CCF)F\",\n",
    "             \"CCN1C=C(C(=O)C2=CC(=C(C(=C21)F)N3CCNC(C3)C)F)C(=O)O\",\n",
    "             \"CC1CCC2=C3N1C=C(C(=O)C3=CC(=C2N4CCC(CC4)O)F)C(=O)O\",\n",
    "             \"CC1COC2=C3N1C=C(C(=O)C3=CC(=C2N4CCN(CC4)C)F)C(=O)O\"\n",
    "             \"CCN1C=C(C(=O)C2=CC(=C(C=C21)N3CCN(CC3)C)F)C(=O)O\",\n",
    "             \"CN1CCN(CC1)C2=C(C=C3C4=C2SCCN4C=C(C3=O)C(=O)O)F\",\n",
    "             \"CCN1C=C(C(=O)C2=CC(=C(N=C21)N3CCNCC3)F)C(=O)O\",\n",
    "             \"CNC1CCCN(C1)C2=C(C=C3C(=C2OC)N(C=C(C3=O)C(=O)O)C4CC4)F\",\n",
    "             \"CC1CN(CCN1)C2=C(C(=C3C(=C2)N(C=C(C3=O)C(=O)O)C4CC4)C)F\",\n",
    "             \"C[C@H]1COC2=C3N1C=C(C(=O)C3=CC(=C2N4CCN(CC4)C)F)C(=O)O\",\n",
    "             \"C[C@H]1COC2=C3N1C=C(C(=O)C3=CC(=C2C4(CC4)N)F)C(=O)O\",\n",
    "             \"C[C@@H]1CN(C[C@@H](N1)C)C2=C(C(=C3C(=C2F)N(C=C(C3=O)C(=O)O)C4CC4)N)F\",\n",
    "             \"CC1CN(CCN1)C2=C(C=C3C(=C2)N(C=C(C3=O)C(=O)O)C4=C(C=C(C=C4)F)F)F\",\n",
    "             \"C1CN(CC1N)C2=C(C=C3C(=O)C(=CN(C3=N2)C4=C(C=C(C=C4)F)F)C(=O)O)F\"]"
   ]
  },
  {
   "cell_type": "code",
   "execution_count": null,
   "metadata": {},
   "outputs": [],
   "source": [
    "# Formen Sie die Strings zum mol Format um \n",
    "quinolones = "
   ]
  },
  {
   "cell_type": "code",
   "execution_count": null,
   "metadata": {},
   "outputs": [],
   "source": [
    "# Berechnen Sie hier die vier Deskriptoren für alle Moleküle der Liste\n",
    "MW_quinolones = \n",
    "NumHAcceptors_quinolones = \n",
    "NumHDonors_quinolones = \n",
    "logP_quinolones = "
   ]
  },
  {
   "cell_type": "markdown",
   "metadata": {},
   "source": [
    "In der folgenden Zelle können Sie sich die Moleküle mit den berechneten Deskriptoren anzeigen lassen. Den Code müssen Sie dabei nicht nachvollziehen. \n",
    "\n",
    "Sie müssen rein zommen, um die Werte lesen zukönnen. `Strg` + Mausrad"
   ]
  },
  {
   "cell_type": "code",
   "execution_count": 2,
   "metadata": {
    "scrolled": true
   },
   "outputs": [
    {
     "ename": "NameError",
     "evalue": "name 'MW_quinolones' is not defined",
     "output_type": "error",
     "traceback": [
      "\u001b[0;31m---------------------------------------------------------------------------\u001b[0m",
      "\u001b[0;31mNameError\u001b[0m                                 Traceback (most recent call last)",
      "\u001b[0;32m/tmp/ipykernel_1071766/4034250760.py\u001b[0m in \u001b[0;36m<module>\u001b[0;34m\u001b[0m\n\u001b[1;32m      1\u001b[0m \u001b[0mlegend\u001b[0m \u001b[0;34m=\u001b[0m \u001b[0;34m[\u001b[0m\u001b[0;34m]\u001b[0m\u001b[0;34m\u001b[0m\u001b[0;34m\u001b[0m\u001b[0m\n\u001b[0;32m----> 2\u001b[0;31m \u001b[0;32mfor\u001b[0m \u001b[0mi\u001b[0m \u001b[0;32min\u001b[0m \u001b[0mrange\u001b[0m\u001b[0;34m(\u001b[0m\u001b[0mlen\u001b[0m\u001b[0;34m(\u001b[0m\u001b[0mMW_quinolones\u001b[0m\u001b[0;34m)\u001b[0m\u001b[0;34m)\u001b[0m\u001b[0;34m:\u001b[0m\u001b[0;34m\u001b[0m\u001b[0;34m\u001b[0m\u001b[0m\n\u001b[0m\u001b[1;32m      3\u001b[0m     legend.append(\"MW: \"+str(round(MW_quinolones[i]))+\"\\n\"+\n\u001b[1;32m      4\u001b[0m                  \u001b[0;34m\"NumHAcceptors: \"\u001b[0m\u001b[0;34m+\u001b[0m\u001b[0mstr\u001b[0m\u001b[0;34m(\u001b[0m\u001b[0mNumHAcceptors_quinolones\u001b[0m\u001b[0;34m[\u001b[0m\u001b[0mi\u001b[0m\u001b[0;34m]\u001b[0m\u001b[0;34m)\u001b[0m\u001b[0;34m+\u001b[0m\u001b[0;34m\"\\n\"\u001b[0m\u001b[0;34m+\u001b[0m\u001b[0;34m\u001b[0m\u001b[0;34m\u001b[0m\u001b[0m\n\u001b[1;32m      5\u001b[0m                  \u001b[0;34m\"NumHDonors: \"\u001b[0m\u001b[0;34m+\u001b[0m\u001b[0mstr\u001b[0m\u001b[0;34m(\u001b[0m\u001b[0mNumHDonors_quinolones\u001b[0m\u001b[0;34m[\u001b[0m\u001b[0mi\u001b[0m\u001b[0;34m]\u001b[0m\u001b[0;34m)\u001b[0m\u001b[0;34m+\u001b[0m\u001b[0;34m\"\\n\"\u001b[0m\u001b[0;34m+\u001b[0m\u001b[0;34m\u001b[0m\u001b[0;34m\u001b[0m\u001b[0m\n",
      "\u001b[0;31mNameError\u001b[0m: name 'MW_quinolones' is not defined"
     ]
    }
   ],
   "source": [
    "legend = []\n",
    "for i in range(len(MW_quinolones)):\n",
    "    legend.append(\"MW: \"+str(round(MW_quinolones[i]))+\"\\n\"+\n",
    "                 \"NumHAcceptors: \"+str(NumHAcceptors_quinolones[i])+\"\\n\"+\n",
    "                 \"NumHDonors: \"+str(NumHDonors_quinolones[i])+\"\\n\"+\n",
    "                 \"logP: \"+str(round(logP_quinolones[i], 4)))\n",
    "\n",
    "Draw.MolsToGridImage(quinolones, molsPerRow=3, legends = legend,\n",
    "                    subImgSize=(250,150), useSVG=True)"
   ]
  },
  {
   "cell_type": "markdown",
   "metadata": {},
   "source": [
    "Da so gut wie alle Moleküle *Lipinskis Rule of Five* folgen, verzichten wir an dieser Stelle darauf, Moleküle aus unserer Datenbank zu entfernen und berechnen stattdessen direkt die Ähnlichkeit zu Norfloxacin. Dafür müssen erst die Fingerprints und anschließend die Tanimoto Similarity berechnet werden."
   ]
  },
  {
   "cell_type": "code",
   "execution_count": null,
   "metadata": {},
   "outputs": [],
   "source": [
    "# Berechnen Sie zuerst die Fingerprints der Quinolone und von Norfloxacin\n",
    "norfloxacin_fp = \n",
    "quinolones_fp = "
   ]
  },
  {
   "cell_type": "markdown",
   "metadata": {},
   "source": [
    "Berechnen Sie nun die Ähnlichkeit von der Quinolone zu Norfloxacin. <br>In der Zelle darunter können Sie sich die Ähnlichkeiten anzeigen lassen."
   ]
  },
  {
   "cell_type": "code",
   "execution_count": null,
   "metadata": {},
   "outputs": [],
   "source": [
    "quinolones_similarity = "
   ]
  },
  {
   "cell_type": "code",
   "execution_count": null,
   "metadata": {},
   "outputs": [],
   "source": [
    "Draw.MolsToGridImage(quinolones, legends = [str(round(x, 2)) for x in quinolones_similarity],\n",
    "                    subImgSize=(250,200), useSVG=True)"
   ]
  },
  {
   "cell_type": "markdown",
   "metadata": {},
   "source": [
    "Wie Sie sehen, sind die meisten Moleküle nicht besonders ähnlich zu Norfloxacin (zumindest nach der Tanimoto Similarity). Tatsächlich handelt es sich jedoch bei jedem der Moleküle um Breitbandantibiotika, die zumindest in der Vergangenheit erhältlich waren. Man kann sich also nicht alleine auf die Ähnlichkeit zwischen Molekülen verlassen, um auf die Aktivität zu schließen."
   ]
  }
 ],
 "metadata": {
  "kernelspec": {
   "display_name": "Python 3 (ipykernel)",
   "language": "python",
   "name": "python3"
  },
  "language_info": {
   "codemirror_mode": {
    "name": "ipython",
    "version": 3
   },
   "file_extension": ".py",
   "mimetype": "text/x-python",
   "name": "python",
   "nbconvert_exporter": "python",
   "pygments_lexer": "ipython3",
   "version": "3.7.11"
  }
 },
 "nbformat": 4,
 "nbformat_minor": 4
}
