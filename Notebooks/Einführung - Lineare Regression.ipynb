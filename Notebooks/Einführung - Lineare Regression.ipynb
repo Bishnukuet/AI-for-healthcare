{
 "cells": [
  {
   "cell_type": "markdown",
   "id": "28aa56c8",
   "metadata": {},
   "source": [
    "# Einführung Statistik\n",
    "\n",
    "Wir werden heuten ein paar wenige Grundlagen zur Statistik anschauen.\n",
    "Die Statistik woll uns helfen Daten einfach zu beschrieben und erklären. "
   ]
  },
  {
   "cell_type": "code",
   "execution_count": 11,
   "id": "30ff49e5",
   "metadata": {},
   "outputs": [],
   "source": [
    "import pandas as pd\n",
    "from matplotlib import pyplot as plt\n",
    "%matplotlib inline"
   ]
  },
  {
   "cell_type": "markdown",
   "id": "e402ffe7",
   "metadata": {},
   "source": [
    "Wir können uns zum Beispiel die Abi Noten einer bestimmten Klasse anschauen:"
   ]
  },
  {
   "cell_type": "code",
   "execution_count": 86,
   "id": "a1b2a350",
   "metadata": {},
   "outputs": [],
   "source": [
    "abi_klasse = [1.64, 2.35, 1.88, 2.48, 2.16, 3.92, 2.16, 2.  , 1.76, 2.82, 1.81,\n",
    "       2.59, 3.03, 1.7 , 2.87, 3.21, 2.65, 1.97, 1.2, 1.67, 1.77, 1.98,\n",
    "       3.4 , 1.31, 1.72, 2.05, 1.12 , 1.56, 2.01, 2.1 ]"
   ]
  },
  {
   "cell_type": "markdown",
   "id": "cf298879",
   "metadata": {},
   "source": [
    "Allerdings ist es sehr schwer nur über die Daten eine Übersicht zubekommen.\n",
    "Einfach ist es sich die Noten aufzuzeichnen.\n",
    "<img src='Img/intro_stats/noten_1.png'></img>\n",
    "\n",
    "Obwohl Sie jetzt eine bessere gesamt Übersicht haben, könnte es ihnen schwer fallen zwei Klassen miteinander zu vergleichen.\n",
    "<img src='Img/intro_stats/noten_2.png'></img>\n",
    "\n",
    "Oft reicht eine rein visuelle Inspektion nicht um eindeutige Entscheidungen zu treffen.\n",
    "Hierfür werden Metriken benögt, die die Verteilung von Datenpunkten, wie die Abinoten, beschreiben.\n",
    "\n",
    "Am wohlbekanntesten ist der Mittelwert, genauer gesagt das arithmetisches Mittel. Es beschreibt den Durchschnitt einer Verteilung von Datenpunkten. \n",
    "Und das arithmetische Mittel zu berechnen wird die Summe aller Werte durch die Anzahl der Werte geteilt.\n",
    "\n",
    "\n",
    "$$\\bar{x} = \\frac{1}{n}\\sum_{i=1}^n x_i$$\n",
    "\n",
    "Der mittelwert wird oft durch $\\bar{x}$ beschrieben.\n",
    "Berechnen Sie das arithmetische Mittel in Python für die Abiklasse aus. *Ohne dabei Numpy zu benutzen*"
   ]
  },
  {
   "cell_type": "code",
   "execution_count": null,
   "id": "babafe84",
   "metadata": {},
   "outputs": [],
   "source": [
    "mean_abiklasse =  # Formel für den Mittelwert"
   ]
  },
  {
   "cell_type": "markdown",
   "id": "b5f37e5b",
   "metadata": {},
   "source": [
    "<details>\n",
    "    <summary><b>Lösung:</b></summary>\n",
    "    <code>mean_abiklasse = sum(abi_klasse)/len(abi_klasse)\n",
    "sum_diag(A)</code> \n",
    "</details>"
   ]
  },
  {
   "cell_type": "markdown",
   "id": "8dc7cc52",
   "metadata": {},
   "source": [
    "Doch der Mittelwert reicht nicht um eine Verteilung von Werten adequate zu beschrieben. Zum Beispiel, haben die beiden [Normal Verteilungen](https://de.statista.com/statistik/lexikon/definition/95/normalverteilung/) im Beispiel den gleichen Mittelwert und trotzdem sind Sie nicht identisch Verteilt. \n",
    "<img src='Img/intro_stats/noten_3.png'></img>\n",
    "\n",
    "Wir können sehen, dass die orangene Verteilung viel schmaller ist als die blaue. Das heißt die Werte der orangenen Gruppe liegen näher an ihrem Durchschnitt als bei der blauen Gruppe.\n",
    "Die breite einer Verteilung wird durch die Varianz gemessen. Die Varianz misst den durchschnittlichen Abstand der Werte zu ihrem Mittelwert. \n",
    "\n",
    "Die Varianze ($s^2$) wird wie folgt berechnet:\n",
    "\n",
    "$$s^2 = \\frac{1}{n-1}\\sum_{i=1}^n(x_i-\\bar{x})^2$$\n",
    "\n",
    "Beachtet das nicht die Different ($x_i-\\bar{x}$) sondern das Quadrat ($x_i -\\bar{x})^2$ der Differnenz summiert wird. Somit haben größere Abstände einen größeren Einfluß auf die Varianz. "
   ]
  },
  {
   "cell_type": "code",
   "execution_count": 90,
   "id": "71817d5b",
   "metadata": {},
   "outputs": [],
   "source": []
  },
  {
   "cell_type": "code",
   "execution_count": null,
   "id": "285fcb8d",
   "metadata": {},
   "outputs": [],
   "source": []
  }
 ],
 "metadata": {
  "kernelspec": {
   "display_name": "Python 3",
   "language": "python",
   "name": "python3"
  },
  "language_info": {
   "codemirror_mode": {
    "name": "ipython",
    "version": 3
   },
   "file_extension": ".py",
   "mimetype": "text/x-python",
   "name": "python",
   "nbconvert_exporter": "python",
   "pygments_lexer": "ipython3",
   "version": "3.7.11"
  }
 },
 "nbformat": 4,
 "nbformat_minor": 5
}
