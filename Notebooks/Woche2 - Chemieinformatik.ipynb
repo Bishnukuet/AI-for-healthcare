{
 "cells": [
  {
   "cell_type": "markdown",
   "metadata": {},
   "source": [
    "# Einführung in die Chemieinformatik\n",
    "\n",
    "Im heutigen Notebook wird es um die benutzung von Python für die Chemieinformatik gehen. \n",
    "Als Fallbeispiel werden Sie eine Alternative zu **Sorafenib** suchen. [Sorafenib](https://de.wikipedia.org/wiki/Sorafenib) ist ein Kinaseinhibitor der vorallem bei fortgeschrittenen Nierenkrebs verwendet wird.\n",
    "\n",
    "Wie Sie in der Vorlesung gelernt haben, ist die erste Hürde in der Chemieinformatik der adequate Format zum speichern von Molekülstrukturen zu finden. Um Moleküle in Python einzulesen bieten sich vorallem *SMILES* zu benutzen. Diese können auch ohne extra Libraries in Python gelesen und manipuliert werden. \n",
    "\n",
    "Für viele beschriebene Struturen können sie auf [PubChem](https://pubchem.ncbi.nlm.nih.gov/) die Strukturen in verschiedenen Formaten erhalten. \n",
    "Finden Sie  auf PubChem den SMILES für Sorafenib und kopieren Sie diesen in die Zelle hier drunter\n",
    "\n",
    "\n",
    "<br>\n",
    "\n",
    "<details>\n",
    "<summary><strong>Falls kein Internet vorhanden. HIER klicken</strong></summary>\n",
    "\n",
    "```python\n",
    "    sorafenib = \"CNC(=O)C1=NC=CC(=C1)OC2=CC=C(C=C2)NC(=O)NC3=CC(=C(C=C3)Cl)C(F)(F)F\"\n",
    "```\n",
    "</details>"
   ]
  },
  {
   "cell_type": "code",
   "execution_count": 168,
   "metadata": {},
   "outputs": [
    {
     "name": "stdout",
     "output_type": "stream",
     "text": [
      "\n"
     ]
    },
    {
     "data": {
      "text/plain": [
       "str"
      ]
     },
     "execution_count": 168,
     "metadata": {},
     "output_type": "execute_result"
    }
   ],
   "source": [
    "sorafenib = \"\" # Den Smiles in \" \" schreiben da sonst dieser nicht richig erkannt wird\n",
    "print(sorafenib)\n",
    "type(sorafenib)"
   ]
  },
  {
   "cell_type": "markdown",
   "metadata": {},
   "source": [
    "Wie Sie sehen können wird der SMILES als `str` gespeichert. Wir können zwar den string manipulieren und auch Funktionen anwenden. Das Problem ist noch, dass Python den SMILES nict von einem normalen String unterscheidet. Wir haben keine Möglichkeiten Information über diese Moleküle zu erhalten. Zwar kann Ihnen `len(sorafenib)` die Länge des String nennnen, aber nicht aus wie vielen Atomen dieses Molekül besteht.\n",
    "\n",
    "Hierfür brauchen sie externe Libraries. Eine der meist benutzten Chemielibraries ist RDKit. \n",
    "Die wichtigsten Funktionalitäten können mit `from rdkit.Chem import AllChem as Chem`. Mit RDKit können Sie nicht nur Moleküle einlesen und darstellen, Sie können diese auch manipulieren und Eigenschaften berechnen lassen. \n",
    "Um einen SMILES als Moleküle zu interpretieren, benutzen sie `Chem.MolFromSmiles(SMILES)`."
   ]
  },
  {
   "cell_type": "code",
   "execution_count": 171,
   "metadata": {},
   "outputs": [
    {
     "ename": "TypeError",
     "evalue": "No registered converter was able to produce a C++ rvalue of type std::__cxx11::basic_string<wchar_t, std::char_traits<wchar_t>, std::allocator<wchar_t> > from this Python object of type Mol",
     "output_type": "error",
     "traceback": [
      "\u001b[0;31m---------------------------------------------------------------------------\u001b[0m",
      "\u001b[0;31mTypeError\u001b[0m                                 Traceback (most recent call last)",
      "\u001b[0;32m<ipython-input-171-472bf3c0a734>\u001b[0m in \u001b[0;36m<module>\u001b[0;34m\u001b[0m\n\u001b[1;32m      1\u001b[0m \u001b[0;32mfrom\u001b[0m \u001b[0mrdkit\u001b[0m\u001b[0;34m.\u001b[0m\u001b[0mChem\u001b[0m \u001b[0;32mimport\u001b[0m \u001b[0mAllChem\u001b[0m \u001b[0;32mas\u001b[0m \u001b[0mChem\u001b[0m\u001b[0;34m\u001b[0m\u001b[0;34m\u001b[0m\u001b[0m\n\u001b[0;32m----> 2\u001b[0;31m \u001b[0msorafenib\u001b[0m \u001b[0;34m=\u001b[0m \u001b[0mChem\u001b[0m\u001b[0;34m.\u001b[0m\u001b[0mMolFromSmiles\u001b[0m\u001b[0;34m(\u001b[0m\u001b[0msorafenib\u001b[0m\u001b[0;34m)\u001b[0m\u001b[0;34m\u001b[0m\u001b[0;34m\u001b[0m\u001b[0m\n\u001b[0m\u001b[1;32m      3\u001b[0m \u001b[0msorafenib\u001b[0m\u001b[0;34m\u001b[0m\u001b[0;34m\u001b[0m\u001b[0m\n",
      "\u001b[0;31mTypeError\u001b[0m: No registered converter was able to produce a C++ rvalue of type std::__cxx11::basic_string<wchar_t, std::char_traits<wchar_t>, std::allocator<wchar_t> > from this Python object of type Mol"
     ]
    }
   ],
   "source": [
    "from rdkit.Chem import AllChem as Chem\n",
    "sorafenib = Chem.MolFromSmiles(sorafenib)\n",
    "sorafenib"
   ]
  },
  {
   "cell_type": "markdown",
   "metadata": {},
   "source": [
    "Mit der Hilfe von rdkit können SMILES als valides Moleküle eingelesen und dargestellt werden.\n",
    "Der `type(sorafenib)` ist jetzt:"
   ]
  },
  {
   "cell_type": "code",
   "execution_count": null,
   "metadata": {},
   "outputs": [],
   "source": [
    "type(sorafenib)"
   ]
  },
  {
   "cell_type": "markdown",
   "metadata": {},
   "source": [
    "Die Funktion `Chem.MolFromSmiles` konventiert SMILES `string` in einen neue Variablen Typ und zwar den rdkit `Mol`. Solange ein Molküle als `rdkit.Chem.rdchem.Mol` existiert können Sie alle Funktionalitäten von `rdkit` auf diese anwenden. Sie können sich mit `Chem.MolToSmiles(mol)` das Moleküle auch wieder als SMILES ausgeben lassen"
   ]
  },
  {
   "cell_type": "code",
   "execution_count": null,
   "metadata": {},
   "outputs": [],
   "source": [
    "Chem.MolToSmiles(sorafenib)"
   ]
  },
  {
   "cell_type": "markdown",
   "metadata": {},
   "source": [
    "Der SMILES string von Sorafenib sieht jetzt anders aus, als der den wir eingelesen haben. Der Unterschied liegt in der Darstellung der aromatischen Ringe. Im originalen String, wurden explizit Doppelbindung `=` benutzt, jetzt aber kleine `c`. RDKit kanonalisiert automatisch die SMILES nach einem bestimmten Schema. PubChem benutzt eine andere anderes Schema. Sie können SMILES in unterschiedlicher Form einlesen, aber `RDKit` wird immer die selbe Form ausgeben.\n",
    "\n",
    "Falls ein SMILES eingelsen werden soll, der kein valides Molekül abbildet gibt RDKit einen Fehler aus.\n"
   ]
  },
  {
   "cell_type": "code",
   "execution_count": null,
   "metadata": {},
   "outputs": [],
   "source": [
    "Chem.MolFromSmiles('CNC(=[O-])c1cc(Oc2ccc(NC(=O)Nc3ccc(Cl)c(C(F)(F)F)c3)cc2)ccn1') # (=[O-]) anstatt (=O)"
   ]
  },
  {
   "cell_type": "markdown",
   "metadata": {},
   "source": [
    "Jetzt wo Sie Sorafenib im richtigen Format haben können Sie sich auch Informationen ausgeben:"
   ]
  },
  {
   "cell_type": "code",
   "execution_count": null,
   "metadata": {},
   "outputs": [],
   "source": [
    "sorafenib.GetNumAtoms() # Aus wie vielen Atomen besteht sorafenib, "
   ]
  },
  {
   "cell_type": "markdown",
   "metadata": {},
   "source": [
    "Es bestehen verschieden Funktionen mit den Sie Informationen über Moleküle erhalten können.`rdkit` schreibt jedem Atom und Bindung eine Index zu. Über diesen Index können Sie einzelne Atom oder auch Bindung auswählen. Welches Atom welchen Index hat können Sie sehen, indem wir die `Draw` optionen wie folgt ändern."
   ]
  },
  {
   "cell_type": "code",
   "execution_count": null,
   "metadata": {},
   "outputs": [],
   "source": [
    "from rdkit.Chem import Draw # Draw sublibrary ist für die visuaelle Darstellung von Molekülen zuständig\n",
    "from rdkit.Chem.Draw import IPythonConsole\n",
    "IPythonConsole.drawOptions.addAtomIndices = True \n",
    "IPythonConsole.drawOptions.addBondIndices = False\n",
    "IPythonConsole.molSize = (500, 500) "
   ]
  },
  {
   "cell_type": "code",
   "execution_count": null,
   "metadata": {},
   "outputs": [],
   "source": [
    "sorafenib"
   ]
  },
  {
   "cell_type": "markdown",
   "metadata": {},
   "source": [
    "Sie können jetzt einzelne Atom an Hand des Indices mit `.GetAtomWithIdx()` auswählen. Mit weiteren Funktionen können Sie sich dann Informationen zu diesem Atom ausgeben lassen "
   ]
  },
  {
   "cell_type": "code",
   "execution_count": null,
   "metadata": {},
   "outputs": [],
   "source": [
    "print(\"Masse vom Atom mit dem Index 3\")\n",
    "print(sorafenib.GetAtomWithIdx(3).GetMass())\n",
    "\n",
    "print(\"\\nHybridizierung vom Atom mit dem Index 3\")\n",
    "print(sorafenib.GetAtomWithIdx(3).GetHybridization())\n"
   ]
  },
  {
   "cell_type": "markdown",
   "metadata": {},
   "source": [
    "Mit der Funktion `.SetAtomicNum()` können SIe auch einzelne Atome ändern und zum Beispiel aus dem Keton ein Imin machen."
   ]
  },
  {
   "cell_type": "code",
   "execution_count": null,
   "metadata": {},
   "outputs": [],
   "source": [
    "sorafenib.GetAtomWithIdx(3).SetAtomicNum(7)\n",
    "display(sorafenib)\n",
    "sorafenib.GetAtomWithIdx(3).SetAtomicNum(6)# Veränderung wird wieder Rückgängig gemacht  "
   ]
  },
  {
   "cell_type": "markdown",
   "metadata": {},
   "source": [
    "Das selbe funktioniert auch für Bindungen."
   ]
  },
  {
   "cell_type": "code",
   "execution_count": null,
   "metadata": {},
   "outputs": [],
   "source": [
    "IPythonConsole.drawOptions.addAtomIndices = False # Keine Atom Indizes zeigen\n",
    "IPythonConsole.drawOptions.addBondIndices = True # Bindungs Indizes zeigen\n",
    "\n",
    "sorafenib"
   ]
  },
  {
   "cell_type": "code",
   "execution_count": null,
   "metadata": {},
   "outputs": [],
   "source": [
    "print(\"Welche Art von Bindung ist Bindung 4\")\n",
    "print(sorafenib.GetBondWithIdx(4).GetBondType())\n",
    "\n",
    "print(\"\\nIst Bindung 4 in einem Ring von Größe 7\")\n",
    "print(sorafenib.GetBondWithIdx(4).IsInRingSize(7))\n",
    "\n",
    "print(\"\\nIst Bindung 4 in einem Ring von Größe 6\")\n",
    "print(sorafenib.GetBondWithIdx(4).IsInRingSize(6))\n",
    "\n",
    "IPythonConsole.drawOptions.addBondIndices = False"
   ]
  },
  {
   "cell_type": "markdown",
   "metadata": {},
   "source": [
    "### Deskriptoren\n",
    "\n",
    "Hilfreicher als Informationen über einzelne Atome sind Deskriptoren die für ein ganzes Moleküle berechnet werden können. Verschiedene Submodule in `rdkit` erlaubt e sihnene verschiedene Eigenschaften von molekülen zu berechenen:"
   ]
  },
  {
   "cell_type": "code",
   "execution_count": null,
   "metadata": {},
   "outputs": [],
   "source": [
    "from rdkit.Chem import Descriptors\n",
    "from rdkit.Chem import Crippen\n",
    "print(\"LogP\",Crippen.MolLogP(sorafenib))\n",
    "print(\"Molecular Weight\",Descriptors.MolWt(sorafenib))"
   ]
  },
  {
   "cell_type": "markdown",
   "metadata": {},
   "source": [
    "## Sorafenib Alternativen\n",
    "\n",
    "Das Ziel ist es alternative Moleküle für Sorafenib zu idenfizieren. Ein Vorauswahl wurde schon getroffen. Die Smiles finden sich in der Variable `smiles`. Sie können mehrere Moleküle nebeneinander mit der Funktion `Draw.MolsToGridImage(mols)` betrchten"
   ]
  },
  {
   "cell_type": "code",
   "execution_count": null,
   "metadata": {},
   "outputs": [],
   "source": [
    "smiles = [\n",
    "\"CNC(=O)c1cc(Oc2ccc(NC(=S)Nc3ccc(Cl)c(C(F)(F)F)c3)cc2)ccn1\",\n",
    "\"C[C@@H](NC(=O)c1cc(Oc2ccc(NC(=O)Nc3ccc(Cl)c(C(F)(F)F)c3)cc2)ccn1)C(=O)NO\",\n",
    "\"CNC(=O)c1cc(Oc2ccc(NC(=S)Nc3cc(C(F)(F)F)cc(C(F)(F)F)c3)cc2)ccn1\",\n",
    "\"N#Cc1cc(Oc2ccc(NC(=O)Nc3ccc(Cl)c(C(F)(F)F)c3)cc2)ccn1\",\n",
    "\"CN(C)c1ccc(NC(=O)c2cc(Oc3ccc(NC(=O)Nc4ccc(Cl)c(C(F)(F)F)c4)cc3)ccn2)cc1\", \n",
    "\"CNC(=O)c1cc(Oc2ccc(NC(=O)Nc3ccc(Br)c(C(F)(F)F)c3)cc2)ccn1\",\n",
    "\"CNC(=O)c1cc(Oc2ccc(NC(=O)Nc3ccc(OC(F)(F)F)cc3)cc2)ccn1\",\n",
    "\"CCNC(=O)c1cc(Oc2ccc(NC(=O)Nc3ccc(Cl)c(C(F)(F)F)c3)cc2)ccn1\",\n",
    "\"CNC(=O)c1cc(Oc2ccc(NC(=O)Nc3cccc(C(F)(F)F)c3)cc2)ccn1\"]\n",
    "\n",
    "mols = [Chem.MolFromSmiles(x) for x in smiles]\n",
    "Draw.MolsToGridImage(mols,subImgSize=(300, 300)) #subImgSize erlaub es uns die Moleküle größer zu `drucken`"
   ]
  },
  {
   "cell_type": "markdown",
   "metadata": {},
   "source": [
    "Damit Sie unnötige Kosten vermeiden, sollen Sie nur die viel versprechendensten Moleküle auswählen. Hierfür können Sie das bisher gelernte anwenden. \n",
    "Eine simple aber wichtige Faustformel die im Drugdesign benutz wird ist [\"Lipinskis Rule of Five\"](https://flexikon.doccheck.com/de/Lipinski%27s_rule_of_five). Sie sagt aus, dass um als Arzneistoff wirksamm zu sein, müssen Moleküle vier Eigenschaften haben.\n",
    "\n",
    "#### Lipinskis Rule of Five\n",
    "\n",
    ">- Nicht mehr als 5 Wasserstoffbrückendonoren (vor allem Stickstoff-Wasserstoff- und Sauerstoff-Wasserstoff-Bindungen)\n",
    ">- Nicht mehr als 10 Wasserstoffbrückenakzeptoren (vor allem Sauerstoff- und Stickstoffatome)\n",
    ">- Ein Molekulargewicht von weniger als 500 g/mol\n",
    ">- Ein [logP](https://de.wikipedia.org/wiki/Octanol-Wasser-Verteilungskoeffizient)-Wert von unter 5\n"
   ]
  },
  {
   "cell_type": "markdown",
   "metadata": {},
   "source": [
    "Sie haben gerade schon die Funktion für den LogP und Molekularegewicht mit `rdkit`-Funktionen berechnet.\n",
    "Das Submodul `Lipinski` in rdkit bietet noch weitere Funktionen um die Anzahl der Anzahl der Wasserstoffbrückendonoren und -akzeptoren zu berechnen. "
   ]
  },
  {
   "cell_type": "code",
   "execution_count": null,
   "metadata": {},
   "outputs": [],
   "source": [
    "from rdkit.Chem.Lipinski import NumHAcceptors, NumHDonors\n",
    "\n",
    "NumDonors = [str(NumHDonors(x)) for x in mols] # Sie konventieren die Anzahl der Donoren zum str damit wir sie als legende benutzen können\n",
    "Draw.MolsToGridImage(mols, legends = NumDonors,subImgSize = (300,300))"
   ]
  },
  {
   "cell_type": "markdown",
   "metadata": {},
   "source": [
    "In der Bildunterschrift sehen sie die Anzahl der Wasserstoffbrückendonoren. Alle identifizierten Moleküle haben weniger Donoren als die von Lipinski genannte Obergrenze. Wir können das slebe für die Akzeptoren machen."
   ]
  },
  {
   "cell_type": "code",
   "execution_count": null,
   "metadata": {},
   "outputs": [],
   "source": [
    "NumAcceptors = [str(NumHAcceptors(x)) for x in mols]\n",
    "Draw.MolsToGridImage(mols, legends = NumAcceptors, subImgSize= (300,300))"
   ]
  },
  {
   "cell_type": "markdown",
   "metadata": {},
   "source": [
    "Auch hier bricht keines der Moleküle mit Lipinskis Regel.\n",
    "Als nächstes berechnen Sie die das molekulare Gewicht für die alternative Moleküle."
   ]
  },
  {
   "cell_type": "code",
   "execution_count": null,
   "metadata": {
    "scrolled": false
   },
   "outputs": [],
   "source": [
    "molWeight = [str(Descriptors.MolWt(x)) for x in mols]\n",
    "Draw.MolsToGridImage(mols, legends = molWeight, subImgSize=(300, 300))"
   ]
  },
  {
   "cell_type": "markdown",
   "metadata": {},
   "source": [
    "Einige Moleküle sind tatsächlich schwere als Lipsinkis Rule of Five erlaubt.\n",
    "\n",
    "Als letztes berechnen Sie noch den LogP."
   ]
  },
  {
   "cell_type": "code",
   "execution_count": null,
   "metadata": {},
   "outputs": [],
   "source": [
    "logP = [str(Crippen.MolLogP(x)) for x in mols]\n",
    "Draw.MolsToGridImage(mols, legends = logP,subImgSize=(300, 300))"
   ]
  },
  {
   "cell_type": "markdown",
   "metadata": {},
   "source": [
    "Tatsächlich überschreiten die meisten Moleküle Lipinskis LogP Wert. Nur drei Moleküle haben eine Wert geringer als fünf. Diese beiden letzten Moleküle sind die einzige Noleküle die allen vier Regeln von Lipinski entsprechen, und sind deshalb besonders geeignet als Arzeistofff. Doch sollten Sie nicht alleine auf Grund eines zu hohen LogP Wertes alle andere Molekülevorschläge verwerfen. Sorafenib hat nämlich selber einen LogP Wert der größer als 5 ist. Deswegen entfernen wir nur Moleküle die sowohl ein zu hohen LogP und ein zu hohes Gewicht haben. Sie können `booleans` benutzen umd die richtigen Moleküle auszuwählen z.B. `logP < 5`. Allerdings haben wir vorhin die Werte als `str` gespeichert um sie unter den Molekülen auszugeben. Deshalb berechnen wir die Werte noch einmal, ohne diese zu einem `str` zu konvertieren. Zusätzlich müssen Sie auch die Liste in ein `array` konvertieren, da Sie sonst keine Werte vergleichen können."
   ]
  },
  {
   "cell_type": "code",
   "execution_count": null,
   "metadata": {},
   "outputs": [],
   "source": [
    "import numpy as np\n",
    "logP = [Crippen.MolLogP(x) for x in mols]\n",
    "logP = np.array(logP) # die Liste muss erst noch in einen Array konvertiert werden\n",
    "logP < 5.0"
   ]
  },
  {
   "cell_type": "code",
   "execution_count": null,
   "metadata": {},
   "outputs": [],
   "source": [
    "molWeight = [Descriptors.MolWt(x) for x in mols]\n",
    "molWeight = np.array(molWeight)\n",
    "molWeight < 500"
   ]
  },
  {
   "cell_type": "markdown",
   "metadata": {},
   "source": [
    "Um die Moleküle auszuwählen die entweder ein Gewicht unter 500 oder einen logP von unter fünf haben können Sie das Symbol `|` benutzen. Das `|` steht für \"oder\".Das Statement `(logP < 5) | (molWeight<500)` gibt `True` aus für Elemente die mindestens eine der beiden Konditionen erfüllt. `False` wird ausgegeben wenn ein Element keine der beiden Konditionen erfüllt. Man kann es also lesen als entweder einen logP kleiner als fünf oder ein Gewicht unter 500g/mol.\n"
   ]
  },
  {
   "cell_type": "code",
   "execution_count": null,
   "metadata": {},
   "outputs": [],
   "source": [
    "(logP < 5) | (molWeight<500)"
   ]
  },
  {
   "cell_type": "markdown",
   "metadata": {},
   "source": [
    "Mit diesem `bool` array können wir jetzt die Moleküle auswählen die noch übrig bleiben."
   ]
  },
  {
   "cell_type": "code",
   "execution_count": null,
   "metadata": {},
   "outputs": [],
   "source": [
    "mols=np.array(mols)[(logP < 5) | (molWeight<500)] #wir konvertieren die `mol` Liste auch zu einem array\n",
    "Draw.MolsToGridImage(mols,subImgSize=(300, 300))"
   ]
  },
  {
   "cell_type": "markdown",
   "metadata": {},
   "source": [
    "Mit dem berechenen von Deskriptoren konnte Sie die Anzahl der in Frage kommenden Moleküle reduzieren. Im nächsten Schritt lernen sie wie mit Hilfe einer Similarity Search wie die Auswahl noch weiter reduizieren können."
   ]
  },
  {
   "cell_type": "markdown",
   "metadata": {},
   "source": [
    "## Fingerprints & Similarity Search\n",
    "\n",
    "RDKit kann auch verschiedene *Molecular Fingerprints* berechnen. Unter anderem auch den *Extended Connectivty Fingerprint* (ECFP) ursprünglich entwickelt von [Hahn et al.](https://pubs.acs.org/doi/10.1021/ci100050t) 2010. \n",
    "RDKit hat eine angewandelte Version, den sie den *Morgan Fingerprint* nennen.\n",
    "Sie können die Funktion `Chem.GetMorganFingerprint(mol,radius)` benutzen um einen den ECFP zu berechnen. Um die Ähnlichkeit von Fingerprints bewerten stellt RDKit auch Funktion zur Verfügung. Mit `DataStructs.TanimotoSimilarity(fp1,fp2)`  lässt sich zum Beispiel die Tanimoto Similarity berechnen."
   ]
  },
  {
   "cell_type": "code",
   "execution_count": null,
   "metadata": {},
   "outputs": [],
   "source": [
    "from rdkit import DataStructs\n",
    "fp_sorafenib = Chem.GetMorganFingerprint(sorafenib,radius=2)\n",
    "fp_sorafenib"
   ]
  },
  {
   "cell_type": "markdown",
   "metadata": {},
   "source": [
    "Der Morganfingerprint wird nicht als normaler `np.array` gespeichert. In den nächsten Wochen werden Sie aber lernen wie Sie auch die normalen Vektoren erhalten können.\n",
    "\n",
    "Sie haben den Fingerprint für Sorafenib berechnet, aber um die Similarity zu berechnen brauchen Sie auch die Fingerprints der anderen Moleküle.\n",
    "\n",
    "*Schreiben Sie einen `for-loop` der für alle Moleküle in `mols` den Fingerprint berechnet und diese als Liste in `fp_mols` speichert*"
   ]
  },
  {
   "cell_type": "code",
   "execution_count": null,
   "metadata": {},
   "outputs": [],
   "source": [
    "fp_mols = [Chem.GetMorganFingerprint( ___ ,radius = 2) for x in ___ ]"
   ]
  },
  {
   "cell_type": "markdown",
   "metadata": {},
   "source": [
    "<details>\n",
    "<summary><strong>Lösung. HIER klicken</strong></summary>\n",
    "\n",
    "```python\n",
    "    fp_mols = [Chem.GetMorganFingerprint( x ,radius = 2) for x in mols]\n",
    "```\n",
    "</details>\n",
    "<br>\n",
    "Um die Similarity zu berechnen benutzen Sie die oben beschriebene Funktion `TanimotoSimilarity(fp1, fp2)`\n",
    "\n",
    "\n",
    "\n"
   ]
  },
  {
   "cell_type": "code",
   "execution_count": 163,
   "metadata": {},
   "outputs": [
    {
     "data": {
      "text/plain": [
       "0.6923076923076923"
      ]
     },
     "execution_count": 163,
     "metadata": {},
     "output_type": "execute_result"
    }
   ],
   "source": [
    "DataStructs.TanimotoSimilarity(fp_sorafenib,fp_mols[5])"
   ]
  },
  {
   "cell_type": "markdown",
   "metadata": {},
   "source": [
    "Schreiben Sie einen `for-loop` der für jedes Moleküle in `fp_mols` die Similarity zu Sorafenib berechnet."
   ]
  },
  {
   "cell_type": "code",
   "execution_count": 166,
   "metadata": {},
   "outputs": [
    {
     "data": {
      "text/plain": [
       "[0.81,\n",
       " 0.797979797979798,\n",
       " 0.7363636363636363,\n",
       " 0.7653061224489796,\n",
       " 0.6422018348623854,\n",
       " 0.6923076923076923]"
      ]
     },
     "execution_count": 166,
     "metadata": {},
     "output_type": "execute_result"
    }
   ],
   "source": [
    "sorafenib_similarity = [DataStructs.TanimotoSimilarity(___ , ___ ) for x in ____]\n",
    "sorafenib_similarity"
   ]
  },
  {
   "cell_type": "markdown",
   "metadata": {},
   "source": [
    "<details>\n",
    "<summary><strong>Lösung. HIER klicken</strong></summary>\n",
    "\n",
    "```python\n",
    "    [DataStructs.TanimotoSimilarity(fp_sorafenib, x) for x in fp_mols]\n",
    "```\n",
    "</details>\n",
    "<br>\n"
   ]
  },
  {
   "cell_type": "code",
   "execution_count": 167,
   "metadata": {},
   "outputs": [
    {
     "data": {
      "image/png": "[encoded data removed]",
      "text/plain": [
       "<IPython.core.display.Image object>"
      ]
     },
     "execution_count": 167,
     "metadata": {},
     "output_type": "execute_result"
    }
   ],
   "source": [
    "Draw.MolsToGridImage(mols,legends = [str(x) for x in sorafenib_similarity],subImgSize=(300, 300))"
   ]
  },
  {
   "cell_type": "markdown",
   "metadata": {},
   "source": [
    "Hierdrüber sehen Sie die Similarity der einzelnen Moleküle zu Sorafenib. Ein Moleküle hat eine Similarity von 0.80. Eine oft benutzte Faustregel ist, das ab einer Similarity von 0.8 die Moleküle ähnlich genug sind um als relevante Alternative zu gelten. Das heißt in unserem Fall, dass wir nur eine Moleküle testen würde. Das Moleküle mit eine Similarity von `0.7979...` würde man wahrscheinlcih auch noch als relevant betrachten.\n",
    "Grundsätzlich wird eine Similarity Search auch oft nur benutzt um den Raum der relevanten Moleküle einzugrenzen.\n",
    "\n",
    "Aus neun Molekülen die relevantesten heraus zusuchen könnte ein medizinischer Chemiker wahrscheinlich auch ohne Computer. Der eigentliche Vorteil von Computer wird erst ersichtlich, wenn Sie einen Pool aus mehreren Millionen Molekülen haben. Der Code würde genau so funktionieren Sie müssen nur die extra Smiles am Anfang des Notebooks einlesen.\n"
   ]
  },
  {
   "cell_type": "code",
   "execution_count": null,
   "metadata": {},
   "outputs": [],
   "source": []
  }
 ],
 "metadata": {
  "kernelspec": {
   "display_name": "Python 3",
   "language": "python",
   "name": "python3"
  },
  "language_info": {
   "codemirror_mode": {
    "name": "ipython",
    "version": 3
   },
   "file_extension": ".py",
   "mimetype": "text/x-python",
   "name": "python",
   "nbconvert_exporter": "python",
   "pygments_lexer": "ipython3",
   "version": "3.7.9"
  }
 },
 "nbformat": 4,
 "nbformat_minor": 4
}
