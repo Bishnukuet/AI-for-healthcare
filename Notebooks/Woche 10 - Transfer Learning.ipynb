{
 "cells": [
  {
   "cell_type": "markdown",
   "id": "c15c4ec2",
   "metadata": {},
   "source": [
    "# CNN & Transfer Learning\n",
    "\n",
    "\n",
    "\n",
    "**Lernziele**\n",
    "\n",
    "---\n",
    "* Sie verstehen was mit Transfer Learning gemeint ist\n",
    "* Sie können vortrainierte Modelle laden und anpassen\n",
    "* Sie können Bilder aus Ordnern in Python einlesen\n",
    "---\n",
    "\n",
    "Letzte haben Sie ein CNN entwickelt, welches Zahlen erkennen kann. Heute soll es darum gehen sich bereits trainierte Netzwerke zunutze zu machen. Zunächst trainieren ein Modell, dass  Hunde und Katzenrassen unterscheiden kann. In der Übungsaufgabe werden Sie ResNet benutzen, um Lungenentzündungen in Röntgenbilder zu erkennen.\n",
    "\n",
    "Beim Transfer Learning wird ein bereits trainiertes Model für einen anderes Machine Learning Problem benutzt. \n",
    "\n",
    "<img align=\"center\" src=\"https://pennylane.ai/qml/_images/transfer_learning_general.png\" width=\"400\">\n",
    "<h6 align=\"center\">Pennylane.ai</h6>\n",
    "\n",
    "\n",
    "Das vortrainierte Model, ist meisten ein Model, das auf sehr vielen allgemeinen Daten trainiert worden ist. Dadurch konnte das Model genug allgemeine Informationen lernen, die auch relevant für ein sehr spezifisches Problem sein können.\n",
    "\n",
    "ResNet wurde zum Beispiel auf den Daten von ImageNet trainiert. Dieses enthält keine Röntgenbilder. Aber durch das Kombinieren von bereits trainierten Layern vom ResNet Modell und neuen untrainierten Layer,  können wir uns das „Wissen“ von ResNet zunutze machen. \n",
    "\n",
    "### Das Trainieren dieser Modelle kann diese Woche dauern!\n"
   ]
  },
  {
   "cell_type": "code",
   "execution_count": 23,
   "id": "9175809e",
   "metadata": {},
   "outputs": [
    {
     "data": {
      "text/plain": [
       "<matplotlib.pyplot._IonContext at 0x7fe3288a70d0>"
      ]
     },
     "execution_count": 23,
     "metadata": {},
     "output_type": "execute_result"
    }
   ],
   "source": [
    "from __future__ import print_function, division\n",
    "\n",
    "import torch\n",
    "import torch.nn as nn\n",
    "import torch.optim as optim\n",
    "from torch.optim import lr_scheduler\n",
    "import numpy as np\n",
    "import torchvision\n",
    "from torchvision import datasets, models, transforms\n",
    "from torch import sigmoid\n",
    "import matplotlib.pyplot as plt\n",
    "import time\n",
    "import os\n",
    "import copy\n",
    "from sklearn.metrics.pairwise import cosine_similarity\n",
    "from sklearn.metrics import roc_auc_score\n",
    "%run ../utils/utils.py\n",
    "plt.ion()"
   ]
  },
  {
   "cell_type": "markdown",
   "id": "c499dbe1",
   "metadata": {},
   "source": [
    "MNIST ist ein relativ kleiner Datensatz, und kann deswegen auf einmal in den Arbeitsspeicher geladen werden. Wie schon in der Vorlesung diskutiert, sind Bilder meistens aber größer als die Zahlen in MNIST. Um mit großen Bilddatenmengen umzugehen, gibt es von PyTorch eine eigene Library `torchvision`. Hier sind wichtige Funktionen enthalten, die wir im regulären `torch` nicht haben. \n",
    "\n",
    "Auch wichtig zu beachten ist, wie jetzt die Daten gespeichert sind. Wenn Sie in den Ordner `data/images_animals/` navigieren, sehen Sie zwei Ordner. Der erste `train` enthält die Trainingsbilder. Der zweite Ordner `val` enthält die Testdaten. Innerhalb dieser Ordner sind wieder Subordner, die nach dem Label der Bilder benannt sind. Das heißt, dass der z. B. der Ordner `beagel` nur Bilder von Beageln enthält.\n",
    "\n",
    "Wenn genau so eine Ordnerstruktur vorliegt, kann man die Daten sehr leicht mit `torchvision`einlesen.\n",
    "\n",
    "Bevor wir aber die Daten einlesen können, müssen wir noch Transformationen der Daten festlegen. \n",
    "\n",
    "Erstens sind die Bilder zu groß. Die meisten vortrainierten Modelle erwarten eine Bildgröße von 224 x 224 Pixel, da so groß die Bilder im ImageNet Datensatz sind. Auch müssen die Bilder noch zu einem Tensor konvertiert werden. Als letzter Schritt skalieren wir noch die Daten. Diesmal nehmen wir aber nicht den `minmax` Scaler, sondern normalisieren wir die Bilder. **Wichtig hierbei:** Den Mittelwert und die Standardabweichung von den ImageNet Bilder werden dafür verwendet. Denn mit diesen Bildern wurde ja auch das Netzwerk trainiert.\n",
    "\n",
    "`transforms.Compose()` funktioniert ähnlich wie `nn.Sequential`. Alle Bilder werden nacheinander durch alle Transformationen geschickt. "
   ]
  },
  {
   "cell_type": "code",
   "execution_count": 2,
   "id": "69b00ed7",
   "metadata": {},
   "outputs": [],
   "source": [
    "data_transforms = transforms.Compose([\n",
    "        transforms.Resize((224,224)), #reduziert die Größe des Bildes\n",
    "        transforms.ToTensor(), #konvertiert das Bild zu einem Tensor\n",
    "        transforms.Normalize([0.485, 0.456, 0.406], [0.229, 0.224, 0.225])]) #Normalisiert die Bilder "
   ]
  },
  {
   "cell_type": "markdown",
   "id": "ebea152a",
   "metadata": {},
   "source": [
    "Nachdem die Transformationen definiert wurden, können Sie jetzt ein PyTorch `dataset` erstellen. Diesmal benutzen wir aber die besondere Klasse `datasets.ImageFolder`. Diese besondere Klasse an `dataset` ist genau abgestimmt auf unsere Ordner Struktur. Wir müssen nur den \"Path\" zu den Bildern angeben, und welche Transformationen wir anwenden wollen."
   ]
  },
  {
   "cell_type": "code",
   "execution_count": 3,
   "id": "d349b59c",
   "metadata": {
    "scrolled": true
   },
   "outputs": [
    {
     "data": {
      "text/plain": [
       "Dataset ImageFolder\n",
       "    Number of datapoints: 5913\n",
       "    Root location: ../data/images_animals/train\n",
       "    StandardTransform\n",
       "Transform: Compose(\n",
       "               Resize(size=(224, 224), interpolation=bilinear, max_size=None, antialias=None)\n",
       "               ToTensor()\n",
       "               Normalize(mean=[0.485, 0.456, 0.406], std=[0.229, 0.224, 0.225])\n",
       "           )"
      ]
     },
     "execution_count": 3,
     "metadata": {},
     "output_type": "execute_result"
    }
   ],
   "source": [
    "train_data = datasets.ImageFolder('../data/images_animals/train',data_transforms)\n",
    "test_data = datasets.ImageFolder('../data/images_animals/val',data_transforms)\n",
    "train_data"
   ]
  },
  {
   "cell_type": "markdown",
   "id": "64851428",
   "metadata": {},
   "source": [
    "Sie sehen, dass wir insgesamt 5913 Bilder in unserem Trainingsordner haben. Auch werden nochmal die Transformationen aufgeführt, die angewendet werden sollen.\n",
    "\n",
    "Als letzter Schritt erstellen wir noch die `DataLoader`. Diesmal auch für den Testdatensatz, denn wir können nicht alle Bilder auf einmal laden, und deshalb muss auch die Evaluationen in Batches erfolgen."
   ]
  },
  {
   "cell_type": "code",
   "execution_count": 4,
   "id": "14e87ae3",
   "metadata": {},
   "outputs": [],
   "source": [
    "torch.manual_seed(1235)\n",
    "train_loader = torch.utils.data.DataLoader(train_data, batch_size=16,\n",
    "                                             shuffle=True)\n",
    "test_loader = torch.utils.data.DataLoader(test_data, batch_size=16,\n",
    "                                             shuffle=True)\n"
   ]
  },
  {
   "cell_type": "markdown",
   "id": "2024a6d4",
   "metadata": {},
   "source": [
    "Sie wissen bis jetzt noch nicht, welche und wie viele verschiedene Klasse wir haben. Wir können uns aus dem Datensatz diese Information holen:"
   ]
  },
  {
   "cell_type": "code",
   "execution_count": 5,
   "id": "a47b7bed",
   "metadata": {
    "scrolled": true
   },
   "outputs": [
    {
     "name": "stdout",
     "output_type": "stream",
     "text": [
      "['abyssinian', 'american_bulldog', 'american_pit_bull_terrier', 'basset_hound', 'beagle', 'bengal', 'birman', 'bombay', 'boxer', 'british_shorthair', 'chihuahua', 'egyptian_mau', 'english_cocker_spaniel', 'english_setter', 'german_shorthaired', 'great_pyrenees', 'havanese', 'japanese_chin', 'keeshond', 'leonberger', 'maine_coon', 'miniature_pinscher', 'newfoundland', 'persian', 'pomeranian', 'pug', 'ragdoll', 'russian_blue', 'saint_bernard', 'samoyed', 'scottish_terrier', 'shiba_inu', 'siamese', 'sphynx', 'staffordshire_bull_terrier', 'wheaten_terrier', 'yorkshire_terrier']\n",
      "\n",
      "Anzahl Klassen:  37\n"
     ]
    }
   ],
   "source": [
    "class_names = train_data.classes\n",
    "print(class_names)\n",
    "print(\"\\nAnzahl Klassen: \",len(class_names))\n",
    "\n",
    "# Wir speichern einen Batch, um diesen besser zu analysieren\n",
    "inputs_example, targets_example = next(iter(train_loader))"
   ]
  },
  {
   "cell_type": "markdown",
   "id": "6dbf834c",
   "metadata": {},
   "source": [
    "Insgesamt haben wir 37 verschiedene Arten von Hunden und Katzen. Wir können uns die Bilder auch mit einer vorgeschriebenen Funktion anschauen."
   ]
  },
  {
   "cell_type": "code",
   "execution_count": null,
   "id": "2ef53a98",
   "metadata": {
    "scrolled": true
   },
   "outputs": [],
   "source": [
    "out = torchvision.utils.make_grid(inputs_example[:6])\n",
    "imshow(out, title=[class_names[x] for x in targets_example[:6]])"
   ]
  },
  {
   "cell_type": "markdown",
   "id": "e0cf7d04",
   "metadata": {},
   "source": [
    "### RESNET\n",
    "\n",
    "Wir haben die Daten jetzt im richtigen Format. Bevor wir das Training beginnen können, müssen wir aber auch unser Model in das richtige Format bringen. \n",
    "Wie schon erwähnt stellt PyTorch verschiedene, bereits trainierte Modelle zur Verfügung. Diese können einfach geladen werden. *Wenn Sie ein Model zum ersten Mal laden, müssen die Gewichte noch aus dem Internet geladen werden, das kann eventuell dauern.*\n",
    "\n",
    "Wir verwenden auch nur ResNet18, da alle größeren Netzwerke zu langsam auf den Uniservern trainieren würden."
   ]
  },
  {
   "cell_type": "code",
   "execution_count": 7,
   "id": "244290d8",
   "metadata": {},
   "outputs": [
    {
     "data": {
      "text/plain": [
       "ResNet(\n",
       "  (conv1): Conv2d(3, 64, kernel_size=(7, 7), stride=(2, 2), padding=(3, 3), bias=False)\n",
       "  (bn1): BatchNorm2d(64, eps=1e-05, momentum=0.1, affine=True, track_running_stats=True)\n",
       "  (relu): ReLU(inplace=True)\n",
       "  (maxpool): MaxPool2d(kernel_size=3, stride=2, padding=1, dilation=1, ceil_mode=False)\n",
       "  (layer1): Sequential(\n",
       "    (0): BasicBlock(\n",
       "      (conv1): Conv2d(64, 64, kernel_size=(3, 3), stride=(1, 1), padding=(1, 1), bias=False)\n",
       "      (bn1): BatchNorm2d(64, eps=1e-05, momentum=0.1, affine=True, track_running_stats=True)\n",
       "      (relu): ReLU(inplace=True)\n",
       "      (conv2): Conv2d(64, 64, kernel_size=(3, 3), stride=(1, 1), padding=(1, 1), bias=False)\n",
       "      (bn2): BatchNorm2d(64, eps=1e-05, momentum=0.1, affine=True, track_running_stats=True)\n",
       "    )\n",
       "    (1): BasicBlock(\n",
       "      (conv1): Conv2d(64, 64, kernel_size=(3, 3), stride=(1, 1), padding=(1, 1), bias=False)\n",
       "      (bn1): BatchNorm2d(64, eps=1e-05, momentum=0.1, affine=True, track_running_stats=True)\n",
       "      (relu): ReLU(inplace=True)\n",
       "      (conv2): Conv2d(64, 64, kernel_size=(3, 3), stride=(1, 1), padding=(1, 1), bias=False)\n",
       "      (bn2): BatchNorm2d(64, eps=1e-05, momentum=0.1, affine=True, track_running_stats=True)\n",
       "    )\n",
       "  )\n",
       "  (layer2): Sequential(\n",
       "    (0): BasicBlock(\n",
       "      (conv1): Conv2d(64, 128, kernel_size=(3, 3), stride=(2, 2), padding=(1, 1), bias=False)\n",
       "      (bn1): BatchNorm2d(128, eps=1e-05, momentum=0.1, affine=True, track_running_stats=True)\n",
       "      (relu): ReLU(inplace=True)\n",
       "      (conv2): Conv2d(128, 128, kernel_size=(3, 3), stride=(1, 1), padding=(1, 1), bias=False)\n",
       "      (bn2): BatchNorm2d(128, eps=1e-05, momentum=0.1, affine=True, track_running_stats=True)\n",
       "      (downsample): Sequential(\n",
       "        (0): Conv2d(64, 128, kernel_size=(1, 1), stride=(2, 2), bias=False)\n",
       "        (1): BatchNorm2d(128, eps=1e-05, momentum=0.1, affine=True, track_running_stats=True)\n",
       "      )\n",
       "    )\n",
       "    (1): BasicBlock(\n",
       "      (conv1): Conv2d(128, 128, kernel_size=(3, 3), stride=(1, 1), padding=(1, 1), bias=False)\n",
       "      (bn1): BatchNorm2d(128, eps=1e-05, momentum=0.1, affine=True, track_running_stats=True)\n",
       "      (relu): ReLU(inplace=True)\n",
       "      (conv2): Conv2d(128, 128, kernel_size=(3, 3), stride=(1, 1), padding=(1, 1), bias=False)\n",
       "      (bn2): BatchNorm2d(128, eps=1e-05, momentum=0.1, affine=True, track_running_stats=True)\n",
       "    )\n",
       "  )\n",
       "  (layer3): Sequential(\n",
       "    (0): BasicBlock(\n",
       "      (conv1): Conv2d(128, 256, kernel_size=(3, 3), stride=(2, 2), padding=(1, 1), bias=False)\n",
       "      (bn1): BatchNorm2d(256, eps=1e-05, momentum=0.1, affine=True, track_running_stats=True)\n",
       "      (relu): ReLU(inplace=True)\n",
       "      (conv2): Conv2d(256, 256, kernel_size=(3, 3), stride=(1, 1), padding=(1, 1), bias=False)\n",
       "      (bn2): BatchNorm2d(256, eps=1e-05, momentum=0.1, affine=True, track_running_stats=True)\n",
       "      (downsample): Sequential(\n",
       "        (0): Conv2d(128, 256, kernel_size=(1, 1), stride=(2, 2), bias=False)\n",
       "        (1): BatchNorm2d(256, eps=1e-05, momentum=0.1, affine=True, track_running_stats=True)\n",
       "      )\n",
       "    )\n",
       "    (1): BasicBlock(\n",
       "      (conv1): Conv2d(256, 256, kernel_size=(3, 3), stride=(1, 1), padding=(1, 1), bias=False)\n",
       "      (bn1): BatchNorm2d(256, eps=1e-05, momentum=0.1, affine=True, track_running_stats=True)\n",
       "      (relu): ReLU(inplace=True)\n",
       "      (conv2): Conv2d(256, 256, kernel_size=(3, 3), stride=(1, 1), padding=(1, 1), bias=False)\n",
       "      (bn2): BatchNorm2d(256, eps=1e-05, momentum=0.1, affine=True, track_running_stats=True)\n",
       "    )\n",
       "  )\n",
       "  (layer4): Sequential(\n",
       "    (0): BasicBlock(\n",
       "      (conv1): Conv2d(256, 512, kernel_size=(3, 3), stride=(2, 2), padding=(1, 1), bias=False)\n",
       "      (bn1): BatchNorm2d(512, eps=1e-05, momentum=0.1, affine=True, track_running_stats=True)\n",
       "      (relu): ReLU(inplace=True)\n",
       "      (conv2): Conv2d(512, 512, kernel_size=(3, 3), stride=(1, 1), padding=(1, 1), bias=False)\n",
       "      (bn2): BatchNorm2d(512, eps=1e-05, momentum=0.1, affine=True, track_running_stats=True)\n",
       "      (downsample): Sequential(\n",
       "        (0): Conv2d(256, 512, kernel_size=(1, 1), stride=(2, 2), bias=False)\n",
       "        (1): BatchNorm2d(512, eps=1e-05, momentum=0.1, affine=True, track_running_stats=True)\n",
       "      )\n",
       "    )\n",
       "    (1): BasicBlock(\n",
       "      (conv1): Conv2d(512, 512, kernel_size=(3, 3), stride=(1, 1), padding=(1, 1), bias=False)\n",
       "      (bn1): BatchNorm2d(512, eps=1e-05, momentum=0.1, affine=True, track_running_stats=True)\n",
       "      (relu): ReLU(inplace=True)\n",
       "      (conv2): Conv2d(512, 512, kernel_size=(3, 3), stride=(1, 1), padding=(1, 1), bias=False)\n",
       "      (bn2): BatchNorm2d(512, eps=1e-05, momentum=0.1, affine=True, track_running_stats=True)\n",
       "    )\n",
       "  )\n",
       "  (avgpool): AdaptiveAvgPool2d(output_size=(1, 1))\n",
       "  (fc): Linear(in_features=512, out_features=1000, bias=True)\n",
       ")"
      ]
     },
     "execution_count": 7,
     "metadata": {},
     "output_type": "execute_result"
    }
   ],
   "source": [
    "resnet18 = models.resnet18(pretrained=True)\n",
    "resnet18"
   ]
  },
  {
   "cell_type": "markdown",
   "id": "92bb98a0",
   "metadata": {},
   "source": [
    "`resnet18` gibt Ihnen eine Übersicht, welche PyTorch Layers in welcher Reihenfolgen benutzt werden. Achten Sie vor allem auf die letzte Layer mit dem Namen `fc`. Dieser können wir auch direkt mit `resnet.fc` auswählen."
   ]
  },
  {
   "cell_type": "code",
   "execution_count": 8,
   "id": "b4c0d7a6",
   "metadata": {},
   "outputs": [
    {
     "data": {
      "text/plain": [
       "Linear(in_features=512, out_features=1000, bias=True)"
      ]
     },
     "execution_count": 8,
     "metadata": {},
     "output_type": "execute_result"
    }
   ],
   "source": [
    "resnet18.fc"
   ]
  },
  {
   "cell_type": "markdown",
   "id": "156b524f",
   "metadata": {},
   "source": [
    "Diese Layer ist eine `nn.Linear` Layer, welche Sie noch aus dem PyTorch Notebook kennen sollten. Sie hat als Inputgröße 512 Features und als Output 1000. Diese 1000 Output Neuronen entsprechen den 1000 unterschiedlichen Klassen im ImageNet Datensatz.\n",
    "\n",
    "Um weiter das `resnet` Model vorzubereiten, wollen wir zunächst alle Layers des ResNet einfrieren. Das bedeuet, diese Layers erhalten keine Weight Updates mehr, und können somit nicht weiter trainiert werden. Dies können wir machen, da das Model bereits trainiert worden ist.\n",
    "Der folgende Code iteriert durch all Layers und setzt `requires_grad` auf `False`. Das lässt PyTorch wissen, dass für diese Layers keine Gradienten berechnet werden müssen. "
   ]
  },
  {
   "cell_type": "code",
   "execution_count": 9,
   "id": "f888b757",
   "metadata": {},
   "outputs": [],
   "source": [
    "for param in resnet18.parameters():\n",
    "    param.requires_grad = False"
   ]
  },
  {
   "cell_type": "markdown",
   "id": "1aa472f8",
   "metadata": {},
   "source": [
    "Als letzes müssen wir nur noch die `fc` Layer austauschen. Da wir nicht 1000 Klassen, sondern 37. Also brauchen wir eine `nn.Linear` Layer die als Input die Größe 512 hat und als Output die Größe 37."
   ]
  },
  {
   "cell_type": "code",
   "execution_count": 10,
   "id": "852a9948",
   "metadata": {},
   "outputs": [
    {
     "name": "stdout",
     "output_type": "stream",
     "text": [
      "Linear(in_features=512, out_features=37, bias=True)\n"
     ]
    },
    {
     "data": {
      "text/plain": [
       "[Parameter containing:\n",
       " tensor([[-0.0416, -0.0087, -0.0212,  ..., -0.0067,  0.0152,  0.0056],\n",
       "         [ 0.0368,  0.0257, -0.0321,  ...,  0.0128,  0.0375,  0.0056],\n",
       "         [-0.0149, -0.0068, -0.0290,  ...,  0.0286,  0.0288, -0.0233],\n",
       "         ...,\n",
       "         [-0.0404,  0.0288,  0.0428,  ..., -0.0381,  0.0352,  0.0372],\n",
       "         [ 0.0101, -0.0175, -0.0290,  ...,  0.0028,  0.0021,  0.0142],\n",
       "         [-0.0094, -0.0223, -0.0149,  ...,  0.0365, -0.0405, -0.0017]],\n",
       "        requires_grad=True),\n",
       " Parameter containing:\n",
       " tensor([ 0.0342, -0.0060,  0.0187, -0.0274, -0.0063,  0.0318,  0.0225,  0.0347,\n",
       "         -0.0091,  0.0324, -0.0399, -0.0393,  0.0274,  0.0321, -0.0199,  0.0395,\n",
       "          0.0288,  0.0321,  0.0073,  0.0099,  0.0152,  0.0370,  0.0144,  0.0185,\n",
       "         -0.0015,  0.0290, -0.0301, -0.0217,  0.0152,  0.0250,  0.0014,  0.0207,\n",
       "          0.0284,  0.0400,  0.0142,  0.0150, -0.0417], requires_grad=True)]"
      ]
     },
     "execution_count": 10,
     "metadata": {},
     "output_type": "execute_result"
    }
   ],
   "source": [
    "torch.manual_seed(1234)\n",
    "resnet18.fc = nn.Linear(512, 37)\n",
    "print(resnet18.fc)\n",
    "list(resnet18.fc.parameters())"
   ]
  },
  {
   "cell_type": "markdown",
   "id": "d566a02a",
   "metadata": {},
   "source": [
    "Sie können erkennen, dass die neue `fc` Layer `requires_grad=True` gesetzt hat. Das bedeutet diese Weights werden während des Trainings geupdatet. Also ist die `fc` Layer die einzige zu trainiernde Layer im Netzwerk."
   ]
  },
  {
   "cell_type": "markdown",
   "id": "a330dde6",
   "metadata": {},
   "source": [
    "## Training \n",
    "\n",
    "Jetzt können wir mit dem Trainingsloop beginnen. Doch zunächst definieren wir die Loss Funktion und den Optimizer."
   ]
  },
  {
   "cell_type": "code",
   "execution_count": 15,
   "id": "06b9daa7",
   "metadata": {},
   "outputs": [],
   "source": [
    "loss_funktion = nn.CrossEntropyLoss()\n",
    "optimizer = optim.Adam(resnet18.parameters(), lr=0.0001)"
   ]
  },
  {
   "cell_type": "markdown",
   "id": "af31a512",
   "metadata": {},
   "source": [
    "Der Trainingsloop wird heute etwas komplexer aussehen. Das liegt daran, dass wir jetzt auch das Testset als Batches durch das Netzwerk führen. Um trotzdem die Metriken korrekt zu berechnen benutzten wir `running_loss` und `running_corrects`, um diese am Ende des Loops mitteln zu können. "
   ]
  },
  {
   "cell_type": "code",
   "execution_count": 12,
   "id": "34835868",
   "metadata": {
    "scrolled": true
   },
   "outputs": [
    {
     "name": "stderr",
     "output_type": "stream",
     "text": [
      "/nfs/home/jmenke2/anaconda3/envs/intro_ki/lib/python3.7/site-packages/torch/nn/functional.py:718: UserWarning: Named tensors and all their associated APIs are an experimental feature and subject to change. Please do not use them for anything important until they are released as stable. (Triggered internally at  /opt/conda/conda-bld/pytorch_1623448204425/work/c10/core/TensorImpl.h:1156.)\n",
      "  return torch.max_pool2d(input, kernel_size, stride, padding, dilation, ceil_mode)\n"
     ]
    },
    {
     "name": "stdout",
     "output_type": "stream",
     "text": [
      "Trainings Loss: 3.0434 Trainings Acc: 0.2733\n",
      "Test Loss: 2.3060 Test Acc: 0.5565\n",
      "Trainings Loss: 2.0326 Trainings Acc: 0.6509\n",
      "Test Loss: 1.5456 Test Acc: 0.7468\n",
      "Trainings Loss: 1.4761 Trainings Acc: 0.7771\n",
      "Test Loss: 1.1435 Test Acc: 0.8057\n"
     ]
    }
   ],
   "source": [
    "torch.manual_seed(3333)\n",
    "for epoch in range(3):\n",
    "    \n",
    "    #### Training ####\n",
    "    resnet18.train()\n",
    "    running_loss = 0\n",
    "    running_corrects = 0\n",
    "    for inputs, targets in train_loader:\n",
    "        optimizer.zero_grad()\n",
    "        output=resnet18(inputs)\n",
    "        _ , preds = torch.max(output, 1)\n",
    "        loss = loss_funktion(output,targets)\n",
    "        running_loss +=loss.item()\n",
    "        loss.backward()\n",
    "        optimizer.step()\n",
    "        running_corrects +=torch.sum(preds == targets.data)   \n",
    "    epoch_loss = running_loss/len(train_loader)    \n",
    "    epoch_acc = running_corrects.double() / len(train_data)  \n",
    "    print('Trainings Loss: {:.4f} Trainings Acc: {:.4f}'.format(\n",
    "        epoch_loss, epoch_acc))\n",
    "    \n",
    "    #### Evaluierung #####\n",
    "    resnet18.eval()\n",
    "    running_loss = 0\n",
    "    running_corrects = 0\n",
    "    for inputs, targets in test_loader:\n",
    "        output=resnet18(inputs)\n",
    "        _ , preds =torch.max(output, 1)\n",
    "        loss = loss_funktion(output,targets)\n",
    "        running_loss +=loss.item()\n",
    "        running_corrects +=torch.sum(preds == targets.data)\n",
    "    epoch_acc = running_corrects.double() / len(test_data) \n",
    "    epoch_loss = running_loss/len(test_loader)    \n",
    "    print('Test Loss: {:.4f} Test Acc: {:.4f}'.format(\n",
    "        epoch_loss, epoch_acc))"
   ]
  },
  {
   "cell_type": "markdown",
   "id": "8ffc24fb",
   "metadata": {},
   "source": [
    "Nach drei Epochs erreichen wir bereits eine Testaccuracy von 0.8. 80 Prozent der Bilder werden ungefähr richtig klassifiziert.\n",
    "\n",
    "Um wirklich sicherzugehen, dass das Pretraining des Models wirklich etwas gebracht hat, trainieren wir das gleiche Model nochmal. Diesmal aber ohne die pretrained Weights zu laden:\n",
    "\n",
    "`pretrained=False`"
   ]
  },
  {
   "cell_type": "code",
   "execution_count": 16,
   "id": "29b010b9",
   "metadata": {
    "scrolled": true
   },
   "outputs": [
    {
     "name": "stdout",
     "output_type": "stream",
     "text": [
      "Trainings Loss: 3.3424 Trainings Acc: 0.1028\n",
      "Test Loss: 3.1241 Test Acc: 0.1354\n",
      "Trainings Loss: 2.8785 Trainings Acc: 0.1987\n",
      "Test Loss: 2.8604 Test Acc: 0.1869\n",
      "Trainings Loss: 2.4861 Trainings Acc: 0.2922\n",
      "Test Loss: 2.7240 Test Acc: 0.2275\n"
     ]
    }
   ],
   "source": [
    "resnet18 = models.resnet18(pretrained=False)\n",
    "torch.manual_seed(1234)\n",
    "resnet18.fc = nn.Linear(512, 37)\n",
    "loss_funktion = nn.CrossEntropyLoss()\n",
    "optimizer = optim.Adam(resnet18.parameters(), lr=0.0001)\n",
    "torch.manual_seed(3333)\n",
    "for epoch in range(3):\n",
    "    \n",
    "    #### Training ####\n",
    "    resnet18.train()\n",
    "    running_loss = 0\n",
    "    running_corrects = 0\n",
    "    for inputs, targets in train_loader:\n",
    "        optimizer.zero_grad()\n",
    "        output=resnet18(inputs)\n",
    "        _ , preds = torch.max(output, 1)\n",
    "        loss = loss_funktion(output,targets)\n",
    "        running_loss +=loss.item()\n",
    "        loss.backward()\n",
    "        optimizer.step()\n",
    "        running_corrects +=torch.sum(preds == targets.data)   \n",
    "    epoch_loss = running_loss/len(train_loader)    \n",
    "    epoch_acc = running_corrects.double() / len(train_data)  \n",
    "    print('Trainings Loss: {:.4f} Trainings Acc: {:.4f}'.format(\n",
    "        epoch_loss, epoch_acc))\n",
    "    \n",
    "    #### Evaluierung #####\n",
    "    resnet18.eval()\n",
    "    running_loss = 0\n",
    "    running_corrects = 0\n",
    "    for inputs, targets in test_loader:\n",
    "        output=resnet18(inputs)\n",
    "        _ , preds =torch.max(output, 1)\n",
    "        loss = loss_funktion(output,targets)\n",
    "        running_loss +=loss.item()\n",
    "        running_corrects +=torch.sum(preds == targets.data)\n",
    "    epoch_acc = running_corrects.double() / len(test_data) \n",
    "    epoch_loss = running_loss/len(test_loader)    \n",
    "    print('Test Loss: {:.4f} Test Acc: {:.4f}'.format(\n",
    "        epoch_loss, epoch_acc))"
   ]
  },
  {
   "cell_type": "markdown",
   "id": "ecb492f4",
   "metadata": {},
   "source": [
    "Tatsächlich sind wir nach 3 Epochs nicht ansatzweise bei der Accuarcy die wir erhalten würden, wenn das `pretrained` Model benutzt hätten. Das liegt daran, dass die vortrainierten Convolutions eine Art Feature Generation betreiben.\n",
    "\n",
    "Wir können das deutlicher sehen, wenn wir uns den die Activations der Convolution anschauen. \n",
    "Dazu benutzen wir die Beispielbilder vom Anfang dieses Notebooks."
   ]
  },
  {
   "cell_type": "code",
   "execution_count": 41,
   "id": "e01d1f0f",
   "metadata": {
    "scrolled": true
   },
   "outputs": [
    {
     "data": {
      "image/png": "[encoded data removed]",
      "text/plain": [
       "<Figure size 432x288 with 1 Axes>"
      ]
     },
     "metadata": {
      "needs_background": "light"
     },
     "output_type": "display_data"
    }
   ],
   "source": [
    "out = torchvision.utils.make_grid(inputs_example[:6])\n",
    "imshow(out, title=[class_names[x] for x in targets_example[:6]])"
   ]
  },
  {
   "cell_type": "markdown",
   "id": "edfe3d1b",
   "metadata": {},
   "source": [
    "Zunächst laden wir wieder das vortrainierte Resnet Model. Auch hier entfernen wir die `fc` Layer, aber ersetzen diese nicht durch eine neue linear Layer. Dadurch haben wir direkt Zugriff auf den Output der Convolution Layer. Diese Model nennen wir `renet_convolutions`."
   ]
  },
  {
   "cell_type": "code",
   "execution_count": 34,
   "id": "7c20a57e",
   "metadata": {},
   "outputs": [],
   "source": [
    "resnet18 = models.resnet18(pretrained=True)\n",
    "resnet_convolutions = nn.Sequential(*list(resnet18.children())[:-1])"
   ]
  },
  {
   "cell_type": "markdown",
   "id": "ab5e07f7",
   "metadata": {},
   "source": [
    "Als Letztes führen wir die 6 Bilder von gerade eben durch dieses spezielle Netzwerk und speichern den Output (`feature_encoding`). Dieser Output dient als der Input für die linear Layer, die wir trainieren würden.\n",
    "\n",
    "<img align=\"center\" src=\"Img/transferlearning/tf_2.png\" width=\"500\">"
   ]
  },
  {
   "cell_type": "code",
   "execution_count": 35,
   "id": "eaa438f5",
   "metadata": {
    "scrolled": true
   },
   "outputs": [
    {
     "data": {
      "text/plain": [
       "tensor([[1.0866, 1.6471, 0.6390,  ..., 1.6654, 0.3185, 0.9618],\n",
       "        [0.6295, 0.7790, 0.9108,  ..., 1.4205, 0.8329, 0.4196],\n",
       "        [0.0324, 1.5239, 0.7663,  ..., 0.0520, 0.1065, 2.6536],\n",
       "        [0.4178, 0.7294, 0.5820,  ..., 1.5749, 0.6864, 1.9319],\n",
       "        [0.1011, 0.5105, 1.9329,  ..., 0.9343, 0.4775, 1.5243],\n",
       "        [0.5761, 1.9657, 2.1067,  ..., 1.0494, 1.4240, 0.7367]],\n",
       "       grad_fn=<SelectBackward>)"
      ]
     },
     "execution_count": 35,
     "metadata": {},
     "output_type": "execute_result"
    }
   ],
   "source": [
    "feature_encodings=resnet_convolutions(inputs_example)[:6,:,0,0]\n",
    "feature_encodings"
   ]
  },
  {
   "cell_type": "markdown",
   "id": "7952b6ac",
   "metadata": {},
   "source": [
    "Diese „Encodings“ sollen eine Art reduzierte Repräsentation des originalen Bildes sein. Wenn es stimmt, dass die vortrainierten Convolutions bestimmte Features, die relevant für die Klassifizierung sind, finden, dann sollten ähnliche Bilder ähnliche Features haben.\n",
    "\n",
    "Zum Beispiel die ersten beiden Bilder zeigen jeweils eine `persian` Katze. Die Encodings der Bilder sollten also auch ähnlich sein. Wir können das mithilfe der `cosine_similarity` machen, diese beurteilt, wie ähnlich zwei Vektoren sind. Die Werte liegen immer zwischen -1 (sehr unähnlich) und 1 (sehr ähnlich). \n",
    "Wir können die Ähnlichkeit zwischen dem ersten Bild (`persian`) und allen anderen Bildern berechnen."
   ]
  },
  {
   "cell_type": "code",
   "execution_count": 50,
   "id": "d0d75438",
   "metadata": {
    "scrolled": true
   },
   "outputs": [
    {
     "data": {
      "text/plain": [
       "array([[1.   , 0.802, 0.583, 0.633, 0.591, 0.655]], dtype=float32)"
      ]
     },
     "execution_count": 50,
     "metadata": {},
     "output_type": "execute_result"
    }
   ],
   "source": [
    "cosine_similarity(feature_encodings[0:1].detach(),feature_encodings.detach()).round(3)"
   ]
  },
  {
   "cell_type": "markdown",
   "id": "3a8b0fd6",
   "metadata": {},
   "source": [
    "Die Ähnlichkeit vom ersten Bild zum ersten Bild ist natürlich `1`, da es dasselbe Bild ist. Zu den andere Bilder aber ist die Ähnlichkeit geringer. Am ähnlichsten ist aber das zweite Bild mit `0.802`, diese Bild ist auch ein Bild von einer `persian` Katze. Das heißt, dass dieses vortrainierte Model hat schon gewisse Ähnlichkeiten in den Bildern identifizieren können.   \n",
    "\n",
    ">Aber die Bilder könnten sich ja auch schon vor den Convolutions ähnlich sein?\n",
    "\n",
    "Das stimmt, allerdings können wir auch das überprüfen. In der folgenden Zelle berechnen wir die Ähnlichkeit der original Bilder vor den Convolutions."
   ]
  },
  {
   "cell_type": "code",
   "execution_count": 53,
   "id": "d219e4fb",
   "metadata": {},
   "outputs": [
    {
     "data": {
      "text/plain": [
       "array([[ 1.   , -0.021,  0.007,  0.119,  0.033,  0.245]], dtype=float32)"
      ]
     },
     "execution_count": 53,
     "metadata": {},
     "output_type": "execute_result"
    }
   ],
   "source": [
    "cosine_similarity(inputs_example.flatten(1)[0:1],inputs_example.flatten(1)[0:6]).round(3)"
   ]
  },
  {
   "cell_type": "markdown",
   "id": "396c512f",
   "metadata": {},
   "source": [
    "Hier fällt auf, dass das zweite Bild einer `persian` Katze tatsächlich das unähnlichste ist, obwohl in beiden Bilder die slebe Art von Katze zusehen ist. Wir können also daraus schließen, dass das Netzwerk tatsächlich ähnliche Fetaures in Bildern finden kann.\n",
    "\n",
    "Als letzes probieren wir noch aus, wie gut unsere Netzwerk funktioniert, wenn wir das vortrainierte Modell laden und unsere eigene Lineare Layer erstellen. Diesmal aber nicht die vortrainierten Convolution Layers nicht einfrieren, also auch noch weiter trainieren.  "
   ]
  },
  {
   "cell_type": "code",
   "execution_count": 2,
   "id": "7a9c88d4",
   "metadata": {},
   "outputs": [
    {
     "ename": "NameError",
     "evalue": "name 'train_loader' is not defined",
     "output_type": "error",
     "traceback": [
      "\u001b[0;31m---------------------------------------------------------------------------\u001b[0m",
      "\u001b[0;31mNameError\u001b[0m                                 Traceback (most recent call last)",
      "\u001b[0;32m/tmp/ipykernel_4129647/3642316928.py\u001b[0m in \u001b[0;36m<module>\u001b[0;34m\u001b[0m\n\u001b[1;32m     11\u001b[0m     \u001b[0mrunning_loss\u001b[0m \u001b[0;34m=\u001b[0m \u001b[0;36m0\u001b[0m\u001b[0;34m\u001b[0m\u001b[0;34m\u001b[0m\u001b[0m\n\u001b[1;32m     12\u001b[0m     \u001b[0mrunning_corrects\u001b[0m \u001b[0;34m=\u001b[0m \u001b[0;36m0\u001b[0m\u001b[0;34m\u001b[0m\u001b[0;34m\u001b[0m\u001b[0m\n\u001b[0;32m---> 13\u001b[0;31m     \u001b[0;32mfor\u001b[0m \u001b[0minputs\u001b[0m\u001b[0;34m,\u001b[0m \u001b[0mtargets\u001b[0m \u001b[0;32min\u001b[0m \u001b[0mtrain_loader\u001b[0m\u001b[0;34m:\u001b[0m\u001b[0;34m\u001b[0m\u001b[0;34m\u001b[0m\u001b[0m\n\u001b[0m\u001b[1;32m     14\u001b[0m         \u001b[0moptimizer\u001b[0m\u001b[0;34m.\u001b[0m\u001b[0mzero_grad\u001b[0m\u001b[0;34m(\u001b[0m\u001b[0;34m)\u001b[0m\u001b[0;34m\u001b[0m\u001b[0;34m\u001b[0m\u001b[0m\n\u001b[1;32m     15\u001b[0m         \u001b[0moutput\u001b[0m\u001b[0;34m=\u001b[0m\u001b[0mresnet18\u001b[0m\u001b[0;34m(\u001b[0m\u001b[0minputs\u001b[0m\u001b[0;34m)\u001b[0m\u001b[0;34m\u001b[0m\u001b[0;34m\u001b[0m\u001b[0m\n",
      "\u001b[0;31mNameError\u001b[0m: name 'train_loader' is not defined"
     ]
    }
   ],
   "source": [
    "resnet18 = models.resnet18(pretrained=True) #PRETRAIN = TRUE\n",
    "torch.manual_seed(1234)\n",
    "resnet18.fc = nn.Linear(512, 37) \n",
    "loss_funktion = nn.CrossEntropyLoss()\n",
    "optimizer = optim.Adam(resnet18.parameters(), lr=0.0001)\n",
    "torch.manual_seed(3333)\n",
    "for epoch in range(3):\n",
    "    \n",
    "    #### Training ####\n",
    "    resnet18.train()\n",
    "    running_loss = 0\n",
    "    running_corrects = 0\n",
    "    for inputs, targets in train_loader:\n",
    "        optimizer.zero_grad()\n",
    "        output=resnet18(inputs)\n",
    "        _ , preds = torch.max(output, 1)\n",
    "        loss = loss_funktion(output,targets)\n",
    "        running_loss +=loss.item()\n",
    "        loss.backward()\n",
    "        optimizer.step()\n",
    "        running_corrects +=torch.sum(preds == targets.data)   \n",
    "    epoch_loss = running_loss/len(train_loader)    \n",
    "    epoch_acc = running_corrects.double() / len(train_data)  \n",
    "    print('Trainings Loss: {:.4f} Trainings Acc: {:.4f}'.format(\n",
    "        epoch_loss, epoch_acc))\n",
    "    \n",
    "    #### Evaluierung #####\n",
    "    resnet18.eval()\n",
    "    running_loss = 0\n",
    "    running_corrects = 0\n",
    "    for inputs, targets in test_loader:\n",
    "        output=resnet18(inputs)\n",
    "        _ , preds =torch.max(output, 1)\n",
    "        loss = loss_funktion(output,targets)\n",
    "        running_loss +=loss.item()\n",
    "        running_corrects +=torch.sum(preds == targets.data)\n",
    "    epoch_acc = running_corrects.double() / len(test_data) \n",
    "    epoch_loss = running_loss/len(test_loader)    \n",
    "    print('Test Loss: {:.4f} Test Acc: {:.4f}'.format(\n",
    "        epoch_loss, epoch_acc))"
   ]
  },
  {
   "cell_type": "markdown",
   "id": "ff1fb8b4",
   "metadata": {},
   "source": [
    "Dieses Netzwerk führt zu den besten Ergebnissen. Das liegt daran, dass jetzt auch die Weights der Convolution Layers noch zusätzlich weiter trainiert werden können. Also die Feature-Generation auch abgestimmter auf unseren Datensatz wird. \n",
    "\n",
    "In der Praxis werden oft für die neue linearen Layer und die bereits trainierten Convolutions unterschiedliche Learning Rates benutzt. Damit kann die neue lineare Layer schneller trainiert werden als die Convolutions. "
   ]
  },
  {
   "cell_type": "markdown",
   "id": "a7c991f1",
   "metadata": {},
   "source": [
    "# Übungsaufagbe\n",
    "\n",
    "Bitte starten Sie wieder den Kernel neu, bevor Sie die Übung machen.\n",
    "\n",
    "Wie bereits öfter in der Vorlesung besprochen, benutzten wir heute für die Übungsaufgabe ein vortrainiertes Model um Lungenentzündungen an Hand von Röntgenbildern zu erkennen.\n",
    "\n",
    "Dafür müssen Sie die Daten richtig einlesen, das Model richitg vorbereiten und den `for-loop` richtig ausfüllen."
   ]
  },
  {
   "cell_type": "code",
   "execution_count": 1,
   "id": "546d5cbc",
   "metadata": {
    "scrolled": true
   },
   "outputs": [
    {
     "data": {
      "text/plain": [
       "<matplotlib.pyplot._IonContext at 0x7f5c94635310>"
      ]
     },
     "execution_count": 1,
     "metadata": {},
     "output_type": "execute_result"
    }
   ],
   "source": [
    "from __future__ import print_function, division\n",
    "from nn.functional import sigmoid\n",
    "import torch\n",
    "import torch.nn as nn\n",
    "import torch.optim as optim\n",
    "from torch.optim import lr_scheduler\n",
    "import numpy as np\n",
    "import torchvision\n",
    "from torchvision import datasets, models, transforms\n",
    "from torch import sigmoid\n",
    "import matplotlib.pyplot as plt\n",
    "import time\n",
    "import os\n",
    "import copy\n",
    "from sklearn.metrics.pairwise import cosine_similarity\n",
    "from sklearn.metrics import roc_auc_score\n",
    "%run ../utils/utils.py\n",
    "plt.ion()"
   ]
  },
  {
   "cell_type": "markdown",
   "id": "f09b28e6",
   "metadata": {},
   "source": [
    "Zunächst navigieren Sie zu dem Ordner in dem auch schon die Tierbilder hinterlegt sind. Dort befindet sich auch ein Order `chest_xray`. Auch in diesem befinden sich Subordner mit den jeweiligen Trainings- und Testdatensätzen.\n",
    "Definieren Sie zunächst welche Transformationen auf die Bilder angewendet werden sollen."
   ]
  },
  {
   "cell_type": "code",
   "execution_count": null,
   "id": "f1bd87cb",
   "metadata": {},
   "outputs": [],
   "source": [
    "data_transforms = transforms.Compose([\n",
    "# resize\n",
    "# zum Tensor\n",
    "# Normalisieren    \n",
    "]) "
   ]
  },
  {
   "cell_type": "markdown",
   "id": "c10a14b4",
   "metadata": {},
   "source": [
    "Als nächstes laden ersten Sie die relevanten `datasets` und `DataLoader`:"
   ]
  },
  {
   "cell_type": "code",
   "execution_count": 5,
   "id": "2a2527ea",
   "metadata": {},
   "outputs": [
    {
     "data": {
      "text/plain": [
       "Dataset ImageFolder\n",
       "    Number of datapoints: 5216\n",
       "    Root location: ../data/chest_xray/train\n",
       "    StandardTransform\n",
       "Transform: Compose(\n",
       "               Resize(size=(224, 224), interpolation=bilinear, max_size=None, antialias=None)\n",
       "               ToTensor()\n",
       "               Normalize(mean=[0.485, 0.456, 0.406], std=[0.229, 0.224, 0.225])\n",
       "           )"
      ]
     },
     "execution_count": 5,
     "metadata": {},
     "output_type": "execute_result"
    }
   ],
   "source": [
    "train_data = datasets.ImageFolder(___________,___________)\n",
    "test_data = datasets.ImageFolder(___________,____________)\n",
    "train_data"
   ]
  },
  {
   "cell_type": "code",
   "execution_count": 6,
   "id": "3dc22598",
   "metadata": {},
   "outputs": [],
   "source": [
    "torch.manual_seed(1235)\n",
    "train_loader = torch.utils.data.DataLoader(_______ batch_size=16, shuffle=True)\n",
    "test_loader = torch.utils.data.DataLoader(_______, batch_size=16, shuffle=True)"
   ]
  },
  {
   "cell_type": "markdown",
   "id": "01385b3c",
   "metadata": {},
   "source": [
    "Finden Sie heraus wie viele verschiedene Klassen wir haben, denken Sie daran, dass das die Definition unsere Lossfunktion und unseres Netzwerkes beinflusst."
   ]
  },
  {
   "cell_type": "code",
   "execution_count": null,
   "id": "8aa9d94f",
   "metadata": {},
   "outputs": [],
   "source": []
  },
  {
   "cell_type": "code",
   "execution_count": 9,
   "id": "9eb6af4e",
   "metadata": {
    "scrolled": false
   },
   "outputs": [
    {
     "data": {
      "image/png": "[encoded data removed]",
      "text/plain": [
       "<Figure size 432x288 with 1 Axes>"
      ]
     },
     "metadata": {
      "needs_background": "light"
     },
     "output_type": "display_data"
    }
   ],
   "source": [
    "inputs_example, targets_example = next(iter(train_loader))\n",
    "out = torchvision.utils.make_grid(inputs_example[:2])\n",
    "imshow(out, title=[class_names[x] for x in targets_example[:2]])"
   ]
  },
  {
   "cell_type": "markdown",
   "id": "aa9827c2",
   "metadata": {},
   "source": [
    "Laden Sie zunächst das **vortrainierte** `resnet18`"
   ]
  },
  {
   "cell_type": "code",
   "execution_count": null,
   "id": "bfc79cce",
   "metadata": {},
   "outputs": [],
   "source": [
    "resnet18 = "
   ]
  },
  {
   "cell_type": "markdown",
   "id": "e62e6be1",
   "metadata": {},
   "source": [
    "Verhindern Sie, dass die `resnet` Layers noch weiter trainiert werden:"
   ]
  },
  {
   "cell_type": "code",
   "execution_count": null,
   "id": "e77d367d",
   "metadata": {},
   "outputs": [],
   "source": [
    "for param in resnet18.parameters():\n",
    "    ___________________"
   ]
  },
  {
   "cell_type": "markdown",
   "id": "e2a31535",
   "metadata": {},
   "source": [
    "Ersetzen Sie die richtige Layer mit einer neuen Layer."
   ]
  },
  {
   "cell_type": "code",
   "execution_count": null,
   "id": "69546967",
   "metadata": {},
   "outputs": [],
   "source": [
    "torch.manual_seed(1234)\n",
    "resnet18. = "
   ]
  },
  {
   "cell_type": "markdown",
   "id": "690ab579",
   "metadata": {},
   "source": [
    "Definieren Sie Lossfunktion und Optimizer"
   ]
  },
  {
   "cell_type": "code",
   "execution_count": null,
   "id": "c28ef957",
   "metadata": {},
   "outputs": [],
   "source": [
    "loss_funktion = \n",
    "optimizer = optim.Adam(______________, lr=0.001)"
   ]
  },
  {
   "cell_type": "code",
   "execution_count": 50,
   "id": "e37b2236",
   "metadata": {},
   "outputs": [
    {
     "name": "stdout",
     "output_type": "stream",
     "text": [
      "Trainings Loss: 0.2312 Trainings AUC: 0.9577\n",
      "Test Loss: 0.4927 Test Auc: 0.9048\n",
      "Trainings Loss: 0.1320 Trainings AUC: 0.9853\n",
      "Test Loss: 0.6238 Test Auc: 0.9235\n",
      "Trainings Loss: 0.1147 Trainings AUC: 0.9890\n",
      "Test Loss: 0.6882 Test Auc: 0.9448\n"
     ]
    }
   ],
   "source": [
    "torch.manual_seed(3333)\n",
    "for epoch in range(3):\n",
    "    \n",
    "    #### Training ####\n",
    "    resnet18._______\n",
    "    \n",
    "    #Brauchen wir für die Loss und AUC Berechnung\n",
    "    running_loss = 0\n",
    "    pred_ll = []\n",
    "    targets_ll = []\n",
    "    \n",
    "    \n",
    "    for inputs, targets in train_loader:\n",
    "        optimizer.___________\n",
    "        \n",
    "        #Forward Propagation\n",
    "        output=resnet18(________).squeeze()\n",
    "        loss = loss_funktion(output,targets.type_as(output))\n",
    "        \n",
    "        # Speichern des Loss und der Predictions\n",
    "        pred_ll.append(sigmoid(output).squeeze().detach().clone().numpy())\n",
    "        targets_ll.append(targets.detach().numpy())\n",
    "        running_loss +=loss.item()\n",
    "        \n",
    "        # Backpropagation\n",
    "        loss.___________\n",
    "        optimizer._____________\n",
    "         \n",
    "    epoch_loss = running_loss/len(train_loader)    \n",
    "    epoch_auc =  roc_auc_score(targets_ll,pred_ll)\n",
    "    print('Trainings Loss: {:.4f} Trainings AUC: {:.4f}'.format(\n",
    "        epoch_loss, epoch_auc))\n",
    "    \n",
    "    \n",
    "    #### Evaluierung #####\n",
    "    resnet18.______\n",
    "    \n",
    "    #Brauchen wir für die Loss und AUC Berechnung\n",
    "    running_loss = 0\n",
    "    pred_ll = []\n",
    "    targets_ll = []\n",
    "    \n",
    "    for inputs, targets in test_loader:\n",
    "        \n",
    "        #Forward Propagation\n",
    "        output=resnet18(_____).squeeze()\n",
    "        loss = loss_funktion(output,targets.type_as(output))\n",
    "        \n",
    "        pred_ll.append(sigmoid(output).squeeze().detach().clone().numpy())\n",
    "        targets_ll.append(targets.detach().numpy())\n",
    "        running_loss +=loss.item()\n",
    "\n",
    "    epoch_auc =  roc_auc_score(targets_ll,pred_ll)\n",
    "    epoch_loss = running_loss/len(test_loader)    \n",
    "    print('Test Loss: {:.4f} Test Auc: {:.4f}'.format(\n",
    "        epoch_loss, epoch_auc))"
   ]
  },
  {
   "cell_type": "code",
   "execution_count": null,
   "id": "96bd99c8",
   "metadata": {},
   "outputs": [],
   "source": []
  }
 ],
 "metadata": {
  "kernelspec": {
   "display_name": "Python 3 (ipykernel)",
   "language": "python",
   "name": "python3"
  },
  "language_info": {
   "codemirror_mode": {
    "name": "ipython",
    "version": 3
   },
   "file_extension": ".py",
   "mimetype": "text/x-python",
   "name": "python",
   "nbconvert_exporter": "python",
   "pygments_lexer": "ipython3",
   "version": "3.7.11"
  }
 },
 "nbformat": 4,
 "nbformat_minor": 5
}
