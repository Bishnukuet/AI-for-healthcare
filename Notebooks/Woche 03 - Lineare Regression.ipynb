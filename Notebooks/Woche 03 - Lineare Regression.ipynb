{
 "cells": [
  {
   "cell_type": "markdown",
   "id": "28aa56c8",
   "metadata": {},
   "source": [
    "# Einführung Statistik\n",
    "\n",
    "Wir werden heuten ein paar wenige Grundlagen zur Statistik anschauen.\n",
    "Die Statistik woll uns helfen Daten einfach zu beschrieben und erklären. "
   ]
  },
  {
   "cell_type": "code",
   "execution_count": 171,
   "id": "30ff49e5",
   "metadata": {},
   "outputs": [],
   "source": [
    "import numpy as np\n",
    "%matplotlib inline\n",
    "np.set_printoptions(suppress=True)"
   ]
  },
  {
   "cell_type": "markdown",
   "id": "e402ffe7",
   "metadata": {},
   "source": [
    "Wir können uns zum Beispiel die Abi Noten einer bestimmten Klasse anschauen:"
   ]
  },
  {
   "cell_type": "code",
   "execution_count": 1,
   "id": "a1b2a350",
   "metadata": {},
   "outputs": [],
   "source": [
    "abi_klasse = [1.64, 2.35, 1.88, 2.48, 2.16, 3.92, 2.16, 2.  , 1.76, 2.82, 1.81,\n",
    "       2.59, 3.03, 1.7 , 2.87, 3.21, 2.65, 1.97, 1.2, 1.67, 1.77, 1.98,\n",
    "       3.4 , 1.31, 1.72, 2.05, 1.12 , 1.56, 2.01, 2.1 ]"
   ]
  },
  {
   "cell_type": "markdown",
   "id": "cf298879",
   "metadata": {},
   "source": [
    "Allerdings ist es sehr schwer nur über die Daten eine Übersicht zubekommen.\n",
    "Einfach ist es sich die Noten aufzuzeichnen.\n",
    "<img src='Img/intro_stats/noten_1.png'></img>\n",
    "\n",
    "Obwohl Sie jetzt eine bessere gesamt Übersicht haben, könnte es ihnen schwer fallen zwei Klassen miteinander zu vergleichen.\n",
    "<img src='Img/intro_stats/noten_2.png'></img>\n",
    "\n",
    "Oft reicht eine rein visuelle Inspektion nicht um eindeutige Entscheidungen zu treffen.\n",
    "Hierfür werden Metriken benögt, die die Verteilung von Datenpunkten, wie die Abinoten, beschreiben.\n",
    "\n",
    "Am wohlbekanntesten ist der Mittelwert, genauer gesagt das arithmetisches Mittel. Es beschreibt den Durchschnitt einer Verteilung von Datenpunkten. \n",
    "Und das arithmetische Mittel zu berechnen wird die Summe aller Werte durch die Anzahl der Werte geteilt.\n",
    "\n",
    "\n",
    "$$\\bar{x} = \\frac{1}{n}\\sum_{i=1}^n x_i$$\n",
    "\n",
    "Der mittelwert wird oft durch $\\bar{x}$ beschrieben.\n",
    "Berechnen Sie das arithmetische Mittel in Python für die Abiklasse aus. *Ohne dabei Numpy zu benutzen*"
   ]
  },
  {
   "cell_type": "code",
   "execution_count": 10,
   "id": "babafe84",
   "metadata": {
    "scrolled": true
   },
   "outputs": [
    {
     "ename": "SyntaxError",
     "evalue": "invalid syntax (2486535905.py, line 1)",
     "output_type": "error",
     "traceback": [
      "\u001b[0;36m  File \u001b[0;32m\"/tmp/ipykernel_160668/2486535905.py\"\u001b[0;36m, line \u001b[0;32m1\u001b[0m\n\u001b[0;31m    mean_abiklasse = # Formel für den Mittelwert\u001b[0m\n\u001b[0m                                                ^\u001b[0m\n\u001b[0;31mSyntaxError\u001b[0m\u001b[0;31m:\u001b[0m invalid syntax\n"
     ]
    }
   ],
   "source": [
    "mean_abiklasse = _____________# Formel für den Mittelwert"
   ]
  },
  {
   "cell_type": "markdown",
   "id": "b5f37e5b",
   "metadata": {},
   "source": [
    "<details>\n",
    "<summary><b>Lösung:</b></summary>\n",
    "    \n",
    "```python \n",
    "mean_abiklasse = sum(abi_klasse)/len(abi_klasse)\n",
    "```\n",
    "</details>"
   ]
  },
  {
   "cell_type": "markdown",
   "id": "8dc7cc52",
   "metadata": {},
   "source": [
    "Doch der Mittelwert reicht nicht um eine Verteilung von Werten adequate zu beschrieben. Zum Beispiel, haben die beiden [Normal Verteilungen](https://de.statista.com/statistik/lexikon/definition/95/normalverteilung/) im Beispiel den gleichen Mittelwert und trotzdem sind Sie nicht identisch Verteilt. \n",
    "<img src='Img/intro_stats/noten_3.png'></img>\n",
    "\n",
    "Wir können sehen, dass die orangene Verteilung viel schmaller ist als die blaue. Das heißt die Werte der orangenen Gruppe liegen näher an ihrem Durchschnitt als bei der blauen Gruppe.\n",
    "Die breite einer Verteilung wird durch die Varianz gemessen. Die Varianz misst den durchschnittlichen Abstand der Werte zu ihrem Mittelwert. \n",
    "\n",
    "Die Varianze ($s^2$) wird wie folgt berechnet:\n",
    "\n",
    "$$s^2 = \\frac{1}{n}\\sum_{i=1}^n(x_i-\\bar{x})^2$$\n",
    "\n",
    "Beachtet das nicht die Different ($x_i-\\bar{x}$) sondern das Quadrat ($x_i -\\bar{x})^2$ der Differnenz summiert wird. Somit haben größere Abstände einen größeren Einfluß auf die Varianz. \n",
    "\n",
    "Berechnet die Varianz der `abi_klasse`:\n"
   ]
  },
  {
   "cell_type": "code",
   "execution_count": 17,
   "id": "71817d5b",
   "metadata": {},
   "outputs": [
    {
     "data": {
      "text/plain": [
       "0.42147433333333323"
      ]
     },
     "execution_count": 17,
     "metadata": {},
     "output_type": "execute_result"
    }
   ],
   "source": [
    "varianz_abiklasse = ________________ /(len(abi_klasse)# Ihr braucht wahrscheinlich einen for-loop"
   ]
  },
  {
   "cell_type": "markdown",
   "id": "277014b6",
   "metadata": {},
   "source": [
    "<details>\n",
    "<summary><b>Lösung:</b></summary>\n",
    "    \n",
    "```python\n",
    "sum([(x - mean_abiklasse)**2 for x in abi_klasse])/(len(abi_klasse))\n",
    "```\n",
    "</details>    "
   ]
  },
  {
   "cell_type": "markdown",
   "id": "e076b435",
   "metadata": {},
   "source": [
    "\n",
    "<details>\n",
    "    <summary><b>Lösung: for-loop ausgeschrieben</b></summary>\n",
    "```python\n",
    "quadrate = 0\n",
    "for x in abi_klasse:\n",
    "    quadrate = quadrate +((x-mean_abiklasse)**2)\n",
    "varianz_abiklasse = quadrate/len(abi_klasse) \n",
    "```\n",
    "</details>   "
   ]
  },
  {
   "cell_type": "markdown",
   "id": "f23f3b1a",
   "metadata": {},
   "source": [
    "Oft wird auch die Standard Abweichung als Maß für die *Breite* eine Verteilung benutzt. Die Standard Abweichung erhält man durch das nehmen der Wurzel der Varianz. Damit wird das Maß der Varianz auf die Skala der ursprünglichen Verteilung gebracht."
   ]
  },
  {
   "cell_type": "code",
   "execution_count": null,
   "id": "66f0084b",
   "metadata": {},
   "outputs": [],
   "source": [
    "std_abiklasse = __________ #Berechnen Sie die Standardabweichung"
   ]
  },
  {
   "cell_type": "markdown",
   "id": "7e619ea1",
   "metadata": {},
   "source": [
    "<details>\n",
    "<summary><b>Lösung:</b></summary>\n",
    "    \n",
    "```python\n",
    "std_abiklasse= varianz_abiklasse**(0.5)\n",
    "```\n",
    "</details>    "
   ]
  },
  {
   "cell_type": "markdown",
   "id": "267f998a",
   "metadata": {},
   "source": [
    "Natürlich gibt es alle Funktionen auch schon in numpy: `np.mean()`,`np.std()`,`np.var()`"
   ]
  },
  {
   "cell_type": "code",
   "execution_count": 27,
   "id": "033a21bb",
   "metadata": {},
   "outputs": [
    {
     "name": "stdout",
     "output_type": "stream",
     "text": [
      "Mittelwert:  2.1629999999999994\n",
      "Varianz:  0.4214743333333333\n",
      "Standard Abweichung:  0.6492105462277499\n"
     ]
    }
   ],
   "source": [
    "import numpy as np\n",
    "print(\"Mittelwert: \", np.mean(abi_klasse))\n",
    "print(\"Varianz: \", np.var(abi_klasse))\n",
    "print(\"Standard Abweichung: \", np.std(abi_klasse))\n"
   ]
  },
  {
   "cell_type": "markdown",
   "id": "5670c0d7",
   "metadata": {},
   "source": [
    "Mit dem Maß der Varianz/Standard und dem Mittelwert können wir schon einige Verteilung beschreiben. Natürlich nicht alle, z.B. z.B. bei multimodalen Verteilungen bräuchte man noch mehr Informationen. \n",
    "\n",
    "<img src='Img/intro_stats/noten_4.png'></img>\n",
    "\n",
    "\n",
    "Allerdings wollen wir nicht immer nur Daten beschreiben sondern wir wollen auch Informationen von diesen Daten gewinnen. \n",
    "Mit hilfe der Korrelation können wir zum Beispiel den Zusammenhang von Körergröße zu Gewicht beschrieben. Je größere ein Mensch ist desto schwerer ist er. Dieses Model ist natürlich nicht perfekt, das Körpergewicht ist ntürlich nicht vur von der Körpergröße abhängig. Es gibt große leichte Menschen und kleine schwerere. Aber es gibt eine zu Grunde liegende Tendenz. \n",
    "\n",
    "<table><tr>\n",
    "<td> <img src='Img/intro_stats/gewichtvsgröße.png' alt=\"Drawing\" style=\"width: 250px;\"/> </td>\n",
    "<td> <img src='Img/intro_stats/gewichtvsgröße2.png' alt=\"Drawing\" style=\"width: 250px;\"/> </td>\n",
    "</tr></table>\n",
    "\n",
    "Wir können die Beziehung mit einer linearen Regression beschreiben.\n",
    "Sie kennen vielleicht noch aus der Schule die geraden Glecihung $y = mx+t$ (oder $y = ax+b$). \n",
    "<br>\n",
    "\n",
    "\n",
    "\n",
    "- $x$ ist die Input Variable, in unserem Falle die Körpergröße\n",
    "- $y$ ist die zu vorher sagende Variable (Körpergewicht)\n",
    "- $m$ beschreibt die Steigung der Geraden\n",
    "- $t$ gibt den y-Achsen Abschnitt an, der Wert von $y$ wenn $x=0$\n",
    "\n",
    "<img src='Img/intro_stats/reg1.png' alt=\"Drawing\" width=\"500\"/>\n",
    "\n",
    "Angenommen die Gleichung der Regressiongeraden wäre $y=0.3x+21$ dann wäre zum Beispield as Gewicht einer Person mit einer Größe von 180cm, 75kg ($0.3\\cdot180+21)$.\n",
    "\n",
    "Natürlich wiegt nicht jede 180cm große Person 66 kg. Das ist nur der vorhergesagte Wert unsere Regressionsgleichung. Um das eindeutig zu kennzeichnen, schreiben wir $\\hat{y}$ anstatt $y$.\n",
    "Dadurch wird die Geradegleichung zu $hat{y}=mx+t$. \n",
    "\n",
    "---\n",
    "\n",
    "Schreiben Sie eine Funktion, die das Gewicht an Hand der oben beschriebenen Geradengleichung berechnet.\n"
   ]
  },
  {
   "cell_type": "code",
   "execution_count": 264,
   "id": "f34082ec",
   "metadata": {},
   "outputs": [],
   "source": [
    "def reg(x,m,t):\n",
    "    _________# Was soll diese Funktion ausgeben?"
   ]
  },
  {
   "cell_type": "markdown",
   "id": "b8dc8f11",
   "metadata": {},
   "source": [
    "<details>\n",
    "<summary><b>Lösung:</b></summary>\n",
    "    \n",
    "```python\n",
    "def reg(größe):\n",
    "    return m*x+t\n",
    "```\n",
    "</details>    \n"
   ]
  },
  {
   "cell_type": "markdown",
   "id": "b8282754",
   "metadata": {},
   "source": [
    "Die Variable `x` enthält die Größen in cm von 5 Personen. Für diese fünf Personen brechnen Sie das Gewicht mit Hilfe der Funktion `gewicht_reg`. "
   ]
  },
  {
   "cell_type": "code",
   "execution_count": null,
   "id": "ec7a90fb",
   "metadata": {},
   "outputs": [],
   "source": [
    "x = [182,167,198,132,178]\n",
    "y_hat = [reg(__,__,__) for ___ in _____ ]\n",
    "y_hat"
   ]
  },
  {
   "cell_type": "markdown",
   "id": "e40ce95a",
   "metadata": {},
   "source": [
    "<details>\n",
    "<summary><b>Lösung:</b></summary>\n",
    "    \n",
    "```python\n",
    "y_hat = [gewicht_reg(gewicht) for gewicht in x ]\n",
    "```\n",
    "</details>    "
   ]
  },
  {
   "cell_type": "markdown",
   "id": "91a19876",
   "metadata": {},
   "source": [
    "Die Werte sind natürlich nur eine Schätzung des Gewichtes, und weichen von dem tatsächlichen Gewicht der Person ab. Um zu beurteilen wie gut unsere Model das Gewicht bestimmen kann, brauchen wir auch das tatsächliche gemessene Gewicht der Personen. Diese sind in `y` gegeben. Wir können zum Beispiel die Differenz von `y_hat` und `y` berechnen. Dafür müssenw ir aber erst einmal die Listen zu `numpy` arrays konvertieren"
   ]
  },
  {
   "cell_type": "code",
   "execution_count": 52,
   "id": "d11797e4",
   "metadata": {},
   "outputs": [
    {
     "ename": "NameError",
     "evalue": "name '____' is not defined",
     "output_type": "error",
     "traceback": [
      "\u001b[0;31m---------------------------------------------------------------------------\u001b[0m",
      "\u001b[0;31mNameError\u001b[0m                                 Traceback (most recent call last)",
      "\u001b[0;32m/tmp/ipykernel_66709/2092107416.py\u001b[0m in \u001b[0;36m<module>\u001b[0;34m\u001b[0m\n\u001b[1;32m      1\u001b[0m \u001b[0my\u001b[0m \u001b[0;34m=\u001b[0m \u001b[0mnp\u001b[0m\u001b[0;34m.\u001b[0m\u001b[0marray\u001b[0m\u001b[0;34m(\u001b[0m\u001b[0;34m[\u001b[0m\u001b[0;36m78.2\u001b[0m\u001b[0;34m,\u001b[0m\u001b[0;36m68.3\u001b[0m\u001b[0;34m,\u001b[0m \u001b[0;36m81.0\u001b[0m\u001b[0;34m,\u001b[0m\u001b[0;36m64.3\u001b[0m\u001b[0;34m,\u001b[0m \u001b[0;36m70.1\u001b[0m \u001b[0;34m]\u001b[0m\u001b[0;34m)\u001b[0m\u001b[0;34m\u001b[0m\u001b[0;34m\u001b[0m\u001b[0m\n\u001b[1;32m      2\u001b[0m \u001b[0my_hat\u001b[0m \u001b[0;34m=\u001b[0m \u001b[0mnp\u001b[0m\u001b[0;34m.\u001b[0m\u001b[0marray\u001b[0m\u001b[0;34m(\u001b[0m\u001b[0my_hat\u001b[0m\u001b[0;34m)\u001b[0m\u001b[0;34m\u001b[0m\u001b[0;34m\u001b[0m\u001b[0m\n\u001b[0;32m----> 3\u001b[0;31m \u001b[0mdiff\u001b[0m \u001b[0;34m=\u001b[0m \u001b[0my_hat\u001b[0m \u001b[0;34m-\u001b[0m \u001b[0m____\u001b[0m \u001b[0;31m# was ziehen wir von y_hat ab?\u001b[0m\u001b[0;34m\u001b[0m\u001b[0;34m\u001b[0m\u001b[0m\n\u001b[0m",
      "\u001b[0;31mNameError\u001b[0m: name '____' is not defined"
     ]
    }
   ],
   "source": [
    "y = np.array([78.2,68.3, 81.0,64.3, 70.1 ])\n",
    "y_hat = np.array(y_hat)\n",
    "residual = y - y_hat # was ziehen wir von y ab?\n",
    "residual"
   ]
  },
  {
   "cell_type": "markdown",
   "id": "9fb42e18",
   "metadata": {},
   "source": [
    "Diese Differenz zwischen dem tatsächlichen und dem vorhergesagten Wert($y - \\hat{y}$) wird auch als Residuum bezeichnet. Als Symbol für das Residuum wird meisten das kleine Epsilion ($\\epsilon$) verwendet, hiermit wird die Größe des Fehlers (**E**rror) der Vorhersage gemessen. \n",
    "\n",
    "<img src='Img/intro_stats/reg_2.png' alt=\"Drawing\" width=\"500\"/>\n",
    "\n",
    "Um Einschätzen zu können wie gut unsere Model insgesamt ist können wir zum Beispiel die Residuen einfach summieren."
   ]
  },
  {
   "cell_type": "code",
   "execution_count": 58,
   "id": "7939582d",
   "metadata": {},
   "outputs": [
    {
     "data": {
      "text/plain": [
       "-0.20000000000000995"
      ]
     },
     "execution_count": 58,
     "metadata": {},
     "output_type": "execute_result"
    }
   ],
   "source": [
    "sum(residual)"
   ]
  },
  {
   "cell_type": "markdown",
   "id": "9642580f",
   "metadata": {},
   "source": [
    "Wie Sie sehen ist der Wert sehr nahe bei Null. Eigentlich ein sehr gerinnger Fehler. Das Problem ist aber, dass Residuen sowohl positve als auch negativ sein können. Das heißt beim summieren gleichen Sie sich aus, und man wird immer Werte in der Nähe von Null erhalten. Um das zu umgehen summieren deswegen nicht die Residuen sonder, wie bei der Varianz, die Quadrate der Residuen. $\\sum_{i=1}^{n}(y_i-\\hat{y}_i)^2$. \n",
    "\n",
    "Die Summe alleine, würde aber dazu führen das Modelle die mehr Datenpunkte haben, also ein größeres $n$, automatische größere Summen haben werden. Deswegen nehmen wir nicht die Summe sondern den Mittelwert der Quadrate: $\\frac{1}{n}\\sum_{i=1}^{n}(y_-\\hat{y}_i)^2$. Dieser Wert, *Mean Squared Error* (MSE) genannt, eignet sich um die Güte der vorhersagen zu beurteieln. Wenn ein Model ein kleinen MSE hat, können Sie daraus schlussfolgern, dass die Residuen klein sein müssen also die Unterschiede zwischen vorhergesagten um wahren Wert klein sind. \n",
    "\n",
    "So wie bei der varianz und Standard Abweichung gibt es auch den Root Mean Squared Error (RMSE). Wie Sie sich denken können, wird einfach die Wurzel vom MSE genommen. Schreiben Sie eine Funktion, die den RMSE berechnen kann. Sie dürfen `numpy` benutzen, das heißt Sie brauchen keinen for-loop.\n"
   ]
  },
  {
   "cell_type": "code",
   "execution_count": 62,
   "id": "6ad3d6a8",
   "metadata": {},
   "outputs": [
    {
     "ename": "NameError",
     "evalue": "name '__________________' is not defined",
     "output_type": "error",
     "traceback": [
      "\u001b[0;31m---------------------------------------------------------------------------\u001b[0m",
      "\u001b[0;31mNameError\u001b[0m                                 Traceback (most recent call last)",
      "\u001b[0;32m/tmp/ipykernel_66709/3257105821.py\u001b[0m in \u001b[0;36m<module>\u001b[0;34m\u001b[0m\n\u001b[1;32m      2\u001b[0m    \u001b[0mMSE\u001b[0m \u001b[0;34m=\u001b[0m \u001b[0mnp\u001b[0m\u001b[0;34m.\u001b[0m\u001b[0msum\u001b[0m\u001b[0;34m(\u001b[0m\u001b[0m__________________\u001b[0m\u001b[0;34m)\u001b[0m \u001b[0;34m/\u001b[0m\u001b[0mlen\u001b[0m\u001b[0;34m(\u001b[0m\u001b[0m_____\u001b[0m\u001b[0;34m)\u001b[0m \u001b[0;31m#Hier wird der MSE berechnet,\u001b[0m\u001b[0;34m\u001b[0m\u001b[0;34m\u001b[0m\u001b[0m\n\u001b[1;32m      3\u001b[0m    \u001b[0;32mreturn\u001b[0m \u001b[0m___________\u001b[0m \u001b[0;31m# Wir wollen nicht den MSE sonder den RMSE. Konvertieren Sie den MSE zum RMSE\u001b[0m\u001b[0;34m\u001b[0m\u001b[0;34m\u001b[0m\u001b[0m\n\u001b[0;32m----> 4\u001b[0;31m \u001b[0mRMSE\u001b[0m\u001b[0;34m(\u001b[0m\u001b[0my\u001b[0m\u001b[0;34m,\u001b[0m \u001b[0my_hat\u001b[0m\u001b[0;34m)\u001b[0m\u001b[0;34m\u001b[0m\u001b[0;34m\u001b[0m\u001b[0m\n\u001b[0m",
      "\u001b[0;32m/tmp/ipykernel_66709/3257105821.py\u001b[0m in \u001b[0;36mRMSE\u001b[0;34m(y, y_hat)\u001b[0m\n\u001b[1;32m      1\u001b[0m \u001b[0;32mdef\u001b[0m \u001b[0mRMSE\u001b[0m\u001b[0;34m(\u001b[0m\u001b[0my\u001b[0m\u001b[0;34m,\u001b[0m\u001b[0my_hat\u001b[0m\u001b[0;34m)\u001b[0m\u001b[0;34m:\u001b[0m\u001b[0;34m\u001b[0m\u001b[0;34m\u001b[0m\u001b[0m\n\u001b[0;32m----> 2\u001b[0;31m    \u001b[0mMSE\u001b[0m \u001b[0;34m=\u001b[0m \u001b[0mnp\u001b[0m\u001b[0;34m.\u001b[0m\u001b[0msum\u001b[0m\u001b[0;34m(\u001b[0m\u001b[0m__________________\u001b[0m\u001b[0;34m)\u001b[0m \u001b[0;34m/\u001b[0m\u001b[0mlen\u001b[0m\u001b[0;34m(\u001b[0m\u001b[0m_____\u001b[0m\u001b[0;34m)\u001b[0m \u001b[0;31m#Hier wird der MSE berechnet,\u001b[0m\u001b[0;34m\u001b[0m\u001b[0;34m\u001b[0m\u001b[0m\n\u001b[0m\u001b[1;32m      3\u001b[0m    \u001b[0;32mreturn\u001b[0m \u001b[0m___________\u001b[0m \u001b[0;31m# Wir wollen nicht den MSE sonder den RMSE. Konvertieren Sie den MSE zum RMSE\u001b[0m\u001b[0;34m\u001b[0m\u001b[0;34m\u001b[0m\u001b[0m\n\u001b[1;32m      4\u001b[0m \u001b[0mRMSE\u001b[0m\u001b[0;34m(\u001b[0m\u001b[0my\u001b[0m\u001b[0;34m,\u001b[0m \u001b[0my_hat\u001b[0m\u001b[0;34m)\u001b[0m\u001b[0;34m\u001b[0m\u001b[0;34m\u001b[0m\u001b[0m\n",
      "\u001b[0;31mNameError\u001b[0m: name '__________________' is not defined"
     ]
    }
   ],
   "source": [
    "def RMSE(y,y_hat):\n",
    "   MSE = np.sum(__________________) /len(_____) #Hier wird der MSE berechnet, \n",
    "   return ___________ # Wir wollen nicht den MSE sonder den RMSE. Konvertieren Sie den MSE zum RMSE\n",
    "RMSE(y, y_hat)    "
   ]
  },
  {
   "cell_type": "markdown",
   "id": "e0a09e08",
   "metadata": {},
   "source": [
    "<details>\n",
    "<summary><b>Lösung:</b></summary>\n",
    "    \n",
    "```python\n",
    "def RMSE(y,y_hat):\n",
    "   MSE = np.sum((y-y_hat)**2)/len(y)\n",
    "   return np.sqrt(MSE) \n",
    "```\n",
    "</details>    "
   ]
  },
  {
   "cell_type": "code",
   "execution_count": 274,
   "id": "e14e9b75",
   "metadata": {},
   "outputs": [],
   "source": [
    "def RMSE(y,y_hat):\n",
    "   MSE = np.sum((y-y_hat)**2)/len(y)\n",
    "   return np.sqrt(MSE) "
   ]
  },
  {
   "cell_type": "markdown",
   "id": "318c6e25",
   "metadata": {},
   "source": [
    "Im machinellen Lernen, oder allgemeine im Feld der Optimizierung, werden Funktionen wie den RMSE auch als Loss Funktion bezeichnet. Sie messen wie gut ein Model, dessen Parameter, zu den Daten passen. Den Loss, berechnet durch die Loss Funktion, gilt es zu minimieren. "
   ]
  },
  {
   "cell_type": "markdown",
   "id": "0b7ce4c2",
   "metadata": {},
   "source": [
    "# Beispiel\n",
    "\n",
    "Bis jetzt haben Sie immer die Parameter `m` und `t` vorgegeben bekommen. In der Realität müssen Sie diese selber berechnen (lassen). Im folgenden Beispiel werden wir uns mit der Vorhersage von Siedepunkt befassen. Dafür benutzen wir einen Datensatz des amerikanischen *National Institute of Standards and Technology*. Im Datensatz sind die Siedetemperaturen für 72 einfache Alkohole aufgezeichnet. Dazu wrd noch das molekolare Gewicht und die Anzahl der Kohlenstoffe angegeben. \n",
    "Der Datensatz befindet sich im Ordner `../data/boilingpoints/`\n",
    "\n",
    "Wir benutzen diesmal `numpy` um unseren Datensatz einzulesen. "
   ]
  },
  {
   "cell_type": "code",
   "execution_count": 302,
   "id": "6a5f2e6f",
   "metadata": {},
   "outputs": [
    {
     "name": "stdout",
     "output_type": "stream",
     "text": [
      "Größe der Daten:  (72, 3)\n"
     ]
    },
    {
     "data": {
      "text/plain": [
       "array([[338.  ,  32.04,   1.  ],\n",
       "       [351.  ,  46.07,   2.  ],\n",
       "       [371.  ,  60.1 ,   3.  ],\n",
       "       [356.  ,  60.1 ,   3.  ],\n",
       "       [391.  ,  74.12,   4.  ],\n",
       "       [372.  ,  74.12,   4.  ],\n",
       "       [381.  ,  74.12,   4.  ],\n",
       "       [355.  ,  74.12,   4.  ],\n",
       "       [411.  ,  88.15,   5.  ],\n",
       "       [404.  ,  88.15,   5.  ]])"
      ]
     },
     "execution_count": 302,
     "metadata": {},
     "output_type": "execute_result"
    }
   ],
   "source": [
    "data = np.genfromtxt('../data/boilingpoints/bp.csv', delimiter=',', skip_header =True)\n",
    "print(\"Größe der Daten: \",data.shape)\n",
    "data[:10,:] "
   ]
  },
  {
   "cell_type": "markdown",
   "id": "d40c8402",
   "metadata": {},
   "source": [
    "Der Datensatz besteht aus 72 Reihen und 7 Spalten. Jede Reihe representiert einen Alkohol und die 7 Spalten sind 7 Deskriptoren. Die erste Spalte enthält die Schmelzpunkte, die zweite das molekulare Gewicht und die dritte Spalte die Anzahl der Kohlenstoffe. \n",
    "\n",
    "Unsere Ziel ist es mit Hilfe des molekularen Gewichtes den Schmelzpunkt vorher zusagen.\n",
    "zunächst speichern wir die erste Spalte(Schmelzpunkte) in die Variable `y` und die die zweite Spalte in die Variable `x`"
   ]
  },
  {
   "cell_type": "code",
   "execution_count": null,
   "id": "7eeb2a29",
   "metadata": {},
   "outputs": [],
   "source": [
    "y = data[:,0] # y ist unsere zuvorhersagende Variable (schmelzpunkte)\n",
    "x = data[:,1:2] # Wir könnten auch data[:,1] benutzen, verhält sich leicht anders."
   ]
  },
  {
   "cell_type": "code",
   "execution_count": 307,
   "id": "52c80deb",
   "metadata": {},
   "outputs": [
    {
     "name": "stdout",
     "output_type": "stream",
     "text": [
      "[32.04 46.07 60.1  60.1  74.12]\n",
      "[[32.04]\n",
      " [46.07]\n",
      " [60.1 ]\n",
      " [60.1 ]\n",
      " [74.12]]\n"
     ]
    }
   ],
   "source": [
    "print(data[:5,1])\n",
    "print(data[:5,1:2])"
   ]
  },
  {
   "cell_type": "markdown",
   "id": "4e596e7a",
   "metadata": {},
   "source": [
    "Sie können sehen, dass wir die selben Werte auswählen, allerdings reduzieren wir die Spalte in der ersten Variante zu einem 1-dimensionales Array der Größe `(72)`. Also einem Vektor der Länge 72. Mancher der Funktionen notwenig für eine lineare Regression erwarten, dass sich unsere `x` Variable in Form eines 2-dimensionalen Array befindet. Deswegen wählen wir die Spalte mit `data[:,1:2]` aus.\n",
    "\n",
    "\n",
    "Sie können die Daten auch graphisch darstellen, dafür benutzen wir die Libary `matplotlib`. Mit der `plt.plot()` Funktion können Sie schnell einfache Graphen erstellen. Hierbei müssen Sie nur angeben welche Werte auf die x-Achse angeben (erste Position in der Funktion), dann geben Sie an was auf die y-Achse gehört (zweite Position). Als letztes können Sie spezifizieren ob die einzelnen Werte als Punkt `\"o\"` oder mit einer Linie verbunden werden soll `\"-\"`."
   ]
  },
  {
   "cell_type": "code",
   "execution_count": 310,
   "id": "4c484731",
   "metadata": {},
   "outputs": [
    {
     "data": {
      "text/plain": [
       "[<matplotlib.lines.Line2D at 0x7f6788de29d0>]"
      ]
     },
     "execution_count": 310,
     "metadata": {},
     "output_type": "execute_result"
    },
    {
     "data": {
      "image/png": "[encoded data removed]",
      "text/plain": [
       "<Figure size 432x288 with 1 Axes>"
      ]
     },
     "metadata": {
      "needs_background": "light"
     },
     "output_type": "display_data"
    }
   ],
   "source": [
    "from matplotlib import pyplot as plt\n",
    "plt.plot(x, y, \"o\")"
   ]
  },
  {
   "cell_type": "markdown",
   "id": "3eccb26d",
   "metadata": {},
   "source": [
    "Wir können klar sehen, dass mit steigendem Gewicht auch der Siedepunkt der Alkohole steigt. "
   ]
  },
  {
   "cell_type": "code",
   "execution_count": 253,
   "id": "a5361ccd",
   "metadata": {},
   "outputs": [],
   "source": [
    "from sklearn.linear_model import LinearRegression\n",
    "model = LinearRegression()\n",
    "model.fit(x,y) # berechnet die Regressions Gerade\n",
    "m = model.coef_ # Wir können m und t aus model() erhalten.\n",
    "t = model.intercept_"
   ]
  },
  {
   "cell_type": "code",
   "execution_count": 285,
   "id": "1af3aa36",
   "metadata": {},
   "outputs": [
    {
     "data": {
      "text/plain": [
       "21.999551972730536"
      ]
     },
     "execution_count": 285,
     "metadata": {},
     "output_type": "execute_result"
    }
   ],
   "source": [
    "y_hat = reg(data[:,1],m,t)\n",
    "y_hat\n",
    "\n",
    "RMSE(y, y_hat) "
   ]
  },
  {
   "cell_type": "code",
   "execution_count": 293,
   "id": "a9af376a",
   "metadata": {},
   "outputs": [
    {
     "data": {
      "text/plain": [
       "30.141295332704825"
      ]
     },
     "execution_count": 293,
     "metadata": {},
     "output_type": "execute_result"
    }
   ],
   "source": [
    "y_hat = reg(data[:,1],1.9,208)\n",
    "\n",
    "RMSE(y, y_hat) \n",
    "\n"
   ]
  },
  {
   "cell_type": "markdown",
   "id": "157f3694",
   "metadata": {},
   "source": [
    "# Logistische Regression\n",
    "\n",
    "Es gibt auch Probleme in dene nicht exakte Werte vorhergesagt werden sollen. Wir wollen zum Beispiel entscheiden, ob ein Patient auf die Intensivstation muss oder nicht. Hierbei muss nur zwischen `JA` oder `NEIN` entschieden werden. In mathematischen Termen würden wir aber von `1` oder `0` sprechen. Wir sprechen von eine binären Klassifizierung, wenn ein Datenpunkt zu einer von zwei Gruppen gehören kann. \n",
    "\n",
    "Hier haben wir ein Beispiel von einem Basketballspieler der auf den Korb aus verschiedenen Distanzen wirft. \n",
    "Macht er einen Korb wird dieser Wurf mit einer `1` gekennzeichnet. Trifft er nicht wird diesem Wurf eine `0` zugeordnet.\n"
   ]
  },
  {
   "cell_type": "code",
   "execution_count": 152,
   "id": "d17ea319",
   "metadata": {},
   "outputs": [],
   "source": [
    "körbe = np.array([1,1,1,1,1,1,0,1,0,1,1,0,0,1,1,0,0,0,1,0,0,0,0,0,1,0,0,0,0,0])    \n",
    "distanz = np.array([0.,1.,2.,3.,4.,5.,6.,7.,8.,9.,10.,11.,12.,13.,14.,\n",
    "                    15.,16.,17.,18.,19.,20.,21.,22.,23.,24.,25.,26.,27.,28.,29.])"
   ]
  },
  {
   "cell_type": "markdown",
   "id": "00807d75",
   "metadata": {},
   "source": [
    "Es ist zwar möglich eine simple Regressionsgerade zu berechnen, diese passt aber auf Grund der binären $y$ Variable nicht sehr gut zu den Daten. Ein Lösung ist die logistische Regression. Hier wird \"nach\" der lineare Regression eine Sigmoid Funktion benutz um die vorhergesagten Werte zu transformieren. \n",
    "\n",
    "<table><tr>\n",
    "<td> <img src='Img/intro_stats/log1.png' alt=\"Drawing\" style=\"width: 250px;\"/> </td>\n",
    "<td> <img src='Img/intro_stats/log2.png' alt=\"Drawing\" style=\"width: 250px;\"/> </td>\n",
    "<td> <img src='Img/intro_stats/log3.png' alt=\"Drawing\" style=\"width: 250px;\"/> </td>\n",
    "</tr></table>\n",
    "\n",
    "<center>\n",
    "<h2>Sigmoid Funktion</h2>\n",
    "</center>\n",
    "\n",
    "Die Sigmoid Funktion ist eine nicht lineare Funktion. Mathamtische wird die Sigmoid Funktion so geschrieben:\n",
    "$$sigmoid(z)= \\frac{1}{1+e^{-z}}$$\n",
    "\n",
    "\n",
    "Um zu verstehen was sie genau macht kann man sich das Beispiel anschauen.\n",
    "\n",
    "<td> <img src='Img/intro_stats/sigmoid.png' alt=\"Drawing\" style=\"width: 250px;\"/> \n",
    "    \n",
    "Auf der x-Achse sind Werte zwischen -6 und 6 **bevor** die Sigmoid Funktion auf diese Werte angewendet wird. Auf der y-Achse befinden sich die selben Werte aber diesmal nachdem die Sigmoid Funktion angewendet worden ist. \n",
    "Alle Werte befinden sich jetzt zwischen 0 und 1. Werte die voher sehr weit entfernt waren von 0 werden sehr nah zu `0` oder `1` gesetzt.\n",
    "    \n",
    "Die Form dieser Funktion passt schon viel besser zu einer binären Klassifizierung.\n",
    "\n",
    "Um eine logistische Regression durchzuführen, können wir schon auf das Gelernte von der linearen Regression bauen.\n",
    "Wir haben die slebe Situation, wir wollen mit Hilfe von unserem Input `x`, eine Vorhersage für `y` machen.     \n",
    "Dafür werden die Werte aus der linearen Regression einfach in die Sigmoid Funktion gesetzt.\n",
    "$$ z = mx+t $$\n",
    "$$\\hat{y} = sigmoid(z) = \\frac{1}{1+e^{-z}} = \\frac{1}{1+e^{-(mx+t)}} $$    \n",
    "\n",
    "Berechnet nun z in dem ihr die reg_treffer auf die Werte Distanz anwendent. Da Sie jetzt numpy benutzen können brauchen Sie keinen for-loop mehr.\n",
    "Für das Beispiel mit dem Basketballer sind folgende Parameter vorgegeben:\n",
    "- `m` = -0.8\n",
    "- `t` = 7"
   ]
  },
  {
   "cell_type": "markdown",
   "id": "6146ff70",
   "metadata": {},
   "source": [
    "<details>\n",
    "<summary><b>Lösung:</b></summary>\n",
    "    \n",
    "```python\n",
    "def reg_treffer(distanz):\n",
    "    return -0.8*distanz+7\n",
    "```\n",
    "</details>    "
   ]
  },
  {
   "cell_type": "markdown",
   "id": "42d3f00a",
   "metadata": {},
   "source": [
    "Berechnet nun `z` in dem ihr die `reg_treffer` auf die Werte Distanz anwendent.\n",
    "Da Sie jetzt `numpy` benutzen können brauchen Sie keinen for-loop mehr."
   ]
  },
  {
   "cell_type": "code",
   "execution_count": 125,
   "id": "4c98c6b6",
   "metadata": {},
   "outputs": [],
   "source": [
    "z = reg(______) "
   ]
  },
  {
   "cell_type": "markdown",
   "id": "d7222122",
   "metadata": {},
   "source": [
    "<details>\n",
    "<summary><b>Lösung:</b></summary>\n",
    "\n",
    "```python\n",
    "z = reg_treffer(distanz) \n",
    "```\n",
    "</details>    "
   ]
  },
  {
   "cell_type": "markdown",
   "id": "a50f6d2c",
   "metadata": {},
   "source": [
    "Als nächstes benötigen Sie die Sigmoid Funkion. Schreiben Sie mit Hilfe von `numpy` eine Funktion in Pythondafür. $e^(x)$ kann mit Hilfe von `numpy` als `np.exp(x)` geschrieben werden.\n"
   ]
  },
  {
   "cell_type": "code",
   "execution_count": 128,
   "id": "70736234",
   "metadata": {},
   "outputs": [],
   "source": [
    "def sigmoid(wert):\n",
    "    return 1/(___________) #Hier den Nenner der sigmoid Funktion einfügen"
   ]
  },
  {
   "cell_type": "markdown",
   "id": "9f743cae",
   "metadata": {},
   "source": [
    "<details>\n",
    "<summary><b>Lösung:</b></summary>\n",
    "    \n",
    "```python\n",
    "def sigmoid(wert):\n",
    "    return 1/(1+np.exp(-wert))\n",
    "```\n",
    "</details>    "
   ]
  },
  {
   "cell_type": "markdown",
   "id": "2c450c4e",
   "metadata": {},
   "source": [
    "Im letzten Schritt berechnen Sie `y_hat` mit Hilfe von `z` und der `sigmoid` Funktion. "
   ]
  },
  {
   "cell_type": "code",
   "execution_count": 136,
   "id": "d3ef04d7",
   "metadata": {},
   "outputs": [
    {
     "ename": "NameError",
     "evalue": "name '_____' is not defined",
     "output_type": "error",
     "traceback": [
      "\u001b[0;31m---------------------------------------------------------------------------\u001b[0m",
      "\u001b[0;31mNameError\u001b[0m                                 Traceback (most recent call last)",
      "\u001b[0;32m/tmp/ipykernel_66709/706716774.py\u001b[0m in \u001b[0;36m<module>\u001b[0;34m\u001b[0m\n\u001b[0;32m----> 1\u001b[0;31m \u001b[0my_hat\u001b[0m \u001b[0;34m=\u001b[0m \u001b[0msigmoid\u001b[0m\u001b[0;34m(\u001b[0m\u001b[0m_____\u001b[0m\u001b[0;34m)\u001b[0m\u001b[0;31m# welchen Input bracuht die Sigmoid Funktion?\u001b[0m\u001b[0;34m\u001b[0m\u001b[0;34m\u001b[0m\u001b[0m\n\u001b[0m\u001b[1;32m      2\u001b[0m \u001b[0my_hat\u001b[0m\u001b[0;34m\u001b[0m\u001b[0;34m\u001b[0m\u001b[0m\n",
      "\u001b[0;31mNameError\u001b[0m: name '_____' is not defined"
     ]
    }
   ],
   "source": [
    "y_hat = sigmoid(_____)# welchen Input bracuht die Sigmoid Funktion?\n",
    "y_hat"
   ]
  },
  {
   "cell_type": "markdown",
   "id": "54b464f8",
   "metadata": {},
   "source": [
    "<details>\n",
    "<summary><b>Lösung:</b></summary>\n",
    "    \n",
    "```python\n",
    "y_hat = sigmoid(z)\n",
    "```\n",
    "</details>    "
   ]
  },
  {
   "cell_type": "code",
   "execution_count": 173,
   "id": "79e26289",
   "metadata": {},
   "outputs": [
    {
     "data": {
      "text/plain": [
       "array([0.99908895, 0.99797468, 0.99550373, 0.9900482 , 0.97811873,\n",
       "       0.95257413, 0.90024951, 0.80218389, 0.64565631, 0.450166  ,\n",
       "       0.26894142, 0.14185106, 0.06913842, 0.03229546, 0.01477403,\n",
       "       0.00669285, 0.00301842, 0.00135852, 0.00061088, 0.00027458,\n",
       "       0.00012339, 0.00005545, 0.00002492, 0.0000112 , 0.00000503,\n",
       "       0.00000226, 0.00000102, 0.00000046, 0.00000021, 0.00000009])"
      ]
     },
     "execution_count": 173,
     "metadata": {},
     "output_type": "execute_result"
    }
   ],
   "source": [
    "y_hat"
   ]
  },
  {
   "cell_type": "markdown",
   "id": "849a99e8",
   "metadata": {},
   "source": [
    "Wir Sie sehen können befinden sich nun alle Werte zwischen `0` und `1`. Eigentlich wollten wir Werte die `0` oder `1` sind, nicht Werte dazwischen. Tatsächlich können die Werte von `y_hat` als eine Art von Wahrscheinlichkeit verstanden werden. Eine vorhergesagter Wert von `0.99908895` bedeutet, das, laut dem Model, der Basketball zu 0.99% einen Korb macht. Andersrum eine Wert von `0.00135852` zeigt an, das, laut dem Model, nur eine Wahrscheinlichkeit von 0.14% besteht, einen Korb zu werfen.\n",
    "Im folgenden Bild sind die vorhergesagten Werte zusammen mit den vorhergesagten Bildern gezeigt. \n",
    "<img src='Img/intro_stats/log4.png' alt=\"Drawing\" width= \"500px\"/> \n",
    "\n",
    "Normalerweise werden die Wahrscheinlichkeiten so interpretiert, dass ab einen Wert `>0.5` das Model eine `1` vorhersagt und darunter eine `0`.\n",
    "\n",
    "Somit können wir die Genauigkeit des Models an Hand des Prozentsatz an richtig klassifizierten Würfen beurteilen. \n",
    "zunächt runden wir `y_hat`."
   ]
  },
  {
   "cell_type": "code",
   "execution_count": 183,
   "id": "7dcd66b4",
   "metadata": {},
   "outputs": [
    {
     "data": {
      "text/plain": [
       "array([1., 1., 1., 1., 1., 1., 1., 1., 1., 0., 0., 0., 0., 0., 0., 0., 0.,\n",
       "       0., 0., 0., 0., 0., 0., 0., 0., 0., 0., 0., 0., 0.])"
      ]
     },
     "execution_count": 183,
     "metadata": {},
     "output_type": "execute_result"
    }
   ],
   "source": [
    "pred = np.round(y_hat)\n",
    "pred"
   ]
  },
  {
   "cell_type": "markdown",
   "id": "e71b1428",
   "metadata": {},
   "source": [
    "Sie können auch vergleichen ob `pred` mit der ursprünglichen `y` Variable `körbe` übereinstimmt. "
   ]
  },
  {
   "cell_type": "code",
   "execution_count": 185,
   "id": "ff63e2f0",
   "metadata": {},
   "outputs": [
    {
     "data": {
      "text/plain": [
       "array([ True,  True,  True,  True,  True,  True, False,  True, False,\n",
       "       False, False,  True,  True, False, False,  True,  True,  True,\n",
       "       False,  True,  True,  True,  True,  True, False,  True,  True,\n",
       "        True,  True,  True])"
      ]
     },
     "execution_count": 185,
     "metadata": {},
     "output_type": "execute_result"
    }
   ],
   "source": [
    "pred==körbe"
   ]
  },
  {
   "cell_type": "markdown",
   "id": "89568776",
   "metadata": {},
   "source": [
    "Schreiben Sie eine Funktion, die die Accuracy berechnet (prozentualen Anteil von korrekt klassfizierten Würfen). Denken Sie daran, dass `booleans`, also `True` und `False`, auch als `1` und `0` in Python gelten."
   ]
  },
  {
   "cell_type": "code",
   "execution_count": 195,
   "id": "8a1fc921",
   "metadata": {},
   "outputs": [
    {
     "ename": "SyntaxError",
     "evalue": "invalid syntax (428290641.py, line 2)",
     "output_type": "error",
     "traceback": [
      "\u001b[0;36m  File \u001b[0;32m\"/tmp/ipykernel_66709/428290641.py\"\u001b[0;36m, line \u001b[0;32m2\u001b[0m\n\u001b[0;31m    return _____ y_true==y_pred __ / ________\u001b[0m\n\u001b[0m                      ^\u001b[0m\n\u001b[0;31mSyntaxError\u001b[0m\u001b[0;31m:\u001b[0m invalid syntax\n"
     ]
    }
   ],
   "source": [
    "def accuracy(y_true, y_pred):\n",
    "    return _____ y_true==y_pred __ / ________ "
   ]
  },
  {
   "cell_type": "markdown",
   "id": "72eda8af",
   "metadata": {},
   "source": [
    "<details>\n",
    "<summary><b>Lösung:</b></summary>\n",
    "    \n",
    "```python\n",
    "def accuracy(y_true, y_pred):\n",
    "    return np.sum(y_true==y_pred)/len(y_true)\n",
    "```\n",
    "</details> "
   ]
  },
  {
   "cell_type": "code",
   "execution_count": 187,
   "id": "c9e3bce1",
   "metadata": {},
   "outputs": [
    {
     "data": {
      "text/plain": [
       "0.7333333333333333"
      ]
     },
     "execution_count": 187,
     "metadata": {},
     "output_type": "execute_result"
    }
   ],
   "source": [
    "accuracy(körbe, pred)"
   ]
  },
  {
   "cell_type": "markdown",
   "id": "ae337378",
   "metadata": {},
   "source": [
    "## Cross Entropy Loss\n",
    "\n",
    "Eine Accuarcy von 0.73 bedeutet, dass das Model in 73% der Fälle das richtige Ergebnis vorhergesagt hat. Ähnlich wie der RMSE ist eine Metrik um ein zuschätzen wie gut unsere Model ist.\n",
    "\n",
    "Oft wird aber nicht nur eine Metrik benutzt. Der Vorteil der Accuarcy ist, das sie sehr leicht zu interpretieren ist. Aber manche mathematischen Eigenschaften der Accuarcy machen sie ungeignet für bestimmte Prozesse bei machinellen Lernen. Deswegen werden meistens mindesten zwei verschiedenen Metriken angeschaut. \n",
    "\n",
    "Die Metrik die bei Klassifizierung benutzt wird ist der **Cross Entropy** Loss. Im Falle eines binären Klassifizierungsproblem reden wir dann meistens vom  **Binary Cross Entropy** Loss. \n",
    "\n",
    "$$Loss =-\\frac{1}{n}\\sum_{i=0}^n[y_i\\cdot log\\hat{y}_i + (1-y_i)\\cdot log(1-\\hat{y}_i)]$$\n",
    "\n",
    "Die Formel sieht zunächst sehr kompliziert aus, ist aber relativ einfach an Hand von Beispielen zu verstehn.\n",
    "Angenommen wir wollen den Loss nur für einen einzigen Datenpunkt berechnen zum Beispiel einen einzigen Wurf des Basketballers. Dann bbrauchen wir zunächst nur diese Formel:\n",
    "\n",
    "$$Loss =-[y_i\\cdot log(\\hat{y}_i) + (1-y_i)\\cdot log(1-\\hat{y}_i)]$$\n",
    "\n",
    "Angenommen der Basketballer der Basketballer hat den Wurf nicht getroffen, dann ist $y_i=0$.\n",
    "\n",
    "Daraus resultiert:\n",
    "$$Loss =-0\\cdot log(\\hat{y}_i) + (1-0)\\cdot log(1-\\hat{y}_i)$$\n",
    "$$Loss =-log(1-\\hat{y}_i)$$\n",
    "\n",
    "Das heißt der Loss für diesen Wurf ergibt sich aus dem $log$ der Differenz von 1 und $\\hat{y}$ (der vorhergesagten Wahrscheinlichkeit) \n",
    "\n",
    "Sie können ausprobieren was mit dem Loss passiert für unterschiedliche Wahrscheinlichkeiten. Denken Sie daran, dass der wahre Wert $y_i=0$ ist. Also ein gute Model würde ein geringe Wahrscheinlichkeit vorhersagen, also ist ein geringer Los zu erwarten."
   ]
  },
  {
   "cell_type": "code",
   "execution_count": 199,
   "id": "b4219256",
   "metadata": {},
   "outputs": [
    {
     "data": {
      "text/plain": [
       "-0.0010005003335835344"
      ]
     },
     "execution_count": 199,
     "metadata": {},
     "output_type": "execute_result"
    }
   ],
   "source": [
    "# setzen Sie verschieden Wahrscheinlichkeiten in die Formel unten ein und schauen Sie was mit dem Loss passiert.\n",
    "\n",
    "np.log(1 - 0.___ ) \n"
   ]
  },
  {
   "cell_type": "markdown",
   "id": "02dff21f",
   "metadata": {},
   "source": [
    "Zunächst fäll auf das der Loss immer negativ ist, deswegen ist in der eigentlichen Formlen von oben noch ein minus um den Loss wieder postiv zu machen. \n",
    "\n",
    "Sie können erkennen, dass wenn besonders hohe Wahrscheinlichkeiten vorhergesagten werden  entfernt sich der Loss von Null. Wenn besonders kleine Wahrscheinlichkeiten eingesetzt werden, nähert sich der Loss Null. Das heißt also je \"falscher\" unsere Model ist desto größer wird der Loss, also genau das was wir wollen.\n",
    "\n",
    "Angenommen unser Baskebtaller hat den Wurf getroffen, dann ist $y_i=1$\n",
    "\n",
    "$$Loss =-1\\cdot log(\\hat{y}_i) + (1-1)\\cdot log(1-\\hat{y}_i)$$\n",
    "$$Loss =-log(\\hat{y}_i)$$\n",
    "\n",
    "Diesmal bleibt ein andere aber immer noch simpler Teil der Formel übrig.\n",
    "Probieren Sie auch diesem Term mit verschiedene Wahrscheinlichkeiten aus. \n",
    "Diesmal wäre eine Wahrscheinlichkeit nahe 1 richtig, sollte also zu einem geringem Loss führen.\n",
    "\n"
   ]
  },
  {
   "cell_type": "code",
   "execution_count": 203,
   "id": "b1cdc717",
   "metadata": {},
   "outputs": [
    {
     "data": {
      "text/plain": [
       "0.0010005003335835344"
      ]
     },
     "execution_count": 203,
     "metadata": {},
     "output_type": "execute_result"
    }
   ],
   "source": [
    "-np.log(0.___)# setzen Sie hier verschiedene Wahrscheinlichkeiten ein"
   ]
  },
  {
   "cell_type": "markdown",
   "id": "809bc7a2",
   "metadata": {},
   "source": [
    "Auch hier wird der Loss größer, wenn die Wahrscheinlcihkeit sich vom wahren Wert entfernt. \n",
    "\n",
    "Der Loss ist also nur so komplex um sowohl einen wahren Wert von `1` also auch von `0` abzudecken. Der `log` wird benutzt damit Werte die weiter entfernt vom wahren Wert sind, einen überproportionalen Einfluss auf den Loss haben. Der ursprüngliche Teil $\\frac{1}{n}\\sum_{i=1}^n$ berechnet nur ne Durchschnitt über alle Datenpunkt im Datensatz. \n",
    "Unten wird die Formel für den BCE mit `numpy` definiert."
   ]
  },
  {
   "cell_type": "code",
   "execution_count": 211,
   "id": "5f4e4fa3",
   "metadata": {},
   "outputs": [],
   "source": [
    "def BCE(y_true, y_hat):\n",
    "    return -np.mean(y_true*np.log(y_hat) +(1-y_true)* np.log(1-y_hat))"
   ]
  },
  {
   "cell_type": "code",
   "execution_count": 212,
   "id": "47774f2a",
   "metadata": {},
   "outputs": [
    {
     "data": {
      "text/plain": [
       "1.1082363405105524"
      ]
     },
     "execution_count": 212,
     "metadata": {},
     "output_type": "execute_result"
    }
   ],
   "source": [
    "BCE(körbe, y_hat)"
   ]
  },
  {
   "cell_type": "code",
   "execution_count": 208,
   "id": "05bfd6f2",
   "metadata": {},
   "outputs": [
    {
     "data": {
      "text/plain": [
       "0.5"
      ]
     },
     "execution_count": 208,
     "metadata": {},
     "output_type": "execute_result"
    }
   ],
   "source": []
  },
  {
   "cell_type": "code",
   "execution_count": 209,
   "id": "9fad5c87",
   "metadata": {},
   "outputs": [
    {
     "data": {
      "text/plain": [
       "2.0"
      ]
     },
     "execution_count": 209,
     "metadata": {},
     "output_type": "execute_result"
    }
   ],
   "source": []
  },
  {
   "cell_type": "code",
   "execution_count": 210,
   "id": "5c47acd8",
   "metadata": {},
   "outputs": [
    {
     "data": {
      "text/plain": [
       "2.409420839653209"
      ]
     },
     "execution_count": 210,
     "metadata": {},
     "output_type": "execute_result"
    }
   ],
   "source": []
  },
  {
   "cell_type": "code",
   "execution_count": null,
   "id": "d7e7e355",
   "metadata": {},
   "outputs": [],
   "source": []
  }
 ],
 "metadata": {
  "kernelspec": {
   "display_name": "Python 3 (ipykernel)",
   "language": "python",
   "name": "python3"
  },
  "language_info": {
   "codemirror_mode": {
    "name": "ipython",
    "version": 3
   },
   "file_extension": ".py",
   "mimetype": "text/x-python",
   "name": "python",
   "nbconvert_exporter": "python",
   "pygments_lexer": "ipython3",
   "version": "3.7.11"
  }
 },
 "nbformat": 4,
 "nbformat_minor": 5
}
