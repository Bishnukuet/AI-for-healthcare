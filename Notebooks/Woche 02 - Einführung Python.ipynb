{
 "cells": [
  {
   "cell_type": "markdown",
   "metadata": {},
   "source": [
    "<center><img src=\"https://i0.wp.com/lightroastcomics.com/wp-content/uploads/2018/04/parselfingers.png?resize=600%2C612\" style=\"width: 400px;\"></center>\n",
    "<h8><center>Source: Light Roast Comics, http://lightroastcomics.com</center></h8>"
   ]
  },
  {
   "cell_type": "markdown",
   "metadata": {},
   "source": [
    "# Kurze Einführung in Python\n",
    "Bevor wir mit Python anfangen, erklären wir kurz, wie dieses Notebook funktioniert. Python ist eine relativ anfängerfreundliche Programmiersprache. Um den Einstieg noch leichter zu machen, benutzen wir ein sogenanntes *Notebook*. Ein Notebook erlaubt es uns Code einfacher zu strukturieren und leichter mit ihm zu interagieren. Ein wenig wie Microsoft Word uns hilft  Texte zu schreiben, hilft uns Jupyter Notebook Python Code zu schreiben.\n",
    "\n",
    "In einem Python Notebook gibt es zwei Arten von Zellen. Die einen enthalten *normalen* Text, so wie in dieser. In den anderen Zellen wird der tatsächliche Code geschrieben. Ihr könnt eine Code-Zelle mit Shift + Enter ausführen (wenn Ihr vorher in diese geklickt habt). Ausführen bedeutet, dass der Code der in dieser Zelle steht als Befehl zu Python gegeben wird. Ihr könnt auch mithilfe der Pfeiltasten durch das Notebook navigieren.\n",
    "\n",
    "**Wichtig:**\n",
    "Informationen, die in einer Zelle gespeichert oder erstellt werden, sind auch für die nächsten Zellen verfügbar, die ihr ausführt."
   ]
  },
  {
   "cell_type": "markdown",
   "metadata": {},
   "source": [
    "## 1. Print()\n",
    "\n",
    "Eine der wichtigsten Funktionen von Python ist die <code>print()</code>-Funktion. Mit ihr kann man Dinge in die Konsole \"drucken\", und somit sichtbar machen. Es wird immer das gedruckt, was innerhalb der <code>()</code> steht."
   ]
  },
  {
   "cell_type": "code",
   "execution_count": null,
   "metadata": {},
   "outputs": [],
   "source": [
    "print(\"Hello World\")"
   ]
  },
  {
   "cell_type": "markdown",
   "metadata": {},
   "source": [
    "Einfachheitshalber druckt das Python-Notebook die letzte Zeile einer Zelle automatisch. Auch ohne die <code>print()</code>-Funktion.\n",
    "\n",
    "`#` die Raute (oder auch Hashtag) erlaubt es uns Kommentare in den Code zu schreiben. Diese werden von Python ignoriert."
   ]
  },
  {
   "cell_type": "code",
   "execution_count": null,
   "metadata": {},
   "outputs": [],
   "source": [
    "\"Hallo\"  # die erste Zeile wird nicht mit gedruckt es sei denn man benutzt ein print statement\n",
    "\"Welt\""
   ]
  },
  {
   "cell_type": "markdown",
   "metadata": {},
   "source": [
    "Wenn man Text \"printen\" will ist es wichtig, dass dieser in <code>\" \"</code> steht. <code>\" \"</code> lässt Python wissen, dass es sich hierbei um einfachen Text handelt. Ein Wort, das in <code>\" \"</code> steht, wird als <code>string</code> bezeichnet\n",
    "\n",
    "Ohne die <code>\" \"</code> passiert Folgendes:"
   ]
  },
  {
   "cell_type": "code",
   "execution_count": null,
   "metadata": {},
   "outputs": [],
   "source": [
    "Hallo"
   ]
  },
  {
   "cell_type": "markdown",
   "metadata": {},
   "source": [
    "<center><img src=\"https://tenor.com/view/monkey-pissed-mad-angry-furious-gif-4720563.gif\"></center>"
   ]
  },
  {
   "cell_type": "markdown",
   "metadata": {},
   "source": [
    "# 2. Variablen\n",
    "\n",
    "Ihre erste Fehlermeldung :) Wir können diese aber schnell beheben. <br>\n",
    "<code>Hallo</code> ist nicht definiert. Dieser Fehler erscheint, da jetzt der <code>string</code> nicht mehr von Python als `string` erkannt wird. <br> Wörter oder auch Buchstaben, die nicht in <code>\" \"</code> stehen, sind **Variablen**. Diese müssen vorher definiert werden. Variablen können Zahlen, <code>strings</code> oder auch Listen enthalten. Wir definieren eine Variable durch <code>=</code>.\n",
    "\n",
    "Zum Beispiel:"
   ]
  },
  {
   "cell_type": "code",
   "execution_count": null,
   "metadata": {},
   "outputs": [],
   "source": [
    "x = \"Hallo\"\n",
    "print(x)"
   ]
  },
  {
   "cell_type": "markdown",
   "metadata": {},
   "source": [
    "<code>x</code> enthält nun den <code>string</code> <code>\"Hallo\"</code>.   \n",
    "Der Inhalt von <code>x</code> wird auch noch für die nächsten Zellen gespeichert. \n",
    "Wenn Sie `x` neu definieren, also einen neuen Wert geben, dann wird der alte Wert überschrieben."
   ]
  },
  {
   "cell_type": "code",
   "execution_count": null,
   "metadata": {},
   "outputs": [],
   "source": [
    "print(\"Das ist der alte Inhalt von x:\")\n",
    "print(x)\n",
    "\n",
    "\n",
    "x = 1\n",
    "print()\n",
    "print(\"Das ist der neue Wert von x: \")\n",
    "print(x)"
   ]
  },
  {
   "cell_type": "markdown",
   "metadata": {},
   "source": [
    "###  2.1 Zahlen\n",
    "Wie Sie sehen, können Variablen auch Zahlen enthalten. Ganze Zahlen (ohne Dezimalzeichen) können als `integer` gespeichert werden. Zahlen mit Dezimalzeichen werden als `float` gespeichert. Die mathematischen Opertationen Addition, Subtraktion, Multiplikation und Division (`+`, `-`, `*`,`/`) können ebenfalls genutzt werden und verhalten sich genau wie bei einem Taschenrechner."
   ]
  },
  {
   "cell_type": "code",
   "execution_count": null,
   "metadata": {
    "scrolled": true
   },
   "outputs": [],
   "source": [
    "2+(5*3)/1.2"
   ]
  },
  {
   "cell_type": "code",
   "execution_count": null,
   "metadata": {},
   "outputs": [],
   "source": [
    "print(\"5 + 2 ist gleich\")\n",
    "print(5 + 2)\n",
    "\n",
    "\n",
    "print(\"5 - 2 ist gleich\")\n",
    "print(5 - 2)\n",
    "\n",
    "\n",
    "print(\"5 * 2 ist gleich\")\n",
    "print(5 * 2)\n",
    "\n",
    "\n",
    "print(\"1 / 2 ist gleich\")\n",
    "print(1 / 2)\n"
   ]
  },
  {
   "cell_type": "markdown",
   "metadata": {},
   "source": [
    "Die gleichen Operationen funktionieren auch mit Variablen, solange diese <code>floats</code> oder <code>integers</code> beinhalten"
   ]
  },
  {
   "cell_type": "code",
   "execution_count": null,
   "metadata": {},
   "outputs": [],
   "source": [
    "x = 5\n",
    "y = 2\n",
    "\n",
    "print(x + y)\n",
    "print(x - y)\n",
    "print(x * y)\n",
    "print(x / y)"
   ]
  },
  {
   "cell_type": "markdown",
   "metadata": {},
   "source": [
    "### 2.2 Booleans\n",
    "\n",
    "Booleans ist eine weitere Art von Variable. Booleans sind entweder `True`  oder `False`. Wir können Booleans benutzen, um Werte zu vergleichen:"
   ]
  },
  {
   "cell_type": "code",
   "execution_count": null,
   "metadata": {},
   "outputs": [],
   "source": [
    "5==5"
   ]
  },
  {
   "cell_type": "markdown",
   "metadata": {},
   "source": [
    "Wie Sie sehen können, wird `==` benutzt, um Werte zu vergleichen. Das einfache `=` ist ja schon vergeben, um Variablen Werte zuzuordnen.\n",
    "`==` schaut, ob zwei Werte identisch sind.<br> `!=` prüft, ob zwei Werte ungleich sind. `>` und `<` funktionieren so wie in der Mathematik.\n",
    "\n",
    "Man kann auch mit Booleans rechnen:"
   ]
  },
  {
   "cell_type": "code",
   "execution_count": null,
   "metadata": {},
   "outputs": [],
   "source": [
    "True + True"
   ]
  },
  {
   "cell_type": "markdown",
   "metadata": {},
   "source": [
    "Das ist nicht besonders, soll aber zeigen, dass dem Boolean `True` der Wert `1` zugeordnet ist und `False` der Wert `0`. Wir können das auch überprüfen:"
   ]
  },
  {
   "cell_type": "code",
   "execution_count": null,
   "metadata": {},
   "outputs": [],
   "source": [
    "1==True "
   ]
  },
  {
   "cell_type": "markdown",
   "metadata": {},
   "source": [
    "Wir können `strings` und auch Variablen vergleichen:"
   ]
  },
  {
   "cell_type": "code",
   "execution_count": null,
   "metadata": {},
   "outputs": [],
   "source": [
    "\"Hallo\" == \"Hallo\""
   ]
  },
  {
   "cell_type": "code",
   "execution_count": null,
   "metadata": {},
   "outputs": [],
   "source": [
    "x= 5\n",
    "y= 8\n",
    "x==y"
   ]
  },
  {
   "cell_type": "markdown",
   "metadata": {},
   "source": [
    "### 2.3 Listen\n",
    "\n",
    "Neben <code>strings</code>,<code>integers</code> und <code>floats</code> gibt es auch Listen. Listen können mehrere Werte beinhalten und werden mit <code>[]</code> erstellt:\n",
    "\n",
    "<code>x = [2,4,6,8]</code>\n",
    "\n",
    "<code>x</code> würde jetzt eine Liste mit den Werten 2,4,6,8 sein. Listen können eine Kombination aus <code>strings</code>,<code>integers</code> und <code>floats </code> beinhalten. Sogar Listen können in Listen gespeichert werden."
   ]
  },
  {
   "cell_type": "code",
   "execution_count": null,
   "metadata": {},
   "outputs": [],
   "source": [
    "liste1 = [2, 4, 6, 8]\n",
    "liste1"
   ]
  },
  {
   "cell_type": "code",
   "execution_count": null,
   "metadata": {},
   "outputs": [],
   "source": [
    "liste2 = [\"Hallo\", 2, 0.6]\n",
    "liste2"
   ]
  },
  {
   "cell_type": "code",
   "execution_count": null,
   "metadata": {},
   "outputs": [],
   "source": [
    "liste3 = [5, \"Welt\", liste2]\n",
    "liste3"
   ]
  },
  {
   "cell_type": "markdown",
   "metadata": {},
   "source": [
    "Wenn Sie wissen wollen, wie viele Elemente in einer List sind, können Sie die <code>len()</code> Funktion benutzen:"
   ]
  },
  {
   "cell_type": "code",
   "execution_count": null,
   "metadata": {},
   "outputs": [],
   "source": [
    "len(liste3)"
   ]
  },
  {
   "cell_type": "markdown",
   "metadata": {},
   "source": [
    "Sie sehen die Länge der `liste3` ist 3. \n",
    "Hierbei werden die Elemente nicht mitgezählt, die in sich in `liste2` befinden. Die Liste gilt somit als ein einzelnes Element.  "
   ]
  },
  {
   "cell_type": "markdown",
   "metadata": {},
   "source": [
    "## 3. Indizierung\n",
    "\n",
    "Nicht nur bei Rappern muss die Indizierung stimmen.<br>\n",
    "In Python beschreibt ein Index die Position eines Wertes innerhalb einer Variable, z.B. einer Liste.\n",
    "\n",
    "Wenn Sie wissen wollen, welcher Wert an zweiter Position in einer Liste ist, können Sie den Index benutzen, um genau diesen Wert zu erhalten.\n",
    "Um einen Index zu verwenden, brauchen Sie wieder die `[]`. Diesmal aber nicht beim Definieren einer Variable, sondern in Kombination mit der Variable.\n",
    "So würde Ihnen `x[0]` das erste Element der Variable `x` geben.\n",
    "\n",
    "**Wichtig:**\n",
    "\n",
    "Python benutzt `0-based` Indizierung, das heißt die Indizierung fängt in Python bei <code>0</code> an. Der erste Wert in der List hat den Index <code>0</code>. \n",
    "\n",
    "---\n",
    "\n",
    "Fast alle Programmiersprachen sind `0-based`. Es hat sich als Konvention durchgesetzt und liegt daran wie `arrays` im Speicher hinterlegt sind.  \n",
    "\n",
    "---"
   ]
  },
  {
   "cell_type": "code",
   "execution_count": null,
   "metadata": {},
   "outputs": [],
   "source": [
    "Tiere = [\"Löwe\", \"Elephant\", \"Fuchs\", \"Wal\", \"Pferd\",\"Steinbock\", \"Ameise\"]\n",
    "Tiere[3]"
   ]
  },
  {
   "cell_type": "markdown",
   "metadata": {},
   "source": [
    "Sie können auch mehrere Werte aus einer Liste beziehen, was dann als `slicing` bezeichnet wird. Dafür brauchen Sie den Doppelpunkt `:`.\n",
    "\n",
    "* `x[:5]` Die ersten fünf Werte der Liste `x` werden ausgewählt. Behalten Sie im Kopf, dass der Index `5` dem sechsten Element in der Liste zugeordnet ist. Das sechste Element wird nicht mehr ausgegeben. In Python wird der Index, der das obere Limit festlegt, selber nicht mehr mit eingeschlossen.\n",
    "\n",
    "* `x[2:5]` Hier werden die Elemente an dritter, vierter und fünfter Position ausgewählt\n",
    "\n",
    "* `x[5:]`  So werden alle Elemente ab dem sechsten bis zum Ende der Liste ausgewählt \n",
    "\n",
    "* `x[-1]`  wählt das letzte Element in der Liste aus\n",
    "\n",
    "* `x[-2]`  das vorletzte  \n"
   ]
  },
  {
   "cell_type": "code",
   "execution_count": null,
   "metadata": {},
   "outputs": [],
   "source": [
    "x = [1, 2, 3, 4, 5, 6, 7, 8, 9]"
   ]
  },
  {
   "cell_type": "code",
   "execution_count": null,
   "metadata": {},
   "outputs": [],
   "source": [
    "x[0:5]  # wie Sie nochmals sehen können: der Index 5 referenziert den sechsten Wert, wird aber nicht mit ausgegeben"
   ]
  },
  {
   "cell_type": "code",
   "execution_count": null,
   "metadata": {},
   "outputs": [],
   "source": [
    "x[2:5]"
   ]
  },
  {
   "cell_type": "code",
   "execution_count": null,
   "metadata": {},
   "outputs": [],
   "source": [
    "x[5:]"
   ]
  },
  {
   "cell_type": "code",
   "execution_count": null,
   "metadata": {},
   "outputs": [],
   "source": [
    "x[-1]"
   ]
  },
  {
   "cell_type": "markdown",
   "metadata": {},
   "source": [
    "Sie können auch Werte zu einer bestehenden Liste hinzufügen: `x.append(10)` so wird die Zahl `10` an das Ende der Liste angefügt."
   ]
  },
  {
   "cell_type": "code",
   "execution_count": null,
   "metadata": {},
   "outputs": [],
   "source": [
    "x.append(10)\n",
    "x"
   ]
  },
  {
   "cell_type": "markdown",
   "metadata": {},
   "source": [
    "## 4. For-Loop\n",
    "\n",
    "Die meisten Dinge, die Sie bis jetzt gemacht haben, können Sie auch selber in einem Taschenrechner machen. Der **for-loop**, ist das erste was uns neue und effiziente Möglichkeiten gibt.\n",
    "\n",
    "Ein for-loop wird benutzt, um einen Befehl wiederholt auszuführen. Dadurch müssen Sie denselben Befehl nicht ständig selber schreiben."
   ]
  },
  {
   "cell_type": "code",
   "execution_count": null,
   "metadata": {},
   "outputs": [],
   "source": [
    "for i in range(5):\n",
    "    print(\"Hallo Welt\")"
   ]
  },
  {
   "cell_type": "markdown",
   "metadata": {},
   "source": [
    "Anstatt selber fünfmal den `print` Befehl zu schreiben, macht der for-loop das für Sie.<br>\n",
    "Wirklich nützlich wird es erst, wenn Sie ein und denselben Befehl für die Elemente in einer Liste ausführen wollen.\n",
    "`in range(5)` schreibt dem Loop vor, dass die Variable `i` alle Werte von 0 bis 5 (5 aber ausgeschlossen) annehmen soll."
   ]
  },
  {
   "cell_type": "code",
   "execution_count": null,
   "metadata": {},
   "outputs": [],
   "source": [
    "for i in range(5):\n",
    "    print(i)"
   ]
  },
  {
   "cell_type": "markdown",
   "metadata": {},
   "source": [
    "Angenommen, ihr habt die Werte `x=[1,2,3,4,5,6,7,8,9]` und wollt das Quadrat (in Python `**`) für jeden der Werte errechnen. Dann könnt ihr den for-loop benutzen um über die Liste `x` zu *loopen*. Es gibt verschiedene Methoden einen for-loop zu schreiben, am Ende machen sie aber das Gleiche."
   ]
  },
  {
   "cell_type": "code",
   "execution_count": null,
   "metadata": {},
   "outputs": [],
   "source": [
    "x = [1, 2, 3, 4, 5, 6, 7, 8, 9]\n",
    "\n",
    "for element in x:\n",
    "    print(element ** 2)\n",
    "    \n",
    "print(\"\\n Alternativ: \\n\")\n",
    "\n",
    "#Oder alternativ können wir  Werte von 0 bis 8 annehmen lassen und anhand des Index die Elemente in x auswählen.\n",
    "\n",
    "for i in range(len(x)):\n",
    "    print(x[i]**2)"
   ]
  },
  {
   "cell_type": "markdown",
   "metadata": {},
   "source": [
    "Das `for` leitet den loop ein. Das `element` ist der Name für eine neue Variable, die nur in diesem for-loop existiert (Sie können ihr auch irgendeinen anderen Namen geben). `in` \"sagt\" Python, dass die darauf folgende Variable die Variable ist, über die es zu Loopen hat: in diesem Fall `x`. Python erkennt, dass es den Befehl innerhalb des for-loops für jedes Element in `x` auszuführen hat. Am Ende der ersten Zeile vom for-loop muss immer ein `:` stehen.\n",
    "\n",
    "Auch ist zu beachten, dass der Befehl innerhalb des for-loops eingerückt ist. Das ist wichtig um Python zu zeigen, was innerhalb des for-loops passieren soll. Etwas, das nach dem for-loop aber nicht innerhalb des for-loop stattfinden soll, wird dann wieder ohne Einrückung (*Indent* genannt) geschrieben. Ein Indent sind vier Leerzeichen, oder einmal auf die 'Tab' Taste drücken. \n",
    "\n",
    "Häufig werden einfache `for-loops` in einer Zeile mithilfe der sogenannten *list comprehension* geschrieben."
   ]
  },
  {
   "cell_type": "code",
   "execution_count": null,
   "metadata": {},
   "outputs": [],
   "source": [
    "[element**2 for element in x]"
   ]
  },
  {
   "cell_type": "markdown",
   "metadata": {},
   "source": [
    "Sie sehen, dass wir weniger Zeile brauchen. Außerdem ist der Output eine Liste anstatt wie oben die einzelnen Elemente."
   ]
  },
  {
   "cell_type": "markdown",
   "metadata": {},
   "source": [
    "## 5. Numpy\n",
    "\n",
    "Python, an sich, hat nur eine limitierte Anzahl an Funktionen, die Sie benutzen können. Viele nützliche Funktionen müssen erst extra geladen werden. Dies wird durch das Importieren von Bibliotheken (\"Libraries\") gemacht.\n",
    "Eine der wichtigsten und meist genutzten Libraries ist `numpy`. Wie der Name vermuten lässt, fokussiert sich `numpy` auf numerische Rechnungen. Vor allem Funktionen, die für lineare Algebra und Statistik wichtig sind, sind hier zu finden.\n",
    "Wichtig für Sie ist vor allem die Klasse der `arrays`, die durch `numpy` hinzugefügt werden. \n",
    "\n",
    "Ein `array` erlaubt Ihnen auch mehrere Werte in einer Variablen zu speichern. Anders als in einer Liste, können hier die Werte auf zwei Dimensionen angeordnet werden, wie in einer Tabelle oder einer Matrix:\n",
    "\n",
    "<center><img src=\"https://upload.wikimedia.org/wikipedia/commons/b/bf/Matris.png\" style=\"width: 400px;\"></center>\n",
    "<h8><center>Fig. 4: Svjo, Wikimedia</center></h8>\n",
    "\n",
    "\n",
    "\n",
    "Tatsächlich kann man auch 3D und 4D `arrays `mit `numpy` benutzen, für Ihre Zwecke reichen aber 2 Dimensionen. <br>\n",
    "**Wichtig:** Arrays, anders als Listen, können nur Zahlen oder nur `strings` enthalten aber nicht beides.\n",
    "\n",
    "\n",
    " So lädt man `numpy` mit `import numpy`. Der Zusatz `as np` erlaubt es Ihnen später im Code `np` anstatt `numpy` zu schreiben:"
   ]
  },
  {
   "cell_type": "code",
   "execution_count": null,
   "metadata": {},
   "outputs": [],
   "source": [
    "import numpy as np"
   ]
  },
  {
   "cell_type": "code",
   "execution_count": null,
   "metadata": {},
   "outputs": [],
   "source": [
    "mein_erstes_array = np.array([[1, 2, 3],\n",
    "                              [4, 5, 6],\n",
    "                              [7, 8, 9]])  # jetzt schreiben wir np, damit klar ist, dass wir eine Funktion von Numpy meinen\n",
    "print(mein_erstes_array)"
   ]
  },
  {
   "cell_type": "markdown",
   "metadata": {},
   "source": [
    "Wenn Sie genau hinschauen, sehen Sie, dass  `np.array([[1,2,3],[4,5,6],[7,8,9]])` eine Liste ist, die drei Listen enthält `[[1,2,3],[4,5,6],[7,8,9]]`. Numpy \"klebt\" quasi die zweite Liste unter die erste (usw.). So entsteht eine Matrix oder auch `array` genannt.\n",
    "\n",
    "Wenn Sie wissen wollen, wie groß ein `array` ist, können Sie `x.shape` benutzen."
   ]
  },
  {
   "cell_type": "code",
   "execution_count": null,
   "metadata": {},
   "outputs": [],
   "source": [
    "mein_erstes_array.shape"
   ]
  },
  {
   "cell_type": "markdown",
   "metadata": {},
   "source": [
    "Sie können auch Arrays indizieren bzw. slicen: `array[Reihe, Spalte]`. In einem Array können die Reihen und Spalten ausgewählt werden:\n",
    "- `array[1,3]` gibt uns das Element, das sich in der vierten Spalte und zweiten Reihe befindet\n",
    "- `array[:,0]` gibt uns die komplette erste Spalte\n",
    "- `array[5,:]` gibt uns die 6 Reihe \n",
    "- `array[2:5,0:3]`wählt alle Elemente aus, die in der dritten und fünften Reihe und auch in der ersten bis dritten Spalte sind"
   ]
  },
  {
   "cell_type": "code",
   "execution_count": null,
   "metadata": {},
   "outputs": [],
   "source": [
    "mein_erstes_array[0:2,0:2]"
   ]
  },
  {
   "cell_type": "markdown",
   "metadata": {},
   "source": [
    "Numpy können Sie auch benutzen, um Datensätze einzulesen."
   ]
  },
  {
   "cell_type": "code",
   "execution_count": null,
   "metadata": {},
   "outputs": [],
   "source": [
    "datensatz = np.genfromtxt('../data/testdata.csv', delimiter=',')\n",
    "datensatz"
   ]
  },
  {
   "cell_type": "markdown",
   "metadata": {},
   "source": [
    "## 6. Funktionen\n",
    "\n",
    "Funktionen sind das A und O im Programmieren. Ähnlich wie in der Mathematik haben Funktionen einen Input und geben einen neuen transformierten Wert, den Output, aus: $f(x)= x^2$ $\\to$ $f(3) =9$.\n",
    "\n",
    "Sie haben mit NumPy schon ein paar Funktionen benutzt: So nimmt zum Beispiel `np.array()` als Input eine Liste und als Output einen Array.<br>\n",
    "`np.genfromtxt()` hat als Input eine Datei.\n",
    "Als Output wird ein Array ausgegeben.\n",
    "\n",
    "Sie können auch unsere eigenen Funktionen schreiben. Dazu müssen Sie in Python erst deklarieren, dass Sie eine Funktion erstellen wollen. Dafür gebrauchen Sie das Wort `def`, um eine Funktion zu definieren."
   ]
  },
  {
   "cell_type": "code",
   "execution_count": null,
   "metadata": {},
   "outputs": [],
   "source": [
    "def quadrat(x):\n",
    "    return x**2\n",
    "\n",
    "quadrat(4)"
   ]
  },
  {
   "cell_type": "markdown",
   "metadata": {},
   "source": [
    "Nach dem `def` können Sie der Funktion einen Namen geben, danach folgen `()` und innerhalb dieser können Sie dann die Platzhaltervariablen definieren. Als Letztes folgt der Doppelpunkt. Nach dem Doppelpunkt wird die eigentlich Funktion geschrieben (das, was die Funktion machen soll). Wichtig ist hierbei, dass alles was in der Funktion passieren soll 4 Leerzeichen (1 Tab) eingeschoben ist. Jupyter macht das für Sie automatisch. Als Letztes folgt das `return` Statement, was darauf folgt wird als Output wieder ausgegeben.\n",
    "\n",
    "Funktionen können mehrere Inputs und in Python auch mehrere Outputs haben:"
   ]
  },
  {
   "cell_type": "code",
   "execution_count": null,
   "metadata": {},
   "outputs": [],
   "source": [
    "def power(x,b):\n",
    "    x_hoch_b =x**b\n",
    "    b_hoch_x =b**x\n",
    "    return x_hoch_b, b_hoch_x\n",
    "\n",
    "power(x=4,b=5)"
   ]
  },
  {
   "cell_type": "markdown",
   "metadata": {},
   "source": [
    "Sie können den Output der Funktion auch direkt Variablen zuordnen."
   ]
  },
  {
   "cell_type": "code",
   "execution_count": null,
   "metadata": {},
   "outputs": [],
   "source": [
    "output1,output2=power(4,5) # wie man hier sieht erkennt python automatisch welche x und b wird\n",
    "          \n",
    "print(output1, output2)"
   ]
  },
  {
   "cell_type": "code",
   "execution_count": null,
   "metadata": {},
   "outputs": [],
   "source": [
    "print(x_hoch_b)"
   ]
  },
  {
   "cell_type": "markdown",
   "metadata": {},
   "source": [
    "In der letzten Zelle haben Sie versucht `x_hoch_b` in der Konsole auszugeben (`print(x_hoch_b)`). Das funktioniert aber nicht, da Variablen, die innerhalb eine Funktion definiert werden, nur innerhalb der Funktion \"leben\" und nicht im *global scope* existieren. Alle Variablen, die Sie nach einer Funktion benutzen wollen, müssen Sie mit dem `return` Statement in neue Variable speichern. \n",
    "\n",
    "Man kann auch Funktionen innerhalb von Funktionen benutzen, dies erlaubt es Ihnen schnell aus einfachen Funktionen komplexere zu schreiben:"
   ]
  },
  {
   "cell_type": "code",
   "execution_count": null,
   "metadata": {},
   "outputs": [],
   "source": [
    "def funktion_1(x):\n",
    "    return x*3\n",
    "\n",
    "def funktion_2(x):\n",
    "    z = funktion_1(x)\n",
    "    return z+5\n",
    "\n",
    "funktion_2(0.5)"
   ]
  },
  {
   "cell_type": "markdown",
   "metadata": {},
   "source": [
    "Als Letztes ist noch wichtig zu beachten, dass es optionale Inputvariablen gibt. Diese ermöglichen es Funktionen besser zu strukturieren:"
   ]
  },
  {
   "cell_type": "code",
   "execution_count": null,
   "metadata": {},
   "outputs": [],
   "source": [
    "def wurzel(x,b=2):\n",
    "    return x**(1/b)\n",
    "wurzel(x=4)"
   ]
  },
  {
   "cell_type": "markdown",
   "metadata": {},
   "source": [
    "Wie Sie sehen können haben Sie `b` schon in der Definition der Funktion den Wert `2` zugeordnet. Das heißt, `2` ist der `default` Wert für `b`. Wenn Sie die Funktion, benutze ohne `b` zu definieren, wird automatisch `b` gleich zwei gesetzt. Wenn ich aber `b=4` beim Aufrufen der Funktion hinzufüge, wird mit `b=4`in der Funktion gerechnet. \n",
    "\n",
    "Das Benutzen von `defaults`, also optionalen Variablen, macht das Benutzen von Funktionen einfacher und übersichtlicher:"
   ]
  },
  {
   "cell_type": "code",
   "execution_count": null,
   "metadata": {},
   "outputs": [],
   "source": [
    "wurzel(x=4,b=4)"
   ]
  },
  {
   "cell_type": "markdown",
   "metadata": {},
   "source": [
    "### Local vs. Global\n",
    "\n",
    "Wichtig zu wissen ist, dass es globale Variablen und lokale Variablen gibt. Lokale Variablen existieren nur innerhalb der Funktion, während globale Variablen im allgemeinen Speicher des Scripts existieren.\n",
    "\n",
    "Ein Beispiel:\n",
    "\n",
    "`local_global` nimmt als Input `x` und `print`ed `a`. `a` haben wir vorher global als `1` gesetzt.\n",
    "Deswegen ist der Output der Funktion auch, da wir `a` nicht vorher definieren *weiß* Python, dass das globale `a` meinen."
   ]
  },
  {
   "cell_type": "code",
   "execution_count": null,
   "metadata": {},
   "outputs": [],
   "source": [
    "a = 1\n",
    "\n",
    "def local_global(x):\n",
    "    print(a)\n",
    "local_global(x=7)"
   ]
  },
  {
   "cell_type": "markdown",
   "metadata": {},
   "source": [
    "Wir schreiben nun die Funktion so um, dass innerhalb der Funktion `a` den Wert von `x` erhält."
   ]
  },
  {
   "cell_type": "code",
   "execution_count": null,
   "metadata": {},
   "outputs": [],
   "source": [
    "def local_global(x):\n",
    "    a = x\n",
    "    print(a)\n",
    "local_global(x=7)"
   ]
  },
  {
   "cell_type": "markdown",
   "metadata": {},
   "source": [
    "Die Funktion gibt nun für `a` `7` aus. Soweit so gut, allerdings wenn Sie jetzt `a` anschauen werden Sie sehen, das `a` immer noch `1` ist."
   ]
  },
  {
   "cell_type": "code",
   "execution_count": null,
   "metadata": {},
   "outputs": [],
   "source": [
    "a"
   ]
  },
  {
   "cell_type": "markdown",
   "metadata": {},
   "source": [
    "Wie Sie sehen hatte die lokale Veränderung innerhalb der Funktion keinen Einfluss auf die globale Variable. Das heißt, die lokale Variable wird nach Ausführen der Funktion *zerstört*, während die globale Variable weiterhin existiert. Das passiert, obwohl beide Variablen denselben Namen haben."
   ]
  },
  {
   "cell_type": "markdown",
   "metadata": {},
   "source": [
    "# Aufgaben\n",
    "\n",
    "\n",
    "### 1. Indizieren und Slicen \n",
    "* Geben Sie den String \"Panda\" aus dem Array `Animals` aus\n",
    "* Geben Sie die ersten beiden Spalten des Arrays aus\n",
    "* Geben Sie die dritte Zeile des Arrays aus\n",
    "* Geben Sie die vier Tiere in der oberen rechten Ecke aus"
   ]
  },
  {
   "cell_type": "code",
   "execution_count": null,
   "metadata": {},
   "outputs": [],
   "source": [
    "Animals = np.array([\n",
    "['Elefant', 'Schildkröte', 'Papagei', 'Walross', 'Adler'], \n",
    "['Orang-Utan', 'Panda', 'Bär', 'Karpfen', 'Wolf'],\n",
    "['Hyäne', 'Schimpanse', 'Flusspferd', 'Taube', 'Nashorn'],\n",
    "['Löwe', 'Spatz', 'Schaf', 'Wildschwein', 'Gorilla'],\n",
    "['Eisbär', 'Pferd', 'Pinguin', 'Orca', 'Laubfrosch']])\n",
    "\n",
    "# Geben Sie hier die Elemente/Slices aus mit:\n",
    "# print(Animals[...])"
   ]
  },
  {
   "cell_type": "markdown",
   "metadata": {},
   "source": [
    "<details>\n",
    "    <summary><b>Lösung:</b></summary>\n",
    "\n",
    "```python\n",
    "print(Animals[1,1])\n",
    "print(Animals[:, 0:2])\n",
    "print(Animals[2]) # Wenn kein Komma gegeben ist gilt: Zeile zuerst, Spalte später\n",
    "print(Animals[:2,3:])  \n",
    "```   \n",
    "</details>"
   ]
  },
  {
   "cell_type": "markdown",
   "metadata": {},
   "source": [
    "### 2. Celsius zu Fahrenheit\n",
    "Schreiben Sie eine Funktion, die Celsius in Fahrenheit umrechnet. Die Formel dafür lautet $°F= °C \\cdot 1.8 + 32$. <br> Rechnen Sie mit dieser Funktion 25 °C in Fahrenheit um."
   ]
  },
  {
   "cell_type": "code",
   "execution_count": null,
   "metadata": {},
   "outputs": [],
   "source": [
    "def c_to_f(_____):  # Schreiben Sie hier Ihre Funktion"
   ]
  },
  {
   "cell_type": "markdown",
   "metadata": {},
   "source": [
    "<details>\n",
    "    <summary><b>Lösung:</b></summary>\n",
    "\n",
    "```python\n",
    "def c_to_f(celsius):\n",
    "    return celsius*1.8 + 32\n",
    "    \n",
    "print(c_to_f(25))    \n",
    "```   \n",
    "</details>"
   ]
  },
  {
   "cell_type": "markdown",
   "metadata": {},
   "source": [
    "### 3.  List Comprehension\n",
    "\n",
    "Können Sie den folgenden `for-loop` in eine Zeile schreiben?\n"
   ]
  },
  {
   "cell_type": "code",
   "execution_count": null,
   "metadata": {},
   "outputs": [],
   "source": [
    "x = [\"A\", \"B\", \"C\", \"D\"]\n",
    "\n",
    "for item in x:\n",
    "    print(item*3)\n"
   ]
  },
  {
   "cell_type": "code",
   "execution_count": null,
   "metadata": {},
   "outputs": [],
   "source": [
    "# schreiben Sie hier ihre Lösung"
   ]
  },
  {
   "cell_type": "markdown",
   "metadata": {},
   "source": [
    "<details>\n",
    "    <summary><b>Lösung:</b></summary>\n",
    "\n",
    "```python\n",
    "[3*item for item in x]\n",
    "```   \n",
    "</details>"
   ]
  },
  {
   "cell_type": "markdown",
   "metadata": {},
   "source": [
    "Können Sie fen folgenden `for-loop` als \"klassichen\" `for-loop` schreiben."
   ]
  },
  {
   "cell_type": "code",
   "execution_count": null,
   "metadata": {},
   "outputs": [],
   "source": [
    "x = [\"A\", \"B\", \"C\", \"D\"]\n",
    "[item+\"_XY\" for item in x]"
   ]
  },
  {
   "cell_type": "code",
   "execution_count": null,
   "metadata": {},
   "outputs": [],
   "source": [
    "# Schreiben Sie ihre Lösung"
   ]
  },
  {
   "cell_type": "code",
   "execution_count": null,
   "metadata": {},
   "outputs": [],
   "source": [
    "for item in x:\n",
    "    print(item+\"_XY\")"
   ]
  },
  {
   "cell_type": "markdown",
   "metadata": {},
   "source": [
    "<details>\n",
    "    <summary><b>Lösung:</b></summary>\n",
    "\n",
    "```python\n",
    "    \n",
    "for item in x:\n",
    "    print(item+\"_XY\")\n",
    "```   \n",
    "</details>"
   ]
  },
  {
   "cell_type": "markdown",
   "metadata": {},
   "source": [
    "### 4. Fibonacci Folge\n",
    "<center><img src=\"https://ichef.bbci.co.uk/images/ic/1200x675/p01gmtz6.jpg\" style=\"width: 600px;\"></center>\n",
    "<h8><center>Fig. 4: BBC.com </center></h8>\n",
    "\n",
    " Die Fibonacci Folge ist eine Zahlenreihe, in der die nächste Zahl die Summe der letzten zwei Zahlen ist:\n",
    " \n",
    " https://de.wikipedia.org/wiki/Fibonacci-Folge\n",
    " \n",
    " Schreiben Sie ein Programm, dass die ersten 15 Zahlen in der Fibonacci Folge ausgibt\n",
    " \n",
    " Schon vorgegeben ist die Liste `fib`, die die Zahlen `0,1` enthält. Fügt an diese Liste die nächsten Werte an.\n",
    " \n",
    "<details>\n",
    "    <summary><b>Tipp 1</b></summary>\n",
    "Sie können .append() benutzen um Zahlen an Listen zu hängen\n",
    "</details>\n",
    "\n",
    "<details>\n",
    "<summary><b>Tipp 2</b></summary>\n",
    "Mit [-1] können Sie das letzte Element einer Liste auswählen.\n",
    "</details>"
   ]
  },
  {
   "cell_type": "code",
   "execution_count": null,
   "metadata": {},
   "outputs": [],
   "source": [
    "fib = [0,1] \n",
    "# hier sollte Ihre Lösung stehen "
   ]
  },
  {
   "cell_type": "markdown",
   "metadata": {},
   "source": [
    "<details>\n",
    "    <summary><b>Lösung:</b></summary>\n",
    "\n",
    "```python\n",
    "for i in range(14):\n",
    "    fib.append(fib[-1]+fib[-2])\n",
    "    print(fib)\n",
    "```\n",
    "</details>"
   ]
  },
  {
   "cell_type": "markdown",
   "metadata": {},
   "source": [
    "### 5. Summe der Matrixdiagonalen\n",
    " \n",
    " \n",
    "Berechnen Sie die Summe der Diagonalen der Matrix A und Matrix B mit einem for-loop.\n",
    "\n",
    "Die Diagonale einer Matrix sind die Werte, die in der \"Mitte\" einer Matrix liegt. Im Beispiel ist die Diagonale etwas kräftiger markiert. \n",
    "\n",
    "$\\begin{bmatrix}\\textbf{1} & 2 & 3 \\\\\n",
    "4&\\textbf{5}&6\\\\\n",
    "7&8&\\textbf{9}\\end{bmatrix}$\n",
    "\n",
    "In dem Beispiel $1+5+9 =15$\n",
    "\n",
    "<br>\n",
    "\n",
    "<details>\n",
    "    <summary><b>Tipp 1 </b></summary>\n",
    "    <code>x =x+1</code> addiert 1 zu x\n",
    "</details>\n",
    "\n",
    "\n",
    "<details>\n",
    "<summary><b>Tipp 2</b></summary>\n",
    "    <code>x[0,0]</code> wählt das Element in der ersten Reihe und Spalte aus\n",
    "</details>\n"
   ]
  },
  {
   "cell_type": "code",
   "execution_count": null,
   "metadata": {},
   "outputs": [],
   "source": [
    "A = np.array([[12,45,13,85],\n",
    "              [11,4,43,23],\n",
    "             [78,22,0.5,65],\n",
    "             [154,11,57,1]])\n",
    "print(A)\n",
    "\n",
    "\n",
    "\n",
    "B = np.array([[0.96359314, 0.42621368, 0.10821601, 0.6852424 ],\n",
    "       [0.23945833, 0.30840861, 0.25658861, 0.63431993],\n",
    "       [0.16603427, 0.40061208, 0.2790935 , 0.94613278],\n",
    "       [0.89885982, 0.00133547, 0.75911288, 0.56449904]]) # Die Richtige Lösung ist 2.1155942899999998\n",
    "\n",
    "print(\"\\n\", B)"
   ]
  },
  {
   "cell_type": "code",
   "execution_count": null,
   "metadata": {},
   "outputs": [],
   "source": [
    "summe_diag = 0\n",
    "# schreiben Sie hier Ihren Code"
   ]
  },
  {
   "cell_type": "markdown",
   "metadata": {},
   "source": [
    "<details>\n",
    "    <summary><b>Lösung:</b></summary>\n",
    "\n",
    "```python\n",
    "for i in range(4):\n",
    "    summe_diag = summe_diag + A[i,i]\n",
    "print(summe_diag)\n",
    "```\n",
    "</details>"
   ]
  },
  {
   "cell_type": "markdown",
   "metadata": {},
   "source": [
    "# Übungsaufgabe (Leistungsnachweis) \n",
    "Diese Aufgabe kann jeder machen. Hierfür gibt es aber noch keine Lösung. Diese wird erst im Praktikum besprochen.\n",
    "Die Chemiker die einen Leistungsnachweis brauchen, schicken ihr Lösung mit dem gesamten Notebook ab.\n",
    "\n",
    "Können Sie eine Funktion schreiben, ohne `numpy`, die für quadratische Matrizen (gleiche Anzahl Spalten und Zeilen) jeglicher Größen die Summe der Diagonalen ausrechnet? Um die Anzahl der Reihen einer Matrix zu erfassen, können Sie zum Beispiel `A.shape[0]` benutzen.\n",
    "\n",
    "**Die Funktion darf bis auf** `.shape` **keine anderen Numpy Funktion beinhalten!**\n",
    "\n",
    "\n",
    "Die Funktion kann an der Matrix A und B ausprobiert werden.\n",
    "\n",
    "Bitte geben Sie das komplette Notebook ab!\n"
   ]
  },
  {
   "cell_type": "code",
   "execution_count": null,
   "metadata": {},
   "outputs": [],
   "source": [
    "A=np.array([[0.5193, 0.1647, 0.373 , 0.1358, 0.8894, 0.7439, 0.4519, 0.2094,\n",
    "        0.4921, 0.0128, 0.4289, 0.5378, 0.4515, 0.6876, 0.5937],\n",
    "       [0.6018, 0.8242, 0.3926, 0.6591, 0.5134, 0.6065, 0.9881, 0.3841,\n",
    "        0.819 , 0.6716, 0.4225, 0.7546, 0.9525, 0.9048, 0.7034],\n",
    "       [0.7289, 0.7999, 0.3033, 0.4591, 0.1918, 0.7663, 0.9638, 0.7665,\n",
    "        0.5774, 0.7184, 0.9293, 0.0913, 0.0071, 0.989 , 0.6825],\n",
    "       [0.4759, 0.3783, 0.4923, 0.7622, 0.8149, 0.9381, 0.6649, 0.8443,\n",
    "        0.5408, 0.1885, 0.8533, 0.5403, 0.2167, 0.7192, 0.0259],\n",
    "       [0.8154, 0.1398, 0.8851, 0.2447, 0.8609, 0.1983, 0.3468, 0.5203,\n",
    "        0.5189, 0.3498, 0.3812, 0.3807, 0.209 , 0.2887, 0.1896],\n",
    "       [0.6525, 0.4192, 0.0356, 0.3995, 0.3648, 0.7127, 0.275 , 0.2705,\n",
    "        0.4698, 0.6706, 0.5039, 0.1286, 0.0693, 0.9826, 0.6088],\n",
    "       [0.5758, 0.4875, 0.6286, 0.9947, 0.0188, 0.8688, 0.9532, 0.498 ,\n",
    "        0.3713, 0.2585, 0.2112, 0.0812, 0.2677, 0.4038, 0.3395],\n",
    "       [0.0261, 0.5817, 0.9681, 0.7922, 0.592 , 0.8935, 0.4938, 0.8571,\n",
    "        0.279 , 0.0495, 0.549 , 0.2601, 0.348 , 0.6418, 0.8063],\n",
    "       [0.1303, 0.7674, 0.4345, 0.7768, 0.9407, 0.5074, 0.4774, 0.6019,\n",
    "        0.1217, 0.3217, 0.9664, 0.2278, 0.5141, 0.7489, 0.8304],\n",
    "       [0.1496, 0.0037, 0.3978, 0.8104, 0.5294, 0.337 , 0.3625, 0.3798,\n",
    "        0.8974, 0.3587, 0.1965, 0.9226, 0.2652, 0.1309, 0.7748],\n",
    "       [0.9205, 0.6545, 0.6991, 0.6209, 0.1958, 0.2015, 0.8984, 0.2911,\n",
    "        0.7079, 0.8424, 0.9334, 0.2488, 0.3616, 0.8357, 0.657 ],\n",
    "       [0.788 , 0.046 , 0.3151, 0.6779, 0.4671, 0.5347, 0.3059, 0.1771,\n",
    "        0.3986, 0.3657, 0.7061, 0.2225, 0.254 , 0.3257, 0.4043],\n",
    "       [0.9722, 0.2203, 0.11  , 0.3706, 0.1451, 0.8802, 0.0651, 0.098 ,\n",
    "        0.8599, 0.0832, 0.8898, 0.4826, 0.5435, 0.1672, 0.8508],\n",
    "       [0.857 , 0.6562, 0.6943, 0.2193, 0.3398, 0.8404, 0.0348, 0.4491,\n",
    "        0.8173, 0.8593, 0.1258, 0.2229, 0.925 , 0.2908, 0.0155],\n",
    "       [0.9227, 0.9373, 0.5116, 0.0711, 0.5547, 0.4867, 0.3199, 0.5271,\n",
    "        0.3406, 0.6261, 0.1969, 0.0792, 0.9261, 0.3449, 0.1132]])\n",
    "\n",
    "B = np.array([[-0.081,  0.549, -0.351,  1.037,  0.48 , -0.187, -1.148,  0.576],\n",
    "              [-0.124, -0.059,  0.705,  0.577,  0.67 ,  1.307,  1.408, -1.136],\n",
    "              [-0.175, -0.263,  2.828, -0.89 , -1.159,  1.195, -1.265, -0.364],\n",
    "              [-0.416, -0.665,  1.646,  0.107,  0.221, -0.439,  1.114,  0.269],\n",
    "              [-0.244, -1.125,  1.05 ,  0.467,  0.297, -1.377, -0.113, -2.072],\n",
    "              [-0.761, -0.691, -0.811, -1.051, -2.077,  0.25 ,  0.432, -0.314],\n",
    "              [ 2.375, -1.981, -0.264,  1.477, -0.631, -0.566,  0.32 ,  0.305],\n",
    "              [ 0.328,  1.811,  0.585,  0.818,  0.771,  0.208, -0.914, -0.374]])"
   ]
  },
  {
   "cell_type": "code",
   "execution_count": null,
   "metadata": {},
   "outputs": [],
   "source": [
    "# hier könnte Ihre Funktion stehen"
   ]
  },
  {
   "cell_type": "markdown",
   "metadata": {},
   "source": [
    "Auch `numpy` enthält natürlich für so etwas Funktionen. So gibt es die Möglichkeit `np.sum(np.diag(A))`zu benutzen, um die Summe zu errechnen. `np.diag` wählt hier die Elemente der Diagonalen aus und `np.sum` summiert diese. `numpy` hat viele Funktionen. Falls Sie einmal nicht wissen, was eine Funktion macht, können Sie `help()` benutzen, um die sogenannte Dokumentation zu öffnen. In der Dokumentation ist festgehalten, was jede Funktion macht und welchen Input sie braucht."
   ]
  },
  {
   "cell_type": "code",
   "execution_count": null,
   "metadata": {},
   "outputs": [],
   "source": [
    "help(np.sum)"
   ]
  },
  {
   "cell_type": "markdown",
   "metadata": {},
   "source": [
    "Es sind Beispiele gegeben und jede Input Variable wird beschrieben. `np.sum()`braucht immer einen Array, für den es die Summe errechnen kann. Aber alle anderen Variablen müssen nicht definiert werden, da sie einen Default haben.\n",
    "\n",
    "Falls Sie sich nicht sicher sind, was eine Funktion macht, können Sie `help()` benutzen. Leider hat nicht jede Library so eine gute Dokumentation wie `numpy`."
   ]
  }
 ],
 "metadata": {
  "kernelspec": {
   "display_name": "Python 3 (ipykernel)",
   "language": "python",
   "name": "python3"
  },
  "language_info": {
   "codemirror_mode": {
    "name": "ipython",
    "version": 3
   },
   "file_extension": ".py",
   "mimetype": "text/x-python",
   "name": "python",
   "nbconvert_exporter": "python",
   "pygments_lexer": "ipython3",
   "version": "3.7.11"
  },
  "toc-autonumbering": false,
  "toc-showcode": true,
  "toc-showmarkdowntxt": true
 },
 "nbformat": 4,
 "nbformat_minor": 4
}
