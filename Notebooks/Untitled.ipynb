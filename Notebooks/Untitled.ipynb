{
 "cells": [
  {
   "cell_type": "code",
   "execution_count": 28,
   "id": "9b78611b",
   "metadata": {},
   "outputs": [],
   "source": [
    "import numpy as np\n",
    "from sklearn.svm import SVC\n",
    "from sklearn import datasets\n",
    "from matplotlib import pyplot as plt"
   ]
  },
  {
   "cell_type": "code",
   "execution_count": 87,
   "id": "4d3fae03",
   "metadata": {},
   "outputs": [],
   "source": [
    "x,y =datasets.make_circles(n_samples=150,shuffle=True, noise=0.1,random_state=7, factor=0.5)"
   ]
  },
  {
   "cell_type": "code",
   "execution_count": 79,
   "id": "441c7bc4",
   "metadata": {},
   "outputs": [
    {
     "data": {
      "text/plain": [
       "[<matplotlib.lines.Line2D at 0x7f7cfc97b950>]"
      ]
     },
     "execution_count": 79,
     "metadata": {},
     "output_type": "execute_result"
    },
    {
     "data": {
      "image/png": "[encoded data removed]",
      "text/plain": [
       "<Figure size 432x288 with 1 Axes>"
      ]
     },
     "metadata": {
      "needs_background": "light"
     },
     "output_type": "display_data"
    }
   ],
   "source": [
    "plt.plot(x[:,0], x[:,1],\"o\")\n",
    "plt.plot(x[y==0][:,0], x[y==0][:,1],\"o\")"
   ]
  },
  {
   "cell_type": "code",
   "execution_count": 78,
   "id": "6548979f",
   "metadata": {},
   "outputs": [],
   "source": [
    "x[:,1]=(x[:,1]+5)*2"
   ]
  },
  {
   "cell_type": "code",
   "execution_count": 88,
   "id": "13b36ae0",
   "metadata": {},
   "outputs": [
    {
     "data": {
      "text/plain": [
       "SVC()"
      ]
     },
     "execution_count": 88,
     "metadata": {},
     "output_type": "execute_result"
    }
   ],
   "source": [
    "clf = SVC()\n",
    "clf.fit(x, y)"
   ]
  },
  {
   "cell_type": "code",
   "execution_count": 89,
   "id": "f440cf88",
   "metadata": {},
   "outputs": [],
   "source": [
    "y_hat=clf.predict(x)"
   ]
  },
  {
   "cell_type": "code",
   "execution_count": 90,
   "id": "b3256f03",
   "metadata": {},
   "outputs": [
    {
     "data": {
      "text/plain": [
       "0.9933333333333333"
      ]
     },
     "execution_count": 90,
     "metadata": {},
     "output_type": "execute_result"
    }
   ],
   "source": [
    "np.sum(y_hat==y)/150"
   ]
  },
  {
   "cell_type": "code",
   "execution_count": null,
   "id": "cf022fd4",
   "metadata": {},
   "outputs": [],
   "source": []
  }
 ],
 "metadata": {
  "kernelspec": {
   "display_name": "Python 3 (ipykernel)",
   "language": "python",
   "name": "python3"
  },
  "language_info": {
   "codemirror_mode": {
    "name": "ipython",
    "version": 3
   },
   "file_extension": ".py",
   "mimetype": "text/x-python",
   "name": "python",
   "nbconvert_exporter": "python",
   "pygments_lexer": "ipython3",
   "version": "3.7.11"
  }
 },
 "nbformat": 4,
 "nbformat_minor": 5
}
