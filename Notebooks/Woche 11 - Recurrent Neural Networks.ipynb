{
 "cells": [
  {
   "cell_type": "code",
   "execution_count": 236,
   "id": "7ae4db88",
   "metadata": {},
   "outputs": [],
   "source": [
    "import torch\n",
    "from torch import nn\n",
    "from rdkit.Chem import AllChem as Chem\n",
    "import numpy as np"
   ]
  },
  {
   "cell_type": "code",
   "execution_count": 266,
   "id": "b2be5366",
   "metadata": {},
   "outputs": [],
   "source": [
    "smiles = [\"CCN=C=O\",\"NC(=O)CC(=O)O\"]\n"
   ]
  },
  {
   "cell_type": "code",
   "execution_count": 267,
   "id": "6b479564",
   "metadata": {
    "scrolled": true
   },
   "outputs": [],
   "source": [
    "def create_dict(smiles, add_tokens=False):\n",
    "    vocabulary = []    \n",
    "    if add_tokens: \n",
    "        vocabulary=[\"<sos>\", \"<eos>\", \"<pad>\"]\n",
    "    for smile in smiles:\n",
    "        atoms = []\n",
    "        for i in range(len(smile)):\n",
    "            atoms.append(smile[i])\n",
    "            \n",
    "        vocabulary += list(set(atoms)-set(vocabulary))\n",
    "    try:\n",
    "        i = vocabulary.index(\"r\")\n",
    "        k = vocabulary.index(\"B\")\n",
    "        del vocabulary[i], vocabulary[k]\n",
    "        vocabulary +=[\"Br\"]\n",
    "    except:\n",
    "        print(\"No `Br` in SMILES\")\n",
    "\n",
    "    try:\n",
    "        i = vocabulary.index(\"l\")\n",
    "        del vocabulary[i]\n",
    "        vocabulary +=[\"Cl\"]\n",
    "    except:\n",
    "        print(\"No `Cl` in SMILES\")\n",
    "    \n",
    "    return {vocabulary[i]: i for i in range(len(vocabulary))}   \n",
    "\n",
    "\n",
    "def tokenize(smiles, dictionary):\n",
    "    token_smiles = []\n",
    "    for smile in smiles:\n",
    "        token_smile= []\n",
    "        i = 0\n",
    "        while i < len(smile):\n",
    "            if (smile[i:i+2]==\"Cl\"):\n",
    "                token_smile.append(dictionary[\"Cl\"])\n",
    "                i+=2\n",
    "            elif (smile[i:i+2]==\"Br\"):\n",
    "                token_smile.append(dictionary[\"Br\"])\n",
    "                i+=2\n",
    "            else:\n",
    "                token_smile.append(dictionary[smile[i]])\n",
    "                i+=1\n",
    "        token_smiles.append(token_smile)   \n",
    "    return token_smiles\n",
    "\n",
    "\n",
    "def token_to_onehot(tokenized_smiles, vocabulary_length):\n",
    "    one_hot_ll = list()\n",
    "    for smile in tokenized_smiles:\n",
    "        one_hot_matrix=np.zeros([len(smile),vocabulary_length])\n",
    "        for i, token in enumerate(smile):\n",
    "            one_hot_matrix[i,token]=1\n",
    "        one_hot_ll.append(one_hot_matrix)\n",
    "    return np.stack(one_hot_ll)\n"
   ]
  },
  {
   "cell_type": "code",
   "execution_count": 289,
   "id": "b92a59bf",
   "metadata": {},
   "outputs": [
    {
     "name": "stdout",
     "output_type": "stream",
     "text": [
      "No `Br` in SMILES\n",
      "No `Cl` in SMILES\n"
     ]
    },
    {
     "data": {
      "text/plain": [
       "[[2, 2, 1, 0, 2, 0, 3], [1, 2, 5, 0, 3, 4, 2, 2, 5, 0, 3, 4, 3]]"
      ]
     },
     "execution_count": 289,
     "metadata": {},
     "output_type": "execute_result"
    }
   ],
   "source": [
    "dictionary = create_dict(smiles)\n",
    "tokenized_smiles = tokenize(smiles,dictionary)\n",
    "tokenized_smiles"
   ]
  },
  {
   "cell_type": "code",
   "execution_count": 290,
   "id": "1ebdb538",
   "metadata": {},
   "outputs": [
    {
     "data": {
      "text/plain": [
       "[7, 13]"
      ]
     },
     "execution_count": 290,
     "metadata": {},
     "output_type": "execute_result"
    }
   ],
   "source": [
    "[len(x) for x in tokenized_smiles]"
   ]
  },
  {
   "cell_type": "code",
   "execution_count": 291,
   "id": "87511fa4",
   "metadata": {
    "scrolled": true
   },
   "outputs": [
    {
     "data": {
      "text/plain": [
       "{'=': 0, 'N': 1, 'C': 2, 'O': 3, ')': 4, '(': 5, '<pad>': 6}"
      ]
     },
     "execution_count": 291,
     "metadata": {},
     "output_type": "execute_result"
    }
   ],
   "source": [
    "dictionary[\"<pad>\"] = len(dictionary)\n",
    "dictionary"
   ]
  },
  {
   "cell_type": "code",
   "execution_count": 292,
   "id": "ec50902b",
   "metadata": {},
   "outputs": [
    {
     "data": {
      "text/plain": [
       "[2, 2, 1, 0, 2, 0, 3, 6, 6, 6, 6, 6, 6]"
      ]
     },
     "execution_count": 292,
     "metadata": {},
     "output_type": "execute_result"
    }
   ],
   "source": [
    "tokenized_smiles[0] += [dictionary[\"<pad>\"]]*6\n",
    "tokenized_smiles[0]"
   ]
  },
  {
   "cell_type": "code",
   "execution_count": 293,
   "id": "3bc2b95c",
   "metadata": {},
   "outputs": [
    {
     "data": {
      "text/plain": [
       "7"
      ]
     },
     "execution_count": 293,
     "metadata": {},
     "output_type": "execute_result"
    }
   ],
   "source": [
    "vocabulary_length = len(dictionary)\n",
    "vocabulary_length"
   ]
  },
  {
   "cell_type": "code",
   "execution_count": 299,
   "id": "b7560f8a",
   "metadata": {},
   "outputs": [
    {
     "name": "stdout",
     "output_type": "stream",
     "text": [
      "[[[0. 0. 1. 0. 0. 0. 0.]\n",
      "  [0. 0. 1. 0. 0. 0. 0.]\n",
      "  [0. 1. 0. 0. 0. 0. 0.]\n",
      "  [1. 0. 0. 0. 0. 0. 0.]\n",
      "  [0. 0. 1. 0. 0. 0. 0.]\n",
      "  [1. 0. 0. 0. 0. 0. 0.]\n",
      "  [0. 0. 0. 1. 0. 0. 0.]\n",
      "  [0. 0. 0. 0. 0. 0. 1.]\n",
      "  [0. 0. 0. 0. 0. 0. 1.]\n",
      "  [0. 0. 0. 0. 0. 0. 1.]\n",
      "  [0. 0. 0. 0. 0. 0. 1.]\n",
      "  [0. 0. 0. 0. 0. 0. 1.]\n",
      "  [0. 0. 0. 0. 0. 0. 1.]]\n",
      "\n",
      " [[0. 1. 0. 0. 0. 0. 0.]\n",
      "  [0. 0. 1. 0. 0. 0. 0.]\n",
      "  [0. 0. 0. 0. 0. 1. 0.]\n",
      "  [1. 0. 0. 0. 0. 0. 0.]\n",
      "  [0. 0. 0. 1. 0. 0. 0.]\n",
      "  [0. 0. 0. 0. 1. 0. 0.]\n",
      "  [0. 0. 1. 0. 0. 0. 0.]\n",
      "  [0. 0. 1. 0. 0. 0. 0.]\n",
      "  [0. 0. 0. 0. 0. 1. 0.]\n",
      "  [1. 0. 0. 0. 0. 0. 0.]\n",
      "  [0. 0. 0. 1. 0. 0. 0.]\n",
      "  [0. 0. 0. 0. 1. 0. 0.]\n",
      "  [0. 0. 0. 1. 0. 0. 0.]]] (2, 13, 7)\n"
     ]
    }
   ],
   "source": [
    "onehot_tokens = token_to_onehot(tokenized_smiles, vocabulary_length)\n",
    "print(onehot_tokens, onehot_tokens.shape)"
   ]
  },
  {
   "cell_type": "code",
   "execution_count": 296,
   "id": "570184ff",
   "metadata": {},
   "outputs": [
    {
     "data": {
      "text/plain": [
       "array([[0.19151945, 0.62210877, 0.43772774, 0.78535858],\n",
       "       [0.77997581, 0.27259261, 0.27646426, 0.80187218],\n",
       "       [0.95813935, 0.87593263, 0.35781727, 0.50099513],\n",
       "       [0.68346294, 0.71270203, 0.37025075, 0.56119619],\n",
       "       [0.50308317, 0.01376845, 0.77282662, 0.88264119],\n",
       "       [0.36488598, 0.61539618, 0.07538124, 0.36882401],\n",
       "       [0.9331401 , 0.65137814, 0.39720258, 0.78873014]])"
      ]
     },
     "execution_count": 296,
     "metadata": {},
     "output_type": "execute_result"
    }
   ],
   "source": [
    "np.random.seed(1234)\n",
    "embedding_layer=np.random.rand(7,4)\n",
    "embedding_layer"
   ]
  },
  {
   "cell_type": "code",
   "execution_count": 301,
   "id": "5cc184bf",
   "metadata": {
    "scrolled": true
   },
   "outputs": [
    {
     "name": "stdout",
     "output_type": "stream",
     "text": [
      "[[0.95813935 0.87593263 0.35781727 0.50099513]\n",
      " [0.95813935 0.87593263 0.35781727 0.50099513]\n",
      " [0.77997581 0.27259261 0.27646426 0.80187218]\n",
      " [0.19151945 0.62210877 0.43772774 0.78535858]\n",
      " [0.95813935 0.87593263 0.35781727 0.50099513]\n",
      " [0.19151945 0.62210877 0.43772774 0.78535858]\n",
      " [0.68346294 0.71270203 0.37025075 0.56119619]\n",
      " [0.9331401  0.65137814 0.39720258 0.78873014]\n",
      " [0.9331401  0.65137814 0.39720258 0.78873014]\n",
      " [0.9331401  0.65137814 0.39720258 0.78873014]\n",
      " [0.9331401  0.65137814 0.39720258 0.78873014]\n",
      " [0.9331401  0.65137814 0.39720258 0.78873014]\n",
      " [0.9331401  0.65137814 0.39720258 0.78873014]]\n"
     ]
    }
   ],
   "source": [
    "token_embeddings = np.matmul(onehot_tokens,embedding_layer)\n",
    "print(token_embeddings[0])"
   ]
  },
  {
   "cell_type": "code",
   "execution_count": 303,
   "id": "98149e8a",
   "metadata": {},
   "outputs": [
    {
     "data": {
      "text/plain": [
       "array([0., 0., 1., 0., 0., 0., 0.])"
      ]
     },
     "execution_count": 303,
     "metadata": {},
     "output_type": "execute_result"
    }
   ],
   "source": [
    "onehot_tokens[0,0,:]"
   ]
  },
  {
   "cell_type": "code",
   "execution_count": 307,
   "id": "15c06899",
   "metadata": {},
   "outputs": [
    {
     "data": {
      "text/plain": [
       "array([0.95813935, 0.87593263, 0.35781727, 0.50099513])"
      ]
     },
     "execution_count": 307,
     "metadata": {},
     "output_type": "execute_result"
    }
   ],
   "source": [
    "embedding_layer[2,:]"
   ]
  },
  {
   "cell_type": "code",
   "execution_count": 308,
   "id": "9ae985ba",
   "metadata": {
    "scrolled": true
   },
   "outputs": [
    {
     "data": {
      "text/plain": [
       "array([0.95813935, 0.87593263, 0.35781727, 0.50099513])"
      ]
     },
     "execution_count": 308,
     "metadata": {},
     "output_type": "execute_result"
    }
   ],
   "source": [
    "token_embeddings[0,0,:]"
   ]
  },
  {
   "cell_type": "code",
   "execution_count": 311,
   "id": "a5ba4dac",
   "metadata": {},
   "outputs": [],
   "source": [
    "token_embeddings = torch.tensor(token_embeddings)"
   ]
  },
  {
   "cell_type": "code",
   "execution_count": 310,
   "id": "d7432b2e",
   "metadata": {},
   "outputs": [
    {
     "data": {
      "text/plain": [
       "RNN(5, 10)"
      ]
     },
     "execution_count": 310,
     "metadata": {},
     "output_type": "execute_result"
    }
   ],
   "source": [
    "torch.manual_seed(1234)\n",
    "rnn = nn.RNN(5,10)\n",
    "rnn.eval()"
   ]
  },
  {
   "cell_type": "code",
   "execution_count": 312,
   "id": "b609375e",
   "metadata": {},
   "outputs": [
    {
     "ename": "TypeError",
     "evalue": "transpose() received an invalid combination of arguments - got (int, int, int), but expected one of:\n * (int dim0, int dim1)\n * (name dim0, name dim1)\n",
     "output_type": "error",
     "traceback": [
      "\u001b[0;31m---------------------------------------------------------------------------\u001b[0m",
      "\u001b[0;31mTypeError\u001b[0m                                 Traceback (most recent call last)",
      "\u001b[0;32m/tmp/ipykernel_1036305/3593758727.py\u001b[0m in \u001b[0;36m<module>\u001b[0;34m\u001b[0m\n\u001b[0;32m----> 1\u001b[0;31m \u001b[0mtoken_embeddings\u001b[0m\u001b[0;34m.\u001b[0m\u001b[0mtranspose\u001b[0m\u001b[0;34m(\u001b[0m\u001b[0;36m1\u001b[0m\u001b[0;34m,\u001b[0m\u001b[0;36m0\u001b[0m\u001b[0;34m,\u001b[0m\u001b[0;36m2\u001b[0m\u001b[0;34m)\u001b[0m\u001b[0;34m\u001b[0m\u001b[0;34m\u001b[0m\u001b[0m\n\u001b[0m",
      "\u001b[0;31mTypeError\u001b[0m: transpose() received an invalid combination of arguments - got (int, int, int), but expected one of:\n * (int dim0, int dim1)\n * (name dim0, name dim1)\n"
     ]
    }
   ],
   "source": [
    "token_embeddings.transpose(1,0,2)"
   ]
  },
  {
   "cell_type": "code",
   "execution_count": 122,
   "id": "6301c637",
   "metadata": {
    "scrolled": true
   },
   "outputs": [
    {
     "data": {
      "text/plain": [
       "tensor([[[-0.2495,  0.1411,  0.3408, -0.1384, -0.1114, -0.1310, -0.4749,\n",
       "           0.2967,  0.0385,  0.7428],\n",
       "         [-0.1933,  0.6212,  0.6955,  0.3132, -0.6334,  0.1274,  0.2464,\n",
       "           0.0062,  0.6489, -0.0681]],\n",
       "\n",
       "        [[ 0.4559,  0.3059,  0.0520, -0.0938, -0.5694, -0.5282, -0.3077,\n",
       "           0.0982,  0.5768,  0.1572],\n",
       "         [ 0.3727,  0.4563,  0.1463, -0.2034, -0.5932, -0.2727, -0.5871,\n",
       "           0.5612,  0.5828,  0.4849]],\n",
       "\n",
       "        [[ 0.4340,  0.3374,  0.4522, -0.1372, -0.6896, -0.4655, -0.2838,\n",
       "           0.1896,  0.4805, -0.2464],\n",
       "         [-0.3124, -0.3364, -0.5678,  0.3728,  0.3359, -0.9287, -0.3578,\n",
       "          -0.7565, -0.1925,  0.5648]]], grad_fn=<StackBackward>)"
      ]
     },
     "execution_count": 122,
     "metadata": {},
     "output_type": "execute_result"
    }
   ],
   "source": [
    "(test(input_, h0))[0]"
   ]
  },
  {
   "cell_type": "code",
   "execution_count": 123,
   "id": "230a7479",
   "metadata": {},
   "outputs": [],
   "source": [
    "w_1=list(test.parameters())[0]\n",
    "w_2=list(test.parameters())[1]\n",
    "b_1=list(test.parameters())[2]\n",
    "b_2=list(test.parameters())[3]"
   ]
  },
  {
   "cell_type": "code",
   "execution_count": 124,
   "id": "d3f4ea39",
   "metadata": {},
   "outputs": [
    {
     "data": {
      "text/plain": [
       "tensor([ 0.1491,  0.3882,  0.2524,  0.1594, -0.4827, -0.1760, -0.1404, -0.1496,\n",
       "         0.4425,  0.2729], grad_fn=<AddBackward0>)"
      ]
     },
     "execution_count": 124,
     "metadata": {},
     "output_type": "execute_result"
    }
   ],
   "source": [
    "b_1 + b_2"
   ]
  },
  {
   "cell_type": "code",
   "execution_count": 125,
   "id": "60a7d661",
   "metadata": {},
   "outputs": [
    {
     "data": {
      "text/plain": [
       "tensor([[[ 0.4340,  0.3374,  0.4522, -0.1372, -0.6896, -0.4655, -0.2838,\n",
       "           0.1896,  0.4805, -0.2464],\n",
       "         [-0.3124, -0.3364, -0.5678,  0.3728,  0.3359, -0.9287, -0.3578,\n",
       "          -0.7565, -0.1925,  0.5648]]], grad_fn=<TanhBackward>)"
      ]
     },
     "execution_count": 125,
     "metadata": {},
     "output_type": "execute_result"
    }
   ],
   "source": [
    "h0 = torch.zeros(1,2,10)\n",
    "for i in range(3):\n",
    "    h0=torch.tanh((input_[i]@w_1.t()+b_1)+(h0@w_2.t()+b_2))\n",
    "h0"
   ]
  },
  {
   "cell_type": "code",
   "execution_count": 117,
   "id": "b78b5b59",
   "metadata": {},
   "outputs": [
    {
     "data": {
      "text/plain": [
       "tensor([[[ 0.1480,  0.3698,  0.2472,  0.1580, -0.4484, -0.1742, -0.1395,\n",
       "          -0.1485,  0.4157,  0.2664],\n",
       "         [ 0.1480,  0.3698,  0.2472,  0.1580, -0.4484, -0.1742, -0.1395,\n",
       "          -0.1485,  0.4157,  0.2664]]], grad_fn=<TanhBackward>)"
      ]
     },
     "execution_count": 117,
     "metadata": {},
     "output_type": "execute_result"
    }
   ],
   "source": [
    "h0 = torch.zeros(1,2,10)\n",
    "torch.tanh((input_[i]@w_1.t()+b_1)+(h0@w_2.t()+b_2))"
   ]
  },
  {
   "cell_type": "code",
   "execution_count": null,
   "id": "678d4778",
   "metadata": {},
   "outputs": [],
   "source": []
  }
 ],
 "metadata": {
  "kernelspec": {
   "display_name": "Python 3 (ipykernel)",
   "language": "python",
   "name": "python3"
  },
  "language_info": {
   "codemirror_mode": {
    "name": "ipython",
    "version": 3
   },
   "file_extension": ".py",
   "mimetype": "text/x-python",
   "name": "python",
   "nbconvert_exporter": "python",
   "pygments_lexer": "ipython3",
   "version": "3.7.11"
  }
 },
 "nbformat": 4,
 "nbformat_minor": 5
}
