{
 "cells": [
  {
   "cell_type": "markdown",
   "metadata": {},
   "source": [
    "# Jupyter Notebook \n",
    "\n",
    "Um den Einstieg in Neuronale Netzwerke noch leichter zu machen, benutzen wir ein sogenanntes *Notebook*. Ein Notebook erlaubt es uns Code einfacher zu strukturieren und leichter mit ihm zu interagieren. Ein wenig wie Microsoft Word uns hilft um Texte zu schreiben, hilft uns Jupyter Notebook Python Code zu schreiben.\n",
    "\n",
    "Python ist gehört zu den höheren Programmiersprachen. Höher bezieht sich auf die Nähe der Sprache zu der Sprache die Computer verstehen. Python ist relativ leicht für Menschen zu verstehen und zu schreiben. Niedrigere Sprachen sind schwerer zu verstehen und zu schrieben. Der Nachteil den Python durch seine *Höhe* erhält ist die deutlich langsamere Ausführung des Codes. Doch für viele nicht Informatiker, ist die Geschwindigkeit nicht essentiell für ihr Projekt. Python at sich über die Zeit hinweg als die Sprache für Machine Learning und KI etabliert. \n",
    "\n",
    "In einem Python Notebook gibt es zwei Arten von Zellen. In den einen steht normaler Text, so wie in dieser. In den anderen Zellen wird der tatsächliche Code geschrieben. Ihr könnt eine Code-Zelle mit Shift + Enter ausführen (wenn Ihr vorher in diese geklickt habt). Ausführen bedeutet, dass der Code der in dieser Zelle steht als Befehl zu Python gegeben wird. Ihr könnt auch mithilfe der Pfeiltasten durch das Notebook navigieren.\n"
   ]
  },
  {
   "cell_type": "code",
   "execution_count": 3,
   "metadata": {},
   "outputs": [
    {
     "data": {
      "text/plain": [
       "'Meine erste Zelle'"
      ]
     },
     "execution_count": 3,
     "metadata": {},
     "output_type": "execute_result"
    }
   ],
   "source": [
    "\"Meine erste Zelle\""
   ]
  },
  {
   "cell_type": "markdown",
   "metadata": {},
   "source": [
    "Sie können auch selber neue Zelle erstellen. Dafür klicken Sie oben auf Insert und dann auf entweder `Instert Cell Above` oder `Insert Cell Below`\n",
    "\n",
    "Das Notebook `Einführung Python.ipynb` geht in mehr Tief für jetzt können Sie mit der nächsten Zelle kontrollieren ob die Ordnerstruktur die richtige ist. "
   ]
  },
  {
   "cell_type": "code",
   "execution_count": null,
   "metadata": {},
   "outputs": [],
   "source": []
  }
 ],
 "metadata": {
  "kernelspec": {
   "display_name": "Python 3 (ipykernel)",
   "language": "python",
   "name": "python3"
  },
  "language_info": {
   "codemirror_mode": {
    "name": "ipython",
    "version": 3
   },
   "file_extension": ".py",
   "mimetype": "text/x-python",
   "name": "python",
   "nbconvert_exporter": "python",
   "pygments_lexer": "ipython3",
   "version": "3.7.11"
  }
 },
 "nbformat": 4,
 "nbformat_minor": 4
}
