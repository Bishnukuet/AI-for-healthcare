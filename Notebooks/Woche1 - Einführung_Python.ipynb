{
 "cells": [
  {
   "cell_type": "markdown",
   "metadata": {},
   "source": [
    "<center><img src=\"https://i0.wp.com/lightroastcomics.com/wp-content/uploads/2018/04/parselfingers.png?resize=600%2C612\" style=\"width: 400px;\"></center>\n",
    "<h8><center>Source: Light Roast Comics, http://lightroastcomics.com</center></h8>"
   ]
  },
  {
   "cell_type": "markdown",
   "metadata": {},
   "source": [
    "# Kurze Einführung in Python\n",
    "Bevor wir mit Python anfangen, erklären wir kurz, wie dieses Notebook funktioniert. Python ist eine relativ anfängerfreundliche Programmiersprache. Um den Einstieg noch leichter zu machen, benutzen wir ein sogenanntes *Notebook*. Ein Notebook erlaubt es uns Code einfacher zu strukturieren und leichter mit ihm zu interagieren. Ein wenig wie Microsoft Word uns hilft um Texte zu schreiben, hilft uns Jupyter Notebook Python Code zu schreiben.\n",
    "\n",
    "In einem Python Notebook gibt es zwei Arten von Zellen. In den einen steht normaler Text, so wie in dieser. In den anderen Zellen wird der tatsächliche Code geschrieben. Ihr könnt eine Code-Zelle mit Shift + Enter ausführen (wenn Ihr vorher in diese geklickt habt). Ausführen bedeutet, dass der Code der in dieser Zelle steht als Befehl zu Python gegeben wird. Ihr könnt auch mithilfe der Pfeiltasten durch das Notebook navigieren.\n",
    "\n",
    "**Wichtig:**\n",
    "Informationen, die in einer Zelle gespeichert oder erstellt werden, sind auch für die nächsten Zellen verfügbar, die ihr ausführt."
   ]
  },
  {
   "cell_type": "markdown",
   "metadata": {},
   "source": [
    "## 1. Print()\n",
    "\n",
    "Eine der wichtigsten Funktionen von Python ist die <code>print()</code>-Funktion. Mit ihr kann man Dinge in die Console \"drucken\", und somit sichtbar machen. Es wird immer das gedruckt was innerhalb der <code>()</code> steht."
   ]
  },
  {
   "cell_type": "code",
   "execution_count": 1,
   "metadata": {},
   "outputs": [
    {
     "name": "stdout",
     "output_type": "stream",
     "text": [
      "Hallo\n"
     ]
    }
   ],
   "source": [
    "print(\"Hallo\")"
   ]
  },
  {
   "cell_type": "markdown",
   "metadata": {},
   "source": [
    "Einfachheitshalber druckt das Python Notebook die letzte Zeile einer Zelle automatisch. Auch ohne die <code>print()</code>-Funktion.\n",
    "\n",
    "`#` die Raute (oder auch Hashtag) erlaubt es euch Kommentare in den Code zu schreiben. Diese werden von Python ignoriert."
   ]
  },
  {
   "cell_type": "code",
   "execution_count": 11,
   "metadata": {},
   "outputs": [
    {
     "data": {
      "text/plain": [
       "'Welt'"
      ]
     },
     "execution_count": 11,
     "metadata": {},
     "output_type": "execute_result"
    }
   ],
   "source": [
    "\"Hallo\"  # die erste Zeile wird nicht mit gedruckt es sei denn man benutzt ein print statement\n",
    "\"Welt\""
   ]
  },
  {
   "cell_type": "markdown",
   "metadata": {},
   "source": [
    "Wenn man Text printen will ist es wichtig, dass dieser in <code>\" \"</code> steht. <code>\" \"</code> lässt Python wissen, dass es sich hierbei um einfachen Text handelt. Ein Wort das in <code>\" \"</code> wird als <code>string</code> bezeichnet\n",
    "\n",
    "Ohne die <code>\" \"</code> passiert folgendes:\n"
   ]
  },
  {
   "cell_type": "code",
   "execution_count": 12,
   "metadata": {},
   "outputs": [
    {
     "ename": "NameError",
     "evalue": "name 'Hallo' is not defined",
     "output_type": "error",
     "traceback": [
      "\u001b[1;31m---------------------------------------------------------------------------\u001b[0m",
      "\u001b[1;31mNameError\u001b[0m                                 Traceback (most recent call last)",
      "\u001b[1;32m<ipython-input-12-6ce3fe1479a1>\u001b[0m in \u001b[0;36m<module>\u001b[1;34m\u001b[0m\n\u001b[1;32m----> 1\u001b[1;33m \u001b[0mHallo\u001b[0m\u001b[1;33m\u001b[0m\u001b[1;33m\u001b[0m\u001b[0m\n\u001b[0m",
      "\u001b[1;31mNameError\u001b[0m: name 'Hallo' is not defined"
     ]
    }
   ],
   "source": [
    "Hallo"
   ]
  },
  {
   "cell_type": "markdown",
   "metadata": {},
   "source": [
    "<center><img src=\"https://tenor.com/view/monkey-pissed-mad-angry-furious-gif-4720563.gif\"></center>"
   ]
  },
  {
   "cell_type": "markdown",
   "metadata": {},
   "source": [
    "## 2. Variablen\n",
    "\n",
    "\n",
    "Ihre erste Fehlermeldung :) Wir können diese aber schnell beheben. <br>\n",
    "<code>Hallo</code> ist nicht definiert. Dieser Fehler erscheint, da jetzt der <code>string</code> nicht mehr von Python als `string` erkannt wird. <br> Wörter oder auch Buchstaben die nicht in <code>\" \"</code> stehen, sind **Variablen**. Diese müssen vorher definiert werden. Varibalen können Zahlen, <code>strings</code> oder auch Listen enthalten. Wir definieren einr Variable durch <code>=</code>.\n",
    "\n",
    "Zum Beispiel:"
   ]
  },
  {
   "cell_type": "code",
   "execution_count": null,
   "metadata": {},
   "outputs": [],
   "source": [
    "x = \"Hallo\"\n",
    "print(x)"
   ]
  },
  {
   "cell_type": "markdown",
   "metadata": {},
   "source": [
    "<code>x</code> enthält nun den <code>string</code> <code>\"Hallo\"</code>.   \n",
    "Der Inhalt von <code>x</code> wird auch noch für die nächsten Zellen gespeichert. \n",
    "Wenn Sie `x` neu definieren, also einen neuen Wert geben, dann wird der alte Wert überschrieben."
   ]
  },
  {
   "cell_type": "code",
   "execution_count": null,
   "metadata": {},
   "outputs": [],
   "source": [
    "print(\"Das ist der alte Inhalt von x:\")\n",
    "print(x)\n",
    "\n",
    "\n",
    "x = 1\n",
    "print(\"\\nDas ist der neue Wert von x: \")\n",
    "print(x)"
   ]
  },
  {
   "cell_type": "markdown",
   "metadata": {},
   "source": [
    "Wie Sie sehen können, können Variablen auch Zahlen beinhalten. \n",
    "Ganze Zahlen wie <code>1</code> bezeichnet man als <code>integers</code> und Zahlen mit Nachkommastellen als <code>floats</code>.\n",
    "Mathematische Operation wie plus, minus, mal, und geteilt (<code>+</code>,<code>-</code>,<code>*</code>,<code>/</code>) funtionieren genauso wie bei einem Taschenrechner:\n"
   ]
  },
  {
   "cell_type": "code",
   "execution_count": null,
   "metadata": {},
   "outputs": [],
   "source": [
    "print(\"5 + 2 ist gleich\")\n",
    "print(5 + 2)\n",
    "\n",
    "\n",
    "print(\"5 - 2 ist gleich\")\n",
    "print(5 - 2)\n",
    "\n",
    "\n",
    "print(\"5 * 2 ist gleich\")\n",
    "print(5 * 2)\n",
    "\n",
    "\n",
    "print(\"1 / 2 ist gleich\")\n",
    "print(5 / 2)"
   ]
  },
  {
   "cell_type": "markdown",
   "metadata": {},
   "source": [
    "Die gleichen Operationen funktionieren auch mit Variablen, solange diese <code>floats</code> oder <code>integers</code> beinhalten"
   ]
  },
  {
   "cell_type": "code",
   "execution_count": null,
   "metadata": {},
   "outputs": [],
   "source": [
    "x = 5\n",
    "y = 2\n",
    "\n",
    "print(x + y)\n",
    "print(x - y)\n",
    "print(x * y)\n",
    "print(x / y)"
   ]
  },
  {
   "cell_type": "markdown",
   "metadata": {},
   "source": [
    "### 2.1 Booleans\n",
    "\n",
    "Booleans ist eine weitere Art von Variable. Booleans sind entweder `True`  oder `False`. Wir können Booleans benutzen um Werte zu vergleichen:"
   ]
  },
  {
   "cell_type": "code",
   "execution_count": null,
   "metadata": {},
   "outputs": [],
   "source": [
    "5==5"
   ]
  },
  {
   "cell_type": "markdown",
   "metadata": {},
   "source": [
    "Wie Sie sehen können, wird `==` benutzt um Werte zu vergleichen. Das einfache `=` ist ja schon vergeben, um Variablen Werte zu zuordnen.\n",
    "`==` schaut ob zwei Werte identisch sind.<br> `!=` prüft ob zwei Werte ungleich sind. `>` und `<` funktionieren so wie in der Mathematik.\n",
    "\n",
    "Man kann auch mit Booleans rechnen:"
   ]
  },
  {
   "cell_type": "code",
   "execution_count": null,
   "metadata": {},
   "outputs": [],
   "source": [
    "True + True"
   ]
  },
  {
   "cell_type": "markdown",
   "metadata": {},
   "source": [
    "Das ist nicht besonders, soll aber zeigen das dem Boolean `True` der Wert `1` zugeordnet ist und `False` der Wert `0`. Wir können das auch überprüfen:"
   ]
  },
  {
   "cell_type": "code",
   "execution_count": null,
   "metadata": {},
   "outputs": [],
   "source": [
    "1==True "
   ]
  },
  {
   "cell_type": "markdown",
   "metadata": {},
   "source": [
    "Wir können `Strings` und auch direkt Variablen vergleichen:"
   ]
  },
  {
   "cell_type": "code",
   "execution_count": null,
   "metadata": {},
   "outputs": [],
   "source": [
    "\"Hallo\" == \"Hallo\""
   ]
  },
  {
   "cell_type": "code",
   "execution_count": 14,
   "metadata": {},
   "outputs": [
    {
     "data": {
      "text/plain": [
       "False"
      ]
     },
     "execution_count": 14,
     "metadata": {},
     "output_type": "execute_result"
    }
   ],
   "source": [
    "x= 5\n",
    "y= 8\n",
    "x==y"
   ]
  },
  {
   "cell_type": "markdown",
   "metadata": {},
   "source": [
    "### 2.2 Listen\n",
    "\n",
    "Neben <code>strings</code>,<code>integers</code> und <code>floats</code> gibt es auch Listen. Listen können mehrere Werte beinhalten und werden mit <code>[]</code> erstellt:\n",
    "\n",
    "<code>x = [2,4,6,8]</code>\n",
    "\n",
    "<code>x</code> würde jetzt eine Liste mit den Werten 2,4,6,8 sein. Listen können eine Kombination aus <code>strings</code>,<code>integers</code> und <code>floats </code> beinhalten. Sogar Listen können in Listen gespeichert werden."
   ]
  },
  {
   "cell_type": "code",
   "execution_count": null,
   "metadata": {},
   "outputs": [],
   "source": [
    "liste1 = [2, 4, 6, 8]\n",
    "liste1"
   ]
  },
  {
   "cell_type": "code",
   "execution_count": null,
   "metadata": {},
   "outputs": [],
   "source": [
    "liste2 = [\"Hallo\", 2, 0.6]\n",
    "liste2"
   ]
  },
  {
   "cell_type": "code",
   "execution_count": null,
   "metadata": {},
   "outputs": [],
   "source": [
    "liste3 = [5, \"Welt\", liste2]\n",
    "liste3"
   ]
  },
  {
   "cell_type": "markdown",
   "metadata": {},
   "source": [
    "Wenn Sie wissen wollen, wie viele Elemente in einer List sind, können Sie die <code>len()</code> Funktion benutzen:\n"
   ]
  },
  {
   "cell_type": "code",
   "execution_count": null,
   "metadata": {},
   "outputs": [],
   "source": [
    "len(liste3)"
   ]
  },
  {
   "cell_type": "markdown",
   "metadata": {},
   "source": [
    "Sie sehen die Länge der `liste3` ist 3. \n",
    "Hierbei werden die Elemente nicht mitgezählt, die in sich in `liste2` befinden. Die Liste gilt somit als ein einzelnes Element.  "
   ]
  },
  {
   "cell_type": "markdown",
   "metadata": {},
   "source": [
    "## 3. Indizierung\n",
    "\n",
    "\n",
    "Nicht nur bei Rappern muss die Indizierung stimmen.<br>\n",
    "In Python beschreibt ein Index die Position eines Wert innerhalb einer Variable, z.B. einer Liste.\n",
    "\n",
    "Wenn Sie wissen wollen, welcher Wert an zweiter Position in einer List ist, können Sie den Index benutzen, um genau diesen Wert zu erhalten.\n",
    "Um einen Index zu verwenden, brauchen Sie wieder die `[]`. Diesmal aber nicht beim definieren einer Variable, sondern in Kombination mit der Variable.\n",
    "So würde Ihnen `x[0]` das erste Element der Variable `x` geben.\n",
    "\n",
    "**Wichtig:**\n",
    "\n",
    "Die Indizierung fängt in Python bei <code>0</code> an. Das heißt, der erste Wert in der List hat den Index <code>0</code>. "
   ]
  },
  {
   "cell_type": "code",
   "execution_count": null,
   "metadata": {},
   "outputs": [],
   "source": [
    "Tiere = [\"Löwe\", \"Elephant\", \"Fuchs\", \"Wal\", \"Pferd\",\"Steinbock\", \"Ameise\"]\n",
    "Tiere[3]"
   ]
  },
  {
   "cell_type": "markdown",
   "metadata": {},
   "source": [
    "Sie können auch mehrere Werte aus einer Liste beziehen. Dafür brauchen Sie den Doppelpunkt `:`.\n",
    "\n",
    "* `x[:5]` Die ersten fünf Werte der Liste `x` werden ausgewählt. Behaltez im Kopf, dasd der Index `5` dem sechten Element in der Liste zugeordnet ist. Das sechste Element wird nicht mehr ausgegeben. In Python wird der Index, der das obere Limit festlegt, selber nicht mehr mit genommen.\n",
    "\n",
    "* `x[2:5]` Hier werden die Elemente an dritter, vierter und fünfter Position ausgewählt\n",
    "\n",
    "* `x[5:]`  So werden alle Elemente ab dem sechsten bis zum Ende der Liste ausgewählt \n",
    "\n",
    "* `x[-1]`  wählt das letzte Element in der Liste aus\n",
    "\n",
    "* `x[-2]`  das vorletzte  \n"
   ]
  },
  {
   "cell_type": "code",
   "execution_count": 15,
   "metadata": {},
   "outputs": [],
   "source": [
    "x = [1, 2, 3, 4, 5, 6, 7, 8, 9]"
   ]
  },
  {
   "cell_type": "code",
   "execution_count": 16,
   "metadata": {},
   "outputs": [
    {
     "data": {
      "text/plain": [
       "[1, 2, 3, 4, 5]"
      ]
     },
     "execution_count": 16,
     "metadata": {},
     "output_type": "execute_result"
    }
   ],
   "source": [
    "x[0:5]  # wie Sie nochmals sehen können: der Index 5 referenziert den sechsten Wert, wird aber nicht mit ausgegeben"
   ]
  },
  {
   "cell_type": "code",
   "execution_count": 17,
   "metadata": {},
   "outputs": [
    {
     "data": {
      "text/plain": [
       "[3, 4, 5]"
      ]
     },
     "execution_count": 17,
     "metadata": {},
     "output_type": "execute_result"
    }
   ],
   "source": [
    "x[2:5]"
   ]
  },
  {
   "cell_type": "code",
   "execution_count": 18,
   "metadata": {},
   "outputs": [
    {
     "data": {
      "text/plain": [
       "[6, 7, 8, 9]"
      ]
     },
     "execution_count": 18,
     "metadata": {},
     "output_type": "execute_result"
    }
   ],
   "source": [
    "x[5:]"
   ]
  },
  {
   "cell_type": "code",
   "execution_count": 19,
   "metadata": {},
   "outputs": [
    {
     "data": {
      "text/plain": [
       "9"
      ]
     },
     "execution_count": 19,
     "metadata": {},
     "output_type": "execute_result"
    }
   ],
   "source": [
    "x[-1]"
   ]
  },
  {
   "cell_type": "markdown",
   "metadata": {},
   "source": [
    "Sie können auch Werte zu einer bestehenden Liste hinzufügen: `x.append(10)` so wird die Zahl `10` an das Ende der Liste angefügt."
   ]
  },
  {
   "cell_type": "code",
   "execution_count": null,
   "metadata": {},
   "outputs": [],
   "source": [
    "x.append(10)\n",
    "x"
   ]
  },
  {
   "cell_type": "markdown",
   "metadata": {},
   "source": [
    "## 4. For-Loop\n",
    "\n",
    "Die meisten Dinge, die Sie bis jetzt gemacht haben, könnten Sie auch selber in einem Taschenrechner machen. Der **For-loop**, ist das erste was uns neue und effiziente Möglichkeiten gibt.\n",
    "\n",
    "Ein for-loop wird benutzt um einen Befehl wiederholt auszuführen. Dardurch müssen Sie den selben Befehl nicht ständig selber schreiben."
   ]
  },
  {
   "cell_type": "code",
   "execution_count": null,
   "metadata": {},
   "outputs": [],
   "source": [
    "for i in range(5):\n",
    "    print(\"Hallo Welt\")"
   ]
  },
  {
   "cell_type": "markdown",
   "metadata": {},
   "source": [
    "Anstatt selber fünf mal den `print` Befehl zu schreiben, macht der for-loop das für Sie.<br>\n",
    "Wirklich nützlich wird es erst, wenn Sie ein und den selben Befehl für die Elemente in einer Liste ausführen wollen.\n",
    "`in range(5)` schreibt dem Loop vor, dass die Variable `i` alle Werte von 0 bis 5 (5 aber ausgeschlossen) annehmen soll."
   ]
  },
  {
   "cell_type": "code",
   "execution_count": null,
   "metadata": {},
   "outputs": [],
   "source": [
    "for i in range(5):\n",
    "    print(i)"
   ]
  },
  {
   "cell_type": "markdown",
   "metadata": {},
   "source": [
    "Angenommen, Sie haben die Werte `x=[1,2,3,4,5,6,7,8,9]` und wollen das Quadrat (in Python `**`) für jeden der Werte errechnen. Dann können Sie den for-loop benutzen um über die Liste `x` zu *loopen*. Es gibt verschiedene Methoden einen for-loop zu schreiben, am Ende machen sie aber das gleiche."
   ]
  },
  {
   "cell_type": "code",
   "execution_count": null,
   "metadata": {},
   "outputs": [],
   "source": [
    "x = [1, 2, 3, 4, 5, 6, 7, 8, 9]\n",
    "\n",
    "for element in x:\n",
    "    print(element ** 2)\n",
    "    \n",
    "print(\"\\n Alternativ: \\n\")\n",
    "\n",
    "#Oder alternativ können wir i Werte von 0 bis 8 annehmen lassen und an Hand des Index die Elemente in x auswählen.\n",
    "\n",
    "for i in range(len(x)):\n",
    "    print(x[i]**2)"
   ]
  },
  {
   "cell_type": "markdown",
   "metadata": {},
   "source": [
    "Das `for` leitet den loop ein. Das `element` ist der Name für ein neue Variable die nur in diesem for-loop existiert (Ihr könnt ihr auch irgendeinen anderen Name geben). Das `in` \"sagt\" Python, dass die darauf folgende Variable die Variable ist, über die es zu Loopen hat: in diesem Fall `x`. Python erkennt, dass es den Befehl innerhalb des for-loops für jedes Element in `x` auszuführen hat. Am Ende der ersten Zeile vom for-loop muss immer ein `:` stehen.\n",
    "\n",
    "Auch ist zu beachten, dass der Befehl innnerhalb des for-loops eingerückt ist. Das ist wichtig um Python zu zeigen was innerhalb des for-loops passieren soll. Etwa, das nach dem for-loop aber nicht innerhalb des for-loop statt finden soll, wird dann wieder ohne Einrückung (*Indent* genannt) geschrieben. Ein Indent sind vier Leerzeichen, oder einmal auf die 'Tab' Taste drücken. "
   ]
  },
  {
   "cell_type": "markdown",
   "metadata": {},
   "source": [
    "## 5. Numpy\n",
    "\n",
    "Python an sich hat nur eine limitierte Anzahl an Funktionen, die Sie benutzen können. Viele nützliche Funktionen müssen erst extra geladen werden. Dies wird durch das Importieren von Bibliotheken (\"Libraries\") gemacht.\n",
    "Eine der wichtigsten und meist genutzen Libraries ist `numpy`. Wie der Name vermutent lässt, fokussiert sich `numpy` auf numerische Rechnungen. Vor allem Funktionen, die für Lineare Algebra und Statistik wichtig sind, sind hier zu finden.\n",
    "Wichtig für Sie ist vor allem die Klasse der `arrays`, die durch `numpy` hinzugefügt werden. \n",
    "\n",
    "Ein `array` erlaubt Ihnen auch mehrere Werte in einer Variablen zu speichern. Anders als in einer Liste, können hier die Werte auf zwei Dimensionen angeordnet werden, wie in einer Tabelle oder einer Matrix:\n",
    "\n",
    "<center><img src=\"https://upload.wikimedia.org/wikipedia/commons/b/bf/Matris.png\" style=\"width: 400px;\"></center>\n",
    "<h8><center>Fig. 4: Svjo, Wikimedia</center></h8>\n",
    "\n",
    "\n",
    "\n",
    "Tatsächlich kann man auch 3D und 4D `arrays `mit `numpy` benutzen, für Ihre Zweck reichen aber 2 Dimensionen. <br>\n",
    "**Wichtig:** Arrays, anders als Listen, können nur Zahlen oder nur `strings` enthalten aber nicht beides.\n",
    "\n",
    "\n",
    " So lädt man `numpy`:`import numpy` der Zusatz `as np` erlaubt es Ihnen später im Code `np` anstatt `numpy` zu schreiben):"
   ]
  },
  {
   "cell_type": "code",
   "execution_count": null,
   "metadata": {},
   "outputs": [],
   "source": [
    "import numpy as np"
   ]
  },
  {
   "cell_type": "code",
   "execution_count": null,
   "metadata": {},
   "outputs": [],
   "source": [
    "mein_erstes_array = np.array([[1, 2, 3],\n",
    "                              [4, 5, 6],\n",
    "                              [7, 8, 9]])  # jetzt schreiben wir np, damit klar ist, dasd wir eine Funktion von Numpy meinen\n",
    "print(mein_erstes_array)"
   ]
  },
  {
   "cell_type": "markdown",
   "metadata": {},
   "source": [
    "Wenn Sie genau hinschauen, sehen Sie, dass  `np.array([[1,2,3],[4,5,6],[7,8,9]])` eine Liste ist, die drei Listen enthält `[[1,2,3],[4,5,6],[7,8,9]]`. Numpy \"klebt\" quasi die zweite Liste unter die erste (usw.) und schafft so eine Matrix oder auch `array` genannt.\n",
    "\n",
    "Wenn Sie wissen wollen, wie groß ein `array` ist, können Sie `x.shape` benutzen."
   ]
  },
  {
   "cell_type": "code",
   "execution_count": null,
   "metadata": {},
   "outputs": [],
   "source": [
    "mein_erstes_array.shape"
   ]
  },
  {
   "cell_type": "markdown",
   "metadata": {},
   "source": [
    "Sie können auch Arrays indizieren:`array[Reihe,Spalte]`. In einem Array können die Reihen und Spalten ausgewwählt werden:\n",
    "- `array[1,3]` gibt uns das Element, das sich in der vierten Spalte und zweiten Reihe befindet\n",
    "- `array[:,0]` gibt uns die komplette erste Spalte\n",
    "- `array[5,:]` gibt uns die 6 Reihe \n",
    "- `array[2:5,0:3]`wählt alle Elemente aus, die in der dritten und fünften Reihe und auch in der ersten bis dritten Spalte sind"
   ]
  },
  {
   "cell_type": "code",
   "execution_count": null,
   "metadata": {},
   "outputs": [],
   "source": [
    "mein_erstes_array[0:2,0:2]"
   ]
  },
  {
   "cell_type": "markdown",
   "metadata": {},
   "source": [
    "### Matrizenmultiplikation\n",
    "\n",
    "\n"
   ]
  },
  {
   "cell_type": "code",
   "execution_count": null,
   "metadata": {},
   "outputs": [],
   "source": [
    "X = np.array([[1,3,-5],\n",
    "              [2,0,1]])\n",
    "\n",
    "W = np.array([[4,-2,-1],\n",
    "              [6,0,-2],\n",
    "              [1,0,3],\n",
    "              [0,0,-1],\n",
    "              [1,2,-1]])\n",
    "X*W"
   ]
  },
  {
   "cell_type": "markdown",
   "metadata": {},
   "source": [
    "Die Multiplikation der beiden Matrizen funktioniert nicht. In der Error Nachricht können Sie sehen, dass die erste Matrix eine `(2,3)` Matrix ist: Also 2 Reihen und 3 Spalten hat. Die zweite Matrix ist eine `(5,\n",
    "3)` Matrix. Um zwei Matrizen zu multiplizieren, müssen die Anzahl der Spalten der ersten Matrix mit der Anzahl der Reihen der zweiten Matrix übereinstimmen. Sie können `.transpose()` am Ende des Arrays benutzen um das Transpose von `W` zu bekommen:"
   ]
  },
  {
   "cell_type": "code",
   "execution_count": null,
   "metadata": {},
   "outputs": [],
   "source": [
    "X*W.transpose()"
   ]
  },
  {
   "cell_type": "markdown",
   "metadata": {},
   "source": [
    "**Funktioniert immer noch nicht ob wohl jetzt die Spalten und Reihen übereinstimmen.**\n",
    "\n",
    "Das Problem ist das `*` in Numpy nicht für Matrixmultiplikation benutzt werden kann. `*` wird benutzt um das Hadamard-Produkt/komponentenweises Produkt zweier Matrizen auszurechnen.<br>\n",
    "<center><img src=\"https://3.bp.blogspot.com/-CL15QzGDtMQ/WywZSeYQJ-I/AAAAAAAASug/EmriaQF57yIBJ9STd7FAnep-fxgKjhl1QCLcBGAs/s640/Hadamard_0.png\" style=\"width: 800px;\"></center>\n",
    "<h8><center>Fig. 5: HodentekHelp.com </center></h8>\n",
    "\n",
    "\n",
    "Um eine klassische Matrixmultiplikation zu benutzen wir `np.matmul(X,W.transpose())`.  "
   ]
  },
  {
   "cell_type": "code",
   "execution_count": null,
   "metadata": {},
   "outputs": [],
   "source": [
    "np.matmul(X,W.transpose())"
   ]
  },
  {
   "cell_type": "markdown",
   "metadata": {},
   "source": [
    "So funktionert endlich die Matrixmultiplikation mit Numpy:\n",
    "\n",
    "Sie können auch einen Vektor `b` erstellen, den wir nach der Multiplikation addieren. Hierbei müssen Sie auf nichts besonderes achten. Damit haben Sie schon die lineare Transformation in einem Neuronalen Netzwerk. "
   ]
  },
  {
   "cell_type": "code",
   "execution_count": null,
   "metadata": {},
   "outputs": [],
   "source": [
    "b = np.array([1,2,0,3,-1])\n",
    "np.matmul(X,W.transpose()) + b"
   ]
  },
  {
   "cell_type": "markdown",
   "metadata": {},
   "source": [
    "## 6. Funktionen\n",
    "\n",
    "Funktionen sind das A und O im programmieren. Ähnlich wie in der Mathematik haben Funktionen einen Input und geben einen neuen transformierten Wert aus: $f(x)= x^2$ -> $f(3) =9$.\n",
    "\n",
    "Sie haben mit numpy schon ein paar Funktionen benutzt: So nimmt zum Beispiel `np.array()` als Input eine Liste und als Output einen Array.<br>\n",
    "`np.matmul()` hat als Input zwei Matrizen, die durch ein Komma getrennt werden. Als Output gibt es eine Matrix die das Produkt der bei Input-Matrizen ist.\n",
    "\n",
    "Sie können auch unsere eigenen Funktionen schreiben, dazu müssen Sie in Python erst deklarieren, dass Sie eine Funktion erstellen wollen. Dafür gebrauchen Sie das Wort `def`, um eine Funktion zu definieren."
   ]
  },
  {
   "cell_type": "code",
   "execution_count": null,
   "metadata": {},
   "outputs": [],
   "source": [
    "def quadrat(x):\n",
    "    return x**2\n",
    "\n",
    "quadrat(4)"
   ]
  },
  {
   "cell_type": "markdown",
   "metadata": {},
   "source": [
    "Nach dem `def` können Sie der Funktion einen Namen geben, und innerhalb dieser können Sie dann die Platzhaltervariablen definieren. Als letzes folgt der Doppelpunkt. Nach dem Doppelpunkt wird die eigentlich Funktion geschrieben (dass, was die Funktion machen soll). Wichtig ist hierbei, dass alles was in der Funktion passieren soll 4 Leerzeichen (1 Tab) eingschoben ist. Jupyter macht das für Sie automatisch. Als letztes folgt das `return` Statement, was darauf folgt wird als Output wieder heraus gegeben.\n",
    "\n",
    "Funktionen können mehrere Inputs als auch Outputs haben:"
   ]
  },
  {
   "cell_type": "code",
   "execution_count": null,
   "metadata": {},
   "outputs": [],
   "source": [
    "def power(x,b):\n",
    "    x_hoch_b =x**b\n",
    "    b_hoch_x =b**x\n",
    "    return x_hoch_b, b_hoch_x\n",
    "\n",
    "power(x=4,b=5)"
   ]
  },
  {
   "cell_type": "markdown",
   "metadata": {},
   "source": [
    "Sie können den Output der Funktion auch direkt Variablen zuordnen"
   ]
  },
  {
   "cell_type": "code",
   "execution_count": null,
   "metadata": {},
   "outputs": [],
   "source": [
    "x,y=power(4,5) # wie man hier sieht erkennt python automatisch welche x und b wird\n",
    "          \n",
    "print(x, y)"
   ]
  },
  {
   "cell_type": "code",
   "execution_count": null,
   "metadata": {},
   "outputs": [],
   "source": [
    "print(x_hoch_b)"
   ]
  },
  {
   "cell_type": "markdown",
   "metadata": {},
   "source": [
    "In der letzten Zellen haben Sie versucht `x_hoch_b` in der Konsole auszugeben (`print(x_hoch_b)`). Die funktioniert aber nicht, da Variablen die innerhalb eine Funktion definiert werden, nur innerhalb der Funktion \"leben\" und nicht im *global scope* existieren. Alle Variablen, die Sie nach einer Funktion benutzen wollen, müssen Sie mit dem `return` Statment in neue Variable speichern. \n",
    "\n",
    "Man kann auch Funktionen innerhalb von Fuktionen benutzen, dies erlaubt es Ihnen schnell aus einfachen Funktionen komplexere zu schreiben:"
   ]
  },
  {
   "cell_type": "code",
   "execution_count": null,
   "metadata": {},
   "outputs": [],
   "source": [
    "def forward(x,w,b):\n",
    "    z_1 = np.matmul(x, w.transpose()) + b # die numpy funktion matmul wird innerhalb der neuen Funktion benutzt\n",
    "    return(z_1)\n",
    "\n",
    "forward(x=X, w=W, b=b)"
   ]
  },
  {
   "cell_type": "markdown",
   "metadata": {},
   "source": [
    "Damit hätten wir schon einen Teil der Neuronalen Netzwerke"
   ]
  },
  {
   "cell_type": "markdown",
   "metadata": {},
   "source": [
    "Als letztes ist noch wichtig zu beachten, dass es optionale Inputvariablen gibt. Diese ermöglichen es Funktionen besser zu strukturieren:"
   ]
  },
  {
   "cell_type": "code",
   "execution_count": null,
   "metadata": {},
   "outputs": [],
   "source": [
    "def wurzel(x,b=2):\n",
    "    return x**(1/b)\n",
    "wurzel(x=4)"
   ]
  },
  {
   "cell_type": "markdown",
   "metadata": {},
   "source": [
    "Wie Sie sehen können haben Sie `b` schon in der Definition der Funktion den Wert `2` zugeordnet. Das heißt, `2` ist der `default` Wert für `b`. Wenn Sie die Funktion, benutze ohne `b` zu definieren, wird automatisch `b` gleich zwei gesetzt. Wenn ich aber `b=4` beim aufrufen der Funktion hinzufüge, wird mit `b=4`in der Funktion gerechnet. \n",
    "\n",
    "Das benutzen von defaults, also optionalen Variablen, macht das Benutzen von Funktionen einfacher und übersichtlicher:"
   ]
  },
  {
   "cell_type": "code",
   "execution_count": null,
   "metadata": {},
   "outputs": [],
   "source": [
    "wurzel(x=4,b=4)"
   ]
  },
  {
   "cell_type": "markdown",
   "metadata": {},
   "source": [
    "# Aufgaben\n",
    "\n",
    "### 1. Celsius zu Fahrenheit\n",
    "Schreiben Sie eine Funktion die Celsius in Fahrenheit umrechnet. Die Formel dafür lautet $°F= °C \\cdot 1.8 + 32$"
   ]
  },
  {
   "cell_type": "code",
   "execution_count": null,
   "metadata": {},
   "outputs": [],
   "source": [
    "# Schreiben hier eure Funktion"
   ]
  },
  {
   "cell_type": "markdown",
   "metadata": {},
   "source": [
    "<details>\n",
    "<summary>Lösung</summary>\n",
    "\n",
    "```python\n",
    "def c_to_f(celsius):\n",
    "    return celsius*1.8 + 32\n",
    "```   \n",
    "</details>"
   ]
  },
  {
   "cell_type": "markdown",
   "metadata": {},
   "source": [
    "### 2. Fibonacci Folge\n",
    "<center><img src=\"https://ichef.bbci.co.uk/images/ic/1200x675/p01gmtz6.jpg\" style=\"width: 600px;\"></center>\n",
    "<h8><center>Fig. 5: BBC.com </center></h8>\n",
    "\n",
    " Die Fibonnaci Folge ist eine Zahlenreihe, in der die nächste Zahl die Summe der letzten zwei Zahlen ist:\n",
    " \n",
    " https://de.wikipedia.org/wiki/Fibonacci-Folge\n",
    " \n",
    " Schreiben Sie ein Programm, dass die ersten 15 Zahlen in der Fibonnaci Folge ausgibt\n",
    " \n",
    " Schon vorgegeben ist die Liste `fib`, die die Zahlen `0,1` enthält. Fügt an diese Liste die nächsten Werte an.\n",
    " \n",
    "<details>\n",
    "<summary>Tipp 1</summary>\n",
    "Sie können .append() benutzen um Zahlen an Listen zu hängen\n",
    "</details>\n",
    "\n",
    "<details>\n",
    "<summary>Tipp 2</summary>\n",
    "Mit [-1] können Sie das letzte Element einer Liste auswählen.\n",
    "</details>\n"
   ]
  },
  {
   "cell_type": "code",
   "execution_count": null,
   "metadata": {},
   "outputs": [],
   "source": []
  },
  {
   "cell_type": "code",
   "execution_count": null,
   "metadata": {},
   "outputs": [],
   "source": [
    "fib = [0,1] \n",
    "# hier sollte Ihre Lösung stehen "
   ]
  },
  {
   "cell_type": "markdown",
   "metadata": {},
   "source": [
    "<details>\n",
    "<summary>Lösung</summary>\n",
    "\n",
    "```python\n",
    "for i in range(14):\n",
    "    fib.append(fib[-1]+fib[-2])\n",
    "    print(fib)\n",
    "```\n",
    "</details>"
   ]
  },
  {
   "cell_type": "markdown",
   "metadata": {},
   "source": [
    "### 3. Summe der Matrixdiagonalen\n",
    " \n",
    " \n",
    "Berechnen Sie die Summe der Diagonalen der Matrix A und Matrix B mit einem for-loop.\n",
    "\n",
    "Die Diagonale einer Matrix sind die Werte, die in der \"Mitte\" einer Matrix liegt. Im Beispiel ist die Diagonale etwas kräftiger markiert. \n",
    "\n",
    "$\\begin{bmatrix}\\textbf{1} & 2 & 3 \\\\\n",
    "4&\\textbf{5}&6\\\\\n",
    "7&8&\\textbf{9}\\end{bmatrix}$\n",
    "\n",
    "In dem Beispiel $1+5+9 =15$\n",
    "\n",
    "<details>\n",
    "<summary>Tipp 1</summary>\n",
    "    <code>x =x+1</code> addiert 1 zu x\n",
    "</details>\n",
    "\n",
    "\n",
    "<details>\n",
    "<summary>Tipp 2</summary>\n",
    "    <code>x[1,1]</code> wählt das Element in der ersten Reihe und Spalte aus\n",
    "</details>\n"
   ]
  },
  {
   "cell_type": "code",
   "execution_count": null,
   "metadata": {},
   "outputs": [],
   "source": [
    "A = np.array([[12,45,13,85],\n",
    "              [11,4,43,23],\n",
    "             [78,22,0.5,65],\n",
    "             [154,11,57,1]])\n",
    "print(A)\n",
    "\n",
    "\n",
    "\n",
    "B = np.array([[0.96359314, 0.42621368, 0.10821601, 0.6852424 ],\n",
    "       [0.23945833, 0.30840861, 0.25658861, 0.63431993],\n",
    "       [0.16603427, 0.40061208, 0.2790935 , 0.94613278],\n",
    "       [0.89885982, 0.00133547, 0.75911288, 0.56449904]]) # Die Richtige Lösung ist 2.1155942899999998\n",
    "\n",
    "print(\"\\n\", B)"
   ]
  },
  {
   "cell_type": "code",
   "execution_count": null,
   "metadata": {},
   "outputs": [],
   "source": [
    "summe_diag = 0\n",
    "# schreiben Sie hier Ihren Code"
   ]
  },
  {
   "cell_type": "markdown",
   "metadata": {},
   "source": [
    "<details>\n",
    "<summary>Lösung</summary>\n",
    "    <code>\n",
    "for i in range(4):\n",
    "    summe_diag = summe_diag + A[i,i]\n",
    "print(summe_diag)</code> \n",
    "</details>"
   ]
  },
  {
   "cell_type": "markdown",
   "metadata": {},
   "source": [
    "# 3.1\n",
    "Könnt Sie eine Funktion schreiben, die für Matrizen jeglicher Größen die Summe der Diagonalen ausrechnet? Um die Anzahl der Reihen einer Matrix zu erfassen, könnt ihr `A.shape[0]` benutzen.\n",
    "\n",
    "Eine neue Matrix A ist gegeben, die richtige Lösung ist `8.37651038`"
   ]
  },
  {
   "cell_type": "code",
   "execution_count": null,
   "metadata": {},
   "outputs": [],
   "source": [
    "A=np.array([[0.51926922, 0.16470642, 0.37296016, 0.13578819, 0.88938999,\n",
    "        0.74393669, 0.45194197, 0.20943862, 0.49205068, 0.01276471,\n",
    "        0.42888503, 0.53779371, 0.45154606, 0.68763215, 0.59366534],\n",
    "       [0.60178293, 0.82418808, 0.39262391, 0.65913131, 0.51337953,\n",
    "        0.60651723, 0.98811119, 0.38409274, 0.81903388, 0.6716402 ,\n",
    "        0.4224913 , 0.75455823, 0.95251343, 0.90482122, 0.70338439],\n",
    "       [0.72889134, 0.7998672 , 0.30325736, 0.45907988, 0.19182829,\n",
    "        0.76630867, 0.96377399, 0.76652307, 0.57737073, 0.71839835,\n",
    "        0.92925099, 0.09130915, 0.00710937, 0.98899602, 0.68246283],\n",
    "       [0.4758884 , 0.37830646, 0.49230907, 0.7621733 , 0.81494091,\n",
    "        0.93808489, 0.66493172, 0.84432872, 0.54083949, 0.18848051,\n",
    "        0.85329956, 0.5403216 , 0.21673346, 0.71915274, 0.02590619],\n",
    "       [0.81535373, 0.1398351 , 0.88512279, 0.24474568, 0.86088816,\n",
    "        0.19829512, 0.34683362, 0.52034693, 0.51886776, 0.3497549 ,\n",
    "        0.38120894, 0.38072209, 0.20899051, 0.28868998, 0.18962961],\n",
    "       [0.65245816, 0.41921102, 0.0356296 , 0.39945069, 0.36479163,\n",
    "        0.71267065, 0.27497303, 0.27050713, 0.46977794, 0.67057708,\n",
    "        0.50393753, 0.12855897, 0.06929476, 0.98258396, 0.60878025],\n",
    "       [0.57577456, 0.4874987 , 0.62857342, 0.99467546, 0.01884941,\n",
    "        0.86875732, 0.95321427, 0.49796403, 0.37130238, 0.25845102,\n",
    "        0.21121469, 0.08124434, 0.26771206, 0.40380745, 0.33952871],\n",
    "       [0.02608056, 0.58172291, 0.96813834, 0.79222767, 0.59204407,\n",
    "        0.89352906, 0.49376337, 0.85714262, 0.27901497, 0.04946388,\n",
    "        0.54898402, 0.26010695, 0.34801239, 0.64176959, 0.80625834],\n",
    "       [0.13028332, 0.76741561, 0.43452065, 0.77675706, 0.94071143,\n",
    "        0.50737096, 0.47736306, 0.60193263, 0.12165014, 0.32173304,\n",
    "        0.96644027, 0.22784865, 0.51405031, 0.74893884, 0.83041921],\n",
    "       [0.14963331, 0.00369178, 0.39781561, 0.81035627, 0.52936279,\n",
    "        0.33697687, 0.36246154, 0.37981165, 0.89737357, 0.35868109,\n",
    "        0.19653531, 0.92260103, 0.26521906, 0.1309016 , 0.77476208],\n",
    "       [0.92048371, 0.65445819, 0.69905685, 0.62089181, 0.19575934,\n",
    "        0.20151019, 0.8984449 , 0.29110808, 0.70786292, 0.84237375,\n",
    "        0.93339498, 0.24881253, 0.36161901, 0.83573193, 0.65698406],\n",
    "       [0.78800707, 0.04604282, 0.31511132, 0.67790962, 0.46708406,\n",
    "        0.53466883, 0.30586768, 0.17711314, 0.39855534, 0.36569967,\n",
    "        0.70606711, 0.22249166, 0.2540185 , 0.32572472, 0.40427673],\n",
    "       [0.97223839, 0.22030802, 0.10997223, 0.37055289, 0.1450582 ,\n",
    "        0.88019316, 0.06509146, 0.09796157, 0.85986463, 0.08323842,\n",
    "        0.88979629, 0.48256196, 0.54347722, 0.16722207, 0.85075522],\n",
    "       [0.85704743, 0.6562057 , 0.69428255, 0.21928692, 0.33983578,\n",
    "        0.84043757, 0.03475807, 0.44906957, 0.8172995 , 0.85928147,\n",
    "        0.12579314, 0.22286921, 0.92504496, 0.29083475, 0.01547269],\n",
    "       [0.92265155, 0.93733275, 0.5116025 , 0.07105766, 0.55474677,\n",
    "        0.48670131, 0.31992412, 0.5270644 , 0.34060002, 0.62608698,\n",
    "        0.19686385, 0.0792195 , 0.92608767, 0.34485249, 0.11317688]])"
   ]
  },
  {
   "cell_type": "code",
   "execution_count": null,
   "metadata": {},
   "outputs": [],
   "source": [
    "# hier könnte Ihre Funktion stehen\n"
   ]
  },
  {
   "cell_type": "markdown",
   "metadata": {},
   "source": [
    "<details>\n",
    "<summary>Lösung</summary>\n",
    "    <code>\n",
    "def sum_diag(matrix):\n",
    "    summe_diag=0\n",
    "    for i in range(matrix.shape[0]):\n",
    "        summe_diag = summe_diag + matrix[i,i]\n",
    "    return summe_diag\n",
    "sum_diag(A)</code> \n",
    "</details>\n",
    "\n"
   ]
  },
  {
   "cell_type": "markdown",
   "metadata": {},
   "source": [
    "Auch `numpy` enthält natürlich für so etwas Funktionen. So gibt es die Möglichkeit `np.sum(np.diag(A))`zu benutzen, um die Summe zu errechnen. `np.diag` wählt hier die Elemente der Diagonalen aus und `np.sum` summiert diese. `numpy` hat viele Funktionen. Falls Sie einmal nicht wissen, was eine Funktion macht, können Sie `help()` benutzen, um die sogenannte Dokumentation zu öffnen. In der Dokumentation ist festgehalten, was jede Funktion macht und welchen Input sie braucht."
   ]
  },
  {
   "cell_type": "code",
   "execution_count": null,
   "metadata": {},
   "outputs": [],
   "source": [
    "help(np.sum)"
   ]
  },
  {
   "cell_type": "markdown",
   "metadata": {},
   "source": [
    "Es sind Beispiele gegeben und jede Input Variable wird beschrieben. `np.sum()`braucht immer einen Array, für den es die Summe errechnen kann. Aber alle anderen Variablen müssen nicht definiert werden, da sie einen Default haben.\n",
    "\n",
    "Falls Sie sich nicht sicher sind, was eine Funktion macht, können Sie `help()` benutzen. Leider hat nicht jede Library so eine gute Dokumentation wie `numpy`."
   ]
  }
 ],
 "metadata": {
  "kernelspec": {
   "display_name": "Python 3",
   "language": "python",
   "name": "python3"
  },
  "language_info": {
   "codemirror_mode": {
    "name": "ipython",
    "version": 3
   },
   "file_extension": ".py",
   "mimetype": "text/x-python",
   "name": "python",
   "nbconvert_exporter": "python",
   "pygments_lexer": "ipython3",
   "version": "3.7.11"
  },
  "toc-autonumbering": false,
  "toc-showcode": true,
  "toc-showmarkdowntxt": true
 },
 "nbformat": 4,
 "nbformat_minor": 4
}
