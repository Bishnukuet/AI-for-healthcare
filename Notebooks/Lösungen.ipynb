{
 "cells": [
  {
   "cell_type": "markdown",
   "id": "51a0de9b",
   "metadata": {},
   "source": [
    "# WOCHE 2"
   ]
  },
  {
   "cell_type": "code",
   "execution_count": null,
   "id": "b0490149",
   "metadata": {},
   "outputs": [],
   "source": [
    "import numpy as np\n",
    "\n",
    "\n",
    "A=np.array([[0.5193, 0.1647, 0.373 , 0.1358, 0.8894, 0.7439, 0.4519, 0.2094,\n",
    "        0.4921, 0.0128, 0.4289, 0.5378, 0.4515, 0.6876, 0.5937],\n",
    "       [0.6018, 0.8242, 0.3926, 0.6591, 0.5134, 0.6065, 0.9881, 0.3841,\n",
    "        0.819 , 0.6716, 0.4225, 0.7546, 0.9525, 0.9048, 0.7034],\n",
    "       [0.7289, 0.7999, 0.3033, 0.4591, 0.1918, 0.7663, 0.9638, 0.7665,\n",
    "        0.5774, 0.7184, 0.9293, 0.0913, 0.0071, 0.989 , 0.6825],\n",
    "       [0.4759, 0.3783, 0.4923, 0.7622, 0.8149, 0.9381, 0.6649, 0.8443,\n",
    "        0.5408, 0.1885, 0.8533, 0.5403, 0.2167, 0.7192, 0.0259],\n",
    "       [0.8154, 0.1398, 0.8851, 0.2447, 0.8609, 0.1983, 0.3468, 0.5203,\n",
    "        0.5189, 0.3498, 0.3812, 0.3807, 0.209 , 0.2887, 0.1896],\n",
    "       [0.6525, 0.4192, 0.0356, 0.3995, 0.3648, 0.7127, 0.275 , 0.2705,\n",
    "        0.4698, 0.6706, 0.5039, 0.1286, 0.0693, 0.9826, 0.6088],\n",
    "       [0.5758, 0.4875, 0.6286, 0.9947, 0.0188, 0.8688, 0.9532, 0.498 ,\n",
    "        0.3713, 0.2585, 0.2112, 0.0812, 0.2677, 0.4038, 0.3395],\n",
    "       [0.0261, 0.5817, 0.9681, 0.7922, 0.592 , 0.8935, 0.4938, 0.8571,\n",
    "        0.279 , 0.0495, 0.549 , 0.2601, 0.348 , 0.6418, 0.8063],\n",
    "       [0.1303, 0.7674, 0.4345, 0.7768, 0.9407, 0.5074, 0.4774, 0.6019,\n",
    "        0.1217, 0.3217, 0.9664, 0.2278, 0.5141, 0.7489, 0.8304],\n",
    "       [0.1496, 0.0037, 0.3978, 0.8104, 0.5294, 0.337 , 0.3625, 0.3798,\n",
    "        0.8974, 0.3587, 0.1965, 0.9226, 0.2652, 0.1309, 0.7748],\n",
    "       [0.9205, 0.6545, 0.6991, 0.6209, 0.1958, 0.2015, 0.8984, 0.2911,\n",
    "        0.7079, 0.8424, 0.9334, 0.2488, 0.3616, 0.8357, 0.657 ],\n",
    "       [0.788 , 0.046 , 0.3151, 0.6779, 0.4671, 0.5347, 0.3059, 0.1771,\n",
    "        0.3986, 0.3657, 0.7061, 0.2225, 0.254 , 0.3257, 0.4043],\n",
    "       [0.9722, 0.2203, 0.11  , 0.3706, 0.1451, 0.8802, 0.0651, 0.098 ,\n",
    "        0.8599, 0.0832, 0.8898, 0.4826, 0.5435, 0.1672, 0.8508],\n",
    "       [0.857 , 0.6562, 0.6943, 0.2193, 0.3398, 0.8404, 0.0348, 0.4491,\n",
    "        0.8173, 0.8593, 0.1258, 0.2229, 0.925 , 0.2908, 0.0155],\n",
    "       [0.9227, 0.9373, 0.5116, 0.0711, 0.5547, 0.4867, 0.3199, 0.5271,\n",
    "        0.3406, 0.6261, 0.1969, 0.0792, 0.9261, 0.3449, 0.1132]])\n",
    "\n",
    "B = np.array([[-0.081,  0.549, -0.351,  1.037,  0.48 , -0.187, -1.148,  0.576],\n",
    "              [-0.124, -0.059,  0.705,  0.577,  0.67 ,  1.307,  1.408, -1.136],\n",
    "              [-0.175, -0.263,  2.828, -0.89 , -1.159,  1.195, -1.265, -0.364],\n",
    "              [-0.416, -0.665,  1.646,  0.107,  0.221, -0.439,  1.114,  0.269],\n",
    "              [-0.244, -1.125,  1.05 ,  0.467,  0.297, -1.377, -0.113, -2.072],\n",
    "              [-0.761, -0.691, -0.811, -1.051, -2.077,  0.25 ,  0.432, -0.314],\n",
    "              [ 2.375, -1.981, -0.264,  1.477, -0.631, -0.566,  0.32 ,  0.305],\n",
    "              [ 0.328,  1.811,  0.585,  0.818,  0.771,  0.208, -0.914, -0.374]])"
   ]
  },
  {
   "cell_type": "code",
   "execution_count": null,
   "id": "aba7656f",
   "metadata": {},
   "outputs": [],
   "source": [
    "def sum_diag(arr):\n",
    "    sum_diag = 0\n",
    "    for i in range(arr.shape[0]):\n",
    "        sum_diag = sum_diag+arr[i,i] \n",
    "    return(sum_diag)    "
   ]
  },
  {
   "cell_type": "markdown",
   "id": "026dcd3a",
   "metadata": {},
   "source": [
    "# Woche 3"
   ]
  },
  {
   "cell_type": "code",
   "execution_count": null,
   "id": "47e18c33",
   "metadata": {},
   "outputs": [],
   "source": [
    "from rdkit.Chem import AllChem as Chem\n",
    "from rdkit.Chem import Draw\n",
    "from rdkit.Chem.Descriptors import MolWt \n",
    "from rdkit.Chem.Crippen import MolLogP\n",
    "from rdkit.Chem.Lipinski import NumHAcceptors, NumHDonors\n",
    "from rdkit import DataStructs"
   ]
  },
  {
   "cell_type": "code",
   "execution_count": null,
   "id": "9319e6f0",
   "metadata": {},
   "outputs": [],
   "source": [
    "norfloxacin = \"CCN1C=C(C(=O)C2=CC(=C(C=C21)N3CCNCC3)F)C(=O)O\"\n",
    "norfloxacin = Chem.MolFromSmiles(norfloxacin)\n",
    "\n",
    "norfloxacin"
   ]
  },
  {
   "cell_type": "code",
   "execution_count": null,
   "id": "4cf6a52a",
   "metadata": {},
   "outputs": [],
   "source": [
    "MW_norfloxacin = MolWt(norfloxacin) \n",
    "NumHAcceptors_norfloxacin = NumHAcceptors(norfloxacin)\n",
    "NumHDonors_norfloxacin = NumHDonors(norfloxacin)\n",
    "logP_norfloxacin = MolLogP(norfloxacin)"
   ]
  },
  {
   "cell_type": "code",
   "execution_count": null,
   "id": "af839baa",
   "metadata": {},
   "outputs": [],
   "source": [
    "print(\"MW:\", MW_norfloxacin)\n",
    "print(\"NumHAcceptors\", NumHAcceptors_norfloxacin)\n",
    "print(\"NumHDonors\", NumHDonors_norfloxacin)\n",
    "print(\"LogP\",logP_norfloxacin)"
   ]
  },
  {
   "cell_type": "code",
   "execution_count": null,
   "id": "16326382",
   "metadata": {},
   "outputs": [],
   "source": [
    "# Vergessen Sie nicht, zuerst diese Zelle auszuführen.\n",
    "quinolones = [\"C1CC1N2C=C(C(=O)C3=CC(=C(C=C32)N4CCNCC4)F)C(=O)O\",\n",
    "             \"CN1CCN(CC1)C2=C(C=C3C(=C2F)N(C=C(C3=O)C(=O)O)CCF)F\",\n",
    "             \"CCN1C=C(C(=O)C2=CC(=C(C(=C21)F)N3CCNC(C3)C)F)C(=O)O\",\n",
    "             \"CC1CCC2=C3N1C=C(C(=O)C3=CC(=C2N4CCC(CC4)O)F)C(=O)O\",\n",
    "             \"CC1COC2=C3N1C=C(C(=O)C3=CC(=C2N4CCN(CC4)C)F)C(=O)O\"\n",
    "             \"CCN1C=C(C(=O)C2=CC(=C(C=C21)N3CCN(CC3)C)F)C(=O)O\",\n",
    "             \"CN1CCN(CC1)C2=C(C=C3C4=C2SCCN4C=C(C3=O)C(=O)O)F\",\n",
    "             \"CCN1C=C(C(=O)C2=CC(=C(N=C21)N3CCNCC3)F)C(=O)O\",\n",
    "             \"CNC1CCCN(C1)C2=C(C=C3C(=C2OC)N(C=C(C3=O)C(=O)O)C4CC4)F\",\n",
    "             \"CC1CN(CCN1)C2=C(C(=C3C(=C2)N(C=C(C3=O)C(=O)O)C4CC4)C)F\",\n",
    "             \"C[C@H]1COC2=C3N1C=C(C(=O)C3=CC(=C2N4CCN(CC4)C)F)C(=O)O\",\n",
    "             \"C[C@H]1COC2=C3N1C=C(C(=O)C3=CC(=C2C4(CC4)N)F)C(=O)O\",\n",
    "             \"C[C@@H]1CN(C[C@@H](N1)C)C2=C(C(=C3C(=C2F)N(C=C(C3=O)C(=O)O)C4CC4)N)F\",\n",
    "             \"CC1CN(CCN1)C2=C(C=C3C(=C2)N(C=C(C3=O)C(=O)O)C4=C(C=C(C=C4)F)F)F\",\n",
    "             \"C1CN(CC1N)C2=C(C=C3C(=O)C(=CN(C3=N2)C4=C(C=C(C=C4)F)F)C(=O)O)F\"]"
   ]
  },
  {
   "cell_type": "code",
   "execution_count": null,
   "id": "da141a60",
   "metadata": {},
   "outputs": [],
   "source": [
    "quinolones = [Chem.MolFromSmiles(x) for x in quinolones]\n",
    "\n",
    "MW_quinolones = [MolWt(x) for x in quinolones]\n",
    "NumHAcceptors_quinolones = [NumHAcceptors(x) for x in quinolones]\n",
    "NumHDonors_quinolones = [NumHDonors(x) for x in quinolones]\n",
    "logP_quinolones = [MolLogP(x) for x in quinolones]"
   ]
  },
  {
   "cell_type": "code",
   "execution_count": null,
   "id": "29bd1cc7",
   "metadata": {},
   "outputs": [],
   "source": [
    "norfloxacin_fp = Chem.GetMorganFingerprint(norfloxacin, radius = 2)\n",
    "quinolones_fp = [Chem.GetMorganFingerprint(x, radius = 2) for x in quinolones]"
   ]
  },
  {
   "cell_type": "code",
   "execution_count": null,
   "id": "bdb26a1d",
   "metadata": {},
   "outputs": [],
   "source": [
    "quinolones_similarity = [DataStructs.TanimotoSimilarity(norfloxacin_fp, x) for x in quinolones_fp]\n",
    "\n",
    "Draw.MolsToGridImage(quinolones, legends = [str(round(x, 2)) for x in quinolones_similarity],\n",
    "                    subImgSize=(250,200), useSVG=True)"
   ]
  },
  {
   "cell_type": "markdown",
   "id": "b6c54f6e",
   "metadata": {},
   "source": [
    "# Woche 4"
   ]
  },
  {
   "cell_type": "code",
   "execution_count": 5,
   "id": "446eaa5c",
   "metadata": {},
   "outputs": [],
   "source": [
    "import numpy as np\n",
    "from sklearn.metrics import roc_auc_score\n",
    "def sigmoid(wert):\n",
    "    return 1/(1+np.exp(-wert))\n",
    "def accuracy(y_true, y_pred):\n",
    "    return np.sum(y_true==y_pred)/len(y_true)\n",
    "beta_1 = 3.0786959\n",
    "beta_2 = -3.0220097\n",
    "beta_0 = -7.306345489594484\n",
    "\n",
    "\n",
    "x =  np.array([[5.1, 3.5],\n",
    "              [5. , 3.6],\n",
    "              [5.4, 3.4],\n",
    "              [6.7, 3.1],\n",
    "              [5.1, 2.5]])\n",
    "y = np.array([0,0,0,1,1])"
   ]
  },
  {
   "cell_type": "code",
   "execution_count": 6,
   "id": "853e8785",
   "metadata": {},
   "outputs": [],
   "source": [
    "z = beta_0 + x[:,0]*beta_1+ x[:,1]*beta_2 "
   ]
  },
  {
   "cell_type": "code",
   "execution_count": 7,
   "id": "6eb83bf5",
   "metadata": {},
   "outputs": [],
   "source": [
    "y_hat = sigmoid(z)"
   ]
  },
  {
   "cell_type": "code",
   "execution_count": 8,
   "id": "0a451329",
   "metadata": {},
   "outputs": [
    {
     "data": {
      "text/plain": [
       "1.0"
      ]
     },
     "execution_count": 8,
     "metadata": {},
     "output_type": "execute_result"
    }
   ],
   "source": [
    "y_pred = np.round(y_hat)\n",
    "accuracy(y,y_pred)"
   ]
  },
  {
   "cell_type": "code",
   "execution_count": 10,
   "id": "1d289988",
   "metadata": {},
   "outputs": [
    {
     "data": {
      "text/plain": [
       "array([0.10137582, 0.05775252, 0.27763553, 0.98115877, 0.69846087])"
      ]
     },
     "execution_count": 10,
     "metadata": {},
     "output_type": "execute_result"
    }
   ],
   "source": [
    "roc_auc_score(y,y_hat)\n",
    "y_hat"
   ]
  },
  {
   "cell_type": "markdown",
   "id": "57dac900",
   "metadata": {},
   "source": [
    "# Woche 5"
   ]
  },
  {
   "cell_type": "code",
   "execution_count": 18,
   "id": "7aaf507a",
   "metadata": {},
   "outputs": [],
   "source": [
    "import pandas as pd \n",
    "import numpy as np\n",
    "from rdkit.Chem.Draw import IPythonConsole\n",
    "from rdkit.Chem import AllChem as Chem\n",
    "from sklearn.model_selection import train_test_split\n",
    "from sklearn.metrics import roc_auc_score\n",
    "from sklearn.ensemble import RandomForestClassifier\n",
    "from rdkit.Chem.Lipinski import * \n",
    "from rdkit.Chem.rdMolDescriptors import CalcExactMolWt, CalcTPSA\n",
    "from rdkit.Chem.Crippen import MolLogP, MolMR\n",
    "from sklearn.preprocessing import MinMaxScaler\n",
    "import seaborn as  sns\n",
    "from matplotlib import pyplot as plt\n",
    "%matplotlib inline\n",
    "%run ../utils/utils.py #lädt vorgeschriebene Funktionen\n",
    "\n",
    "data = pd.read_csv(\"../data/toxicity/sr-mmp.tab\", sep = \"\\t\")\n",
    "data = data.iloc[:,1:]\n",
    "data.columns = [\"smiles\", \"activity\"]"
   ]
  },
  {
   "cell_type": "code",
   "execution_count": 20,
   "id": "a4030b2d",
   "metadata": {},
   "outputs": [
    {
     "name": "stderr",
     "output_type": "stream",
     "text": [
      "100%|██████████████████████████████████████| 2246/2246 [00:03<00:00, 720.98it/s]\n"
     ]
    },
    {
     "data": {
      "text/html": [
       "<div>\n",
       "<style scoped>\n",
       "    .dataframe tbody tr th:only-of-type {\n",
       "        vertical-align: middle;\n",
       "    }\n",
       "\n",
       "    .dataframe tbody tr th {\n",
       "        vertical-align: top;\n",
       "    }\n",
       "\n",
       "    .dataframe thead th {\n",
       "        text-align: right;\n",
       "    }\n",
       "</style>\n",
       "<table border=\"1\" class=\"dataframe\">\n",
       "  <thead>\n",
       "    <tr style=\"text-align: right;\">\n",
       "      <th></th>\n",
       "      <th>0</th>\n",
       "      <th>1</th>\n",
       "      <th>2</th>\n",
       "      <th>3</th>\n",
       "      <th>4</th>\n",
       "      <th>5</th>\n",
       "      <th>6</th>\n",
       "      <th>7</th>\n",
       "      <th>8</th>\n",
       "      <th>9</th>\n",
       "      <th>...</th>\n",
       "      <th>2039</th>\n",
       "      <th>2040</th>\n",
       "      <th>2041</th>\n",
       "      <th>2042</th>\n",
       "      <th>2043</th>\n",
       "      <th>2044</th>\n",
       "      <th>2045</th>\n",
       "      <th>2046</th>\n",
       "      <th>2047</th>\n",
       "      <th>activity</th>\n",
       "    </tr>\n",
       "  </thead>\n",
       "  <tbody>\n",
       "    <tr>\n",
       "      <th>0</th>\n",
       "      <td>0</td>\n",
       "      <td>1</td>\n",
       "      <td>0</td>\n",
       "      <td>0</td>\n",
       "      <td>0</td>\n",
       "      <td>0</td>\n",
       "      <td>0</td>\n",
       "      <td>0</td>\n",
       "      <td>0</td>\n",
       "      <td>0</td>\n",
       "      <td>...</td>\n",
       "      <td>0</td>\n",
       "      <td>0</td>\n",
       "      <td>0</td>\n",
       "      <td>0</td>\n",
       "      <td>0</td>\n",
       "      <td>0</td>\n",
       "      <td>0</td>\n",
       "      <td>0</td>\n",
       "      <td>0</td>\n",
       "      <td>0</td>\n",
       "    </tr>\n",
       "    <tr>\n",
       "      <th>1</th>\n",
       "      <td>0</td>\n",
       "      <td>0</td>\n",
       "      <td>0</td>\n",
       "      <td>0</td>\n",
       "      <td>0</td>\n",
       "      <td>0</td>\n",
       "      <td>0</td>\n",
       "      <td>0</td>\n",
       "      <td>0</td>\n",
       "      <td>0</td>\n",
       "      <td>...</td>\n",
       "      <td>0</td>\n",
       "      <td>0</td>\n",
       "      <td>0</td>\n",
       "      <td>0</td>\n",
       "      <td>0</td>\n",
       "      <td>0</td>\n",
       "      <td>0</td>\n",
       "      <td>0</td>\n",
       "      <td>0</td>\n",
       "      <td>1</td>\n",
       "    </tr>\n",
       "    <tr>\n",
       "      <th>2</th>\n",
       "      <td>0</td>\n",
       "      <td>0</td>\n",
       "      <td>0</td>\n",
       "      <td>0</td>\n",
       "      <td>0</td>\n",
       "      <td>0</td>\n",
       "      <td>0</td>\n",
       "      <td>0</td>\n",
       "      <td>0</td>\n",
       "      <td>0</td>\n",
       "      <td>...</td>\n",
       "      <td>0</td>\n",
       "      <td>0</td>\n",
       "      <td>0</td>\n",
       "      <td>0</td>\n",
       "      <td>0</td>\n",
       "      <td>0</td>\n",
       "      <td>0</td>\n",
       "      <td>0</td>\n",
       "      <td>0</td>\n",
       "      <td>1</td>\n",
       "    </tr>\n",
       "    <tr>\n",
       "      <th>3</th>\n",
       "      <td>0</td>\n",
       "      <td>0</td>\n",
       "      <td>0</td>\n",
       "      <td>0</td>\n",
       "      <td>0</td>\n",
       "      <td>0</td>\n",
       "      <td>0</td>\n",
       "      <td>0</td>\n",
       "      <td>0</td>\n",
       "      <td>1</td>\n",
       "      <td>...</td>\n",
       "      <td>0</td>\n",
       "      <td>1</td>\n",
       "      <td>0</td>\n",
       "      <td>0</td>\n",
       "      <td>0</td>\n",
       "      <td>0</td>\n",
       "      <td>0</td>\n",
       "      <td>0</td>\n",
       "      <td>0</td>\n",
       "      <td>1</td>\n",
       "    </tr>\n",
       "    <tr>\n",
       "      <th>4</th>\n",
       "      <td>0</td>\n",
       "      <td>1</td>\n",
       "      <td>0</td>\n",
       "      <td>0</td>\n",
       "      <td>0</td>\n",
       "      <td>0</td>\n",
       "      <td>0</td>\n",
       "      <td>0</td>\n",
       "      <td>0</td>\n",
       "      <td>0</td>\n",
       "      <td>...</td>\n",
       "      <td>0</td>\n",
       "      <td>0</td>\n",
       "      <td>0</td>\n",
       "      <td>0</td>\n",
       "      <td>0</td>\n",
       "      <td>0</td>\n",
       "      <td>0</td>\n",
       "      <td>0</td>\n",
       "      <td>0</td>\n",
       "      <td>0</td>\n",
       "    </tr>\n",
       "  </tbody>\n",
       "</table>\n",
       "<p>5 rows × 2049 columns</p>\n",
       "</div>"
      ],
      "text/plain": [
       "   0  1  2  3  4  5  6  7  8  9  ...  2039  2040  2041  2042  2043  2044  \\\n",
       "0  0  1  0  0  0  0  0  0  0  0  ...     0     0     0     0     0     0   \n",
       "1  0  0  0  0  0  0  0  0  0  0  ...     0     0     0     0     0     0   \n",
       "2  0  0  0  0  0  0  0  0  0  0  ...     0     0     0     0     0     0   \n",
       "3  0  0  0  0  0  0  0  0  0  1  ...     0     1     0     0     0     0   \n",
       "4  0  1  0  0  0  0  0  0  0  0  ...     0     0     0     0     0     0   \n",
       "\n",
       "   2045  2046  2047  activity  \n",
       "0     0     0     0         0  \n",
       "1     0     0     0         1  \n",
       "2     0     0     0         1  \n",
       "3     0     0     0         1  \n",
       "4     0     0     0         0  \n",
       "\n",
       "[5 rows x 2049 columns]"
      ]
     },
     "execution_count": 20,
     "metadata": {},
     "output_type": "execute_result"
    }
   ],
   "source": [
    "fps = get_fingerprints(data)\n",
    "fps[\"activity\"] = data.activity\n",
    "fps.head()"
   ]
  },
  {
   "cell_type": "code",
   "execution_count": 21,
   "id": "16ea0595",
   "metadata": {},
   "outputs": [],
   "source": [
    "train, val=train_test_split(fps,test_size= 0.2 , train_size= 0.8, random_state=1234)\n",
    "\n",
    "train_x = train.iloc[:,:2048]\n",
    "train_y = train.iloc[:,2048]\n",
    "val_x = val.iloc[:,:2048]\n",
    "val_y =  val.iloc[:,2048]"
   ]
  },
  {
   "cell_type": "code",
   "execution_count": 23,
   "id": "dba78e96",
   "metadata": {},
   "outputs": [],
   "source": [
    "rf = RandomForestClassifier(n_estimators = 1000, random_state = 42)\n",
    "rf.fit(train_x.values, train_y.values)\n",
    "pred_y=rf.predict_proba(val_x)[:,1]"
   ]
  },
  {
   "cell_type": "markdown",
   "id": "7b1ff2b9",
   "metadata": {},
   "source": [
    "Berrechnen Sie den ROC-AUC."
   ]
  },
  {
   "cell_type": "code",
   "execution_count": 24,
   "id": "0acb939f",
   "metadata": {},
   "outputs": [
    {
     "name": "stdout",
     "output_type": "stream",
     "text": [
      "0.8825371424055635\n"
     ]
    }
   ],
   "source": [
    "print(roc_auc_score(val_y,pred_y))"
   ]
  }
 ],
 "metadata": {
  "kernelspec": {
   "display_name": "Python 3 (ipykernel)",
   "language": "python",
   "name": "python3"
  },
  "language_info": {
   "codemirror_mode": {
    "name": "ipython",
    "version": 3
   },
   "file_extension": ".py",
   "mimetype": "text/x-python",
   "name": "python",
   "nbconvert_exporter": "python",
   "pygments_lexer": "ipython3",
   "version": "3.7.11"
  }
 },
 "nbformat": 4,
 "nbformat_minor": 5
}
