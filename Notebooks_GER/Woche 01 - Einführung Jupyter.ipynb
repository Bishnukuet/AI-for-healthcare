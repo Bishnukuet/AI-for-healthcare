{
 "cells": [
  {
   "cell_type": "markdown",
   "metadata": {},
   "source": [
    "# Jupyter Notebook \n",
    "\n",
    "Um den Einstieg in die Arbeit mit neuronalen Netzen noch einfacher zu gestalten, verwenden wir so genannte *Jupyter Notebooks*. Ein Notebook ermöglicht es uns, den Code zu strukturieren und einfacher mit ihm zu interagieren. Ähnlich wie Microsoft Word uns beim Schreiben von Texten hilft, hilft Jupyter uns beim Schreiben von Python-Code.\n",
    "\n",
    "Python ist eine der höheren Programmiersprachen. Höher bezieht sich auf die Nähe der Sprache zu der Sprache, die Computer verstehen. Python ist für Menschen relativ leicht zu verstehen und zu schreiben. Programmiersprachen auf niedrigerem Niveau sind schwieriger zu verstehen und zu schreiben. Der Nachteil, den Python aufgrund seiner *Höhe* hat, besteht darin, dass es bei der Ausführung von Code deutlich langsamer ist. Für viele Nicht-Informatiker ist die Geschwindigkeit jedoch nicht entscheidend für ihr Projekt. Aufgrund seiner Zugänglichkeit hat sich Python sich im Laufe der Zeit als die primäre Programmiersprachen für maschinelles Lernen und Künstliche Intelligenz (KI) etabliert. \n",
    "\n",
    "### Jupyter Notebooks benutzen\n",
    "\n",
    "In einem Python-Notizbuch gibt es zwei Arten von Zellen. In der einen befindet sich normaler Text, wie in dieser. In den anderen Zellen wird der eigentliche Code geschrieben. Sie können eine Zelle ausführen, indem Sie Umschalttaste (Shift) + Eingabetaste (Enter) drücken. Dafür müssen Sie zuvor in die jeweilige Zelle klicken.  Code ausführen bedeutet, dass der Code in dieser Zelle als Befehl an Python übergeben wird. \n",
    "Dieser wird dann von Python interpretiert und die Befehle werden nacheinander ausgeführt.\n",
    "Um schnell zwischen Zellen zu navigieren, können Sie auch die Pfeiltasen benutzen.\n",
    "\n",
    "Wenn Sie Google Collab benutzen können, Sie auch auf den Play-Button drücken.\n",
    "\n",
    "*Klicken Sie zunächst in die folgende Zelle und führen Sie diese aus.*\n",
    "Wenn alles geklappt hat sollte unter dieser Zelle \n",
    "\n",
    "<div align=\"center\" ><code>'Meine erste Zelle'</code></div >\n",
    "\n",
    "stehen. Was hier genau passiert, wird nachfolgenden Notebook nähere erläutert.\n",
    "\n",
    "\n"
   ]
  },
  {
   "cell_type": "code",
   "execution_count": null,
   "metadata": {},
   "outputs": [],
   "source": [
    "\"Meine erste Zelle\""
   ]
  },
  {
   "cell_type": "markdown",
   "metadata": {},
   "source": [
    "Sie können auch selbst neue Zellen erstellen. Klicken Sie dazu oben in der Leiste auf `Einfügen`/`Insert` und dann entweder auf \"Zelle oben einfügen\" oder \"Zelle unten einfügen\".\n",
    "\n",
    "Alternativ können auch Tastenkombinationen verwendet werden: Mit der `A`-Taste wird eine Zelle über der aktuellen Zelle und mit `B` darunter eingefügt. Drücken Sie zweimal hintereinander die `D`-Taste können Sie auch eine Zelle löschen.*In Google Collab gelten die selben Shortcuts, hier müssen zusätzlich `Strg` + `M` gedrückt halten.*\n",
    "\n",
    "Wichtig ist, dass Sie bei diesen Tastenkombination nicht direkt in die Zelle klicken, sondern nur links daneben. Der Zellrand sollte dann blau, anstatt grün, sein.\n",
    "\n",
    "Das nachfolgende Notebook `Einführung Python.ipynb` wird in mehr Detail auf die eigentliche Verwendung von Python eingehen."
   ]
  }
 ],
 "metadata": {
  "interpreter": {
   "hash": "b2063f454e5583264956edca724ed174a35400d49c5baf96fcf9ea99fcd5830b"
  },
  "kernelspec": {
   "display_name": "Python 3 (ipykernel)",
   "language": "python",
   "name": "python3"
  },
  "language_info": {
   "codemirror_mode": {
    "name": "ipython",
    "version": 3
   },
   "file_extension": ".py",
   "mimetype": "text/x-python",
   "name": "python",
   "nbconvert_exporter": "python",
   "pygments_lexer": "ipython3",
   "version": "3.7.11"
  }
 },
 "nbformat": 4,
 "nbformat_minor": 4
}
