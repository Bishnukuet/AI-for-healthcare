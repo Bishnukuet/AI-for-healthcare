{
 "cells": [
  {
   "cell_type": "markdown",
   "id": "978f8a26",
   "metadata": {},
   "source": [
    "# Autoencoders\n",
    "\n",
    "#### Ich habe meine bestes gegeben, die Trainingszeit zuminimieren. In dem ich ein bereits trainiertes Model gespeichter habe. Allerdings spielt der Server da nicht mit. Deswegn am besten beim Training einfach eine Stunde was anderes machen. Ihr müsst auchj nicht 100 Epochs trainieren sondern könnte über Kernel > Interupt Kernel das Training frühzeitig beenden.\n",
    "---\n",
    "**Lernziele**\n",
    "\n",
    "- Sie verstehen das Konzept eines Autoencoders\n",
    "- Sie verstehen wie ein RNN Smiles generieren kann\n",
    "- Sie können ein Netzwerk auch als PyTorch Klasse definieren\n",
    "- Sie verstehen die Bedeutung der `<sos>`/`<eos>` Token \n",
    "---\n",
    "Im heutigen Notebook beschäftigen wir uns mit den sogenannten **Autoencodern**.\n",
    "Autoencoder werden meisten in durch Selfsupervised Training trainiert.\n",
    "Als Erinnerung, Selfsupervised Training bezeichnet das Training von neuronalen Netzwerke, bei dem der Input und Output identisch sind. Das Ziel ist es also den Input wiederherzustellen. \n",
    "\n",
    "Doch welchen Mehrwert hat es ein Netzwerk, welches nur den Input wiederherstellt.\n",
    "Tatsächlich interessieren wir uns nicht unbedingt für den Output eines Autoencoder. Uns interessiert mehr, was in der Mitte des Netzwerkes passiert. \n",
    "Denn das eigentliche Ziel von Autoencodern ist, die Daten zu komprimieren, also möglichst effektiv darzustellen.\n",
    "\n",
    "Im Beispielbild wird zum Beispiel ein Autoencoder für Bilder dargestellt:\n",
    "\n",
    "<img src=\"https://d3i71xaburhd42.cloudfront.net/b1786e74e233ac21f503f59d03f6af19a3699024/2-Figure1-1.png\" >\n",
    "\n",
    "*Yifei Zhang - A Better Autoencoder for Image: Convolutional Autoencoder * **2018**\n",
    "\n",
    "Ein Autoencoder besteht aus zwei Netzwerken, einem **Encoder** und einem **Decoder**. Der Output des Encoder wird als Input für den Decoder genutzt. Der Encoder soll lernen, möglichst effektiv,  die Daten in einem niedrig dimensionalen Raum (latent Space) darzustellen. Diese Darstellung ist in der Regel einfach ein Vektor, welcher auch als **latent Vector** beschrieben wird. Der Deocder wird trainiert, um anhand dieses latent Vectors den originalen Input wieder herzustellen. \n",
    "\n",
    "Wir können selber bestimmen, wie groß der latent Vector werden soll. Meistens wird eine besonders kleine Größe gewählt, um eine größere Kompression zu gewährleisten.\n",
    "Nach erfolgreichem Training sollte der *latent Vector*, trotz seiner geringen Größe, genug Information enthalten, um das Bild vollständig wieder auszugeben. Das bedeutet, dass dieser Vector ausreichend informativ ist, um das komplette Bild zu beschreiben. Tatsächliche Anwendungen gehen über die einfach Rekonstruktion hinaus.\n",
    "\n",
    "Zum Beispiel werden Autoencoder benutzt und die Qualität von Bilder zu verbessern. Hierfür werden als Input niedrig auflösende Bilder benutzt und der Output ist dasselbe Bild in seiner regulären (höher) Auflösung. So werden Netzwerke trainiert, die später schlecht aufgelöste Bilder schärfen können. \n",
    "\n",
    "\n",
    "<img src=\"https://assets-global.website-files.com/5d7b77b063a9066d83e1209c/60bcd0b7b750bae1a953d61d_autoencoder.png\" width =\"400px\">\n",
    "\n",
    "*Hmrishav Bandyopadhyay - An Introduction to Autoencoders: Everything You Need to Know* **2021**\n",
    "\n",
    "Autoencoder gibt es aber nicht nur für Bilder, sondern auch für Text. Hierfür werden RNNs verwedent. \n",
    "Im letztes Notebook haben wir bereits besprochen, dass der letzte Hidden State eines Recurrent Neural Netzwerk ein Zusammenfassung der gesamten Inputsequenz ist. In dem Besipeil der Hidden State $O_5$\n",
    "\n",
    "<img src=\"https://miro.medium.com/max/724/1*1U8H9EZiDqfylJU7Im23Ag.gif\">\n",
    "\n",
    "*Michael Phi - An illustrated Guide to Recurrent Neural Networks*\n",
    "\n",
    "Der Output $O_5$ ist quasi schon eine kompremierete Version unseres Satzes. Der Hidden State $O5$ ist also der latent Vector der unseren Satz beschreibt. Dementsprechend ist auch das Netzwerk, das diesen Vektor erzeugt hat unsere Encoder. Für unseren Autoencoder fehlt nur noch der Decoder, der den originalen Satz aus dem latent Vector wieder herstellen kann. Wie das genau funktiert besprechen wir an Hand eines Beispiel mit Smiles."
   ]
  },
  {
   "cell_type": "code",
   "execution_count": 2,
   "id": "04ca11da",
   "metadata": {},
   "outputs": [],
   "source": [
    "from rdkit.Chem.Draw import MolsToGridImage\n",
    "from rdkit.Chem import AllChem as Chem\n",
    "from rdkit import DataStructs\n",
    "from rdkit import RDLogger  \n",
    "import pandas as pd\n",
    "import numpy as np\n",
    "import torch\n",
    "from torch import nn, optim\n",
    "from torch.utils.data import DataLoader, TensorDataset\n",
    "import seaborn as sns\n",
    "from matplotlib import pyplot as plt\n",
    "from sklearn.metrics.pairwise import cosine_similarity\n",
    "RDLogger.DisableLog('rdApp.*')      \n",
    "%run ../utils/utils.py"
   ]
  },
  {
   "cell_type": "markdown",
   "id": "bbd2d9e1",
   "metadata": {},
   "source": [
    "Diese Woche benutzen wir einen Datensatz der Firma Enamine. Und zwar die [High Fidelity Fragment Library](https://enamine.net/compound-libraries/fragment-libraries/high-fidelity-library). Dieser Datensatz besteht aus Fragmenten, die, aufgrund ihrer physikochemischen Eigenschaften, sich besonders gut für den Bereich MedChem eignen. Für uns ist vor allem wichtig, dass die Moleküle nicht zu groß werden. Denn aus dem Latent Vector einen validen Smiles zu kreieren ist schwierig . Je länger der Smiles wird, desto komplexer wird die Aufgabe für das Netzwerk.\n",
    "\n",
    "Diese Woche kommen die Moleküle auch in einem anderen Dateiformat. Der `.sdf` Format speichert die Moleküle mit mehr Detail. So können hier z.B. auch Informationen zu der Konformation gespeichert werden. \n",
    "\n",
    "Ein einzelnes Molekül wird wie folgt dargestellt:\n",
    "```\n",
    "\n",
    "  Mrv0541 07182119162D          \n",
    "\n",
    " 12 12  0  0  0  0            999 V2000\n",
    "    0.7145    2.0625    0.0000 C   0  0  0  0  0  0  0  0  0  0  0  0\n",
    "    0.7145    1.2375    0.0000 C   0  0  0  0  0  0  0  0  0  0  0  0\n",
    "    1.4289    0.8250    0.0000 C   0  0  0  0  0  0  0  0  0  0  0  0\n",
    "    1.4289   -0.0000    0.0000 C   0  0  0  0  0  0  0  0  0  0  0  0\n",
    "    2.1434   -0.4125    0.0000 F   0  0  0  0  0  0  0  0  0  0  0  0\n",
    "    0.7145   -0.4125    0.0000 C   0  0  0  0  0  0  0  0  0  0  0  0\n",
    "    0.7145   -1.2375    0.0000 C   0  0  0  0  0  0  0  0  0  0  0  0\n",
    "    1.4289   -1.6500    0.0000 O   0  0  0  0  0  0  0  0  0  0  0  0\n",
    "   -0.0000   -1.6500    0.0000 O   0  0  0  0  0  0  0  0  0  0  0  0\n",
    "    0.0000    0.0000    0.0000 C   0  0  0  0  0  0  0  0  0  0  0  0\n",
    "   -0.7145   -0.4125    0.0000 F   0  0  0  0  0  0  0  0  0  0  0  0\n",
    "    0.0000    0.8250    0.0000 C   0  0  0  0  0  0  0  0  0  0  0  0\n",
    "  1  2  1  0  0  0  0\n",
    "  2  3  4  0  0  0  0\n",
    "  3  4  4  0  0  0  0\n",
    "  4  5  1  0  0  0  0\n",
    "  4  6  4  0  0  0  0\n",
    "  6  7  1  0  0  0  0\n",
    "  7  8  2  0  0  0  0\n",
    "  7  9  1  0  0  0  0\n",
    "  6 10  4  0  0  0  0\n",
    " 10 11  1  0  0  0  0\n",
    " 10 12  4  0  0  0  0\n",
    "  2 12  4  0  0  0  0\n",
    "M  END\n",
    ">  <Catalog ID>\n",
    "Z1255462241\n",
    "\n",
    ">  <PlateID>\n",
    "1225133-R3-01\n",
    "\n",
    ">  <Well>\n",
    "A02\n",
    "\n",
    ">  <MW (desalted)>\n",
    "172.129\n",
    "\n",
    ">  <CLogP>\n",
    "2.082\n",
    "\n",
    ">  <HBD>\n",
    "1\n",
    "\n",
    ">  <TPSA>\n",
    "37.300\n",
    "\n",
    ">  <RotBonds>\n",
    "1\n",
    "\n",
    "```\n",
    "Sie sehen auch zusätzliche Informationen wie TPSA oder LogP können gleich mit gespeichert werden.\n",
    "\n",
    "Um so eine `.sdf` Datei in Python einzulesen brauchen wir einen sogenannten `MolSupplier` von `rdkit`. Ein Supplier stellt die Verbindung zwischen unsere Datein und Python her. Mit einem `for-loop` können dann die einzelnen Smiles aus dem SDF-File generiert werden."
   ]
  },
  {
   "cell_type": "code",
   "execution_count": 3,
   "id": "d5bb138f",
   "metadata": {},
   "outputs": [],
   "source": [
    "suppl = Chem.SDMolSupplier(\"../data/high_fidelity/Enamine_High_Fidelity_Fragment_Library_plated_1920cmds_20210718.sdf\")"
   ]
  },
  {
   "cell_type": "code",
   "execution_count": 4,
   "id": "ec71ed05",
   "metadata": {},
   "outputs": [
    {
     "data": {
      "text/plain": [
       "['Cc1cc(F)c(C(=O)O)c(F)c1',\n",
       " 'O=C1CC(CO)(c2ccccc2)CN1',\n",
       " 'O=C1CCC(C(=O)O)(c2ccccc2)CN1',\n",
       " 'C1COC2CCNCC2C1',\n",
       " 'CC1(C)CCCCC1C(=O)O',\n",
       " 'Nc1cc(C(F)(F)F)no1',\n",
       " 'COC1(C)CC(N)C1(C)C',\n",
       " 'Cn1nc(C2CC2)cc1N',\n",
       " 'O=C(O)c1cnoc1C1CC1',\n",
       " 'O=C1CC2(Cc3ccccc3C2)C(=O)N1']"
      ]
     },
     "execution_count": 4,
     "metadata": {},
     "output_type": "execute_result"
    }
   ],
   "source": [
    "smiles = []\n",
    "for mol in suppl:\n",
    "    smiles.append(Chem.MolToSmiles(mol)) \n",
    "smiles[:10]"
   ]
  },
  {
   "cell_type": "markdown",
   "id": "cfdbfa9c",
   "metadata": {},
   "source": [
    "Sie sehen, auch so können wir Smiles aus den `.sdf` Dateien generieren. Auch können wir uns die Strukturen einmal anzeigen lassen, um ein besseres Gefühl für die Art von Fragmenten zu bekommen."
   ]
  },
  {
   "cell_type": "code",
   "execution_count": 5,
   "id": "2b1984e9",
   "metadata": {
    "scrolled": true
   },
   "outputs": [
    {
     "data": {
      "image/png": "[encoded data removed]",
      "text/plain": [
       "<IPython.core.display.Image object>"
      ]
     },
     "execution_count": 5,
     "metadata": {},
     "output_type": "execute_result"
    }
   ],
   "source": [
    "MolsToGridImage([Chem.MolFromSmiles(x)for x in smiles[:9]])"
   ]
  },
  {
   "cell_type": "code",
   "execution_count": 6,
   "id": "dddb44b9",
   "metadata": {
    "scrolled": true
   },
   "outputs": [
    {
     "data": {
      "text/plain": [
       "1920"
      ]
     },
     "execution_count": 6,
     "metadata": {},
     "output_type": "execute_result"
    }
   ],
   "source": [
    "len(smiles)"
   ]
  },
  {
   "cell_type": "markdown",
   "id": "5619c39e",
   "metadata": {},
   "source": [
    "Insgesamt haben wir 1920 Moleküle im Datensatz."
   ]
  },
  {
   "cell_type": "markdown",
   "id": "73af29b3",
   "metadata": {},
   "source": [
    "Wenn Sie sich die Smiles genau anschauen fällt Ihnen etwas auf?"
   ]
  },
  {
   "cell_type": "code",
   "execution_count": 7,
   "id": "b46d9c74",
   "metadata": {},
   "outputs": [
    {
     "data": {
      "text/plain": [
       "['Cc1cc(F)c(C(=O)O)c(F)c1',\n",
       " 'O=C1CC(CO)(c2ccccc2)CN1',\n",
       " 'O=C1CCC(C(=O)O)(c2ccccc2)CN1',\n",
       " 'C1COC2CCNCC2C1',\n",
       " 'CC1(C)CCCCC1C(=O)O',\n",
       " 'Nc1cc(C(F)(F)F)no1',\n",
       " 'COC1(C)CC(N)C1(C)C',\n",
       " 'Cn1nc(C2CC2)cc1N',\n",
       " 'O=C(O)c1cnoc1C1CC1',\n",
       " 'O=C1CC2(Cc3ccccc3C2)C(=O)N1',\n",
       " 'O=C(O)CN1CCc2ccccc2C1=O',\n",
       " 'Cn1ncc2cc(CC(=O)O)ccc21',\n",
       " 'CCC(N)C1CCOCC1',\n",
       " 'NC(=O)c1cccc(CO)c1',\n",
       " 'Cc1nn(C)c(C)c1C1COCCN1',\n",
       " 'Fc1ccc(C2CNCCO2)cc1Cl',\n",
       " 'Nc1nc(C(F)(F)F)ns1',\n",
       " 'OCc1nc(-c2ccc(F)cc2)no1',\n",
       " 'OC1(C2CC2)CCNCC1',\n",
       " 'O=C(O)c1cncc(F)c1',\n",
       " 'CCNCc1cn(C)nn1',\n",
       " 'O=C(O)c1cccc(C2CCCOC2)c1',\n",
       " 'OCc1ccc(-c2c[nH]cn2)cc1',\n",
       " 'OCc1nc2ccc(F)cc2o1',\n",
       " 'O=C(CCc1ccccc1)N1CCNCC1',\n",
       " 'CC1CCCN(C(=O)CO)C1',\n",
       " 'Cl.Cl.NCc1cccc(-n2ccnc2)c1',\n",
       " 'CC1Cc2ccc(F)cc2C1N.Cl',\n",
       " 'Cl.NC1CCCc2cc(F)ccc21',\n",
       " 'CC1CN(c2ccc(CN)cc2)S(=O)(=O)C1',\n",
       " 'OC1(c2ccccc2)CCCC1',\n",
       " 'Nc1nc(C(F)(F)F)co1',\n",
       " 'c1cnc2c(c1)NCCN2',\n",
       " 'CN1CCN(C(=O)C2CCCO2)CC1',\n",
       " 'O=C(O)C1CC12CCOC2',\n",
       " 'O=S1(=O)CC(c2ccc(F)cc2)CN1',\n",
       " 'CC1Oc2c(F)cccc2C1N.Cl',\n",
       " 'CC1c2ccccc2CC1O',\n",
       " 'NS(=O)(=O)c1cnc2ccc(F)cc2c1',\n",
       " 'CNc1ccc(OC)cn1',\n",
       " 'Cn1c(C(=O)O)c2n(c1=O)CCCC2',\n",
       " 'CNC1CCN(Cc2ccncc2)CC1',\n",
       " 'Cc1cccc2c(C(=O)O)coc12',\n",
       " 'CC(C)c1[nH]ncc1C(=O)O',\n",
       " 'NCC1CCc2nccn2C1',\n",
       " 'OCc1nccn1C(F)F',\n",
       " 'C[C@@H]1C[C@H](C(=O)O)CC(=O)N1.Cl',\n",
       " 'c1ccc(-n2ncc3c2CCNC3)cc1',\n",
       " 'CC(C)c1nccc(O)n1',\n",
       " 'OCC1CN(Cc2ccccc2)CCO1',\n",
       " 'COc1ccc(Cl)cc1C(O)CN',\n",
       " 'O=C(O)c1ccnc(C2CC2)c1',\n",
       " 'Cc1ccc(N2CCNCC2=O)cc1',\n",
       " 'O=C(C1CC1)N1CCCNCC1',\n",
       " 'FC(F)(F)c1cccc(C2CNCCO2)c1',\n",
       " 'CN(C)C1CCCC(N)C1',\n",
       " 'Cc1ncccc1OC1CCNC1.Cl.Cl',\n",
       " 'Cc1nnc(-c2cccc(C#N)c2)[nH]1',\n",
       " 'OCc1cnn2c1CCC2',\n",
       " 'Cl.NCC1(CF)CCOCC1',\n",
       " 'Nc1ccc(OC(F)F)cn1',\n",
       " 'COc1ccc(C(N)=O)cc1F',\n",
       " 'O=C(O)c1onc2c1CCCC2',\n",
       " 'Nc1ccn(CC2CCOC2)n1',\n",
       " 'CCN1CCC(CCN)CC1',\n",
       " 'CC1(C(=O)O)CCCOC1',\n",
       " 'NC(Cn1cncn1)c1ccccc1',\n",
       " 'CS(=O)(=O)c1ccc(C(N)=O)cc1',\n",
       " 'FC(F)Oc1cccc(C2CNCCO2)c1',\n",
       " 'Cl.FC(F)(F)c1cnn(C2CCNCC2)c1',\n",
       " 'O=c1[nH]nc2n1CCNC2',\n",
       " 'C1CN(CC2CCOCC2)CCN1',\n",
       " 'NC(=O)C1CCC(O)CC1',\n",
       " 'Cn1cc(C(=O)O)c2c(c1=O)CCCC2',\n",
       " 'Nc1cnc(Cc2ccc(F)cc2)nc1',\n",
       " 'OCC1CN(c2ccccc2)CCO1',\n",
       " 'O=C(O)C1(C(=O)N2CCCC2)CC1',\n",
       " 'COc1ccc(C(C)O)cc1Cl',\n",
       " 'CCc1nc(C)c(C(=O)O)o1',\n",
       " 'Cc1cc(C2CNCCO2)ccc1F',\n",
       " 'NC1CN(Cc2ccccc2)CCC1CO',\n",
       " 'Cc1cc(-n2ccnc2)ccc1C(=O)O',\n",
       " 'Cc1cccc(NC(=O)C2CCNCC2)n1',\n",
       " 'OCc1cc2n(n1)CCC2',\n",
       " 'OCc1ccn(-c2ccccc2F)n1',\n",
       " 'Cc1onc(C2CC2)c1C(=O)O',\n",
       " 'NC(=O)C1CCC(F)(F)CC1',\n",
       " 'Cc1cc(O)nc(C(=O)O)c1',\n",
       " 'Cc1n[nH]c(N)c1-c1ccc(F)cc1',\n",
       " 'Cn1c(CO)nnc1-c1ccc(F)cc1',\n",
       " 'CCC(C)n1ncc(C(=O)O)c1C',\n",
       " 'CC1(c2cc(N)on2)CCCO1',\n",
       " 'NS(=O)(=O)c1ccc2c(c1)CC(=O)N2',\n",
       " 'CC1CCN(CCN)CC1',\n",
       " 'CC(C)c1ncsc1C(=O)O',\n",
       " 'CCC1CN(S(C)(=O)=O)CCC1N',\n",
       " 'CCC(C)n1cc(Cl)c(C(=O)O)n1',\n",
       " 'NS(=O)(=O)c1ccc2c(c1)CCCO2',\n",
       " 'C1CC(CN2CCOCC2)CN1',\n",
       " 'CCn1cc(C(=O)O)c(C(C)C)n1',\n",
       " 'Cc1sccc1CC(=O)O',\n",
       " 'Nc1nnc(Cc2ccc(F)cc2)o1',\n",
       " 'Cc1cc(N)nc(-c2ccccc2)n1',\n",
       " 'Cn1c(NCCO)nc2ccccc21',\n",
       " 'Cn1nc(C(F)(F)F)nc1N',\n",
       " 'O=c1[nH]c2ccccc2c(=O)n1CCO',\n",
       " 'Cc1cc(CO)oc1C(=O)O',\n",
       " 'O=C(O)CC1OCCc2ccccc21',\n",
       " 'OCCN1CCc2ccccc2C1',\n",
       " 'CCNc1ccc(C#N)cn1',\n",
       " 'O=C1NCCn2nccc21',\n",
       " 'CC1(C)CC(O)CC(C)(C)N1',\n",
       " 'CC1CN(CCO)CCO1',\n",
       " 'CNC(C)c1sc(C)nc1C',\n",
       " 'O=C(O)Cc1cnccc1C(F)(F)F',\n",
       " 'O=S1(=O)CCc2c[nH]cc21',\n",
       " 'Nc1cc(CCc2ccco2)no1',\n",
       " 'Cn1cnnc1-c1ccccc1Cl',\n",
       " 'Cc1cccc2[nH]c(C(=O)O)cc12',\n",
       " 'Cn1cc(C(=O)O)c(C2CCC2)n1',\n",
       " 'Cl.NCC#Cc1cccc(F)c1',\n",
       " 'Nc1nnc(Cc2cccc(F)c2)o1',\n",
       " 'Cc1cc(C)c2c(N)nsc2n1',\n",
       " 'O=C(O)CN1CCN(C2CC2)C1=O',\n",
       " 'Cc1n[nH]c(C)c1C1CCC(=O)N1',\n",
       " 'O=C1CC=NN1Cc1ccccc1',\n",
       " 'NC(=O)C1COc2ccccc2O1',\n",
       " 'OCCc1cn(-c2ccccc2F)nn1',\n",
       " 'NC1CCOC(C2CC2)C1',\n",
       " 'Nc1nc(-c2ccccc2F)co1',\n",
       " 'O=C(c1ccc(F)cc1Cl)N1CCNCC1',\n",
       " 'COCCN1CCNC(C)(C)C1',\n",
       " 'CCC1NC(=O)CCN(C)C1=O',\n",
       " 'Cc1nc2c(F)cccc2[nH]1',\n",
       " 'Cl.O=C(c1cc(Cl)ccc1F)N1CCNCC1',\n",
       " 'CNC(C)c1cnn(C)c1',\n",
       " 'c1cncc(C2NCCc3nc[nH]c32)c1',\n",
       " 'OCCNc1ccc(F)c(F)c1',\n",
       " 'COc1ccc(CC(=O)O)cc1F',\n",
       " 'Cn1nnc2cnccc21',\n",
       " 'CCc1csc(-c2c[nH]cn2)n1',\n",
       " 'Cc1ccc2c(C(=O)O)c[nH]c2c1',\n",
       " 'CCc1oncc1C(=O)O',\n",
       " 'O=C1CC(C(F)(F)F)C2(CCOCC2)CN1',\n",
       " 'Nc1ccnn1Cc1ccc(F)cc1',\n",
       " 'O=C(C1CCC1)N1CCCc2ncccc21',\n",
       " 'Nc1nnc(C(F)F)s1',\n",
       " 'O=C1COC(C2CC2)CN1',\n",
       " 'N#Cc1cnn2c(C(F)(F)F)ccnc12',\n",
       " 'O=C(c1ccc(F)cc1)N1CCNCC1',\n",
       " 'Nc1nc(CC2CC2)ns1',\n",
       " 'O=S(=O)(NC1CC1)c1ccc(F)cc1Cl',\n",
       " 'COc1cccc(C2(O)CCC2)c1',\n",
       " 'OC1CCCOc2c(F)cccc21',\n",
       " 'CC1CCCC1NCCO',\n",
       " 'NC(=O)N1CCC(C(=O)O)CC1',\n",
       " 'OCCc1ccnc2ccccc12',\n",
       " 'CN1CCC(C(=O)O)CC1=O',\n",
       " 'OC1CCc2[nH]ncc2C1',\n",
       " 'NS(=O)(=O)c1ccc(Cl)cn1',\n",
       " 'CCc1nc(C(=O)O)co1',\n",
       " 'CC(C)(O)c1nc2ccccc2[nH]1',\n",
       " 'O=C(O)c1ccncc1C(F)(F)F',\n",
       " 'O=C1NCCC1Cc1ccccc1',\n",
       " 'Cc1nc2c([nH]1)CCCC2',\n",
       " 'CC(O)c1ccc(F)cn1',\n",
       " 'CC(C)(O)c1ncccn1',\n",
       " 'OCCNC1CCOCC1',\n",
       " 'CN1CC(C(=O)O)CC1=O',\n",
       " 'Cl.NCC#Cc1ccc(C(F)(F)F)cc1',\n",
       " 'CCC1C(=O)Nc2ccccc21',\n",
       " 'O=c1n(CC(F)F)nc2n1CCNC2',\n",
       " 'Nc1nnc(CC2CC2)o1',\n",
       " 'OCC1CCN(CC(F)F)CC1',\n",
       " 'OCc1cnn2c1CCCC2',\n",
       " 'CC1Cc2cc(CO)ccc2O1',\n",
       " 'O=C1NCCN1c1ccccc1C(F)(F)F',\n",
       " 'Nc1nnc(Cc2ccc(F)cc2)s1',\n",
       " 'Cc1nc(C(C)C)oc1CO',\n",
       " 'CC1(C(=O)O)CCCCO1',\n",
       " 'OCc1nnc(C2CC2)s1',\n",
       " 'OC1(Cc2ccc(F)cc2)CCOCC1',\n",
       " 'O=S1(=O)Cc2ccccc2C1',\n",
       " 'Cc1ccc2c(c1)CC(=O)N2C',\n",
       " 'O=C1CC=NN1c1ccccc1F',\n",
       " 'Cc1cc(C2CCCN2)on1',\n",
       " 'Cc1c(N)noc1-c1ccccc1F',\n",
       " 'CCOC1CC(C(=O)O)C1',\n",
       " 'Cc1csc(C(C)N2CCNCC2)n1',\n",
       " 'NS(=O)(=O)c1cn2c(n1)CCCC2',\n",
       " 'OCc1c[nH]c(Cc2ccccc2)n1',\n",
       " 'OCC1CCCC(F)(F)C1',\n",
       " 'Cc1[nH]nc(C(F)(F)F)c1Cl',\n",
       " 'COc1cc(C)ccc1C#N',\n",
       " 'OCc1cc(Cl)c2c(c1)OCCCO2',\n",
       " 'Cn1nc(-c2cc(F)cc(F)c2)cc1N',\n",
       " 'COCc1cc(=O)c2cc(F)ccc2[nH]1',\n",
       " 'CC1CC(O)c2nccn21',\n",
       " 'CN1CCC(Oc2cccc(F)c2)C1=O',\n",
       " 'Cc1cc2nccc(C(F)(F)F)n2n1',\n",
       " 'Cl.NC(CO)c1ccccc1F',\n",
       " 'NC(=O)c1c(-c2ccccc2)noc1N',\n",
       " 'O[C@H]1CN(CC(F)F)C[C@H]1O',\n",
       " 'COCCc1ccnc(N)c1',\n",
       " 'Cc1ccc2[nH]cnc2c1C',\n",
       " 'Cn1cc(N)c(-c2ccccc2)n1',\n",
       " 'O=C1NCCCN1Cc1ccccc1',\n",
       " 'CNC1CCCc2c1cnn2C',\n",
       " 'Cn1nc(C(N)=O)cc1OC(F)F',\n",
       " 'Nc1nc2cnccc2s1',\n",
       " 'Cn1nc(-c2ccc(F)cc2F)cc1N',\n",
       " 'CC1COC(CO)CN1Cc1ccccc1',\n",
       " 'O=C(O)c1cncc(C(F)(F)F)c1',\n",
       " 'CN(C)c1cc(N)ccn1',\n",
       " 'Nc1noc(Cc2ccc(F)cc2)n1',\n",
       " 'C=CCOc1cccnc1',\n",
       " 'CC1(C)CCCC1C(=O)O',\n",
       " 'O=C(O)C1C=CC=CC=C1',\n",
       " 'Cn1cc(CO)c(C(F)F)n1',\n",
       " 'CC(N)c1ccc(-n2cncn2)cc1',\n",
       " 'O=c1ccccn1C(F)F',\n",
       " 'CCOc1cncc(CO)c1',\n",
       " 'CC(O)CN1CCOC(C)C1',\n",
       " 'CN1N=C(C2CCCC2)CC1=O',\n",
       " 'CC1(C)CCCC1(O)CN',\n",
       " 'O=C1CCC(C(F)(F)F)=NN1',\n",
       " 'O=C1CC(C(F)(F)F)CN1',\n",
       " 'CC(C)Oc1ccncc1CO',\n",
       " 'Cc1nc2cc(C(=O)O)c(F)cc2[nH]1',\n",
       " 'c1ccc(CCC2CNCCO2)cc1',\n",
       " 'CC(C)c1scnc1C(=O)O',\n",
       " 'Cc1csc(Cc2ccccn2)n1.Cl.Cl',\n",
       " 'CC(N)c1cccc(N2CCNC2=O)c1',\n",
       " 'O=C1COc2cc(F)ccc21',\n",
       " 'CC1(O)CCCC(C(F)(F)F)C1',\n",
       " 'Cl.Nc1cnn(-c2ccccc2)c1C(F)(F)F',\n",
       " 'OCc1ccc2occc2c1',\n",
       " 'Cc1c(C(F)(F)F)nn(C)c1N',\n",
       " 'COc1c(C)csc1C(=O)O',\n",
       " 'O=C(O)CC1NC(=O)c2ccccc21',\n",
       " 'Cl.NC1CCCc2c(F)cccc21',\n",
       " 'Cl.NCCC1C(=O)Nc2ccc(F)cc21',\n",
       " 'C1CC2(CCOCC2)CN1',\n",
       " 'CC1CN(CCCN)CCCO1',\n",
       " 'Nc1cccnc1C(F)(F)F',\n",
       " 'O=C(O)c1cc(C2CC2)no1',\n",
       " 'Cc1n[nH]cc1C1CCNCC1',\n",
       " 'Cc1c(N)cnn1C1CCOC1',\n",
       " 'CS(=O)(=O)c1ccc(CO)s1',\n",
       " 'COc1cc2c(O)ccnc2cc1F',\n",
       " 'Nc1cc(C2CCCC2)no1',\n",
       " 'CS(=O)(=O)c1ccccc1F',\n",
       " 'CC1CCC(NCCO)C1',\n",
       " 'Cc1ccc(-c2nn(C)cc2C(=O)O)o1',\n",
       " 'CCc1ocnc1C(=O)O',\n",
       " 'CC(N)c1nc(C(F)(F)F)cs1',\n",
       " 'O=C(O)[C@@H]1COCC[C@@H]1c1ccccc1',\n",
       " 'COc1cccc2c1nc(N)n2C',\n",
       " 'Cc1ccc(Cn2nccc2N)o1',\n",
       " 'Cc1nccn1Cc1cccc(C#N)c1',\n",
       " 'O=C1NCCCc2[nH]ncc21',\n",
       " 'NC(=O)c1ccc2c(n1)NCCC2',\n",
       " 'OC(c1ccc(F)cc1)C1CCNCC1',\n",
       " 'C1CCC(NCC2CCCO2)C1',\n",
       " 'O=C1CCCc2cc(C(=O)O)ccc2N1',\n",
       " 'C1CNCC2(C1)CCCOC2',\n",
       " 'CCc1nc(C)c(C(=O)O)s1',\n",
       " 'NCC(O)c1ccc(Cl)cc1Cl',\n",
       " 'Cc1ccc(CN2CCCNC2=O)cc1',\n",
       " 'O=C(O)C1(C(=O)NC2CC2)CC1',\n",
       " 'CCc1nc(C(C)N)cs1',\n",
       " 'Cc1occc1-c1cc(N)no1',\n",
       " 'O=c1ccc(C2CC2)n[nH]1',\n",
       " 'O=C(O)C1CCCc2[nH]cnc21',\n",
       " 'O=C(O)c1cnn2c1CCC2',\n",
       " 'Clc1cccc(C2CNCCN2)c1',\n",
       " 'COCCN1CCCC(O)C1',\n",
       " 'CC1(C)CNCC(C)(C)N1',\n",
       " 'O=C(O)C(C1CC1)C1CC1',\n",
       " 'N#Cc1ccc(C(F)(F)F)[nH]1',\n",
       " 'N#CC1(c2ccccc2F)CC1',\n",
       " 'O=c1[nH]c2cc(F)ccc2o1',\n",
       " 'CC1CCc2onc(C(=O)O)c2C1',\n",
       " 'NCC1CCCCN1CCO',\n",
       " 'NC(=O)c1ccccc1CC(=O)O',\n",
       " 'Cc1c(C(=O)O)cnn1C',\n",
       " 'Cc1ccc(-c2cc(C(=O)O)on2)cc1',\n",
       " 'CC(C)c1nn(C)cc1C#N',\n",
       " 'O=C(O)C1(C2CCCC2)CCNC1=O',\n",
       " 'CCn1nccc1C(=O)O',\n",
       " 'COc1cc(F)c(C(C)N)cc1OC',\n",
       " 'c1cc2sccc2c(N2CCNCC2)n1',\n",
       " 'CC1(C)CNC(=O)CC(C)(C)C1',\n",
       " 'COCC1(CN)CCCC1',\n",
       " 'Cl.NCC1OCCc2sc(F)cc21',\n",
       " 'COc1cccc(C(O)CO)c1',\n",
       " 'CC[C@@H]1CC[C@@H](C)NC1=O',\n",
       " 'O=C(O)CC1CCC(=O)NC1',\n",
       " 'COC1(CN)CCC(C)CC1',\n",
       " 'c1csc(-c2nnc[nH]2)n1',\n",
       " 'O=C1CC(CO)CN1Cc1ccccc1',\n",
       " 'CC(C)n1ncc(Cl)c1C(=O)O',\n",
       " 'CC1(C(=O)O)CC=CCC1',\n",
       " 'O=C(O)CC1CCCCC(=O)N1',\n",
       " 'CC(C)N1Cc2ccccc2NC1=O',\n",
       " 'Cc1nc(C(=O)O)c(C)o1',\n",
       " 'O=C(O)c1cc(C2CC2)on1',\n",
       " 'O=c1cccnn1-c1ccccc1',\n",
       " 'COc1ccc(N)c(C(F)(F)F)n1.Cl',\n",
       " 'Cc1nc(C)c(N(C)C)nc1C',\n",
       " 'O=C(O)c1cccc2c1NCC2',\n",
       " 'Cn1nccc1C(O)C1CCNCC1',\n",
       " 'CC(N)c1nccn1-c1ccccc1.Cl',\n",
       " 'OCc1nnc2n1CCCC2',\n",
       " 'CC1(C(=O)O)CCC(=O)NC1',\n",
       " 'Cc1csc(C2CNCCO2)n1',\n",
       " 'CN1CC(C(=O)O)c2ccccc2C1=O',\n",
       " 'Fc1ccc(C2CCCCN2)nc1',\n",
       " 'O=C(O)c1ccc(C(F)F)o1',\n",
       " 'Cn1ncc(C(=O)O)c1Cc1ccccc1',\n",
       " 'COc1ccc(OC)c2c1CNCC2O',\n",
       " 'CN1CCC2OCCNC2C1',\n",
       " 'Cl.Nc1ccc(C(F)(F)F)[nH]c1=O',\n",
       " 'FC(F)(F)c1csc(C2CCNCC2)n1',\n",
       " 'Cc1cnc2c(c1)NCCN2',\n",
       " 'Nc1ccc(CCO)nc1',\n",
       " 'CC1(C)CCC(C(=O)O)O1',\n",
       " 'Cc1cccc2nc(C3CCNCC3)oc12',\n",
       " 'CC(C)Cc1nsc(N)n1',\n",
       " 'NS(=O)(=O)c1ccc2c(c1)C(=O)NCC2',\n",
       " 'FC(F)(F)c1csc(C2CCCNC2)n1',\n",
       " 'CC1CCn2ncc(C(=O)O)c2C1',\n",
       " 'O=C(O)c1cnn(C2CC2)c1',\n",
       " 'OCc1cnnn1-c1ccccc1',\n",
       " 'O=C1CC(C(=O)O)CCN1',\n",
       " 'OCC1(c2ccccc2)CCNCC1',\n",
       " 'NC(=O)c1ccccc1N1CCC(N)C1',\n",
       " 'Cl.O[C@H]1C[C@@H](N2CCCC2)C1',\n",
       " 'CC(C)c1nocc1C(=O)O',\n",
       " 'Cl.Cl.c1cc(CC2CCNCC2)[nH]n1',\n",
       " 'CNCc1ccc(OC)c(F)c1.Cl',\n",
       " 'CC(C)Nc1nccn1C',\n",
       " 'O=C1CC2(CCOC2)CN1',\n",
       " 'Cn1nc(C(F)F)c2cc(C(=O)O)sc21',\n",
       " 'C[C@H]1C[C@@H](C)Nc2ncnn21',\n",
       " 'Cn1cc(C2CCCCN2)cn1',\n",
       " 'c1ccc2c(c1)COCCN2',\n",
       " 'COc1ccccc1C1CCCN1',\n",
       " 'COCc1ccc(C(=O)O)cc1',\n",
       " 'Cc1ccc(S(N)(=O)=O)c(F)c1',\n",
       " 'CCOc1ccc(C#N)cc1F',\n",
       " 'Cc1cc(C(=O)O)c(C)n1C1CCOC1',\n",
       " 'Cc1nn(C)c(C)c1C1CCCN1',\n",
       " 'Cc1ccc(-n2cc[nH]c2=O)cc1',\n",
       " 'Cc1c(N)ccnc1CO',\n",
       " 'O=C(O)Cn1ncc2ccccc21',\n",
       " 'COc1ccsc1C(=O)O',\n",
       " 'Cn1cc2c(n1)CCCC2C(=O)O',\n",
       " 'O=C1CCC(C(=O)O)CN1',\n",
       " 'NC(=O)c1ccc2c(c1)NC(=O)CCN2',\n",
       " 'NS(=O)(=O)c1cncc(Cl)c1',\n",
       " 'C[C@@H]1CN(C2CCOCC2)CCN1',\n",
       " 'NS(=O)(=O)c1ccccc1F',\n",
       " 'CC1(C)COC(c2cccc(F)c2)CN1',\n",
       " 'Cn1cc(C(=O)O)c(C2CC2)n1',\n",
       " 'Cc1ccc(C(N)Cn2ccnc2)c(C)c1',\n",
       " 'Cl.NCc1nc(C(F)F)no1',\n",
       " 'NS(=O)(=O)c1cccc2ncccc12',\n",
       " 'C1CCC(CN2CCOCC2)NC1',\n",
       " 'O=c1[nH]nc(C2CC2)cc1C(F)(F)F',\n",
       " 'NC1CCOC(c2ccncc2)C1',\n",
       " 'CC(C)c1nc(C2CCCN2)no1',\n",
       " 'COCc1csc(C(=O)O)c1',\n",
       " 'O=C(O)Cn1c(=O)[nH]c2ccccc21',\n",
       " 'O=C(O)C1CCc2ccccc21',\n",
       " 'COCc1ccccc1C#N',\n",
       " 'Cn1nc(N)c2cnccc21',\n",
       " 'CCn1ncc(N)c1C(F)(F)F.Cl',\n",
       " 'CC1CCCC1(C)C(=O)O',\n",
       " 'Cn1ccnc1C1CC(N)CCO1',\n",
       " 'Cl.NC1CC(=O)N(c2ccccc2F)C1',\n",
       " 'NC(=O)c1n[nH]c(Cc2ccccc2)n1',\n",
       " 'Cc1nn(C(C)C)cc1C(=O)O',\n",
       " 'N#Cc1coc(C(F)(F)F)n1',\n",
       " 'NC1CCC(N2CCCCC2)CC1',\n",
       " 'COCC1(C)CNCCO1',\n",
       " 'Cn1cc(C(=O)NCC2CCNCC2)cn1',\n",
       " 'CCOC1CC(O)C12CCOCC2',\n",
       " 'Cc1cc(CC2CCCC2N)n(C)n1',\n",
       " 'CC1NCCS(=O)(=O)C1C',\n",
       " 'NCC1(CCO)CCCC1',\n",
       " 'CC(C)c1noc([C@]23CCC[C@H]2CNC3)n1.Cl',\n",
       " 'O=C1CCCCN1CCO',\n",
       " 'OCc1cnc2c(F)cccc2c1',\n",
       " 'O=C(O)c1cccc2c1COCC2',\n",
       " 'CC1(C)NC(=O)CCC1N',\n",
       " 'CCC(C)n1nccc1C(=O)O',\n",
       " 'Cl.Cl.NCCc1nccn1C(F)F',\n",
       " 'CNC(=O)c1ccc(S(N)(=O)=O)cc1',\n",
       " 'OCc1cc(C(F)(F)F)no1',\n",
       " 'Cc1oc(C#N)cc1C(=O)O',\n",
       " 'c1cc2n(c1)CCNC21CCOCC1',\n",
       " 'CCN1CCC(=O)NC2(CCCC2)C1=O',\n",
       " 'O=C1COCC(Cc2ccccc2)N1',\n",
       " 'CC1(Cc2ccccc2)CCNC1=O',\n",
       " 'O=c1[nH]nc2c(c1C(F)(F)F)CCC2',\n",
       " 'CN(C)C1(CN)CCOCC1',\n",
       " 'OCCC1CCc2ccccc2N1',\n",
       " 'CC(C)n1ncc2c(=O)[nH]cnc21',\n",
       " 'CN1CCC(C)(CO)CC1',\n",
       " 'COC1CCN(C2CCCCC2N)CC1',\n",
       " 'COc1cc(C#N)cc(C)n1',\n",
       " 'CC1(C)NC(=O)CC1c1ccccc1',\n",
       " 'CCC(c1ccccc1)C1CNC(=O)C1',\n",
       " 'COc1ccncc1CO',\n",
       " 'NC(=O)c1ccc2ncccc2c1',\n",
       " 'Cc1noc(C(F)(F)F)c1C(=O)O',\n",
       " 'Cn1cc2cn[nH]c(=O)c2n1',\n",
       " 'Cn1c(=O)n(CC(=O)O)c2ccccc21',\n",
       " 'Cn1ccnc1C1CCNC1',\n",
       " 'Cc1nsc(N)c1C(N)=O',\n",
       " 'O=C(O)C1CCCC(F)(F)C1',\n",
       " 'COc1ccc2c(c1)OCCNC2=O',\n",
       " 'OCC1CNc2c(F)cccc2C1',\n",
       " 'Cc1nc2n(n1)CCNC2',\n",
       " 'COc1ccccc1C1CNCCN1',\n",
       " 'COC1(CC(=O)O)CCC1',\n",
       " 'O=C(O)C1CNc2ccc(F)cc2C1',\n",
       " 'Cc1ncc2c(n1)CCC(N)C2',\n",
       " 'CC1(C)CC(O)C(C)(C)O1',\n",
       " 'O=C1CCc2cccnc2N1',\n",
       " 'Nc1cnc(CC2CC2)nc1',\n",
       " 'OCCc1nnc(-c2ccccc2)o1',\n",
       " 'Nc1cnc(C(F)(F)F)nc1',\n",
       " 'O=S1(=O)CCNCC12CCCCC2',\n",
       " 'O=C1Nc2ccccc2CCC1O',\n",
       " 'CCn1nc(N)cc1C1CC1',\n",
       " 'Nc1ncc(C(F)(F)F)cn1',\n",
       " 'NCCc1nnc2n1CCCCC2',\n",
       " 'O=C(O)c1cc2c(cn1)CCCC2',\n",
       " 'O=C(O)c1ccoc1C1CC1',\n",
       " 'CC1NCCn2c(C(=O)NC3CC3)ccc21',\n",
       " 'OC1CCCc2c[nH]nc21',\n",
       " 'COc1cccc(CO)n1',\n",
       " 'COc1cc2c(cc1OC)C(C)NCC2',\n",
       " 'CCC1(CO)CCNCC1',\n",
       " 'O=C1CCCCN1c1ccccc1',\n",
       " 'Cc1nn(C)cc1CCO',\n",
       " 'CNC(=O)c1cc2ccccc2n1C',\n",
       " 'c1cc(OCC2CCCCO2)ccn1',\n",
       " 'c1csc(N2CCCNCC2)n1',\n",
       " 'O=C(O)c1ccc(C(F)(F)F)c(=O)[nH]1',\n",
       " 'CN1C(=O)CCc2ccc(F)cc21',\n",
       " 'O=C1CN2CCCC2CN1',\n",
       " 'OCc1cc2cnccc2o1',\n",
       " 'CC1Cc2cnccc2N1',\n",
       " 'COC1(C#N)CCOCC1',\n",
       " 'NC1CCN(C2CCCCC2)CC1',\n",
       " 'NC(=O)c1ccc(OC(F)F)cn1',\n",
       " 'CS(=O)(=O)c1ccc(C#N)cc1F',\n",
       " 'O=C(O)c1cc2n(n1)CCCC2',\n",
       " 'O=C(O)CN1CCCC1=O',\n",
       " 'O=C1COC(c2cccc(Cl)c2)CN1',\n",
       " 'COc1ccc(S(C)(=O)=O)cc1',\n",
       " 'Cc1cn2c(n1)CNCC2.Cl.Cl',\n",
       " 'COc1ccc(Cl)cc1C(=O)O',\n",
       " 'O=C1CC(C(=O)O)(c2ccccc2)CN1',\n",
       " 'C1CCC2(CC1)COCCN2',\n",
       " 'CC(C)n1nc2c(c1N)CCC2',\n",
       " 'CN1CC(=O)Nc2cccnc21',\n",
       " 'NC(=O)Cc1c(F)cccc1F',\n",
       " 'OCc1nc(Cc2cccc(F)c2)no1',\n",
       " 'Cn1cc(N2CCC(CO)C2)cn1',\n",
       " 'CCOc1cccc(C)n1',\n",
       " 'Clc1cnn(C2CCNC2)c1',\n",
       " 'CC1(c2cccc(F)c2)CC1N.Cl',\n",
       " 'NS(=O)(=O)c1cnc2c(c1)CCC2',\n",
       " 'CC(C)c1nn(C)cc1N',\n",
       " 'CCc1ncoc1C(=O)O',\n",
       " 'CCn1nnc(C)c1CO',\n",
       " 'O=C1CC(C(F)(F)F)C(C(=O)O)N1',\n",
       " 'Nc1cc2n(n1)CCCC2',\n",
       " 'O=c1[nH]c(C(F)(F)F)nc2[nH]cnc12',\n",
       " 'OCc1ccccc1CC1CCNCC1',\n",
       " 'N#Cc1cccc(C(F)F)c1',\n",
       " 'Cc1c([C@@H]2OCC[C@H]2N)cnn1C.Cl.Cl',\n",
       " 'Cc1nc(-c2ccco2)ccc1C(=O)O',\n",
       " 'N#CC1CCCC(F)(F)C1',\n",
       " 'OCCN1CCCCCC1',\n",
       " 'CCC1OCCC1C(=O)O',\n",
       " 'Cn1nccc1CC1CCNCC1',\n",
       " 'CC1CNC(=O)CC(C)C1',\n",
       " 'Cc1[nH]nc(C(=O)O)c1F.Cl',\n",
       " 'Cn1nccc1C(N)c1ccnn1C',\n",
       " 'O=C(O)Cc1ccc2[nH]c(=O)[nH]c2c1',\n",
       " 'CN(C)Cc1nc(CO)cs1',\n",
       " 'CCc1noc(CC2CCNCC2)n1',\n",
       " 'Cl.Nc1ccnn1Cc1ccccc1F',\n",
       " 'O=C1NCCCNC1Cc1ccccc1',\n",
       " 'Cc1csc(N2CCCNCC2)n1',\n",
       " 'Cn1cc(CC(=O)O)cn1',\n",
       " 'Nc1cc(CC2CC2)n[nH]1',\n",
       " 'Fc1ccccc1CNc1cn[nH]c1',\n",
       " 'Cc1cc(N)n(C2CCOCC2)n1',\n",
       " 'O=C(O)CC1CCCC(=O)N1',\n",
       " 'CC(O)c1ccc(C(F)(F)F)cn1',\n",
       " 'NC(=O)C1CNCCN1C1CC1',\n",
       " 'CC1(C(=O)O)CNC(=O)C1',\n",
       " 'CN1CCN(C2CCCC2O)CC1',\n",
       " 'CCN1CCCCC1CO',\n",
       " 'O=C1NCc2ncccc21',\n",
       " 'NS(=O)(=O)c1cccc2c1CCNC2',\n",
       " 'COc1ccccc1-c1ncccc1N',\n",
       " 'Fc1cccnc1OC1CCCNC1',\n",
       " 'N#Cc1cc2c([nH]c1=O)CCOC2',\n",
       " 'Cl.O=S(=O)(c1ccccc1F)C1CNC1',\n",
       " 'C1COC(C2CCNCC2)C1',\n",
       " 'Cn1[nH]c(=O)c2ccccc21',\n",
       " 'COc1ccc2c(c1)CC(=O)NCC2',\n",
       " 'COc1ccc(C2CNC(=O)C2)cc1',\n",
       " 'CCC(N)c1nnc2n1CCCCC2',\n",
       " 'CNc1cnnc2ccccc12',\n",
       " 'Cc1cc(C(O)c2cc(C)n(C)n2)cs1',\n",
       " 'CCC1CCNC(=O)CC1',\n",
       " 'Cn1cc(CNc2ccc(F)cc2)cn1',\n",
       " 'Cl.NCc1noc(-c2cccc(F)c2)n1',\n",
       " 'CC1NCCn2cnnc21',\n",
       " 'OC1(Cc2ccccc2)CC2CCC(C1)N2',\n",
       " 'CNCc1ccc(OC)c(Cl)c1',\n",
       " 'CN1C(=O)NCC1Cc1ccccc1',\n",
       " 'Cn1nccc1C1=CC2CCC(C1)N2',\n",
       " 'Cc1ccccc1CC(N)=O',\n",
       " 'CCOc1ccc(N)nc1C',\n",
       " 'OCCc1c[nH]nc1C(F)(F)F',\n",
       " 'O=C(O)C1Cc2ccc(F)cc21',\n",
       " 'O=C(Nc1nccs1)C1CCCNC1',\n",
       " 'c1ccc2c(c1)CCC21CNCCO1',\n",
       " 'COC1(C)CC(O)C1(C)C',\n",
       " 'O=C(O)Cc1ccccc1F',\n",
       " 'CC1CNCC(C2CC2)O1',\n",
       " 'CCc1cc(Cl)cnc1N',\n",
       " 'COc1cccc2ccc(N)nc12',\n",
       " 'FC(F)(F)c1cn2cccnc2n1',\n",
       " 'COc1cc2nc(C)sc2cc1OC',\n",
       " 'CCc1n[nH]c(=O)n1CC',\n",
       " 'O=S(=O)(NC1CC1)c1ccc(F)cc1',\n",
       " 'CC1(c2ccc(F)cc2)CC(=O)NC1=O',\n",
       " 'Cc1nc(C)n(C2CCCNC2)n1',\n",
       " 'c1ccc(Cc2nnc[nH]2)cc1',\n",
       " 'Cl.Nc1nccn1Cc1ccccc1F',\n",
       " 'Cc1cccc(-c2c(C)n[nH]c2N)c1',\n",
       " 'Cc1ccn2ncnc2c1N',\n",
       " 'CC1(C)CNC1c1cccnc1',\n",
       " 'O=C(Cc1ccc(F)cc1)N1CCNCC1',\n",
       " 'C1CCC(COC2CCNCC2)OC1',\n",
       " 'Cc1c[nH]c(=O)n1-c1ccccc1F',\n",
       " 'Cc1ccc2nc(C(=O)O)ccc2c1',\n",
       " 'Cl.NCC1COc2ccccc2C1',\n",
       " 'CC(C)C1CCCC(N)C1',\n",
       " 'O=S1CCNC(c2ccccc2)C1',\n",
       " 'Cc1nn(C)c(N)c1C#N',\n",
       " 'O=C1NCCC1C1CCCCC1',\n",
       " 'Cn1nc(-c2ccccc2)nc1N',\n",
       " 'Cc1noc(C)c1CC(=O)O',\n",
       " 'CCc1noc(C)c1C(=O)O',\n",
       " 'Cc1nn(C)c(C)c1[C@@H]1OCC[C@H]1CN',\n",
       " 'O=C(O)CC1CCCCNC1=O',\n",
       " 'O=C(O)C1(O)CCC(C(F)(F)F)CC1',\n",
       " 'NC(=O)c1cccc2c1CCCN2',\n",
       " 'CC(N)c1noc(C(F)(F)F)n1.Cl',\n",
       " 'Cl.Nc1nnc(Cc2ccccc2)s1',\n",
       " 'CC(O)c1cnn(C2CCCC2)c1',\n",
       " 'CC1(c2nsc(N)n2)CC1',\n",
       " 'NC(=O)C1CCc2ccccc21',\n",
       " 'N#Cc1ccc(C(F)F)nc1',\n",
       " 'Cn1nc(N)cc1OC(F)F',\n",
       " 'c1cc(C2CCCCN2)n[nH]1',\n",
       " 'Cc1cccc(C(O)c2c[nH]cn2)c1C',\n",
       " 'OCc1ncnn1CC(F)F',\n",
       " 'Cc1cnn(-c2ccc(C(C)N)cc2F)c1.Cl',\n",
       " 'Cc1oc(C(=O)O)cc1CO',\n",
       " 'Cn1cc(C(=O)O)c(-c2ccco2)n1',\n",
       " 'c1ccc(C2CNCCN2)cc1',\n",
       " 'NC(=O)C1CNc2ccccc2C1',\n",
       " 'Fc1ccc(C2NCCc3[nH]cnc32)cc1',\n",
       " 'c1c[nH]c(C2CCOC2)n1',\n",
       " 'O=C(O)c1cc[nH]c1C1CCC1',\n",
       " 'C[C@@H]1NC(=O)CO[C@H]1c1ccccc1',\n",
       " 'O=c1cc[nH]c2c1CCCC2',\n",
       " 'FC(F)(F)c1ccnc(C2CCNCC2)n1',\n",
       " 'Cl.NCc1nccc(C(F)(F)F)n1',\n",
       " 'Cn1nccc1C1COCCN1',\n",
       " 'CN1CCC(CCN)CC1',\n",
       " 'CCN1CCNC(C)C1=O',\n",
       " 'Nc1nccc2c1CNCC2',\n",
       " 'Cc1nn(C)c(C)c1CN',\n",
       " 'Cc1oc(C2CC2)nc1C(=O)O',\n",
       " 'CC(C)n1c(N)nc2ccccc21',\n",
       " 'Cn1ccc(C(=O)O)c1C1CCC1',\n",
       " 'Cn1nccc1[C@@H]1C[C@@H]2CC[C@H](C1)N2',\n",
       " 'CC(C)C1OCCCC1C(=O)O',\n",
       " 'CC1=Nc2ccccc2C12CCNCC2',\n",
       " 'Fc1cc2c(cc1F)OCCN2',\n",
       " 'Cl.Cl.NCc1ccncc1C(F)(F)F',\n",
       " 'OCc1cccc(-c2ccccn2)c1',\n",
       " 'Cc1nc(CC2CC2)oc1C(=O)O',\n",
       " 'CNc1cc(C(C)C)[nH]n1',\n",
       " 'Cc1cc(C(F)F)oc1C(=O)O',\n",
       " 'O=C(NC1CCNCC1)C1CCC1',\n",
       " 'Cc1cn(CC(=O)O)nc1C(F)(F)F',\n",
       " 'Cn1cc(-c2c[nH]cc2C(=O)O)cn1',\n",
       " 'NC1CCCC1Cc1ccccn1',\n",
       " 'Nc1ncc(-c2cccnc2)s1',\n",
       " 'COc1ccc(-n2c(C)c[nH]c2=O)cc1',\n",
       " 'NC(=O)c1cccc2[nH]ccc12',\n",
       " 'CC1(C(=O)O)CCC(=O)N1',\n",
       " 'FC(F)(F)C1CCNCC12CCOCC2',\n",
       " 'OC1CNc2ccccc2C1',\n",
       " 'O=C(O)Cc1ccc(F)c(Cl)c1',\n",
       " 'CCC1CNCC2(CCCOC2)O1',\n",
       " 'c1nc2c([nH]1)C1(CCC1)NCC2',\n",
       " 'CN(C)c1cnccc1C#N',\n",
       " 'NC1CCN(c2ccc(F)cc2)C1=O',\n",
       " 'O=C1CCNc2ccc(F)cc2N1',\n",
       " 'FC(F)(F)c1c[nH]c(-c2cccnc2)n1',\n",
       " 'CC(C)c1nc2c([nH]1)CC(C(=O)O)CC2',\n",
       " 'O=C(O)CC1=CCOCC1',\n",
       " 'CNc1cc(OC)ccn1',\n",
       " 'CC(C)Cc1cc(N)on1',\n",
       " 'Cn1cc(C(F)(F)F)nc1C1CCCNC1',\n",
       " 'Cl.NC[C@@H]1CCO[C@H]1c1ccc(F)cc1',\n",
       " 'CC[C@@H]1CC[C@H](C)NC1=O',\n",
       " 'O=C1NCCCC1C1CCCCC1',\n",
       " 'O=C(O)c1ccccc1OC1CCC1',\n",
       " 'Nc1nc(Cc2ccc(F)cc2)no1',\n",
       " 'Cl.NCc1noc(-c2ccc(Cl)cc2F)n1',\n",
       " 'Nc1ccc(C2CC2)nn1',\n",
       " 'O=c1[nH]cnc2nc(C(F)(F)F)[nH]c12',\n",
       " 'Cc1cc(C(O)c2cccnc2)nn1C',\n",
       " 'c1nc(C2CCNCC2)cs1',\n",
       " 'Cc1n[nH]c(C2CCCCC2)n1',\n",
       " 'C1CNCCC(N2CCOCC2)C1',\n",
       " 'Nc1ccn(CC(F)F)n1',\n",
       " 'CNCc1nccn1C(F)F',\n",
       " 'Cc1c(Cl)c(C(=O)O)nn1C',\n",
       " 'NC(=O)c1cnc(C(F)(F)F)nc1',\n",
       " 'CC1CC(C)(C)CNC1=O',\n",
       " 'COc1ccc2c(N)noc2c1',\n",
       " 'CCc1nc(C)c(CO)o1',\n",
       " 'NC1CCCC12CCOCC2',\n",
       " 'Fc1ccc(C2CNCCO2)c(Cl)c1',\n",
       " 'N[C@@H]1CCC(=O)N[C@H]1c1ccccc1',\n",
       " 'OC1CCN(c2ccc(Cl)cn2)CC1',\n",
       " 'Cn1nccc1N1CCCC(N)C1',\n",
       " 'Cl.NCC1(c2cccc(F)c2)CCOCC1',\n",
       " 'O=C1CN(C2CC2)CCCN1',\n",
       " 'NS(=O)(=O)c1ccccc1Cn1ccnc1',\n",
       " 'N#Cc1ccc(F)c(CN2CCCC2=O)c1',\n",
       " 'Cc1cc(Cn2nc(C)ccc2=O)on1',\n",
       " 'Cc1ncc(CO)n1-c1ccccc1',\n",
       " 'Nc1nnc(-c2ccc(F)cc2)[nH]1',\n",
       " 'O=C1NCCCC1CCO',\n",
       " 'O[C@H]1CCc2cc(Cl)ccc21',\n",
       " 'CC1CC(C(F)(F)F)c2c(n(C)[nH]c2=O)N1',\n",
       " 'CC1CC(C(=O)O)CCO1',\n",
       " 'OCC1(c2ccccc2)CCNC1',\n",
       " 'Cc1cnn(Cc2ccccc2F)c1N',\n",
       " 'O=c1nc2ccccn2c(=O)[nH]1',\n",
       " 'C1CC2(CCN1)CCOCC2',\n",
       " 'OC1CCNC12CCCCC2',\n",
       " 'CN1CCC(O)(c2ccccc2)CC1',\n",
       " 'NC(=O)Cc1ncc(C(F)(F)F)cc1Cl',\n",
       " 'O=c1cc(CO)nc2sccn12',\n",
       " 'O=C(O)c1cc(C2CC2)[nH]c(=O)c1',\n",
       " 'COc1cccc(F)c1C(C)N',\n",
       " 'O=C1NCCN1Cc1cccnc1',\n",
       " 'Cl.Cl.NCCc1ccc(F)cn1',\n",
       " 'CC1(C)CNC(=O)C(C)(C)N1',\n",
       " 'Cc1cnn(CC(C)N)c1',\n",
       " 'CN(c1ccc(C(N)=O)nn1)C1CCC1',\n",
       " 'CCc1ncc(C(=O)O)s1',\n",
       " 'COC1(CN)CCOCC1',\n",
       " 'COCC1CNCC(C)O1',\n",
       " 'Cc1nc(CN)c2ccccn12.Cl.Cl',\n",
       " 'O=C(O)CC1CCC(=O)N1',\n",
       " 'OC1CCCNC1CCc1ccccc1',\n",
       " 'CC1(C)CC(C(=O)O)c2ccccc2O1',\n",
       " 'CC1CC(=O)NCC12CCC2',\n",
       " 'O=S(=O)(c1cccc(F)c1)N1CCNCC1',\n",
       " 'OC1(Cc2cccc(F)c2)CCNC1',\n",
       " 'O=S1(=O)CC(CO)c2ccccc21',\n",
       " 'CC(C)n1ncc(C(N)=O)c1N',\n",
       " 'COCc1n[nH]c(N)c1-c1ccccc1',\n",
       " 'O=C(O)c1ocnc1C1CC1',\n",
       " 'Cn1nc(C(=O)O)cc1C1CC1',\n",
       " 'Cc1nc(C(F)(F)F)c(CO)s1.Cl',\n",
       " 'Cc1ncsc1-c1c[nH]cc1C(=O)O',\n",
       " 'CC(C)Cc1nc(C(=O)O)cs1',\n",
       " 'c1ccc2oc(C3CCCCN3)nc2c1',\n",
       " 'Nc1ccnn1CC1CCOC1',\n",
       " 'NC1CCCS(=O)(=O)c2ccccc21',\n",
       " 'O=C(O)c1sccc1OC(F)F',\n",
       " 'COc1ccc(C)c(S(N)(=O)=O)c1',\n",
       " 'O=C(O)c1cc(C2CCCC2)no1',\n",
       " 'OC1CCCC1N1CCNCC1',\n",
       " 'Cn1cc(-c2nc(C(F)(F)F)c[nH]2)cn1',\n",
       " 'O=C1CCC(CO)(c2ccccc2)CN1',\n",
       " 'CC1(C)NC(=O)C(c2ccccc2)NC1=O',\n",
       " 'Cc1ncccc1C(C)O',\n",
       " 'CC1COCCC1C(=O)O',\n",
       " 'CNC(C)c1ccc(OC)cc1',\n",
       " 'Cc1n[nH]c(=O)c2ccccc12',\n",
       " 'COc1cccc2c1CCCC(=O)N2',\n",
       " 'CC(C)c1ncc(N)cn1',\n",
       " 'Cc1ccn2c(N)nnc2c1',\n",
       " 'Cn1ncc2c1CCCNC2=O',\n",
       " 'Clc1ccc(OC2CCCNC2)nc1',\n",
       " 'O=c1ccc(C(F)(F)F)c[nH]1',\n",
       " 'c1ccc2[nH]c(C3CNC3)nc2c1',\n",
       " 'c1c[nH]c(C2CCOCC2)n1',\n",
       " 'NS(=O)(=O)c1ccc2c(c1)CCCC(=O)N2',\n",
       " 'Cc1ccc(C(O)CN)o1',\n",
       " 'c1cn(CC2CCCCN2)nn1',\n",
       " 'Nc1cc(-c2cccnc2)ccn1',\n",
       " 'C1COCC2(C1)CCNC2',\n",
       " 'Cc1[nH]nc(C(F)(F)F)c1C(=O)O',\n",
       " 'Cc1cc(C(=O)O)nn1-c1cccc(F)c1',\n",
       " 'CS(=O)(=O)c1cccc(C(N)=O)c1',\n",
       " 'CNc1cc(-c2ccccc2)[nH]n1',\n",
       " 'O=C1CC2(CCCC2)CN1',\n",
       " 'CCC1(C)CCNC(=O)CC1',\n",
       " 'Cc1cc(C(F)(F)F)c(=O)[nH]n1',\n",
       " 'N#Cc1ccc(F)c(Cn2ccnc2)c1',\n",
       " 'CNc1nc2ccccc2o1',\n",
       " 'c1cnc2c(c1)CCCN2',\n",
       " 'N#Cc1c(C2CC2)n[nH]c1N',\n",
       " 'Cc1ccnc2[nH]c(=O)[nH]c12',\n",
       " 'OCc1ccc2[nH]nnc2c1',\n",
       " 'c1cnc2c(c1)CNCCC2',\n",
       " 'CS(=O)c1ccc(CC(=O)O)cc1',\n",
       " 'COc1ccc2[nH]c(C(=O)O)cc2c1',\n",
       " 'CC(O)CN1Cc2ccccc2C1=O',\n",
       " 'CC1=CCC(C(=O)O)CC1',\n",
       " 'Cc1cc(N2CCC(N)CC2)[nH]n1',\n",
       " 'Nc1ncn(C2CCCCC2)n1',\n",
       " 'Cc1cc(C#N)ccc1C(=O)O',\n",
       " 'OCc1nc(Cc2ccc(F)cc2)no1',\n",
       " 'O[C@@H]1CCOc2c(F)cccc21',\n",
       " 'O=c1ccc(C(F)(F)F)n[nH]1',\n",
       " 'Nc1ccc(Cn2ccnc2)cn1',\n",
       " 'CC(O)c1ccc(N(C)C)cn1',\n",
       " 'Cn1cc(C(=O)O)[nH]c1=O',\n",
       " 'CC1CNc2cc(F)ccc2C(=O)N1',\n",
       " 'Cc1cc(CO)c(C)nn1',\n",
       " 'COc1cc(N2CCNCC2)ccc1F.Cl',\n",
       " 'CCOc1ccc(C2CCCN2)cc1',\n",
       " 'COCC1CCC(N)CC1',\n",
       " 'NC(=O)C1(N2CCCC2)CCOCC1',\n",
       " 'Cn1cc(N)c(C(=O)NC2CCC2)n1',\n",
       " 'CN(C)CC1CNCCO1',\n",
       " 'Cc1nc(O)ccc1C#N',\n",
       " 'OCC1CCCCC1(F)F',\n",
       " 'CC1(CO)CCC(=O)NC1',\n",
       " 'Oc1ccnc2c(F)cccc12',\n",
       " 'Cn1ccc(-c2nc(C#N)cs2)n1',\n",
       " 'CCN1CCC(=O)NC(C)C1=O',\n",
       " 'C1COCC2(CCOC2)N1',\n",
       " 'CS(=O)(=O)c1cccnc1',\n",
       " 'CC(C)c1ccc(C#N)cn1',\n",
       " 'CC(N)c1nc(-c2cccc(F)c2)no1.Cl',\n",
       " 'Cc1ccc2[nH]c(C(=O)O)cc2c1',\n",
       " 'Cc1ccc(C(O)c2cncn2C)cn1',\n",
       " 'O=C(O)Cn1nc(C(F)F)c2c1CCC2',\n",
       " 'O=C1Cc2ccc(Cl)cc2N1',\n",
       " 'O=C(O)Cc1ccc(Cl)c(F)c1',\n",
       " 'OCc1cc2c(cn1)OCCC2',\n",
       " 'Cc1cc(CC(=O)O)no1',\n",
       " 'COc1ccnc(C(N)=O)c1',\n",
       " 'CC1COCCN1CCN',\n",
       " 'Cl.Cl.NCCc1cc(C(F)(F)F)ccn1',\n",
       " 'NC1=NC(c2ccccc2)C(=O)N1',\n",
       " 'Cc1cnc(C2CCNCC2)s1',\n",
       " 'O=C(c1cccc(F)c1)N1CCCNCC1',\n",
       " 'c1ccc(CC2COCCN2)cc1',\n",
       " 'Cc1cc(N)c2ccccc2n1',\n",
       " 'CC(C)n1cnc2cc(C(=O)O)ccc21',\n",
       " 'NC(=O)c1ccncc1F',\n",
       " 'COc1nc(C)cc(C)c1CO',\n",
       " 'CC(C)C1NCCNC1=O',\n",
       " 'Cc1cccc(C(CN)N2CCOCC2)c1',\n",
       " 'Cl.OC1CNC(c2ccc(C(F)(F)F)cc2)C1',\n",
       " 'Cl.Cl.NCCc1nc(-c2ccc(F)cc2)c[nH]1',\n",
       " 'COC1CCC(C(=O)O)C1',\n",
       " 'CC(O)c1ccc2c(c1)CCO2',\n",
       " 'FC(F)(F)c1ccccc1-c1nnn[nH]1',\n",
       " 'COCC1CCNC(=O)C1',\n",
       " 'NS(=O)(=O)c1ccc2c(c1)COC2',\n",
       " 'O=C1NCCCC1Cc1ccccc1',\n",
       " 'CNc1cc(C#N)c2ccccc2n1',\n",
       " 'O=C(O)c1ccc(Cn2cc(Cl)cn2)o1',\n",
       " 'CN1C(=O)CCC1CC(=O)O',\n",
       " 'O=C(O)c1c[nH]c2cc(Cl)ccc12',\n",
       " 'Nc1ccnc(Cc2ccccc2)n1',\n",
       " 'C1CC(CNC2CC2)CO1',\n",
       " 'NC1CCCc2c1cnn2CCO',\n",
       " 'Cn1cc(C(N)=O)c(N)n1',\n",
       " 'Cn1ccc(C(N)c2ccc(Cl)cc2)n1',\n",
       " 'Cc1cnc(CCO)c(C)c1',\n",
       " 'CC(N)C1CN(C)CCO1',\n",
       " 'OC1(C(F)(F)F)CCOC1',\n",
       " 'Cc1cnc(C2CCCCN2)s1',\n",
       " 'O=C1CCOc2cc(F)ccc21',\n",
       " 'OCC1CCc2nnc(C(F)F)n2C1',\n",
       " 'Nc1nncn1Cc1ccccc1',\n",
       " 'NCCCn1nc2n(c1=O)CCCC2',\n",
       " 'Cl.Cl.FC(F)(F)c1cnc(C2CCNCC2)[nH]1',\n",
       " 'O=S(=O)(Nc1ccccc1)C1CCCNC1',\n",
       " 'Nc1cc(CCO)ccn1',\n",
       " 'CC1CCCC(C)C(=O)N1',\n",
       " 'Cl.NCc1ccc(C(=O)N2CCOCC2)cc1',\n",
       " 'O=C1CC(Cc2ccccc2)CCN1',\n",
       " 'Cc1cc(CO)ccc1N1CCOCC1',\n",
       " 'O=c1[nH]nc2n1CCCC2',\n",
       " 'Cn1cc(-c2ccc(=O)[nH]n2)cn1',\n",
       " 'CC1(C)CNCC(C)(C)O1',\n",
       " 'COc1cccc2c1CNC2=O',\n",
       " 'Cc1nn(-c2ccccc2)c(C)c1CO',\n",
       " 'CC1(C)CCCN1CCN',\n",
       " 'OC(c1ccccc1)C1CCNCC1',\n",
       " 'CC(N)c1ccc(-n2ccnc2)cc1',\n",
       " 'OCc1ccc2c(c1)CCC2',\n",
       " 'CC(N)c1ccc(NC(=O)C2CC2)cc1',\n",
       " 'CC(N)c1nc(-c2ccc(F)cc2)no1.Cl',\n",
       " 'Cn1cc(-c2cccc(CN)c2)cn1',\n",
       " 'CNCC1(O)CCc2ccccc21',\n",
       " 'CC(C)c1nccn1CC(=O)O',\n",
       " 'Cn1ccc2c1C(=O)NCC2',\n",
       " 'CC(C)Cc1ncc(N)cn1',\n",
       " 'Nc1ncc(C(F)(F)F)cc1Cl',\n",
       " 'CNC(C)c1cccc(-c2ccncc2)c1',\n",
       " 'CNc1ccc(S(C)(=O)=O)cc1',\n",
       " 'Nc1ccc(Cl)c(CO)n1',\n",
       " 'Cc1nocc1CC(=O)O',\n",
       " 'COc1ccc(CC2CC(=O)N2)cc1',\n",
       " 'CNc1ncc(C(F)(F)F)cc1Cl',\n",
       " 'CCC(C)c1cc(C(=O)O)on1',\n",
       " 'CCn1nccc1N1CCCC(N)C1=O',\n",
       " 'COc1cccnc1C(F)(F)F',\n",
       " 'CNCc1nc2ccccc2c(=O)[nH]1.Cl',\n",
       " 'c1ccc(C2=NCCN2)cc1',\n",
       " 'CCn1cc(C2CNCCO2)cn1',\n",
       " 'Cc1cccc2nc(N)oc12',\n",
       " 'CNC(=O)c1ccccc1',\n",
       " 'Cn1cc(C(N)=O)c(C(F)F)n1',\n",
       " 'CCC1OCCCC1C(=O)O',\n",
       " 'O=C(O)c1cc2c(Cl)cccc2[nH]1',\n",
       " 'O=C1CC2(CCOCC2)CN1',\n",
       " 'Cn1ccc([C@@H]2C[C@H]2C(=O)O)c1',\n",
       " 'Cc1nc2c([nH]1)CCC(O)C2',\n",
       " 'c1c(C2CC2)n[nH]c1N1CCNCC1',\n",
       " 'CN(C)CC1CCCCC1O',\n",
       " 'OCC1CC12CCOCC2',\n",
       " 'O=C(Cc1ccccc1)NC1CCNCC1',\n",
       " 'Cc1ccc(C(=O)O)c(C(C)C)n1',\n",
       " 'COC1CCN(CCN)CC1',\n",
       " 'O=C(O)c1ncccc1C(F)(F)F',\n",
       " 'OCC#Cc1cccc(F)c1F',\n",
       " 'CCNc1ccc2[nH]c(=O)[nH]c2c1',\n",
       " 'O=C1CCCC(c2ccccc2)N1',\n",
       " 'O=C(O)Cc1cccc(C2CC2)c1',\n",
       " 'c1ccc2[nH]c(C3CCCO3)nc2c1',\n",
       " 'FC(F)(F)c1n[nH]c2ccncc12',\n",
       " 'O=C(O)c1ccc(F)cn1',\n",
       " 'NC(=O)c1ccccc1N1CCC(N)CC1',\n",
       " 'CNC1CCN(c2ccccc2Cl)C1=O',\n",
       " 'O=C(O)c1occ2c1CCOC2',\n",
       " 'CC1CNc2ccccc2S1=O',\n",
       " 'CC1OCCCN(Cc2ccccc2)C1=O',\n",
       " 'Cc1occc1-c1nnc(N)o1',\n",
       " 'O=c1[nH]cnc2cc(Cl)ccc12',\n",
       " 'Cl.NC1CCN(C(=O)c2cccc(F)c2)C1',\n",
       " 'O=C(O)c1occ2c1CCC2',\n",
       " 'OCCOC1CCNCC1',\n",
       " 'CN1CCC[C@@H](CN)[C@@H]1c1cnn(C)c1',\n",
       " 'NS(=O)(=O)c1cccc(C(=O)NC2CC2)c1',\n",
       " 'Cc1nn(-c2ccccc2F)c(C)c1N',\n",
       " 'OCCc1cn2ccccc2n1',\n",
       " 'CC(N)c1ccc(N2CCOCC2)cc1',\n",
       " 'CC(N)c1ccc(-c2cncnc2)cc1',\n",
       " 'Cl.OC1CNC(c2cccc(F)c2)C1',\n",
       " 'CCc1nc(C)c(C(C)NC)s1',\n",
       " 'CC(N)c1ccccc1N1CCOCC1',\n",
       " 'Cc1cc(N)nn1-c1ccc(F)cc1',\n",
       " 'C1CNCCN(C2CCOCC2)C1',\n",
       " 'Cc1ccnc(CCO)n1',\n",
       " 'CCN1N=C(C(F)(F)F)CC1=O',\n",
       " 'Fc1ccccc1CNc1ccncc1',\n",
       " 'CN(C)c1cccnc1C#N',\n",
       " 'Cc1nn2c(CO)c(C)nc2s1',\n",
       " 'CCC1(O)CCC(N)CC1',\n",
       " 'Cc1nc2n(n1)CC(N)CC2',\n",
       " 'Cc1cc(F)ccc1CO',\n",
       " 'NS(=O)(=O)c1ccccc1C(F)(F)F',\n",
       " 'CC1(C)CC(CC(=O)O)C1',\n",
       " 'c1nc(C2CC2)nc2c1CNCC2',\n",
       " 'N#CCc1nc2ccccc2n1C(F)F',\n",
       " 'CC1Nc2ccccc2NC1=O',\n",
       " 'Nc1ccc2nnc(C3CC3)n2c1',\n",
       " 'Nc1nc(C(F)(F)F)cs1',\n",
       " 'NCc1nnc2n1CCCC2C(F)(F)F',\n",
       " 'CCc1nnc(CO)n1C',\n",
       " 'OC(c1ncc[nH]1)c1ccco1',\n",
       " 'O=C(O)c1occc1C1CC1',\n",
       " 'CCC1CNCCN1CC(C)O',\n",
       " 'CC(C)c1[nH]ccc1C(=O)O',\n",
       " 'Cn1cc(N2CCCC(N)C2)cn1',\n",
       " 'Nc1cc(-c2ccccc2F)no1',\n",
       " 'O=C(O)C1(Oc2ccccc2F)CC1',\n",
       " 'Nc1nnc(Cc2cccc(F)c2)s1',\n",
       " 'O=S(=O)(NC1CCCNC1)c1ccccc1',\n",
       " 'FC(F)(F)c1ccccc1C1CNCCO1',\n",
       " 'N#Cc1ccc(Cn2cncn2)cc1',\n",
       " 'O=C1CC=NN1c1ccc(F)cc1',\n",
       " 'NC1CCc2nnc(-c3ccccc3)n2C1',\n",
       " 'Nc1ccnc(C2CCCC2)n1',\n",
       " 'CS(=O)Cc1c(C(=O)O)oc2ccccc12',\n",
       " 'Cc1nc(C)c(C(C)O)s1',\n",
       " 'NC(=O)C1(c2ccncc2)CCCCC1',\n",
       " 'CCc1ccc(C2CNCCN2)cc1',\n",
       " 'O=C1CCc2cc(OCCO)ccc2N1',\n",
       " 'CC1(C)CC(=O)NCCN1',\n",
       " 'Cc1nn(C)cc1CCN',\n",
       " 'Cl.NC(CO)c1ccc(F)cc1',\n",
       " 'NC(=O)c1csc(N)n1',\n",
       " 'Cc1ccc2cccc(C(=O)O)c2n1',\n",
       " 'COCc1cc(C(N)=O)no1',\n",
       " 'COc1ccc(CN)cc1F.Cl',\n",
       " 'Nc1cc(-c2cccc(F)c2)no1',\n",
       " 'NC(=O)c1c[nH]c(C2CC2)n1',\n",
       " 'Cn1cc(-c2cc(N)n(C)n2)cn1',\n",
       " 'COc1cc(CO)ccc1F',\n",
       " 'CNc1ccccc1S(C)(=O)=O',\n",
       " 'OC(CC1CCCN1)c1ccccc1',\n",
       " 'NCC1CCOC2(CCOC2)C1',\n",
       " 'NC(=O)CC1CCCCN1',\n",
       " 'Cc1nc(C(N)c2ccccc2F)no1.Cl',\n",
       " 'O=C(O)c1cccc(N2CCCNC2=O)c1',\n",
       " 'NS(=O)(=O)c1ccc(C(F)(F)F)cn1',\n",
       " 'c1cn2c(n1)CN(C1CCNCC1)CC2',\n",
       " 'CC1CCCN(C(N)=O)C1',\n",
       " 'Cl.OCC1CNCCC1C(F)(F)F',\n",
       " 'Cc1cccc(C(C)CN)c1',\n",
       " 'CC(C)Cn1ncnc1CO',\n",
       " 'CCC(N)c1ccc(F)cc1F',\n",
       " 'O=C(O)C(c1ccccc1)N1CCCC1',\n",
       " 'CCC(O)C1CCCCN1',\n",
       " 'NS(=O)(=O)c1nc2ccccc2[nH]1',\n",
       " 'Cc1cccc(NC(=O)[C@@H]2CCCN2)n1',\n",
       " 'COc1ccc(F)cc1CC(=O)O',\n",
       " 'Nc1nnc(Cc2ccccc2F)s1',\n",
       " 'COCCc1cc(N)on1',\n",
       " 'O=C1CCC(=O)c2cc(F)ccc2N1',\n",
       " 'Cl.NC1CCc2ccc(F)cc21',\n",
       " 'COc1ccccc1NC1CCN(C)CC1',\n",
       " 'COc1ccc(C2C(CO)CCN2C)cc1',\n",
       " 'NC(=O)c1ccccc1CO',\n",
       " 'COCCN1CCC(N)C1',\n",
       " 'c1ccc2[nH]c(C3CC3)nc2c1',\n",
       " 'CN1CCN(CCO)CC1',\n",
       " 'NC1CCN(Cc2cccs2)CC1',\n",
       " 'Cl.Cl.Cn1c(CCN)nc2ccc(F)cc21',\n",
       " 'CC1(C)OCC2CC21C(=O)O',\n",
       " 'Cn1c(N)nc2ccc(F)cc21',\n",
       " 'CCn1nc(C)c(CN)c1C',\n",
       " 'Cl.NC(CO)c1cccc(F)c1',\n",
       " 'O=C(O)c1ccc(C(F)(F)F)cn1',\n",
       " 'O=C(NCc1cccnc1)C1CCCN1',\n",
       " 'OCc1noc(-c2ccc(F)cc2)n1',\n",
       " 'CC(C)c1cc(C(=O)O)n[nH]1',\n",
       " 'NC1CCN(c2ccccc2F)C1=O',\n",
       " 'NS(=O)(=O)c1cnn(CC2CC2)c1',\n",
       " 'COc1ccc(CO)cn1',\n",
       " 'CCn1nccc1CCO',\n",
       " 'CC(C)Nc1cccnc1',\n",
       " 'CNCc1scnc1C',\n",
       " 'CNc1ccc2nc(C)sc2c1',\n",
       " 'O=C1NCCNC1c1ccccc1F',\n",
       " 'Fc1ccc(-c2cc[nH]n2)cc1',\n",
       " 'O=C(CC1CCNCC1)NC1CCCC1',\n",
       " 'CC(N)c1cc(F)ccc1N1CCOCC1',\n",
       " 'OCc1cccc2cn[nH]c12',\n",
       " 'Cn1nc(-c2ccccc2)nc1CC#N',\n",
       " 'NC(CN1CCCC1=O)c1ccccc1',\n",
       " 'Cc1nc(C(N)=O)c(N)n1C',\n",
       " 'Cc1cnc(C(C)N2CCNCC2)s1',\n",
       " 'OC1(Cc2ccccc2F)CCNCC1',\n",
       " 'CNc1nc(-c2ccccc2)no1',\n",
       " 'Cl.FC(F)(F)C1CNCCO1',\n",
       " 'CNC1CCCCNC1=O',\n",
       " 'O=C1CCCCCN1CCO',\n",
       " ...]"
      ]
     },
     "execution_count": 7,
     "metadata": {},
     "output_type": "execute_result"
    }
   ],
   "source": [
    "smiles"
   ]
  },
  {
   "cell_type": "markdown",
   "id": "be70b608",
   "metadata": {},
   "source": [
    "Ein Problem ist, dass noch Stereoinformation in den Smiles enthalten sind. Zum Beispiel das `@` Symbol. Ein weiteres Problem ist der `.`. Dieser markiert den Beginn eines weiteren Moleküls. In unserem Fall sind es aber eigentlich nur `Cl` Atome, die noch in manchen Smiles sind. \n",
    "Zum Beispiel Moleküle 27."
   ]
  },
  {
   "cell_type": "code",
   "execution_count": 8,
   "id": "1642e7ad",
   "metadata": {
    "scrolled": true
   },
   "outputs": [
    {
     "data": {
      "image/png": "[encoded data removed]",
      "text/plain": [
       "<rdkit.Chem.rdchem.Mol at 0x1cc50a694e0>"
      ]
     },
     "execution_count": 8,
     "metadata": {},
     "output_type": "execute_result"
    }
   ],
   "source": [
    "Chem.MolFromSmiles(smiles[26])"
   ]
  },
  {
   "cell_type": "markdown",
   "id": "3547f368",
   "metadata": {},
   "source": [
    "Wir können sowohl Stereoinformation, als auch die \"extra\" Moleküle mit  Stringmanipulationen entfernen.\n",
    "\n",
    "`string.replace(\"@\", \"\")`\n",
    "\n",
    "sucht im `string` nach dem Zeichen `@` und falls es welche findet werden sie mit `\"\"` ersetzt. Also einfach gelöscht.\n",
    "\n",
    "`string.split(\".\")`\n",
    "\n",
    "teilt den `string` bei jedem `\".\"`. Die Funktion gibt die einzelnen Substrings als Liste aus."
   ]
  },
  {
   "cell_type": "code",
   "execution_count": 9,
   "id": "35edf4a6",
   "metadata": {},
   "outputs": [
    {
     "data": {
      "text/plain": [
       "['Schoko', 'lde']"
      ]
     },
     "execution_count": 9,
     "metadata": {},
     "output_type": "execute_result"
    }
   ],
   "source": [
    "\"Schoko.l@de\".replace(\"@\", \"\").split(\".\")"
   ]
  },
  {
   "cell_type": "code",
   "execution_count": 10,
   "id": "e07972f4",
   "metadata": {},
   "outputs": [],
   "source": [
    "sub_molecules = []\n",
    "for smile in smiles:\n",
    "    smile = smile.replace(\"@\", \"\")\n",
    "    smile = smile.replace(\"\\\\\", \"\")\n",
    "    sub_molecules.append(smile.split(\".\"))"
   ]
  },
  {
   "cell_type": "markdown",
   "id": "175e7da1",
   "metadata": {},
   "source": [
    "Im nächsten Schritte müssen wir nur noch durch die Moleküllisten durch iterieren. Wenn ein Smiles aus mehreren Molekülen bestand, wählen wir einfach das größte Molekül als das richtige aus."
   ]
  },
  {
   "cell_type": "code",
   "execution_count": 11,
   "id": "5b97a07d",
   "metadata": {
    "scrolled": false
   },
   "outputs": [
    {
     "data": {
      "image/png": "[encoded data removed]",
      "text/plain": [
       "<rdkit.Chem.rdchem.Mol at 0x1cc59821cb0>"
      ]
     },
     "execution_count": 11,
     "metadata": {},
     "output_type": "execute_result"
    }
   ],
   "source": [
    "filtered_smiles =[]\n",
    "for mol_list in sub_molecules:\n",
    "    filtered_smiles.append(mol_list[np.argmax([len(x) for x in mol_list])])\n",
    "    \n",
    "Chem.MolFromSmiles(filtered_smiles[26])"
   ]
  },
  {
   "cell_type": "markdown",
   "id": "2b429d79",
   "metadata": {},
   "source": [
    "Das 27 Moleküle hat jetzt nicht mehr die zusätzlichen `HCl`s."
   ]
  },
  {
   "cell_type": "markdown",
   "id": "27bac998",
   "metadata": {},
   "source": [
    "Die Smiles sind jetzt \"sauber\" und wir können beginnen sie für das RNN aufzubereiten. Also einen Dictionary zu erstellen und die Smiles durch Tokens zu ersetzen. Zunächst benutzen wir wieder die `creat_dict` Funktion, um einen Dictionary für unsere Daten zu erstellen. Doch diesmal benutzten wir auch den Parameter `add_tokens = True`:"
   ]
  },
  {
   "cell_type": "code",
   "execution_count": 12,
   "id": "3047333c",
   "metadata": {
    "scrolled": true
   },
   "outputs": [
    {
     "data": {
      "text/plain": [
       "{'<sos>': 0,\n",
       " '<eos>': 1,\n",
       " '<pad>': 2,\n",
       " ')': 3,\n",
       " 'O': 4,\n",
       " '1': 5,\n",
       " 'C': 6,\n",
       " '=': 7,\n",
       " '(': 8,\n",
       " 'F': 9,\n",
       " 'c': 10,\n",
       " '2': 11,\n",
       " 'N': 12,\n",
       " 'n': 13,\n",
       " 'o': 14,\n",
       " '3': 15,\n",
       " 'Cl': 16,\n",
       " 's': 17,\n",
       " '-': 18,\n",
       " ']': 19,\n",
       " 'H': 20,\n",
       " '[': 21,\n",
       " 'S': 22,\n",
       " '#': 23,\n",
       " 'P': 24}"
      ]
     },
     "execution_count": 12,
     "metadata": {},
     "output_type": "execute_result"
    }
   ],
   "source": [
    "dictionary = create_dict(filtered_smiles, add_tokens =True)\n",
    "dictionary"
   ]
  },
  {
   "cell_type": "markdown",
   "id": "cad4917b",
   "metadata": {},
   "source": [
    "Es wurden 3 Tokens hinzugefügt, die nicht in den Smiles vorkommen.\n",
    "\n",
    "- `<pad>` kennen Sie bereits, dieser wird benutzt, um alle Smiles auf dieselbe Länge zu bekommen.\n",
    "\n",
    "- `<sos>` ist ein Token, der den Anfang eines Smiles ankündigt. \"Start of Sentence\". Dieser Token wird **vor** jeden Smiles gestellt.\n",
    "\n",
    "- `<eos>` kündigt das Ende des Smiles an. Nachdem der eigentliche Smiles zu Ende ist foglt der `<eos>` Token und dann die Paddingtokens\n",
    "\n",
    "Unsere Smiles sollen also wie folgt aussehen:\n",
    "\n",
    "```python\n",
    "\"<sos>OCc1ccc2occc2c1<eos><pad><pad>\"\n",
    "```"
   ]
  },
  {
   "cell_type": "markdown",
   "id": "375bb0b0",
   "metadata": {},
   "source": [
    "\n",
    "<img src=\"Img/rnn/auto_4.png\" width =\"400px\">\n",
    "Warum ist das nötig? Wieso werden diese besonderen Tokens benötigt?\n",
    "\n",
    "Das liegt daran, wie ein Decoder für ein RNN funktioniert. \n",
    "\n",
    "Nochmal als Erinnerung, so sieht unser Model aus:\n",
    "\n",
    "<img src=\"Img/rnn/auto_1.png\" width =\"400px\">\n",
    "\n",
    "Den Encoder haben wir quasi letzte Woche geschrieben, wir müssen uns nur noch auf den Decoder konzentrieren.\n",
    "Die Grundidee eines Decoder RNN ist es, dass der SMILES Token für Token hintereinander generiert.\n",
    "\n",
    "Ein Beispiel:\n",
    "\n",
    "Der Decoder bekommt den latent Vector vom Encoder:\n",
    "Darauf generiert ein `C`. Jetzt kann der Decoder mithilfe des Latent Vector und dem bereits generierten `C` ein weiteres `C` generieren. Darauf hin ist unsere momentane SMILES `CC`. Jetzt wiederholt sich der Schritt wieder, mit dem Wissen vom latent Vector und den bereits zwei `CC`.\n",
    "Mit dem Wissen kann der Decoder jetzt z.B. ein `=` generieren: `CC=` usw...\n",
    "Theoretisch könnte das unendlich so weiter gehen. Deswegen gibt es einen `<eos>` Token. Dieser erlaubt es dem Netzwerk den Smiles zu beenden, wenn es denkt dieser ist komplett.\n",
    "\n",
    "Ein bisschen theoretischer wird es im Folgenden:\n",
    "\n",
    "Um es genauer zu verstehen, wiederholen wir noch einmal schnell wie ein RNN funktioniert.\n",
    "\n",
    "Ein RNN hat immer zwei Inputs. Einmal den normalen Input, also der momentane Token (Smiles Symbol) für den es eine Vorhersage zu machen gilt.\n",
    "Zusätzlich wird ein Hidden State vom vorherigen Schritt genommen. Also der Output des RNNs für den vorherigen Token.\n",
    "\n",
    "Durch den Encoder erhalten wir schon den latent Vektor, welcher unser initialer Hidden State sein wird. \n",
    "<img src=\"Img/rnn/auto_3.png\" width =\"400px\">\n",
    "\n",
    "Doch was ist unser initialer Input?\n",
    "\n",
    "<img src=\"Img/rnn/auto_4.png\" width =\"400px\">\n",
    "\n",
    "Das Problem ist, wenn wir den tatsächlich ersten Token des originalen Smiles als ersten Token für das Netzwerk verwenden, ist es relativ leicht diesen richtig zu vorhersagen. Deswegen benutzen wir zunächst den `<sos>` Token. Dieser enthält nämlich keine Informationen über den Smiles. Das heißt, der erste Token wird nur auf Basis des Hidden States bzw. der latent Vectors vorhergesagt. Wichtig ist auch das der Output des RNN (der neue Hidden State) erst noch durch eine Linear Layer geführt wird, die den richtigen Token vorhersagt.\n",
    "<img src=\"Img\\rnn\\auto_6.png\" width =\"400px\">\n",
    "\n",
    "Im nächsten Schritt, ersetzt der neue Hidden State den latent Vector, als Input für den nächsten Schritt. Auch wird jetzt nicht mehr ein Token des originalen Smiles als Input benutzt, sondern der Token, der im vorangegangen Schritt vorhergesagt worden ist. \n",
    "Das heißt, auch wenn der Decoder am Anfang einen Fehler macht, dann rechnet er auch mit diesem Fehler weiter.\n",
    "<img src=\"Img\\rnn\\auto_7.png\" width =\"400px\">\n",
    "\n",
    "\n",
    "Wir wiederholen, dass so lange bis wir die Länge des längsten Smiles in unserm Datensatz erreicht haben. Natürlich sind die meisten Smiles nicht so lange, deswegen können wir den `<eos>` gebrauchen. Mit dem kann der Smiles schon vorher als fertig erkannt werden. \n",
    "<img src=\"Img/rnn/auto_8.png\" width =\"400px\">"
   ]
  },
  {
   "cell_type": "markdown",
   "id": "760abc3c",
   "metadata": {},
   "source": [
    "Wenn wir in der Funktion `tokenize` ` (..., add_tokens=True)` benutzen werden automatisch die `<sos>` und `<eos` zu jedem Smiles hinzugefügt. Das ist die `0` die im `dictionary` für `<sos>` steht und die `1` für `<eos>`."
   ]
  },
  {
   "cell_type": "code",
   "execution_count": 13,
   "id": "4fe1840b",
   "metadata": {},
   "outputs": [
    {
     "data": {
      "text/plain": [
       "[0,\n",
       " 6,\n",
       " 10,\n",
       " 5,\n",
       " 10,\n",
       " 10,\n",
       " 8,\n",
       " 9,\n",
       " 3,\n",
       " 10,\n",
       " 8,\n",
       " 6,\n",
       " 8,\n",
       " 7,\n",
       " 4,\n",
       " 3,\n",
       " 4,\n",
       " 3,\n",
       " 10,\n",
       " 8,\n",
       " 9,\n",
       " 3,\n",
       " 10,\n",
       " 5,\n",
       " 1]"
      ]
     },
     "execution_count": 13,
     "metadata": {},
     "output_type": "execute_result"
    }
   ],
   "source": [
    "tokenized_smiles = tokenize(filtered_smiles,dictionary, add_tokens =True)\n",
    "tokenized_smiles[0]"
   ]
  },
  {
   "cell_type": "markdown",
   "id": "2157fd4b",
   "metadata": {},
   "source": [
    "Noch sind die Smiles alle unterschiedlich lang. Wir berechnen zu nächst die Anzahl der Tokens in jedem Smiles."
   ]
  },
  {
   "cell_type": "code",
   "execution_count": 14,
   "id": "2ba76b62",
   "metadata": {},
   "outputs": [
    {
     "data": {
      "text/plain": [
       "36"
      ]
     },
     "execution_count": 14,
     "metadata": {},
     "output_type": "execute_result"
    }
   ],
   "source": [
    "token_lengths = np.array([len(x) for x in tokenized_smiles])\n",
    "max_length=max(token_lengths)\n",
    "max_length"
   ]
  },
  {
   "cell_type": "markdown",
   "id": "c61d941b",
   "metadata": {},
   "source": [
    "Wir können die Anzahl der Tokens auch mit einem Histogramm darstellen. Das Problem ist nämlich, dass je mehr Tokens ein Smiles hat, desto schwieriger wird es für den Decoder den kompletten Smiles zu entschlüsseln."
   ]
  },
  {
   "cell_type": "code",
   "execution_count": 15,
   "id": "c8b22d62",
   "metadata": {
    "scrolled": true
   },
   "outputs": [
    {
     "data": {
      "text/plain": [
       "(array([  1.,  22.,   9.,  97.,  89., 126., 169., 210., 178., 161., 176.,\n",
       "        138.,   0., 141., 112.,  98.,  70.,  53.,  33.,  15.,  10.,   9.,\n",
       "          1.,   1.,   1.]),\n",
       " array([13.  , 13.92, 14.84, 15.76, 16.68, 17.6 , 18.52, 19.44, 20.36,\n",
       "        21.28, 22.2 , 23.12, 24.04, 24.96, 25.88, 26.8 , 27.72, 28.64,\n",
       "        29.56, 30.48, 31.4 , 32.32, 33.24, 34.16, 35.08, 36.  ]),\n",
       " <BarContainer object of 25 artists>)"
      ]
     },
     "execution_count": 15,
     "metadata": {},
     "output_type": "execute_result"
    },
    {
     "data": {
      "image/png": "[encoded data removed]",
      "text/plain": [
       "<Figure size 432x288 with 1 Axes>"
      ]
     },
     "metadata": {
      "needs_background": "light"
     },
     "output_type": "display_data"
    }
   ],
   "source": [
    "plt.hist(token_lengths, bins=25)"
   ]
  },
  {
   "cell_type": "markdown",
   "id": "73df0d1f",
   "metadata": {},
   "source": [
    "Zum Beispiel könnten wir alle Moleküle aus dem Datensatz werfen, die aus mehr 26 Tokens bestehen."
   ]
  },
  {
   "cell_type": "code",
   "execution_count": 16,
   "id": "4683ef65",
   "metadata": {},
   "outputs": [
    {
     "data": {
      "text/plain": [
       "291"
      ]
     },
     "execution_count": 16,
     "metadata": {},
     "output_type": "execute_result"
    }
   ],
   "source": [
    "np.sum(token_lengths>26)"
   ]
  },
  {
   "cell_type": "markdown",
   "id": "0f16c132",
   "metadata": {},
   "source": [
    "Das sind genau 291 Moleküle. Das ist natürlich nicht ideal, aber hilt uns im Training. gerade mit so wenig Daten ist es schwierig ein Autoencoder zu trainieren. Wir werfen diese großen Moleküle zunächst aus dem Datensatz. "
   ]
  },
  {
   "cell_type": "code",
   "execution_count": 17,
   "id": "da40f8db",
   "metadata": {
    "scrolled": true
   },
   "outputs": [
    {
     "data": {
      "text/plain": [
       "1629"
      ]
     },
     "execution_count": 17,
     "metadata": {},
     "output_type": "execute_result"
    }
   ],
   "source": [
    "filtered_smiles=np.array(filtered_smiles)[token_lengths<=26].tolist()\n",
    "len(filtered_smiles)"
   ]
  },
  {
   "cell_type": "markdown",
   "id": "1c326e3a",
   "metadata": {},
   "source": [
    "Mit den reduzierten Daten erstellen wir einen neuen Dictionary und tokenizen unsere Daten."
   ]
  },
  {
   "cell_type": "code",
   "execution_count": 18,
   "id": "6d9ef97a",
   "metadata": {},
   "outputs": [
    {
     "data": {
      "text/plain": [
       "[[0,\n",
       "  6,\n",
       "  10,\n",
       "  5,\n",
       "  10,\n",
       "  10,\n",
       "  8,\n",
       "  9,\n",
       "  3,\n",
       "  10,\n",
       "  8,\n",
       "  6,\n",
       "  8,\n",
       "  7,\n",
       "  4,\n",
       "  3,\n",
       "  4,\n",
       "  3,\n",
       "  10,\n",
       "  8,\n",
       "  9,\n",
       "  3,\n",
       "  10,\n",
       "  5,\n",
       "  1],\n",
       " [0,\n",
       "  4,\n",
       "  7,\n",
       "  6,\n",
       "  5,\n",
       "  6,\n",
       "  6,\n",
       "  8,\n",
       "  6,\n",
       "  4,\n",
       "  3,\n",
       "  8,\n",
       "  10,\n",
       "  11,\n",
       "  10,\n",
       "  10,\n",
       "  10,\n",
       "  10,\n",
       "  10,\n",
       "  11,\n",
       "  3,\n",
       "  6,\n",
       "  12,\n",
       "  5,\n",
       "  1],\n",
       " [0, 6, 5, 6, 4, 6, 11, 6, 6, 12, 6, 6, 11, 6, 5, 1],\n",
       " [0, 6, 6, 5, 8, 6, 3, 6, 6, 6, 6, 6, 5, 6, 8, 7, 4, 3, 4, 1],\n",
       " [0, 12, 10, 5, 10, 10, 8, 6, 8, 9, 3, 8, 9, 3, 9, 3, 13, 14, 5, 1]]"
      ]
     },
     "execution_count": 18,
     "metadata": {},
     "output_type": "execute_result"
    }
   ],
   "source": [
    "dictionary = create_dict(filtered_smiles, add_tokens =True)\n",
    "tokenized_smiles = tokenize(filtered_smiles,dictionary, add_tokens =True)\n",
    "tokenized_smiles[:5]"
   ]
  },
  {
   "cell_type": "code",
   "execution_count": 19,
   "id": "a339d6c5",
   "metadata": {},
   "outputs": [
    {
     "data": {
      "text/plain": [
       "26"
      ]
     },
     "execution_count": 19,
     "metadata": {},
     "output_type": "execute_result"
    }
   ],
   "source": [
    "token_lengths = np.array([len(x) for x in tokenized_smiles])\n",
    "max_length=max(token_lengths)\n",
    "max_length"
   ]
  },
  {
   "cell_type": "markdown",
   "id": "decca5bc",
   "metadata": {},
   "source": [
    "Alle unsere Smiles bestehen jetzt aus maximal 26 Tokens. Als letzten Schritt müssen wir noch die Smiles die nicht aus 26 Tokens bestehen auf die richtige Länge bringen. Dazu benutzen wir den `<pad>` Token."
   ]
  },
  {
   "cell_type": "code",
   "execution_count": 20,
   "id": "9b0cdfb1",
   "metadata": {},
   "outputs": [],
   "source": [
    "for i, tok_smi in enumerate(tokenized_smiles):\n",
    "    tokenized_smiles[i] = tok_smi+ [dictionary[\"<pad>\"]]*(max_length - token_lengths[i])"
   ]
  },
  {
   "cell_type": "markdown",
   "id": "f51c6cde",
   "metadata": {},
   "source": [
    "Im letzten Schritt konvertieren, wir die Listen von Tokens zu einem Tensor."
   ]
  },
  {
   "cell_type": "code",
   "execution_count": 21,
   "id": "09693c16",
   "metadata": {},
   "outputs": [
    {
     "data": {
      "text/plain": [
       "tensor([[ 0,  6, 10,  5, 10, 10,  8,  9,  3, 10,  8,  6,  8,  7,  4,  3,  4,  3,\n",
       "         10,  8,  9,  3, 10,  5,  1,  2],\n",
       "        [ 0,  4,  7,  6,  5,  6,  6,  8,  6,  4,  3,  8, 10, 11, 10, 10, 10, 10,\n",
       "         10, 11,  3,  6, 12,  5,  1,  2],\n",
       "        [ 0,  6,  5,  6,  4,  6, 11,  6,  6, 12,  6,  6, 11,  6,  5,  1,  2,  2,\n",
       "          2,  2,  2,  2,  2,  2,  2,  2],\n",
       "        [ 0,  6,  6,  5,  8,  6,  3,  6,  6,  6,  6,  6,  5,  6,  8,  7,  4,  3,\n",
       "          4,  1,  2,  2,  2,  2,  2,  2],\n",
       "        [ 0, 12, 10,  5, 10, 10,  8,  6,  8,  9,  3,  8,  9,  3,  9,  3, 13, 14,\n",
       "          5,  1,  2,  2,  2,  2,  2,  2]])"
      ]
     },
     "execution_count": 21,
     "metadata": {},
     "output_type": "execute_result"
    }
   ],
   "source": [
    "tokenized_smiles=torch.tensor(tokenized_smiles, dtype=torch.long)\n",
    "tokenized_smiles[:5]"
   ]
  },
  {
   "cell_type": "markdown",
   "id": "a09c342b",
   "metadata": {},
   "source": [
    "## Model\n",
    "\n",
    "Heute werden wir das erstmal nicht `nn.Sequential` benutzen, um unsere Model zu erstellen. Bei einfache Architekturen, bietet sich  `nn.Sequential` an, dass es schnell zu definieren ist. Allerdings ist es nicht sehr flexibel. \n",
    "Deswegen werden meisten Netzwerke mit PyTorch \"von Hand\" geschrieben.\n",
    "\n",
    "Wie das geht, schauen wir uns heute an:\n",
    "\n",
    "Zwei Prozesse muss ein Netzwerk in PyTorch erledigen:\n",
    "\n",
    "1. Es muss die nötigen Weights initialisieren \n",
    "2. Es muss den Input durch das Netzwerk führen\n",
    "\n",
    "Das Initialisieren bei `nn.Sequential()` wird beim `model` erstellen automatisch gemacht."
   ]
  },
  {
   "cell_type": "code",
   "execution_count": 22,
   "id": "a50b88b6",
   "metadata": {},
   "outputs": [
    {
     "data": {
      "text/plain": [
       "Sequential(\n",
       "  (0): Linear(in_features=10, out_features=20, bias=True)\n",
       "  (1): ReLU()\n",
       "  (2): Dropout(p=0.2, inplace=False)\n",
       "  (3): Linear(in_features=20, out_features=1, bias=True)\n",
       ")"
      ]
     },
     "execution_count": 22,
     "metadata": {},
     "output_type": "execute_result"
    }
   ],
   "source": [
    "model = nn.Sequential(nn.Linear(10,20), nn.ReLU(), nn.Dropout(0.2), nn.Linear(20,1))\n",
    "model "
   ]
  },
  {
   "cell_type": "code",
   "execution_count": 23,
   "id": "6aa79a4a",
   "metadata": {},
   "outputs": [
    {
     "data": {
      "text/plain": [
       "Parameter containing:\n",
       "tensor([ 0.1589, -0.0070,  0.2799,  0.0982, -0.2169,  0.0608,  0.0074, -0.1634,\n",
       "        -0.2114, -0.2419, -0.0717, -0.1254, -0.1585,  0.3098,  0.0871, -0.2200,\n",
       "        -0.0302,  0.2415, -0.0760,  0.3010], requires_grad=True)"
      ]
     },
     "execution_count": 23,
     "metadata": {},
     "output_type": "execute_result"
    }
   ],
   "source": [
    "list(model.parameters())[1]"
   ]
  },
  {
   "cell_type": "markdown",
   "id": "d1f1a0ab",
   "metadata": {},
   "source": [
    "So haben wir bis jetzt unsere Netzwerke definiert. Jede Layer wird automatisch\n",
    "`model = nn.Sequential(nn.Linear(10,20), nn.ReLU(), nn.Dropout(0.2), nn.Linear(20,1))` durch diesen Schritt erstellt und die Weight zufällig initialisiert.\n",
    "\n",
    "Wir können, aber auch unser eigenes Netzwerk selber definieren.\n",
    "Dafür müssen wir ein PyTorch Klasse erstellen. Klassen in Python ähneln ein wenig Funktionen. Nur können Klassen auch Eigenschaften und eigene Funktionen enthalten. Auf die genauen Funktionen von Klassen werden wir hier nicht ein gehen.\n",
    "\n",
    "Wichtig ist, dass wir auch Klassen erstellen können, die sich wie PyTorch Klassen verhalten.\n",
    "Dafür schreiben wir zunächst folgenden Code:\n",
    "\n",
    "``` python\n",
    "class einfaches_nn(nn.Module):\n",
    "```\n",
    "\n",
    "Damit legen wir fest, dass die Klasse `einfaches_nn` eine Klasse, die zu `nn.Module` gehört. Also wie andere Layer oder Modelle in PyTorch zu `nn` gehören soll.\n",
    "\n",
    "Als Nächstes folgt die Initialisierung \n",
    "\n",
    "``` python\n",
    "class einfaches_nn(nn.Module):\n",
    "    def __init__(self,input_dim, hid_dim, out_dim, dropout):\n",
    "        super().__init__()\n",
    "```\n",
    "\n",
    "`def __init__(self,input_dim, hid_dim, out_dim, dropout):` ist eine Funktion, die beim Initialisieren des Netzwerkes aufgerufen werden soll. Wichtig ist, dass neben den Dimensionen, die die Größe des Netzwerkes festlegen, auch ein `self` als Input aufgeführt ist.\n",
    "\n",
    "`self` \"enthält\" alle Informationen, die für diese Klasse gespeichert werden. Diese können auch über die Funktion hinaus benutzt werden. Das sollte in ein paar Minuten deutlicher werden.\n",
    "\n",
    "`super().__init__()` ist Teil des Codes der wichtig für PyTorch Klassen ist. Dieser Teil darf nicht in der Initialisierung fehlen.\n",
    "\n",
    "Als Nächstes können wir unsere linear Layers und Dropout in `self` \"speichern\":\n",
    "\n",
    "``` python\n",
    "class einfaches_nn(nn.Module):\n",
    "    def __init__(self,input_dim, hid_dim, out_dim, dropout):\n",
    "        super().__init__()\n",
    "        \n",
    "        self.ln1 = nn.Linear(input_dim, hid_dim)\n",
    "        self.ln2 = nn.Linear(hid_dim, out_dim)\n",
    "        self.dropout = nn.Dropout(dropout)\n",
    "```\n",
    "\n",
    "`self.ln1 = nn.Linear(input_dim, hid_dim)` erlaubt es uns, später in andere Funktionen die erste linear Layer mit `self.ln1` auszuwählen"
   ]
  },
  {
   "cell_type": "code",
   "execution_count": 24,
   "id": "f9a67e7d",
   "metadata": {},
   "outputs": [],
   "source": [
    "class einfaches_nn(nn.Module):\n",
    "    def __init__(self,input_dim, hid_dim, out_dim, dropout):\n",
    "        super().__init__()\n",
    "        \n",
    "        self.ln1 = nn.Linear(input_dim, hid_dim)\n",
    "        self.ln2 = nn.Linear(hid_dim, out_dim)\n",
    "        self.dropout = nn.Dropout(dropout)"
   ]
  },
  {
   "cell_type": "code",
   "execution_count": 25,
   "id": "84193b3a",
   "metadata": {
    "scrolled": true
   },
   "outputs": [
    {
     "data": {
      "text/plain": [
       "einfaches_nn(\n",
       "  (ln1): Linear(in_features=10, out_features=20, bias=True)\n",
       "  (ln2): Linear(in_features=20, out_features=1, bias=True)\n",
       "  (dropout): Dropout(p=0.2, inplace=False)\n",
       ")"
      ]
     },
     "execution_count": 25,
     "metadata": {},
     "output_type": "execute_result"
    }
   ],
   "source": [
    "model_2 = einfaches_nn(input_dim=10,hid_dim= 20, out_dim=1, dropout=0.2)\n",
    "model_2"
   ]
  },
  {
   "cell_type": "markdown",
   "id": "59106e34",
   "metadata": {},
   "source": [
    "Wir können sehen, dass das Netzwerk auch aus den richtigen Layers besteht, aber in falscher Reihenfolge. Außerdem fehlt die ReLU Funktion. Das ist bis jetzt auch nicht weiter schlimm, denn die `__init__` Funktion soll ja nur das Model initialisieren, also erst einmal nur die Layers und deren Weights kreieren. ReLU hat keine Weights und muss deswegen nicht \"initialisiert\" werden.\n",
    "\n",
    "Hier ist auch der Beweis, dass das Netzwerke `model_2` jetzt zufällige Weights hat."
   ]
  },
  {
   "cell_type": "code",
   "execution_count": 26,
   "id": "afb4981a",
   "metadata": {
    "scrolled": true
   },
   "outputs": [
    {
     "data": {
      "text/plain": [
       "Parameter containing:\n",
       "tensor([-0.1566,  0.3074, -0.0203, -0.0462,  0.0961, -0.2189, -0.2439,  0.0241,\n",
       "         0.0934, -0.0064,  0.3099, -0.1327,  0.1137, -0.0800,  0.0038,  0.0006,\n",
       "        -0.2715,  0.0411,  0.0114,  0.0351], requires_grad=True)"
      ]
     },
     "execution_count": 26,
     "metadata": {},
     "output_type": "execute_result"
    }
   ],
   "source": [
    "list(model_2.parameters())[1]"
   ]
  },
  {
   "cell_type": "markdown",
   "id": "06f22545",
   "metadata": {},
   "source": [
    "Wir können auch probieren, ob die Model von einem Input (`fake_input` enthält zufällige Zahlen) einen Output generieren kann."
   ]
  },
  {
   "cell_type": "code",
   "execution_count": 27,
   "id": "cac8d09f",
   "metadata": {},
   "outputs": [
    {
     "data": {
      "text/plain": [
       "tensor([0.2301], grad_fn=<AddBackward0>)"
      ]
     },
     "execution_count": 27,
     "metadata": {},
     "output_type": "execute_result"
    }
   ],
   "source": [
    "fake_input = (torch.rand(10))\n",
    "\n",
    "model(fake_input)"
   ]
  },
  {
   "cell_type": "markdown",
   "id": "8358ba25",
   "metadata": {},
   "source": [
    "Für das `nn.Sequential` kein Problem."
   ]
  },
  {
   "cell_type": "code",
   "execution_count": 28,
   "id": "75736a60",
   "metadata": {},
   "outputs": [
    {
     "ename": "NotImplementedError",
     "evalue": "",
     "output_type": "error",
     "traceback": [
      "\u001b[1;31m---------------------------------------------------------------------------\u001b[0m",
      "\u001b[1;31mNotImplementedError\u001b[0m                       Traceback (most recent call last)",
      "\u001b[1;32m~\\AppData\\Local\\Temp/ipykernel_240/402145498.py\u001b[0m in \u001b[0;36m<module>\u001b[1;34m\u001b[0m\n\u001b[0;32m      1\u001b[0m \u001b[0mfake_input\u001b[0m \u001b[1;33m=\u001b[0m \u001b[1;33m(\u001b[0m\u001b[0mtorch\u001b[0m\u001b[1;33m.\u001b[0m\u001b[0mrand\u001b[0m\u001b[1;33m(\u001b[0m\u001b[1;36m10\u001b[0m\u001b[1;33m)\u001b[0m\u001b[1;33m)\u001b[0m\u001b[1;33m\u001b[0m\u001b[1;33m\u001b[0m\u001b[0m\n\u001b[0;32m      2\u001b[0m \u001b[1;33m\u001b[0m\u001b[0m\n\u001b[1;32m----> 3\u001b[1;33m \u001b[0mmodel_2\u001b[0m\u001b[1;33m(\u001b[0m\u001b[0mfake_input\u001b[0m\u001b[1;33m)\u001b[0m\u001b[1;33m\u001b[0m\u001b[1;33m\u001b[0m\u001b[0m\n\u001b[0m",
      "\u001b[1;32m~\\anaconda3\\envs\\intro_kiv2\\lib\\site-packages\\torch\\nn\\modules\\module.py\u001b[0m in \u001b[0;36m_call_impl\u001b[1;34m(self, *input, **kwargs)\u001b[0m\n\u001b[0;32m   1049\u001b[0m         if not (self._backward_hooks or self._forward_hooks or self._forward_pre_hooks or _global_backward_hooks\n\u001b[0;32m   1050\u001b[0m                 or _global_forward_hooks or _global_forward_pre_hooks):\n\u001b[1;32m-> 1051\u001b[1;33m             \u001b[1;32mreturn\u001b[0m \u001b[0mforward_call\u001b[0m\u001b[1;33m(\u001b[0m\u001b[1;33m*\u001b[0m\u001b[0minput\u001b[0m\u001b[1;33m,\u001b[0m \u001b[1;33m**\u001b[0m\u001b[0mkwargs\u001b[0m\u001b[1;33m)\u001b[0m\u001b[1;33m\u001b[0m\u001b[1;33m\u001b[0m\u001b[0m\n\u001b[0m\u001b[0;32m   1052\u001b[0m         \u001b[1;31m# Do not call functions when jit is used\u001b[0m\u001b[1;33m\u001b[0m\u001b[1;33m\u001b[0m\u001b[1;33m\u001b[0m\u001b[0m\n\u001b[0;32m   1053\u001b[0m         \u001b[0mfull_backward_hooks\u001b[0m\u001b[1;33m,\u001b[0m \u001b[0mnon_full_backward_hooks\u001b[0m \u001b[1;33m=\u001b[0m \u001b[1;33m[\u001b[0m\u001b[1;33m]\u001b[0m\u001b[1;33m,\u001b[0m \u001b[1;33m[\u001b[0m\u001b[1;33m]\u001b[0m\u001b[1;33m\u001b[0m\u001b[1;33m\u001b[0m\u001b[0m\n",
      "\u001b[1;32m~\\anaconda3\\envs\\intro_kiv2\\lib\\site-packages\\torch\\nn\\modules\\module.py\u001b[0m in \u001b[0;36m_forward_unimplemented\u001b[1;34m(self, *input)\u001b[0m\n\u001b[0;32m    199\u001b[0m         \u001b[0mregistered\u001b[0m \u001b[0mhooks\u001b[0m \u001b[1;32mwhile\u001b[0m \u001b[0mthe\u001b[0m \u001b[0mlatter\u001b[0m \u001b[0msilently\u001b[0m \u001b[0mignores\u001b[0m \u001b[0mthem\u001b[0m\u001b[1;33m.\u001b[0m\u001b[1;33m\u001b[0m\u001b[1;33m\u001b[0m\u001b[0m\n\u001b[0;32m    200\u001b[0m     \"\"\"\n\u001b[1;32m--> 201\u001b[1;33m     \u001b[1;32mraise\u001b[0m \u001b[0mNotImplementedError\u001b[0m\u001b[1;33m\u001b[0m\u001b[1;33m\u001b[0m\u001b[0m\n\u001b[0m\u001b[0;32m    202\u001b[0m \u001b[1;33m\u001b[0m\u001b[0m\n\u001b[0;32m    203\u001b[0m \u001b[1;33m\u001b[0m\u001b[0m\n",
      "\u001b[1;31mNotImplementedError\u001b[0m: "
     ]
    }
   ],
   "source": [
    "fake_input = (torch.rand(10))\n",
    "\n",
    "model_2(fake_input)"
   ]
  },
  {
   "cell_type": "markdown",
   "id": "86e2818a",
   "metadata": {},
   "source": [
    "Der Fehler \n",
    "```python\n",
    "raise NotImplementedError\n",
    "```\n",
    "\n",
    "wird ausgegeben. Das bedeutet wir haben dieser Teil des Modells nicht implementiert, also noch nicht geschrieben.\n",
    "Bis jetzt kann `einfaches_nn` nur Weight initialisieren. Es weiß aber noch nicht, wie es den Input durch das Netzwerk führen soll.\n",
    "In `nn.Sequentual` wird das automatisch gemacht. Der Input wird einfach nacheinander durch die Layers geführt. Die Reihenfolge ergibt sich aus der Reihenfolge der Layers bei der Initialisierung. \n",
    "\n",
    "Für unsere eigene Klasse brauchen wir noch eine weitere Funktion Namens \n",
    "\n",
    "```python\n",
    "def forward(self, x):\n",
    "```\n",
    "`forward` ist, wie der Name andeutet, für die Forward Propagation zuständig. Es legt fest in welcher Reihnfolge Input `x` durch die zuvor definierten Layers geführt wird.\n",
    "Wichtig ist hier auch das neben `x` auch wieder `self` ein Input ist. `self` enthält alle Informationen, die wir bereits in der `__ìnit__` definiert haben.\n",
    "\n",
    "```python\n",
    "class einfaches_nn(nn.Module):\n",
    "    def __init__(self,input_dim, hid_dim, out_dim, dropout):\n",
    "        super().__init__()\n",
    "        \n",
    "        self.ln1 = nn.Linear(input_dim, hid_dim)\n",
    "        self.ln2 = nn.Linear(hid_dim, out_dim)\n",
    "        self.dropout = nn.Dropout(dropout)\n",
    "    \n",
    "    def forward(self,x):\n",
    "        x = self.ln1(x)\n",
    "        x = self.dropout(x)\n",
    "        x = nn.functional.relu(x)\n",
    "        output = self.ln2(x)\n",
    "        return output\n",
    "```\n",
    "\n",
    "Hier geben wir Schritt für Schritt an was mit dem originalen Input passiert. Im ersten Schritt wird `x`durch die erste Linear Layer geführt. Diese ist in `self.ln1` gespeichert. Nur für die Activationfunktion brauchen wir kein `self` da diese ja auch nicht initialisiert wurde.\n",
    "\n",
    "---\n",
    "**Wichtig ist auch, dass wir jetzt nicht mehr** `nn.ReLU` **verwenden können, sondern wir müssen ** `.nn.functional.relu()` **benutzen**\n",
    "\n",
    "---"
   ]
  },
  {
   "cell_type": "code",
   "execution_count": 29,
   "id": "ad426321",
   "metadata": {},
   "outputs": [
    {
     "data": {
      "text/plain": [
       "einfaches_nn(\n",
       "  (ln1): Linear(in_features=10, out_features=20, bias=True)\n",
       "  (ln2): Linear(in_features=20, out_features=1, bias=True)\n",
       "  (dropout): Dropout(p=0.2, inplace=False)\n",
       ")"
      ]
     },
     "execution_count": 29,
     "metadata": {},
     "output_type": "execute_result"
    }
   ],
   "source": [
    "class einfaches_nn(nn.Module):\n",
    "    def __init__(self,input_dim, hid_dim, out_dim, dropout):\n",
    "        super().__init__()\n",
    "        \n",
    "        self.ln1 = nn.Linear(input_dim, hid_dim)\n",
    "        self.ln2 = nn.Linear(hid_dim, out_dim)\n",
    "        self.dropout = nn.Dropout(dropout)\n",
    "    \n",
    "    def forward(self,x):\n",
    "        x = self.ln1(x)\n",
    "        x = self.dropout(x)\n",
    "        x = nn.functional.relu(x)\n",
    "        output = self.ln2(x)\n",
    "        return output\n",
    "    \n",
    "model_2 = einfaches_nn(input_dim=10,hid_dim= 20, out_dim=1, dropout=0.2)\n",
    "model_2    "
   ]
  },
  {
   "cell_type": "markdown",
   "id": "c39badb3",
   "metadata": {},
   "source": [
    "An der Initialisierung hat sich nichts geändert, aber wir können jetzt Input durch das Netzwerk führen."
   ]
  },
  {
   "cell_type": "code",
   "execution_count": 30,
   "id": "5758b0a1",
   "metadata": {},
   "outputs": [
    {
     "data": {
      "text/plain": [
       "tensor([0.2777], grad_fn=<AddBackward0>)"
      ]
     },
     "execution_count": 30,
     "metadata": {},
     "output_type": "execute_result"
    }
   ],
   "source": [
    "model_2(fake_input)"
   ]
  },
  {
   "cell_type": "markdown",
   "id": "b7113cf5",
   "metadata": {},
   "source": [
    "So können wir also auch komplexere Netzwerke schreiben, die nicht nur einen Input haben."
   ]
  },
  {
   "cell_type": "markdown",
   "id": "300c968a",
   "metadata": {},
   "source": [
    "## Encoder\n",
    "\n",
    "Jetzt zurück zu unserem Autoencoder.\n",
    "Zunächst definieren wir den Encoder.\n",
    "Wir haben eine `nn.Embedding` Layer  und eine `nn.GRU` Layer. Der Encoder ist eigentlich genau der gleiche wie im letzten Notebook unser RNN, nur das wir es hier selber explizit schreiben.\n",
    "\n",
    "Schauen Sie sich die `forward` Funktion an. Als Input nimmt es die eine `input_seq`, also eine Reihenfolge von Tokens. Ausgeben wird der letzte `hidden` State des Netzwerkes. Dieser beschreibt den kompletten Smiles und ist gleichzeitig unser latent Vector."
   ]
  },
  {
   "cell_type": "code",
   "execution_count": 31,
   "id": "db0275fc",
   "metadata": {},
   "outputs": [],
   "source": [
    "class Encoder(nn.Module):\n",
    "    def __init__(self, input_dim, emb_dim, hid_dim, dropout):\n",
    "        super().__init__()\n",
    "        self.hid_dim = hid_dim \n",
    "        self.embedding = nn.Embedding(input_dim, emb_dim) \n",
    "        self.rnn = nn.GRU(emb_dim, hid_dim)\n",
    "        self.dropout = nn.Dropout(dropout)\n",
    "        \n",
    "    def forward(self, input_seq):\n",
    "        embedded = self.dropout(self.embedding(input_seq))\n",
    "        outputs, hidden = self.rnn(embedded) \n",
    "        return hidden\n",
    "    "
   ]
  },
  {
   "cell_type": "markdown",
   "id": "017de72c",
   "metadata": {},
   "source": [
    "## Decoder \n",
    "\n",
    "Der Decoder ist schon durchaus komplexer.  Wenn Sie hier eventuell nicht den kompletten Code verstehen, ist das in Ordnung. So lange Sie dem allgemeinen Konzept folgen können.\n",
    "Auch hier haben wir wieder eine `Embedding` Layer und eine `GRU` Layer, zusätzlich gibt es noch eine Linear Layer. Diese trifft die Vorhersage, welcher Token jetzt folgt basierend auf dem  Output des GRUs.\n",
    "\n",
    "Im `forward` Schritt gibt es zwei Inputs, einmal der `Input`, das ist der letzten Token der vorhergesagt worden ist. Oder am Anfang eben der `<sos>` Token. `hidden` ist der Hidden State des GRU aus dem vorherigen Schritt.\n",
    "`forward` gibt sowohl die `prediction`, der vorhergesagte Token, als auch `hidden`, den neuen Hidden State, aus."
   ]
  },
  {
   "cell_type": "code",
   "execution_count": 32,
   "id": "9bea1239",
   "metadata": {},
   "outputs": [],
   "source": [
    "class Decoder(nn.Module):\n",
    "    def __init__(self, output_dim, emb_dim, hid_dim, dropout):\n",
    "        super().__init__()\n",
    "\n",
    "        self.hid_dim = hid_dim\n",
    "        self.output_dim = output_dim\n",
    "        \n",
    "        self.embedding = nn.Embedding(output_dim, emb_dim)\n",
    "        self.rnn = nn.GRU(emb_dim, hid_dim)\n",
    "        self.fc_out = nn.Linear(hid_dim, output_dim)\n",
    "        self.dropout = nn.Dropout(dropout)\n",
    "        \n",
    "    def forward(self, input, hidden):\n",
    "        \n",
    "        input = input.unsqueeze(0)\n",
    "        \n",
    "        embedded = self.dropout(self.embedding(input))\n",
    "        output, hidden = self.rnn(embedded, hidden)\n",
    "        prediction = self.fc_out(output[0])\n",
    "        \n",
    "        return prediction, hidden"
   ]
  },
  {
   "cell_type": "markdown",
   "id": "78160a22",
   "metadata": {},
   "source": [
    "Als Letztes bringen wir beide Komponenten in einem `Autoencoder` zusammen. Als Input nimmt dieses Model einen Decoder und einen Encoder.  Der Autoencoder hat auch einen eigenen `forward` pass. Zunächst wird der Input durch den Encoder geschickt. Der Encoder gibt uns den hidden state `hidden` aus. Dieser Hidden State wird dann im einmalig im for loop für den Decoder verwendet. Auch nehmen wir die erste Reihe der `output_seq` als den ersten Input für den Decoder. Diese Reihe besteht aus den `<sos>` Tokens.\n",
    "\n",
    "Wir benutzen auch Teacher Forcing. Teacher Forcing wird im Training verwendet, damit es dem Decoder leichter fällt den kompletten Smiles wieder herzustellen. Schlägt der Decoder am Anfang eines Smiles schon den falschen Token vor, muss der Decoder mit diesem falschen Token als Input weite rechnen. Das kann gerade am Anfang das Training ein Problem sein, da hier noch viele Fehler gemacht werden. Das Teacher Forcing ersetzt zwischendurch die vorhergesagten Tokens mit korrekten Tokens. Somit kann der Decoder mit den richtigen Tokens weiter rechnen. Beim Evaluieren, wird das Teacher Forcing dann ausgeschaltet. "
   ]
  },
  {
   "cell_type": "code",
   "execution_count": 33,
   "id": "d164a5aa",
   "metadata": {},
   "outputs": [],
   "source": [
    "  \n",
    "class Autoencoder(nn.Module):\n",
    "    def __init__(self, encoder, decoder):\n",
    "        super().__init__()\n",
    "        \n",
    "        self.encoder = encoder\n",
    "        self.decoder = decoder\n",
    "\n",
    "        \n",
    "    def forward(self, input_seq, output_seq, teacher_forcing_ratio = 0.5):\n",
    "        \n",
    "        # speichern von Parametern\n",
    "        batch_size = output_seq.shape[1]\n",
    "        trg_len = output_seq.shape[0]\n",
    "        trg_vocab_size = self.decoder.output_dim\n",
    "        outputs = torch.zeros(trg_len, batch_size, trg_vocab_size)\n",
    "        \n",
    "        \n",
    "        # Eigentlicher ForwardPass\n",
    "        \n",
    "        # Der Encoder berechnet den Hidden State/Latent Vector\n",
    "        hidden = self.encoder(input_seq)\n",
    "        \n",
    "        # Als initialen Input für den Decoder wählen wir die <sos> tokens aus\n",
    "        input = output_seq[0,:]\n",
    "        \n",
    "        # Der for-loop wird benutzt, um nacheinander die Tokens zu generieren.\n",
    "        for t in range(1, trg_len):\n",
    "\n",
    "            output, hidden = self.decoder(input, hidden)\n",
    "            outputs[t] = output\n",
    "            teacher_force = random.random() < teacher_forcing_ratio\n",
    "\n",
    "            top1 = output.argmax(1) \n",
    "\n",
    "            input = output_seq[t] if teacher_force else top1\n",
    "\n",
    "        return outputs"
   ]
  },
  {
   "cell_type": "markdown",
   "id": "ef7c8ed2",
   "metadata": {},
   "source": [
    "Wie gegesagt, es ist okay wenn Sie in diesem Fall nicht alles verstehen."
   ]
  },
  {
   "cell_type": "markdown",
   "id": "966af5d2",
   "metadata": {},
   "source": [
    "Zunächst können wir unsere Model definieren."
   ]
  },
  {
   "cell_type": "code",
   "execution_count": 58,
   "id": "34add64c",
   "metadata": {
    "scrolled": false
   },
   "outputs": [
    {
     "data": {
      "text/plain": [
       "Autoencoder(\n",
       "  (encoder): Encoder(\n",
       "    (embedding): Embedding(24, 128)\n",
       "    (rnn): GRU(128, 256)\n",
       "    (dropout): Dropout(p=0.2, inplace=False)\n",
       "  )\n",
       "  (decoder): Decoder(\n",
       "    (embedding): Embedding(24, 128)\n",
       "    (rnn): GRU(128, 256)\n",
       "    (fc_out): Linear(in_features=256, out_features=24, bias=True)\n",
       "    (dropout): Dropout(p=0.2, inplace=False)\n",
       "  )\n",
       ")"
      ]
     },
     "execution_count": 58,
     "metadata": {},
     "output_type": "execute_result"
    }
   ],
   "source": [
    "enc = Encoder(len(dictionary), 128, 256, 0.2)\n",
    "dec = Decoder(len(dictionary),128,256,0.2)\n",
    "model = Autoencoder(enc, dec)\n",
    "model"
   ]
  },
  {
   "cell_type": "markdown",
   "id": "a92b2133",
   "metadata": {},
   "source": [
    "Sie können deutlich die unterschiedlichen Einheiten des Autoencoders erkennen.\n",
    "Auch erstellen wir jetzt einen `DataLoader`. Dieser nimmt als $x$ und $y$ die selbe Sequenz, da wir ja einen Autoencoder trainieren wollen. Auch speichern wir einen Beispielbatch `ex_in` und `ex_out`.\n",
    "\n",
    "Da wir sowenig Daten haben, benutzen wir keinen Testdatensatz."
   ]
  },
  {
   "cell_type": "code",
   "execution_count": 55,
   "id": "2c5b32f7",
   "metadata": {},
   "outputs": [],
   "source": [
    "train_dataset = TensorDataset(tokenized_smiles, tokenized_smiles)\n",
    "train_loader = DataLoader(train_dataset, batch_size=16, shuffle=True)\n",
    "ex_in= ex_out = tokenized_smiles[:16,:]"
   ]
  },
  {
   "cell_type": "markdown",
   "id": "483d8fa3",
   "metadata": {},
   "source": [
    "Wir definieren unsere Optimizer und unsere Loss Funktion, hier können wir auch festhalten, dass der Index `2` ignoriert werden soll, bei der Berrechnung des Loss. Dieser ist nämlich der Index für den `<pad>` token. Und diese ist nicht wichtig für die Prediction."
   ]
  },
  {
   "cell_type": "code",
   "execution_count": 42,
   "id": "e43e39a7",
   "metadata": {},
   "outputs": [],
   "source": [
    "optimizer = optim.Adam(model.parameters())\n",
    "criterion = nn.CrossEntropyLoss(ignore_index = 2)"
   ]
  },
  {
   "cell_type": "markdown",
   "id": "325b2f2c",
   "metadata": {},
   "source": [
    "Als letztes kommt der Trainings Loop. An sich ein normaler Loop, allerdings benutzen wir den Transpose der `input_seq` und der `output_seq`. Da so die Funktionen der Netzwerke leichter in einander übergehen. Das Netzwerk ist auch schon gespeichert, dauert das Training zu lange können sie einfach das vortrainierte Netzwerk in der nächsten Zelle laden.  \n",
    "\n",
    "Im Trainings Loop selber wird alle 5 Epochs auch die Qualität der generierten Smiles evaluiert. Wie viele Smiles sind valide Smiles und wie viele Smiles sind identisch zum Input.\n",
    "\n",
    "Das wird von der Funktion `evaluate()` gemacht, die für Sie vorgeschrieben wurde."
   ]
  },
  {
   "cell_type": "code",
   "execution_count": 43,
   "id": "8a2fac53",
   "metadata": {
    "scrolled": true
   },
   "outputs": [
    {
     "name": "stdout",
     "output_type": "stream",
     "text": [
      "Epoch 0: Loss: 2.207467238108317 % Valid: 0.37 % Correct: 0.0 \n",
      "Epoch 1: Loss: 1.7648715295043647\n",
      "Epoch 2: Loss: 1.48836138084823\n",
      "Epoch 3: Loss: 1.3003907782189987\n",
      "Epoch 4: Loss: 1.1809125139432795\n",
      "Epoch 5: Loss: 1.0506082638805987 % Valid: 0.27 % Correct: 0.01 \n",
      "Epoch 6: Loss: 0.9647065143959195\n",
      "Epoch 7: Loss: 0.8842930747013465\n",
      "Epoch 8: Loss: 0.8334237652666429\n",
      "Epoch 9: Loss: 0.7894003321142757\n",
      "Epoch 10: Loss: 0.7164948039195117 % Valid: 0.31 % Correct: 0.05 \n",
      "Epoch 11: Loss: 0.7038798086783465\n",
      "Epoch 12: Loss: 0.6673308692726434\n",
      "Epoch 13: Loss: 0.625498993139641\n",
      "Epoch 14: Loss: 0.5709024387247422\n",
      "Epoch 15: Loss: 0.5567950428116555 % Valid: 0.46 % Correct: 0.16 \n",
      "Epoch 16: Loss: 0.5212987342885896\n",
      "Epoch 17: Loss: 0.5063032802997851\n",
      "Epoch 18: Loss: 0.4674134494042864\n",
      "Epoch 19: Loss: 0.4546810946628159\n",
      "Epoch 20: Loss: 0.42438924224937663 % Valid: 0.61 % Correct: 0.28 \n",
      "Epoch 21: Loss: 0.41678477838343264\n",
      "Epoch 22: Loss: 0.3956659997210783\n",
      "Epoch 23: Loss: 0.3868497225875948\n",
      "Epoch 24: Loss: 0.38675248316105676\n",
      "Epoch 25: Loss: 0.33008372462263297 % Valid: 0.74 % Correct: 0.43 \n",
      "Epoch 26: Loss: 0.34362199288957257\n",
      "Epoch 27: Loss: 0.35515615139521806\n",
      "Epoch 28: Loss: 0.3119584340967384\n",
      "Epoch 29: Loss: 0.2924491915048337\n",
      "Epoch 30: Loss: 0.28693195505469454 % Valid: 0.78 % Correct: 0.53 \n",
      "Epoch 31: Loss: 0.26693783795424536\n",
      "Epoch 32: Loss: 0.2945217278365995\n",
      "Epoch 33: Loss: 0.28197088903364015\n",
      "Epoch 34: Loss: 0.27391622588038445\n",
      "Epoch 35: Loss: 0.24274013147634618 % Valid: 0.78 % Correct: 0.52 \n",
      "Epoch 36: Loss: 0.2606990339563173\n",
      "Epoch 37: Loss: 0.24917302755456344\n",
      "Epoch 38: Loss: 0.22413168124416294\n",
      "Epoch 39: Loss: 0.22272333809558084\n",
      "Epoch 40: Loss: 0.2284372779084187 % Valid: 0.81 % Correct: 0.56 \n",
      "Epoch 41: Loss: 0.19941032071616135\n",
      "Epoch 42: Loss: 0.200915387886412\n",
      "Epoch 43: Loss: 0.17521311207583137\n",
      "Epoch 44: Loss: 0.18213783350645327\n",
      "Epoch 45: Loss: 0.16059186521406268 % Valid: 0.85 % Correct: 0.59 \n",
      "Epoch 46: Loss: 0.19272605490450764\n",
      "Epoch 47: Loss: 0.20244077914485745\n",
      "Epoch 48: Loss: 0.16094780055915608\n",
      "Epoch 49: Loss: 0.1763748572591473\n",
      "Epoch 50: Loss: 0.1504019930155254 % Valid: 0.88 % Correct: 0.68 \n",
      "Epoch 51: Loss: 0.1637577168351295\n",
      "Epoch 52: Loss: 0.14544322126198048\n",
      "Epoch 53: Loss: 0.19322906288446165\n",
      "Epoch 54: Loss: 0.121528089265613\n",
      "Epoch 55: Loss: 0.12564546728104936 % Valid: 0.93 % Correct: 0.83 \n",
      "Epoch 56: Loss: 0.12536636495268813\n",
      "Epoch 57: Loss: 0.1240927520956771\n",
      "Epoch 58: Loss: 0.110076652529339\n",
      "Epoch 59: Loss: 0.13193489786456614\n",
      "Epoch 60: Loss: 0.13874555412022507 % Valid: 0.91 % Correct: 0.82 \n",
      "Epoch 61: Loss: 0.13016115804659387\n",
      "Epoch 62: Loss: 0.11973469149248273\n",
      "Epoch 63: Loss: 0.15188024255136648\n",
      "Epoch 64: Loss: 0.13247052704294524\n",
      "Epoch 65: Loss: 0.12955497117603526 % Valid: 0.94 % Correct: 0.85 \n",
      "Epoch 66: Loss: 0.13360650747941405\n",
      "Epoch 67: Loss: 0.09501960908300151\n",
      "Epoch 68: Loss: 0.07244065106280294\n",
      "Epoch 69: Loss: 0.0978607239530367\n",
      "Epoch 70: Loss: 0.09247536108116894 % Valid: 0.96 % Correct: 0.9 \n",
      "Epoch 71: Loss: 0.09012274966374331\n",
      "Epoch 72: Loss: 0.09754627647207063\n",
      "Epoch 73: Loss: 0.15419914091334624\n",
      "Epoch 74: Loss: 0.10376845104802473\n",
      "Epoch 75: Loss: 0.1572040342451895 % Valid: 0.96 % Correct: 0.87 \n",
      "Epoch 76: Loss: 0.09720787227007688\n",
      "Epoch 77: Loss: 0.08007623862438634\n",
      "Epoch 78: Loss: 0.07532484659596402\n",
      "Epoch 79: Loss: 0.0584611725153438\n",
      "Epoch 80: Loss: 0.05169245071124797 % Valid: 0.99 % Correct: 0.96 \n",
      "Epoch 81: Loss: 0.07425436954580102\n",
      "Epoch 82: Loss: 0.07138417370836525\n",
      "Epoch 83: Loss: 0.0682801875267543\n",
      "Epoch 84: Loss: 0.06893455144017935\n",
      "Epoch 85: Loss: 0.10845859964177304 % Valid: 0.97 % Correct: 0.92 \n",
      "Epoch 86: Loss: 0.12085263956995572\n",
      "Epoch 87: Loss: 0.07990480218009621\n",
      "Epoch 88: Loss: 0.057624455020927334\n",
      "Epoch 89: Loss: 0.06523113277759038\n",
      "Epoch 90: Loss: 0.11328963489801276 % Valid: 0.94 % Correct: 0.86 \n",
      "Epoch 91: Loss: 0.16111045635725355\n",
      "Epoch 92: Loss: 0.12670253953147753\n",
      "Epoch 93: Loss: 0.07022375145963594\n",
      "Epoch 94: Loss: 0.07334475187292579\n",
      "Epoch 95: Loss: 0.07633043332573246 % Valid: 0.98 % Correct: 0.94 \n",
      "Epoch 96: Loss: 0.07022881305173916\n",
      "Epoch 97: Loss: 0.06181834468289333\n",
      "Epoch 98: Loss: 0.05126523651073084\n",
      "Epoch 99: Loss: 0.06251612713779597\n"
     ]
    }
   ],
   "source": [
    "\n",
    "for epoch in range(100):\n",
    "    epoch_loss = 0\n",
    "\n",
    "    model.train()\n",
    "    for input_seq, output_seq in train_loader:\n",
    "        optimizer.zero_grad()        \n",
    "        \n",
    "        input_seq = input_seq.t()\n",
    "        output_seq = output_seq.t()\n",
    "\n",
    "\n",
    "        output = model(input_seq, output_seq, 0.2)\n",
    "        \n",
    "        \n",
    "        output_dim = output.shape[-1]\n",
    "        output = output[1:].reshape(-1, output_dim)\n",
    "        output_seq =  output_seq[1:].reshape(-1)\n",
    "        \n",
    "        loss = criterion(output,  output_seq)\n",
    "\n",
    "        loss.backward()\n",
    "\n",
    "        optimizer.step()\n",
    "\n",
    "        epoch_loss += loss.item()\n",
    "    if (epoch%5==0):\n",
    "        valid, correct=evaluate(model, train_loader, dictionary)\n",
    "        print(f\"Epoch {epoch}: Loss: {epoch_loss /len(train_loader)} % Valid: {valid.round(2)} % Correct: {correct.round(2)} \")\n",
    "    else:\n",
    "        print(f\"Epoch {epoch}: Loss: {epoch_loss /len(train_loader)}\")\n",
    "    "
   ]
  },
  {
   "cell_type": "markdown",
   "id": "22fca008",
   "metadata": {},
   "source": [
    "Jetzt können wir schauen, wie gut unser Model wirklich ist. Denn während des Trainings benutzen wir Teacher Forcing. Das wird während der Evaluierung ausgeschaltet."
   ]
  },
  {
   "cell_type": "code",
   "execution_count": 70,
   "id": "f0e4a117",
   "metadata": {},
   "outputs": [
    {
     "data": {
      "text/plain": [
       "(0.9822303921568627, 0.928921568627451)"
      ]
     },
     "execution_count": 70,
     "metadata": {},
     "output_type": "execute_result"
    }
   ],
   "source": [
    "evaluate(model,train_loader, dictionary)"
   ]
  },
  {
   "cell_type": "markdown",
   "id": "e06fcdcb",
   "metadata": {},
   "source": [
    "Unser Autoencoder generiert  tatsächlich valide Smiles. Viele der generierten Smiles sind auch tatsächlich identisch zu den Inputsmiles.\n",
    "\n",
    "Autoencoder sind schwierig zu trainieren, besonders für Sprachen oder auch SMILES. Die Grammatik von SMILES muss erst erlernt werden. Dafür brauch es eigentlich viel mehr Daten. Darüber hinaus, benutzen wir ein sehr simples Model. Trotzdem können wir und das Netzwerk ein wenig genauer anschauen.\n",
    "\n",
    "Wir können uns zum Beispiel die Vorhersagen für unseren `ex_in` Batch anschauen."
   ]
  },
  {
   "cell_type": "markdown",
   "id": "c0d800d8",
   "metadata": {},
   "source": [
    "Wir lassen uns die vorhergesagten Token für die ersten beide Smiles im Batch aus. "
   ]
  },
  {
   "cell_type": "code",
   "execution_count": 45,
   "id": "cdc0f177",
   "metadata": {
    "scrolled": false
   },
   "outputs": [
    {
     "data": {
      "text/plain": [
       "array([[ 0,  6, 10,  5, 10, 10,  8,  9,  3, 10,  8,  6,  8,  7,  4,  3,\n",
       "         4,  3, 10,  8,  9,  3, 10,  5,  1,  1],\n",
       "       [ 0,  4,  7,  6,  5,  6,  6,  8,  6,  4,  3,  8, 10, 11, 10, 10,\n",
       "        10, 10, 10, 11,  3,  6, 12,  5,  1,  1]], dtype=int64)"
      ]
     },
     "execution_count": 45,
     "metadata": {},
     "output_type": "execute_result"
    }
   ],
   "source": [
    "model.eval()\n",
    "pred = model(ex_in.t(), ex_out.t(), 0)\n",
    "pred_tokens =pred.argmax(2).t().detach().numpy()\n",
    "\n",
    "pred_tokens[:2]"
   ]
  },
  {
   "cell_type": "markdown",
   "id": "6254adc7",
   "metadata": {},
   "source": [
    "Im Vergleich dazu sind die orignalen Daten:"
   ]
  },
  {
   "cell_type": "code",
   "execution_count": null,
   "id": "a64b3736",
   "metadata": {
    "scrolled": true
   },
   "outputs": [],
   "source": [
    "ex_out[:2]"
   ]
  },
  {
   "cell_type": "markdown",
   "id": "fd843bf7",
   "metadata": {},
   "source": [
    "Die Funktion `token_to_smiles` konvertiert die Tokens wieder zurück in Smiles:\n",
    "So sehen die vorhergesagten Smiles aus:"
   ]
  },
  {
   "cell_type": "code",
   "execution_count": 50,
   "id": "23ad4972",
   "metadata": {},
   "outputs": [
    {
     "data": {
      "text/html": [
       "<div>\n",
       "<style scoped>\n",
       "    .dataframe tbody tr th:only-of-type {\n",
       "        vertical-align: middle;\n",
       "    }\n",
       "\n",
       "    .dataframe tbody tr th {\n",
       "        vertical-align: top;\n",
       "    }\n",
       "\n",
       "    .dataframe thead th {\n",
       "        text-align: right;\n",
       "    }\n",
       "</style>\n",
       "<table border=\"1\" class=\"dataframe\">\n",
       "  <thead>\n",
       "    <tr style=\"text-align: right;\">\n",
       "      <th></th>\n",
       "      <th>true</th>\n",
       "      <th>pred</th>\n",
       "    </tr>\n",
       "  </thead>\n",
       "  <tbody>\n",
       "    <tr>\n",
       "      <th>0</th>\n",
       "      <td>Cc1cc(F)c(C(=O)O)c(F)c1</td>\n",
       "      <td>Cc1cc(F)c(C(=O)O)c(F)c1</td>\n",
       "    </tr>\n",
       "    <tr>\n",
       "      <th>1</th>\n",
       "      <td>O=C1CC(CO)(c2ccccc2)CN1</td>\n",
       "      <td>O=C1CC(CO)(c2ccccc2)CN1</td>\n",
       "    </tr>\n",
       "    <tr>\n",
       "      <th>2</th>\n",
       "      <td>C1COC2CCNCC2C1</td>\n",
       "      <td>C1COC2CCNCC2C1</td>\n",
       "    </tr>\n",
       "    <tr>\n",
       "      <th>3</th>\n",
       "      <td>CC1(C)CCCCC1C(=O)O</td>\n",
       "      <td>CC1(C)CCCCC1C(=O)O</td>\n",
       "    </tr>\n",
       "    <tr>\n",
       "      <th>4</th>\n",
       "      <td>Nc1cc(C(F)(F)F)no1</td>\n",
       "      <td>Nc1cc(C(F)(F)F)no1</td>\n",
       "    </tr>\n",
       "    <tr>\n",
       "      <th>5</th>\n",
       "      <td>COC1(C)CC(N)C1(C)C</td>\n",
       "      <td>COC1(C)CC(N)C1(C)C</td>\n",
       "    </tr>\n",
       "    <tr>\n",
       "      <th>6</th>\n",
       "      <td>Cn1nc(C2CC2)cc1N</td>\n",
       "      <td>Cn1nc(C2CC2)cc1N</td>\n",
       "    </tr>\n",
       "    <tr>\n",
       "      <th>7</th>\n",
       "      <td>O=C(O)c1cnoc1C1CC1</td>\n",
       "      <td>O=C(O)c1cnoc1C1CC1</td>\n",
       "    </tr>\n",
       "    <tr>\n",
       "      <th>8</th>\n",
       "      <td>O=C(O)CN1CCc2ccccc2C1=O</td>\n",
       "      <td>O=C(O)CN1CCc2ccccc2C1=O</td>\n",
       "    </tr>\n",
       "    <tr>\n",
       "      <th>9</th>\n",
       "      <td>Cn1ncc2cc(CC(=O)O)ccc21</td>\n",
       "      <td>Cn1ncc2cc(CC(=O)O)ccc21</td>\n",
       "    </tr>\n",
       "    <tr>\n",
       "      <th>10</th>\n",
       "      <td>CCC(N)C1CCOCC1</td>\n",
       "      <td>CCC(N)C1CCOCC1</td>\n",
       "    </tr>\n",
       "    <tr>\n",
       "      <th>11</th>\n",
       "      <td>NC(=O)c1cccc(CO)c1</td>\n",
       "      <td>NC(=O)c1cccc(CO)c1</td>\n",
       "    </tr>\n",
       "    <tr>\n",
       "      <th>12</th>\n",
       "      <td>Cc1nn(C)c(C)c1C1COCCN1</td>\n",
       "      <td>Cc1nn(C)c(C)c1C1COCCN1</td>\n",
       "    </tr>\n",
       "    <tr>\n",
       "      <th>13</th>\n",
       "      <td>Fc1ccc(C2CNCCO2)cc1Cl</td>\n",
       "      <td>Fc1ccc(C2CNCCO2)cc1Cl</td>\n",
       "    </tr>\n",
       "    <tr>\n",
       "      <th>14</th>\n",
       "      <td>Nc1nc(C(F)(F)F)ns1</td>\n",
       "      <td>Nc1nc(C(F)(F)F)ns1</td>\n",
       "    </tr>\n",
       "    <tr>\n",
       "      <th>15</th>\n",
       "      <td>OCc1nc(-c2ccc(F)cc2)no1</td>\n",
       "      <td>OCc1nc(-c2ccc(F)cc2)no1</td>\n",
       "    </tr>\n",
       "  </tbody>\n",
       "</table>\n",
       "</div>"
      ],
      "text/plain": [
       "                       true                     pred\n",
       "0   Cc1cc(F)c(C(=O)O)c(F)c1  Cc1cc(F)c(C(=O)O)c(F)c1\n",
       "1   O=C1CC(CO)(c2ccccc2)CN1  O=C1CC(CO)(c2ccccc2)CN1\n",
       "2            C1COC2CCNCC2C1           C1COC2CCNCC2C1\n",
       "3        CC1(C)CCCCC1C(=O)O       CC1(C)CCCCC1C(=O)O\n",
       "4        Nc1cc(C(F)(F)F)no1       Nc1cc(C(F)(F)F)no1\n",
       "5        COC1(C)CC(N)C1(C)C       COC1(C)CC(N)C1(C)C\n",
       "6          Cn1nc(C2CC2)cc1N         Cn1nc(C2CC2)cc1N\n",
       "7        O=C(O)c1cnoc1C1CC1       O=C(O)c1cnoc1C1CC1\n",
       "8   O=C(O)CN1CCc2ccccc2C1=O  O=C(O)CN1CCc2ccccc2C1=O\n",
       "9   Cn1ncc2cc(CC(=O)O)ccc21  Cn1ncc2cc(CC(=O)O)ccc21\n",
       "10           CCC(N)C1CCOCC1           CCC(N)C1CCOCC1\n",
       "11       NC(=O)c1cccc(CO)c1       NC(=O)c1cccc(CO)c1\n",
       "12   Cc1nn(C)c(C)c1C1COCCN1   Cc1nn(C)c(C)c1C1COCCN1\n",
       "13    Fc1ccc(C2CNCCO2)cc1Cl    Fc1ccc(C2CNCCO2)cc1Cl\n",
       "14       Nc1nc(C(F)(F)F)ns1       Nc1nc(C(F)(F)F)ns1\n",
       "15  OCc1nc(-c2ccc(F)cc2)no1  OCc1nc(-c2ccc(F)cc2)no1"
      ]
     },
     "execution_count": 50,
     "metadata": {},
     "output_type": "execute_result"
    }
   ],
   "source": [
    "pred_smiles = tokens_to_smiles(pred_tokens,dictionary )\n",
    "true_smiles = tokens_to_smiles(ex_out.detach().numpy(), dictionary)\n",
    "pd.DataFrame({\"true\":true_smiles, \"pred\": pred_smiles })"
   ]
  },
  {
   "cell_type": "markdown",
   "id": "19630902",
   "metadata": {},
   "source": [
    "Tatsächlich sind die meisten SMILES identisch zu dem originalen. Aber es gibt auch abweichende Smiles. Der Smiles mit dem Index 8 ist nicht identisch und ist noch nicht einmal ein valider Smiles."
   ]
  },
  {
   "cell_type": "markdown",
   "id": "3f48da8a",
   "metadata": {},
   "source": [
    "# Neue Molkeüle generieren\n",
    "\n",
    "Wir haben einen Decoder der aus unseren Hidden States bzw. Latent Vector valide Moleküle generieren kann. Bis jetzt erhalten wir die latent Vectors in dem wir bekannte SMILES durch den Encoder schicken. Was hält uns aber davon ab, zufällige Latent Vectoren zu generieren und zu gucken, was der Decoder daraus macht? Unsere Hidden States/Latent Vectors haben diese Größe:"
   ]
  },
  {
   "cell_type": "code",
   "execution_count": null,
   "id": "4b06875a",
   "metadata": {},
   "outputs": [],
   "source": [
    "latent_vectors =  model.encoder(ex_in.t()).detach().numpy()\n",
    "latent_vectors.shape"
   ]
  },
  {
   "cell_type": "markdown",
   "id": "d3e13f03",
   "metadata": {},
   "source": [
    "Wir können einfach einen alternativen Latent Vector Tensor erstellen. Diesen füllen wir mit zufälligen Zahlen."
   ]
  },
  {
   "cell_type": "code",
   "execution_count": null,
   "id": "e4d3c29f",
   "metadata": {},
   "outputs": [],
   "source": [
    "torch.manual_seed(5489786)\n",
    "hidden = torch.randn(1,16,256)"
   ]
  },
  {
   "cell_type": "markdown",
   "id": "a8ab24ca",
   "metadata": {},
   "source": [
    "Diesen benutzen wir an Stelle der ursprünglichen latenten Vectoren, als Input für den Decoder.\n",
    "Dieser sollte jetzt probieren aus diesen zufälligen Daten neue Smiles zu generieren. Da der Hidden State zufällig gewählt worden ist, sollten es Moleküle sein, die bis jetzt noch nicht in unsrem Datensatz sind. So könnte De-novo Design funktionieren."
   ]
  },
  {
   "cell_type": "code",
   "execution_count": 49,
   "id": "a0563cfd",
   "metadata": {},
   "outputs": [
    {
     "ename": "NameError",
     "evalue": "name 'hidden' is not defined",
     "output_type": "error",
     "traceback": [
      "\u001b[1;31m---------------------------------------------------------------------------\u001b[0m",
      "\u001b[1;31mNameError\u001b[0m                                 Traceback (most recent call last)",
      "\u001b[1;32m~\\AppData\\Local\\Temp/ipykernel_240/4020308788.py\u001b[0m in \u001b[0;36m<module>\u001b[1;34m\u001b[0m\n\u001b[0;32m      2\u001b[0m \u001b[0minput_\u001b[0m \u001b[1;33m=\u001b[0m \u001b[0mex_out\u001b[0m\u001b[1;33m.\u001b[0m\u001b[0mt\u001b[0m\u001b[1;33m(\u001b[0m\u001b[1;33m)\u001b[0m\u001b[1;33m[\u001b[0m\u001b[1;36m0\u001b[0m\u001b[1;33m,\u001b[0m\u001b[1;33m:\u001b[0m\u001b[1;33m]\u001b[0m \u001b[1;31m#<- [\"<sos>\"] Tokens\u001b[0m\u001b[1;33m\u001b[0m\u001b[1;33m\u001b[0m\u001b[0m\n\u001b[0;32m      3\u001b[0m \u001b[1;32mfor\u001b[0m \u001b[0mt\u001b[0m \u001b[1;32min\u001b[0m \u001b[0mrange\u001b[0m\u001b[1;33m(\u001b[0m\u001b[1;36m1\u001b[0m\u001b[1;33m,\u001b[0m \u001b[1;36m26\u001b[0m\u001b[1;33m)\u001b[0m\u001b[1;33m:\u001b[0m\u001b[1;33m\u001b[0m\u001b[1;33m\u001b[0m\u001b[0m\n\u001b[1;32m----> 4\u001b[1;33m     \u001b[0moutput\u001b[0m\u001b[1;33m,\u001b[0m \u001b[0mhidden\u001b[0m \u001b[1;33m=\u001b[0m \u001b[0mmodel\u001b[0m\u001b[1;33m.\u001b[0m\u001b[0mdecoder\u001b[0m\u001b[1;33m(\u001b[0m\u001b[0minput_\u001b[0m\u001b[1;33m,\u001b[0m \u001b[0mhidden\u001b[0m\u001b[1;33m)\u001b[0m\u001b[1;33m\u001b[0m\u001b[1;33m\u001b[0m\u001b[0m\n\u001b[0m\u001b[0;32m      5\u001b[0m     \u001b[0moutputs\u001b[0m\u001b[1;33m[\u001b[0m\u001b[0mt\u001b[0m\u001b[1;33m]\u001b[0m \u001b[1;33m=\u001b[0m \u001b[0moutput\u001b[0m\u001b[1;33m\u001b[0m\u001b[1;33m\u001b[0m\u001b[0m\n\u001b[0;32m      6\u001b[0m     \u001b[0minput_\u001b[0m \u001b[1;33m=\u001b[0m \u001b[0moutput\u001b[0m\u001b[1;33m.\u001b[0m\u001b[0margmax\u001b[0m\u001b[1;33m(\u001b[0m\u001b[1;36m1\u001b[0m\u001b[1;33m)\u001b[0m\u001b[1;33m\u001b[0m\u001b[1;33m\u001b[0m\u001b[0m\n",
      "\u001b[1;31mNameError\u001b[0m: name 'hidden' is not defined"
     ]
    }
   ],
   "source": [
    "outputs = torch.zeros(26, 16, len(dictionary))\n",
    "input_ = ex_out.t()[0,:] #<- [\"<sos>\"] Tokens\n",
    "for t in range(1, 26):\n",
    "    output, hidden = model.decoder(input_, hidden)\n",
    "    outputs[t] = output\n",
    "    input_ = output.argmax(1) \n",
    "\n"
   ]
  },
  {
   "cell_type": "code",
   "execution_count": null,
   "id": "2ce9de3a",
   "metadata": {
    "scrolled": true
   },
   "outputs": [],
   "source": [
    "pred_tokens = outputs.argmax(2).t().detach().numpy()\n",
    "new_smiles = tokens_to_smiles(pred_tokens, dictionary)\n",
    "new_smiles"
   ]
  },
  {
   "cell_type": "markdown",
   "id": "62f51e52",
   "metadata": {},
   "source": [
    "Tatsächlich ist keines diese Moleküle in unsrem Datensatz, weil es als keine validen Moleküle sind. Außer `\"Cl\"`.\n",
    "Das Problem ist vor allem, dass der Latent Space, also der Raum der insgesamt von unserem Laten Vectoren beschrieben werden kann, viel zu groß ist. Es wird sehr schwierig sein durch Zufall Zahlen zu finden, die ein valides Moleküle erzeugen.\n",
    "\n",
    "Um wirklich effektiv Moleküle durch Autoencoder zu generieren, brauchen wir deutlich mehr Daten. So kann die Grammatik von Smiles besser gelernt werden. Zweitens werden meisten sogenannte Variational Autoencoder (VAE) benutzt. Diese \"zwingen\" die latent Vectoren in fest definierte Größe. Wählt man dann zufällige Zahlen, die den selben definierten Größen entsprechen ist die Wahrscheinlichkeit höher, dass es ein valides Molekül ist."
   ]
  },
  {
   "cell_type": "markdown",
   "id": "a62529bf",
   "metadata": {},
   "source": [
    "# Übungsaufgabe\n",
    "\n",
    "In der heutigen Übungsaufgabe soll es nicht, um Autoencoder gehen. Sondern die Aufgabe besteht darin ein `nn.Sequential` Model in einer funktionieren PyTorch Klasse umzuschreiben.\n",
    "\n",
    "Das Model sieht wie folgt aus:"
   ]
  },
  {
   "cell_type": "code",
   "execution_count": null,
   "id": "71ecb93f",
   "metadata": {},
   "outputs": [],
   "source": [
    "from rdkit.Chem.Draw import MolsToGridImage\n",
    "from rdkit.Chem import AllChem as Chem\n",
    "from rdkit import DataStructs\n",
    "from rdkit import RDLogger  \n",
    "import pandas as pd\n",
    "import numpy as np\n",
    "import torch\n",
    "from torch import nn, optim\n",
    "from torch.utils.data import DataLoader, TensorDataset\n",
    "import seaborn as sns\n",
    "from matplotlib import pyplot as plt\n",
    "from sklearn.metrics.pairwise import cosine_similarity\n",
    "RDLogger.DisableLog('rdApp.*')      \n",
    "%run ../utils/utils.py"
   ]
  },
  {
   "cell_type": "code",
   "execution_count": null,
   "id": "2da6f7ce",
   "metadata": {
    "scrolled": false
   },
   "outputs": [],
   "source": [
    "model_1 =nn.Sequential(nn.Linear(20,100),\n",
    "              nn.BatchNorm1d(100),\n",
    "              nn.ReLU(),\n",
    "              nn.Dropout(0.2),\n",
    "              nn.Linear(100,100),\n",
    "              nn.BatchNorm1d(100),\n",
    "              nn.ReLU(),\n",
    "              nn.Linear(100,10))\n",
    "model_1"
   ]
  },
  {
   "cell_type": "markdown",
   "id": "a90d5884",
   "metadata": {},
   "source": [
    "Schreiben Sie das Model um. Beachten Sie, dass `nn.ReLU` nicht im `forward` funktioniert. Hier bitte `nn.functional.relu()` verwenden. Auch ist wichtig zu wissen, dass `__init__` so viele Input-Parameter haben kann wie es mag, sie können zum Beispiel\n",
    "`__init__(self, input_dim, hid1_dim, hid2_dim, ________)` nutzen um mehrere hidden Layers zu initialisieren."
   ]
  },
  {
   "cell_type": "code",
   "execution_count": null,
   "id": "7eb4da2a",
   "metadata": {
    "scrolled": true
   },
   "outputs": [],
   "source": [
    "class simple_nn(________):\n",
    "    def __init__(self, ___________________________________________):\n",
    "        super().__init__()\n",
    "        \n",
    "    def forward()    "
   ]
  },
  {
   "cell_type": "code",
   "execution_count": null,
   "id": "e040e746",
   "metadata": {},
   "outputs": [],
   "source": [
    "model_2 = simple_nn(______________________________)"
   ]
  },
  {
   "cell_type": "markdown",
   "id": "a9f7c204",
   "metadata": {},
   "source": [
    "Testen Sie, ob ihr Model einen Output generiert."
   ]
  },
  {
   "cell_type": "code",
   "execution_count": null,
   "id": "c0f2a1fc",
   "metadata": {},
   "outputs": [],
   "source": [
    "torch.manual_seed(213)\n",
    "test_data = torch.randn(100,20)\n",
    "\n",
    "model_2(test_data)"
   ]
  },
  {
   "cell_type": "code",
   "execution_count": 67,
   "id": "25431735",
   "metadata": {},
   "outputs": [
    {
     "data": {
      "text/plain": [
       "Parameter containing:\n",
       "tensor([[-0.0017,  0.0047, -0.0943,  ..., -0.0015,  0.1445,  0.0726],\n",
       "        [ 0.0554, -0.0345,  0.0723,  ...,  0.1585, -0.1020, -0.2304],\n",
       "        [-0.0315,  0.0801, -0.1113,  ...,  0.0286,  0.1154,  0.0828],\n",
       "        ...,\n",
       "        [-0.1368, -0.0905, -0.1314,  ...,  0.0128,  0.2685,  0.2772],\n",
       "        [-0.2954, -0.1718, -0.6418,  ...,  0.0906, -0.2300, -0.0100],\n",
       "        [ 0.3816, -0.1713, -0.4720,  ..., -0.0253,  0.0178,  1.4657]],\n",
       "       requires_grad=True)"
      ]
     },
     "execution_count": 67,
     "metadata": {},
     "output_type": "execute_result"
    }
   ],
   "source": [
    "list(model.parameters())[10]"
   ]
  }
 ],
 "metadata": {
  "kernelspec": {
   "display_name": "Python 3 (ipykernel)",
   "language": "python",
   "name": "python3"
  },
  "language_info": {
   "codemirror_mode": {
    "name": "ipython",
    "version": 3
   },
   "file_extension": ".py",
   "mimetype": "text/x-python",
   "name": "python",
   "nbconvert_exporter": "python",
   "pygments_lexer": "ipython3",
   "version": "3.8.12"
  }
 },
 "nbformat": 4,
 "nbformat_minor": 5
}
