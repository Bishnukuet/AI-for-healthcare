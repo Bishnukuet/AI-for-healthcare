{
 "cells": [
  {
   "cell_type": "markdown",
   "id": "978f8a26",
   "metadata": {},
   "source": [
    "# Autoencoders\n",
    "\n",
    "#### Ich habe mein Bestes getan, um die Trainingszeit zu minimieren. Ich hatte ein bereits trainiertes Modell gespeichert. Allerdings spielt der Server nicht mit. Deswegen am besten beim Training einfach eine Stunde lang etwas anderes machen. Man muss nicht 100 Epochen trainieren, sondern kann das Training über Kernel > Interrupt Kernel vorzeitig beenden.\n",
    "---\n",
    "**Lernziele**\n",
    "- Sie verstehen das Konzept eines Autoencoders\n",
    "- Sie verstehen, wie ein RNN Smiles erzeugen kann\n",
    "- Sie können ein Netzwerk auch als PyTorch-Class definieren\n",
    "- Du verstehst die Bedeutung der `<sos>`/`<eos>`-Tokens \n",
    "---\n",
    "\n",
    "Im heutigen Notebook beschäftigen wir uns mit den sogenannten **Autoencodern**.\n",
    "Autoencoder werden meist durch selfsupervised Training trainiert.\n",
    "Zur Erinnerung: selfsupervised Training bezieht sich auf das Training von neuronalen Netzen, bei denen Input und Output identisch sind. Das Ziel besteht also darin, die Input wiederherzustellen. \n",
    "\n",
    "Aber was ist der Mehrwert eines Netzes, das nur den Input wiederherstellt?\n",
    "In der Tat sind wir nicht unbedingt an dem Output eines Autoencoders interessiert. Uns interessiert vielmehr, was in der Mitte des Netzes passiert. \n",
    "Das liegt daran, dass das eigentliche Ziel von Autoencodern darin besteht, die Daten zu komprimieren, d. h. sie so effektiv wie möglich darzustellen.\n",
    "\n",
    "Das Beispielbild zeigt einen Autoencoder für Bilder:\n",
    "\n",
    "\n",
    "\n",
    "<img src=\"https://d3i71xaburhd42.cloudfront.net/b1786e74e233ac21f503f59d03f6af19a3699024/2-Figure1-1.png\" >\n",
    "\n",
    "*Yifei Zhang - A Better Autoencoder for Image: Convolutional Autoencoder * **2018**\n",
    "\n",
    "\n",
    "Ein Autoencoder besteht aus zwei Netzwerken, einem **Encoder** und einem **Decoder**. Die Output des Encoders wird als Input für den Decoder verwendet. Der Encoder soll lernen, die Daten so effektiv wie möglich in einem niedrigdimensionalen Raum (latenter Space) zu repräsentieren. Diese Darstellung ist in der Regel einfach ein Vektor, der auch als **latenter Vektor** bezeichnet wird. Der Decoder wird darauf trainiert, den ursprünglichen Input anhand dieses latenten Vektors wiederherzustellen. \n",
    "\n",
    "Wir können selbst bestimmen, wie groß der latente Vektor sein soll. Meistens wird eine besonders kleine Größe gewählt, um eine größere Kompression zu gewährleisten.\n",
    "Nach erfolgreichem Training sollte der *latente Vektor* trotz seiner geringen Größe genügend Informationen enthalten, um das Bild wieder vollständig auszugeben. Das bedeutet, dass dieser Vektor ausreichend informativ ist, um das komplette Bild zu beschreiben. Tatsächliche Anwendungen gehen über die einfache Rekonstruktion hinaus.\n",
    "\n",
    "Zum Beispiel werden Autoencoder eingesetzt, um die Qualität von Bildern zu verbessern. Dazu werden niedrig aufgelöste Bilder als Input verwendet, und der Output ist das gleiche Bild in seiner regulären (höheren) Auflösung. Auf diese Weise werden Netzwerke trainiert, die später niedrig aufgelöste Bilder schärfen können. \n",
    "\n",
    "\n",
    "<img src=\"https://assets-global.website-files.com/5d7b77b063a9066d83e1209c/60bcd0b7b750bae1a953d61d_autoencoder.png\" width =\"400px\">\n",
    "\n",
    "*Hmrishav Bandyopadhyay - An Introduction to Autoencoders: Everything You Need to Know* **2021**\n",
    "\n",
    "Autoencoder gibt es nicht nur für Bilder, sondern auch für Text. RNNs werden für diesen Zweck verwendet. \n",
    "Im letzten Notebooks haben wir bereits besprochen, dass der letzte Hidden State eines RNNs eine Zusammenfassung der gesamten Inputsequenz ist. Im Beispiel der Hidden State $O_5$\n",
    "\n",
    "\n",
    "<img src=\"https://miro.medium.com/max/724/1*1U8H9EZiDqfylJU7Im23Ag.gif\">\n",
    "\n",
    "*Michael Phi - An illustrated Guide to Recurrent Neural Networks*\n",
    "\n",
    "\n",
    "Der Output $O_5$ kann bereits als eine Projektion des gesamten Satz in den laten Space verstanden werden. Der Hidden State $O5$ ist also der latente Vektor, der unsere Sequenz beschreibt. Dementsprechend ist das Netzwerk, das diesen Vektor erzeugt hat, auch unser Encoder. Für unseren Autoencoder fehlt also nur noch der Decoder, der aus dem latenten Vektor den ursprünglichen Satz wiederherstellen kann. Wie das genau funktioniert, werden wir anhand eines Beispiels mit Smiles diskutieren."
   ]
  },
  {
   "cell_type": "code",
   "execution_count": 14,
   "id": "04ca11da",
   "metadata": {},
   "outputs": [],
   "source": [
    "import pandas as pd\n",
    "import numpy as np\n",
    "np.random.seed(1234)\n",
    "import torch\n",
    "from torch import nn, optim\n",
    "from torch.utils.data import DataLoader, TensorDataset\n",
    "import seaborn as sns\n",
    "from matplotlib import pyplot as plt\n",
    "from sklearn.metrics.pairwise import cosine_similarity\n",
    "import sys\n",
    "from os.path import exists, isdir\n",
    "import os \n",
    "if 'google.colab' in sys.modules:\n",
    "    !pip install rdkit==2022.3.4\n",
    "    if exists(\"utils.py\") == False:\n",
    "        !wget https://raw.githubusercontent.com/kochgroup/intro_pharma_ai/main/utils/utils.py\n",
    "    if exists(\"load_fragments.ipynb\") == False:\n",
    "        !wget https://raw.githubusercontent.com/kochgroup/intro_pharma_ai/main/utils/load_fragments.ipynb\n",
    "    %run utils.py\n",
    "    %run ../utils/load_fragments.ipynb\n",
    "else:\n",
    "    %run ../utils/utils.py\n",
    "    %run ../utils/load_fragments.ipynb\n",
    "from rdkit.Chem.Draw import MolsToGridImage\n",
    "from rdkit.Chem import AllChem as Chem\n",
    "from rdkit import DataStructs\n",
    "from rdkit import RDLogger \n",
    "RDLogger.DisableLog('rdApp.*')  "
   ]
  },
  {
   "cell_type": "markdown",
   "id": "bbd2d9e1",
   "metadata": {},
   "source": [
    "Diese Woche benutzen wir einen Datensatz der sich aus einem kleinen Teil der, von der Reymond Gruppe entwickelten, GDB 11 besteht. Nur besonders kleine Moleküle werden hier verwedent. Für uns ist das besonders wichtig, da die Moleküle nicht zu groß werden dürfen. Es ist grundsätzlich schwierig, aus einem latenten Vektor einen gültigen Smiles String zu erzeugen. Je länger die Smiles Strings werden, desto komplexer wird die Aufgabe für das Netzwerk.\n",
    "\n",
    "Diese Woche liegen die Moleküle auch in einem anderen Dateiformat vor. Im Format `.sdf` werden die Moleküle mit mehr Details gespeichert. Zum Beispiel können hier auch Informationen über die Konformation gespeichert werden. \n",
    "\n",
    "---\n",
    "Fink, T., & Reymond, J. L.. Virtual exploration of the chemical universe up to 11 atoms of C, N, O, F: assembly of 26.4 million structures (110.9 million stereoisomers) and analysis for new ring systems, stereochemistry, physicochemical properties, compound classes, and drug discovery. J. Chem. Inf. Model. **2007** 47(2), 342-353.\n",
    "\n",
    "---\n",
    "\n",
    "```\n",
    "\n",
    "  Mrv0541 07182119162D          \n",
    "\n",
    " 12 12  0  0  0  0            999 V2000\n",
    "    0.7145    2.0625    0.0000 C   0  0  0  0  0  0  0  0  0  0  0  0\n",
    "    0.7145    1.2375    0.0000 C   0  0  0  0  0  0  0  0  0  0  0  0\n",
    "    1.4289    0.8250    0.0000 C   0  0  0  0  0  0  0  0  0  0  0  0\n",
    "    1.4289   -0.0000    0.0000 C   0  0  0  0  0  0  0  0  0  0  0  0\n",
    "    2.1434   -0.4125    0.0000 F   0  0  0  0  0  0  0  0  0  0  0  0\n",
    "    0.7145   -0.4125    0.0000 C   0  0  0  0  0  0  0  0  0  0  0  0\n",
    "    0.7145   -1.2375    0.0000 C   0  0  0  0  0  0  0  0  0  0  0  0\n",
    "    1.4289   -1.6500    0.0000 O   0  0  0  0  0  0  0  0  0  0  0  0\n",
    "   -0.0000   -1.6500    0.0000 O   0  0  0  0  0  0  0  0  0  0  0  0\n",
    "    0.0000    0.0000    0.0000 C   0  0  0  0  0  0  0  0  0  0  0  0\n",
    "   -0.7145   -0.4125    0.0000 F   0  0  0  0  0  0  0  0  0  0  0  0\n",
    "    0.0000    0.8250    0.0000 C   0  0  0  0  0  0  0  0  0  0  0  0\n",
    "  1  2  1  0  0  0  0\n",
    "  2  3  4  0  0  0  0\n",
    "  3  4  4  0  0  0  0\n",
    "  4  5  1  0  0  0  0\n",
    "  4  6  4  0  0  0  0\n",
    "  6  7  1  0  0  0  0\n",
    "  7  8  2  0  0  0  0\n",
    "  7  9  1  0  0  0  0\n",
    "  6 10  4  0  0  0  0\n",
    " 10 11  1  0  0  0  0\n",
    " 10 12  4  0  0  0  0\n",
    "  2 12  4  0  0  0  0\n",
    "M  END\n",
    ">  <Catalog ID>\n",
    "Z1255462241\n",
    "\n",
    ">  <PlateID>\n",
    "1225133-R3-01\n",
    "\n",
    ">  <Well>\n",
    "A02\n",
    "\n",
    ">  <MW (desalted)>\n",
    "172.129\n",
    "\n",
    ">  <CLogP>\n",
    "2.082\n",
    "\n",
    ">  <HBD>\n",
    "1\n",
    "\n",
    ">  <TPSA>\n",
    "37.300\n",
    "\n",
    ">  <RotBonds>\n",
    "1\n",
    "\n",
    "```\n",
    "Sie sehen auch zusätzliche Informationen wie TPSA oder LogP können gleich mit gespeichert werden.\n",
    "\n",
    "Um so eine `.sdf` Datei in Python einzulesen, brauchen wir einen sogenannten `MolSupplier` von `rdkit`. Ein Supplier stellt die Verbindung zwischen unsere Datein und Python her. Mit einem `for-loop` können dann die einzelnen Smiles aus dem SDF-File gelesen werden."
   ]
  },
  {
   "cell_type": "code",
   "execution_count": 15,
   "id": "d5bb138f",
   "metadata": {},
   "outputs": [],
   "source": [
    "suppl = Chem.SDMolSupplier(\"../data/high_fidelity/fragments.sdf\")"
   ]
  },
  {
   "cell_type": "code",
   "execution_count": 16,
   "id": "ec71ed05",
   "metadata": {},
   "outputs": [
    {
     "data": {
      "text/plain": [
       "['CCCCCCC(=O)OCCC',\n",
       " 'CC(C)=CCCC(C)C1CCC(C)CC1',\n",
       " 'CCCCC(C)CC',\n",
       " 'O=C([O-])C=Cc1ccc(O)cc1',\n",
       " 'O=C1CCCCCCCCCCCCCCO1',\n",
       " 'Oc1ccccc1-c1ccccc1',\n",
       " 'CSCCCO',\n",
       " 'CC1=CC(=O)C2CC1C2(C)C',\n",
       " 'CCCCCCOC=O',\n",
       " 'C=CCCCCCCCCCCCCC']"
      ]
     },
     "execution_count": 16,
     "metadata": {},
     "output_type": "execute_result"
    }
   ],
   "source": [
    "smiles = []\n",
    "for mol in suppl:\n",
    "    smiles.append(Chem.MolToSmiles(mol)) \n",
    "smiles[:10]"
   ]
  },
  {
   "cell_type": "markdown",
   "id": "cfdbfa9c",
   "metadata": {},
   "source": [
    "Wie Sie sehen, ist dies eine weitere Möglichkeit, aus den `.sdf`-Dateien Smiles zu erzeugen.\n",
    "\n",
    "Außerdem können wir die Strukturen einmal anzeigen, um ein besseres Gefühl für die Art der Fragmente zu bekommen."
   ]
  },
  {
   "cell_type": "code",
   "execution_count": 17,
   "id": "2b1984e9",
   "metadata": {
    "scrolled": true
   },
   "outputs": [
    {
     "data": {
      "image/png": "[encoded data removed]",
      "text/plain": [
       "<IPython.core.display.Image object>"
      ]
     },
     "execution_count": 17,
     "metadata": {},
     "output_type": "execute_result"
    }
   ],
   "source": [
    "MolsToGridImage([Chem.MolFromSmiles(x)for x in smiles[:9]])"
   ]
  },
  {
   "cell_type": "code",
   "execution_count": 18,
   "id": "dddb44b9",
   "metadata": {
    "scrolled": true
   },
   "outputs": [
    {
     "data": {
      "text/plain": [
       "1675"
      ]
     },
     "execution_count": 18,
     "metadata": {},
     "output_type": "execute_result"
    }
   ],
   "source": [
    "len(smiles)"
   ]
  },
  {
   "cell_type": "markdown",
   "id": "5619c39e",
   "metadata": {},
   "source": [
    "Insgesamt haben wir 1675 Moleküle im Datensatz."
   ]
  },
  {
   "cell_type": "markdown",
   "id": "73af29b3",
   "metadata": {},
   "source": [
    "Wenn Sie sich die Smiles genau ansehen, fällt Ihnen dann etwas auf?"
   ]
  },
  {
   "cell_type": "code",
   "execution_count": 19,
   "id": "b46d9c74",
   "metadata": {},
   "outputs": [
    {
     "data": {
      "text/plain": [
       "['CCCCCCC(=O)OCCC',\n",
       " 'CC(C)=CCCC(C)C1CCC(C)CC1',\n",
       " 'CCCCC(C)CC',\n",
       " 'O=C([O-])C=Cc1ccc(O)cc1',\n",
       " 'O=C1CCCCCCCCCCCCCCO1',\n",
       " 'Oc1ccccc1-c1ccccc1',\n",
       " 'CSCCCO',\n",
       " 'CC1=CC(=O)C2CC1C2(C)C',\n",
       " 'CCCCCCOC=O',\n",
       " 'C=CCCCCCCCCCCCCC',\n",
       " 'CCC(=O)[O-]',\n",
       " 'C=CC=CC=CCCCCC',\n",
       " 'C=CCCCCCCCCC=O',\n",
       " 'CC1=C(C=O)C(C)(C)CC=C1',\n",
       " 'CCC=O',\n",
       " 'Cc1ccc2c(c1)C(C(C)C)CCC2C',\n",
       " 'CC(C)CC(=O)OC1CCCCC1',\n",
       " 'CC(=O)C=CC12OC1(C)CC(O)CC2(C)C',\n",
       " 'CCC(=O)CC',\n",
       " 'COc1ccc2ccccc2c1',\n",
       " 'CCCCCCCCC1=CCC(=O)O1',\n",
       " 'C=CC(C)(CCC=C(C)C)OC(=O)CC',\n",
       " 'CC(C)C12C=CC(C)(O)C1C2',\n",
       " 'COC(=O)CSC',\n",
       " 'CCC=CCCO',\n",
       " 'CCCCCCCCCCCCCC(=O)[O-]',\n",
       " 'C=C1CCC2CC1C2(C)C',\n",
       " 'CCC(C=O)CC',\n",
       " 'CC(C)=CCCC(C)=CCCc1ccoc1',\n",
       " 'CC(C)CC(=O)OCCc1ccccc1',\n",
       " 'CC(C)=C1CCC(C)CC1=O',\n",
       " 'CCCCC(=O)OCC=C(C)CCC=C(C)C',\n",
       " 'COc1cccc2c(N)c(C)cnc12',\n",
       " 'CC=CC=CC(=O)OCC',\n",
       " 'COc1c(C)o[c-](C)c1=O',\n",
       " 'CC=CC=CC(=O)OC',\n",
       " 'Cc1nc(-c2cc(C(=O)O)oc2C)cs1',\n",
       " 'C=CCc1cc(OC)c(O)c(OC)c1',\n",
       " 'CC(C)CCOC(=O)CC(C)C',\n",
       " 'O=C1CCCO1',\n",
       " 'Nc1ccc(N2CCCCC2)cn1',\n",
       " 'C=CCc1ccc(O)c(OC)c1',\n",
       " 'CC1CCCC(=O)C1',\n",
       " 'CC1CCC2C1C1C(CCC2(C)O)C1(C)C',\n",
       " 'CCC(=O)OC1CC2CCC1(C)C2(C)C',\n",
       " 'CC=CC(=O)CCCCCC',\n",
       " 'CCCCCCCOC(=O)C(C)CC',\n",
       " 'CCCCCCCCCCCCC(=O)[O-]',\n",
       " 'CC(C)CCOC(=O)C(C)C',\n",
       " 'CSC',\n",
       " 'CC(C)C1=CCC(C)C2=C(C1)C(C)CC2',\n",
       " 'CCCC(C)OC(C)=O',\n",
       " 'OCc1cccnc1N1CCCC1',\n",
       " 'Cc1cc(C)n(CCN2CCOCC2)n1',\n",
       " 'CCCC(=O)OC(C)CCC',\n",
       " 'CCCCCC(=O)OCCCC',\n",
       " 'C/C1=C/CC(C)(C)/C=C\\\\CC2(C)OC2CC1',\n",
       " 'CCCCC(C)C',\n",
       " 'CCC(C)=O',\n",
       " 'CCCC(O)CC',\n",
       " 'CCNCC1COc2ccccc2O1.Cl',\n",
       " 'CCCCC(=O)OC1CC2CCC1(C)C2(C)C',\n",
       " 'CC(=O)c1ccc2ccccc2c1',\n",
       " 'C=CCCCC',\n",
       " 'CCCCCCCCCCCCCCC(=O)[O-]',\n",
       " 'CCC(C)CCCO',\n",
       " 'CC(C)=CCOC(=O)c1ccccc1',\n",
       " 'CC(C)c1ccc(O)cc1',\n",
       " 'CC(C)=C1C/C=C(/C)CC/C=C(/C)CC1',\n",
       " 'CCCCCCCCC(C)=O',\n",
       " 'CCCCCCCC(=O)OCCCCC',\n",
       " 'CC(C)c1nccc(O)n1',\n",
       " 'Cc1ccc(C=O)cc1',\n",
       " 'CCCC(CO)CCC',\n",
       " 'C=CC(C)=CC',\n",
       " 'CCCCCC(=O)OCc1ccccc1',\n",
       " 'C=CCC(C)C=O',\n",
       " 'CCC(C)C(O)C(=O)OC',\n",
       " 'CCOC(C)OCC',\n",
       " 'OCC1CCCO1',\n",
       " 'O=COC1CCCCC1',\n",
       " 'CC1=C(CCC(C)O)C(C)(C)CCC1',\n",
       " 'O=C(O)c1ccnc(C2CC2)c1',\n",
       " 'CCCCCC=CCO',\n",
       " 'CC1=CCC2C(C)=CCC(C(C)C)C2C1',\n",
       " 'CC(C)C=O',\n",
       " 'CC1C=CCC1',\n",
       " 'SCc1ccco1',\n",
       " 'CCCC(=O)CC',\n",
       " 'O=C(Cc1ccccc1)OCCc1ccccc1',\n",
       " 'CCCC(C)CC(C)O',\n",
       " 'C=C1CCC2C(C3C1CCC3(C)O)C2(C)C',\n",
       " 'Nc1ccn(CCc2ccncc2)n1',\n",
       " 'C=CC(C)=CCC=C(C)CCC=C(C)C',\n",
       " 'OCc1cccc(-c2ccccn2)c1',\n",
       " 'O=C1CCSC1',\n",
       " 'C=CC(CCCCC)OC(=O)CCC',\n",
       " 'CCCCCO',\n",
       " 'CCCCCC(=Cc1ccccc1)CO',\n",
       " 'CC=Cc1ccc(OCC)c(O)c1',\n",
       " 'CC1(C)C2CCC1(C)C(OC=O)C2',\n",
       " 'COc1ccccc1OC(C)=O',\n",
       " 'C=C(C)CCc1ccc(C)cc1',\n",
       " 'C=CCC(C)=O',\n",
       " 'CC1=C/C/C=C(/C)CC/C=C(/C)CCC(C(C)C)/C=C\\\\1',\n",
       " 'CCCCCOC(=O)CCC',\n",
       " 'CC1CCc2onc(C(=O)O)c2C1',\n",
       " 'C=CC1(C)CCC(C(C)C)=CC1C(=C)C',\n",
       " 'OCc1nc2ccc(F)cc2o1',\n",
       " 'COc1cccc(C2(O)CCC2)c1',\n",
       " 'C=C(C)C1CCC(C)(O)CC1',\n",
       " 'CC(=O)c1ccccc1',\n",
       " 'CCCCCCCC=CCCCCCCCC',\n",
       " 'Cc1ccc(C)c(C)c1',\n",
       " 'c1cc2c(c(C3CCCN3)c1)OCCO2',\n",
       " 'CCCCCCC1CCC(=O)O1',\n",
       " 'C=C1CCCC2(C)CCC(=C(C)C)CC12',\n",
       " 'c1ccccc1',\n",
       " 'CCCCCC1=C(C)CCC1=O',\n",
       " 'CC=C(C)C(=O)OCC',\n",
       " 'C=CCCCCCCCCCCCCCC',\n",
       " 'CCCCCCCCCCCCCC(=O)OCCC',\n",
       " 'CC1=CC2C(C(C)C)CCC(C)(O)C2CC1',\n",
       " 'O=C([O-])c1ccccc1CO',\n",
       " 'CC(C)OC(=O)Cc1ccccc1',\n",
       " 'CCOC(=O)CC(C)=O',\n",
       " 'CC(C)CC=C(C=O)c1ccccc1',\n",
       " 'CC1OCC(=O)C1O',\n",
       " 'CCOc1ccc(C2CCCN2)cc1',\n",
       " 'C=C(C)C1CCC(C)C(OC(C)=O)C1',\n",
       " 'NCc1ccc(-n2ccnc2)cc1',\n",
       " 'CCC(c1ccccc1)C1CNC(=O)C1',\n",
       " 'CCCCOC=O',\n",
       " 'CC(C)C1CCC2(C)OC2C1=O',\n",
       " 'Cc1ccccc1C=O',\n",
       " 'CCn1nc(C2CC2)cc1C(=O)O',\n",
       " 'CC=CC(=O)C1=C(C)C=CCC1(C)C',\n",
       " 'CC(C)c1cc(C(=O)O)on1',\n",
       " 'CC(C)COC(=O)C=Cc1ccccc1',\n",
       " 'CC(=O)OCC=C(C)CCC=C(C)CCC=C(C)C',\n",
       " 'CCCCCC1CC=CC(=O)O1',\n",
       " 'CCCOC(=O)CC',\n",
       " 'CCCCCC(=O)OCC(C)C',\n",
       " 'CC(C)C(=O)OCc1ccccc1',\n",
       " 'O=C(C=Cc1ccccc1)OCCc1ccccc1',\n",
       " 'CCCCCCCCCC(C)C=O',\n",
       " 'C=CC(=C)CCC(O)C(=C)C',\n",
       " 'C=CC1(C)CCC(OC(C)=O)C(C)(C)O1',\n",
       " 'CC(C)C1C=CC(=O)CC1',\n",
       " 'CC(C)C1CCC2=CC(=O)CC(C)C2(C)C1',\n",
       " 'CCC(C)CC(C)CCCC(C)C',\n",
       " 'CCCCCCCC(=O)OCCC(C)C',\n",
       " 'CCCCCCCCCCCCCCCCCCCCC',\n",
       " 'CCCCCCC(=O)[O-]',\n",
       " 'CCCCCC1C(=O)CCC1CC(=O)OC',\n",
       " 'C=C(C)C1CC=C(C)C(O)C1',\n",
       " 'CC(C=O)Cc1ccc(C(C)C)cc1',\n",
       " 'CCC(=O)OC(C)C',\n",
       " 'c1ccsc1',\n",
       " 'CCCCCCCC(=O)OCc1ccco1',\n",
       " 'CCCC(=O)OCCC(C)C',\n",
       " 'CCCCCCCCC1CCC(=O)O1',\n",
       " 'CCC=CC=O',\n",
       " 'CCC=CCC=CCCO',\n",
       " 'CCCC(=O)OCC',\n",
       " 'C=CC(C)=O',\n",
       " 'C=CC(C)(C)C=CC(C)(C)O',\n",
       " 'C=C1CCC2C3C(C(C)C)CCC2(C)C13',\n",
       " 'CCC(O)c1ccccc1',\n",
       " 'CCOC(C)OCCC(C)CCC=C(C)C',\n",
       " 'C=CC1(C)CCC(O)C(C)(C)O1',\n",
       " 'O=C(OCc1ccccc1)c1ccccc1O',\n",
       " 'C=CC(C)(CCC=C(C)C)OC(C)=O',\n",
       " 'C=CC1(C)CCC(=C(C)C)CC1C(=C)C',\n",
       " 'Cc1coc2c1CCC(C)C2',\n",
       " 'CCC(C)CCO',\n",
       " 'CCCC(=O)OCCC(C)CCC=C(C)C',\n",
       " 'CCn1ncc2c1CCCC2N',\n",
       " 'CC(=O)OCc1ccco1',\n",
       " 'CC1=CCCC(C)(C)C1C=CC(=O)C=O',\n",
       " 'C=CC(C)(O)CCC=C(C)C',\n",
       " 'CC(=O)c1ccco1',\n",
       " 'CC=C(C)COC(C)=O',\n",
       " 'CC(C)=CCCC(C)=CCO',\n",
       " 'CCCCCCC=CC=O',\n",
       " 'O=CCCCCC=C1CO1',\n",
       " 'C/C1=C/CC/C(C)=C\\\\CC(C)(C)/C=C\\\\C1',\n",
       " 'CCC=CCC=O',\n",
       " 'COC1CC2CCC1(C)C2(C)C',\n",
       " 'CCC(=O)OCc1ccco1',\n",
       " 'CCC(C)COC(=O)C(C)CC',\n",
       " 'CCC1=CCCC=C1',\n",
       " 'Fc1ccc(C2CCCCN2)nc1',\n",
       " 'CCCC(=O)OCCc1ccccc1',\n",
       " 'CC(C)COC(=O)C(C)C',\n",
       " 'CC1=CCC2C3C(C(C)C)CCC2(C)C13',\n",
       " 'CCCCCC(=O)OCCc1ccccc1',\n",
       " 'CCCCCCCCC(C)O',\n",
       " 'C[C@H](c1ccccc1)N1CCC(F)(CO)C1',\n",
       " 'C=CCc1ccc2c(c1)OCO2',\n",
       " 'C=CCCCCCCCCCCCC',\n",
       " 'COc1cc(C=O)ccc1O',\n",
       " 'C=CCc1ccc(OC)cc1',\n",
       " 'CCC(C)C(C)O',\n",
       " 'COCc1cc(=O)c2cc(F)ccc2[nH]1',\n",
       " 'CCC1CCC2(CCCO2)O1',\n",
       " 'CCCCC(O)CC',\n",
       " 'CC1(C)CC2C(C1)C1(C)CCCC2(C)C1O',\n",
       " 'O=Cc1ccccc1O',\n",
       " 'CCCCCC=CCC=CCCCCCCCC(=O)[O-]',\n",
       " 'C=C(C)C(CC=C(C)C)COC(C)=O',\n",
       " 'C=C1CCCC(C)(C)C12CC=C(C)CC2',\n",
       " 'CCCC(O)CC(=O)OC',\n",
       " 'CCCCCC(=O)OCC=C(C)C',\n",
       " 'O=c1ccc2ccccc2o1',\n",
       " 'CCCCCCCOC(=O)C(C)C',\n",
       " 'CC=C(C=O)c1ccccc1',\n",
       " 'O=C(O)Cc1ccc(F)c(Cl)c1',\n",
       " 'CCOC(=O)CCc1ccco1',\n",
       " 'CC1=CCC(=C(C)C)CC1',\n",
       " 'CCCCC=O',\n",
       " 'CC12CCCC(O)(C1)C1CC(C)(C)C1CC2',\n",
       " 'CC1=C2CCC(C)C2CC(C(C)(C)O)CC1',\n",
       " 'CC(C)=CCCC(C)CCOC(=O)C(C)C',\n",
       " 'CCCCCCCCC=CCCCCCCCC(=O)[O-]',\n",
       " 'O=C(OCCc1ccccc1)c1ccccc1',\n",
       " 'CCC(CC)C(=O)[O-]',\n",
       " 'O=C1CCCC1',\n",
       " 'O=C(O)C1CNc2ccc(F)cc2C1',\n",
       " 'CCCC(=O)OC1CC2CCC1(C)C2(C)C',\n",
       " 'CCCCCCCCCCCCCCCC(=O)OCCC',\n",
       " 'CCCCC1CCCCC(=O)O1',\n",
       " 'O=Cc1cccs1',\n",
       " 'O=CCCc1ccccc1',\n",
       " 'OC1CCCc2c[nH]nc21',\n",
       " 'CC(C)(C)C1C=CC(O)CC1',\n",
       " 'CC1CCCC2(C)CCCCC12O',\n",
       " 'Cc1cccnc1CCO',\n",
       " 'CC(=O)OC1(C)CCCC(C)(C)C12CCC(C)O2',\n",
       " 'C=CC(O)CC=CCC',\n",
       " 'CCCCCCCCC(=O)OC',\n",
       " 'Cc1occc(=O)c1O',\n",
       " 'CC(=O)CCc1ccc(OC(C)=O)cc1',\n",
       " 'CCC(=O)OCC=C(C)CCC=C(C)C',\n",
       " 'OCCCc1ccccc1',\n",
       " 'CCCCCC(O)CCCC',\n",
       " 'CCc1cccc(CC)c1',\n",
       " 'CCC(C)O',\n",
       " 'C/C1=C/CC/C(C)=C\\\\CCC(C)(C)/C=C\\\\C1',\n",
       " 'C=CC(C)(CCC=C(C)C)OC',\n",
       " 'CC(=O)Cc1ccccc1',\n",
       " 'C1=CC=CCC=C1',\n",
       " 'CCCC(=O)C(C)=O',\n",
       " 'CCC(=O)OC1CC2CCC1C2(C)C',\n",
       " 'CCC(C)CCC(C)CCCCC(C)C',\n",
       " 'CCCC(=O)C(O)CCC',\n",
       " 'NS(=O)(=O)c1ccc2c(c1)NCCC2',\n",
       " 'NCc1nccn1C(F)F',\n",
       " 'CC(=O)C(C)S',\n",
       " 'Cc1nn(C(C)C)cc1C(=O)O',\n",
       " 'C=CC1(C)CCC(C(C)(C)O)CC1C(=C)C',\n",
       " 'CC(C)OC1OCCC1=O',\n",
       " 'CCCCCC(C)C(=O)[O-]',\n",
       " 'COC(=O)c1ccc(O)cc1',\n",
       " 'C=CCOC(=O)C=Cc1ccccc1',\n",
       " 'COC(=O)C=C(C)CCC=C(C)C',\n",
       " 'CCCCCOC(=O)c1ccccc1',\n",
       " 'Cc1ccc(C=O)s1',\n",
       " 'CC=C(C)C(=O)OCC=C(C)CCC=C(C)C',\n",
       " 'C=C1CCC2C(=O)C2(C)CCC2C1CC2(C)C',\n",
       " 'Cc1ccc2c(c1O)C(C(C)C)CCC2C',\n",
       " 'COC(=O)c1cc(C)cc(C)c1',\n",
       " 'CC(C)=CCCC(C)C=O',\n",
       " 'CCc1nocc1C(=O)O',\n",
       " 'CSCCO',\n",
       " 'CC(CCO)CC(C)(C)C',\n",
       " 'CC1CCC(=O)C1=O',\n",
       " 'COc1ccc(CCC(C)=O)cc1',\n",
       " 'CCC1CCC(=O)O1',\n",
       " 'CC(=CC=O)CCC=C(C)CCCC(C)C',\n",
       " 'O=C([O-])c1ccc(O)cc1',\n",
       " 'CCCCCCCCCCCCCCO',\n",
       " 'NC(=O)C1CC(=O)N(c2ccccc2F)C1',\n",
       " 'CCCCCCOC(C)=O',\n",
       " 'CCCCCCCCCCCCCCCCCC(=O)OC',\n",
       " 'C=C(C)C1CCC2(C)OC2C1',\n",
       " 'CC(C)=CCCC(C)=CCOC=O',\n",
       " 'CCC=CC=CC=O',\n",
       " 'CC1CC(O)c2nccn21',\n",
       " 'C=CCc1cc(OC)c2c(c1)OCO2',\n",
       " 'CC(C)C12CCC(C)(O)C1C2',\n",
       " 'COC(=O)C=Cc1ccccc1',\n",
       " 'CCCC(=O)OCC(C)C',\n",
       " 'CC(C)n1cnc(S(N)(=O)=O)c1',\n",
       " 'CCCCCCC#CC(=O)OCC',\n",
       " 'CCC(C)C(=O)OC',\n",
       " 'CC(C)=CCCC(C)=CCCC(C)CCO',\n",
       " 'CC(=O)OC(C)(C)C1CC=C(C)CC1',\n",
       " 'C=CC(O)CCCC',\n",
       " 'CCCCCCCCCCCC(C)=O',\n",
       " 'C=CC=CCCOC(=O)CCC',\n",
       " 'C=CC(C)(C)C(=O)C=C(C)C',\n",
       " 'CCCCCCCC(=O)OCCCC',\n",
       " 'CCCCCCCOC(C)=O',\n",
       " 'CC1CCCCC1=O',\n",
       " 'CCCCCCCCCCCC(=O)OC',\n",
       " 'CCCCOC(=O)C(C)C',\n",
       " 'OCc1ccccc1',\n",
       " 'C=C(C)C(=O)OCCC(C)C',\n",
       " 'CC1=CC(=O)CC(C)(C)C1C=CC(C)O',\n",
       " 'CCCCCC=CCC1=CCC(=O)O1',\n",
       " 'O=C(O)c1cc2ccccc2o1',\n",
       " 'CCCCCCOC(=O)CCC',\n",
       " 'CCOc1ccc(C=O)cc1',\n",
       " 'CCCCCOC(=O)CCCC',\n",
       " 'Cc1ccccc1O',\n",
       " 'CCC(=O)c1ccccc1',\n",
       " 'OC(c1ccc(F)cc1)C1CCNCC1',\n",
       " 'CC(=O)CCC(C)C',\n",
       " 'CCCCCOC(=O)CCCCC',\n",
       " 'CC1=CC2C(C(C)C)CCC(C)C2(O)CC1',\n",
       " 'C=CC=CC=CCC',\n",
       " 'COC(=O)C=C(C)C',\n",
       " 'OC1CCc2ccc(F)cc21',\n",
       " 'CC(C)CCC(=O)[O-]',\n",
       " 'CN1CC(C(=O)O)CC1=O',\n",
       " 'CC(=O)C=C(C)C',\n",
       " 'CC1=CCC(C(C)C)c2cc(C)ccc21',\n",
       " 'CC(C)CC(=O)OCc1ccccc1',\n",
       " 'C=C1C(=O)CC2CC1C2(C)C',\n",
       " 'C=CC(C)=CCCC(C)(C)O',\n",
       " 'Cc1c([S-])coc1C=O',\n",
       " 'CCCCCCO',\n",
       " 'CC1=CC(=O)CC1',\n",
       " 'CCCCCCC=CCC(=O)OCC',\n",
       " 'CC(=O)c1cc(C)sc1C',\n",
       " 'CC1=CCC23C(C)CCC(C(C)C)C2C13',\n",
       " 'CC1CCC2C(C1)C(C(C)C)CCC2(C)O',\n",
       " 'Nc1ccc2nnc(C3CC3)n2c1',\n",
       " 'CC1=CC(=O)CC(C)(C)C1',\n",
       " 'CC=CCCCCCCCCCC',\n",
       " 'CCCCCCC(=O)OCc1ccccc1',\n",
       " 'CCCCCCCCCCCCCCCCCC(=O)[O-]',\n",
       " 'CCCCCCCC1CCCC(=O)O1',\n",
       " 'CCC=CCC(=O)OC',\n",
       " 'O=CCCCCCCC=C1CO1',\n",
       " 'C=CC1(C)CCC(C(C)CO)O1',\n",
       " 'CCCCCC=CCCCCCO',\n",
       " 'CC1=CCCC(C)(C)C(C2CC=CCCC2)C1',\n",
       " 'COC(=O)CCSC',\n",
       " 'CC(C)CCOC=O',\n",
       " 'C=C(C)CCO',\n",
       " 'C=C1CCC2C(C)=CCC(C(C)C)C2C1',\n",
       " 'CCCC(=O)OC(C)C(C)=O',\n",
       " 'c1nc(C2CCCNC2)n2c1CCCC2',\n",
       " 'O=C([O-])C=Cc1ccccc1',\n",
       " 'COc1cc(OC)cc(OC)c1',\n",
       " 'CC(=O)OC1C=C(C)C2CC(=C(C)C)CC2C(C)C1',\n",
       " 'CCCCCC(=O)C(C)C(C)=O',\n",
       " 'C=CCCCCCCCCC(=O)OC',\n",
       " 'Cc1ccoc1[O-]',\n",
       " 'CC(=O)c1cccs1',\n",
       " 'CCOC(=O)CCSC',\n",
       " 'CC(=O)C=CC1=C(C)CCCC1(C)C',\n",
       " 'Cc1ccoc1',\n",
       " 'CCCCOC(=O)Cc1ccccc1',\n",
       " 'CC(C)CC=C(C=O)C(C)C',\n",
       " 'CCCC(=O)OC(CC)c1ccccc1',\n",
       " 'C=CC1(C)CCC(C(=C)C)CC1C(=C)C',\n",
       " 'CCCCC=CO',\n",
       " 'CCCCC1OC(=O)CC1C',\n",
       " 'CC(=O)CC1=CCCCC1',\n",
       " 'C1CCCCCCCCCCCCC1',\n",
       " 'CCCC(C)C(=O)CC',\n",
       " 'CCOC(=O)CC(C)O',\n",
       " 'COc1ccc(COC(=O)Cc2ccccc2)cc1',\n",
       " 'CCC(C)(O)CCCC(C)C',\n",
       " 'Cc1nc(CN2C[C@@H](F)C[C@H]2CN)cs1',\n",
       " 'CCCCCc1cccc(=O)o1',\n",
       " 'COc1ccccc1C',\n",
       " 'CCCCCCCCCC(C)OC(C)=O',\n",
       " 'Cc1ccc(C)cc1',\n",
       " 'CC1=CC(=O)C2C3C1C2(C)CCCC3(C)C',\n",
       " 'CCCCCCCCCCCCCCCC(C)C',\n",
       " 'CCCc1ccc(O)cc1',\n",
       " 'CCCCCCCCCCCCCCCO',\n",
       " 'C=C(C)C1CCC(C)C=C1O',\n",
       " 'CC=Cc1ccc(O)c(OC)c1',\n",
       " 'NCC1CCCCN1CCO',\n",
       " 'O=c1[nH]nc(C2CC2)cc1C(F)(F)F',\n",
       " 'CCCCCC=CCCC(=O)[O-]',\n",
       " 'CCCCCCCCCCCCCCC(C)=O',\n",
       " 'CCOC(=O)C(C)C',\n",
       " 'CCC(N)c1ccc(F)cc1F',\n",
       " 'CCn1nccc1CCO',\n",
       " 'CSC(=O)c1ccco1',\n",
       " 'CC(=O)CC(O)C(C)C',\n",
       " 'CCCC=CO',\n",
       " 'CC(C)=CCC=C(C)CCO',\n",
       " 'CCCCC(=O)OCCC(C)CCC=C(C)C',\n",
       " 'CC(CO)c1ccccc1',\n",
       " 'Oc1ccnc(C2CC2)n1',\n",
       " 'C=CC(=C)CCC=C(C)CCC=C(C)C',\n",
       " 'CCCCCCCCCCC(=O)OC',\n",
       " 'CCCCCCOC(=O)CC(C)C',\n",
       " 'CC(=O)OCCC(C)C',\n",
       " 'CC(C)C(=O)OCC(C)c1ccccc1',\n",
       " 'O=CCc1ccccc1',\n",
       " 'CCCC=CC=CCCCCC(=O)[O-]',\n",
       " 'CC1SCCC1=O',\n",
       " 'Cn1c(C(=O)O)c2n(c1=O)CCCC2',\n",
       " 'CC(C)CC(=O)[O-]',\n",
       " 'CCCCC(C)=O',\n",
       " 'Cc1oc(C#N)cc1C(=O)O',\n",
       " 'CC1(C)C2CCC(CO)C1C2',\n",
       " 'CC(C)n1ncc(C(N)=O)c1N',\n",
       " 'CCCCCCCOC(=O)CCC',\n",
       " 'Cc1ccoc1CC1OC1(C)C',\n",
       " 'CCSC',\n",
       " 'NC(=O)Cc1c(F)cccc1F',\n",
       " 'Cc1ccc(C(C)C)cc1',\n",
       " 'NS(=O)(=O)C1CCC(C(F)(F)F)CC1',\n",
       " 'Nc1nnc(Cc2ccc(F)cc2)s1',\n",
       " 'CCCCCCCCCCCCCCOC(C)=O',\n",
       " 'CCCc1ccccc1O',\n",
       " 'Cc1ccc(C=O)c(C)c1',\n",
       " 'CC1=CCC(C(C)(C)S)CC1',\n",
       " 'CC(=O)C(=O)[O-]',\n",
       " 'O=C(Nc1nccs1)C1CCCNC1',\n",
       " 'Cc1sccc1CC(=O)O',\n",
       " 'Cc1ncc(CC(=O)O)s1',\n",
       " 'CCCCC(CC)CO',\n",
       " 'O=C1C=CCCC1',\n",
       " 'CCCCCCCC1CCC(=O)O1',\n",
       " 'CC(C)=CCCC(C)C1(O)CC=C(C)CC1',\n",
       " 'COCC(C)=O',\n",
       " 'C=C(C)C1CCC(C)CC1OC(C)=O',\n",
       " 'CC=CCCCO',\n",
       " 'CCC1OCCC1C(=O)O',\n",
       " 'CC12CCC(C1)C(C)(C)C2=O',\n",
       " 'C/C1=C/C2C(CC/C(C)=C\\\\CC1)C2(C)C',\n",
       " 'CC1=CC2C(=C(C)CCCC2(C)C)CC1',\n",
       " 'Cc1cc(C(C)(C)C)c(O)c(C(C)(C)C)c1',\n",
       " 'COc1ccc(C)cc1C',\n",
       " 'CCC1CCC1O',\n",
       " 'OCCC1CCCCC1',\n",
       " 'CCC=CCC=CCC=CCCO',\n",
       " 'C=CCC(CC)C(=O)CC',\n",
       " 'c1ccc(Cc2c[nH]cn2)cc1',\n",
       " 'CC=C(C)C(=O)OC(CC)CCCCC',\n",
       " 'CCC(=O)OCc1ccc(OC)cc1',\n",
       " 'Cc1nc2c(s1)CCCC2C(=O)O',\n",
       " 'C1CCSC1',\n",
       " 'CC(=O)C=Cc1c(C)ccc(C)c1C',\n",
       " 'CCc1ccc(C(C)=O)cc1',\n",
       " 'Cc1ccc(O)c(C)c1',\n",
       " 'CC(=O)CCCC(C)CCCC(C)CCCC(C)C',\n",
       " 'CCCC(=O)OCC1CCCO1',\n",
       " 'C=CC(C)CCCC(C)(C)O',\n",
       " 'CCCC(=O)OC(C)c1ccccc1',\n",
       " 'CC(C)=CC(=O)[O-]',\n",
       " 'C/C1=C/CCC2(C)OC2CC(C)(C)/C=C\\\\C1',\n",
       " 'O=C(O)Cc1cnccc1C(F)(F)F',\n",
       " 'CC(=O)OC(C)CCC=C(C)CCC=C(C)C',\n",
       " 'CC(=O)Oc1ccccc1',\n",
       " 'CCCCCCCCCC=CCO',\n",
       " 'CCCC=CC=CCCCO',\n",
       " 'CC(C)CC(=O)OCc1ccco1',\n",
       " 'OCc1ccco1',\n",
       " 'CC(=O)OCC1=CCC2CC1C2(C)C',\n",
       " 'O=CCCCCCCCCC=O',\n",
       " 'C=CC(C)=CC(O)C=C(C)C',\n",
       " 'CCC(C)C(=O)OC(C)C',\n",
       " 'Cc1o[c-](C)c(=O)c1O',\n",
       " 'CC1=C(C)C2CCC1C2',\n",
       " 'C=CCc1ccc(O)c(OC)c1',\n",
       " 'CC(=O)C=CC12OC1(C)CCCC2(C)C',\n",
       " 'CCCCCCCCCCCCCCCC=O',\n",
       " 'Cl.Cl.NCc1ccncc1C(F)(F)F',\n",
       " 'CC1=CCC2C(C1)C2(C)C',\n",
       " 'CCOC(C)=O',\n",
       " 'CC(C)(C)C(=O)[O-]',\n",
       " 'C=CCCCCCCCCCCCCCCC',\n",
       " 'CCCC(CCOC(C)=O)SC',\n",
       " 'CC=C(C)C(=O)OCC=CCCC',\n",
       " 'CC(C)CC(=O)OCCCc1ccccc1',\n",
       " 'CCCc1ccco1',\n",
       " 'CCOC(=O)c1ccccc1',\n",
       " 'COc1ccc2ccc(=O)oc2c1',\n",
       " 'C=C1CCC2(C(C)C)CC12',\n",
       " 'CCC1OC=C(CO)C1=O',\n",
       " 'CC(C)CCOC(=O)c1ccccc1',\n",
       " 'CC1CC(=O)C(=O)C1C',\n",
       " 'Cc1ccccc1C',\n",
       " 'CC=C(C)C(=O)OCCC',\n",
       " 'CCCCCCCCCCC=O',\n",
       " 'COc1cc(C)cc(OC)c1O',\n",
       " 'CCCCCCCCC(=O)OCC',\n",
       " 'CC1CCC(=O)O1',\n",
       " 'OC1CCC2CCCCC2C1',\n",
       " 'CCC(C)(O)CCc1ccccc1',\n",
       " 'CC=CC(C)O',\n",
       " 'CC=CC(O)CCCC',\n",
       " 'CC1(C)CCCC2(C)OC(=O)C=C12',\n",
       " 'C=C(C)C1C/C=C(/C)CC/C=C(/C)CC1',\n",
       " 'COC(=O)Cc1ccccc1',\n",
       " 'CC1(C)CC(O)C(C)(C)O1',\n",
       " 'CC1=CCC2(C(C)C)CC12',\n",
       " 'CCOC(=O)CCC(C)C',\n",
       " 'CCC=CCC=CCC=CCCCCCCC=O',\n",
       " 'CCCCCCCCCC(=O)c1ccccc1',\n",
       " 'SCCc1ccccc1',\n",
       " 'CC(=O)c1ccccc1O',\n",
       " 'CCCCCCC1CCCC(=O)O1',\n",
       " 'CCCC(C)C(C)CC',\n",
       " 'CC1CCCC(C)(C)C1=O',\n",
       " 'O=CCCCCCCCC=C1CO1',\n",
       " 'CC(C)=CCCC(C)(O)C1CO1',\n",
       " 'COC(=O)c1ccccc1',\n",
       " 'CCOc1cccc(C)n1',\n",
       " 'C=CC(C)=CCC=C(C)C',\n",
       " 'CCCCOC(=O)CCC(C)=O',\n",
       " 'COc1ccc(C(C)=O)cc1OC',\n",
       " 'CCC=CCCOC(=O)CC(C)C',\n",
       " 'CC(C)=C1CCC(C)C2=C(C1)C(C)CC2',\n",
       " 'CC=CC=CCCC=CC(=O)[O-]',\n",
       " 'CCCCOC(=O)CCCC',\n",
       " 'C=CCOC(=O)C(CC)CC',\n",
       " 'CCCCOC(=O)c1ccc(O)cc1',\n",
       " 'CCCCC(=O)OCC',\n",
       " 'O=C(OCCc1ccccc1)c1ccccc1O',\n",
       " 'CCc1ccc(C=O)cc1',\n",
       " 'CCCCCCCCOC(=O)C(C)C',\n",
       " 'CC(C)CCOC(=O)C=Cc1ccccc1',\n",
       " 'O=C([O-])COc1ccccc1',\n",
       " 'Cc1cccc(NC(=O)Cn2cncn2)c1',\n",
       " 'CC1CCC(C(C)(C)O)CC2=C1CCC2C',\n",
       " 'CC(=O)CCc1ccc2c(c1)OCO2',\n",
       " 'CCc1ccc(C)cc1',\n",
       " 'CCCCCCCCCCCCCC(C)=O',\n",
       " 'C=CC(C)=CC=CC(=C)C',\n",
       " 'CC1CCC2C(C)(C)C3CC12CCC3(C)O',\n",
       " 'C=CCCCCCCCC(=O)CCC(=O)CCCCC=C',\n",
       " 'CCCCCCC(=O)OCCCC',\n",
       " 'CC1=CC(=O)CCC1',\n",
       " 'CC(C)c1ccc(CO)cc1',\n",
       " 'CC(=O)OC1CCCCC1',\n",
       " 'CCCC=CC(=O)[O-]',\n",
       " 'C=C(C)C1CCC(C)C2=C(C1)C(C)CC2',\n",
       " 'CCCC(=O)CCC',\n",
       " 'CC(C)=CCCC1(C)C2CC=C(C)C1C2',\n",
       " 'CCCCCCCCCCCCCCC',\n",
       " 'O=C1CCc2ccc(F)cc2N1',\n",
       " 'CCCCO',\n",
       " 'CC=CC=CC=O',\n",
       " 'CCCCCOC(=O)c1ccco1',\n",
       " 'CC(=O)C=Cc1ccccc1',\n",
       " 'COc1cccc(OC)c1O',\n",
       " 'CCC(C)C(=O)OCc1ccccc1',\n",
       " 'CCC(C)COC(=O)CC(C)C',\n",
       " 'COc1ccc(C(=O)O)cc1',\n",
       " 'CC1(C)C2CCC(=O)C1C2',\n",
       " 'C=CCCCO',\n",
       " 'CC1(C)C2CC3C(C2)C31C',\n",
       " 'CC(C)COC=O',\n",
       " 'CC=CC(=O)OCc1ccccc1',\n",
       " 'COc1ccc(C(C)=O)cc1',\n",
       " 'C=CCc1ccc(O)cc1',\n",
       " 'CC(=O)OCCC(C)CCC=C(C)C',\n",
       " 'C=C1C(O)CC2CC1C2(C)C',\n",
       " 'CC(=O)OC(C)(C)C1CCC(C)C2=C(C1)C(C)CC2',\n",
       " 'CCCCCCCCC=O',\n",
       " 'CC=C(C)C=CC=C(C)C',\n",
       " 'C=CC(C)(O)CCCC(C)CCCC(C)CCCC(C)C',\n",
       " 'CCCCCCCO',\n",
       " 'CC1=CCC(C2(C)CCC(O)C(C)(C)O2)CC1',\n",
       " 'Cc1ccc(C)c(O)c1',\n",
       " 'CCCCCC(C)=O',\n",
       " 'CCCCOC(=O)CC(C)C',\n",
       " 'CCCCOC(=O)C(C)CC',\n",
       " 'CN(C)c1cc(C#N)ccn1',\n",
       " 'C=CCCC(C)=O',\n",
       " 'CC12CCC(CC1=O)C2(C)C',\n",
       " 'CCOC(=O)CSC',\n",
       " 'CCCCCCOC(=O)c1ccco1',\n",
       " 'CC(=O)OCC1CCCO1',\n",
       " 'O=C1NCCN1c1ccccc1C(F)(F)F',\n",
       " 'CCCCCCC=C(C)C(C)=O',\n",
       " 'CC1=CCC(C(C)(C)OC(=O)C(C)C)CC1',\n",
       " 'CC(C)COC(=O)Cc1ccccc1',\n",
       " 'CCCCCC(C)O',\n",
       " 'CC(S)C(=O)[O-]',\n",
       " 'CC1CCCCC1',\n",
       " 'CCCCOC(=O)CC',\n",
       " 'NCc1ccccc1CN1CCOCC1',\n",
       " 'CCCCCCCCCCC(=O)[O-]',\n",
       " 'CC(C)(O)c1ccccc1',\n",
       " 'C=C1/C=C\\\\C(C(C)C)CC/C(C)=C\\\\CC1',\n",
       " 'CC(C)O',\n",
       " 'CCCC(C)=O',\n",
       " 'CC1=CCC(C(C)C)C=C1',\n",
       " 'CC(C)=CC1CC(C)CCO1',\n",
       " 'CCc1ccccc1C',\n",
       " 'CC(C)=CCCC(C)C1C=CC(C)=CC1',\n",
       " 'CC=CC(=O)OCCCCCC',\n",
       " 'CCCCCCCCOC(=O)c1ccco1',\n",
       " 'C=C(C)c1ccc(C)cc1',\n",
       " 'CCC(C)COC(C)=O',\n",
       " 'C=CC=CCC=CC',\n",
       " 'CC(=CCCC1(C)C2CC=C(C)C1C2)CO',\n",
       " 'C=CCCC(=O)[O-]',\n",
       " 'C=CC(O)CC',\n",
       " 'Cl.O=S1(=O)CCC(NC2CCCC2)C1',\n",
       " 'C=CC(C)(CCC=C(C)C)OC=O',\n",
       " 'CCCCCCCCCC(=O)CCCCCCCCC',\n",
       " 'CC1(C)OC2(C)CCC1CC2O',\n",
       " 'Cn1cc(N)c(C(=O)NC2CCC2)n1',\n",
       " 'CSC(C)CC=O',\n",
       " 'CC1=CCC2CC1C2(C)C',\n",
       " 'O=C(OCCO)c1ccccc1',\n",
       " 'C=CC(C)(CCC=C(C)C)OC(=O)CCC',\n",
       " 'C=C(C)C1CCC(C)C(O)C1',\n",
       " 'CC(C)=CCCC(C)c1ccc(C)cc1',\n",
       " 'CCCCCCCCCCCCCCCCCCCC',\n",
       " 'CC1C(O)CC2(C(C)C)CC12',\n",
       " 'Cc1ccccc1C(C)C',\n",
       " 'C=CC(C)(C)O',\n",
       " 'CC(=O)OCC=C(C)CCC=C(C)C',\n",
       " 'C=CC(=O)CCCCCC',\n",
       " 'O=C([O-])C1CCCCC1',\n",
       " 'CCC(C)C(=O)[O-]',\n",
       " 'NS(=O)(=O)c1ccc2c(c1)CC(=O)N2',\n",
       " 'CCCCC(O)CCC',\n",
       " 'CC=C(C)C(=O)OCCC(C)CCC=C(C)C',\n",
       " 'CCC1CN(S(C)(=O)=O)CCC1N',\n",
       " 'Cc1cnc(C2CCCCN2)s1',\n",
       " 'CC(C(=O)[O-])c1ccccc1',\n",
       " 'CCCCCC(CC)C(=O)[O-]',\n",
       " 'O=C(O)CC1CCCCNC1=O',\n",
       " 'C=C(C)C1CC=C(COC(C)=O)CC1',\n",
       " 'CCC(C)CC(=O)[O-]',\n",
       " 'CC(=O)OCC=Cc1ccccc1',\n",
       " 'CCCCCCCCC(=O)CC',\n",
       " 'O=C1Nc2ccc(F)cc2C1O',\n",
       " 'CCOC(=O)CCC1CCCCC1',\n",
       " 'CC(N)C1CN(C)CCO1',\n",
       " 'C=CC1(C)C=C2CCC3C(C)(C)CCCC3(C)C2CC1',\n",
       " 'COC(=O)CC(C)O',\n",
       " 'C=C(CCO)CCC=C(C)C',\n",
       " 'CCC(=O)OCCC(C)C',\n",
       " 'NC(CN1CCCC1=O)c1ccccc1',\n",
       " 'CCC(=O)OCC1CCCO1',\n",
       " 'CCC1OC(=O)C(O)=C1C',\n",
       " 'O=C(c1ccccc1)C(O)c1ccccc1',\n",
       " 'C=C1C2CCC(C2)C1(C)CCC=C(C)C',\n",
       " 'CCCCCC#CC(=O)OC',\n",
       " 'C=C1CC2CCC1C2(C)C',\n",
       " 'Cn1[nH]c(=O)c2ccccc21',\n",
       " 'CCCC(CCO)SC',\n",
       " 'CCCCCCC(=O)CCC',\n",
       " 'CC=Cc1cc(OC)c(OC)c(OC)c1',\n",
       " 'CCc1ccccc1',\n",
       " 'CCCCCCCCCCC(C)=O',\n",
       " 'CC(C)(C)c1ccc(O)cc1',\n",
       " 'CCCCCC',\n",
       " 'CCCC=CCOC(C)=O',\n",
       " 'Cc1ccc(C)c(O)c1C',\n",
       " 'O=Cc1ccoc1',\n",
       " 'CC1=CCC(=O)O1',\n",
       " 'CC=C(C)C(=O)[O-]',\n",
       " 'CCC=CCC1C(=O)CCC1CC(=O)OC',\n",
       " 'CC(=O)CC(C)(C)S',\n",
       " 'O=C(OCc1ccccc1)c1ccccc1',\n",
       " 'COc1ccc(O)cc1',\n",
       " 'Cc1cc(C)cc(C)c1',\n",
       " 'CCC(=O)C(C)=O',\n",
       " 'CC1CCC(C(C)(C)S)C(=O)C1',\n",
       " 'COc1ccc(CO)cc1',\n",
       " 'CCCCCCOC(=O)CCCC',\n",
       " 'CCCCC(=O)CC',\n",
       " 'CCCCCCCCCCCC=O',\n",
       " 'C=C(C)C1CCC2(C)CCCC(=C)C2C1',\n",
       " 'COc1cc(C)ccc1C(C)C',\n",
       " 'CCCCCC(CC)OC(C)=O',\n",
       " 'CC=CC(=O)C1=C(C)CCCC1(C)C',\n",
       " 'Cc1ccc2cc(C)ccc2c1',\n",
       " 'CC(C)CC(C)(C)C',\n",
       " 'CCC1OC1CCO',\n",
       " 'Nc1cnc(C(F)(F)F)nc1',\n",
       " 'CCC(=O)C(=O)CC',\n",
       " 'CCCCCCC=CC(C)=O',\n",
       " 'CC=Cc1ccc(OC)cc1',\n",
       " 'CC(C)C12CCC(C)(CC1)O2',\n",
       " 'CCCCCOC(C)=O',\n",
       " 'CC1CCC(C(C)C)C(=O)C1',\n",
       " 'C=CCOC(=O)CC',\n",
       " 'COc1ccc(C=O)cc1',\n",
       " 'CCCCCC(=O)OC(C)CCC',\n",
       " 'O=C1CCCCC1',\n",
       " 'CC(C)=CCCC(C)=CC=O',\n",
       " 'C=C(C)C1CCC(C)=C1CC(C)(C)COC(=O)CC',\n",
       " 'CC12CCCC3(C=CC(C)(C)C3CC1)C2',\n",
       " 'CCCCCCC=CCCCCCCO',\n",
       " 'C=C1C=CC2CC1C2(C)C',\n",
       " 'CCCCCCCCCCCCCCCCC(=O)[O-]',\n",
       " 'CCCCC(O)C(=O)OCC',\n",
       " 'CCC=CCCOC(C)=O',\n",
       " 'Cn1c(=O)[nH]c2ccccc21',\n",
       " 'CCc1ccc(CC)cc1',\n",
       " 'O=C(OC1CCCCC1)c1ccccc1',\n",
       " 'OC1(c2ccccc2)CCCC1',\n",
       " 'CC1=CC(O)C(C(C)C)CC1',\n",
       " 'C=C1CCCC2(C)CCC(C(C)(C)O)CC12',\n",
       " 'C=O',\n",
       " 'CCCCCCCCCC(=O)CC',\n",
       " 'CC1=CCCC(C)(C)C1C=CC(C)O',\n",
       " 'CCCCCC1CCCC(=O)O1',\n",
       " 'Cc1ccc(C(C)C)cc1O',\n",
       " 'CC1CCC(=O)CC1',\n",
       " 'CCOC(=O)C1OC1(C)c1ccccc1',\n",
       " 'C=CCOC(=O)CCCCCCCC',\n",
       " 'O=C(C=Cc1ccccc1)OCC=Cc1ccccc1',\n",
       " 'C=C(C)C1CCC(=C)C(OO)C1',\n",
       " 'CCCCC(C)CCC(=O)[O-]',\n",
       " 'COC(=O)COc1ccc(C)cc1',\n",
       " 'CCC(C)CO',\n",
       " 'CCCCCCCCCCCCOC(C)=O',\n",
       " 'CCOC(=O)C(C)CC',\n",
       " 'CC(C)c1noc([C@]23CCC[C@H]2CNC3)n1.Cl',\n",
       " 'CCC(O)CC',\n",
       " 'COc1ccccc1',\n",
       " 'Cc1cc(CO)c2ccccc2n1',\n",
       " 'C=C1CCC(C(C)C)C2C=C(C)CCC12',\n",
       " 'CCOCCCO',\n",
       " 'COC(=O)c1cccc(O)c1',\n",
       " 'COc1ccc(C)cc1OC',\n",
       " 'OC(c1ncc[nH]1)c1ccco1',\n",
       " 'C1=CCCCC1',\n",
       " 'CC1=CC2OCC(C)C2CC1',\n",
       " 'CC(C)=CCCC(C)(O)C1CC=C(C)CC1',\n",
       " 'CCCCCCC=CCO',\n",
       " 'CCOC(=O)c1ccco1',\n",
       " 'CC=CCCCCCCCC',\n",
       " 'CCCCCCCC(=O)OCCCCCC',\n",
       " 'C=C(C)C=O',\n",
       " 'CC=CC(=O)CCCCC',\n",
       " 'CCc1cc2c(cc1C(C)=O)C(C)(C)CCC2(C)C',\n",
       " 'COCC=C(C)CCC=C(C)C',\n",
       " 'CCCCCCCCCCCC(=O)OCCCC',\n",
       " 'C=C(C)c1ccccc1',\n",
       " 'CC1=CCCC2(C)CCC(C(C)(C)O)CC12',\n",
       " 'CCC=C1OC(=O)c2ccccc21',\n",
       " 'CCC(=O)OCc1ccccc1',\n",
       " 'CC1=C2CC3CCC(C)C2(CC1)C3(C)C',\n",
       " 'CC(C)=C1CCC(C)(O)CC1',\n",
       " 'CC(=O)OC(C)c1ccccc1',\n",
       " 'CC=CCCCCCCCCCCC',\n",
       " 'COC(=O)CCC(C)C',\n",
       " 'CCCCCC=CC=CC(=O)OCC',\n",
       " 'Cc1cccc(C)c1C',\n",
       " 'O=C(OCCc1ccccc1)c1ccco1',\n",
       " 'Nc1nnc(-c2c(F)cccc2Cl)o1',\n",
       " 'CCCCCCCCCCCCCC(=O)OC',\n",
       " 'C=CC(C)(O)CCCC(C)C',\n",
       " 'CC(C)c1cccc(C(C)C)c1O',\n",
       " 'COc1ccc(COC(C)=O)cc1',\n",
       " 'COC(C)(C)C1CC=C(C)CC1',\n",
       " 'Clc1cccc(C2CNCCN2)c1',\n",
       " 'O=C(Cc1ccccc1)OCc1ccccc1',\n",
       " 'CC(=O)CC(C)C',\n",
       " 'C=C(C)C1CC=C(C)C(=O)C1',\n",
       " 'OC1CCCCC1',\n",
       " 'CC1=C(O)C(=O)CC1',\n",
       " 'Cl.NCCC1C(=O)Nc2ccc(F)cc21',\n",
       " 'COC(CC(C)CCCC(C)(C)O)OC',\n",
       " 'C=CCCCCCCCCCCC',\n",
       " 'CCCCC1CCCC(=O)O1',\n",
       " 'CC(C)CCCO',\n",
       " 'CCCCCCCCCCCCCCCCO',\n",
       " 'CC(C)CC(C)O',\n",
       " 'CC(=O)c1ccc(C)o1',\n",
       " 'O=S(=O)(c1cn[nH]c1)N1CCCCC1',\n",
       " 'C=C(C)C1CCC2=CCCC(C)C2(C)C1',\n",
       " 'C=C(C)C(=O)OCC',\n",
       " 'CCCCC1CCC(=O)O1',\n",
       " 'O=COCC=Cc1ccccc1',\n",
       " 'CC1=CC(=O)C(C(C)C)CC1',\n",
       " 'CCCCC1CCCCC1',\n",
       " 'OCC=Cc1ccccc1',\n",
       " 'CC(C)CCCC(C)CCO',\n",
       " 'CCCCCCCC=CC(=O)OCC',\n",
       " 'CC(C)CC(=O)Cc1ccccc1',\n",
       " 'COC(=O)Cc1ccc(C(C)(C)C)cc1',\n",
       " 'COCC1=C(C)C(=O)C(C)=CC1=O',\n",
       " 'CCCC(C)C(=O)OC',\n",
       " 'CC1=CC2C(=C(C)CCC2C(C)C)CC1',\n",
       " 'O=C[O-]',\n",
       " 'Cc1cccs1',\n",
       " 'CC1=CCC(O)(C(C)C)CC1',\n",
       " 'CC1=CC2C(=CC1)C(C)CCC2C(C)C',\n",
       " 'C=CC(=O)OCCCC',\n",
       " 'CSCCCCO',\n",
       " 'CCC=CCCOC(=O)CCC',\n",
       " 'CCCCCCCCCC=O',\n",
       " 'COc1ccc(CC(C)=O)cc1',\n",
       " 'CS(C)=O',\n",
       " 'C=CCOC(=O)Cc1ccccc1',\n",
       " 'CC(C)COC(=O)c1ccccc1O',\n",
       " 'CC1CNC(=O)CC(C)C1',\n",
       " 'CCOCCOCCO',\n",
       " 'C=C1C=CC(=O)O1',\n",
       " 'CCCCC(C)C(C)=O',\n",
       " 'CCCCCCOC(=O)CC',\n",
       " 'CC1=CCC(C2(C)CCC(C(C)(C)O)O2)CC1',\n",
       " 'Cc1ccc(C=O)c(O)c1',\n",
       " 'C=Cc1ccc(O)cc1',\n",
       " 'C=CCCC(C)C=C(C)C',\n",
       " 'CCCc1ccc(OC)cc1',\n",
       " 'O=C(O)c1cncc(F)c1',\n",
       " 'CCCC(=O)OCC=C(C)CCC=C(C)C',\n",
       " 'CC(=O)C(C)=O',\n",
       " 'Cc1cnn(Cc2ccccc2F)c1N',\n",
       " 'CC1=C2C(CC1)C(C)CCC1C2C1(C)C',\n",
       " 'CCCCCCCCCCCCCCCC(=O)[O-]',\n",
       " 'CCCCCOC=O',\n",
       " 'CCCCCCCCCC(=O)[O-]',\n",
       " 'CCCC(CS)OC=O',\n",
       " 'O=C1NCCCN2CCCC12',\n",
       " 'CCCCC(C)O',\n",
       " 'CC(=O)c1cc(C)oc1C',\n",
       " 'CC1=CCC(C(C)(C)O)CC1',\n",
       " 'C=C(O)CCC',\n",
       " 'CCC(=O)C(C)O',\n",
       " 'COc1ccccc1C(N)c1nccn1C',\n",
       " 'CCOC(=O)C(C)=O',\n",
       " 'CCCCCCCCOC(=O)CCC',\n",
       " 'C=CC(C)(CCC=C(C)C)OC(=O)CC(C)C',\n",
       " 'COc1ccc(OC)c(OC)c1',\n",
       " 'C1=CC2(CC1)CCCCC2',\n",
       " 'CCCOC(=O)CCC',\n",
       " 'Cc1nn(C)c(C)c1CC(N)=O',\n",
       " 'C=C1CCC2OC2(C)CCC2C1CC2(C)C',\n",
       " 'CCCCCCCCOC(=O)CCCCCCC',\n",
       " 'FC(F)(F)c1cnc(C2CCCNC2)[nH]1',\n",
       " 'O=C1Nc2ccccc2CCC1O',\n",
       " 'CCC(C)C(=O)OCCc1ccccc1',\n",
       " 'Cc1ccc(C(C)C)c(O)c1',\n",
       " 'CCCCCCCC(=O)OCc1ccccc1',\n",
       " 'CCCCCCCCCCCCCC=O',\n",
       " 'CC(C)=CC=O',\n",
       " 'CCCCCCCCCCCCCCCC(=O)OCC',\n",
       " 'CC(C)CCOC(=O)Cc1ccccc1',\n",
       " 'COC(=O)CCc1ccccc1',\n",
       " 'CC1CCCC1(C)C(=O)O',\n",
       " 'CCCCCCCCCC(=O)OCCCC',\n",
       " 'CCC(C)CCOC(=O)C(C)CC',\n",
       " 'CCCCCCCCCCC(=O)c1ccccc1',\n",
       " 'COC(=O)c1ccccc1C',\n",
       " 'CCC12CCCC(C)(OC1)O2',\n",
       " 'CCC(C)C(C)C(C)C',\n",
       " 'C=CCOC(=O)CCCCCCC',\n",
       " 'CCCCCCCCCCCCCCCCCCC=O',\n",
       " 'CCCCCCCCCCCCCCCCOC(C)=O',\n",
       " 'CCCCCCC(C)CCCCC',\n",
       " 'CCCCCCOC(=O)CCCCC',\n",
       " 'COC(=O)c1ccco1',\n",
       " 'CN1CCC2OCCNC2C1',\n",
       " 'CCC(=O)OC1CCCCC1',\n",
       " 'CC1(C)C2CCC(C2)C1(C)O',\n",
       " 'COCCn1nc(C)c(N)c1C',\n",
       " 'CCCCCCCOCC',\n",
       " 'CCCCCC=CC(=O)OC',\n",
       " 'CC12C=CCC1C1CCC3CC(O)CCC3(C)C1CC2',\n",
       " 'CC(C)c1ncc(Cl)c(C(N)=O)n1',\n",
       " 'C=C(C)C(=O)OC',\n",
       " 'O=c1ccc2ccccc2o1',\n",
       " 'O=CC=Cc1ccccc1',\n",
       " 'CC(C)=CCCC(C)O',\n",
       " 'C=CC(=O)CCCC',\n",
       " 'CCCCCC(=O)[O-]',\n",
       " 'CC(=O)OCC(C)C',\n",
       " 'CCC(=O)OCCOc1ccccc1',\n",
       " 'CCCCC(=O)[O-]',\n",
       " 'O=CCCCC=O',\n",
       " 'CSCCC(C)=O',\n",
       " 'CCCCOCCO',\n",
       " 'Cc1nn(C)cc1CCO',\n",
       " 'COc1ccc(C=O)cc1OC',\n",
       " 'COC(=O)CCCCCCCCCCCCC(C)C',\n",
       " 'CCCCCC(=O)OCCC(C)CCC=C(C)C',\n",
       " 'CC1=CCC(C(C)CO)CC1',\n",
       " 'CC1CCCC1',\n",
       " 'COC=O',\n",
       " 'CC1(CO)C2CC3C(C2)C31C',\n",
       " 'CC1CCNC(C(N)=O)C1',\n",
       " 'O=C(c1ccccc1)c1ccccc1',\n",
       " 'CNC(C)c1cccc(-c2ccncc2)c1',\n",
       " 'CO',\n",
       " 'CCCC=CC(=O)OCC(C)C',\n",
       " 'CCc1ccccc1O',\n",
       " 'CC(C)COC(=O)c1ccccc1',\n",
       " 'Nc1cc(C(F)(F)F)ncn1',\n",
       " 'CC(C)CCCCCCCCCCC=O',\n",
       " 'COc1ccccc1C(=O)[O-]',\n",
       " 'O=C1CC(CO)CN1Cc1ccccc1',\n",
       " 'COc1nc(C)cc(=O)[nH]1',\n",
       " 'COc1cc(C=O)ccc1O',\n",
       " 'CCc1ccco1',\n",
       " 'CCCC1CCCC(=O)O1',\n",
       " 'Cn1nc(C(=O)O)cc1C1CC1',\n",
       " 'CC=CC=CCO',\n",
       " 'CC1=CCC(C(C)(C)OC=O)CC1',\n",
       " 'CCCC=O',\n",
       " 'CC(=O)c1ccc(C)cc1',\n",
       " 'CCCCCCCCOC(=O)CC(C)C',\n",
       " 'O=C(O)CC1NC(=O)c2ccccc21',\n",
       " 'O=C([O-])c1ccccc1',\n",
       " 'CCCCCCCCCC(C)=O',\n",
       " 'CCCCCCC(C)O',\n",
       " 'CCc1occc(=O)c1O',\n",
       " 'CCCCC(CC)COC(C)=O',\n",
       " 'CC1=CC(=O)CC(C)(C)C1=O',\n",
       " 'CCc1ccc(O)c(OC)c1',\n",
       " 'CC(=O)Sc1ccoc1C',\n",
       " 'OC1CCCCC1c1cncnc1',\n",
       " 'Cc1cccc(C(CN)N2CCOCC2)c1',\n",
       " 'C[C@@H](O)c1cccc(C#N)c1',\n",
       " 'CCCCC(=O)C(C)C',\n",
       " 'C=C(C)C1CC=C(C)CC1',\n",
       " 'CCCC(=O)OC1CCCCC1',\n",
       " 'OCc1nnc(C2CC2)s1',\n",
       " 'OCc1ccc(-c2c[nH]cn2)cc1',\n",
       " 'CC1C(=O)NCCN1C(=O)c1ccccc1',\n",
       " 'CC(C)=C(C)C',\n",
       " 'CCC(=O)CC(C)C',\n",
       " 'CC(=O)CCCC(C)C',\n",
       " 'CCCCC(=O)C(C)=O',\n",
       " 'CCC(C)(O)CC',\n",
       " 'CCC=CCCOC(=O)c1ccccc1',\n",
       " 'CC(C)C1CNCCCO1',\n",
       " 'CCCCC(=O)OC',\n",
       " 'C=C(C)CCC(COC(=O)CC)C(=C)C',\n",
       " 'Cc1ccccc1',\n",
       " 'CCCC(=O)OC(C)(C)C1CC=C(C)CC1',\n",
       " 'CCc1n[nH]c(=O)c(C#N)c1CC',\n",
       " 'CCCCCCCCOC(C)=O',\n",
       " 'C=CC(O)CCCCCCC',\n",
       " 'CCCCCC=CCCCO',\n",
       " 'CCCCCCC(=O)OCc1ccco1',\n",
       " 'CC(C)CC(=O)OC1CC2CCC1(C)C2(C)C',\n",
       " 'CC(C)=CCCC(C)CCOC=O',\n",
       " 'Cc1cccc(C)c1',\n",
       " 'c1nc(CN2CCNCC2)cs1',\n",
       " 'CCOc1ccc2ccccc2c1',\n",
       " 'COc1cc(CC(C)=O)ccc1O',\n",
       " 'CCC=CCCOC(=O)CCCCC',\n",
       " 'CCCCCCCC(C)=O',\n",
       " 'CC1=C(C=CC(C)O)C(C)(C)CCC1',\n",
       " 'CCCCCCCCCO',\n",
       " 'CCCCCCCC(C)O',\n",
       " 'CCCCCCCCCCCCCCCC(=O)OC',\n",
       " 'C=CCc1ccc(OC)c(OC)c1',\n",
       " 'CC(C)Cc1nnc(N)o1',\n",
       " 'COc1cc(C(C)C)ccc1C',\n",
       " 'CCCCC(=O)OCCc1ccccc1',\n",
       " 'C=CC(C)(O)CCC1OC1(C)C',\n",
       " 'C=CCC(C)C(C)C',\n",
       " 'CCCCCCCCCCOC(=O)CCC',\n",
       " 'CC=C(C)C(=O)OC(C)C',\n",
       " 'C/C1=C/CCC(C)(O)/C=C\\\\C(C(C)C)CC1',\n",
       " 'C=C1CC=C(C(C)C)CC1',\n",
       " 'CCC(=O)OC(C)(C)C1CC=C(C)CC1',\n",
       " 'C1COCCO1',\n",
       " 'C=C(C)CC(O)CC',\n",
       " 'CCC(C)C(=O)OC(C)c1ccccc1',\n",
       " 'COc1cc(C)cc(OC)c1OC',\n",
       " 'CC(OC(=O)c1ccccc1)c1ccccc1',\n",
       " 'CCCCCCCCCCCCCCCCC',\n",
       " 'CC(C)=CCC=C(C)CC=O',\n",
       " 'O=CC(O)c1ccccc1',\n",
       " 'CC(=O)OC1CCC(C(C)(C)C)CC1',\n",
       " 'COC(=O)C1CCCCC1',\n",
       " 'CC(=O)OC(C)C',\n",
       " 'Cn1cnc2cnccc21',\n",
       " 'O=Cc1ccc2c(c1)OCO2',\n",
       " 'Cc1ccccc1C',\n",
       " 'C=CC1(C)OC(C)(C)CCC1O',\n",
       " 'C=CC(C)(C)C(O)C=C(C)C',\n",
       " 'CCCCCC=CCC=CCCCCCCCC(=O)OC',\n",
       " 'CC=C(C)C=O',\n",
       " 'C=CC(O)CCCCC',\n",
       " 'CC1=CC2OCC(C)=C2CC1',\n",
       " 'COc1cc(CCC(C)=O)ccc1O',\n",
       " 'C=CC(=C)CCC=C(C)C',\n",
       " 'Cc1[nH]nc(C(F)(F)F)c1Cl',\n",
       " 'CCOC(=O)CCc1ccccc1',\n",
       " 'CCOCCCCCC(=O)[O-]',\n",
       " 'CCCCCCC=CCCO',\n",
       " 'CC(=O)CCc1ccc(O)cc1',\n",
       " 'CCc1ccccc1C=O',\n",
       " ...]"
      ]
     },
     "execution_count": 19,
     "metadata": {},
     "output_type": "execute_result"
    }
   ],
   "source": [
    "smiles"
   ]
  },
  {
   "cell_type": "markdown",
   "id": "be70b608",
   "metadata": {},
   "source": [
    "Ein Problem ist, dass die Stereoinformationen immer noch in den Smiles enthalten sind. Zum Beispiel das `@`-Symbol. Ein weiteres Problem ist das `.`. Dieses markiert den Beginn eines weiteren Moleküls. In unserem Fall sind es aber eigentlich nur `Cl`-Atome, die sich noch in einigen Smiles befinden. \n",
    "Zum Beispiel die Moleküle 61."
   ]
  },
  {
   "cell_type": "code",
   "execution_count": 20,
   "id": "1642e7ad",
   "metadata": {
    "scrolled": true
   },
   "outputs": [
    {
     "data": {
      "image/png": "[encoded data removed]",
      "text/plain": [
       "<rdkit.Chem.rdchem.Mol at 0x1b6a15a8ee0>"
      ]
     },
     "execution_count": 20,
     "metadata": {},
     "output_type": "execute_result"
    }
   ],
   "source": [
    "Chem.MolFromSmiles(smiles[60])"
   ]
  },
  {
   "cell_type": "markdown",
   "id": "3547f368",
   "metadata": {},
   "source": [
    "Wir können die Stereoinformationen sowie die \"zusätzlichen\" Moleküle durch String-Manipulationen entfernen.\n",
    "\n",
    "`string.replace(\"@\", \"\")`\n",
    "\n",
    "durchsucht den `string` nach dem Zeichen `@` und wenn es eines findet, werden sie durch `\"\"` ersetzt, werden also einfach entfernt.\n",
    "\n",
    "\n",
    "*Alternativ kann auch folgender Code benutzt werden:*\n",
    "\n",
    "```python\n",
    "Chem.MolToSmiles(Chem.MolFromSmiles(\"N[C@@H](C)C(=O)O\"),isomericSmiles=False)\n",
    "```\n",
    "Die option `isomericSmiles = False` wurde erst später zu RDKit hinzugefügt.\n",
    "\n",
    "\n",
    "`string.split(\".\")`\n",
    "\n",
    "teilt den `string` an jedem `\".\"` auf. Die Funktion gibt die einzelnen Teilstrings als Liste aus."
   ]
  },
  {
   "cell_type": "code",
   "execution_count": 21,
   "id": "35edf4a6",
   "metadata": {},
   "outputs": [
    {
     "data": {
      "text/plain": [
       "['Schoko', 'lde']"
      ]
     },
     "execution_count": 21,
     "metadata": {},
     "output_type": "execute_result"
    }
   ],
   "source": [
    "\"Schoko.l@de\".replace(\"@\", \"\").split(\".\")"
   ]
  },
  {
   "cell_type": "code",
   "execution_count": 22,
   "id": "e07972f4",
   "metadata": {},
   "outputs": [],
   "source": [
    "sub_molecules = []\n",
    "for smile in smiles:\n",
    "    smile = smile.replace(\"@\", \"\")\n",
    "    smile = smile.replace(\"\\\\\", \"\")\n",
    "    sub_molecules.append(smile.split(\".\"))"
   ]
  },
  {
   "cell_type": "markdown",
   "id": "175e7da1",
   "metadata": {},
   "source": [
    "Im nächsten Schritt müssen wir nur noch die Moleküllisten durchgehen. Wenn ein Smiles aus mehreren Molekülen besteht, wählen wir einfach das größte Molekül als das richtige aus."
   ]
  },
  {
   "cell_type": "code",
   "execution_count": 23,
   "id": "5b97a07d",
   "metadata": {
    "scrolled": false
   },
   "outputs": [
    {
     "data": {
      "image/png": "[encoded data removed]",
      "text/plain": [
       "<rdkit.Chem.rdchem.Mol at 0x1b6a15b74e0>"
      ]
     },
     "execution_count": 23,
     "metadata": {},
     "output_type": "execute_result"
    }
   ],
   "source": [
    "filtered_smiles =[]\n",
    "for mol_list in sub_molecules:\n",
    "    filtered_smiles.append(mol_list[np.argmax([len(x) for x in mol_list])])\n",
    "    \n",
    "Chem.MolFromSmiles(filtered_smiles[60])"
   ]
  },
  {
   "cell_type": "markdown",
   "id": "2b429d79",
   "metadata": {},
   "source": [
    "Das 61ste Moleküle beinhaltet jetzt nicht mehr das zusätzlichen `HCl`."
   ]
  },
  {
   "cell_type": "markdown",
   "id": "27bac998",
   "metadata": {},
   "source": [
    "Die Smiles sind nun \"sauber\" und wir können damit beginnen, sie für das RNN vorzubereiten. Erstellen Sie also einen Dictionary und ersetzen Sie die Smiles durch Tokens. Zuerst verwenden wir wieder die Funktion `creat_dict`, um ein Dictionery für unsere Daten zu erstellen. Aber dieses Mal verwenden wir auch den Parameter `add_tokens = True`:"
   ]
  },
  {
   "cell_type": "code",
   "execution_count": 25,
   "id": "3047333c",
   "metadata": {
    "scrolled": true
   },
   "outputs": [
    {
     "data": {
      "text/plain": [
       "{'<sos>': 0,\n",
       " '<eos>': 1,\n",
       " '<pad>': 2,\n",
       " '#': 3,\n",
       " '(': 4,\n",
       " ')': 5,\n",
       " '-': 6,\n",
       " '/': 7,\n",
       " '1': 8,\n",
       " '2': 9,\n",
       " '3': 10,\n",
       " '4': 11,\n",
       " '=': 12,\n",
       " 'C': 13,\n",
       " 'Cl': 14,\n",
       " 'F': 15,\n",
       " 'H': 16,\n",
       " 'N': 17,\n",
       " 'O': 18,\n",
       " 'S': 19,\n",
       " '[': 20,\n",
       " ']': 21,\n",
       " 'c': 22,\n",
       " 'n': 23,\n",
       " 'o': 24,\n",
       " 's': 25}"
      ]
     },
     "execution_count": 25,
     "metadata": {},
     "output_type": "execute_result"
    }
   ],
   "source": [
    "dictionary = create_dict(filtered_smiles, add_tokens =True)\n",
    "dictionary"
   ]
  },
  {
   "cell_type": "markdown",
   "id": "cad4917b",
   "metadata": {},
   "source": [
    "Es wurden 3 neue Tokens hinzugefügt, die in den Smiles nicht vorkommen.\n",
    "\n",
    "- Sie kennen bereits `<pad>`. Er wird verwendet, um alle Smiles auf die gleiche Länge zu bringen.\n",
    "\n",
    "- `<sos>` ist ein Token, der den Beginn eines Smiles ankündigt. \"Start of Sentence\". Dieses Token wird **vor** jeden Smiles gesetzt.\n",
    "\n",
    "- `<eos>` zeigt das Ende des Smiles an. Nachdem der eigentliche Smiles vorbei ist, folgt der Token `<eos>` und dann die Padding Token.\n",
    "\n",
    "Alle unsere Smiles sollten also wie folgt aussehen:\n",
    "\n",
    "```python\n",
    "\"<sos>OCc1ccc2occc2c1<eos><pad><pad>\"\n",
    "```"
   ]
  },
  {
   "cell_type": "markdown",
   "id": "375bb0b0",
   "metadata": {},
   "source": [
    "\n",
    "Warum ist das notwendig? Warum werden diese speziellen Token benötigt?\n",
    "\n",
    "Das liegt daran, wie ein Decoder in einem RNN funktioniert. \n",
    "\n",
    "Noch einmal zur Erinnerung: So sieht unser Modell aus:\n",
    "\n",
    "<img src=\"Img/rnn/auto_1.png\" width =\"400px\">\n",
    "\n",
    "Den Encoder haben wir quasi letzte Woche geschrieben, jetzt müssen wir uns nur noch auf den Decoder konzentrieren.\n",
    "Die Grundidee eines Decoder-RNN ist, dass die SMILES Token für Token nacheinander erzeugt werden.\n",
    "\n",
    "Beispiel:\n",
    "\n",
    "Der Decoder erhält den latenten Vektor vom Encoder:\n",
    "Darauf erzeugt er ein `C`. Nun kann der Decoder mit Hilfe des latenten Vektors und des bereits erzeugten `C` ein weiteres `C` erzeugen. Dann ist unser aktueller Smiles `CC`. Nun wird der Schritt noch einmal wiederholt, mit dem Wissen des latenten Vektors und den bereits zwei `CC`.\n",
    "Jetz kann der Decoder  z.B. ein `=` erzeugen: `CC=` usw...\n",
    "Theoretisch könnte dies unendlich so weitergehen. Deshalb gibt es ein `<eos>`-Token. Dieses Token erlaubt es dem Netzwerk, den Smiles zu beenden, wenn es denkt, dass dieser komplett ist.\n",
    "\n",
    "Im Folgenden wird es ein wenig theoretischer:\n",
    "\n",
    "Um es genauer zu verstehen, wiederholen wir kurz, wie ein RNN funktioniert.\n",
    "\n",
    "Ein RNN hat immer zwei Inputs. Einer ist die normale Eingabe, d.h. das aktuelle Token (Smile-Symbol), für das eine Vorhersage gemacht werden muss.\n",
    "Zusätzlich wird ein Hidden State aus dem vorherigen Schritt übernommen. Also die Ausgabe des RNN für den vorherige Token.\n",
    "\n",
    "Durch den Encoder erhalten wir bereits den latenten Vektor, der unser anfänglicher Hidden State für den Decoder sein wird. \n",
    "\n",
    "<img src=\"Img/rnn/auto_3.png\" width =\"400px\">\n",
    "\n",
    "Doch was ist unser initialer Input?\n",
    "\n",
    "<img src=\"Img/rnn/auto_4.png\" width =\"400px\">\n",
    "\n",
    "Das Problem ist, wenn wir den tatsächlich ersten Token des originalen Smiles als ersten Token für den Decoder verwenden, ist es relativ leicht diesen richtig zu vorhersagen. Deshalb verwenden wir zuerst den Token `<sos>` als ersten Input für den Decoder. Dieses Token enthält keine Informationen über den Inputsmiles. Das heißt, der erste Token wird nur auf der Grundlage des Hidden State oder dem latent Vektor vorhergesagt. Wichtig ist auch, dass die Ausgabe des RNN (der neue Hidden State) zunächst eine lineare Schicht durchläuft, die dann den richtigen Token vorhersagt.\n",
    "<img src=\"Img\\rnn\\auto_6.png\" width =\"400px\">\n",
    "\n",
    "Im nächsten Schritt ersetzt der neue Hidden State den latent Vektor als Input für den nächsten Schritt. Auch wird nicht mehr ein Token des ursprünglichen Smile als Input verwendet, sondern der Token, der im vorherigen Schritt vorhergesagt wurde. \n",
    "Das heißt, selbst wenn der Decoder am Anfang einen Fehler macht, rechnet er mit diesem Fehler weiter.\n",
    "<img src=\"Img\\rnn\\auto_7.png\" width =\"400px\">\n",
    "\n",
    "Wir wiederholen dies, bis wir die Länge des längsten Smiles in unserem Datensatz erreicht haben. Natürlich sind die meisten Smiles nicht so lang, also können wir den `<eos>` Token verwenden. Damit kann der Smiles vorher beendet werden. \n",
    "<img src=\"Img/rnn/auto_8.png\" width =\"400px\">"
   ]
  },
  {
   "cell_type": "markdown",
   "id": "760abc3c",
   "metadata": {},
   "source": [
    "Wenn wir in der Funktion `tokenize` ` (..., add_tokens=True)` verwenden, werden `<sos>` und `<eos>` automatisch zu jedem Smile hinzugefügt. Die `0` steht im `dictionary` für `<sos>` und die `1` für `<eos>`."
   ]
  },
  {
   "cell_type": "code",
   "execution_count": 37,
   "id": "4fe1840b",
   "metadata": {},
   "outputs": [
    {
     "data": {
      "text/plain": [
       "[0,\n",
       " 12,\n",
       " 12,\n",
       " 8,\n",
       " 11,\n",
       " 12,\n",
       " 12,\n",
       " 4,\n",
       " 11,\n",
       " 17,\n",
       " 5,\n",
       " 12,\n",
       " 9,\n",
       " 12,\n",
       " 12,\n",
       " 8,\n",
       " 12,\n",
       " 9,\n",
       " 4,\n",
       " 12,\n",
       " 5,\n",
       " 12,\n",
       " 1]"
      ]
     },
     "execution_count": 37,
     "metadata": {},
     "output_type": "execute_result"
    }
   ],
   "source": [
    "tokenized_smiles = tokenize(filtered_smiles,dictionary, add_tokens =True)\n",
    "tokenized_smiles[7]"
   ]
  },
  {
   "cell_type": "markdown",
   "id": "2157fd4b",
   "metadata": {},
   "source": [
    "Die Smiles sind immer noch alle unterschiedlich lang. Wir berechnen zunächst die Anzahl der Token in jedem Smiles."
   ]
  },
  {
   "cell_type": "code",
   "execution_count": 38,
   "id": "2ba76b62",
   "metadata": {},
   "outputs": [
    {
     "data": {
      "text/plain": [
       "26"
      ]
     },
     "execution_count": 38,
     "metadata": {},
     "output_type": "execute_result"
    }
   ],
   "source": [
    "token_lengths = np.array([len(x) for x in tokenized_smiles])\n",
    "max_length=max(token_lengths)\n",
    "max_length"
   ]
  },
  {
   "cell_type": "markdown",
   "id": "c61d941b",
   "metadata": {},
   "source": [
    "Wir können die Anzahl der Token auch mit einem Histogramm darstellen. Das Problem ist, je mehr Token ein Smiles hat, desto schwieriger ist es für den Decoder, den komplette Smiles wiederherzustellen."
   ]
  },
  {
   "cell_type": "code",
   "execution_count": 39,
   "id": "c8b22d62",
   "metadata": {
    "scrolled": true
   },
   "outputs": [
    {
     "data": {
      "text/plain": [
       "(array([  2.,   3.,   3.,   5.,   6.,  24.,  33.,  48.,   0.,  59.,  71.,\n",
       "         67.,  75., 105., 106., 115.,   0., 123., 120., 123.,  96., 101.,\n",
       "         64.,  51.,  43.]),\n",
       " array([ 4.  ,  4.88,  5.76,  6.64,  7.52,  8.4 ,  9.28, 10.16, 11.04,\n",
       "        11.92, 12.8 , 13.68, 14.56, 15.44, 16.32, 17.2 , 18.08, 18.96,\n",
       "        19.84, 20.72, 21.6 , 22.48, 23.36, 24.24, 25.12, 26.  ]),\n",
       " <BarContainer object of 25 artists>)"
      ]
     },
     "execution_count": 39,
     "metadata": {},
     "output_type": "execute_result"
    },
    {
     "data": {
      "image/png": "[encoded data removed]",
      "text/plain": [
       "<Figure size 432x288 with 1 Axes>"
      ]
     },
     "metadata": {
      "needs_background": "light"
     },
     "output_type": "display_data"
    }
   ],
   "source": [
    "plt.hist(token_lengths, bins=25)"
   ]
  },
  {
   "cell_type": "markdown",
   "id": "73df0d1f",
   "metadata": {},
   "source": [
    "Wir könnten zum Beispiel alle Moleküle aus dem Datensatz herauswerfen, die aus mehr als 26 Token bestehen."
   ]
  },
  {
   "cell_type": "code",
   "execution_count": 40,
   "id": "4683ef65",
   "metadata": {},
   "outputs": [
    {
     "data": {
      "text/plain": [
       "0"
      ]
     },
     "execution_count": 40,
     "metadata": {},
     "output_type": "execute_result"
    }
   ],
   "source": [
    "np.sum(token_lengths>26)"
   ]
  },
  {
   "cell_type": "markdown",
   "id": "0f16c132",
   "metadata": {},
   "source": [
    "Das sind genau 232 Moleküle. Das ist natürlich nicht ideal, aber es hilft uns beim Training. Gerade mit so wenigen Daten ist es schwierig, einen Autoencoder zu trainieren. Wir entfernen diese Moleküle dennoch aus dem Datensatz."
   ]
  },
  {
   "cell_type": "code",
   "execution_count": 41,
   "id": "da40f8db",
   "metadata": {
    "scrolled": true
   },
   "outputs": [
    {
     "data": {
      "text/plain": [
       "1443"
      ]
     },
     "execution_count": 41,
     "metadata": {},
     "output_type": "execute_result"
    }
   ],
   "source": [
    "filtered_smiles=np.array(filtered_smiles)[token_lengths<=26].tolist()\n",
    "len(filtered_smiles)"
   ]
  },
  {
   "cell_type": "markdown",
   "id": "1c326e3a",
   "metadata": {},
   "source": [
    "Mit den reduzierten Daten erstellen wir einen neuen Dictionary und tokenisieren unsere Daten."
   ]
  },
  {
   "cell_type": "code",
   "execution_count": 42,
   "id": "6d9ef97a",
   "metadata": {},
   "outputs": [
    {
     "data": {
      "text/plain": [
       "[[0, 12, 12, 12, 12, 12, 12, 12, 4, 11, 17, 5, 17, 12, 12, 12, 1],\n",
       " [0,\n",
       "  12,\n",
       "  12,\n",
       "  4,\n",
       "  12,\n",
       "  5,\n",
       "  11,\n",
       "  12,\n",
       "  12,\n",
       "  12,\n",
       "  12,\n",
       "  4,\n",
       "  12,\n",
       "  5,\n",
       "  12,\n",
       "  8,\n",
       "  12,\n",
       "  12,\n",
       "  12,\n",
       "  4,\n",
       "  12,\n",
       "  5,\n",
       "  12,\n",
       "  12,\n",
       "  8,\n",
       "  1],\n",
       " [0, 12, 12, 12, 12, 12, 4, 12, 5, 12, 12, 1],\n",
       " [0,\n",
       "  17,\n",
       "  11,\n",
       "  12,\n",
       "  4,\n",
       "  19,\n",
       "  17,\n",
       "  6,\n",
       "  20,\n",
       "  5,\n",
       "  12,\n",
       "  11,\n",
       "  12,\n",
       "  21,\n",
       "  8,\n",
       "  21,\n",
       "  21,\n",
       "  21,\n",
       "  4,\n",
       "  17,\n",
       "  5,\n",
       "  21,\n",
       "  21,\n",
       "  8,\n",
       "  1],\n",
       " [0,\n",
       "  17,\n",
       "  11,\n",
       "  12,\n",
       "  8,\n",
       "  12,\n",
       "  12,\n",
       "  12,\n",
       "  12,\n",
       "  12,\n",
       "  12,\n",
       "  12,\n",
       "  12,\n",
       "  12,\n",
       "  12,\n",
       "  12,\n",
       "  12,\n",
       "  12,\n",
       "  12,\n",
       "  17,\n",
       "  8,\n",
       "  1]]"
      ]
     },
     "execution_count": 42,
     "metadata": {},
     "output_type": "execute_result"
    }
   ],
   "source": [
    "dictionary = create_dict(filtered_smiles, add_tokens =True)\n",
    "tokenized_smiles = tokenize(filtered_smiles,dictionary, add_tokens =True)\n",
    "tokenized_smiles[:5]"
   ]
  },
  {
   "cell_type": "code",
   "execution_count": 43,
   "id": "a339d6c5",
   "metadata": {},
   "outputs": [
    {
     "data": {
      "text/plain": [
       "26"
      ]
     },
     "execution_count": 43,
     "metadata": {},
     "output_type": "execute_result"
    }
   ],
   "source": [
    "token_lengths = np.array([len(x) for x in tokenized_smiles])\n",
    "max_length=max(token_lengths)\n",
    "max_length"
   ]
  },
  {
   "cell_type": "markdown",
   "id": "decca5bc",
   "metadata": {},
   "source": [
    "Alle unsere Smiles bestehen nun aus maximal 26 Zeichen. In einem letzten Schritt müssen wir die Smiles, die nicht aus 26 Tokens bestehen, auf die richtige Länge bringen. Dazu verwenden wir das `<pad>`-Token."
   ]
  },
  {
   "cell_type": "code",
   "execution_count": 44,
   "id": "9b0cdfb1",
   "metadata": {},
   "outputs": [],
   "source": [
    "for i, tok_smi in enumerate(tokenized_smiles):\n",
    "    tokenized_smiles[i] = tok_smi+ [dictionary[\"<pad>\"]]*(max_length - token_lengths[i])"
   ]
  },
  {
   "cell_type": "markdown",
   "id": "f51c6cde",
   "metadata": {},
   "source": [
    "Im letzten Schritt wandeln wir die Listen der Tokens in einen `tensor` um."
   ]
  },
  {
   "cell_type": "code",
   "execution_count": 45,
   "id": "09693c16",
   "metadata": {},
   "outputs": [
    {
     "data": {
      "text/plain": [
       "tensor([[ 0, 12, 12, 12, 12, 12, 12, 12,  4, 11, 17,  5, 17, 12, 12, 12,  1,  2,\n",
       "          2,  2,  2,  2,  2,  2,  2,  2],\n",
       "        [ 0, 12, 12,  4, 12,  5, 11, 12, 12, 12, 12,  4, 12,  5, 12,  8, 12, 12,\n",
       "         12,  4, 12,  5, 12, 12,  8,  1],\n",
       "        [ 0, 12, 12, 12, 12, 12,  4, 12,  5, 12, 12,  1,  2,  2,  2,  2,  2,  2,\n",
       "          2,  2,  2,  2,  2,  2,  2,  2],\n",
       "        [ 0, 17, 11, 12,  4, 19, 17,  6, 20,  5, 12, 11, 12, 21,  8, 21, 21, 21,\n",
       "          4, 17,  5, 21, 21,  8,  1,  2],\n",
       "        [ 0, 17, 11, 12,  8, 12, 12, 12, 12, 12, 12, 12, 12, 12, 12, 12, 12, 12,\n",
       "         12, 17,  8,  1,  2,  2,  2,  2]])"
      ]
     },
     "execution_count": 45,
     "metadata": {},
     "output_type": "execute_result"
    }
   ],
   "source": [
    "tokenized_smiles=torch.tensor(tokenized_smiles, dtype=torch.long)\n",
    "tokenized_smiles[:5]"
   ]
  },
  {
   "cell_type": "markdown",
   "id": "a09c342b",
   "metadata": {},
   "source": [
    "## Modell\n",
    "\n",
    "Heute werden wir nicht `nn.Sequential`  verwenden, um unser Modell zu erstellen. Für einfache Architekturen bietet sich `nn.Sequential` an. Allerdings ist es nicht sehr flexibel. \n",
    "Deshalb werden die meisten Netzwerke in PyTorch \"von Hand\" geschrieben.\n",
    "\n",
    "Wie das gemacht wird, wollen wir uns heute ansehen:\n",
    "\n",
    "Es gibt zwei Prozesse, die ein Netzwerk in PyTorch eigentlich immer ausführen muss:\n",
    "\n",
    "1. es muss die notwendigen Weights initialisieren \n",
    "2. es muss den Input durch das Netz leiten\n",
    "\n",
    "Die Initialisierung bei `nn.Sequential()` wird automatisch bei der Erstellung des Modells durchgeführt."
   ]
  },
  {
   "cell_type": "code",
   "execution_count": 46,
   "id": "a50b88b6",
   "metadata": {},
   "outputs": [
    {
     "data": {
      "text/plain": [
       "Sequential(\n",
       "  (0): Linear(in_features=10, out_features=20, bias=True)\n",
       "  (1): ReLU()\n",
       "  (2): Dropout(p=0.2, inplace=False)\n",
       "  (3): Linear(in_features=20, out_features=1, bias=True)\n",
       ")"
      ]
     },
     "execution_count": 46,
     "metadata": {},
     "output_type": "execute_result"
    }
   ],
   "source": [
    "model = nn.Sequential(nn.Linear(10,20), nn.ReLU(), nn.Dropout(0.2), nn.Linear(20,1))\n",
    "model "
   ]
  },
  {
   "cell_type": "code",
   "execution_count": 47,
   "id": "6aa79a4a",
   "metadata": {},
   "outputs": [
    {
     "data": {
      "text/plain": [
       "Parameter containing:\n",
       "tensor([-2.6083e-01,  2.0385e-05, -1.3858e-02,  2.3586e-01, -1.9561e-01,\n",
       "         7.4813e-02, -1.8974e-01, -2.7520e-01, -6.1202e-02, -2.9723e-01,\n",
       "         1.0674e-02,  2.4670e-01,  8.5706e-02, -1.6648e-01,  2.1828e-01,\n",
       "        -1.3164e-01,  1.5726e-01,  1.3764e-01,  2.5737e-01, -1.7958e-01],\n",
       "       requires_grad=True)"
      ]
     },
     "execution_count": 47,
     "metadata": {},
     "output_type": "execute_result"
    }
   ],
   "source": [
    "list(model.parameters())[1]"
   ]
  },
  {
   "cell_type": "markdown",
   "id": "d1f1a0ab",
   "metadata": {},
   "source": [
    "Auf diese Weise haben wir unsere Netze bisher definiert. Jede Layer ist automatisch\n",
    "erstellt und die Weights zufällig initialisiert.\n",
    "\n",
    "Wir können aber auch unser eigenes Netzwerk selbst definieren.\n",
    "Dazu müssen wir eine PyTorch-Klasse erstellen. Klassen in Python sind ähnlich wie Funktionen. Nur können Klassen auch Eigenschaften und eigene Funktionen enthalten. Wir werden hier nicht auf die genauen Funktionalitäten von Klassen eingehen.\n",
    "\n",
    "Wichtig ist nur, dass wir auch Klassen erstellen können, die sich wie PyTorch-Klassen verhalten.\n",
    "Dazu schreiben wir zunächst den folgenden Code:\n",
    "\n",
    "``` python\n",
    "class einfaches_nn(nn.Module):\n",
    "```\n",
    "\n",
    "\n",
    "Damit legen wir fest, dass die Klasse `einfaches_nn` eine Klasse ist, die zu `nn.Module` gehört. Wie andere Layers oder Modelle in PyTorch sollte sie also zu `nn` gehören bzw. ähnlich funktionieren.\n",
    "\n",
    "Als nächstes kommt die Initialisierung \n",
    "\n",
    "``` python\n",
    "class einfaches_nn(nn.Module):\n",
    "    def __init__(self,input_dim, hid_dim, out_dim, dropout):\n",
    "        super().__init__()\n",
    "```\n",
    "\n",
    "`def __init__(self,input_dim, hid_dim, out_dim, dropout):` ist eine Funktion, die bei der Initialisierung des Netzes aufgerufen wird. Also zum Beispiel `model = einfaches_nn`. Automatisch wird dann ausgeführt was in der `__init__` Funktion steht. Es ist wichtig, dass neben den Dimensionen, die die Größe des Netzes bestimmen, auch ein `self` als Input angegeben wird.\n",
    "\n",
    "`self` \"enthält\" alle Informationen, die für diese Klasse gespeichert werden (sollen). Diese können auch über die Funktion hinaus benutzt werden. Das sollte in ein paar Minuten deutlicher werden.\n",
    "\n",
    "`super().__init__()` ist Teil des Codes der wichtig für PyTorch Klassen ist. Dieser Teil darf nicht in der Initialisierung fehlen.\n",
    "\n",
    "Als Nächstes können wir unsere linear Layers und Dropout in `self` \"speichern\":\n",
    "\n",
    "``` python\n",
    "class einfaches_nn(nn.Module):\n",
    "    def __init__(self,input_dim, hid_dim, out_dim, dropout):\n",
    "        super().__init__()\n",
    "        \n",
    "        self.ln1 = nn.Linear(input_dim, hid_dim)\n",
    "        self.ln2 = nn.Linear(hid_dim, out_dim)\n",
    "        self.dropout = nn.Dropout(dropout)\n",
    "```\n",
    "\n",
    "`self.ln1 = nn.Linear(input_dim, hid_dim)` erlaubt es uns, später in andere Funktionen die erste linear Layer mit `self.ln1` auszuwählen"
   ]
  },
  {
   "cell_type": "code",
   "execution_count": 48,
   "id": "f9a67e7d",
   "metadata": {},
   "outputs": [],
   "source": [
    "class einfaches_nn(nn.Module):\n",
    "    def __init__(self,input_dim, hid_dim, out_dim, dropout):\n",
    "        super().__init__()\n",
    "        \n",
    "        self.ln1 = nn.Linear(input_dim, hid_dim)\n",
    "        self.ln2 = nn.Linear(hid_dim, out_dim)\n",
    "        self.dropout = nn.Dropout(dropout)"
   ]
  },
  {
   "cell_type": "code",
   "execution_count": 49,
   "id": "84193b3a",
   "metadata": {
    "scrolled": true
   },
   "outputs": [
    {
     "data": {
      "text/plain": [
       "einfaches_nn(\n",
       "  (ln1): Linear(in_features=10, out_features=20, bias=True)\n",
       "  (ln2): Linear(in_features=20, out_features=1, bias=True)\n",
       "  (dropout): Dropout(p=0.2, inplace=False)\n",
       ")"
      ]
     },
     "execution_count": 49,
     "metadata": {},
     "output_type": "execute_result"
    }
   ],
   "source": [
    "model_2 = einfaches_nn(input_dim=10,hid_dim= 20, out_dim=1, dropout=0.2)\n",
    "model_2"
   ]
  },
  {
   "cell_type": "markdown",
   "id": "59106e34",
   "metadata": {},
   "source": [
    "Wir können sehen, dass das Netz auch aus den richtigen Layers besteht, aber in der falschen Reihenfolge. Auch die ReLU-Funktion fehlt. Das ist bisher nicht weiter schlimm, denn die Funktion `__init__` soll das Modell nur initialisieren, also nur die Schichten und deren Weights erzeugen. ReLU hat keine Gewichte und muss daher nicht \"initialisiert\" werden.\n",
    "\n",
    "Hier ist auch der Beweis, dass das Netzwerk `Modell_2` jetzt zufällige Weights hat."
   ]
  },
  {
   "cell_type": "code",
   "execution_count": 50,
   "id": "afb4981a",
   "metadata": {
    "scrolled": true
   },
   "outputs": [
    {
     "data": {
      "text/plain": [
       "Parameter containing:\n",
       "tensor([-0.1202,  0.1244,  0.2792, -0.2712, -0.0346,  0.2850, -0.0562,  0.1046,\n",
       "        -0.0752,  0.0883,  0.0926,  0.3031,  0.1031,  0.1778, -0.1059,  0.1877,\n",
       "        -0.1116, -0.1704, -0.3053, -0.2570], requires_grad=True)"
      ]
     },
     "execution_count": 50,
     "metadata": {},
     "output_type": "execute_result"
    }
   ],
   "source": [
    "list(model_2.parameters())[1]"
   ]
  },
  {
   "cell_type": "markdown",
   "id": "06f22545",
   "metadata": {},
   "source": [
    "Wir können auch probieren, ob die Model von einem Input (`fake_input` enthält zufällige Zahlen) einen Output generieren kann."
   ]
  },
  {
   "cell_type": "code",
   "execution_count": 51,
   "id": "cac8d09f",
   "metadata": {},
   "outputs": [
    {
     "data": {
      "text/plain": [
       "tensor([0.0257], grad_fn=<AddBackward0>)"
      ]
     },
     "execution_count": 51,
     "metadata": {},
     "output_type": "execute_result"
    }
   ],
   "source": [
    "fake_input = (torch.rand(10))\n",
    "\n",
    "model(fake_input)"
   ]
  },
  {
   "cell_type": "markdown",
   "id": "8358ba25",
   "metadata": {},
   "source": [
    "Für das `nn.Sequential` Modell kein Problem."
   ]
  },
  {
   "cell_type": "code",
   "execution_count": 52,
   "id": "75736a60",
   "metadata": {},
   "outputs": [
    {
     "ename": "NotImplementedError",
     "evalue": "",
     "output_type": "error",
     "traceback": [
      "\u001b[1;31m---------------------------------------------------------------------------\u001b[0m",
      "\u001b[1;31mNotImplementedError\u001b[0m                       Traceback (most recent call last)",
      "\u001b[1;32m~\\AppData\\Local\\Temp/ipykernel_16884/402145498.py\u001b[0m in \u001b[0;36m<module>\u001b[1;34m\u001b[0m\n\u001b[0;32m      1\u001b[0m \u001b[0mfake_input\u001b[0m \u001b[1;33m=\u001b[0m \u001b[1;33m(\u001b[0m\u001b[0mtorch\u001b[0m\u001b[1;33m.\u001b[0m\u001b[0mrand\u001b[0m\u001b[1;33m(\u001b[0m\u001b[1;36m10\u001b[0m\u001b[1;33m)\u001b[0m\u001b[1;33m)\u001b[0m\u001b[1;33m\u001b[0m\u001b[1;33m\u001b[0m\u001b[0m\n\u001b[0;32m      2\u001b[0m \u001b[1;33m\u001b[0m\u001b[0m\n\u001b[1;32m----> 3\u001b[1;33m \u001b[0mmodel_2\u001b[0m\u001b[1;33m(\u001b[0m\u001b[0mfake_input\u001b[0m\u001b[1;33m)\u001b[0m\u001b[1;33m\u001b[0m\u001b[1;33m\u001b[0m\u001b[0m\n\u001b[0m",
      "\u001b[1;32m~\\anaconda3\\envs\\intro_kiv2\\lib\\site-packages\\torch\\nn\\modules\\module.py\u001b[0m in \u001b[0;36m_call_impl\u001b[1;34m(self, *input, **kwargs)\u001b[0m\n\u001b[0;32m   1049\u001b[0m         if not (self._backward_hooks or self._forward_hooks or self._forward_pre_hooks or _global_backward_hooks\n\u001b[0;32m   1050\u001b[0m                 or _global_forward_hooks or _global_forward_pre_hooks):\n\u001b[1;32m-> 1051\u001b[1;33m             \u001b[1;32mreturn\u001b[0m \u001b[0mforward_call\u001b[0m\u001b[1;33m(\u001b[0m\u001b[1;33m*\u001b[0m\u001b[0minput\u001b[0m\u001b[1;33m,\u001b[0m \u001b[1;33m**\u001b[0m\u001b[0mkwargs\u001b[0m\u001b[1;33m)\u001b[0m\u001b[1;33m\u001b[0m\u001b[1;33m\u001b[0m\u001b[0m\n\u001b[0m\u001b[0;32m   1052\u001b[0m         \u001b[1;31m# Do not call functions when jit is used\u001b[0m\u001b[1;33m\u001b[0m\u001b[1;33m\u001b[0m\u001b[1;33m\u001b[0m\u001b[0m\n\u001b[0;32m   1053\u001b[0m         \u001b[0mfull_backward_hooks\u001b[0m\u001b[1;33m,\u001b[0m \u001b[0mnon_full_backward_hooks\u001b[0m \u001b[1;33m=\u001b[0m \u001b[1;33m[\u001b[0m\u001b[1;33m]\u001b[0m\u001b[1;33m,\u001b[0m \u001b[1;33m[\u001b[0m\u001b[1;33m]\u001b[0m\u001b[1;33m\u001b[0m\u001b[1;33m\u001b[0m\u001b[0m\n",
      "\u001b[1;32m~\\anaconda3\\envs\\intro_kiv2\\lib\\site-packages\\torch\\nn\\modules\\module.py\u001b[0m in \u001b[0;36m_forward_unimplemented\u001b[1;34m(self, *input)\u001b[0m\n\u001b[0;32m    199\u001b[0m         \u001b[0mregistered\u001b[0m \u001b[0mhooks\u001b[0m \u001b[1;32mwhile\u001b[0m \u001b[0mthe\u001b[0m \u001b[0mlatter\u001b[0m \u001b[0msilently\u001b[0m \u001b[0mignores\u001b[0m \u001b[0mthem\u001b[0m\u001b[1;33m.\u001b[0m\u001b[1;33m\u001b[0m\u001b[1;33m\u001b[0m\u001b[0m\n\u001b[0;32m    200\u001b[0m     \"\"\"\n\u001b[1;32m--> 201\u001b[1;33m     \u001b[1;32mraise\u001b[0m \u001b[0mNotImplementedError\u001b[0m\u001b[1;33m\u001b[0m\u001b[1;33m\u001b[0m\u001b[0m\n\u001b[0m\u001b[0;32m    202\u001b[0m \u001b[1;33m\u001b[0m\u001b[0m\n\u001b[0;32m    203\u001b[0m \u001b[1;33m\u001b[0m\u001b[0m\n",
      "\u001b[1;31mNotImplementedError\u001b[0m: "
     ]
    }
   ],
   "source": [
    "fake_input = (torch.rand(10))\n",
    "\n",
    "model_2(fake_input)"
   ]
  },
  {
   "cell_type": "markdown",
   "id": "86e2818a",
   "metadata": {},
   "source": [
    "Der Fehler \n",
    "```python\n",
    "raise NotImplementedError\n",
    "```\n",
    "wird ausgegeben. Das bedeutet, dass wir diesen Teil des Modells noch nicht implementiert haben, d.h. wir haben ihn noch nicht in der Klasse definiert.\n",
    "\n",
    "Bis jetzt kann `simple_nn` nur die Weights initialisieren. Aber es weiß noch nicht, wie es die Inputs durch das Netz leiten soll.\n",
    "In `nn.Sequential` wird dies automatisch gemacht. Der Input wird einfach nacheinander durch die Layer geleitet. Die Reihenfolge ergibt sich aus der Reihenfolge dieser Layers bei der Initialisierung. \n",
    "\n",
    "Damit das für unsere eigene Klasse funktioniert, benötigen wir eine weitere Funktion namens \n",
    "\n",
    "```python\n",
    "def forward(self, x):\n",
    "```\n",
    "`forward` ist, wie der Name andeutet, für die Forward Propagation zuständig. Es legt fest in welcher Reihnfolge Input `x` durch die zuvor definierten Layers geführt wird.\n",
    "Es ist auch wichtig zu beachten, dass `self` ein weiterer Input neben `x` ist. `self` enthält alle Informationen, die wir bereits in `__ìnit__` definiert haben.\n",
    "\n",
    "```python\n",
    "class einfaches_nn(nn.Module):\n",
    "    def __init__(self,input_dim, hid_dim, out_dim, dropout):\n",
    "        super().__init__()\n",
    "        \n",
    "        self.ln1 = nn.Linear(input_dim, hid_dim)\n",
    "        self.ln2 = nn.Linear(hid_dim, out_dim)\n",
    "        self.dropout = nn.Dropout(dropout)\n",
    "    \n",
    "    def forward(self,x):\n",
    "        x = self.ln1(x)\n",
    "        x = self.dropout(x)\n",
    "        x = nn.functional.relu(x)\n",
    "        output = self.ln2(x)\n",
    "        return output\n",
    "```\n",
    "\n",
    "\n",
    "Hier geben wir Schritt für Schritt an, was mit dem ursprünglichen Input passieren soll. Im ersten Schritt wird `x` durch die erste lineare Layer geführt. Diese wurde in `self.ln1` gespeichert. Nur für die Aktivierungsfunktion brauchen wir `self` nicht, da diese auch nicht initialisiert wurde.\n",
    "\n",
    "---\n",
    "**Wichtig ist auch, dass wir jetzt nicht mehr** `nn.ReLU` **verwenden können, sondern wir müssen** `.nn.functional.relu()` **benutzen.**\n",
    "\n",
    "---"
   ]
  },
  {
   "cell_type": "code",
   "execution_count": 53,
   "id": "ad426321",
   "metadata": {},
   "outputs": [
    {
     "data": {
      "text/plain": [
       "einfaches_nn(\n",
       "  (ln1): Linear(in_features=10, out_features=20, bias=True)\n",
       "  (ln2): Linear(in_features=20, out_features=1, bias=True)\n",
       "  (dropout): Dropout(p=0.2, inplace=False)\n",
       ")"
      ]
     },
     "execution_count": 53,
     "metadata": {},
     "output_type": "execute_result"
    }
   ],
   "source": [
    "class einfaches_nn(nn.Module):\n",
    "    def __init__(self,input_dim, hid_dim, out_dim, dropout):\n",
    "        super().__init__()\n",
    "        \n",
    "        self.ln1 = nn.Linear(input_dim, hid_dim)\n",
    "        self.ln2 = nn.Linear(hid_dim, out_dim)\n",
    "        self.dropout = nn.Dropout(dropout)\n",
    "    \n",
    "    def forward(self,x):\n",
    "        x = self.ln1(x)\n",
    "        x = self.dropout(x)\n",
    "        x = nn.functional.relu(x)\n",
    "        output = self.ln2(x)\n",
    "        return output\n",
    "    \n",
    "model_2 = einfaches_nn(input_dim=10,hid_dim= 20, out_dim=1, dropout=0.2)\n",
    "model_2    "
   ]
  },
  {
   "cell_type": "markdown",
   "id": "c39badb3",
   "metadata": {},
   "source": [
    "An der Initialisierung hat sich nichts geändert, aber wir können jetzt Input durch das Netzwerk führen."
   ]
  },
  {
   "cell_type": "code",
   "execution_count": 54,
   "id": "5758b0a1",
   "metadata": {},
   "outputs": [
    {
     "data": {
      "text/plain": [
       "tensor([0.3301], grad_fn=<AddBackward0>)"
      ]
     },
     "execution_count": 54,
     "metadata": {},
     "output_type": "execute_result"
    }
   ],
   "source": [
    "model_2(fake_input)"
   ]
  },
  {
   "cell_type": "markdown",
   "id": "b7113cf5",
   "metadata": {},
   "source": [
    "Wir können also komplexere Netzwerke designen, die nicht nur einen Input haben."
   ]
  },
  {
   "cell_type": "markdown",
   "id": "300c968a",
   "metadata": {},
   "source": [
    "## Encoder\n",
    "\n",
    "Nun zurück zu unserem Autoencoder.\n",
    "Zuerst definieren wir den Encoder.\n",
    "Wir haben eine `nn.Embedding` Layer und eine `nn.GRU` Layer. Der Encoder ist genau so aufgebaut wie das RNN im letzten Notebook, nur dass wir das Netzwerk hier explizit selbst schreiben.\n",
    "\n",
    "Sehen Sie sich die Funktion `forward` an. Als Input nimmt sie eine `input_seq`, das ist eine Folge von Tokens. Die Output ist der letzte `hidden` State des Netzes. Dieser beschreibt den komplette Smiles und ist gleichzeitig unser latenter Vektor."
   ]
  },
  {
   "cell_type": "code",
   "execution_count": 55,
   "id": "db0275fc",
   "metadata": {},
   "outputs": [],
   "source": [
    "class Encoder(nn.Module):\n",
    "    def __init__(self, input_dim, emb_dim, hid_dim, dropout):\n",
    "        super().__init__()\n",
    "        self.hid_dim = hid_dim \n",
    "        self.embedding = nn.Embedding(input_dim, emb_dim) \n",
    "        self.rnn = nn.GRU(emb_dim, hid_dim)\n",
    "        self.dropout = nn.Dropout(dropout)\n",
    "        \n",
    "    def forward(self, input_seq):\n",
    "        embedded = self.dropout(self.embedding(input_seq))\n",
    "        outputs, hidden = self.rnn(embedded) \n",
    "        return hidden\n",
    "    "
   ]
  },
  {
   "cell_type": "markdown",
   "id": "017de72c",
   "metadata": {},
   "source": [
    "## Decoder \n",
    "\n",
    "Der Decoder ist schon etwas komplexer.  Wenn Sie nicht den gesamten Code verstehen, ist das in Ordnung. Solange Sie dem allgemeinen Konzept folgen können.\n",
    "Wieder haben wir eine `Embedding` Layer und eine `GRU` Layer, zusätzlich gibt es noch eine Linear Layer. Diese bestimmt anhand des Hidden States welcher Token generiert werden soll.\n",
    "\n",
    "Im `forward` Pass gibt es zwei Inputs. Einmal den `input`, das ist der letzte Token, der vorhergesagt wurde. Am Anfang ist das der`<sos>` Token. `hidden` ist der Hidden State des `GRU` aus dem vorherigen Schritt.\n",
    "`forward` gibt sowohl die `prediction`, der vorhergesagte Token, als auch `hidden`, den neuen Hidden State, aus."
   ]
  },
  {
   "cell_type": "code",
   "execution_count": 56,
   "id": "9bea1239",
   "metadata": {},
   "outputs": [],
   "source": [
    "class Decoder(nn.Module):\n",
    "    def __init__(self, output_dim, emb_dim, hid_dim, dropout):\n",
    "        super().__init__()\n",
    "\n",
    "        self.hid_dim = hid_dim\n",
    "        self.output_dim = output_dim\n",
    "        \n",
    "        self.embedding = nn.Embedding(output_dim, emb_dim)\n",
    "        self.rnn = nn.GRU(emb_dim, hid_dim)\n",
    "        self.fc_out = nn.Linear(hid_dim, output_dim)\n",
    "        self.dropout = nn.Dropout(dropout)\n",
    "        \n",
    "    def forward(self, input, hidden):\n",
    "        \n",
    "        input = input.unsqueeze(0)\n",
    "        \n",
    "        embedded = self.dropout(self.embedding(input))\n",
    "        output, hidden = self.rnn(embedded, hidden)\n",
    "        prediction = self.fc_out(output[0])\n",
    "        \n",
    "        return prediction, hidden"
   ]
  },
  {
   "cell_type": "markdown",
   "id": "78160a22",
   "metadata": {},
   "source": [
    "Schließlich führen wir beide Komponenten in einem `Autoencoder` zusammen. Als Input nimmt dieses Modell einen Decoder und einen Encoder.  Der Autoencoder hat auch seinen eigenen `forward` Pass. Zunächst wird der Input durch den Encoder geschickt. Der Encoder gibt uns den Hidden State `hidden`. Dieser Hidden State wird dann einmal zu Beginn des `for-loops` für den Decoder verwendet. Außerdem nehmen wir die erste Zeile von `output_seq` als erste Input für den Decoder. Diese Zeile besteht aus den `<sos>`-Tokens.\n",
    "\n",
    "Wir verwenden auch Teacher Forcing. Teacher Forcing wird beim Training verwendet, um es dem Decoder zu erleichtern, den vollständigen Smiles wiederherzustellen. Wenn der Decoder einen falschen Token am Anfang eines Smiles vorschlägt, muss der Decoder mit diesem falschen Token als Input  weiterrechnen. Dies kann vor allem zu Beginn des Trainings ein Problem darstellen, da hier viele Fehler gemacht werden. Durch Teacherforcing wird der vorhergesagten Token durch den richtigen Token ersetzt. So kann der Decoder mit dem richtigen Token weiterrechnen. Bei der Evaluierung wird das Teacher-Forcing dann ausgeschaltet. "
   ]
  },
  {
   "cell_type": "code",
   "execution_count": 72,
   "id": "d164a5aa",
   "metadata": {},
   "outputs": [],
   "source": [
    "  \n",
    "class Autoencoder(nn.Module):\n",
    "    def __init__(self, encoder, decoder):\n",
    "        super().__init__()\n",
    "        \n",
    "        self.encoder = encoder\n",
    "        self.decoder = decoder\n",
    "\n",
    "        \n",
    "    def forward(self, input_seq, output_seq, teacher_forcing_ratio = 0.5):\n",
    "        \n",
    "        # speichern von Parametern\n",
    "        batch_size = output_seq.shape[1]\n",
    "        trg_len = output_seq.shape[0]\n",
    "        trg_vocab_size = self.decoder.output_dim\n",
    "        outputs = torch.zeros(trg_len, batch_size, trg_vocab_size)\n",
    "        \n",
    "        \n",
    "        # Eigentlicher Forward Pass\n",
    "        \n",
    "        # Der Encoder berechnet den Hidden State/Latent Vector\n",
    "        hidden = self.encoder(input_seq)\n",
    "        \n",
    "        # Als initialen Input für den Decoder wählen wir die <sos> Tokens aus\n",
    "        input = output_seq[0,:]\n",
    "        \n",
    "        # Der for-loop wird benutzt, um nacheinander die Tokens zu generieren.\n",
    "        for t in range(1, trg_len):\n",
    "\n",
    "            output, hidden = self.decoder(input, hidden)\n",
    "            outputs[t] = output\n",
    "            teacher_force = random.random() < teacher_forcing_ratio\n",
    "\n",
    "            top1 = output.argmax(1) \n",
    "\n",
    "            input = output_seq[t] if teacher_force else top1\n",
    "\n",
    "        return outputs"
   ]
  },
  {
   "cell_type": "markdown",
   "id": "ef7c8ed2",
   "metadata": {},
   "source": [
    "Wie gegesagt, es ist okay wenn Sie in diesem Fall nicht alles verstehen."
   ]
  },
  {
   "cell_type": "markdown",
   "id": "966af5d2",
   "metadata": {},
   "source": [
    "Zunächst müssen wir unser Model definieren."
   ]
  },
  {
   "cell_type": "code",
   "execution_count": 73,
   "id": "34add64c",
   "metadata": {
    "scrolled": true
   },
   "outputs": [
    {
     "data": {
      "text/plain": [
       "Autoencoder(\n",
       "  (encoder): Encoder(\n",
       "    (embedding): Embedding(25, 128)\n",
       "    (rnn): GRU(128, 256)\n",
       "    (dropout): Dropout(p=0.2, inplace=False)\n",
       "  )\n",
       "  (decoder): Decoder(\n",
       "    (embedding): Embedding(25, 128)\n",
       "    (rnn): GRU(128, 256)\n",
       "    (fc_out): Linear(in_features=256, out_features=25, bias=True)\n",
       "    (dropout): Dropout(p=0.2, inplace=False)\n",
       "  )\n",
       ")"
      ]
     },
     "execution_count": 73,
     "metadata": {},
     "output_type": "execute_result"
    }
   ],
   "source": [
    "torch.manual_seed(1234)\n",
    "enc = Encoder(len(dictionary), 128, 256, 0.2)\n",
    "dec = Decoder(len(dictionary),128,256,0.2)\n",
    "model = Autoencoder(enc, dec)\n",
    "model"
   ]
  },
  {
   "cell_type": "markdown",
   "id": "a92b2133",
   "metadata": {},
   "source": [
    "Man kann deutlich die verschiedenen Komponenten des Autoencoders sehen.\n",
    "Wir erstellen auch noch einen `DataLoader`. Dieser nimmt als $x$ und $y$ die gleiche Sequenz, da wir einen Autoencoder trainieren wollen. Außerdem speichern wir einen Beispielbatch `ex_in` und `ex_out`.\n",
    "\n",
    "Da wir so wenig Daten haben, verwenden wir keinen Testdatensatz."
   ]
  },
  {
   "cell_type": "code",
   "execution_count": 74,
   "id": "2c5b32f7",
   "metadata": {},
   "outputs": [],
   "source": [
    "train_dataset = TensorDataset(tokenized_smiles, tokenized_smiles)\n",
    "train_loader = DataLoader(train_dataset, batch_size=16, shuffle=False)\n",
    "ex_in = ex_out = tokenized_smiles[:16,:]"
   ]
  },
  {
   "cell_type": "markdown",
   "id": "483d8fa3",
   "metadata": {},
   "source": [
    "Wir definieren unseren Optimizer und unsere Lossfunktion. Hier können wir auch angeben, dass der Index `2` bei der Berechnung des Loss ignoriert werden soll. Dies ist der Index für den `<pad>` Token. Und dieser ist für die Vorhersage nicht wichtig."
   ]
  },
  {
   "cell_type": "code",
   "execution_count": 75,
   "id": "e43e39a7",
   "metadata": {},
   "outputs": [],
   "source": [
    "optimizer = optim.Adam(model.parameters())\n",
    "criterion = nn.CrossEntropyLoss(ignore_index = 2)"
   ]
  },
  {
   "cell_type": "markdown",
   "id": "325b2f2c",
   "metadata": {},
   "source": [
    "Der letzte Schritt ist der Trainingsloop. Dieser ist ein normaler `for-loop`, aber wir verwenden die Transponierung der `input_seq` und der `output_seq`. Denn so gehen die Funktionen der Netze leichter ineinander über. \n",
    "\n",
    "Im Trainingsloop selbst wird die Qualität der generierten Smiles alle 5 Epochen bewertet. Es wird betwertet wie viele Smiles sind gültig und wie viele Smiles sind tatsächloch identisch mit dem Input.\n",
    "\n",
    "Dies geschieht durch die Funktion `evaluate()`, die für Sie vorgeschrieben wurde."
   ]
  },
  {
   "cell_type": "code",
   "execution_count": 76,
   "id": "8a2fac53",
   "metadata": {
    "scrolled": true
   },
   "outputs": [
    {
     "name": "stdout",
     "output_type": "stream",
     "text": [
      "Epoch 0: Loss: 1.8249785284419635 % Valid: 0.69 % Correct: 0.0 \n",
      "Epoch 1: Loss: 1.450405478477478\n",
      "Epoch 2: Loss: 1.2465889984434777\n",
      "Epoch 3: Loss: 1.0798736594535492\n",
      "Epoch 4: Loss: 0.9573713213532835\n",
      "Epoch 5: Loss: 0.8667241688613053 % Valid: 0.55 % Correct: 0.08 \n",
      "Epoch 6: Loss: 0.8410404180432414\n",
      "Epoch 7: Loss: 0.7773370618348593\n",
      "Epoch 8: Loss: 0.7207541259435507\n",
      "Epoch 9: Loss: 0.6542004916694139\n",
      "Epoch 10: Loss: 0.6677825902844523 % Valid: 0.59 % Correct: 0.19 \n",
      "Epoch 11: Loss: 0.6034839680561652\n",
      "Epoch 12: Loss: 0.6061458662971035\n",
      "Epoch 13: Loss: 0.5679912531113886\n",
      "Epoch 14: Loss: 0.5356593823039925\n",
      "Epoch 15: Loss: 0.5235887854308873 % Valid: 0.64 % Correct: 0.36 \n",
      "Epoch 16: Loss: 0.5096707740327814\n",
      "Epoch 17: Loss: 0.456692826289397\n",
      "Epoch 18: Loss: 0.5118140254046891\n",
      "Epoch 19: Loss: 0.44956426387959786\n",
      "Epoch 20: Loss: 0.37902350903867366 % Valid: 0.74 % Correct: 0.45 \n",
      "Epoch 21: Loss: 0.4057903993915726\n",
      "Epoch 22: Loss: 0.3874324537240542\n",
      "Epoch 23: Loss: 0.46771246849835574\n",
      "Epoch 24: Loss: 0.3405993281157462\n",
      "Epoch 25: Loss: 0.3511250166447608 % Valid: 0.76 % Correct: 0.51 \n",
      "Epoch 26: Loss: 0.34027584470235384\n",
      "Epoch 27: Loss: 0.33830472564959263\n",
      "Epoch 28: Loss: 0.3564795304785718\n",
      "Epoch 29: Loss: 0.3081579475284933\n",
      "Epoch 30: Loss: 0.32175733943234436 % Valid: 0.82 % Correct: 0.57 \n",
      "Epoch 31: Loss: 0.30604827387647315\n",
      "Epoch 32: Loss: 0.27888228932579795\n",
      "Epoch 33: Loss: 0.2905121949184072\n",
      "Epoch 34: Loss: 0.29753699874157435\n",
      "Epoch 35: Loss: 0.31829155359294387 % Valid: 0.77 % Correct: 0.63 \n",
      "Epoch 36: Loss: 0.2485962073308426\n",
      "Epoch 37: Loss: 0.24503635213925287\n",
      "Epoch 38: Loss: 0.24470763612579513\n",
      "Epoch 39: Loss: 0.23075371055485128\n",
      "Epoch 40: Loss: 0.33645901517881144 % Valid: 0.8 % Correct: 0.58 \n",
      "Epoch 41: Loss: 0.2522841441434818\n",
      "Epoch 42: Loss: 0.22430790936226372\n",
      "Epoch 43: Loss: 0.20887264249089\n",
      "Epoch 44: Loss: 0.2483969690626139\n",
      "Epoch 45: Loss: 0.18701794600257507 % Valid: 0.89 % Correct: 0.74 \n",
      "Epoch 46: Loss: 0.1719084150557007\n",
      "Epoch 47: Loss: 0.17552630541907563\n",
      "Epoch 48: Loss: 0.17904551515539924\n",
      "Epoch 49: Loss: 0.2238561524139656\n",
      "Epoch 50: Loss: 0.21955180913209915 % Valid: 0.84 % Correct: 0.66 \n",
      "Epoch 51: Loss: 0.18530964888222926\n",
      "Epoch 52: Loss: 0.19182222168687935\n",
      "Epoch 53: Loss: 0.20933033304882573\n",
      "Epoch 54: Loss: 0.1865923096640752\n",
      "Epoch 55: Loss: 0.16999037469645123 % Valid: 0.91 % Correct: 0.79 \n",
      "Epoch 56: Loss: 0.1383597788165559\n",
      "Epoch 57: Loss: 0.15910597430071333\n",
      "Epoch 58: Loss: 0.176619603902429\n",
      "Epoch 59: Loss: 0.13564952761753574\n",
      "Epoch 60: Loss: 0.17721466738525982 % Valid: 0.87 % Correct: 0.68 \n",
      "Epoch 61: Loss: 0.20016165153420235\n",
      "Epoch 62: Loss: 0.11547141435177444\n",
      "Epoch 63: Loss: 0.11403458033289228\n",
      "Epoch 64: Loss: 0.11730332285738908\n",
      "Epoch 65: Loss: 0.1418248536167564 % Valid: 0.93 % Correct: 0.78 \n",
      "Epoch 66: Loss: 0.13476906940955055\n",
      "Epoch 67: Loss: 0.12704709999181413\n",
      "Epoch 68: Loss: 0.09340437485294027\n",
      "Epoch 69: Loss: 0.07570964442873067\n",
      "Epoch 70: Loss: 0.1046281427881875 % Valid: 0.94 % Correct: 0.84 \n",
      "Epoch 71: Loss: 0.09211347736213561\n",
      "Epoch 72: Loss: 0.10889842507562467\n",
      "Epoch 73: Loss: 0.14299965246611243\n",
      "Epoch 74: Loss: 0.1627046923142868\n",
      "Epoch 75: Loss: 0.13999885906066215 % Valid: 0.89 % Correct: 0.77 \n",
      "Epoch 76: Loss: 0.14192635658104996\n",
      "Epoch 77: Loss: 0.10132245596621063\n",
      "Epoch 78: Loss: 0.08641372628223437\n",
      "Epoch 79: Loss: 0.07495948201516173\n",
      "Epoch 80: Loss: 0.07562525886632912 % Valid: 0.97 % Correct: 0.88 \n",
      "Epoch 81: Loss: 0.09768791891798213\n",
      "Epoch 82: Loss: 0.11710517864756204\n",
      "Epoch 83: Loss: 0.11194716632407117\n",
      "Epoch 84: Loss: 0.13005299338108892\n",
      "Epoch 85: Loss: 0.13923247201511493 % Valid: 0.94 % Correct: 0.8 \n",
      "Epoch 86: Loss: 0.16814954153129033\n",
      "Epoch 87: Loss: 0.1369784976468309\n",
      "Epoch 88: Loss: 0.09057575876691512\n",
      "Epoch 89: Loss: 0.05247990651936321\n",
      "Epoch 90: Loss: 0.050181245881613795 % Valid: 0.99 % Correct: 0.92 \n",
      "Epoch 91: Loss: 0.044679359875742224\n",
      "Epoch 92: Loss: 0.044211120170715094\n",
      "Epoch 93: Loss: 0.07194683354368413\n",
      "Epoch 94: Loss: 0.09140305943623349\n",
      "Epoch 95: Loss: 0.0886518336464088 % Valid: 0.98 % Correct: 0.92 \n",
      "Epoch 96: Loss: 0.08505488046352844\n",
      "Epoch 97: Loss: 0.14161144551094418\n",
      "Epoch 98: Loss: 0.1451860053853674\n",
      "Epoch 99: Loss: 0.10404917917081288\n"
     ]
    }
   ],
   "source": [
    "random.seed(1234)\n",
    "for epoch in range(100):\n",
    "    epoch_loss = 0\n",
    "\n",
    "    model.train()\n",
    "    for input_seq, output_seq in train_loader:\n",
    "        optimizer.zero_grad()        \n",
    "        \n",
    "        input_seq = input_seq.t()\n",
    "        output_seq = output_seq.t()\n",
    "\n",
    "\n",
    "        output = model(input_seq, output_seq, 0.2)\n",
    "        \n",
    "        \n",
    "        output_dim = output.shape[-1]\n",
    "        output = output[1:].reshape(-1, output_dim)\n",
    "        output_seq =  output_seq[1:].reshape(-1)\n",
    "        \n",
    "        loss = criterion(output,  output_seq)\n",
    "\n",
    "        loss.backward()\n",
    "\n",
    "        optimizer.step()\n",
    "\n",
    "        epoch_loss += loss.item()\n",
    "    if (epoch%5==0):\n",
    "        valid, correct=evaluate(model, train_loader, dictionary)\n",
    "        print(f\"Epoch {epoch}: Loss: {epoch_loss /len(train_loader)} % Valid: {valid.round(2)} % Correct: {correct.round(2)} \")\n",
    "    else:\n",
    "        print(f\"Epoch {epoch}: Loss: {epoch_loss /len(train_loader)}\")\n",
    "    "
   ]
  },
  {
   "cell_type": "markdown",
   "id": "22fca008",
   "metadata": {},
   "source": [
    "Jetzt können wir schauen, wie gut unser Model wirklich ist. Während des Trainings benutzen wir immer noch Teacher Forcing. Das wird während der Evaluierung ausgeschaltet."
   ]
  },
  {
   "cell_type": "code",
   "execution_count": 78,
   "id": "f0e4a117",
   "metadata": {},
   "outputs": [
    {
     "data": {
      "text/plain": [
       "(0.9690934065934066, 0.9004120879120879)"
      ]
     },
     "execution_count": 78,
     "metadata": {},
     "output_type": "execute_result"
    }
   ],
   "source": [
    "evaluate(model,train_loader, dictionary)"
   ]
  },
  {
   "cell_type": "markdown",
   "id": "e06fcdcb",
   "metadata": {},
   "source": [
    "Unser Autoencoder generiert  tatsächlich valide Smiles. Viele der generierten Smiles sind auch tatsächlich identisch zu den Inputsmiles.\n",
    "\n",
    "Autoencoder sind schwierig zu trainieren, besonders für Sprachen oder auch Smiles. Die Grammatik von Smiles muss erst erlernt werden. Dafür brauch es eigentlich viel mehr Daten. Darüber hinaus, benutzen wir ein sehr simples Model. Trotzdem können wir und das Netzwerk ein wenig genauer anschauen.\n",
    "\n",
    "Wir können uns zum Beispiel die Vorhersagen für unseren `ex_in` Batch anschauen."
   ]
  },
  {
   "cell_type": "markdown",
   "id": "c0d800d8",
   "metadata": {},
   "source": [
    "Wir lassen uns die vorhergesagten Token für die ersten beide Smiles im Batch aus. "
   ]
  },
  {
   "cell_type": "code",
   "execution_count": 79,
   "id": "cdc0f177",
   "metadata": {
    "scrolled": false
   },
   "outputs": [
    {
     "data": {
      "text/plain": [
       "array([[ 0, 12, 12, 12, 12, 12, 12, 12,  4, 11, 17,  5, 17, 12, 12, 12,\n",
       "         1,  1,  1,  1,  1,  1,  1,  1,  1,  1],\n",
       "       [ 0, 12, 12,  4, 12,  5, 11, 12, 12, 12, 12,  4, 12,  5, 12,  8,\n",
       "        12, 12, 12,  4, 12,  5, 12, 12,  8,  1]], dtype=int64)"
      ]
     },
     "execution_count": 79,
     "metadata": {},
     "output_type": "execute_result"
    }
   ],
   "source": [
    "model.eval()\n",
    "pred = model(ex_in.t(), ex_out.t(), 0)\n",
    "pred_tokens =pred.argmax(2).t().detach().numpy()\n",
    "\n",
    "pred_tokens[:2]"
   ]
  },
  {
   "cell_type": "markdown",
   "id": "6254adc7",
   "metadata": {},
   "source": [
    "Zum Vergleich, die Originaldaten:"
   ]
  },
  {
   "cell_type": "code",
   "execution_count": 80,
   "id": "a64b3736",
   "metadata": {
    "scrolled": true
   },
   "outputs": [
    {
     "data": {
      "text/plain": [
       "tensor([[ 0, 12, 12, 12, 12, 12, 12, 12,  4, 11, 17,  5, 17, 12, 12, 12,  1,  2,\n",
       "          2,  2,  2,  2,  2,  2,  2,  2],\n",
       "        [ 0, 12, 12,  4, 12,  5, 11, 12, 12, 12, 12,  4, 12,  5, 12,  8, 12, 12,\n",
       "         12,  4, 12,  5, 12, 12,  8,  1]])"
      ]
     },
     "execution_count": 80,
     "metadata": {},
     "output_type": "execute_result"
    }
   ],
   "source": [
    "ex_out[:2]"
   ]
  },
  {
   "cell_type": "markdown",
   "id": "fd843bf7",
   "metadata": {},
   "source": [
    "Die Funktion `token_to_smiles` wandelt die Token wieder in Smiles um:\n",
    "So sehen die vorhergesagten Smiles aus:"
   ]
  },
  {
   "cell_type": "code",
   "execution_count": 81,
   "id": "23ad4972",
   "metadata": {},
   "outputs": [
    {
     "data": {
      "text/html": [
       "<div>\n",
       "<style scoped>\n",
       "    .dataframe tbody tr th:only-of-type {\n",
       "        vertical-align: middle;\n",
       "    }\n",
       "\n",
       "    .dataframe tbody tr th {\n",
       "        vertical-align: top;\n",
       "    }\n",
       "\n",
       "    .dataframe thead th {\n",
       "        text-align: right;\n",
       "    }\n",
       "</style>\n",
       "<table border=\"1\" class=\"dataframe\">\n",
       "  <thead>\n",
       "    <tr style=\"text-align: right;\">\n",
       "      <th></th>\n",
       "      <th>true</th>\n",
       "      <th>pred</th>\n",
       "    </tr>\n",
       "  </thead>\n",
       "  <tbody>\n",
       "    <tr>\n",
       "      <th>0</th>\n",
       "      <td>CCCCCCC(=O)OCCC</td>\n",
       "      <td>CCCCCCC(=O)OCCC</td>\n",
       "    </tr>\n",
       "    <tr>\n",
       "      <th>1</th>\n",
       "      <td>CC(C)=CCCC(C)C1CCC(C)CC1</td>\n",
       "      <td>CC(C)=CCCC(C)C1CCC(C)CC1</td>\n",
       "    </tr>\n",
       "    <tr>\n",
       "      <th>2</th>\n",
       "      <td>CCCCC(C)CC</td>\n",
       "      <td>CCCCC(C)CC</td>\n",
       "    </tr>\n",
       "    <tr>\n",
       "      <th>3</th>\n",
       "      <td>O=C([O-])C=Cc1ccc(O)cc1</td>\n",
       "      <td>O=C([O-])C=Cc1ccc(O)cc1</td>\n",
       "    </tr>\n",
       "    <tr>\n",
       "      <th>4</th>\n",
       "      <td>O=C1CCCCCCCCCCCCCCO1</td>\n",
       "      <td>O=C1CCCCCCCCCCCCCCO1</td>\n",
       "    </tr>\n",
       "    <tr>\n",
       "      <th>5</th>\n",
       "      <td>Oc1ccccc1-c1ccccc1</td>\n",
       "      <td>Oc1ccccc1-c1ccccc1</td>\n",
       "    </tr>\n",
       "    <tr>\n",
       "      <th>6</th>\n",
       "      <td>CSCCCO</td>\n",
       "      <td>CSCCOO</td>\n",
       "    </tr>\n",
       "    <tr>\n",
       "      <th>7</th>\n",
       "      <td>CC1=CC(=O)C2CC1C2(C)C</td>\n",
       "      <td>CC1=CC(=O)C2CC1C2(C)C</td>\n",
       "    </tr>\n",
       "    <tr>\n",
       "      <th>8</th>\n",
       "      <td>CCCCCCOC=O</td>\n",
       "      <td>CCCCCCOC=O</td>\n",
       "    </tr>\n",
       "    <tr>\n",
       "      <th>9</th>\n",
       "      <td>C=CCCCCCCCCCCCCC</td>\n",
       "      <td>C=CCCCCCCCCCCCCC</td>\n",
       "    </tr>\n",
       "    <tr>\n",
       "      <th>10</th>\n",
       "      <td>CCC(=O)[O-]</td>\n",
       "      <td>CCC(=O)[O-]</td>\n",
       "    </tr>\n",
       "    <tr>\n",
       "      <th>11</th>\n",
       "      <td>C=CC=CC=CCCCCC</td>\n",
       "      <td>C=CC=CC=CCCCCC</td>\n",
       "    </tr>\n",
       "    <tr>\n",
       "      <th>12</th>\n",
       "      <td>C=CCCCCCCCCC=O</td>\n",
       "      <td>C=CCCCCCCCCC=O</td>\n",
       "    </tr>\n",
       "    <tr>\n",
       "      <th>13</th>\n",
       "      <td>CC1=C(C=O)C(C)(C)CC=C1</td>\n",
       "      <td>CC1=C(C=O)C(C)(C)CCC1</td>\n",
       "    </tr>\n",
       "    <tr>\n",
       "      <th>14</th>\n",
       "      <td>CCC=O</td>\n",
       "      <td>CCC=O</td>\n",
       "    </tr>\n",
       "    <tr>\n",
       "      <th>15</th>\n",
       "      <td>CC(C)CC(=O)OC1CCCCC1</td>\n",
       "      <td>CC(C)CC(=O)OC1CCCCC1</td>\n",
       "    </tr>\n",
       "  </tbody>\n",
       "</table>\n",
       "</div>"
      ],
      "text/plain": [
       "                        true                      pred\n",
       "0            CCCCCCC(=O)OCCC           CCCCCCC(=O)OCCC\n",
       "1   CC(C)=CCCC(C)C1CCC(C)CC1  CC(C)=CCCC(C)C1CCC(C)CC1\n",
       "2                 CCCCC(C)CC                CCCCC(C)CC\n",
       "3    O=C([O-])C=Cc1ccc(O)cc1   O=C([O-])C=Cc1ccc(O)cc1\n",
       "4       O=C1CCCCCCCCCCCCCCO1      O=C1CCCCCCCCCCCCCCO1\n",
       "5         Oc1ccccc1-c1ccccc1        Oc1ccccc1-c1ccccc1\n",
       "6                     CSCCCO                    CSCCOO\n",
       "7      CC1=CC(=O)C2CC1C2(C)C     CC1=CC(=O)C2CC1C2(C)C\n",
       "8                 CCCCCCOC=O                CCCCCCOC=O\n",
       "9           C=CCCCCCCCCCCCCC          C=CCCCCCCCCCCCCC\n",
       "10               CCC(=O)[O-]               CCC(=O)[O-]\n",
       "11            C=CC=CC=CCCCCC            C=CC=CC=CCCCCC\n",
       "12            C=CCCCCCCCCC=O            C=CCCCCCCCCC=O\n",
       "13    CC1=C(C=O)C(C)(C)CC=C1     CC1=C(C=O)C(C)(C)CCC1\n",
       "14                     CCC=O                     CCC=O\n",
       "15      CC(C)CC(=O)OC1CCCCC1      CC(C)CC(=O)OC1CCCCC1"
      ]
     },
     "execution_count": 81,
     "metadata": {},
     "output_type": "execute_result"
    }
   ],
   "source": [
    "pred_smiles = tokens_to_smiles(pred_tokens,dictionary )\n",
    "true_smiles = tokens_to_smiles(ex_out.detach().numpy(), dictionary)\n",
    "pd.DataFrame({\"true\":true_smiles, \"pred\": pred_smiles })"
   ]
  },
  {
   "cell_type": "markdown",
   "id": "19630902",
   "metadata": {},
   "source": [
    "Tatsächlich sind die meisten Smiles identisch zu dem originalen. Aber es gibt auch abweichende Smiles. Der Smiles mit dem Index 8 ist nicht identisch und ist noch nicht einmal ein valider Smiles."
   ]
  },
  {
   "cell_type": "markdown",
   "id": "3f48da8a",
   "metadata": {},
   "source": [
    "# Neue Molkeüle generieren\n",
    "\n",
    "Wir haben einen Decoder, der aus unseren Hidden States/latenten Vektoren gültige Moleküle erzeugen kann. \n",
    "Bis jetzt haben wir die latenten Vektoren erhalten, indem wir bekannte Smiles durch den Encoder geschickt haben. Aber was hält uns davon ab, zufällige latente Vektoren zu erzeugen und zu sehen, was der Decoder daraus generiert? Unsere Hidden States latenten Vektoren haben diese Größe:"
   ]
  },
  {
   "cell_type": "code",
   "execution_count": 82,
   "id": "4b06875a",
   "metadata": {},
   "outputs": [
    {
     "data": {
      "text/plain": [
       "(1, 16, 256)"
      ]
     },
     "execution_count": 82,
     "metadata": {},
     "output_type": "execute_result"
    }
   ],
   "source": [
    "latent_vectors =  model.encoder(ex_in.t()).detach().numpy()\n",
    "latent_vectors.shape"
   ]
  },
  {
   "cell_type": "markdown",
   "id": "d3e13f03",
   "metadata": {},
   "source": [
    "Wir können einfach einen alternativen latenten Vektor `tensor` erstellen. Diesen füllen wir mit zufälligen Zahlen."
   ]
  },
  {
   "cell_type": "code",
   "execution_count": 83,
   "id": "e4d3c29f",
   "metadata": {},
   "outputs": [],
   "source": [
    "torch.manual_seed(5489786)\n",
    "hidden = torch.randn(1,16,256)"
   ]
  },
  {
   "cell_type": "markdown",
   "id": "a8ab24ca",
   "metadata": {},
   "source": [
    "Wir verwenden diesen anstelle des ursprünglichen`tensors` als Input für den Decoder.\n",
    "Der Decoder sollte nun versuchen, aus diesen Zufallsdaten neue Smiles zu generieren. Da der Hidden State zufällig gewählt wurde, sollte es sich um Moleküle handeln, die noch nicht in unserem Datensatz enthalten sind. Man spricht in solchen Fällen von De-Novo Design."
   ]
  },
  {
   "cell_type": "code",
   "execution_count": 84,
   "id": "a0563cfd",
   "metadata": {},
   "outputs": [],
   "source": [
    "outputs = torch.zeros(26, 16, len(dictionary))\n",
    "input_ = ex_out.t()[0,:] #<- [\"<sos>\"] Tokens\n",
    "for t in range(1, 26):\n",
    "    output, hidden = model.decoder(input_, hidden)\n",
    "    outputs[t] = output\n",
    "    input_ = output.argmax(1) \n",
    "\n"
   ]
  },
  {
   "cell_type": "code",
   "execution_count": 85,
   "id": "2ce9de3a",
   "metadata": {
    "scrolled": true
   },
   "outputs": [
    {
     "data": {
      "text/plain": [
       "['2C(C))CC1',\n",
       " 'Fccc()SC',\n",
       " 'C=O)C',\n",
       " 'OC(C)Cc1',\n",
       " 'C=CCOO)',\n",
       " 's(=O)OC',\n",
       " 'F))s2',\n",
       " 'C=C',\n",
       " '(C=O)CCC',\n",
       " 'S///C=CCCC2',\n",
       " 'CCC',\n",
       " 'No11O',\n",
       " 'O-])CCc1',\n",
       " 'ss(C)CCC',\n",
       " '[O-]',\n",
       " '[O-]1nccs1']"
      ]
     },
     "execution_count": 85,
     "metadata": {},
     "output_type": "execute_result"
    }
   ],
   "source": [
    "pred_tokens = outputs.argmax(2).t().detach().numpy()\n",
    "new_smiles = tokens_to_smiles(pred_tokens, dictionary)\n",
    "new_smiles"
   ]
  },
  {
   "cell_type": "markdown",
   "id": "62f51e52",
   "metadata": {},
   "source": [
    "Tatsächlich ist keines dieser Moleküle in unserem Datensatz enthalten. Das liegt aber vorallem daran das die meisten keine gültige Moleküle sind. \n",
    "Das Problem besteht hauptsächlich darin, dass der latente Raum, d. h. der gesamte Raum, der durch unsere latenten Vektoren beschrieben werden kann, viel zu groß ist. Es wird sehr schwierig sein, zufällig Zahlen zu finden, die ein gültiges Molekül ergeben.\n",
    "\n",
    "Um wirklich effektiv Moleküle mit Hilfe von Autoencodern zu erzeugen, benötigen wir viel mehr Daten. So kann die Grammatik der Smiles besser gelernt werden. Auch werden am häufigsten so genannte Variational-Autoencoder (VAE) verwendet. Diese \"zwingen\" den latenten Raum in einen vordefinierten Raum. Wenn man dann Zufallszahlen wählt, die denselben definierten Raum entsprechen, ist die Wahrscheinlichkeit höher, dass es sich um ein gültiges Molekül handelt."
   ]
  },
  {
   "cell_type": "markdown",
   "id": "a62529bf",
   "metadata": {},
   "source": [
    "# Übungsaufgabe\n",
    "\n",
    "In der heutigen Übung geht es nicht um Autoencoders. Die Aufgabe besteht darin, ein `nn.Sequential`-Modell in eine funktionierende PyTorch-Klasse umzuschreiben.\n",
    "\n",
    "Das Modell sieht wie folgt aus:"
   ]
  },
  {
   "cell_type": "code",
   "execution_count": null,
   "id": "71ecb93f",
   "metadata": {},
   "outputs": [],
   "source": [
    "from rdkit.Chem.Draw import MolsToGridImage\n",
    "from rdkit.Chem import AllChem as Chem\n",
    "from rdkit import DataStructs\n",
    "from rdkit import RDLogger  \n",
    "import pandas as pd\n",
    "import numpy as np\n",
    "import torch\n",
    "from torch import nn, optim\n",
    "from torch.utils.data import DataLoader, TensorDataset\n",
    "import seaborn as sns\n",
    "from matplotlib import pyplot as plt\n",
    "from sklearn.metrics.pairwise import cosine_similarity\n",
    "RDLogger.DisableLog('rdApp.*')      \n",
    "%run ../utils/utils.py"
   ]
  },
  {
   "cell_type": "code",
   "execution_count": null,
   "id": "2da6f7ce",
   "metadata": {
    "scrolled": false
   },
   "outputs": [],
   "source": [
    "model_1 =nn.Sequential(nn.Linear(20,100),\n",
    "              nn.BatchNorm1d(100),\n",
    "              nn.ReLU(),\n",
    "              nn.Dropout(0.2),\n",
    "              nn.Linear(100,100),\n",
    "              nn.BatchNorm1d(100),\n",
    "              nn.ReLU(),\n",
    "              nn.Linear(100,10))\n",
    "model_1"
   ]
  },
  {
   "cell_type": "markdown",
   "id": "a90d5884",
   "metadata": {},
   "source": [
    "Schreiben Sie das Modell um. Beachten Sie, dass `nn.ReLU` nicht in `forward` funktioniert. Hier verwenden Sie bitte `nn.functional.relu()`. Es ist auch wichtig zu wissen, dass `__init__` so viele Inputparameter haben kann, wie Sie wollen, sie können zum Beispiel die `__init__` so schreiben:\n",
    "`__init__(self, input_dim, hid1_dim, hid2_dim, ________)`, um mehrere Hidden Layers zu initialisieren."
   ]
  },
  {
   "cell_type": "code",
   "execution_count": null,
   "id": "7eb4da2a",
   "metadata": {
    "scrolled": true
   },
   "outputs": [],
   "source": [
    "class simple_nn(________):\n",
    "    def __init__(self, ___________________________________________):\n",
    "        super().__init__()\n",
    "        \n",
    "    def forward()    "
   ]
  },
  {
   "cell_type": "code",
   "execution_count": null,
   "id": "e040e746",
   "metadata": {},
   "outputs": [],
   "source": [
    "model_2 = simple_nn(______________________________)"
   ]
  },
  {
   "cell_type": "markdown",
   "id": "a9f7c204",
   "metadata": {},
   "source": [
    "Testen Sie, ob ihr Modell einen Output generiert."
   ]
  },
  {
   "cell_type": "code",
   "execution_count": null,
   "id": "c0f2a1fc",
   "metadata": {},
   "outputs": [],
   "source": [
    "torch.manual_seed(213)\n",
    "test_data = torch.randn(100,20)\n",
    "\n",
    "model_2(test_data)"
   ]
  },
  {
   "cell_type": "code",
   "execution_count": null,
   "id": "25431735",
   "metadata": {},
   "outputs": [],
   "source": [
    "list(model.parameters())[10]"
   ]
  }
 ],
 "metadata": {
  "kernelspec": {
   "display_name": "Python 3 (ipykernel)",
   "language": "python",
   "name": "python3"
  },
  "language_info": {
   "codemirror_mode": {
    "name": "ipython",
    "version": 3
   },
   "file_extension": ".py",
   "mimetype": "text/x-python",
   "name": "python",
   "nbconvert_exporter": "python",
   "pygments_lexer": "ipython3",
   "version": "3.7.11"
  }
 },
 "nbformat": 4,
 "nbformat_minor": 5
}
