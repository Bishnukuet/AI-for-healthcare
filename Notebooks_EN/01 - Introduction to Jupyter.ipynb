{
 "cells": [
  {
   "cell_type": "markdown",
   "metadata": {},
   "source": [
    "# Jupyter Notebook \n",
    "\n",
    "To make it even easier to start working with neural networks, we use so called *Jupyter Notebooks*. A notebook allows us to structure the code and interact with it more easily. Similar to how Microsoft Word helps us write text, Jupyter helps us write Python code.\n",
    "\n",
    "Python is one of the higher level programming languages. Higher refers to the closeness of the language to the language that computers understand. Python is relatively easy for humans to understand and write. Lower level programming languages are more difficult to understand and write. The disadvantage Python has because of its *highness* is that it is significantly slower at executing code. However, for many non-computer scientists, speed is not critical to their project. Because of its accessibility, Python has established itself over time as the primary programming languages for machine learning and artificial intelligence (AI). \n",
    "\n",
    "### Using Jupyter Notebooks\n",
    "\n",
    "In a Python notebook, there are two types of cells. One contains normal text, like in this one. Code is written int the other type of cell. You can run a cell by pressing `Shift + Enter` after clicking the cell. Running (or executing) code means that the code in this cell will be send as a command to python.\n",
    "This is then interpreted by Python and the commands are executed one after the other.\n",
    "To quickly navigate between cells, you can also use the arrow keys.\n",
    "\n",
    "\n",
    "*First click in the following cell and execute it.*\n",
    "If everything has worked, there should be a field with\n",
    "\n",
    "<div align=\"center\" ><code>'My first cell!'</code></div >\n",
    "\n",
    "under this cell. What exactly happens here is explained in more detail in the following notebook.  "
   ]
  },
  {
   "cell_type": "code",
   "execution_count": null,
   "metadata": {},
   "outputs": [],
   "source": [
    "\"My first cell!\""
   ]
  },
  {
   "cell_type": "markdown",
   "metadata": {},
   "source": [
    "You can also create new cells yourself. To do this, click `Insert` at the top of the menu bar and then either \"Insert cell above\" or \"Insert cell below\".\n",
    "\n",
    "Alternatively, you can also use keyboard shortcuts: Press the `A` key to insert a cell above the current cell and `B` to insert a cell below it. If you press the `D` key twice in succession, you can also delete a cell. *In Google Collab the same shortcuts apply, here additionally `Ctrl` + `M`* must be used.\n",
    "\n",
    "It is important that you do not click directly into the cell with these key combinations, but only to the left of it. The cell border should then be blue, instead of green.\n",
    "\n",
    "The following notebook 'Introduction to Python.ipynb' will go into more detail about the actual use of Python."
   ]
  }
 ],
 "metadata": {
  "interpreter": {
   "hash": "b2063f454e5583264956edca724ed174a35400d49c5baf96fcf9ea99fcd5830b"
  },
  "kernelspec": {
   "display_name": "Python 3 (ipykernel)",
   "language": "python",
   "name": "python3"
  },
  "language_info": {
   "codemirror_mode": {
    "name": "ipython",
    "version": 3
   },
   "file_extension": ".py",
   "mimetype": "text/x-python",
   "name": "python",
   "nbconvert_exporter": "python",
   "pygments_lexer": "ipython3",
   "version": "3.7.11"
  }
 },
 "nbformat": 4,
 "nbformat_minor": 4
}
