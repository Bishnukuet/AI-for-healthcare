{
 "cells": [
  {
   "cell_type": "markdown",
   "id": "8aef19c1",
   "metadata": {},
   "source": [
    "# Autoencoders\n",
    "\n",
    "\n",
    "#### I did my best to minimize the training time. I had saved a model that was trained already. However, the server does not play along. Therefore it is best to just do something else for an hour when training. You don't have to train 100 epochs, you can end the training early via Kernel > Interrupt Kernel.\n",
    "---\n",
    "**Learning Objectives**\n",
    "- You understand the concept of an autoencoder\n",
    "- You understand the meaning of `<sos>`/`<eos>` tokens \n",
    "- You understand how an RNN can generate Smiles\n",
    "- You can also define a network as a PyTorch class\n",
    "---\n",
    "\n",
    "In today's notebook we will deal with the so called **autoencoders**.\n",
    "Autoencoders are mostly trained through selfsupervised training.\n",
    "As a reminder, selfsupervised training refers to training neural networks where input and output are identical. So the goal is to recover the input. \n",
    "\n",
    "But what is the added value of a network that only recovers the input?\n",
    "In fact, we are not necessarily interested in the output of an autoencoder. Rather, we are interested in what happens in the middle of the network. \n",
    "This is because the real goal of autoencoders is to compress the data, that is, to represent it as effectively as possible.\n",
    "\n",
    "The example image shows an autoencoder for images:\n",
    "\n",
    "\n",
    "\n",
    "<img src=\"https://d3i71xaburhd42.cloudfront.net/b1786e74e233ac21f503f59d03f6af19a3699024/2-Figure1-1.png\" >\n",
    "\n",
    "*Yifei Zhang - A Better Autoencoder for Image: Convolutional Autoencoder* **2018**\n",
    "\n",
    "\n",
    "An autoencoder consists of two networks, an **encoder** and a **decoder**. The output of the encoder is used as input to the decoder. The encoder should learn to represent the data as effectively as possible in a low-dimensional space (latent space). This representation is usually simply a vector, also known as a **latent vector**. The decoder is trained to recover the original input using this latent vector. \n",
    "\n",
    "We can decide for ourselves how large the latent vector should be. Usually, a particularly small size is chosen to ensure greater compression.\n",
    "After successful training, the *latent vector* should contain enough information for the decoder to reconstruct the complete image, despite its small size. This means that this vector is sufficiently informative to describe the complete image. Actual applications go beyond simple reconstruction.\n",
    "\n",
    "For example, autoencoders are used to improve the quality of images. For this purpose, low-resolution images are used as input, and the output is the same image in its regular (higher) resolution. In this way, networks are trained that can later sharpen low-resolution images. \n",
    "\n",
    "\n",
    "<img src=\"https://assets-global.website-files.com/5d7b77b063a9066d83e1209c/60bcd0b7b750bae1a953d61d_autoencoder.png\" width =\"400px\">\n",
    "\n",
    "*Hmrishav Bandyopadhyay - An Introduction to Autoencoders: Everything You Need to Know* **2021**\n",
    "\n",
    "\n",
    "Autoencoders exist not only for images, but also for text. RNNs are used for this purpose. \n",
    "In the last notebook we already discussed that the last hidden state of an RNN is a summary of the whole input sequence. In the example the hidden state $O_5$\n",
    "\n",
    "\n",
    "\n",
    "<img src=\"https://miro.medium.com/max/724/1*1U8H9EZiDqfylJU7Im23Ag.gif\">\n",
    "\n",
    "*Michael Phi - An illustrated Guide to Recurrent Neural Networks*\n",
    "\n",
    "\n",
    "The output $O_5$ can already be understood as a projection of the entire sentence into the latent space. The hidden state $O5$ is thus the latent vector describing our sequence. Accordingly, the network that generated this vector is our encoder. So, all that is missing for our autoencoder is the decoder that can recover the original sequence from the latent vector. We will discuss how this works exactly using an example with smiles."
   ]
  },
  {
   "cell_type": "code",
   "execution_count": 23,
   "id": "16894c6b",
   "metadata": {},
   "outputs": [],
   "source": [
    "import pandas as pd\n",
    "import numpy as np\n",
    "np.random.seed(1234)\n",
    "import torch\n",
    "from torch import nn, optim\n",
    "from torch.utils.data import DataLoader, TensorDataset\n",
    "import seaborn as sns\n",
    "from matplotlib import pyplot as plt\n",
    "from sklearn.metrics.pairwise import cosine_similarity\n",
    "import sys\n",
    "from os.path import exists, isdir\n",
    "import os \n",
    "if 'google.colab' in sys.modules:\n",
    "    !pip install rdkit==2022.3.4\n",
    "    if exists(\"utils.py\") == False:\n",
    "        !wget https://raw.githubusercontent.com/kochgroup/intro_pharma_ai/main/utils/utils.py\n",
    "    if exists(\"load_fragments.ipynb\") == False:\n",
    "        !wget https://raw.githubusercontent.com/kochgroup/intro_pharma_ai/main/utils/load_fragments.ipynb\n",
    "    %run utils.py\n",
    "    %run load_fragments.ipynb\n",
    "else:\n",
    "    %run ../utils/utils.py\n",
    "    %run ../utils/load_fragments.ipynb\n",
    "from rdkit.Chem.Draw import MolsToGridImage\n",
    "from rdkit.Chem import AllChem as Chem\n",
    "from rdkit import DataStructs\n",
    "from rdkit import RDLogger \n",
    "RDLogger.DisableLog('rdApp.*')  "
   ]
  },
  {
   "cell_type": "markdown",
   "id": "7deb367d",
   "metadata": {},
   "source": [
    "This week we are using a dataset that consits of a subset of the GDB 11 developed by the Reymond Group. Only small fragments are used. It is particularly important for this example thha the molecules are not too large as it is difficult to generate a valid smiles from a latent vector. The longer the Smiles get, the more complex the task becomes for the network.\n",
    "\n",
    "This week the molecules are also available in a different file format. In the `.sdf` format the molecules are stored with more detail. For example, information about the conformation can be stored here. \n",
    "\n",
    "---\n",
    "Fink, T., & Reymond, J. L.. Virtual exploration of the chemical universe up to 11 atoms of C, N, O, F: assembly of 26.4 million structures (110.9 million stereoisomers) and analysis for new ring systems, stereochemistry, physicochemical properties, compound classes, and drug discovery. J. Chem. Inf. Model. **2007** 47(2), 342-353.\n",
    "\n",
    "---\n",
    "\n",
    "\n",
    "```\n",
    "\n",
    "  Mrv0541 07182119162D          \n",
    "\n",
    " 12 12  0  0  0  0            999 V2000\n",
    "    0.7145    2.0625    0.0000 C   0  0  0  0  0  0  0  0  0  0  0  0\n",
    "    0.7145    1.2375    0.0000 C   0  0  0  0  0  0  0  0  0  0  0  0\n",
    "    1.4289    0.8250    0.0000 C   0  0  0  0  0  0  0  0  0  0  0  0\n",
    "    1.4289   -0.0000    0.0000 C   0  0  0  0  0  0  0  0  0  0  0  0\n",
    "    2.1434   -0.4125    0.0000 F   0  0  0  0  0  0  0  0  0  0  0  0\n",
    "    0.7145   -0.4125    0.0000 C   0  0  0  0  0  0  0  0  0  0  0  0\n",
    "    0.7145   -1.2375    0.0000 C   0  0  0  0  0  0  0  0  0  0  0  0\n",
    "    1.4289   -1.6500    0.0000 O   0  0  0  0  0  0  0  0  0  0  0  0\n",
    "   -0.0000   -1.6500    0.0000 O   0  0  0  0  0  0  0  0  0  0  0  0\n",
    "    0.0000    0.0000    0.0000 C   0  0  0  0  0  0  0  0  0  0  0  0\n",
    "   -0.7145   -0.4125    0.0000 F   0  0  0  0  0  0  0  0  0  0  0  0\n",
    "    0.0000    0.8250    0.0000 C   0  0  0  0  0  0  0  0  0  0  0  0\n",
    "  1  2  1  0  0  0  0\n",
    "  2  3  4  0  0  0  0\n",
    "  3  4  4  0  0  0  0\n",
    "  4  5  1  0  0  0  0\n",
    "  4  6  4  0  0  0  0\n",
    "  6  7  1  0  0  0  0\n",
    "  7  8  2  0  0  0  0\n",
    "  7  9  1  0  0  0  0\n",
    "  6 10  4  0  0  0  0\n",
    " 10 11  1  0  0  0  0\n",
    " 10 12  4  0  0  0  0\n",
    "  2 12  4  0  0  0  0\n",
    "M  END\n",
    ">  <Catalog ID>\n",
    "Z1255462241\n",
    "\n",
    ">  <PlateID>\n",
    "1225133-R3-01\n",
    "\n",
    ">  <Well>\n",
    "A02\n",
    "\n",
    ">  <MW (desalted)>\n",
    "172.129\n",
    "\n",
    ">  <CLogP>\n",
    "2.082\n",
    "\n",
    ">  <HBD>\n",
    "1\n",
    "\n",
    ">  <TPSA>\n",
    "37.300\n",
    "\n",
    ">  <RotBonds>\n",
    "1\n",
    "\n",
    "```\n",
    "You can also see additional information like TPSA or LogP can be saved in the same file.\n",
    "\n",
    "To read such a `.sdf` file into Python we need a so called `MolSupplier` from `rdkit`. A supplier establishes the connection between our files and Python. With a `for-loop` the smiles can be generated from the SDF file."
   ]
  },
  {
   "cell_type": "code",
   "execution_count": 24,
   "id": "af64109c",
   "metadata": {},
   "outputs": [],
   "source": [
    "suppl = Chem.SDMolSupplier(\"../data/high_fidelity/fragments.sdf\")"
   ]
  },
  {
   "cell_type": "code",
   "execution_count": 25,
   "id": "16d537f8",
   "metadata": {},
   "outputs": [
    {
     "data": {
      "text/plain": [
       "['CCCCCCC(=O)OCCC',\n",
       " 'CC(C)=CCCC(C)C1CCC(C)CC1',\n",
       " 'CCCCC(C)CC',\n",
       " 'O=C([O-])C=Cc1ccc(O)cc1',\n",
       " 'O=C1CCCCCCCCCCCCCCO1',\n",
       " 'Oc1ccccc1-c1ccccc1',\n",
       " 'CSCCCO',\n",
       " 'CC1=CC(=O)C2CC1C2(C)C',\n",
       " 'CCCCCCOC=O',\n",
       " 'C=CCCCCCCCCCCCCC']"
      ]
     },
     "execution_count": 25,
     "metadata": {},
     "output_type": "execute_result"
    }
   ],
   "source": [
    "smiles = []\n",
    "for mol in suppl:\n",
    "    smiles.append(Chem.MolToSmiles(mol)) \n",
    "smiles[:10]"
   ]
  },
  {
   "cell_type": "markdown",
   "id": "9cbfb976",
   "metadata": {},
   "source": [
    "As you can see, this is another way to read in molecules into python.\n",
    "\n",
    "We can display the structures once to get a better feel for the nature of the fragments."
   ]
  },
  {
   "cell_type": "code",
   "execution_count": 26,
   "id": "b579b07b",
   "metadata": {
    "scrolled": true
   },
   "outputs": [
    {
     "data": {
      "image/png": "[encoded data removed]",
      "text/plain": [
       "<IPython.core.display.Image object>"
      ]
     },
     "execution_count": 26,
     "metadata": {},
     "output_type": "execute_result"
    }
   ],
   "source": [
    "MolsToGridImage([Chem.MolFromSmiles(x)for x in smiles[:9]])"
   ]
  },
  {
   "cell_type": "code",
   "execution_count": 27,
   "id": "0a7c6a73",
   "metadata": {
    "scrolled": true
   },
   "outputs": [
    {
     "data": {
      "text/plain": [
       "1675"
      ]
     },
     "execution_count": 27,
     "metadata": {},
     "output_type": "execute_result"
    }
   ],
   "source": [
    "len(smiles)"
   ]
  },
  {
   "cell_type": "markdown",
   "id": "c534d2bc",
   "metadata": {},
   "source": [
    "In total, we have 1675 molecules in the data set."
   ]
  },
  {
   "cell_type": "markdown",
   "id": "69dae180",
   "metadata": {},
   "source": [
    "When you look closely at the Smiles, do you notice anything?"
   ]
  },
  {
   "cell_type": "code",
   "execution_count": 28,
   "id": "634e0510",
   "metadata": {},
   "outputs": [
    {
     "data": {
      "text/plain": [
       "['CCCCCCC(=O)OCCC',\n",
       " 'CC(C)=CCCC(C)C1CCC(C)CC1',\n",
       " 'CCCCC(C)CC',\n",
       " 'O=C([O-])C=Cc1ccc(O)cc1',\n",
       " 'O=C1CCCCCCCCCCCCCCO1',\n",
       " 'Oc1ccccc1-c1ccccc1',\n",
       " 'CSCCCO',\n",
       " 'CC1=CC(=O)C2CC1C2(C)C',\n",
       " 'CCCCCCOC=O',\n",
       " 'C=CCCCCCCCCCCCCC',\n",
       " 'CCC(=O)[O-]',\n",
       " 'C=CC=CC=CCCCCC',\n",
       " 'C=CCCCCCCCCC=O',\n",
       " 'CC1=C(C=O)C(C)(C)CC=C1',\n",
       " 'CCC=O',\n",
       " 'Cc1ccc2c(c1)C(C(C)C)CCC2C',\n",
       " 'CC(C)CC(=O)OC1CCCCC1',\n",
       " 'CC(=O)C=CC12OC1(C)CC(O)CC2(C)C',\n",
       " 'CCC(=O)CC',\n",
       " 'COc1ccc2ccccc2c1',\n",
       " 'CCCCCCCCC1=CCC(=O)O1',\n",
       " 'C=CC(C)(CCC=C(C)C)OC(=O)CC',\n",
       " 'CC(C)C12C=CC(C)(O)C1C2',\n",
       " 'COC(=O)CSC',\n",
       " 'CCC=CCCO',\n",
       " 'CCCCCCCCCCCCCC(=O)[O-]',\n",
       " 'C=C1CCC2CC1C2(C)C',\n",
       " 'CCC(C=O)CC',\n",
       " 'CC(C)=CCCC(C)=CCCc1ccoc1',\n",
       " 'CC(C)CC(=O)OCCc1ccccc1',\n",
       " 'CC(C)=C1CCC(C)CC1=O',\n",
       " 'CCCCC(=O)OCC=C(C)CCC=C(C)C',\n",
       " 'COc1cccc2c(N)c(C)cnc12',\n",
       " 'CC=CC=CC(=O)OCC',\n",
       " 'COc1c(C)o[c-](C)c1=O',\n",
       " 'CC=CC=CC(=O)OC',\n",
       " 'Cc1nc(-c2cc(C(=O)O)oc2C)cs1',\n",
       " 'C=CCc1cc(OC)c(O)c(OC)c1',\n",
       " 'CC(C)CCOC(=O)CC(C)C',\n",
       " 'O=C1CCCO1',\n",
       " 'Nc1ccc(N2CCCCC2)cn1',\n",
       " 'C=CCc1ccc(O)c(OC)c1',\n",
       " 'CC1CCCC(=O)C1',\n",
       " 'CC1CCC2C1C1C(CCC2(C)O)C1(C)C',\n",
       " 'CCC(=O)OC1CC2CCC1(C)C2(C)C',\n",
       " 'CC=CC(=O)CCCCCC',\n",
       " 'CCCCCCCOC(=O)C(C)CC',\n",
       " 'CCCCCCCCCCCCC(=O)[O-]',\n",
       " 'CC(C)CCOC(=O)C(C)C',\n",
       " 'CSC',\n",
       " 'CC(C)C1=CCC(C)C2=C(C1)C(C)CC2',\n",
       " 'CCCC(C)OC(C)=O',\n",
       " 'OCc1cccnc1N1CCCC1',\n",
       " 'Cc1cc(C)n(CCN2CCOCC2)n1',\n",
       " 'CCCC(=O)OC(C)CCC',\n",
       " 'CCCCCC(=O)OCCCC',\n",
       " 'C/C1=C/CC(C)(C)/C=C\\\\CC2(C)OC2CC1',\n",
       " 'CCCCC(C)C',\n",
       " 'CCC(C)=O',\n",
       " 'CCCC(O)CC',\n",
       " 'CCNCC1COc2ccccc2O1.Cl',\n",
       " 'CCCCC(=O)OC1CC2CCC1(C)C2(C)C',\n",
       " 'CC(=O)c1ccc2ccccc2c1',\n",
       " 'C=CCCCC',\n",
       " 'CCCCCCCCCCCCCCC(=O)[O-]',\n",
       " 'CCC(C)CCCO',\n",
       " 'CC(C)=CCOC(=O)c1ccccc1',\n",
       " 'CC(C)c1ccc(O)cc1',\n",
       " 'CC(C)=C1C/C=C(/C)CC/C=C(/C)CC1',\n",
       " 'CCCCCCCCC(C)=O',\n",
       " 'CCCCCCCC(=O)OCCCCC',\n",
       " 'CC(C)c1nccc(O)n1',\n",
       " 'Cc1ccc(C=O)cc1',\n",
       " 'CCCC(CO)CCC',\n",
       " 'C=CC(C)=CC',\n",
       " 'CCCCCC(=O)OCc1ccccc1',\n",
       " 'C=CCC(C)C=O',\n",
       " 'CCC(C)C(O)C(=O)OC',\n",
       " 'CCOC(C)OCC',\n",
       " 'OCC1CCCO1',\n",
       " 'O=COC1CCCCC1',\n",
       " 'CC1=C(CCC(C)O)C(C)(C)CCC1',\n",
       " 'O=C(O)c1ccnc(C2CC2)c1',\n",
       " 'CCCCCC=CCO',\n",
       " 'CC1=CCC2C(C)=CCC(C(C)C)C2C1',\n",
       " 'CC(C)C=O',\n",
       " 'CC1C=CCC1',\n",
       " 'SCc1ccco1',\n",
       " 'CCCC(=O)CC',\n",
       " 'O=C(Cc1ccccc1)OCCc1ccccc1',\n",
       " 'CCCC(C)CC(C)O',\n",
       " 'C=C1CCC2C(C3C1CCC3(C)O)C2(C)C',\n",
       " 'Nc1ccn(CCc2ccncc2)n1',\n",
       " 'C=CC(C)=CCC=C(C)CCC=C(C)C',\n",
       " 'OCc1cccc(-c2ccccn2)c1',\n",
       " 'O=C1CCSC1',\n",
       " 'C=CC(CCCCC)OC(=O)CCC',\n",
       " 'CCCCCO',\n",
       " 'CCCCCC(=Cc1ccccc1)CO',\n",
       " 'CC=Cc1ccc(OCC)c(O)c1',\n",
       " 'CC1(C)C2CCC1(C)C(OC=O)C2',\n",
       " 'COc1ccccc1OC(C)=O',\n",
       " 'C=C(C)CCc1ccc(C)cc1',\n",
       " 'C=CCC(C)=O',\n",
       " 'CC1=C/C/C=C(/C)CC/C=C(/C)CCC(C(C)C)/C=C\\\\1',\n",
       " 'CCCCCOC(=O)CCC',\n",
       " 'CC1CCc2onc(C(=O)O)c2C1',\n",
       " 'C=CC1(C)CCC(C(C)C)=CC1C(=C)C',\n",
       " 'OCc1nc2ccc(F)cc2o1',\n",
       " 'COc1cccc(C2(O)CCC2)c1',\n",
       " 'C=C(C)C1CCC(C)(O)CC1',\n",
       " 'CC(=O)c1ccccc1',\n",
       " 'CCCCCCCC=CCCCCCCCC',\n",
       " 'Cc1ccc(C)c(C)c1',\n",
       " 'c1cc2c(c(C3CCCN3)c1)OCCO2',\n",
       " 'CCCCCCC1CCC(=O)O1',\n",
       " 'C=C1CCCC2(C)CCC(=C(C)C)CC12',\n",
       " 'c1ccccc1',\n",
       " 'CCCCCC1=C(C)CCC1=O',\n",
       " 'CC=C(C)C(=O)OCC',\n",
       " 'C=CCCCCCCCCCCCCCC',\n",
       " 'CCCCCCCCCCCCCC(=O)OCCC',\n",
       " 'CC1=CC2C(C(C)C)CCC(C)(O)C2CC1',\n",
       " 'O=C([O-])c1ccccc1CO',\n",
       " 'CC(C)OC(=O)Cc1ccccc1',\n",
       " 'CCOC(=O)CC(C)=O',\n",
       " 'CC(C)CC=C(C=O)c1ccccc1',\n",
       " 'CC1OCC(=O)C1O',\n",
       " 'CCOc1ccc(C2CCCN2)cc1',\n",
       " 'C=C(C)C1CCC(C)C(OC(C)=O)C1',\n",
       " 'NCc1ccc(-n2ccnc2)cc1',\n",
       " 'CCC(c1ccccc1)C1CNC(=O)C1',\n",
       " 'CCCCOC=O',\n",
       " 'CC(C)C1CCC2(C)OC2C1=O',\n",
       " 'Cc1ccccc1C=O',\n",
       " 'CCn1nc(C2CC2)cc1C(=O)O',\n",
       " 'CC=CC(=O)C1=C(C)C=CCC1(C)C',\n",
       " 'CC(C)c1cc(C(=O)O)on1',\n",
       " 'CC(C)COC(=O)C=Cc1ccccc1',\n",
       " 'CC(=O)OCC=C(C)CCC=C(C)CCC=C(C)C',\n",
       " 'CCCCCC1CC=CC(=O)O1',\n",
       " 'CCCOC(=O)CC',\n",
       " 'CCCCCC(=O)OCC(C)C',\n",
       " 'CC(C)C(=O)OCc1ccccc1',\n",
       " 'O=C(C=Cc1ccccc1)OCCc1ccccc1',\n",
       " 'CCCCCCCCCC(C)C=O',\n",
       " 'C=CC(=C)CCC(O)C(=C)C',\n",
       " 'C=CC1(C)CCC(OC(C)=O)C(C)(C)O1',\n",
       " 'CC(C)C1C=CC(=O)CC1',\n",
       " 'CC(C)C1CCC2=CC(=O)CC(C)C2(C)C1',\n",
       " 'CCC(C)CC(C)CCCC(C)C',\n",
       " 'CCCCCCCC(=O)OCCC(C)C',\n",
       " 'CCCCCCCCCCCCCCCCCCCCC',\n",
       " 'CCCCCCC(=O)[O-]',\n",
       " 'CCCCCC1C(=O)CCC1CC(=O)OC',\n",
       " 'C=C(C)C1CC=C(C)C(O)C1',\n",
       " 'CC(C=O)Cc1ccc(C(C)C)cc1',\n",
       " 'CCC(=O)OC(C)C',\n",
       " 'c1ccsc1',\n",
       " 'CCCCCCCC(=O)OCc1ccco1',\n",
       " 'CCCC(=O)OCCC(C)C',\n",
       " 'CCCCCCCCC1CCC(=O)O1',\n",
       " 'CCC=CC=O',\n",
       " 'CCC=CCC=CCCO',\n",
       " 'CCCC(=O)OCC',\n",
       " 'C=CC(C)=O',\n",
       " 'C=CC(C)(C)C=CC(C)(C)O',\n",
       " 'C=C1CCC2C3C(C(C)C)CCC2(C)C13',\n",
       " 'CCC(O)c1ccccc1',\n",
       " 'CCOC(C)OCCC(C)CCC=C(C)C',\n",
       " 'C=CC1(C)CCC(O)C(C)(C)O1',\n",
       " 'O=C(OCc1ccccc1)c1ccccc1O',\n",
       " 'C=CC(C)(CCC=C(C)C)OC(C)=O',\n",
       " 'C=CC1(C)CCC(=C(C)C)CC1C(=C)C',\n",
       " 'Cc1coc2c1CCC(C)C2',\n",
       " 'CCC(C)CCO',\n",
       " 'CCCC(=O)OCCC(C)CCC=C(C)C',\n",
       " 'CCn1ncc2c1CCCC2N',\n",
       " 'CC(=O)OCc1ccco1',\n",
       " 'CC1=CCCC(C)(C)C1C=CC(=O)C=O',\n",
       " 'C=CC(C)(O)CCC=C(C)C',\n",
       " 'CC(=O)c1ccco1',\n",
       " 'CC=C(C)COC(C)=O',\n",
       " 'CC(C)=CCCC(C)=CCO',\n",
       " 'CCCCCCC=CC=O',\n",
       " 'O=CCCCCC=C1CO1',\n",
       " 'C/C1=C/CC/C(C)=C\\\\CC(C)(C)/C=C\\\\C1',\n",
       " 'CCC=CCC=O',\n",
       " 'COC1CC2CCC1(C)C2(C)C',\n",
       " 'CCC(=O)OCc1ccco1',\n",
       " 'CCC(C)COC(=O)C(C)CC',\n",
       " 'CCC1=CCCC=C1',\n",
       " 'Fc1ccc(C2CCCCN2)nc1',\n",
       " 'CCCC(=O)OCCc1ccccc1',\n",
       " 'CC(C)COC(=O)C(C)C',\n",
       " 'CC1=CCC2C3C(C(C)C)CCC2(C)C13',\n",
       " 'CCCCCC(=O)OCCc1ccccc1',\n",
       " 'CCCCCCCCC(C)O',\n",
       " 'C[C@H](c1ccccc1)N1CCC(F)(CO)C1',\n",
       " 'C=CCc1ccc2c(c1)OCO2',\n",
       " 'C=CCCCCCCCCCCCC',\n",
       " 'COc1cc(C=O)ccc1O',\n",
       " 'C=CCc1ccc(OC)cc1',\n",
       " 'CCC(C)C(C)O',\n",
       " 'COCc1cc(=O)c2cc(F)ccc2[nH]1',\n",
       " 'CCC1CCC2(CCCO2)O1',\n",
       " 'CCCCC(O)CC',\n",
       " 'CC1(C)CC2C(C1)C1(C)CCCC2(C)C1O',\n",
       " 'O=Cc1ccccc1O',\n",
       " 'CCCCCC=CCC=CCCCCCCCC(=O)[O-]',\n",
       " 'C=C(C)C(CC=C(C)C)COC(C)=O',\n",
       " 'C=C1CCCC(C)(C)C12CC=C(C)CC2',\n",
       " 'CCCC(O)CC(=O)OC',\n",
       " 'CCCCCC(=O)OCC=C(C)C',\n",
       " 'O=c1ccc2ccccc2o1',\n",
       " 'CCCCCCCOC(=O)C(C)C',\n",
       " 'CC=C(C=O)c1ccccc1',\n",
       " 'O=C(O)Cc1ccc(F)c(Cl)c1',\n",
       " 'CCOC(=O)CCc1ccco1',\n",
       " 'CC1=CCC(=C(C)C)CC1',\n",
       " 'CCCCC=O',\n",
       " 'CC12CCCC(O)(C1)C1CC(C)(C)C1CC2',\n",
       " 'CC1=C2CCC(C)C2CC(C(C)(C)O)CC1',\n",
       " 'CC(C)=CCCC(C)CCOC(=O)C(C)C',\n",
       " 'CCCCCCCCC=CCCCCCCCC(=O)[O-]',\n",
       " 'O=C(OCCc1ccccc1)c1ccccc1',\n",
       " 'CCC(CC)C(=O)[O-]',\n",
       " 'O=C1CCCC1',\n",
       " 'O=C(O)C1CNc2ccc(F)cc2C1',\n",
       " 'CCCC(=O)OC1CC2CCC1(C)C2(C)C',\n",
       " 'CCCCCCCCCCCCCCCC(=O)OCCC',\n",
       " 'CCCCC1CCCCC(=O)O1',\n",
       " 'O=Cc1cccs1',\n",
       " 'O=CCCc1ccccc1',\n",
       " 'OC1CCCc2c[nH]nc21',\n",
       " 'CC(C)(C)C1C=CC(O)CC1',\n",
       " 'CC1CCCC2(C)CCCCC12O',\n",
       " 'Cc1cccnc1CCO',\n",
       " 'CC(=O)OC1(C)CCCC(C)(C)C12CCC(C)O2',\n",
       " 'C=CC(O)CC=CCC',\n",
       " 'CCCCCCCCC(=O)OC',\n",
       " 'Cc1occc(=O)c1O',\n",
       " 'CC(=O)CCc1ccc(OC(C)=O)cc1',\n",
       " 'CCC(=O)OCC=C(C)CCC=C(C)C',\n",
       " 'OCCCc1ccccc1',\n",
       " 'CCCCCC(O)CCCC',\n",
       " 'CCc1cccc(CC)c1',\n",
       " 'CCC(C)O',\n",
       " 'C/C1=C/CC/C(C)=C\\\\CCC(C)(C)/C=C\\\\C1',\n",
       " 'C=CC(C)(CCC=C(C)C)OC',\n",
       " 'CC(=O)Cc1ccccc1',\n",
       " 'C1=CC=CCC=C1',\n",
       " 'CCCC(=O)C(C)=O',\n",
       " 'CCC(=O)OC1CC2CCC1C2(C)C',\n",
       " 'CCC(C)CCC(C)CCCCC(C)C',\n",
       " 'CCCC(=O)C(O)CCC',\n",
       " 'NS(=O)(=O)c1ccc2c(c1)NCCC2',\n",
       " 'NCc1nccn1C(F)F',\n",
       " 'CC(=O)C(C)S',\n",
       " 'Cc1nn(C(C)C)cc1C(=O)O',\n",
       " 'C=CC1(C)CCC(C(C)(C)O)CC1C(=C)C',\n",
       " 'CC(C)OC1OCCC1=O',\n",
       " 'CCCCCC(C)C(=O)[O-]',\n",
       " 'COC(=O)c1ccc(O)cc1',\n",
       " 'C=CCOC(=O)C=Cc1ccccc1',\n",
       " 'COC(=O)C=C(C)CCC=C(C)C',\n",
       " 'CCCCCOC(=O)c1ccccc1',\n",
       " 'Cc1ccc(C=O)s1',\n",
       " 'CC=C(C)C(=O)OCC=C(C)CCC=C(C)C',\n",
       " 'C=C1CCC2C(=O)C2(C)CCC2C1CC2(C)C',\n",
       " 'Cc1ccc2c(c1O)C(C(C)C)CCC2C',\n",
       " 'COC(=O)c1cc(C)cc(C)c1',\n",
       " 'CC(C)=CCCC(C)C=O',\n",
       " 'CCc1nocc1C(=O)O',\n",
       " 'CSCCO',\n",
       " 'CC(CCO)CC(C)(C)C',\n",
       " 'CC1CCC(=O)C1=O',\n",
       " 'COc1ccc(CCC(C)=O)cc1',\n",
       " 'CCC1CCC(=O)O1',\n",
       " 'CC(=CC=O)CCC=C(C)CCCC(C)C',\n",
       " 'O=C([O-])c1ccc(O)cc1',\n",
       " 'CCCCCCCCCCCCCCO',\n",
       " 'NC(=O)C1CC(=O)N(c2ccccc2F)C1',\n",
       " 'CCCCCCOC(C)=O',\n",
       " 'CCCCCCCCCCCCCCCCCC(=O)OC',\n",
       " 'C=C(C)C1CCC2(C)OC2C1',\n",
       " 'CC(C)=CCCC(C)=CCOC=O',\n",
       " 'CCC=CC=CC=O',\n",
       " 'CC1CC(O)c2nccn21',\n",
       " 'C=CCc1cc(OC)c2c(c1)OCO2',\n",
       " 'CC(C)C12CCC(C)(O)C1C2',\n",
       " 'COC(=O)C=Cc1ccccc1',\n",
       " 'CCCC(=O)OCC(C)C',\n",
       " 'CC(C)n1cnc(S(N)(=O)=O)c1',\n",
       " 'CCCCCCC#CC(=O)OCC',\n",
       " 'CCC(C)C(=O)OC',\n",
       " 'CC(C)=CCCC(C)=CCCC(C)CCO',\n",
       " 'CC(=O)OC(C)(C)C1CC=C(C)CC1',\n",
       " 'C=CC(O)CCCC',\n",
       " 'CCCCCCCCCCCC(C)=O',\n",
       " 'C=CC=CCCOC(=O)CCC',\n",
       " 'C=CC(C)(C)C(=O)C=C(C)C',\n",
       " 'CCCCCCCC(=O)OCCCC',\n",
       " 'CCCCCCCOC(C)=O',\n",
       " 'CC1CCCCC1=O',\n",
       " 'CCCCCCCCCCCC(=O)OC',\n",
       " 'CCCCOC(=O)C(C)C',\n",
       " 'OCc1ccccc1',\n",
       " 'C=C(C)C(=O)OCCC(C)C',\n",
       " 'CC1=CC(=O)CC(C)(C)C1C=CC(C)O',\n",
       " 'CCCCCC=CCC1=CCC(=O)O1',\n",
       " 'O=C(O)c1cc2ccccc2o1',\n",
       " 'CCCCCCOC(=O)CCC',\n",
       " 'CCOc1ccc(C=O)cc1',\n",
       " 'CCCCCOC(=O)CCCC',\n",
       " 'Cc1ccccc1O',\n",
       " 'CCC(=O)c1ccccc1',\n",
       " 'OC(c1ccc(F)cc1)C1CCNCC1',\n",
       " 'CC(=O)CCC(C)C',\n",
       " 'CCCCCOC(=O)CCCCC',\n",
       " 'CC1=CC2C(C(C)C)CCC(C)C2(O)CC1',\n",
       " 'C=CC=CC=CCC',\n",
       " 'COC(=O)C=C(C)C',\n",
       " 'OC1CCc2ccc(F)cc21',\n",
       " 'CC(C)CCC(=O)[O-]',\n",
       " 'CN1CC(C(=O)O)CC1=O',\n",
       " 'CC(=O)C=C(C)C',\n",
       " 'CC1=CCC(C(C)C)c2cc(C)ccc21',\n",
       " 'CC(C)CC(=O)OCc1ccccc1',\n",
       " 'C=C1C(=O)CC2CC1C2(C)C',\n",
       " 'C=CC(C)=CCCC(C)(C)O',\n",
       " 'Cc1c([S-])coc1C=O',\n",
       " 'CCCCCCO',\n",
       " 'CC1=CC(=O)CC1',\n",
       " 'CCCCCCC=CCC(=O)OCC',\n",
       " 'CC(=O)c1cc(C)sc1C',\n",
       " 'CC1=CCC23C(C)CCC(C(C)C)C2C13',\n",
       " 'CC1CCC2C(C1)C(C(C)C)CCC2(C)O',\n",
       " 'Nc1ccc2nnc(C3CC3)n2c1',\n",
       " 'CC1=CC(=O)CC(C)(C)C1',\n",
       " 'CC=CCCCCCCCCCC',\n",
       " 'CCCCCCC(=O)OCc1ccccc1',\n",
       " 'CCCCCCCCCCCCCCCCCC(=O)[O-]',\n",
       " 'CCCCCCCC1CCCC(=O)O1',\n",
       " 'CCC=CCC(=O)OC',\n",
       " 'O=CCCCCCCC=C1CO1',\n",
       " 'C=CC1(C)CCC(C(C)CO)O1',\n",
       " 'CCCCCC=CCCCCCO',\n",
       " 'CC1=CCCC(C)(C)C(C2CC=CCCC2)C1',\n",
       " 'COC(=O)CCSC',\n",
       " 'CC(C)CCOC=O',\n",
       " 'C=C(C)CCO',\n",
       " 'C=C1CCC2C(C)=CCC(C(C)C)C2C1',\n",
       " 'CCCC(=O)OC(C)C(C)=O',\n",
       " 'c1nc(C2CCCNC2)n2c1CCCC2',\n",
       " 'O=C([O-])C=Cc1ccccc1',\n",
       " 'COc1cc(OC)cc(OC)c1',\n",
       " 'CC(=O)OC1C=C(C)C2CC(=C(C)C)CC2C(C)C1',\n",
       " 'CCCCCC(=O)C(C)C(C)=O',\n",
       " 'C=CCCCCCCCCC(=O)OC',\n",
       " 'Cc1ccoc1[O-]',\n",
       " 'CC(=O)c1cccs1',\n",
       " 'CCOC(=O)CCSC',\n",
       " 'CC(=O)C=CC1=C(C)CCCC1(C)C',\n",
       " 'Cc1ccoc1',\n",
       " 'CCCCOC(=O)Cc1ccccc1',\n",
       " 'CC(C)CC=C(C=O)C(C)C',\n",
       " 'CCCC(=O)OC(CC)c1ccccc1',\n",
       " 'C=CC1(C)CCC(C(=C)C)CC1C(=C)C',\n",
       " 'CCCCC=CO',\n",
       " 'CCCCC1OC(=O)CC1C',\n",
       " 'CC(=O)CC1=CCCCC1',\n",
       " 'C1CCCCCCCCCCCCC1',\n",
       " 'CCCC(C)C(=O)CC',\n",
       " 'CCOC(=O)CC(C)O',\n",
       " 'COc1ccc(COC(=O)Cc2ccccc2)cc1',\n",
       " 'CCC(C)(O)CCCC(C)C',\n",
       " 'Cc1nc(CN2C[C@@H](F)C[C@H]2CN)cs1',\n",
       " 'CCCCCc1cccc(=O)o1',\n",
       " 'COc1ccccc1C',\n",
       " 'CCCCCCCCCC(C)OC(C)=O',\n",
       " 'Cc1ccc(C)cc1',\n",
       " 'CC1=CC(=O)C2C3C1C2(C)CCCC3(C)C',\n",
       " 'CCCCCCCCCCCCCCCC(C)C',\n",
       " 'CCCc1ccc(O)cc1',\n",
       " 'CCCCCCCCCCCCCCCO',\n",
       " 'C=C(C)C1CCC(C)C=C1O',\n",
       " 'CC=Cc1ccc(O)c(OC)c1',\n",
       " 'NCC1CCCCN1CCO',\n",
       " 'O=c1[nH]nc(C2CC2)cc1C(F)(F)F',\n",
       " 'CCCCCC=CCCC(=O)[O-]',\n",
       " 'CCCCCCCCCCCCCCC(C)=O',\n",
       " 'CCOC(=O)C(C)C',\n",
       " 'CCC(N)c1ccc(F)cc1F',\n",
       " 'CCn1nccc1CCO',\n",
       " 'CSC(=O)c1ccco1',\n",
       " 'CC(=O)CC(O)C(C)C',\n",
       " 'CCCC=CO',\n",
       " 'CC(C)=CCC=C(C)CCO',\n",
       " 'CCCCC(=O)OCCC(C)CCC=C(C)C',\n",
       " 'CC(CO)c1ccccc1',\n",
       " 'Oc1ccnc(C2CC2)n1',\n",
       " 'C=CC(=C)CCC=C(C)CCC=C(C)C',\n",
       " 'CCCCCCCCCCC(=O)OC',\n",
       " 'CCCCCCOC(=O)CC(C)C',\n",
       " 'CC(=O)OCCC(C)C',\n",
       " 'CC(C)C(=O)OCC(C)c1ccccc1',\n",
       " 'O=CCc1ccccc1',\n",
       " 'CCCC=CC=CCCCCC(=O)[O-]',\n",
       " 'CC1SCCC1=O',\n",
       " 'Cn1c(C(=O)O)c2n(c1=O)CCCC2',\n",
       " 'CC(C)CC(=O)[O-]',\n",
       " 'CCCCC(C)=O',\n",
       " 'Cc1oc(C#N)cc1C(=O)O',\n",
       " 'CC1(C)C2CCC(CO)C1C2',\n",
       " 'CC(C)n1ncc(C(N)=O)c1N',\n",
       " 'CCCCCCCOC(=O)CCC',\n",
       " 'Cc1ccoc1CC1OC1(C)C',\n",
       " 'CCSC',\n",
       " 'NC(=O)Cc1c(F)cccc1F',\n",
       " 'Cc1ccc(C(C)C)cc1',\n",
       " 'NS(=O)(=O)C1CCC(C(F)(F)F)CC1',\n",
       " 'Nc1nnc(Cc2ccc(F)cc2)s1',\n",
       " 'CCCCCCCCCCCCCCOC(C)=O',\n",
       " 'CCCc1ccccc1O',\n",
       " 'Cc1ccc(C=O)c(C)c1',\n",
       " 'CC1=CCC(C(C)(C)S)CC1',\n",
       " 'CC(=O)C(=O)[O-]',\n",
       " 'O=C(Nc1nccs1)C1CCCNC1',\n",
       " 'Cc1sccc1CC(=O)O',\n",
       " 'Cc1ncc(CC(=O)O)s1',\n",
       " 'CCCCC(CC)CO',\n",
       " 'O=C1C=CCCC1',\n",
       " 'CCCCCCCC1CCC(=O)O1',\n",
       " 'CC(C)=CCCC(C)C1(O)CC=C(C)CC1',\n",
       " 'COCC(C)=O',\n",
       " 'C=C(C)C1CCC(C)CC1OC(C)=O',\n",
       " 'CC=CCCCO',\n",
       " 'CCC1OCCC1C(=O)O',\n",
       " 'CC12CCC(C1)C(C)(C)C2=O',\n",
       " 'C/C1=C/C2C(CC/C(C)=C\\\\CC1)C2(C)C',\n",
       " 'CC1=CC2C(=C(C)CCCC2(C)C)CC1',\n",
       " 'Cc1cc(C(C)(C)C)c(O)c(C(C)(C)C)c1',\n",
       " 'COc1ccc(C)cc1C',\n",
       " 'CCC1CCC1O',\n",
       " 'OCCC1CCCCC1',\n",
       " 'CCC=CCC=CCC=CCCO',\n",
       " 'C=CCC(CC)C(=O)CC',\n",
       " 'c1ccc(Cc2c[nH]cn2)cc1',\n",
       " 'CC=C(C)C(=O)OC(CC)CCCCC',\n",
       " 'CCC(=O)OCc1ccc(OC)cc1',\n",
       " 'Cc1nc2c(s1)CCCC2C(=O)O',\n",
       " 'C1CCSC1',\n",
       " 'CC(=O)C=Cc1c(C)ccc(C)c1C',\n",
       " 'CCc1ccc(C(C)=O)cc1',\n",
       " 'Cc1ccc(O)c(C)c1',\n",
       " 'CC(=O)CCCC(C)CCCC(C)CCCC(C)C',\n",
       " 'CCCC(=O)OCC1CCCO1',\n",
       " 'C=CC(C)CCCC(C)(C)O',\n",
       " 'CCCC(=O)OC(C)c1ccccc1',\n",
       " 'CC(C)=CC(=O)[O-]',\n",
       " 'C/C1=C/CCC2(C)OC2CC(C)(C)/C=C\\\\C1',\n",
       " 'O=C(O)Cc1cnccc1C(F)(F)F',\n",
       " 'CC(=O)OC(C)CCC=C(C)CCC=C(C)C',\n",
       " 'CC(=O)Oc1ccccc1',\n",
       " 'CCCCCCCCCC=CCO',\n",
       " 'CCCC=CC=CCCCO',\n",
       " 'CC(C)CC(=O)OCc1ccco1',\n",
       " 'OCc1ccco1',\n",
       " 'CC(=O)OCC1=CCC2CC1C2(C)C',\n",
       " 'O=CCCCCCCCCC=O',\n",
       " 'C=CC(C)=CC(O)C=C(C)C',\n",
       " 'CCC(C)C(=O)OC(C)C',\n",
       " 'Cc1o[c-](C)c(=O)c1O',\n",
       " 'CC1=C(C)C2CCC1C2',\n",
       " 'C=CCc1ccc(O)c(OC)c1',\n",
       " 'CC(=O)C=CC12OC1(C)CCCC2(C)C',\n",
       " 'CCCCCCCCCCCCCCCC=O',\n",
       " 'Cl.Cl.NCc1ccncc1C(F)(F)F',\n",
       " 'CC1=CCC2C(C1)C2(C)C',\n",
       " 'CCOC(C)=O',\n",
       " 'CC(C)(C)C(=O)[O-]',\n",
       " 'C=CCCCCCCCCCCCCCCC',\n",
       " 'CCCC(CCOC(C)=O)SC',\n",
       " 'CC=C(C)C(=O)OCC=CCCC',\n",
       " 'CC(C)CC(=O)OCCCc1ccccc1',\n",
       " 'CCCc1ccco1',\n",
       " 'CCOC(=O)c1ccccc1',\n",
       " 'COc1ccc2ccc(=O)oc2c1',\n",
       " 'C=C1CCC2(C(C)C)CC12',\n",
       " 'CCC1OC=C(CO)C1=O',\n",
       " 'CC(C)CCOC(=O)c1ccccc1',\n",
       " 'CC1CC(=O)C(=O)C1C',\n",
       " 'Cc1ccccc1C',\n",
       " 'CC=C(C)C(=O)OCCC',\n",
       " 'CCCCCCCCCCC=O',\n",
       " 'COc1cc(C)cc(OC)c1O',\n",
       " 'CCCCCCCCC(=O)OCC',\n",
       " 'CC1CCC(=O)O1',\n",
       " 'OC1CCC2CCCCC2C1',\n",
       " 'CCC(C)(O)CCc1ccccc1',\n",
       " 'CC=CC(C)O',\n",
       " 'CC=CC(O)CCCC',\n",
       " 'CC1(C)CCCC2(C)OC(=O)C=C12',\n",
       " 'C=C(C)C1C/C=C(/C)CC/C=C(/C)CC1',\n",
       " 'COC(=O)Cc1ccccc1',\n",
       " 'CC1(C)CC(O)C(C)(C)O1',\n",
       " 'CC1=CCC2(C(C)C)CC12',\n",
       " 'CCOC(=O)CCC(C)C',\n",
       " 'CCC=CCC=CCC=CCCCCCCC=O',\n",
       " 'CCCCCCCCCC(=O)c1ccccc1',\n",
       " 'SCCc1ccccc1',\n",
       " 'CC(=O)c1ccccc1O',\n",
       " 'CCCCCCC1CCCC(=O)O1',\n",
       " 'CCCC(C)C(C)CC',\n",
       " 'CC1CCCC(C)(C)C1=O',\n",
       " 'O=CCCCCCCCC=C1CO1',\n",
       " 'CC(C)=CCCC(C)(O)C1CO1',\n",
       " 'COC(=O)c1ccccc1',\n",
       " 'CCOc1cccc(C)n1',\n",
       " 'C=CC(C)=CCC=C(C)C',\n",
       " 'CCCCOC(=O)CCC(C)=O',\n",
       " 'COc1ccc(C(C)=O)cc1OC',\n",
       " 'CCC=CCCOC(=O)CC(C)C',\n",
       " 'CC(C)=C1CCC(C)C2=C(C1)C(C)CC2',\n",
       " 'CC=CC=CCCC=CC(=O)[O-]',\n",
       " 'CCCCOC(=O)CCCC',\n",
       " 'C=CCOC(=O)C(CC)CC',\n",
       " 'CCCCOC(=O)c1ccc(O)cc1',\n",
       " 'CCCCC(=O)OCC',\n",
       " 'O=C(OCCc1ccccc1)c1ccccc1O',\n",
       " 'CCc1ccc(C=O)cc1',\n",
       " 'CCCCCCCCOC(=O)C(C)C',\n",
       " 'CC(C)CCOC(=O)C=Cc1ccccc1',\n",
       " 'O=C([O-])COc1ccccc1',\n",
       " 'Cc1cccc(NC(=O)Cn2cncn2)c1',\n",
       " 'CC1CCC(C(C)(C)O)CC2=C1CCC2C',\n",
       " 'CC(=O)CCc1ccc2c(c1)OCO2',\n",
       " 'CCc1ccc(C)cc1',\n",
       " 'CCCCCCCCCCCCCC(C)=O',\n",
       " 'C=CC(C)=CC=CC(=C)C',\n",
       " 'CC1CCC2C(C)(C)C3CC12CCC3(C)O',\n",
       " 'C=CCCCCCCCC(=O)CCC(=O)CCCCC=C',\n",
       " 'CCCCCCC(=O)OCCCC',\n",
       " 'CC1=CC(=O)CCC1',\n",
       " 'CC(C)c1ccc(CO)cc1',\n",
       " 'CC(=O)OC1CCCCC1',\n",
       " 'CCCC=CC(=O)[O-]',\n",
       " 'C=C(C)C1CCC(C)C2=C(C1)C(C)CC2',\n",
       " 'CCCC(=O)CCC',\n",
       " 'CC(C)=CCCC1(C)C2CC=C(C)C1C2',\n",
       " 'CCCCCCCCCCCCCCC',\n",
       " 'O=C1CCc2ccc(F)cc2N1',\n",
       " 'CCCCO',\n",
       " 'CC=CC=CC=O',\n",
       " 'CCCCCOC(=O)c1ccco1',\n",
       " 'CC(=O)C=Cc1ccccc1',\n",
       " 'COc1cccc(OC)c1O',\n",
       " 'CCC(C)C(=O)OCc1ccccc1',\n",
       " 'CCC(C)COC(=O)CC(C)C',\n",
       " 'COc1ccc(C(=O)O)cc1',\n",
       " 'CC1(C)C2CCC(=O)C1C2',\n",
       " 'C=CCCCO',\n",
       " 'CC1(C)C2CC3C(C2)C31C',\n",
       " 'CC(C)COC=O',\n",
       " 'CC=CC(=O)OCc1ccccc1',\n",
       " 'COc1ccc(C(C)=O)cc1',\n",
       " 'C=CCc1ccc(O)cc1',\n",
       " 'CC(=O)OCCC(C)CCC=C(C)C',\n",
       " 'C=C1C(O)CC2CC1C2(C)C',\n",
       " 'CC(=O)OC(C)(C)C1CCC(C)C2=C(C1)C(C)CC2',\n",
       " 'CCCCCCCCC=O',\n",
       " 'CC=C(C)C=CC=C(C)C',\n",
       " 'C=CC(C)(O)CCCC(C)CCCC(C)CCCC(C)C',\n",
       " 'CCCCCCCO',\n",
       " 'CC1=CCC(C2(C)CCC(O)C(C)(C)O2)CC1',\n",
       " 'Cc1ccc(C)c(O)c1',\n",
       " 'CCCCCC(C)=O',\n",
       " 'CCCCOC(=O)CC(C)C',\n",
       " 'CCCCOC(=O)C(C)CC',\n",
       " 'CN(C)c1cc(C#N)ccn1',\n",
       " 'C=CCCC(C)=O',\n",
       " 'CC12CCC(CC1=O)C2(C)C',\n",
       " 'CCOC(=O)CSC',\n",
       " 'CCCCCCOC(=O)c1ccco1',\n",
       " 'CC(=O)OCC1CCCO1',\n",
       " 'O=C1NCCN1c1ccccc1C(F)(F)F',\n",
       " 'CCCCCCC=C(C)C(C)=O',\n",
       " 'CC1=CCC(C(C)(C)OC(=O)C(C)C)CC1',\n",
       " 'CC(C)COC(=O)Cc1ccccc1',\n",
       " 'CCCCCC(C)O',\n",
       " 'CC(S)C(=O)[O-]',\n",
       " 'CC1CCCCC1',\n",
       " 'CCCCOC(=O)CC',\n",
       " 'NCc1ccccc1CN1CCOCC1',\n",
       " 'CCCCCCCCCCC(=O)[O-]',\n",
       " 'CC(C)(O)c1ccccc1',\n",
       " 'C=C1/C=C\\\\C(C(C)C)CC/C(C)=C\\\\CC1',\n",
       " 'CC(C)O',\n",
       " 'CCCC(C)=O',\n",
       " 'CC1=CCC(C(C)C)C=C1',\n",
       " 'CC(C)=CC1CC(C)CCO1',\n",
       " 'CCc1ccccc1C',\n",
       " 'CC(C)=CCCC(C)C1C=CC(C)=CC1',\n",
       " 'CC=CC(=O)OCCCCCC',\n",
       " 'CCCCCCCCOC(=O)c1ccco1',\n",
       " 'C=C(C)c1ccc(C)cc1',\n",
       " 'CCC(C)COC(C)=O',\n",
       " 'C=CC=CCC=CC',\n",
       " 'CC(=CCCC1(C)C2CC=C(C)C1C2)CO',\n",
       " 'C=CCCC(=O)[O-]',\n",
       " 'C=CC(O)CC',\n",
       " 'Cl.O=S1(=O)CCC(NC2CCCC2)C1',\n",
       " 'C=CC(C)(CCC=C(C)C)OC=O',\n",
       " 'CCCCCCCCCC(=O)CCCCCCCCC',\n",
       " 'CC1(C)OC2(C)CCC1CC2O',\n",
       " 'Cn1cc(N)c(C(=O)NC2CCC2)n1',\n",
       " 'CSC(C)CC=O',\n",
       " 'CC1=CCC2CC1C2(C)C',\n",
       " 'O=C(OCCO)c1ccccc1',\n",
       " 'C=CC(C)(CCC=C(C)C)OC(=O)CCC',\n",
       " 'C=C(C)C1CCC(C)C(O)C1',\n",
       " 'CC(C)=CCCC(C)c1ccc(C)cc1',\n",
       " 'CCCCCCCCCCCCCCCCCCCC',\n",
       " 'CC1C(O)CC2(C(C)C)CC12',\n",
       " 'Cc1ccccc1C(C)C',\n",
       " 'C=CC(C)(C)O',\n",
       " 'CC(=O)OCC=C(C)CCC=C(C)C',\n",
       " 'C=CC(=O)CCCCCC',\n",
       " 'O=C([O-])C1CCCCC1',\n",
       " 'CCC(C)C(=O)[O-]',\n",
       " 'NS(=O)(=O)c1ccc2c(c1)CC(=O)N2',\n",
       " 'CCCCC(O)CCC',\n",
       " 'CC=C(C)C(=O)OCCC(C)CCC=C(C)C',\n",
       " 'CCC1CN(S(C)(=O)=O)CCC1N',\n",
       " 'Cc1cnc(C2CCCCN2)s1',\n",
       " 'CC(C(=O)[O-])c1ccccc1',\n",
       " 'CCCCCC(CC)C(=O)[O-]',\n",
       " 'O=C(O)CC1CCCCNC1=O',\n",
       " 'C=C(C)C1CC=C(COC(C)=O)CC1',\n",
       " 'CCC(C)CC(=O)[O-]',\n",
       " 'CC(=O)OCC=Cc1ccccc1',\n",
       " 'CCCCCCCCC(=O)CC',\n",
       " 'O=C1Nc2ccc(F)cc2C1O',\n",
       " 'CCOC(=O)CCC1CCCCC1',\n",
       " 'CC(N)C1CN(C)CCO1',\n",
       " 'C=CC1(C)C=C2CCC3C(C)(C)CCCC3(C)C2CC1',\n",
       " 'COC(=O)CC(C)O',\n",
       " 'C=C(CCO)CCC=C(C)C',\n",
       " 'CCC(=O)OCCC(C)C',\n",
       " 'NC(CN1CCCC1=O)c1ccccc1',\n",
       " 'CCC(=O)OCC1CCCO1',\n",
       " 'CCC1OC(=O)C(O)=C1C',\n",
       " 'O=C(c1ccccc1)C(O)c1ccccc1',\n",
       " 'C=C1C2CCC(C2)C1(C)CCC=C(C)C',\n",
       " 'CCCCCC#CC(=O)OC',\n",
       " 'C=C1CC2CCC1C2(C)C',\n",
       " 'Cn1[nH]c(=O)c2ccccc21',\n",
       " 'CCCC(CCO)SC',\n",
       " 'CCCCCCC(=O)CCC',\n",
       " 'CC=Cc1cc(OC)c(OC)c(OC)c1',\n",
       " 'CCc1ccccc1',\n",
       " 'CCCCCCCCCCC(C)=O',\n",
       " 'CC(C)(C)c1ccc(O)cc1',\n",
       " 'CCCCCC',\n",
       " 'CCCC=CCOC(C)=O',\n",
       " 'Cc1ccc(C)c(O)c1C',\n",
       " 'O=Cc1ccoc1',\n",
       " 'CC1=CCC(=O)O1',\n",
       " 'CC=C(C)C(=O)[O-]',\n",
       " 'CCC=CCC1C(=O)CCC1CC(=O)OC',\n",
       " 'CC(=O)CC(C)(C)S',\n",
       " 'O=C(OCc1ccccc1)c1ccccc1',\n",
       " 'COc1ccc(O)cc1',\n",
       " 'Cc1cc(C)cc(C)c1',\n",
       " 'CCC(=O)C(C)=O',\n",
       " 'CC1CCC(C(C)(C)S)C(=O)C1',\n",
       " 'COc1ccc(CO)cc1',\n",
       " 'CCCCCCOC(=O)CCCC',\n",
       " 'CCCCC(=O)CC',\n",
       " 'CCCCCCCCCCCC=O',\n",
       " 'C=C(C)C1CCC2(C)CCCC(=C)C2C1',\n",
       " 'COc1cc(C)ccc1C(C)C',\n",
       " 'CCCCCC(CC)OC(C)=O',\n",
       " 'CC=CC(=O)C1=C(C)CCCC1(C)C',\n",
       " 'Cc1ccc2cc(C)ccc2c1',\n",
       " 'CC(C)CC(C)(C)C',\n",
       " 'CCC1OC1CCO',\n",
       " 'Nc1cnc(C(F)(F)F)nc1',\n",
       " 'CCC(=O)C(=O)CC',\n",
       " 'CCCCCCC=CC(C)=O',\n",
       " 'CC=Cc1ccc(OC)cc1',\n",
       " 'CC(C)C12CCC(C)(CC1)O2',\n",
       " 'CCCCCOC(C)=O',\n",
       " 'CC1CCC(C(C)C)C(=O)C1',\n",
       " 'C=CCOC(=O)CC',\n",
       " 'COc1ccc(C=O)cc1',\n",
       " 'CCCCCC(=O)OC(C)CCC',\n",
       " 'O=C1CCCCC1',\n",
       " 'CC(C)=CCCC(C)=CC=O',\n",
       " 'C=C(C)C1CCC(C)=C1CC(C)(C)COC(=O)CC',\n",
       " 'CC12CCCC3(C=CC(C)(C)C3CC1)C2',\n",
       " 'CCCCCCC=CCCCCCCO',\n",
       " 'C=C1C=CC2CC1C2(C)C',\n",
       " 'CCCCCCCCCCCCCCCCC(=O)[O-]',\n",
       " 'CCCCC(O)C(=O)OCC',\n",
       " 'CCC=CCCOC(C)=O',\n",
       " 'Cn1c(=O)[nH]c2ccccc21',\n",
       " 'CCc1ccc(CC)cc1',\n",
       " 'O=C(OC1CCCCC1)c1ccccc1',\n",
       " 'OC1(c2ccccc2)CCCC1',\n",
       " 'CC1=CC(O)C(C(C)C)CC1',\n",
       " 'C=C1CCCC2(C)CCC(C(C)(C)O)CC12',\n",
       " 'C=O',\n",
       " 'CCCCCCCCCC(=O)CC',\n",
       " 'CC1=CCCC(C)(C)C1C=CC(C)O',\n",
       " 'CCCCCC1CCCC(=O)O1',\n",
       " 'Cc1ccc(C(C)C)cc1O',\n",
       " 'CC1CCC(=O)CC1',\n",
       " 'CCOC(=O)C1OC1(C)c1ccccc1',\n",
       " 'C=CCOC(=O)CCCCCCCC',\n",
       " 'O=C(C=Cc1ccccc1)OCC=Cc1ccccc1',\n",
       " 'C=C(C)C1CCC(=C)C(OO)C1',\n",
       " 'CCCCC(C)CCC(=O)[O-]',\n",
       " 'COC(=O)COc1ccc(C)cc1',\n",
       " 'CCC(C)CO',\n",
       " 'CCCCCCCCCCCCOC(C)=O',\n",
       " 'CCOC(=O)C(C)CC',\n",
       " 'CC(C)c1noc([C@]23CCC[C@H]2CNC3)n1.Cl',\n",
       " 'CCC(O)CC',\n",
       " 'COc1ccccc1',\n",
       " 'Cc1cc(CO)c2ccccc2n1',\n",
       " 'C=C1CCC(C(C)C)C2C=C(C)CCC12',\n",
       " 'CCOCCCO',\n",
       " 'COC(=O)c1cccc(O)c1',\n",
       " 'COc1ccc(C)cc1OC',\n",
       " 'OC(c1ncc[nH]1)c1ccco1',\n",
       " 'C1=CCCCC1',\n",
       " 'CC1=CC2OCC(C)C2CC1',\n",
       " 'CC(C)=CCCC(C)(O)C1CC=C(C)CC1',\n",
       " 'CCCCCCC=CCO',\n",
       " 'CCOC(=O)c1ccco1',\n",
       " 'CC=CCCCCCCCC',\n",
       " 'CCCCCCCC(=O)OCCCCCC',\n",
       " 'C=C(C)C=O',\n",
       " 'CC=CC(=O)CCCCC',\n",
       " 'CCc1cc2c(cc1C(C)=O)C(C)(C)CCC2(C)C',\n",
       " 'COCC=C(C)CCC=C(C)C',\n",
       " 'CCCCCCCCCCCC(=O)OCCCC',\n",
       " 'C=C(C)c1ccccc1',\n",
       " 'CC1=CCCC2(C)CCC(C(C)(C)O)CC12',\n",
       " 'CCC=C1OC(=O)c2ccccc21',\n",
       " 'CCC(=O)OCc1ccccc1',\n",
       " 'CC1=C2CC3CCC(C)C2(CC1)C3(C)C',\n",
       " 'CC(C)=C1CCC(C)(O)CC1',\n",
       " 'CC(=O)OC(C)c1ccccc1',\n",
       " 'CC=CCCCCCCCCCCC',\n",
       " 'COC(=O)CCC(C)C',\n",
       " 'CCCCCC=CC=CC(=O)OCC',\n",
       " 'Cc1cccc(C)c1C',\n",
       " 'O=C(OCCc1ccccc1)c1ccco1',\n",
       " 'Nc1nnc(-c2c(F)cccc2Cl)o1',\n",
       " 'CCCCCCCCCCCCCC(=O)OC',\n",
       " 'C=CC(C)(O)CCCC(C)C',\n",
       " 'CC(C)c1cccc(C(C)C)c1O',\n",
       " 'COc1ccc(COC(C)=O)cc1',\n",
       " 'COC(C)(C)C1CC=C(C)CC1',\n",
       " 'Clc1cccc(C2CNCCN2)c1',\n",
       " 'O=C(Cc1ccccc1)OCc1ccccc1',\n",
       " 'CC(=O)CC(C)C',\n",
       " 'C=C(C)C1CC=C(C)C(=O)C1',\n",
       " 'OC1CCCCC1',\n",
       " 'CC1=C(O)C(=O)CC1',\n",
       " 'Cl.NCCC1C(=O)Nc2ccc(F)cc21',\n",
       " 'COC(CC(C)CCCC(C)(C)O)OC',\n",
       " 'C=CCCCCCCCCCCC',\n",
       " 'CCCCC1CCCC(=O)O1',\n",
       " 'CC(C)CCCO',\n",
       " 'CCCCCCCCCCCCCCCCO',\n",
       " 'CC(C)CC(C)O',\n",
       " 'CC(=O)c1ccc(C)o1',\n",
       " 'O=S(=O)(c1cn[nH]c1)N1CCCCC1',\n",
       " 'C=C(C)C1CCC2=CCCC(C)C2(C)C1',\n",
       " 'C=C(C)C(=O)OCC',\n",
       " 'CCCCC1CCC(=O)O1',\n",
       " 'O=COCC=Cc1ccccc1',\n",
       " 'CC1=CC(=O)C(C(C)C)CC1',\n",
       " 'CCCCC1CCCCC1',\n",
       " 'OCC=Cc1ccccc1',\n",
       " 'CC(C)CCCC(C)CCO',\n",
       " 'CCCCCCCC=CC(=O)OCC',\n",
       " 'CC(C)CC(=O)Cc1ccccc1',\n",
       " 'COC(=O)Cc1ccc(C(C)(C)C)cc1',\n",
       " 'COCC1=C(C)C(=O)C(C)=CC1=O',\n",
       " 'CCCC(C)C(=O)OC',\n",
       " 'CC1=CC2C(=C(C)CCC2C(C)C)CC1',\n",
       " 'O=C[O-]',\n",
       " 'Cc1cccs1',\n",
       " 'CC1=CCC(O)(C(C)C)CC1',\n",
       " 'CC1=CC2C(=CC1)C(C)CCC2C(C)C',\n",
       " 'C=CC(=O)OCCCC',\n",
       " 'CSCCCCO',\n",
       " 'CCC=CCCOC(=O)CCC',\n",
       " 'CCCCCCCCCC=O',\n",
       " 'COc1ccc(CC(C)=O)cc1',\n",
       " 'CS(C)=O',\n",
       " 'C=CCOC(=O)Cc1ccccc1',\n",
       " 'CC(C)COC(=O)c1ccccc1O',\n",
       " 'CC1CNC(=O)CC(C)C1',\n",
       " 'CCOCCOCCO',\n",
       " 'C=C1C=CC(=O)O1',\n",
       " 'CCCCC(C)C(C)=O',\n",
       " 'CCCCCCOC(=O)CC',\n",
       " 'CC1=CCC(C2(C)CCC(C(C)(C)O)O2)CC1',\n",
       " 'Cc1ccc(C=O)c(O)c1',\n",
       " 'C=Cc1ccc(O)cc1',\n",
       " 'C=CCCC(C)C=C(C)C',\n",
       " 'CCCc1ccc(OC)cc1',\n",
       " 'O=C(O)c1cncc(F)c1',\n",
       " 'CCCC(=O)OCC=C(C)CCC=C(C)C',\n",
       " 'CC(=O)C(C)=O',\n",
       " 'Cc1cnn(Cc2ccccc2F)c1N',\n",
       " 'CC1=C2C(CC1)C(C)CCC1C2C1(C)C',\n",
       " 'CCCCCCCCCCCCCCCC(=O)[O-]',\n",
       " 'CCCCCOC=O',\n",
       " 'CCCCCCCCCC(=O)[O-]',\n",
       " 'CCCC(CS)OC=O',\n",
       " 'O=C1NCCCN2CCCC12',\n",
       " 'CCCCC(C)O',\n",
       " 'CC(=O)c1cc(C)oc1C',\n",
       " 'CC1=CCC(C(C)(C)O)CC1',\n",
       " 'C=C(O)CCC',\n",
       " 'CCC(=O)C(C)O',\n",
       " 'COc1ccccc1C(N)c1nccn1C',\n",
       " 'CCOC(=O)C(C)=O',\n",
       " 'CCCCCCCCOC(=O)CCC',\n",
       " 'C=CC(C)(CCC=C(C)C)OC(=O)CC(C)C',\n",
       " 'COc1ccc(OC)c(OC)c1',\n",
       " 'C1=CC2(CC1)CCCCC2',\n",
       " 'CCCOC(=O)CCC',\n",
       " 'Cc1nn(C)c(C)c1CC(N)=O',\n",
       " 'C=C1CCC2OC2(C)CCC2C1CC2(C)C',\n",
       " 'CCCCCCCCOC(=O)CCCCCCC',\n",
       " 'FC(F)(F)c1cnc(C2CCCNC2)[nH]1',\n",
       " 'O=C1Nc2ccccc2CCC1O',\n",
       " 'CCC(C)C(=O)OCCc1ccccc1',\n",
       " 'Cc1ccc(C(C)C)c(O)c1',\n",
       " 'CCCCCCCC(=O)OCc1ccccc1',\n",
       " 'CCCCCCCCCCCCCC=O',\n",
       " 'CC(C)=CC=O',\n",
       " 'CCCCCCCCCCCCCCCC(=O)OCC',\n",
       " 'CC(C)CCOC(=O)Cc1ccccc1',\n",
       " 'COC(=O)CCc1ccccc1',\n",
       " 'CC1CCCC1(C)C(=O)O',\n",
       " 'CCCCCCCCCC(=O)OCCCC',\n",
       " 'CCC(C)CCOC(=O)C(C)CC',\n",
       " 'CCCCCCCCCCC(=O)c1ccccc1',\n",
       " 'COC(=O)c1ccccc1C',\n",
       " 'CCC12CCCC(C)(OC1)O2',\n",
       " 'CCC(C)C(C)C(C)C',\n",
       " 'C=CCOC(=O)CCCCCCC',\n",
       " 'CCCCCCCCCCCCCCCCCCC=O',\n",
       " 'CCCCCCCCCCCCCCCCOC(C)=O',\n",
       " 'CCCCCCC(C)CCCCC',\n",
       " 'CCCCCCOC(=O)CCCCC',\n",
       " 'COC(=O)c1ccco1',\n",
       " 'CN1CCC2OCCNC2C1',\n",
       " 'CCC(=O)OC1CCCCC1',\n",
       " 'CC1(C)C2CCC(C2)C1(C)O',\n",
       " 'COCCn1nc(C)c(N)c1C',\n",
       " 'CCCCCCCOCC',\n",
       " 'CCCCCC=CC(=O)OC',\n",
       " 'CC12C=CCC1C1CCC3CC(O)CCC3(C)C1CC2',\n",
       " 'CC(C)c1ncc(Cl)c(C(N)=O)n1',\n",
       " 'C=C(C)C(=O)OC',\n",
       " 'O=c1ccc2ccccc2o1',\n",
       " 'O=CC=Cc1ccccc1',\n",
       " 'CC(C)=CCCC(C)O',\n",
       " 'C=CC(=O)CCCC',\n",
       " 'CCCCCC(=O)[O-]',\n",
       " 'CC(=O)OCC(C)C',\n",
       " 'CCC(=O)OCCOc1ccccc1',\n",
       " 'CCCCC(=O)[O-]',\n",
       " 'O=CCCCC=O',\n",
       " 'CSCCC(C)=O',\n",
       " 'CCCCOCCO',\n",
       " 'Cc1nn(C)cc1CCO',\n",
       " 'COc1ccc(C=O)cc1OC',\n",
       " 'COC(=O)CCCCCCCCCCCCC(C)C',\n",
       " 'CCCCCC(=O)OCCC(C)CCC=C(C)C',\n",
       " 'CC1=CCC(C(C)CO)CC1',\n",
       " 'CC1CCCC1',\n",
       " 'COC=O',\n",
       " 'CC1(CO)C2CC3C(C2)C31C',\n",
       " 'CC1CCNC(C(N)=O)C1',\n",
       " 'O=C(c1ccccc1)c1ccccc1',\n",
       " 'CNC(C)c1cccc(-c2ccncc2)c1',\n",
       " 'CO',\n",
       " 'CCCC=CC(=O)OCC(C)C',\n",
       " 'CCc1ccccc1O',\n",
       " 'CC(C)COC(=O)c1ccccc1',\n",
       " 'Nc1cc(C(F)(F)F)ncn1',\n",
       " 'CC(C)CCCCCCCCCCC=O',\n",
       " 'COc1ccccc1C(=O)[O-]',\n",
       " 'O=C1CC(CO)CN1Cc1ccccc1',\n",
       " 'COc1nc(C)cc(=O)[nH]1',\n",
       " 'COc1cc(C=O)ccc1O',\n",
       " 'CCc1ccco1',\n",
       " 'CCCC1CCCC(=O)O1',\n",
       " 'Cn1nc(C(=O)O)cc1C1CC1',\n",
       " 'CC=CC=CCO',\n",
       " 'CC1=CCC(C(C)(C)OC=O)CC1',\n",
       " 'CCCC=O',\n",
       " 'CC(=O)c1ccc(C)cc1',\n",
       " 'CCCCCCCCOC(=O)CC(C)C',\n",
       " 'O=C(O)CC1NC(=O)c2ccccc21',\n",
       " 'O=C([O-])c1ccccc1',\n",
       " 'CCCCCCCCCC(C)=O',\n",
       " 'CCCCCCC(C)O',\n",
       " 'CCc1occc(=O)c1O',\n",
       " 'CCCCC(CC)COC(C)=O',\n",
       " 'CC1=CC(=O)CC(C)(C)C1=O',\n",
       " 'CCc1ccc(O)c(OC)c1',\n",
       " 'CC(=O)Sc1ccoc1C',\n",
       " 'OC1CCCCC1c1cncnc1',\n",
       " 'Cc1cccc(C(CN)N2CCOCC2)c1',\n",
       " 'C[C@@H](O)c1cccc(C#N)c1',\n",
       " 'CCCCC(=O)C(C)C',\n",
       " 'C=C(C)C1CC=C(C)CC1',\n",
       " 'CCCC(=O)OC1CCCCC1',\n",
       " 'OCc1nnc(C2CC2)s1',\n",
       " 'OCc1ccc(-c2c[nH]cn2)cc1',\n",
       " 'CC1C(=O)NCCN1C(=O)c1ccccc1',\n",
       " 'CC(C)=C(C)C',\n",
       " 'CCC(=O)CC(C)C',\n",
       " 'CC(=O)CCCC(C)C',\n",
       " 'CCCCC(=O)C(C)=O',\n",
       " 'CCC(C)(O)CC',\n",
       " 'CCC=CCCOC(=O)c1ccccc1',\n",
       " 'CC(C)C1CNCCCO1',\n",
       " 'CCCCC(=O)OC',\n",
       " 'C=C(C)CCC(COC(=O)CC)C(=C)C',\n",
       " 'Cc1ccccc1',\n",
       " 'CCCC(=O)OC(C)(C)C1CC=C(C)CC1',\n",
       " 'CCc1n[nH]c(=O)c(C#N)c1CC',\n",
       " 'CCCCCCCCOC(C)=O',\n",
       " 'C=CC(O)CCCCCCC',\n",
       " 'CCCCCC=CCCCO',\n",
       " 'CCCCCCC(=O)OCc1ccco1',\n",
       " 'CC(C)CC(=O)OC1CC2CCC1(C)C2(C)C',\n",
       " 'CC(C)=CCCC(C)CCOC=O',\n",
       " 'Cc1cccc(C)c1',\n",
       " 'c1nc(CN2CCNCC2)cs1',\n",
       " 'CCOc1ccc2ccccc2c1',\n",
       " 'COc1cc(CC(C)=O)ccc1O',\n",
       " 'CCC=CCCOC(=O)CCCCC',\n",
       " 'CCCCCCCC(C)=O',\n",
       " 'CC1=C(C=CC(C)O)C(C)(C)CCC1',\n",
       " 'CCCCCCCCCO',\n",
       " 'CCCCCCCC(C)O',\n",
       " 'CCCCCCCCCCCCCCCC(=O)OC',\n",
       " 'C=CCc1ccc(OC)c(OC)c1',\n",
       " 'CC(C)Cc1nnc(N)o1',\n",
       " 'COc1cc(C(C)C)ccc1C',\n",
       " 'CCCCC(=O)OCCc1ccccc1',\n",
       " 'C=CC(C)(O)CCC1OC1(C)C',\n",
       " 'C=CCC(C)C(C)C',\n",
       " 'CCCCCCCCCCOC(=O)CCC',\n",
       " 'CC=C(C)C(=O)OC(C)C',\n",
       " 'C/C1=C/CCC(C)(O)/C=C\\\\C(C(C)C)CC1',\n",
       " 'C=C1CC=C(C(C)C)CC1',\n",
       " 'CCC(=O)OC(C)(C)C1CC=C(C)CC1',\n",
       " 'C1COCCO1',\n",
       " 'C=C(C)CC(O)CC',\n",
       " 'CCC(C)C(=O)OC(C)c1ccccc1',\n",
       " 'COc1cc(C)cc(OC)c1OC',\n",
       " 'CC(OC(=O)c1ccccc1)c1ccccc1',\n",
       " 'CCCCCCCCCCCCCCCCC',\n",
       " 'CC(C)=CCC=C(C)CC=O',\n",
       " 'O=CC(O)c1ccccc1',\n",
       " 'CC(=O)OC1CCC(C(C)(C)C)CC1',\n",
       " 'COC(=O)C1CCCCC1',\n",
       " 'CC(=O)OC(C)C',\n",
       " 'Cn1cnc2cnccc21',\n",
       " 'O=Cc1ccc2c(c1)OCO2',\n",
       " 'Cc1ccccc1C',\n",
       " 'C=CC1(C)OC(C)(C)CCC1O',\n",
       " 'C=CC(C)(C)C(O)C=C(C)C',\n",
       " 'CCCCCC=CCC=CCCCCCCCC(=O)OC',\n",
       " 'CC=C(C)C=O',\n",
       " 'C=CC(O)CCCCC',\n",
       " 'CC1=CC2OCC(C)=C2CC1',\n",
       " 'COc1cc(CCC(C)=O)ccc1O',\n",
       " 'C=CC(=C)CCC=C(C)C',\n",
       " 'Cc1[nH]nc(C(F)(F)F)c1Cl',\n",
       " 'CCOC(=O)CCc1ccccc1',\n",
       " 'CCOCCCCCC(=O)[O-]',\n",
       " 'CCCCCCC=CCCO',\n",
       " 'CC(=O)CCc1ccc(O)cc1',\n",
       " 'CCc1ccccc1C=O',\n",
       " ...]"
      ]
     },
     "execution_count": 28,
     "metadata": {},
     "output_type": "execute_result"
    }
   ],
   "source": [
    "smiles"
   ]
  },
  {
   "cell_type": "markdown",
   "id": "263ab962",
   "metadata": {},
   "source": [
    "One problem is that the stereo information is still included in the smiles. For example the `@` symbol. Another problem is the `.`. This marks the beginning of another molecule. In our case, however, these are actually only `Cl` atoms that are contained in some smiles. \n",
    "For example the molecule 61."
   ]
  },
  {
   "cell_type": "code",
   "execution_count": 29,
   "id": "42d86203",
   "metadata": {
    "scrolled": false
   },
   "outputs": [
    {
     "data": {
      "image/png": "[encoded data removed]",
      "text/plain": [
       "<rdkit.Chem.rdchem.Mol at 0x243d29b6710>"
      ]
     },
     "execution_count": 29,
     "metadata": {},
     "output_type": "execute_result"
    }
   ],
   "source": [
    "Chem.MolFromSmiles(smiles[60])"
   ]
  },
  {
   "cell_type": "markdown",
   "id": "9194548e",
   "metadata": {},
   "source": [
    "We can remove the stereo information as well as the \"extra\" molecules with string manipulations.\n",
    "\n",
    "`string.replace(\"@\", \"\")`\n",
    "\n",
    "searches the `string` for the character `@` and if it finds one, they are replaced by `\"\"`, so simply removed.\n",
    "\n",
    "*As an alternative one can also use:*\n",
    "\n",
    "```python\n",
    "Chem.MolToSmiles(Chem.MolFromSmiles(\"N[C@@H](C)C(=O)O\"),isomericSmiles=False)\n",
    "```\n",
    "The option of using `isomericSmiles = False` was not always available in RDKit.\n",
    "\n",
    "`string.split(\".\")`\n",
    "\n",
    "splits the `string` at each `\".\"`. The function outputs the individual substrings as a list.\n"
   ]
  },
  {
   "cell_type": "code",
   "execution_count": 30,
   "id": "ee7097e1",
   "metadata": {},
   "outputs": [
    {
     "data": {
      "text/plain": [
       "['Choco', 'lte']"
      ]
     },
     "execution_count": 30,
     "metadata": {},
     "output_type": "execute_result"
    }
   ],
   "source": [
    "\"Choco.l@te\".replace(\"@\", \"\").split(\".\")"
   ]
  },
  {
   "cell_type": "code",
   "execution_count": 31,
   "id": "7e6a2e42",
   "metadata": {},
   "outputs": [],
   "source": [
    "sub_molecules = []\n",
    "for smile in smiles:\n",
    "    smile = smile.replace(\"@\", \"\")\n",
    "    smile = smile.replace(\"\\\\\", \"\")\n",
    "    sub_molecules.append(smile.split(\".\"))"
   ]
  },
  {
   "cell_type": "markdown",
   "id": "74286101",
   "metadata": {},
   "source": [
    "In the next step, we just have to go through the molecule lists. If a smiles consists of several molecules, we simply select the largest molecule as the correct one."
   ]
  },
  {
   "cell_type": "code",
   "execution_count": 32,
   "id": "ae51c35b",
   "metadata": {
    "scrolled": false
   },
   "outputs": [
    {
     "data": {
      "image/png": "[encoded data removed]",
      "text/plain": [
       "<rdkit.Chem.rdchem.Mol at 0x243d29daf80>"
      ]
     },
     "execution_count": 32,
     "metadata": {},
     "output_type": "execute_result"
    }
   ],
   "source": [
    "filtered_smiles =[]\n",
    "for mol_list in sub_molecules:\n",
    "    filtered_smiles.append(mol_list[np.argmax([len(x) for x in mol_list])])\n",
    "    \n",
    "Chem.MolFromSmiles(filtered_smiles[60])"
   ]
  },
  {
   "cell_type": "markdown",
   "id": "d352cfa3",
   "metadata": {},
   "source": [
    "The molecule now no longer has the additional `HCl`."
   ]
  },
  {
   "cell_type": "markdown",
   "id": "7e2c3f20",
   "metadata": {},
   "source": [
    "The smiles are now \"clean\" and we can start preparing them for the RNN. So create a dictionary and replace the smiles with tokens. For this we again use the `creat_dict` function to create a dictionery for our data. But this time we also use the parameter `add_tokens = True`:"
   ]
  },
  {
   "cell_type": "code",
   "execution_count": 34,
   "id": "1fa1962d",
   "metadata": {
    "scrolled": true
   },
   "outputs": [
    {
     "data": {
      "text/plain": [
       "{'<sos>': 0,\n",
       " '<eos>': 1,\n",
       " '<pad>': 2,\n",
       " '#': 3,\n",
       " '(': 4,\n",
       " ')': 5,\n",
       " '-': 6,\n",
       " '/': 7,\n",
       " '1': 8,\n",
       " '2': 9,\n",
       " '3': 10,\n",
       " '4': 11,\n",
       " '=': 12,\n",
       " 'C': 13,\n",
       " 'Cl': 14,\n",
       " 'F': 15,\n",
       " 'H': 16,\n",
       " 'N': 17,\n",
       " 'O': 18,\n",
       " 'S': 19,\n",
       " '[': 20,\n",
       " ']': 21,\n",
       " 'c': 22,\n",
       " 'n': 23,\n",
       " 'o': 24,\n",
       " 's': 25}"
      ]
     },
     "execution_count": 34,
     "metadata": {},
     "output_type": "execute_result"
    }
   ],
   "source": [
    "np.random.seed(1234)\n",
    "dictionary = create_dict(filtered_smiles, add_tokens =True)\n",
    "dictionary"
   ]
  },
  {
   "cell_type": "markdown",
   "id": "f5c82b77",
   "metadata": {},
   "source": [
    "Three new tokens were added to the dictionary, that did not appear in the smiles.\n",
    "\n",
    "- You already know `<pad>`. It is used to bring all smiles to the same length.\n",
    "\n",
    "- `<sos>` is a token that announces the start of a smiles. \"start of sentence\". This token is set **before** each smiles.\n",
    "\n",
    "- `<eos>` indicates the end of the smiles. After the actual smiles is finished, the `<eos>` token follows, and then the padding token are added (if needed).\n",
    "\n",
    "So all our smiles should look like this:\n",
    "\n",
    "```python\n",
    "\"<sos>OCc1ccc2occc2c1<eos><pad><pad>\"\n",
    "```"
   ]
  },
  {
   "cell_type": "markdown",
   "id": "623a0ee2",
   "metadata": {},
   "source": [
    "\n",
    "Why is this necessary? Why are these special tokens needed?\n",
    "\n",
    "It's due to how a decoder works in an RNN. \n",
    "\n",
    "Here again is a reminder, this is what our model looks like:\n",
    "\n",
    "<img src=\"Img/rnn/auto_1.png\" width =\"400px\">\n",
    "\n",
    "We wrote the encoder last week, now we just need to focus on the decoder.\n",
    "The basic idea of a decoder RNN is that the SMILES are generated one token at a time.\n",
    "\n",
    "Example:\n",
    "\n",
    "The decoder receives the latent vector from the encoder:\n",
    "Based on the latent vector it generates a `C`. Now the decoder can generate another `C` using the latent vector and the information on the already generated `C`. Our current smiles is now `CC`. This step is repeated again, with the knowledge of the latent vector and the already two generated tokens `CC`.\n",
    "Now the decoder can generate a `=`: `CC=` etc...\n",
    "Theoretically, this could go on indefinitely. To prevent this the `<eos>` token is ontroduced. This token allows the network to terminate the smiles generation when it \"thinks\" it is complete.\n",
    "\n",
    "In the following, it becomes a bit more theoretical:\n",
    "To understand it in more detail, let's briefly review how an RNN works.\n",
    "\n",
    "An RNN always has two inputs. One is the regular input, i.e. the current token (smile symbol) for which a prediction has to be made.\n",
    "In addition, a hidden state is taken from the previous step. The output of the RNN for the previous token.\n",
    "\n",
    "Through the encoder, we already get the latent vector that will be our initial hidden state for the decoder. \n",
    "\n",
    "<img src=\"Img/rnn/auto_3.png\" width =\"400px\">\n",
    "\n",
    "But what is our initial input?\n",
    "\n",
    "<img src=\"Img/rnn/auto_4.png\" width =\"400px\">\n",
    "\n",
    "The problem is, if we use the actual first token of the original smile as the first token for the decoder, it's relatively easy to predict it correctly. Therefore, we the token `<sos>` as the first input for the decoder. This token does not contain any information about the input miles. Hence the first tokenfirst token is predicted based only on the hidden state/latent vector. It is also important to note that the output of the RNN (the new hidden state) first passes through a linear layer, which then predicts the correct token.\n",
    "\n",
    "<img src=\"Img\\rnn\\auto_6.png\" width =\"400px\">\n",
    "\n",
    "In the next step, the new hidden state replaces the latent vector as the input for the next step. Also, instead of using a token of the original smile as input, the token predicted in the previous step by the decoder is used. \n",
    "So, if the decoder makes a mistake at the beginning, it continues to decode with that mistake in the generated Smiles.\n",
    "<img src=\"Img\\rnn\\auto_7.png\" width =\"400px\">\n",
    "\n",
    "This is repeated until the length of the longest smile in our dataset is reached. Of course, most smiles are not that long, so the network e can use the `<eos>` token. This allows the smiles to be terminated before the maximum length is reached. \n",
    "<img src=\"Img/rnn/auto_8.png\" width =\"400px\">"
   ]
  },
  {
   "cell_type": "markdown",
   "id": "3d385937",
   "metadata": {},
   "source": [
    "If we use ` (..., add_tokens=True)` in the `tokenize` function, `<sos>` and `<eos>` will be automatically added to each smile. The `0` represents in the `dictionary` the `<sos>` token and the `1` the `<eos>` token."
   ]
  },
  {
   "cell_type": "code",
   "execution_count": 35,
   "id": "f41cb7bf",
   "metadata": {},
   "outputs": [
    {
     "data": {
      "text/plain": [
       "[0,\n",
       " 13,\n",
       " 13,\n",
       " 8,\n",
       " 12,\n",
       " 13,\n",
       " 13,\n",
       " 4,\n",
       " 12,\n",
       " 18,\n",
       " 5,\n",
       " 13,\n",
       " 9,\n",
       " 13,\n",
       " 13,\n",
       " 8,\n",
       " 13,\n",
       " 9,\n",
       " 4,\n",
       " 13,\n",
       " 5,\n",
       " 13,\n",
       " 1]"
      ]
     },
     "execution_count": 35,
     "metadata": {},
     "output_type": "execute_result"
    }
   ],
   "source": [
    "tokenized_smiles = tokenize(filtered_smiles,dictionary, add_tokens =True)\n",
    "tokenized_smiles[7]"
   ]
  },
  {
   "cell_type": "markdown",
   "id": "fe8a9b74",
   "metadata": {},
   "source": [
    "The smiles have still all different lengths. We first calculate the number of tokens in each smile."
   ]
  },
  {
   "cell_type": "code",
   "execution_count": 36,
   "id": "414f69f3",
   "metadata": {},
   "outputs": [
    {
     "data": {
      "text/plain": [
       "42"
      ]
     },
     "execution_count": 36,
     "metadata": {},
     "output_type": "execute_result"
    }
   ],
   "source": [
    "token_lengths = np.array([len(x) for x in tokenized_smiles])\n",
    "max_length=max(token_lengths)\n",
    "max_length"
   ]
  },
  {
   "cell_type": "markdown",
   "id": "2a9e33e8",
   "metadata": {},
   "source": [
    "We can also display the number of tokens with a histogram. The problem is, the more tokens a smiles has, the more difficult it is for the decoder to recover the complete smile."
   ]
  },
  {
   "cell_type": "code",
   "execution_count": 37,
   "id": "ed4d2986",
   "metadata": {
    "scrolled": true
   },
   "outputs": [
    {
     "data": {
      "text/plain": [
       "(array([  5.,   8.,   6.,  57.,  48., 130.,  67., 180., 106., 238., 120.,\n",
       "        219., 101., 115.,  43.,  81.,  41.,  63.,  16.,  17.,   3.,   5.,\n",
       "          4.,   1.,   1.]),\n",
       " array([ 4.  ,  5.52,  7.04,  8.56, 10.08, 11.6 , 13.12, 14.64, 16.16,\n",
       "        17.68, 19.2 , 20.72, 22.24, 23.76, 25.28, 26.8 , 28.32, 29.84,\n",
       "        31.36, 32.88, 34.4 , 35.92, 37.44, 38.96, 40.48, 42.  ]),\n",
       " <BarContainer object of 25 artists>)"
      ]
     },
     "execution_count": 37,
     "metadata": {},
     "output_type": "execute_result"
    },
    {
     "data": {
      "image/png": "[encoded data removed]",
      "text/plain": [
       "<Figure size 432x288 with 1 Axes>"
      ]
     },
     "metadata": {
      "needs_background": "light"
     },
     "output_type": "display_data"
    }
   ],
   "source": [
    "plt.hist(token_lengths, bins=25)"
   ]
  },
  {
   "cell_type": "markdown",
   "id": "adc639f2",
   "metadata": {},
   "source": [
    "To reduce the impact of smiles length, we could throw out all molecules from the dataset that consist of more than 26 tokens."
   ]
  },
  {
   "cell_type": "code",
   "execution_count": 38,
   "id": "4408a464",
   "metadata": {},
   "outputs": [
    {
     "data": {
      "text/plain": [
       "232"
      ]
     },
     "execution_count": 38,
     "metadata": {},
     "output_type": "execute_result"
    }
   ],
   "source": [
    "np.sum(token_lengths>26)"
   ]
  },
  {
   "cell_type": "markdown",
   "id": "5961b2d5",
   "metadata": {},
   "source": [
    "That are exactly 232 molecules. That's not ideal, of course, but it will help us train the network. Especially with so little data, it is difficult to train an autoencoder. Nevertheless, we remove these molecules from the data set."
   ]
  },
  {
   "cell_type": "code",
   "execution_count": 39,
   "id": "1a59b37d",
   "metadata": {
    "scrolled": true
   },
   "outputs": [
    {
     "data": {
      "text/plain": [
       "1443"
      ]
     },
     "execution_count": 39,
     "metadata": {},
     "output_type": "execute_result"
    }
   ],
   "source": [
    "filtered_smiles=np.array(filtered_smiles)[token_lengths<=26].tolist()\n",
    "len(filtered_smiles)"
   ]
  },
  {
   "cell_type": "markdown",
   "id": "8acc2280",
   "metadata": {},
   "source": [
    "With the reduced data, we create a new dictionary and tokenize our data."
   ]
  },
  {
   "cell_type": "code",
   "execution_count": 40,
   "id": "82801950",
   "metadata": {},
   "outputs": [
    {
     "data": {
      "text/plain": [
       "[[0, 12, 12, 12, 12, 12, 12, 12, 4, 11, 17, 5, 17, 12, 12, 12, 1],\n",
       " [0,\n",
       "  12,\n",
       "  12,\n",
       "  4,\n",
       "  12,\n",
       "  5,\n",
       "  11,\n",
       "  12,\n",
       "  12,\n",
       "  12,\n",
       "  12,\n",
       "  4,\n",
       "  12,\n",
       "  5,\n",
       "  12,\n",
       "  8,\n",
       "  12,\n",
       "  12,\n",
       "  12,\n",
       "  4,\n",
       "  12,\n",
       "  5,\n",
       "  12,\n",
       "  12,\n",
       "  8,\n",
       "  1],\n",
       " [0, 12, 12, 12, 12, 12, 4, 12, 5, 12, 12, 1],\n",
       " [0,\n",
       "  17,\n",
       "  11,\n",
       "  12,\n",
       "  4,\n",
       "  19,\n",
       "  17,\n",
       "  6,\n",
       "  20,\n",
       "  5,\n",
       "  12,\n",
       "  11,\n",
       "  12,\n",
       "  21,\n",
       "  8,\n",
       "  21,\n",
       "  21,\n",
       "  21,\n",
       "  4,\n",
       "  17,\n",
       "  5,\n",
       "  21,\n",
       "  21,\n",
       "  8,\n",
       "  1],\n",
       " [0,\n",
       "  17,\n",
       "  11,\n",
       "  12,\n",
       "  8,\n",
       "  12,\n",
       "  12,\n",
       "  12,\n",
       "  12,\n",
       "  12,\n",
       "  12,\n",
       "  12,\n",
       "  12,\n",
       "  12,\n",
       "  12,\n",
       "  12,\n",
       "  12,\n",
       "  12,\n",
       "  12,\n",
       "  17,\n",
       "  8,\n",
       "  1]]"
      ]
     },
     "execution_count": 40,
     "metadata": {},
     "output_type": "execute_result"
    }
   ],
   "source": [
    "dictionary = create_dict(filtered_smiles, add_tokens =True)\n",
    "tokenized_smiles = tokenize(filtered_smiles,dictionary, add_tokens =True)\n",
    "tokenized_smiles[:5]"
   ]
  },
  {
   "cell_type": "code",
   "execution_count": 41,
   "id": "6a041563",
   "metadata": {},
   "outputs": [
    {
     "data": {
      "text/plain": [
       "26"
      ]
     },
     "execution_count": 41,
     "metadata": {},
     "output_type": "execute_result"
    }
   ],
   "source": [
    "token_lengths = np.array([len(x) for x in tokenized_smiles])\n",
    "max_length=max(token_lengths)\n",
    "max_length"
   ]
  },
  {
   "cell_type": "markdown",
   "id": "56e5993b",
   "metadata": {},
   "source": [
    "All our smiles now consist of a maximum of 26 characters. In a last step we have to bring the smiles that do not consist of 26 tokens to the right length. For this we use the `<pad>` token."
   ]
  },
  {
   "cell_type": "code",
   "execution_count": 42,
   "id": "c85a9700",
   "metadata": {},
   "outputs": [],
   "source": [
    "for i, tok_smi in enumerate(tokenized_smiles):\n",
    "    tokenized_smiles[i] = tok_smi+ [dictionary[\"<pad>\"]]*(max_length - token_lengths[i])"
   ]
  },
  {
   "cell_type": "markdown",
   "id": "740269fc",
   "metadata": {},
   "source": [
    "In the last step we convert the lists of tokens into a `tensor`."
   ]
  },
  {
   "cell_type": "code",
   "execution_count": 43,
   "id": "221478c6",
   "metadata": {},
   "outputs": [
    {
     "data": {
      "text/plain": [
       "tensor([[ 0, 12, 12, 12, 12, 12, 12, 12,  4, 11, 17,  5, 17, 12, 12, 12,  1,  2,\n",
       "          2,  2,  2,  2,  2,  2,  2,  2],\n",
       "        [ 0, 12, 12,  4, 12,  5, 11, 12, 12, 12, 12,  4, 12,  5, 12,  8, 12, 12,\n",
       "         12,  4, 12,  5, 12, 12,  8,  1],\n",
       "        [ 0, 12, 12, 12, 12, 12,  4, 12,  5, 12, 12,  1,  2,  2,  2,  2,  2,  2,\n",
       "          2,  2,  2,  2,  2,  2,  2,  2],\n",
       "        [ 0, 17, 11, 12,  4, 19, 17,  6, 20,  5, 12, 11, 12, 21,  8, 21, 21, 21,\n",
       "          4, 17,  5, 21, 21,  8,  1,  2],\n",
       "        [ 0, 17, 11, 12,  8, 12, 12, 12, 12, 12, 12, 12, 12, 12, 12, 12, 12, 12,\n",
       "         12, 17,  8,  1,  2,  2,  2,  2]])"
      ]
     },
     "execution_count": 43,
     "metadata": {},
     "output_type": "execute_result"
    }
   ],
   "source": [
    "tokenized_smiles=torch.tensor(tokenized_smiles, dtype=torch.long)\n",
    "tokenized_smiles[:5]"
   ]
  },
  {
   "cell_type": "markdown",
   "id": "618556c9",
   "metadata": {},
   "source": [
    "## Model\n",
    "\n",
    "Today we will not use `nn.Sequential` to build our model. For simple architectures `nn.Sequential` is a good choice. However, it is not very flexible. \n",
    "Therefore, most networks will be written \"by hand\" in PyTorch.\n",
    "\n",
    "There are two processes that a network in PyTorch must always perform:\n",
    "\n",
    "1. initialize the necessary weights \n",
    "2. pass the input through the network\n",
    "\n",
    "The initialization at `nn.Sequential()` is done automatically when the model is created."
   ]
  },
  {
   "cell_type": "code",
   "execution_count": 44,
   "id": "eea3d9d6",
   "metadata": {},
   "outputs": [
    {
     "data": {
      "text/plain": [
       "Sequential(\n",
       "  (0): Linear(in_features=10, out_features=20, bias=True)\n",
       "  (1): ReLU()\n",
       "  (2): Dropout(p=0.2, inplace=False)\n",
       "  (3): Linear(in_features=20, out_features=1, bias=True)\n",
       ")"
      ]
     },
     "execution_count": 44,
     "metadata": {},
     "output_type": "execute_result"
    }
   ],
   "source": [
    "model = nn.Sequential(nn.Linear(10,20), nn.ReLU(), nn.Dropout(0.2), nn.Linear(20,1))\n",
    "model "
   ]
  },
  {
   "cell_type": "code",
   "execution_count": 45,
   "id": "c653fd0b",
   "metadata": {},
   "outputs": [
    {
     "data": {
      "text/plain": [
       "Parameter containing:\n",
       "tensor([ 0.2677,  0.2556, -0.0610, -0.2054, -0.0865,  0.1257, -0.1274,  0.0060,\n",
       "        -0.2657,  0.1836,  0.2389, -0.1174, -0.0897, -0.0210, -0.0354, -0.0276,\n",
       "        -0.1335,  0.0564,  0.2465, -0.0102], requires_grad=True)"
      ]
     },
     "execution_count": 45,
     "metadata": {},
     "output_type": "execute_result"
    }
   ],
   "source": [
    "list(model.parameters())[1]"
   ]
  },
  {
   "cell_type": "markdown",
   "id": "ee8a67a2",
   "metadata": {},
   "source": [
    "This is how we have defined our networks so far. Each layer is automatically created and the Weights randomly initialized.\n",
    "\n",
    "However, we can also define our own networks.\n",
    "To do this, we need to create a PyTorch class. Classes in Python are similar to functions. Except that classes can also contain properties and their own functions. We will not go into the exact functionalities of classes here.\n",
    "\n",
    "The only important thing is that we can also create classes that behave like PyTorch classes.\n",
    "To do this, we first write the following code:\n",
    "\n",
    "```python\n",
    "class simple_nn(nn.modules):\n",
    "```\n",
    "With this, we specify that the class `simple_nn` is a class that belongs to `nn.Module`. So like other layers or models in PyTorch, it should belong to `nn` or at least function similarly.\n",
    "\n",
    "Next comes the initialization:  \n",
    "\n",
    "```python\n",
    "class simple_nn(nn.Module):\n",
    "    def __init__(self,input_dim, hid_dim, out_dim, dropout):\n",
    "        super().__init__()\n",
    "```\n",
    "\n",
    "`def __init__(self,input_dim, hid_dim, out_dim, dropout):` is a function that is called when the net is initialized. So for example `model = simple_nn`. Will automatically execute what is written in the `__init__` function. It is important to specify a `self` as input, in addition to the dimensions, that determine the size of the network.\n",
    "\n",
    "`self` \"contains\" all the information that are stored for this class. Information stored in `self` can also be used beyond the function in which they were intially placed there. This should become clearer in a few minutes.\n",
    "\n",
    "`super().__init__()` is part of the code that is important for PyTorch classes. This part must not be missing in the initialization.\n",
    "\n",
    "Next, we can \"store\" our linear layers and dropout in `self`:\n",
    "\n",
    "```python\n",
    "class simple_nn(nn.Module):\n",
    "    def __init__(self,input_dim, hid_dim, out_dim, dropout):\n",
    "        super().__init__()\n",
    "        \n",
    "        self.ln1 = nn.Linear(input_dim, hid_dim)\n",
    "        self.ln2 = nn.Linear(hid_dim, out_dim)\n",
    "        self.dropout = nn.Dropout(dropout)\n",
    "```\n",
    "\n",
    "`self.ln1 = nn.Linear(input_dim, hid_dim)` allows us to select the first linear layer with `self.ln1` in other function of the Pytorch class."
   ]
  },
  {
   "cell_type": "code",
   "execution_count": 46,
   "id": "057eaa9c",
   "metadata": {},
   "outputs": [],
   "source": [
    "class simple_nn(nn.Module):\n",
    "    def __init__(self,input_dim, hid_dim, out_dim, dropout):\n",
    "        super().__init__()\n",
    "        \n",
    "        self.ln1 = nn.Linear(input_dim, hid_dim)\n",
    "        self.ln2 = nn.Linear(hid_dim, out_dim)\n",
    "        self.dropout = nn.Dropout(dropout)"
   ]
  },
  {
   "cell_type": "code",
   "execution_count": 47,
   "id": "7fa453ed",
   "metadata": {
    "scrolled": true
   },
   "outputs": [
    {
     "data": {
      "text/plain": [
       "simple_nn(\n",
       "  (ln1): Linear(in_features=10, out_features=20, bias=True)\n",
       "  (ln2): Linear(in_features=20, out_features=1, bias=True)\n",
       "  (dropout): Dropout(p=0.2, inplace=False)\n",
       ")"
      ]
     },
     "execution_count": 47,
     "metadata": {},
     "output_type": "execute_result"
    }
   ],
   "source": [
    "model_2 = simple_nn(input_dim=10, hid_dim= 20, out_dim=1, dropout=0.2)\n",
    "model_2"
   ]
  },
  {
   "cell_type": "markdown",
   "id": "1a69f6d5",
   "metadata": {},
   "source": [
    "We can see that the network consists of the correct layers, but in the wrong order. Also the ReLU function is missing. This is not a big deal so far, because the function `__init__` is only supposed to initialize the model, i.e. only create the layers and their weights. ReLU has no weights and therefore does not need to be \"initialized\".\n",
    "\n",
    "Here is the proof that the network `model_2` now has random weights."
   ]
  },
  {
   "cell_type": "code",
   "execution_count": 48,
   "id": "8ef19066",
   "metadata": {
    "scrolled": true
   },
   "outputs": [
    {
     "data": {
      "text/plain": [
       "Parameter containing:\n",
       "tensor([-0.1537,  0.1427, -0.0019,  0.0311, -0.2681, -0.1257, -0.1831,  0.1772,\n",
       "         0.0488, -0.0386,  0.0610, -0.2738,  0.0278,  0.0345,  0.1009, -0.1042,\n",
       "        -0.2200,  0.0309,  0.2338,  0.0092], requires_grad=True)"
      ]
     },
     "execution_count": 48,
     "metadata": {},
     "output_type": "execute_result"
    }
   ],
   "source": [
    "list(model_2.parameters())[1]"
   ]
  },
  {
   "cell_type": "markdown",
   "id": "22093cc0",
   "metadata": {},
   "source": [
    "We can try if the model can generate an output from an input (`fake_input` consists of random numbers)."
   ]
  },
  {
   "cell_type": "code",
   "execution_count": 49,
   "id": "2b5e361c",
   "metadata": {},
   "outputs": [
    {
     "data": {
      "text/plain": [
       "tensor([0.0854], grad_fn=<AddBackward0>)"
      ]
     },
     "execution_count": 49,
     "metadata": {},
     "output_type": "execute_result"
    }
   ],
   "source": [
    "fake_input = (torch.rand(10))\n",
    "\n",
    "model(fake_input)"
   ]
  },
  {
   "cell_type": "markdown",
   "id": "0bc1d129",
   "metadata": {},
   "source": [
    "No problem for the `nn.Sequential` model."
   ]
  },
  {
   "cell_type": "code",
   "execution_count": 50,
   "id": "772cc410",
   "metadata": {},
   "outputs": [
    {
     "ename": "NotImplementedError",
     "evalue": "",
     "output_type": "error",
     "traceback": [
      "\u001b[1;31m---------------------------------------------------------------------------\u001b[0m",
      "\u001b[1;31mNotImplementedError\u001b[0m                       Traceback (most recent call last)",
      "\u001b[1;32m~\\AppData\\Local\\Temp/ipykernel_29436/402145498.py\u001b[0m in \u001b[0;36m<module>\u001b[1;34m\u001b[0m\n\u001b[0;32m      1\u001b[0m \u001b[0mfake_input\u001b[0m \u001b[1;33m=\u001b[0m \u001b[1;33m(\u001b[0m\u001b[0mtorch\u001b[0m\u001b[1;33m.\u001b[0m\u001b[0mrand\u001b[0m\u001b[1;33m(\u001b[0m\u001b[1;36m10\u001b[0m\u001b[1;33m)\u001b[0m\u001b[1;33m)\u001b[0m\u001b[1;33m\u001b[0m\u001b[1;33m\u001b[0m\u001b[0m\n\u001b[0;32m      2\u001b[0m \u001b[1;33m\u001b[0m\u001b[0m\n\u001b[1;32m----> 3\u001b[1;33m \u001b[0mmodel_2\u001b[0m\u001b[1;33m(\u001b[0m\u001b[0mfake_input\u001b[0m\u001b[1;33m)\u001b[0m\u001b[1;33m\u001b[0m\u001b[1;33m\u001b[0m\u001b[0m\n\u001b[0m",
      "\u001b[1;32m~\\anaconda3\\envs\\intro_kiv2\\lib\\site-packages\\torch\\nn\\modules\\module.py\u001b[0m in \u001b[0;36m_call_impl\u001b[1;34m(self, *input, **kwargs)\u001b[0m\n\u001b[0;32m   1049\u001b[0m         if not (self._backward_hooks or self._forward_hooks or self._forward_pre_hooks or _global_backward_hooks\n\u001b[0;32m   1050\u001b[0m                 or _global_forward_hooks or _global_forward_pre_hooks):\n\u001b[1;32m-> 1051\u001b[1;33m             \u001b[1;32mreturn\u001b[0m \u001b[0mforward_call\u001b[0m\u001b[1;33m(\u001b[0m\u001b[1;33m*\u001b[0m\u001b[0minput\u001b[0m\u001b[1;33m,\u001b[0m \u001b[1;33m**\u001b[0m\u001b[0mkwargs\u001b[0m\u001b[1;33m)\u001b[0m\u001b[1;33m\u001b[0m\u001b[1;33m\u001b[0m\u001b[0m\n\u001b[0m\u001b[0;32m   1052\u001b[0m         \u001b[1;31m# Do not call functions when jit is used\u001b[0m\u001b[1;33m\u001b[0m\u001b[1;33m\u001b[0m\u001b[1;33m\u001b[0m\u001b[0m\n\u001b[0;32m   1053\u001b[0m         \u001b[0mfull_backward_hooks\u001b[0m\u001b[1;33m,\u001b[0m \u001b[0mnon_full_backward_hooks\u001b[0m \u001b[1;33m=\u001b[0m \u001b[1;33m[\u001b[0m\u001b[1;33m]\u001b[0m\u001b[1;33m,\u001b[0m \u001b[1;33m[\u001b[0m\u001b[1;33m]\u001b[0m\u001b[1;33m\u001b[0m\u001b[1;33m\u001b[0m\u001b[0m\n",
      "\u001b[1;32m~\\anaconda3\\envs\\intro_kiv2\\lib\\site-packages\\torch\\nn\\modules\\module.py\u001b[0m in \u001b[0;36m_forward_unimplemented\u001b[1;34m(self, *input)\u001b[0m\n\u001b[0;32m    199\u001b[0m         \u001b[0mregistered\u001b[0m \u001b[0mhooks\u001b[0m \u001b[1;32mwhile\u001b[0m \u001b[0mthe\u001b[0m \u001b[0mlatter\u001b[0m \u001b[0msilently\u001b[0m \u001b[0mignores\u001b[0m \u001b[0mthem\u001b[0m\u001b[1;33m.\u001b[0m\u001b[1;33m\u001b[0m\u001b[1;33m\u001b[0m\u001b[0m\n\u001b[0;32m    200\u001b[0m     \"\"\"\n\u001b[1;32m--> 201\u001b[1;33m     \u001b[1;32mraise\u001b[0m \u001b[0mNotImplementedError\u001b[0m\u001b[1;33m\u001b[0m\u001b[1;33m\u001b[0m\u001b[0m\n\u001b[0m\u001b[0;32m    202\u001b[0m \u001b[1;33m\u001b[0m\u001b[0m\n\u001b[0;32m    203\u001b[0m \u001b[1;33m\u001b[0m\u001b[0m\n",
      "\u001b[1;31mNotImplementedError\u001b[0m: "
     ]
    }
   ],
   "source": [
    "fake_input = (torch.rand(10))\n",
    "\n",
    "model_2(fake_input)"
   ]
  },
  {
   "cell_type": "markdown",
   "id": "c6a7ed66",
   "metadata": {},
   "source": [
    "This error \n",
    "\n",
    "```python\n",
    "raise NotImplementedError\n",
    "```\n",
    "is printed. This indicates that we have not implemented this part of the model, i.e. we have not defined it in the class yet.\n",
    "\n",
    "So far `simple_nn` can only initialize the weights. But it does not yet know how to pass the inputs through the neural network. In `nn.Sequential` this is done automatically. The input is simply passed through the layers one after the other. The sequence is determined by the order of these layers at initialization. \n",
    "\n",
    "To make this work for our own class, we need another function called \n",
    "\n",
    "```python\n",
    "def forward(self, x):\n",
    "```\n",
    "\n",
    "`forward` is, as the name implies, responsible for forward pass. It determines in what order input `x` is passed through the previously defined layers.\n",
    "It is also important to note that `self` is another input besides `x`. `self` contains all the information we have already defined in `__ìnit__`.\n",
    "\n",
    "```python\n",
    "class simple_nn(nn.Module):\n",
    "    def __init__(self,input_dim, hid_dim, out_dim, dropout):\n",
    "        super().__init__()\n",
    "        \n",
    "        self.ln1 = nn.Linear(input_dim, hid_dim)\n",
    "        self.ln2 = nn.Linear(hid_dim, out_dim)\n",
    "        self.dropout = nn.Dropout(dropout)\n",
    "    \n",
    "    def forward(self,x):\n",
    "        x = self.ln1(x)\n",
    "        x = self.dropout(x)\n",
    "        x = nn.functional.relu(x)\n",
    "        output = self.ln2(x)\n",
    "        return output\n",
    "```\n",
    "\n",
    "\n",
    "Here we specify step by step what should happen to the original input. In the first step `x` is passed through the first linear layer. This was stored in `self.ln1`. Only for the activation function we don't need `self`, because it was not initialized.\n",
    "\n",
    "---\n",
    "**It is also important that we now cannot use**`nn.ReLU` **any more, but we must use** `.nn.functional.relu()`**.** \n",
    "\n",
    "---"
   ]
  },
  {
   "cell_type": "code",
   "execution_count": 51,
   "id": "c3c47976",
   "metadata": {},
   "outputs": [
    {
     "data": {
      "text/plain": [
       "einfaches_nn(\n",
       "  (ln1): Linear(in_features=10, out_features=20, bias=True)\n",
       "  (ln2): Linear(in_features=20, out_features=1, bias=True)\n",
       "  (dropout): Dropout(p=0.2, inplace=False)\n",
       ")"
      ]
     },
     "execution_count": 51,
     "metadata": {},
     "output_type": "execute_result"
    }
   ],
   "source": [
    "class einfaches_nn(nn.Module):\n",
    "    def __init__(self,input_dim, hid_dim, out_dim, dropout):\n",
    "        super().__init__()\n",
    "        \n",
    "        self.ln1 = nn.Linear(input_dim, hid_dim)\n",
    "        self.ln2 = nn.Linear(hid_dim, out_dim)\n",
    "        self.dropout = nn.Dropout(dropout)\n",
    "    \n",
    "    def forward(self,x):\n",
    "        x = self.ln1(x)\n",
    "        x = self.dropout(x)\n",
    "        x = nn.functional.relu(x)\n",
    "        output = self.ln2(x)\n",
    "        return output\n",
    "    \n",
    "model_2 = einfaches_nn(input_dim=10,hid_dim= 20, out_dim=1, dropout=0.2)\n",
    "model_2    "
   ]
  },
  {
   "cell_type": "markdown",
   "id": "3fc791cb",
   "metadata": {},
   "source": [
    "Nothing has changed in the initialization, but we can now pass inputs through the network."
   ]
  },
  {
   "cell_type": "code",
   "execution_count": 52,
   "id": "21765264",
   "metadata": {},
   "outputs": [
    {
     "data": {
      "text/plain": [
       "tensor([-0.0135], grad_fn=<AddBackward0>)"
      ]
     },
     "execution_count": 52,
     "metadata": {},
     "output_type": "execute_result"
    }
   ],
   "source": [
    "model_2(fake_input)"
   ]
  },
  {
   "cell_type": "markdown",
   "id": "d7d66637",
   "metadata": {},
   "source": [
    "Now we can design more complex networks that don't have just one input."
   ]
  },
  {
   "cell_type": "markdown",
   "id": "091c08ec",
   "metadata": {},
   "source": [
    "## Encoder\n",
    "\n",
    "Now back to our autoencoder.\n",
    "First we define the encoder.\n",
    "We have an `nn.Embedding` layer and an `nn.GRU` layer. The encoder is built exactly like the RNN in the last notebook, except that here we explicitly write the network ourselves.\n",
    "\n",
    "Take a look at the `forward` function. As input it takes a `input_seq`, which is a sequence of tokens. The output is the last `hidden` state of the network. This describes the complete smiles and is also our latent vector."
   ]
  },
  {
   "cell_type": "code",
   "execution_count": 53,
   "id": "9250c4ef",
   "metadata": {},
   "outputs": [],
   "source": [
    "class Encoder(nn.Module):\n",
    "    def __init__(self, input_dim, emb_dim, hid_dim, dropout):\n",
    "        super().__init__()\n",
    "        self.hid_dim = hid_dim \n",
    "        self.embedding = nn.Embedding(input_dim, emb_dim) \n",
    "        self.rnn = nn.GRU(emb_dim, hid_dim)\n",
    "        self.dropout = nn.Dropout(dropout)\n",
    "        \n",
    "    def forward(self, input_seq):\n",
    "        embedded = self.dropout(self.embedding(input_seq))\n",
    "        outputs, hidden = self.rnn(embedded) \n",
    "        return hidden\n",
    "    "
   ]
  },
  {
   "cell_type": "markdown",
   "id": "1c6596e2",
   "metadata": {},
   "source": [
    "## Decoder \n",
    "\n",
    "The decoder is already a bit more complex.  If you don't understand the complete code, that's fine. As long as you can follow the general concept.\n",
    "Again we have an `Embedding` Layer and a `GRU` Layer, additionally there is a Linear Layer. This layer determines which token to generate based on the hidden state.\n",
    "\n",
    "In the `forward` pass there are two inputs. Once the `input`, this is the last token, which was predicted. At the beginning this is the`<sos>` token. `hidden` is the hidden state of the `GRU` from the previous step.\n",
    "`forward` outputs both the `prediction`, the predicted token, and `hidden`, the new hidden state."
   ]
  },
  {
   "cell_type": "code",
   "execution_count": 54,
   "id": "79bd2e6c",
   "metadata": {},
   "outputs": [],
   "source": [
    "class Decoder(nn.Module):\n",
    "    def __init__(self, output_dim, emb_dim, hid_dim, dropout):\n",
    "        super().__init__()\n",
    "\n",
    "        self.hid_dim = hid_dim\n",
    "        self.output_dim = output_dim\n",
    "        \n",
    "        self.embedding = nn.Embedding(output_dim, emb_dim)\n",
    "        self.rnn = nn.GRU(emb_dim, hid_dim)\n",
    "        self.fc_out = nn.Linear(hid_dim, output_dim)\n",
    "        self.dropout = nn.Dropout(dropout)\n",
    "        \n",
    "    def forward(self, input, hidden):\n",
    "        \n",
    "        input = input.unsqueeze(0)\n",
    "        \n",
    "        embedded = self.dropout(self.embedding(input))\n",
    "        output, hidden = self.rnn(embedded, hidden)\n",
    "        prediction = self.fc_out(output[0])\n",
    "        \n",
    "        return prediction, hidden"
   ]
  },
  {
   "cell_type": "markdown",
   "id": "4066a71d",
   "metadata": {},
   "source": [
    "Finally we merge both components in an `autoencoder`. As input this model takes a decoder and an encoder.  The autoencoder also has its own `forward` pass. First the input is passed through the encoder. The encoder provides us with the hidden state `hidden`. This hidden state is then used once at the beginning of the `for-loop` for the decoder. Also, we take the first column of `output_seq` as the first input to the decoder. This column consists of the `<sos>` tokens.\n",
    "\n",
    "Additionally, we introduce  teacher forcing. Teacher forcing is used during training to make it easier for the decoder to recover the full smiles. If the decoder suggests an incorrect token at the beginning of a smile, the decoder must continue computing with that incorrect token as input. This can be a problem especially at the beginning of the training, because many mistakes are made here. By using teacher forcing the predicted token is replaced by the correct token. Thus the decoder can continue to calculate with the correct token. Teacher forcing is  switched off during the evaluation. "
   ]
  },
  {
   "cell_type": "code",
   "execution_count": 55,
   "id": "4e885764",
   "metadata": {},
   "outputs": [],
   "source": [
    "  \n",
    "class Autoencoder(nn.Module):\n",
    "    def __init__(self, encoder, decoder):\n",
    "        super().__init__()\n",
    "        \n",
    "        self.encoder = encoder\n",
    "        self.decoder = decoder\n",
    "\n",
    "        \n",
    "    def forward(self, input_seq, output_seq, teacher_forcing_ratio = 0.5):\n",
    "        \n",
    "        # save parameters\n",
    "        batch_size = output_seq.shape[1]\n",
    "        trg_len = output_seq.shape[0]\n",
    "        trg_vocab_size = self.decoder.output_dim\n",
    "        outputs = torch.zeros(trg_len, batch_size, trg_vocab_size)\n",
    "        \n",
    "        \n",
    "        # Actual Forward Pass\n",
    "        \n",
    "        # The encoder calculates the hidden state/latent vector\n",
    "        hidden = self.encoder(input_seq)\n",
    "        \n",
    "        # As initial input for the decoder we select the <sos> tokens\n",
    "        input = output_seq[0,:]\n",
    "        \n",
    "        # The for-loop is used to generate the tokens one after the other.\n",
    "        for t in range(1, trg_len):\n",
    "\n",
    "            output, hidden = self.decoder(input, hidden)\n",
    "            outputs[t] = output\n",
    "            teacher_force = random.random() < teacher_forcing_ratio\n",
    "\n",
    "            top1 = output.argmax(1) \n",
    "\n",
    "            input = output_seq[t] if teacher_force else top1\n",
    "\n",
    "        return outputs"
   ]
  },
  {
   "cell_type": "markdown",
   "id": "7821c3f9",
   "metadata": {},
   "source": [
    "As already said, it's okay if you don't understand every detail in this case."
   ]
  },
  {
   "cell_type": "markdown",
   "id": "a55cdcc1",
   "metadata": {},
   "source": [
    "To create the autoencoder we first need to define our model."
   ]
  },
  {
   "cell_type": "code",
   "execution_count": 71,
   "id": "1ca47b95",
   "metadata": {
    "scrolled": false
   },
   "outputs": [
    {
     "data": {
      "text/plain": [
       "Autoencoder(\n",
       "  (encoder): Encoder(\n",
       "    (embedding): Embedding(25, 128)\n",
       "    (rnn): GRU(128, 256)\n",
       "    (dropout): Dropout(p=0.2, inplace=False)\n",
       "  )\n",
       "  (decoder): Decoder(\n",
       "    (embedding): Embedding(25, 128)\n",
       "    (rnn): GRU(128, 256)\n",
       "    (fc_out): Linear(in_features=256, out_features=25, bias=True)\n",
       "    (dropout): Dropout(p=0.2, inplace=False)\n",
       "  )\n",
       ")"
      ]
     },
     "execution_count": 71,
     "metadata": {},
     "output_type": "execute_result"
    }
   ],
   "source": [
    "torch.manual_seed(1234)\n",
    "enc = Encoder(len(dictionary), 128, 256, 0.2)\n",
    "dec = Decoder(len(dictionary),128,256,0.2)\n",
    "model = Autoencoder(enc, dec)\n",
    "model"
   ]
  },
  {
   "cell_type": "markdown",
   "id": "3e2656a3",
   "metadata": {},
   "source": [
    "You can clearly see the different components of the autoencoder.\n",
    "We also create a `DataLoader`. For $x$ and $y$ it uses same sequence, because we want to train an autoencoder which reconstructs $x$. We also store a sample batch `ex_in` and `ex_out`.\n",
    "\n",
    "Since we have so little data, we don\\`t use a test dataset."
   ]
  },
  {
   "cell_type": "code",
   "execution_count": 72,
   "id": "a861423a",
   "metadata": {},
   "outputs": [],
   "source": [
    "train_dataset = TensorDataset(tokenized_smiles, tokenized_smiles)\n",
    "train_loader = DataLoader(train_dataset, batch_size=16, shuffle=False)\n",
    "ex_in= ex_out = tokenized_smiles[:16,:]"
   ]
  },
  {
   "cell_type": "markdown",
   "id": "d359db0a",
   "metadata": {},
   "source": [
    "We define our optimizer and our loss function. Here we can also specify that the index `2` should be ignored when calculating the loss. This is the index for the `<pad>` token. "
   ]
  },
  {
   "cell_type": "code",
   "execution_count": 73,
   "id": "1d3ce4d0",
   "metadata": {},
   "outputs": [],
   "source": [
    "optimizer = optim.Adam(model.parameters())\n",
    "criterion = nn.CrossEntropyLoss(ignore_index = 2)"
   ]
  },
  {
   "cell_type": "markdown",
   "id": "4972aacc",
   "metadata": {},
   "source": [
    "The last step is the training loop. This is a regular `for-loop`, but we use the transpose of the `input_seq` and the `output_seq`. This is because the functions of the netowrks merge more easily this way. \n",
    "\n",
    "In the training loop itself, the quality of the generated smiles is evaluated every five epochs. It is evaluated based on how many generated smiles are valid and how many of them are actually identical to the input.\n",
    "\n",
    "This is done by the function `evaluate()`, which was pre-written for you."
   ]
  },
  {
   "cell_type": "code",
   "execution_count": 74,
   "id": "289de129",
   "metadata": {
    "scrolled": true
   },
   "outputs": [
    {
     "name": "stdout",
     "output_type": "stream",
     "text": [
      "Epoch 0: Loss: 1.8249785284419635 % Valid: 0.69 % Correct: 0.0 \n"
     ]
    },
    {
     "ename": "KeyboardInterrupt",
     "evalue": "",
     "output_type": "error",
     "traceback": [
      "\u001b[1;31m---------------------------------------------------------------------------\u001b[0m",
      "\u001b[1;31mKeyboardInterrupt\u001b[0m                         Traceback (most recent call last)",
      "\u001b[1;32m~\\AppData\\Local\\Temp/ipykernel_29436/4075865330.py\u001b[0m in \u001b[0;36m<module>\u001b[1;34m\u001b[0m\n\u001b[0;32m     20\u001b[0m         \u001b[0mloss\u001b[0m \u001b[1;33m=\u001b[0m \u001b[0mcriterion\u001b[0m\u001b[1;33m(\u001b[0m\u001b[0moutput\u001b[0m\u001b[1;33m,\u001b[0m  \u001b[0moutput_seq\u001b[0m\u001b[1;33m)\u001b[0m\u001b[1;33m\u001b[0m\u001b[1;33m\u001b[0m\u001b[0m\n\u001b[0;32m     21\u001b[0m \u001b[1;33m\u001b[0m\u001b[0m\n\u001b[1;32m---> 22\u001b[1;33m         \u001b[0mloss\u001b[0m\u001b[1;33m.\u001b[0m\u001b[0mbackward\u001b[0m\u001b[1;33m(\u001b[0m\u001b[1;33m)\u001b[0m\u001b[1;33m\u001b[0m\u001b[1;33m\u001b[0m\u001b[0m\n\u001b[0m\u001b[0;32m     23\u001b[0m \u001b[1;33m\u001b[0m\u001b[0m\n\u001b[0;32m     24\u001b[0m         \u001b[0moptimizer\u001b[0m\u001b[1;33m.\u001b[0m\u001b[0mstep\u001b[0m\u001b[1;33m(\u001b[0m\u001b[1;33m)\u001b[0m\u001b[1;33m\u001b[0m\u001b[1;33m\u001b[0m\u001b[0m\n",
      "\u001b[1;32m~\\anaconda3\\envs\\intro_kiv2\\lib\\site-packages\\torch\\_tensor.py\u001b[0m in \u001b[0;36mbackward\u001b[1;34m(self, gradient, retain_graph, create_graph, inputs)\u001b[0m\n\u001b[0;32m    253\u001b[0m                 \u001b[0mcreate_graph\u001b[0m\u001b[1;33m=\u001b[0m\u001b[0mcreate_graph\u001b[0m\u001b[1;33m,\u001b[0m\u001b[1;33m\u001b[0m\u001b[1;33m\u001b[0m\u001b[0m\n\u001b[0;32m    254\u001b[0m                 inputs=inputs)\n\u001b[1;32m--> 255\u001b[1;33m         \u001b[0mtorch\u001b[0m\u001b[1;33m.\u001b[0m\u001b[0mautograd\u001b[0m\u001b[1;33m.\u001b[0m\u001b[0mbackward\u001b[0m\u001b[1;33m(\u001b[0m\u001b[0mself\u001b[0m\u001b[1;33m,\u001b[0m \u001b[0mgradient\u001b[0m\u001b[1;33m,\u001b[0m \u001b[0mretain_graph\u001b[0m\u001b[1;33m,\u001b[0m \u001b[0mcreate_graph\u001b[0m\u001b[1;33m,\u001b[0m \u001b[0minputs\u001b[0m\u001b[1;33m=\u001b[0m\u001b[0minputs\u001b[0m\u001b[1;33m)\u001b[0m\u001b[1;33m\u001b[0m\u001b[1;33m\u001b[0m\u001b[0m\n\u001b[0m\u001b[0;32m    256\u001b[0m \u001b[1;33m\u001b[0m\u001b[0m\n\u001b[0;32m    257\u001b[0m     \u001b[1;32mdef\u001b[0m \u001b[0mregister_hook\u001b[0m\u001b[1;33m(\u001b[0m\u001b[0mself\u001b[0m\u001b[1;33m,\u001b[0m \u001b[0mhook\u001b[0m\u001b[1;33m)\u001b[0m\u001b[1;33m:\u001b[0m\u001b[1;33m\u001b[0m\u001b[1;33m\u001b[0m\u001b[0m\n",
      "\u001b[1;32m~\\anaconda3\\envs\\intro_kiv2\\lib\\site-packages\\torch\\autograd\\__init__.py\u001b[0m in \u001b[0;36mbackward\u001b[1;34m(tensors, grad_tensors, retain_graph, create_graph, grad_variables, inputs)\u001b[0m\n\u001b[0;32m    147\u001b[0m     Variable._execution_engine.run_backward(\n\u001b[0;32m    148\u001b[0m         \u001b[0mtensors\u001b[0m\u001b[1;33m,\u001b[0m \u001b[0mgrad_tensors_\u001b[0m\u001b[1;33m,\u001b[0m \u001b[0mretain_graph\u001b[0m\u001b[1;33m,\u001b[0m \u001b[0mcreate_graph\u001b[0m\u001b[1;33m,\u001b[0m \u001b[0minputs\u001b[0m\u001b[1;33m,\u001b[0m\u001b[1;33m\u001b[0m\u001b[1;33m\u001b[0m\u001b[0m\n\u001b[1;32m--> 149\u001b[1;33m         allow_unreachable=True, accumulate_grad=True)  # allow_unreachable flag\n\u001b[0m\u001b[0;32m    150\u001b[0m \u001b[1;33m\u001b[0m\u001b[0m\n\u001b[0;32m    151\u001b[0m \u001b[1;33m\u001b[0m\u001b[0m\n",
      "\u001b[1;31mKeyboardInterrupt\u001b[0m: "
     ]
    }
   ],
   "source": [
    "random.seed(1234)\n",
    "for epoch in range(100):\n",
    "    epoch_loss = 0\n",
    "\n",
    "    model.train()\n",
    "    for input_seq, output_seq in train_loader:\n",
    "        optimizer.zero_grad()        \n",
    "        \n",
    "        input_seq = input_seq.t()\n",
    "        output_seq = output_seq.t()\n",
    "\n",
    "\n",
    "        output = model(input_seq, output_seq, 0.2)\n",
    "        \n",
    "        \n",
    "        output_dim = output.shape[-1]\n",
    "        output = output[1:].reshape(-1, output_dim)\n",
    "        output_seq =  output_seq[1:].reshape(-1)\n",
    "        \n",
    "        loss = criterion(output,  output_seq)\n",
    "\n",
    "        loss.backward()\n",
    "\n",
    "        optimizer.step()\n",
    "\n",
    "        epoch_loss += loss.item()\n",
    "    if (epoch%5==0):\n",
    "        valid, correct=evaluate(model, train_loader, dictionary)\n",
    "        print(f\"Epoch {epoch}: Loss: {epoch_loss /len(train_loader)} % Valid: {valid.round(2)} % Correct: {correct.round(2)} \")\n",
    "    else:\n",
    "        print(f\"Epoch {epoch}: Loss: {epoch_loss /len(train_loader)}\")\n",
    "    "
   ]
  },
  {
   "cell_type": "markdown",
   "id": "2e8e7898",
   "metadata": {},
   "source": [
    "Now we can see how good our model really is. For the evaluation teacher forcing is turned off."
   ]
  },
  {
   "cell_type": "code",
   "execution_count": null,
   "id": "ad9960b7",
   "metadata": {},
   "outputs": [],
   "source": [
    "evaluate(model,train_loader, dictionary)"
   ]
  },
  {
   "cell_type": "markdown",
   "id": "6ef0a59b",
   "metadata": {},
   "source": [
    "Our autoencoder actually generates valid smiles. Many of the generated smiles are actually identical to the input smiles.\n",
    "\n",
    "Autoencoders are difficult to train, especially for languages or Smiles. The grammar of Smiles has to be learned first. This actually requires much more data. Moreover, we use a very simple model. Nevertheless, we can take a closer look at the network.\n",
    "\n",
    "For example, we can look at the predictions for our `ex_in` batch."
   ]
  },
  {
   "cell_type": "code",
   "execution_count": null,
   "id": "777e9147",
   "metadata": {
    "scrolled": false
   },
   "outputs": [],
   "source": [
    "model.eval()\n",
    "pred = model(ex_in.t(), ex_out.t(), 0)\n",
    "pred_tokens =pred.argmax(2).t().detach().numpy()\n",
    "\n",
    "pred_tokens[:2]"
   ]
  },
  {
   "cell_type": "markdown",
   "id": "52aab6c9",
   "metadata": {},
   "source": [
    "For comparison, the original smiles:"
   ]
  },
  {
   "cell_type": "code",
   "execution_count": null,
   "id": "44ebbe26",
   "metadata": {
    "scrolled": true
   },
   "outputs": [],
   "source": [
    "ex_out[:2]"
   ]
  },
  {
   "cell_type": "markdown",
   "id": "6f4cf015",
   "metadata": {},
   "source": [
    "The function `token_to_smiles` converts the tokens back to smiles:\n",
    "This is what the predicted smiles look like:"
   ]
  },
  {
   "cell_type": "code",
   "execution_count": null,
   "id": "3d53675f",
   "metadata": {},
   "outputs": [],
   "source": [
    "pred_smiles = tokens_to_smiles(pred_tokens,dictionary )\n",
    "true_smiles = tokens_to_smiles(ex_out.detach().numpy(), dictionary)\n",
    "pd.DataFrame({\"true\":true_smiles, \"pred\": pred_smiles })"
   ]
  },
  {
   "cell_type": "markdown",
   "id": "394bbf42",
   "metadata": {},
   "source": [
    "In fact, most smiles are identical to the original. But there are also deviating smiles. The smiles with index 8 is not identical and is not even a valid Smiles."
   ]
  },
  {
   "cell_type": "markdown",
   "id": "387e109c",
   "metadata": {},
   "source": [
    "# Generate new molecules\n",
    "\n",
    "We have a decoder that can generate valid molecules from our hidden states/latent vectors. \n",
    "So far, we have obtained the latent vectors by passing known smiles through the encoder. But what's stopping us from generating random latent vectors and seeing what the decoder generates from them? Our hidden states/latent vectors have this size:"
   ]
  },
  {
   "cell_type": "code",
   "execution_count": null,
   "id": "2d757c38",
   "metadata": {},
   "outputs": [],
   "source": [
    "latent_vectors =  model.encoder(ex_in.t()).detach().numpy()\n",
    "latent_vectors.shape"
   ]
  },
  {
   "cell_type": "markdown",
   "id": "2b9d6fa2",
   "metadata": {},
   "source": [
    "We can simply create an alternative latent `tensor`. We fill this one with random numbers."
   ]
  },
  {
   "cell_type": "code",
   "execution_count": null,
   "id": "300dee35",
   "metadata": {},
   "outputs": [],
   "source": [
    "torch.manual_seed(5489786)\n",
    "hidden = torch.randn(1,16,256)"
   ]
  },
  {
   "cell_type": "markdown",
   "id": "0f06f0a1",
   "metadata": {},
   "source": [
    "We use this instead of the original `tensor` as input for the decoder.\n",
    "The decoder should now try to generate new smiles from this random data. Since the hidden state was chosen randomly, the generated molecules shouldnot be part of our original data set. This is one example of de novo design."
   ]
  },
  {
   "cell_type": "code",
   "execution_count": null,
   "id": "bb19eac8",
   "metadata": {},
   "outputs": [],
   "source": [
    "outputs = torch.zeros(26, 16, len(dictionary))\n",
    "input_ = ex_out.t()[0,:] #<- [\"<sos>\"] Tokens\n",
    "for t in range(1, 26):\n",
    "    output, hidden = model.decoder(input_, hidden)\n",
    "    outputs[t] = output\n",
    "    input_ = output.argmax(1) \n",
    "\n"
   ]
  },
  {
   "cell_type": "code",
   "execution_count": null,
   "id": "ea0ada4f",
   "metadata": {
    "scrolled": true
   },
   "outputs": [],
   "source": [
    "pred_tokens = outputs.argmax(2).t().detach().numpy()\n",
    "new_smiles = tokens_to_smiles(pred_tokens, dictionary)\n",
    "new_smiles"
   ]
  },
  {
   "cell_type": "markdown",
   "id": "6ceb7109",
   "metadata": {},
   "source": [
    "In fact, none of these molecules are included in our data set. This is mainly because most of them are not valid molecules. \n",
    "\n",
    "The problem is mainly that the latent space, i.e. the total space that can be described by our latent vectors, is too large. It will be very difficult to find random numbers that give a valid molecule.\n",
    "\n",
    "To really generate molecules effectively using autoencoders, we need much more data. That way the grammar of smiles can be learned better. Also, so-called variational autoencoders (VAEs) are most commonly used. These \"force\" the latent space into a predefined space. If one then chooses random numbers within the same defined space, the probability that the generated smiles is a valid molecule is higher."
   ]
  },
  {
   "cell_type": "markdown",
   "id": "67a0bd08",
   "metadata": {},
   "source": [
    "# Übungsaufgabe\n",
    "\n",
    "Today\\`s exercise is not about autoencoders. The task is to rewrite an `nn.Sequential` model into a working PyTorch class.\n",
    "\n",
    "The model looks like this:"
   ]
  },
  {
   "cell_type": "code",
   "execution_count": null,
   "id": "23af7b33",
   "metadata": {},
   "outputs": [],
   "source": [
    "from rdkit.Chem.Draw import MolsToGridImage\n",
    "from rdkit.Chem import AllChem as Chem\n",
    "from rdkit import DataStructs\n",
    "from rdkit import RDLogger  \n",
    "import pandas as pd\n",
    "import numpy as np\n",
    "import torch\n",
    "from torch import nn, optim\n",
    "from torch.utils.data import DataLoader, TensorDataset\n",
    "import seaborn as sns\n",
    "from matplotlib import pyplot as plt\n",
    "from sklearn.metrics.pairwise import cosine_similarity\n",
    "RDLogger.DisableLog('rdApp.*')      \n",
    "%run ../utils/utils.py"
   ]
  },
  {
   "cell_type": "code",
   "execution_count": null,
   "id": "78798f90",
   "metadata": {
    "scrolled": false
   },
   "outputs": [],
   "source": [
    "model_1 =nn.Sequential(nn.Linear(20,100),\n",
    "              nn.BatchNorm1d(100),\n",
    "              nn.ReLU(),\n",
    "              nn.Dropout(0.2),\n",
    "              nn.Linear(100,100),\n",
    "              nn.BatchNorm1d(100),\n",
    "              nn.ReLU(),\n",
    "              nn.Linear(100,10))\n",
    "model_1"
   ]
  },
  {
   "cell_type": "markdown",
   "id": "fd1d7fc2",
   "metadata": {},
   "source": [
    "Rewrite the model. Note that `nn.ReLU` does not work in `forward`. Please use `nn.functional.relu()`. It is also important to know that `__init__` can have as many input parameters as you want, for example you can write `__init__` like this:\n",
    "`__init__(self, input_dim, hid1_dim, hid2_dim, ________)` to initialize multiple hidden layers."
   ]
  },
  {
   "cell_type": "code",
   "execution_count": null,
   "id": "37e7b6f4",
   "metadata": {
    "scrolled": true
   },
   "outputs": [],
   "source": [
    "class simple_nn(________):\n",
    "    def __init__(self, ___________________________________________):\n",
    "        super().__init__()\n",
    "        \n",
    "    def forward()    "
   ]
  },
  {
   "cell_type": "code",
   "execution_count": null,
   "id": "d0b530bb",
   "metadata": {},
   "outputs": [],
   "source": [
    "model_2 = simple_nn(______________________________)"
   ]
  },
  {
   "cell_type": "markdown",
   "id": "19448f95",
   "metadata": {},
   "source": [
    "Test if your model generates an output."
   ]
  },
  {
   "cell_type": "code",
   "execution_count": null,
   "id": "a3ccd084",
   "metadata": {},
   "outputs": [],
   "source": [
    "torch.manual_seed(213)\n",
    "test_data = torch.randn(100,20)\n",
    "\n",
    "model_2(test_data)"
   ]
  },
  {
   "cell_type": "code",
   "execution_count": null,
   "id": "f80aa488",
   "metadata": {},
   "outputs": [],
   "source": [
    "list(model.parameters())[10]"
   ]
  }
 ],
 "metadata": {
  "kernelspec": {
   "display_name": "Python 3 (ipykernel)",
   "language": "python",
   "name": "python3"
  },
  "language_info": {
   "codemirror_mode": {
    "name": "ipython",
    "version": 3
   },
   "file_extension": ".py",
   "mimetype": "text/x-python",
   "name": "python",
   "nbconvert_exporter": "python",
   "pygments_lexer": "ipython3",
   "version": "3.7.11"
  }
 },
 "nbformat": 4,
 "nbformat_minor": 5
}
